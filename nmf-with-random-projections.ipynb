{
 "cells": [
  {
   "cell_type": "code",
   "execution_count": 1,
   "metadata": {},
   "outputs": [],
   "source": [
    "import numpy as np\n",
    "import pandas as pd\n",
    "import plotly.graph_objects as go\n",
    "from plotly.subplots import make_subplots\n",
    "\n",
    "import timeit\n",
    "import math\n",
    "\n",
    "from archive.randomized_projected_nmf import *\n",
    "from random_matrix import *\n",
    "from nmf import * \n",
    "from benchmark import *\n",
    "from collections import defaultdict"
   ]
  },
  {
   "cell_type": "markdown",
   "metadata": {},
   "source": [
    "**Overview of Algorithms**\n",
    "\n",
    "1. NNLS: Active Set Method\n",
    "    - i) Randomized Projected NMF\n",
    "        * a) Gaussian Test Matrix\n",
    "        * b) SRHT Test Matrix\n",
    "        * c) SRFT Test Matrix\n",
    "        * d) Count Sketch Matrix\n",
    "        * e) Sparse JL\n",
    "    - ii) Structured Random Projected NMF\n",
    "        * a) Gaussian Test Matrix\n",
    "        * b) SRHT Test Matrix\n",
    "        * c) SRFT Test Matrix\n",
    "        * d) Count Sketch Matrix\n",
    "        * e) Sparse JL\n",
    "2. Muliplicative Updates\n",
    "    - i) Randomized Projected NMF\n",
    "        * a) Gaussian Test Matrix\n",
    "        * b) SRHT Test Matrix\n",
    "        * c) SRFT Test Matrix\n",
    "        * d) Count Sketch Matrix\n",
    "        * e) Sparse JL\n",
    "    - ii) Structured Random Projected NMF\n",
    "        * a) Gaussian Test Matrix\n",
    "        * b) SRHT Test Matrix\n",
    "        * c) SRFT Test Matrix\n",
    "        * d) Count Sketch Matrix\n",
    "        * e) Sparse JL"
   ]
  },
  {
   "cell_type": "code",
   "execution_count": null,
   "metadata": {},
   "outputs": [],
   "source": [
    "methods = {\n",
    "    \"MU C\": nmf_compress_mu,\n",
    "    'MU SC': nmf_structured_compress_mu,\n",
    "    'HALS C': nmf_compress_hals,\n",
    "    'HALS SC': nmf_structured_compress_hals\n",
    "}\n",
    "\n",
    "projection_types = [\n",
    "    'gaussian',\n",
    "    'srht',\n",
    "    'srft',\n",
    "    'sparse-jl',\n",
    "    'count-sketch',\n",
    "]\n",
    "\n",
    "stats = {\n",
    "    'time': {method: defaultdict(list) for method in methods},\n",
    "    'errors': {method: defaultdict(list) for method in methods},\n",
    "}\n",
    "\n",
    "# Parameters\n",
    "sizes = np.arange(1_00, 1_001, 1_00)\n",
    "runs = 10\n",
    "r = 20\n",
    "for n in sizes:\n",
    "    # Generate A (n x 0.75n)\n",
    "    np.random.seed(1)\n",
    "    A, _, _= generate_synthetic_matrix(n,r,delta = 1.0)\n",
    "    for method_name, method in methods.items():\n",
    "        for projection in projection_types:\n",
    "            total_times = [] \n",
    "            total_errors = []       \n",
    "            for i in range(runs):\n",
    "                # Set seed per run\n",
    "                seed = i + 1\n",
    "                \n",
    "                # Time NMF Method\n",
    "                start_time = timeit.default_timer()\n",
    "                _, _, errors = method(A, r, random_state=seed,projection_type = projection)\n",
    "                time = timeit.default_timer() - start_time\n",
    "\n",
    "                # Store\n",
    "                total_times.append(time)\n",
    "                total_errors.append(errors[-1])\n",
    "            \n",
    "            # Store average times\n",
    "            stats['time'][method_name][projection].append(np.mean(total_times))\n",
    "            stats['errors'][method_name][projection].append(np.mean(total_errors))\n",
    "    \n",
    "    print(f'Completed benchmarking for matrix size: {n}')"
   ]
  },
  {
   "cell_type": "code",
   "execution_count": null,
   "metadata": {},
   "outputs": [],
   "source": [
    "mu_errors_df = pd.DataFrame(stats['errors']['HALS SC'],index = sizes)\n",
    "mu_times_df = pd.DataFrame(stats['time']['HALS SC'],index = sizes)"
   ]
  },
  {
   "cell_type": "code",
   "execution_count": null,
   "metadata": {},
   "outputs": [],
   "source": [
    "import plotly.graph_objects as go\n",
    "from plotly.subplots import make_subplots\n",
    "\n",
    "\n",
    "fig = make_subplots(rows=1, cols=2)\n",
    "\n",
    "# Add time traces (left plot) with assigned colors\n",
    "for method in mu_times_df.columns:\n",
    "    fig.add_trace(\n",
    "        go.Scatter(\n",
    "            x=mu_times_df.index,\n",
    "            y=mu_times_df[method],\n",
    "            name=method,\n",
    "            legendgroup=method,\n",
    "            showlegend=True,  # Explicit color assignment\n",
    "        ),\n",
    "        row=1, col=1\n",
    "    )\n",
    "\n",
    "# Add error traces (right plot) with same colors\n",
    "for method in mu_errors_df.columns:\n",
    "    fig.add_trace(\n",
    "        go.Scatter(\n",
    "            x=mu_errors_df.index,\n",
    "            y=mu_errors_df[method],\n",
    "            name=method,\n",
    "            legendgroup=method,\n",
    "            showlegend=False,# Same color as left plot\n",
    "        ),\n",
    "        row=1, col=2\n",
    "    )\n",
    "\n",
    "fig.update_layout(\n",
    "    title='Computation Time and Reconstruction Error by Method',\n",
    "    xaxis_title='Size (n)',\n",
    "    yaxis_title='Time (s)',\n",
    "    xaxis2_title='Size (n)',\n",
    "    yaxis2_title='Reconstruction Error',\n",
    "\n",
    ")\n",
    "\n",
    "\"\"\"    \n",
    "legend=dict(\n",
    "    orientation=\"h\",\n",
    "    yanchor=\"bottom\",\n",
    "    y=1.1,\n",
    "    xanchor=\"center\",\n",
    "    x=0.5\n",
    ")\n",
    "\n",
    "\"\"\"\n",
    "fig.show()"
   ]
  },
  {
   "cell_type": "markdown",
   "metadata": {},
   "source": [
    "**Random Matrix Projection Algorithms**\n",
    "\n",
    "First, we compare the compression time for each of the tested matrix transformation techinques. Specifically, we show the run times of only computing the initial matrix projection for both random projection and structured random projection using RPI."
   ]
  },
  {
   "cell_type": "markdown",
   "metadata": {},
   "source": [
    "*Standard Randomized Projection*"
   ]
  },
  {
   "cell_type": "code",
   "execution_count": 5,
   "metadata": {},
   "outputs": [
    {
     "name": "stdout",
     "output_type": "stream",
     "text": [
      "Calculating for Matrix of Size: 100\n",
      "Calculating for Matrix of Size: 200\n",
      "Calculating for Matrix of Size: 300\n",
      "Calculating for Matrix of Size: 400\n",
      "Calculating for Matrix of Size: 500\n",
      "Calculating for Matrix of Size: 600\n",
      "Calculating for Matrix of Size: 700\n",
      "Calculating for Matrix of Size: 800\n",
      "Calculating for Matrix of Size: 900\n",
      "Calculating for Matrix of Size: 1000\n",
      "Calculating for Matrix of Size: 1100\n",
      "Calculating for Matrix of Size: 1200\n",
      "Calculating for Matrix of Size: 1300\n",
      "Calculating for Matrix of Size: 1400\n",
      "Calculating for Matrix of Size: 1500\n",
      "Calculating for Matrix of Size: 1600\n",
      "Calculating for Matrix of Size: 1700\n",
      "Calculating for Matrix of Size: 1800\n",
      "Calculating for Matrix of Size: 1900\n",
      "Calculating for Matrix of Size: 2000\n",
      "Calculating for Matrix of Size: 2100\n",
      "Calculating for Matrix of Size: 2200\n",
      "Calculating for Matrix of Size: 2300\n",
      "Calculating for Matrix of Size: 2400\n",
      "Calculating for Matrix of Size: 2500\n",
      "Calculating for Matrix of Size: 2600\n",
      "Calculating for Matrix of Size: 2700\n",
      "Calculating for Matrix of Size: 2800\n",
      "Calculating for Matrix of Size: 2900\n",
      "Calculating for Matrix of Size: 3000\n",
      "Calculating for Matrix of Size: 3100\n",
      "Calculating for Matrix of Size: 3200\n",
      "Calculating for Matrix of Size: 3300\n",
      "Calculating for Matrix of Size: 3400\n",
      "Calculating for Matrix of Size: 3500\n",
      "Calculating for Matrix of Size: 3600\n",
      "Calculating for Matrix of Size: 3700\n",
      "Calculating for Matrix of Size: 3800\n",
      "Calculating for Matrix of Size: 3900\n",
      "Calculating for Matrix of Size: 4000\n",
      "Calculating for Matrix of Size: 4100\n",
      "Calculating for Matrix of Size: 4200\n",
      "Calculating for Matrix of Size: 4300\n",
      "Calculating for Matrix of Size: 4400\n",
      "Calculating for Matrix of Size: 4500\n",
      "Calculating for Matrix of Size: 4600\n",
      "Calculating for Matrix of Size: 4700\n",
      "Calculating for Matrix of Size: 4800\n",
      "Calculating for Matrix of Size: 4900\n",
      "Calculating for Matrix of Size: 5000\n",
      "Calculating for Matrix of Size: 5100\n",
      "Calculating for Matrix of Size: 5200\n",
      "Calculating for Matrix of Size: 5300\n",
      "Calculating for Matrix of Size: 5400\n",
      "Calculating for Matrix of Size: 5500\n",
      "Calculating for Matrix of Size: 5600\n",
      "Calculating for Matrix of Size: 5700\n",
      "Calculating for Matrix of Size: 5800\n",
      "Calculating for Matrix of Size: 5900\n",
      "Calculating for Matrix of Size: 6000\n",
      "Calculating for Matrix of Size: 6100\n",
      "Calculating for Matrix of Size: 6200\n",
      "Calculating for Matrix of Size: 6300\n",
      "Calculating for Matrix of Size: 6400\n",
      "Calculating for Matrix of Size: 6500\n",
      "Calculating for Matrix of Size: 6600\n",
      "Calculating for Matrix of Size: 6700\n",
      "Calculating for Matrix of Size: 6800\n",
      "Calculating for Matrix of Size: 6900\n",
      "Calculating for Matrix of Size: 7000\n",
      "Calculating for Matrix of Size: 7100\n",
      "Calculating for Matrix of Size: 7200\n",
      "Calculating for Matrix of Size: 7300\n",
      "Calculating for Matrix of Size: 7400\n",
      "Calculating for Matrix of Size: 7500\n",
      "Calculating for Matrix of Size: 7600\n",
      "Calculating for Matrix of Size: 7700\n",
      "Calculating for Matrix of Size: 7800\n",
      "Calculating for Matrix of Size: 7900\n",
      "Calculating for Matrix of Size: 8000\n",
      "Calculating for Matrix of Size: 8100\n",
      "Calculating for Matrix of Size: 8200\n",
      "Calculating for Matrix of Size: 8300\n",
      "Calculating for Matrix of Size: 8400\n",
      "Calculating for Matrix of Size: 8500\n",
      "Calculating for Matrix of Size: 8600\n",
      "Calculating for Matrix of Size: 8700\n",
      "Calculating for Matrix of Size: 8800\n",
      "Calculating for Matrix of Size: 8900\n",
      "Calculating for Matrix of Size: 9000\n",
      "Calculating for Matrix of Size: 9100\n",
      "Calculating for Matrix of Size: 9200\n",
      "Calculating for Matrix of Size: 9300\n",
      "Calculating for Matrix of Size: 9400\n",
      "Calculating for Matrix of Size: 9500\n",
      "Calculating for Matrix of Size: 9600\n",
      "Calculating for Matrix of Size: 9700\n",
      "Calculating for Matrix of Size: 9800\n",
      "Calculating for Matrix of Size: 9900\n",
      "Calculating for Matrix of Size: 10000\n"
     ]
    }
   ],
   "source": [
    "sizes = np.arange(100, 10_001, 100)\n",
    "runs = 10\n",
    "k = 100\n",
    "methods = {\n",
    "    \"Gaussian\": gaussian_random_matrix,\n",
    "    \"SRHT\": srht_matrix,\n",
    "    \"SRFT\": srft_matrix,\n",
    "    \"CountSketch\": countsketch_matrix,\n",
    "    \"Sparse JL\": lambda n, k, seed: sparse_jl_matrix(n, k, s=3, seed=seed)\n",
    "}\n",
    "times = {method: [] for method in methods}\n",
    "\n",
    "for n in sizes:\n",
    "    # Generate Random Matrix A to Project\n",
    "    np.random.seed(1)\n",
    "    A = np.random.randn(n, k)\n",
    "\n",
    "    for method_name, method in methods.items():\n",
    "        run_times = []\n",
    "        for i in range(runs):\n",
    "            seed = i + 1\n",
    "\n",
    "            # Get Projection Matrix\n",
    "            sigma = method(k, n, seed=seed)\n",
    "            \n",
    "            # Time Methods\n",
    "            timer = timeit.Timer(lambda: sigma @ A)\n",
    "            # Average over 10 runs\n",
    "            runtime = timer.timeit(number=10) / 10\n",
    "            \n",
    "            run_times.append(runtime)\n",
    "        times[method_name].append(np.mean(run_times))\n",
    "    print(f'Calculating for Matrix of Size: {n}')"
   ]
  },
  {
   "cell_type": "markdown",
   "metadata": {},
   "source": [
    "*Plot: Standard Random Projections*"
   ]
  },
  {
   "cell_type": "code",
   "execution_count": 6,
   "metadata": {},
   "outputs": [],
   "source": [
    "times_df = pd.DataFrame(times,index = sizes)"
   ]
  },
  {
   "cell_type": "code",
   "execution_count": 7,
   "metadata": {},
   "outputs": [
    {
     "data": {
      "application/vnd.plotly.v1+json": {
       "config": {
        "plotlyServerURL": "https://plot.ly"
       },
       "data": [
        {
         "name": "Gaussian",
         "type": "scatter",
         "x": {
          "bdata": "ZADIACwBkAH0AVgCvAIgA4QD6ANMBLAEFAV4BdwFQAakBggHbAfQBzQImAj8CGAJxAkoCowK8ApUC7gLHAyADOQMSA2sDRAOdA7YDjwPoA8EEGgQzBAwEZQR+BFcEsASJBOIE+wTUBS0FBgVfBXgFUQWqBYMF3AX1Bc4GJwYABlkGcgZLBqQGvQaWBu8GyAchBzoHEwdsB0UHnge3B5AH6QfCCBsINAgNCGYIfwhYCLEIigjjCPwI1QkuCQcJYAl5CVIJqwmECc=",
          "dtype": "i2"
         },
         "y": {
          "bdata": "PgrXo4PxAD8VrkfhQKAHP+B6FC57Yw8/zMzMTB72Ej/rUbjeS84UP1K4HoUn4hc/KVyPwshIGT/2KFwPyZMbPxWuR2F8Ix0/mpmZGcdTHz+uR+Fa2aUgP4brUdibmSI/hetROMDjIz+uR+E6D5EkPxSuR4GKrSc/PgrXY0MlKD+PwvWoBu0nPwrXoxCzeyg/IIXr8XO9KT+jcD1qrsQtP/UoXO8mXCs/61G4voVTLj/iehRuQZMtP9ejcH0VpjA/XI/CVe5oMD8BAABAlJAxPwrXoyBW9DE/mpmZ+d3FMj+F61GoPd4xP4/C9dgLvjY/o3A9eomBMz+amZnJhOszPz4K1wMb8zQ/cD0Kl5EhNz9mZmbm1lc2P6RwPdqs/zU/exSud1BENz+uR+HaXDI3P1K4HjUuajc/SOF6JG5aOD81MzPzOQo/P9ajcM1A1Dk/uB6Fy0XcOT/Wo3AdsWw/PwAAAOAPADs/61G47jDCOz9xPQpPNWZBP+tRuH4A1Tw/PgrXE3BbPT8K16PAitw+P/UoXN9z9T0/cj0K9zBJPz8zMzNDhpI/P8L1KAyQM0A/w/UovKGdQT/hehTuJGlBP9ejcA3Cb0I/Z2Zmzt8mQT9yPQqH/nFBP83MzEQsPEE/zczMlB8yQT+amZlhJuJBP2ZmZj4dPkI/SOF6JLLNRT/2KFwftORCP2ZmZv5omEc/rkfhoqcmQz9xPQpH+v5HPwrXo3DX90M/uB6Fa4LBSD/NzMyMz1VEP8L1KEyUnkg/zszM7OkORT98FK6vxfJHP4brUXDirkU/4XoURu1TRT/////vJYpJPx6F67HdBUY/jsL1SJFZRj/2KFyvazxHP87MzPTLBEw/CtejeKEMRz9mZmauyntIPwEAAChlcEk/KVyPutHeSD/2KFynJztMP/YoXHfcs0g/PgrXe04rST+tR+HKDElNPz0K1wuFckw/cD0Kl83uST9dj8K1qlBNP2ZmZvZtlUs/rUfhIlgQSz/gehQ+jLpNP+tRuG6yYUs/UrgeRcOKTD9dj8KV9D9PP3A9Cg8ewUs/61G4FtupSz8=",
          "dtype": "f8"
         }
        },
        {
         "name": "SRHT",
         "type": "scatter",
         "x": {
          "bdata": "ZADIACwBkAH0AVgCvAIgA4QD6ANMBLAEFAV4BdwFQAakBggHbAfQBzQImAj8CGAJxAkoCowK8ApUC7gLHAyADOQMSA2sDRAOdA7YDjwPoA8EEGgQzBAwEZQR+BFcEsASJBOIE+wTUBS0FBgVfBXgFUQWqBYMF3AX1Bc4GJwYABlkGcgZLBqQGvQaWBu8GyAchBzoHEwdsB0UHnge3B5AH6QfCCBsINAgNCGYIfwhYCLEIigjjCPwI1QkuCQcJYAl5CVIJqwmECc=",
          "dtype": "i2"
         },
         "y": {
          "bdata": "pXA9Chux/j4AAAAAZmwIP+tRuB7EPQ8/pHA9SrhoEj/Xo3C9SY0VP3A9CpftyRc/cT0K1264GD97FK6H5D4bP9ajcD3TnR0/KVyPAgQJID96FK6nLnAhP3E9CneHNyI/PQrXo2uoJj9cj8LVsn8lP4TrUfj7/SY/UrgepQmtJz/NzMxMk/knPzMzM5NbeSo/KVyPotGPKT8AAAAg/8ovP/UoXK+38ys/1qNwPUB5LT+F61GYZ4MuP83MzGyibi4/9ihcH1gPMT/rUbguHX0wPx+F62HJazE/4XoUrs6PMT8BAAAAHDwyP5DC9dgB1TQ/KFyPAsMDND9SuB4VjNg0P8P1KDxjnDU/CtejQP5dNT+amZmJa4I2P+J6FM6FvzY/mpmZmYtJNj/Xo3DdA803P5DC9bjOHDg/wvUorPwyOD/rUbg+IZ45P/UoXM+a3jk/mpmZyVaSOj8ehevxKUc7Pyhcj/LQ3zo/Fa5HgfxEPD+lcD3a1Pc8P2ZmZgbx1Tw/zczM7Jm9PT8zMzNDh7Q+P/UoXN984z4/zszMxOFfQz9I4XrU84JAP1K4HhUdrUA/UrgeFfUwQT8BAACYIFhCP5DC9ejkgUI/UrgejeV0QT9wPQrXS3RCP9ejcBXNtEE/1qNwrS/BQj/Xo3CNcOtCP6RwPZI1HUM/H4Xr6ZNlQz9cj8Kd6RtEP1uPwmXOzUM/AQAA6PDbQz+E61EwVy9EPwrXo4BNZkQ/H4Xr+RDQRD/sUbien3xGP5qZmTGvHkU/////J1UDRj+ZmZmRHeFFP/YoXIfAA0Y/mpmZIUJ1Rj+4HoUDLp9HP/YoXIdG8UY/1qNwvSySSz9wPQq32NZHP5qZmamEEEg/ZmZm/peRSD9xPQofrrFIP12PwoVtmEw/FK5HGZtOST/D9ShcEqxJP8P1KHzS+0k/HoXrwb3rST8oXI8yo5RKPwrXo+jEIEs/wvUoJK2+Sz8AAACApCpLP7gehatDNkw/E65HkXE5TD/NzMw8spZLP+B6FG5lf0w/E65HAdBRTD8K16Mo8WBLP5qZmdH6R04/KFyPCrh6TT8=",
          "dtype": "f8"
         }
        },
        {
         "name": "SRFT",
         "type": "scatter",
         "x": {
          "bdata": "ZADIACwBkAH0AVgCvAIgA4QD6ANMBLAEFAV4BdwFQAakBggHbAfQBzQImAj8CGAJxAkoCowK8ApUC7gLHAyADOQMSA2sDRAOdA7YDjwPoA8EEGgQzBAwEZQR+BFcEsASJBOIE+wTUBS0FBgVfBXgFUQWqBYMF3AX1Bc4GJwYABlkGcgZLBqQGvQaWBu8GyAchBzoHEwdsB0UHnge3B5AH6QfCCBsINAgNCGYIfwhYCLEIigjjCPwI1QkuCQcJYAl5CVIJqwmECc=",
          "dtype": "i2"
         },
         "y": {
          "bdata": "hetRuAuk/D7iehQupyAJP5DC9Sjx1A4/uR6FawZDEz8AAAAAhJQUPylcj8KqFBc/9ihcD2DsGD+F61G4lLsbP5DC9WgFkB4/ZmZm5mOSHz/iehROATogP8P1KHx5QyI/Fa5HgR8SJD9SuB6l/fwlP3sUrsfp1yU/H4XrkZXaJj+amZkZhQ0nP+tRuB7SHig/rkfhuoLdKD9dj8K1BX8tPwAAAMB0mSs/4noUrq6vKj////8/ltgxP4XrUXgrLy8/j8L1uAw3ND8VrkdhejUvP3sUrveF1DA/4noUbqu+Mj/rUbieBMQxP2ZmZsaIeTM/XI/ChbVKMz+F61E4Dr8yPzMzM9O0bTM/ehSuNxobNT89CtezIxk1PzIzM0Og8DU/XY/CFQtEOz/Wo3BdA5I4Pz4K1+OVojc/mZmZuXghOD/NzMx88/w4P5DC9VhvoTk/cj0KZ0pQOz/Wo3Dt2Ps5P7gehWuP6Tk/UrgexcNGPD/NzMxsN9M6P3sUrvfJaj0/16Nwfb4wQD/Wo3D9u3g+PypcjyLlJD0/mpmZqS2gQD8zMzOTxhQ+P9ejcBX0tkA/o3A9SsLKQD+amZmZNk5AP3E9Cg9fy0A/R+F6bKbdQD/iehRu6IRFP1yPwg09pkE/jsL1wJktQz/iehTW+TFCPx6F61GzNUI/wvUoRI/gQj9cj8K1Z+JCP6NwPYqhU0I/o3A9mshsQz8eheth2qRDP4/C9citYEM/uB6FA5YpRD/2KFzPHJlEP6RwPYqtWUQ/HoXr2fbJQz+uR+E6bF9GP1K4Hq31YUc/PgrX47UpRj+jcD2iV6hKPx6F60nTf0o/ZmZmxkWARj8pXI8qUsRGP5mZmeHHWUc/AAAASFdOSj/iehSeh+pIP7kehXtylkc/hOtR0AQ0SD+amZmR1DpIPypcj+orWU8/uB6Fg8HzSj8Urkep43pJPypcj4prAE8/CtejYF3LSj8Vrke5NXxKP7oehbONCk8/C9ejSF/vSz8AAADYILJJP+1RuEqYMVE/jsL1MFjPSz9mZmZOfI9MPwrXowz5dFA/zczMRMjoTD8=",
          "dtype": "f8"
         }
        },
        {
         "name": "CountSketch",
         "type": "scatter",
         "x": {
          "bdata": "ZADIACwBkAH0AVgCvAIgA4QD6ANMBLAEFAV4BdwFQAakBggHbAfQBzQImAj8CGAJxAkoCowK8ApUC7gLHAyADOQMSA2sDRAOdA7YDjwPoA8EEGgQzBAwEZQR+BFcEsASJBOIE+wTUBS0FBgVfBXgFUQWqBYMF3AX1Bc4GJwYABlkGcgZLBqQGvQaWBu8GyAchBzoHEwdsB0UHnge3B5AH6QfCCBsINAgNCGYIfwhYCLEIigjjCPwI1QkuCQcJYAl5CVIJqwmECc=",
          "dtype": "i2"
         },
         "y": {
          "bdata": "cj0K19ew2z6OwvUo3mbgPtejcD2ohOM+MzMzMymM6T5I4XoUiDDrPj4K16POL+8+Urgehc6/8T4AAAAAq6v0PrkehetoLfY+cD0K12Ui+T6F61G4KK77Pq1H4XrGxf4+Fa5H4fJeAD8Urkfhg0MEPxSuR2GEfAI/o3A9ip/kAz+amZmZy7EFPwAAAICdoAU/MzMzs2AbBz8AAAAA3a8JP+tRuB7oigo/KlyPwtDACz+F61E4WhkNP4XrUTj4xw0/mpmZGRs6ED8zMzPzJw8QP1yPwnWPpxA/ZmZmpuQgET96FK4HtbcSP65H4XofuhI/Fa5HIQhEEz/sUbjefuUTPz4K16NRWBQ/o3A9ytNvFT8zMzOz11oWP5qZmRnVMBY/zczMzIa8GD+5HoUrTZMXP4brUXhC/Bc/mpmZGY0vGT8ehevR2fcYP4XrUbi9ahk/wvUoXCqyGj9mZmYm2xAbP4XrUbiA7xo/SOF6lBy4HD9mZmYmJQ4dP7oehSt2AR0/th6Fq362Hz+G61E4pTgeP3I9ChfFCx8/R+F6lMcXID96FK5HcSsgP8L1KFyTkiE/hetR2D72ID9cj8IVbf0gPypcjyJHWyE/mZmZOa/VIT/NzMzsYx0iP3sUrsfNPSI/AQAAIAH0Ij8pXI/CRCsjP0jhelSwTCM/Urge5cJcIz8ehetxqNUjP+xRuP7UMSQ/ZmZmpkuCJD9I4Xo0zV8kP/YoXC+LMCU/UrgeZdE7JT/D9Sh8hfclP9ajcF1BhSY/mpmZuXYrJj/gehSOUoUmP83MzAwD8yY/wvUonIKKJz/Wo3D9O5MnP0jhelRv8yc/UrgeBXamJz9xPQo32JsoP9ijcL0atCg/9ihcjxQ+KT9mZmamZ3QpPz4K12PsByk/ZmZmps4lKj8eheuxUboqP+tRuF4VGis/exSuB4E2Kz+uR+HaH2crP6NwPWpBOyw/HoXrEQ0NLD9SuB7FyXIsP3A9Cvco/Cw/rkfhesG5LD9dj8L1ezctP3sUrofwmi0/uB6F655vLT/NzMwMNh8uP/UoXK/BXS4/UrgeZci8Lj8=",
          "dtype": "f8"
         }
        },
        {
         "name": "Sparse JL",
         "type": "scatter",
         "x": {
          "bdata": "ZADIACwBkAH0AVgCvAIgA4QD6ANMBLAEFAV4BdwFQAakBggHbAfQBzQImAj8CGAJxAkoCowK8ApUC7gLHAyADOQMSA2sDRAOdA7YDjwPoA8EEGgQzBAwEZQR+BFcEsASJBOIE+wTUBS0FBgVfBXgFUQWqBYMF3AX1Bc4GJwYABlkGcgZLBqQGvQaWBu8GyAchBzoHEwdsB0UHnge3B5AH6QfCCBsINAgNCGYIfwhYCLEIigjjCPwI1QkuCQcJYAl5CVIJqwmECc=",
          "dtype": "i2"
         },
         "y": {
          "bdata": "9ihcjwAJ4T5cj8L1mCzpPgAAAAC/w/A+9ihcj2IS9z57FK5HOp79PvYoXI9M+QA/cD0K12jYAz8Urkdh+28GP6RwPYr/VAk/zczMTFgiDT/C9Sgc/DsQPylcj8LwyRE/KVyPgnHTEz9SuB4FDf0TP+xRuF5DIRY/hetRuHBXFz8qXI/CflMbP5qZmRmMZRs/KFyPAv8fHT8VrkdhfHseP/YoXI8sKyA/pHA9iqACIT/NzMxMxeIhP4/C9Sg+xyI/pHA9yokeJD+G61EYmdsoP3E9CrcnfiU/FK5HobVLJj9cj8KV8tEnP1K4HmWLLCg/rkfhevqgKD+uR+E6LFMqPx6F6xG26Sk/pXA9itm2Kz8qXI+i3HMsPypcj8LYjC0/rkfhmglqLj9I4XqUgkkvP+xRuH5jAjA/pHA9ynBvMD8ehevhHv8wP9ejcI3ezjA/UrgedZDNMT8qXI8S4FwyP+F6FJ61GDI/4XoUbqw4Mz/C9SgMUpgzPwrXo1BwOjQ/CtejMDLJND/OzMwsO+A0P61H4QqwXzU/9ihcL+fYNT+G61FI51Q2PwrXo0AI8TY/9ihcL0QmNz8AAACA4Kg3PwEAAMC5Azg/PQrXQ1x9OD+uR+GaPfE4PwrXo5AHbjk/CtejQBe5OT8VrkeBnIs6PwrXo4Chvjo/exSuxw43Oz89Ctez/Lk7P4XrUdjT/Ds/SOF6JNy3PD8qXI/SlOE7P5iZmTnuYT0/CtejoO6jPT8VrkepgiFAP4XrUdjpvj4/AAAAcJonPz/1KFxv76g+P+J6FM64mT8/4noUTtk8QD+jcD1iHXNAPylcj+LFwkA/wvUoDGRSQD/NzMyk6xpBP3A9Cme7d0E/9ihc3/37QD9xPQpfA8JBP1K4Ht0GaUE/MzMz+6PDQT+F61Egr4ZCP8zMzCwxoUI/H4XrcUf6Qj9nZmYmyjRDP4brUfBSQEM/wvUoJHkWQz8K16OQv+5DPzwK1xtw7kM/wvUonJxiRD89Ctd7svhDP7gehSuWuEQ/rkfhejnfRD8AAADY2S1FP3sUrtdXpUQ/SOF6/Li5RT8=",
          "dtype": "f8"
         }
        }
       ],
       "layout": {
        "template": {
         "data": {
          "bar": [
           {
            "error_x": {
             "color": "#2a3f5f"
            },
            "error_y": {
             "color": "#2a3f5f"
            },
            "marker": {
             "line": {
              "color": "white",
              "width": 0.5
             },
             "pattern": {
              "fillmode": "overlay",
              "size": 10,
              "solidity": 0.2
             }
            },
            "type": "bar"
           }
          ],
          "barpolar": [
           {
            "marker": {
             "line": {
              "color": "white",
              "width": 0.5
             },
             "pattern": {
              "fillmode": "overlay",
              "size": 10,
              "solidity": 0.2
             }
            },
            "type": "barpolar"
           }
          ],
          "carpet": [
           {
            "aaxis": {
             "endlinecolor": "#2a3f5f",
             "gridcolor": "#C8D4E3",
             "linecolor": "#C8D4E3",
             "minorgridcolor": "#C8D4E3",
             "startlinecolor": "#2a3f5f"
            },
            "baxis": {
             "endlinecolor": "#2a3f5f",
             "gridcolor": "#C8D4E3",
             "linecolor": "#C8D4E3",
             "minorgridcolor": "#C8D4E3",
             "startlinecolor": "#2a3f5f"
            },
            "type": "carpet"
           }
          ],
          "choropleth": [
           {
            "colorbar": {
             "outlinewidth": 0,
             "ticks": ""
            },
            "type": "choropleth"
           }
          ],
          "contour": [
           {
            "colorbar": {
             "outlinewidth": 0,
             "ticks": ""
            },
            "colorscale": [
             [
              0,
              "#0d0887"
             ],
             [
              0.1111111111111111,
              "#46039f"
             ],
             [
              0.2222222222222222,
              "#7201a8"
             ],
             [
              0.3333333333333333,
              "#9c179e"
             ],
             [
              0.4444444444444444,
              "#bd3786"
             ],
             [
              0.5555555555555556,
              "#d8576b"
             ],
             [
              0.6666666666666666,
              "#ed7953"
             ],
             [
              0.7777777777777778,
              "#fb9f3a"
             ],
             [
              0.8888888888888888,
              "#fdca26"
             ],
             [
              1,
              "#f0f921"
             ]
            ],
            "type": "contour"
           }
          ],
          "contourcarpet": [
           {
            "colorbar": {
             "outlinewidth": 0,
             "ticks": ""
            },
            "type": "contourcarpet"
           }
          ],
          "heatmap": [
           {
            "colorbar": {
             "outlinewidth": 0,
             "ticks": ""
            },
            "colorscale": [
             [
              0,
              "#0d0887"
             ],
             [
              0.1111111111111111,
              "#46039f"
             ],
             [
              0.2222222222222222,
              "#7201a8"
             ],
             [
              0.3333333333333333,
              "#9c179e"
             ],
             [
              0.4444444444444444,
              "#bd3786"
             ],
             [
              0.5555555555555556,
              "#d8576b"
             ],
             [
              0.6666666666666666,
              "#ed7953"
             ],
             [
              0.7777777777777778,
              "#fb9f3a"
             ],
             [
              0.8888888888888888,
              "#fdca26"
             ],
             [
              1,
              "#f0f921"
             ]
            ],
            "type": "heatmap"
           }
          ],
          "histogram": [
           {
            "marker": {
             "pattern": {
              "fillmode": "overlay",
              "size": 10,
              "solidity": 0.2
             }
            },
            "type": "histogram"
           }
          ],
          "histogram2d": [
           {
            "colorbar": {
             "outlinewidth": 0,
             "ticks": ""
            },
            "colorscale": [
             [
              0,
              "#0d0887"
             ],
             [
              0.1111111111111111,
              "#46039f"
             ],
             [
              0.2222222222222222,
              "#7201a8"
             ],
             [
              0.3333333333333333,
              "#9c179e"
             ],
             [
              0.4444444444444444,
              "#bd3786"
             ],
             [
              0.5555555555555556,
              "#d8576b"
             ],
             [
              0.6666666666666666,
              "#ed7953"
             ],
             [
              0.7777777777777778,
              "#fb9f3a"
             ],
             [
              0.8888888888888888,
              "#fdca26"
             ],
             [
              1,
              "#f0f921"
             ]
            ],
            "type": "histogram2d"
           }
          ],
          "histogram2dcontour": [
           {
            "colorbar": {
             "outlinewidth": 0,
             "ticks": ""
            },
            "colorscale": [
             [
              0,
              "#0d0887"
             ],
             [
              0.1111111111111111,
              "#46039f"
             ],
             [
              0.2222222222222222,
              "#7201a8"
             ],
             [
              0.3333333333333333,
              "#9c179e"
             ],
             [
              0.4444444444444444,
              "#bd3786"
             ],
             [
              0.5555555555555556,
              "#d8576b"
             ],
             [
              0.6666666666666666,
              "#ed7953"
             ],
             [
              0.7777777777777778,
              "#fb9f3a"
             ],
             [
              0.8888888888888888,
              "#fdca26"
             ],
             [
              1,
              "#f0f921"
             ]
            ],
            "type": "histogram2dcontour"
           }
          ],
          "mesh3d": [
           {
            "colorbar": {
             "outlinewidth": 0,
             "ticks": ""
            },
            "type": "mesh3d"
           }
          ],
          "parcoords": [
           {
            "line": {
             "colorbar": {
              "outlinewidth": 0,
              "ticks": ""
             }
            },
            "type": "parcoords"
           }
          ],
          "pie": [
           {
            "automargin": true,
            "type": "pie"
           }
          ],
          "scatter": [
           {
            "fillpattern": {
             "fillmode": "overlay",
             "size": 10,
             "solidity": 0.2
            },
            "type": "scatter"
           }
          ],
          "scatter3d": [
           {
            "line": {
             "colorbar": {
              "outlinewidth": 0,
              "ticks": ""
             }
            },
            "marker": {
             "colorbar": {
              "outlinewidth": 0,
              "ticks": ""
             }
            },
            "type": "scatter3d"
           }
          ],
          "scattercarpet": [
           {
            "marker": {
             "colorbar": {
              "outlinewidth": 0,
              "ticks": ""
             }
            },
            "type": "scattercarpet"
           }
          ],
          "scattergeo": [
           {
            "marker": {
             "colorbar": {
              "outlinewidth": 0,
              "ticks": ""
             }
            },
            "type": "scattergeo"
           }
          ],
          "scattergl": [
           {
            "marker": {
             "colorbar": {
              "outlinewidth": 0,
              "ticks": ""
             }
            },
            "type": "scattergl"
           }
          ],
          "scattermap": [
           {
            "marker": {
             "colorbar": {
              "outlinewidth": 0,
              "ticks": ""
             }
            },
            "type": "scattermap"
           }
          ],
          "scattermapbox": [
           {
            "marker": {
             "colorbar": {
              "outlinewidth": 0,
              "ticks": ""
             }
            },
            "type": "scattermapbox"
           }
          ],
          "scatterpolar": [
           {
            "marker": {
             "colorbar": {
              "outlinewidth": 0,
              "ticks": ""
             }
            },
            "type": "scatterpolar"
           }
          ],
          "scatterpolargl": [
           {
            "marker": {
             "colorbar": {
              "outlinewidth": 0,
              "ticks": ""
             }
            },
            "type": "scatterpolargl"
           }
          ],
          "scatterternary": [
           {
            "marker": {
             "colorbar": {
              "outlinewidth": 0,
              "ticks": ""
             }
            },
            "type": "scatterternary"
           }
          ],
          "surface": [
           {
            "colorbar": {
             "outlinewidth": 0,
             "ticks": ""
            },
            "colorscale": [
             [
              0,
              "#0d0887"
             ],
             [
              0.1111111111111111,
              "#46039f"
             ],
             [
              0.2222222222222222,
              "#7201a8"
             ],
             [
              0.3333333333333333,
              "#9c179e"
             ],
             [
              0.4444444444444444,
              "#bd3786"
             ],
             [
              0.5555555555555556,
              "#d8576b"
             ],
             [
              0.6666666666666666,
              "#ed7953"
             ],
             [
              0.7777777777777778,
              "#fb9f3a"
             ],
             [
              0.8888888888888888,
              "#fdca26"
             ],
             [
              1,
              "#f0f921"
             ]
            ],
            "type": "surface"
           }
          ],
          "table": [
           {
            "cells": {
             "fill": {
              "color": "#EBF0F8"
             },
             "line": {
              "color": "white"
             }
            },
            "header": {
             "fill": {
              "color": "#C8D4E3"
             },
             "line": {
              "color": "white"
             }
            },
            "type": "table"
           }
          ]
         },
         "layout": {
          "annotationdefaults": {
           "arrowcolor": "#2a3f5f",
           "arrowhead": 0,
           "arrowwidth": 1
          },
          "autotypenumbers": "strict",
          "coloraxis": {
           "colorbar": {
            "outlinewidth": 0,
            "ticks": ""
           }
          },
          "colorscale": {
           "diverging": [
            [
             0,
             "#8e0152"
            ],
            [
             0.1,
             "#c51b7d"
            ],
            [
             0.2,
             "#de77ae"
            ],
            [
             0.3,
             "#f1b6da"
            ],
            [
             0.4,
             "#fde0ef"
            ],
            [
             0.5,
             "#f7f7f7"
            ],
            [
             0.6,
             "#e6f5d0"
            ],
            [
             0.7,
             "#b8e186"
            ],
            [
             0.8,
             "#7fbc41"
            ],
            [
             0.9,
             "#4d9221"
            ],
            [
             1,
             "#276419"
            ]
           ],
           "sequential": [
            [
             0,
             "#0d0887"
            ],
            [
             0.1111111111111111,
             "#46039f"
            ],
            [
             0.2222222222222222,
             "#7201a8"
            ],
            [
             0.3333333333333333,
             "#9c179e"
            ],
            [
             0.4444444444444444,
             "#bd3786"
            ],
            [
             0.5555555555555556,
             "#d8576b"
            ],
            [
             0.6666666666666666,
             "#ed7953"
            ],
            [
             0.7777777777777778,
             "#fb9f3a"
            ],
            [
             0.8888888888888888,
             "#fdca26"
            ],
            [
             1,
             "#f0f921"
            ]
           ],
           "sequentialminus": [
            [
             0,
             "#0d0887"
            ],
            [
             0.1111111111111111,
             "#46039f"
            ],
            [
             0.2222222222222222,
             "#7201a8"
            ],
            [
             0.3333333333333333,
             "#9c179e"
            ],
            [
             0.4444444444444444,
             "#bd3786"
            ],
            [
             0.5555555555555556,
             "#d8576b"
            ],
            [
             0.6666666666666666,
             "#ed7953"
            ],
            [
             0.7777777777777778,
             "#fb9f3a"
            ],
            [
             0.8888888888888888,
             "#fdca26"
            ],
            [
             1,
             "#f0f921"
            ]
           ]
          },
          "colorway": [
           "#636efa",
           "#EF553B",
           "#00cc96",
           "#ab63fa",
           "#FFA15A",
           "#19d3f3",
           "#FF6692",
           "#B6E880",
           "#FF97FF",
           "#FECB52"
          ],
          "font": {
           "color": "#2a3f5f"
          },
          "geo": {
           "bgcolor": "white",
           "lakecolor": "white",
           "landcolor": "white",
           "showlakes": true,
           "showland": true,
           "subunitcolor": "#C8D4E3"
          },
          "hoverlabel": {
           "align": "left"
          },
          "hovermode": "closest",
          "mapbox": {
           "style": "light"
          },
          "paper_bgcolor": "white",
          "plot_bgcolor": "white",
          "polar": {
           "angularaxis": {
            "gridcolor": "#EBF0F8",
            "linecolor": "#EBF0F8",
            "ticks": ""
           },
           "bgcolor": "white",
           "radialaxis": {
            "gridcolor": "#EBF0F8",
            "linecolor": "#EBF0F8",
            "ticks": ""
           }
          },
          "scene": {
           "xaxis": {
            "backgroundcolor": "white",
            "gridcolor": "#DFE8F3",
            "gridwidth": 2,
            "linecolor": "#EBF0F8",
            "showbackground": true,
            "ticks": "",
            "zerolinecolor": "#EBF0F8"
           },
           "yaxis": {
            "backgroundcolor": "white",
            "gridcolor": "#DFE8F3",
            "gridwidth": 2,
            "linecolor": "#EBF0F8",
            "showbackground": true,
            "ticks": "",
            "zerolinecolor": "#EBF0F8"
           },
           "zaxis": {
            "backgroundcolor": "white",
            "gridcolor": "#DFE8F3",
            "gridwidth": 2,
            "linecolor": "#EBF0F8",
            "showbackground": true,
            "ticks": "",
            "zerolinecolor": "#EBF0F8"
           }
          },
          "shapedefaults": {
           "line": {
            "color": "#2a3f5f"
           }
          },
          "ternary": {
           "aaxis": {
            "gridcolor": "#DFE8F3",
            "linecolor": "#A2B1C6",
            "ticks": ""
           },
           "baxis": {
            "gridcolor": "#DFE8F3",
            "linecolor": "#A2B1C6",
            "ticks": ""
           },
           "bgcolor": "white",
           "caxis": {
            "gridcolor": "#DFE8F3",
            "linecolor": "#A2B1C6",
            "ticks": ""
           }
          },
          "title": {
           "x": 0.05
          },
          "xaxis": {
           "automargin": true,
           "gridcolor": "#EBF0F8",
           "linecolor": "#EBF0F8",
           "ticks": "",
           "title": {
            "standoff": 15
           },
           "zerolinecolor": "#EBF0F8",
           "zerolinewidth": 2
          },
          "yaxis": {
           "automargin": true,
           "gridcolor": "#EBF0F8",
           "linecolor": "#EBF0F8",
           "ticks": "",
           "title": {
            "standoff": 15
           },
           "zerolinecolor": "#EBF0F8",
           "zerolinewidth": 2
          }
         }
        },
        "title": {
         "text": "Time (s) vs Matrix Size by Compression Algorithm"
        },
        "xaxis": {
         "title": {
          "text": "n"
         }
        },
        "yaxis": {
         "title": {
          "text": "Time (s)"
         }
        }
       }
      }
     },
     "metadata": {},
     "output_type": "display_data"
    }
   ],
   "source": [
    "fig = go.Figure()\n",
    "\n",
    "\n",
    "for method in times_df.columns:\n",
    "    fig.add_trace(\n",
    "        go.Scatter(\n",
    "            x = times_df.index,\n",
    "            y = times_df[method],\n",
    "            name = method\n",
    "        )\n",
    "    )\n",
    "\n",
    "fig.update_layout(\n",
    "    title = 'Time (s) vs Matrix Size by Compression Algorithm',\n",
    "    xaxis_title = 'n',\n",
    "    yaxis_title = 'Time (s)',\n",
    "    template = 'plotly_white'\n",
    ")\n",
    "fig.show()"
   ]
  },
  {
   "cell_type": "markdown",
   "metadata": {},
   "source": [
    "*Structured Random Projection*"
   ]
  },
  {
   "cell_type": "code",
   "execution_count": null,
   "metadata": {},
   "outputs": [],
   "source": [
    "# Assuming you have all these matrix generation functions defined\n",
    "methods = {\n",
    "    \"Gaussian\": gaussian_random_matrix,\n",
    "    \"SRHT\": srht_matrix,\n",
    "    \"SRFT\": srft_matrix,\n",
    "    \"CountSketch\": countsketch_matrix,\n",
    "    \"Sparse JL\": lambda n, k, seed: sparse_jl_matrix(n, k, s=3, seed=seed)\n",
    "}\n",
    "\n",
    "# Initialize timing dictionaries\n",
    "times = {\n",
    "    'projection': {method: [] for method in methods},\n",
    "    'rpi': {method: [] for method in methods},\n",
    "    'total': {method: [] for method in methods}\n",
    "}\n",
    "\n",
    "# Parameters\n",
    "sizes = np.arange(100, 1_001, 100)\n",
    "runs = 10\n",
    "k = 100\n",
    "q = 2  # Number of power iterations for RPI\n",
    "\n",
    "for n in sizes:\n",
    "    # Generate Random Matrix A to Project\n",
    "    np.random.seed(1)\n",
    "    A = np.abs(np.random.randn(n, k))  # Note: A is k×n (transposed from typical notation)\n",
    "    \n",
    "    for method_name, method in methods.items():\n",
    "        projection_times = []\n",
    "        rpi_times = []\n",
    "        total_times = []\n",
    "        \n",
    "        for i in range(runs):\n",
    "            seed = i + 1\n",
    "\n",
    "            # Time projection matrix generation\n",
    "            timer_proj = timeit.Timer(lambda: method(k, n, seed=seed))\n",
    "            proj_time = timer_proj.timeit(number=1)  # Single run as creation is deterministic per seed\n",
    "            \n",
    "            # Generate projection matrix\n",
    "            sigma = method(k, n, seed=seed)\n",
    "            \n",
    "            # Time projection operation\n",
    "            timer_mult = timeit.Timer(lambda: sigma @ A)\n",
    "            mult_time = timer_mult.timeit(number=10) / 10\n",
    "            \n",
    "            # Time RPI operation\n",
    "            timer_rpi = timeit.Timer(lambda: randomized_power_iteration(A, sigma, q))\n",
    "            rpi_time = timer_rpi.timeit(number=10) / 10\n",
    "            \n",
    "            projection_times.append(proj_time + mult_time)\n",
    "            rpi_times.append(rpi_time)\n",
    "            total_times.append(proj_time + mult_time + rpi_time)\n",
    "        \n",
    "        # Store average times\n",
    "        times['projection'][method_name].append(np.mean(projection_times))\n",
    "        times['rpi'][method_name].append(np.mean(rpi_times))\n",
    "        times['total'][method_name].append(np.mean(total_times))\n",
    "    \n",
    "    print(f'Completed benchmarking for matrix size: {n}')"
   ]
  },
  {
   "cell_type": "code",
   "execution_count": null,
   "metadata": {},
   "outputs": [],
   "source": [
    "proj_times_df = pd.DataFrame(times['projection'],index = sizes)\n",
    "total_times_df = pd.DataFrame(times['total'],index = sizes)\n",
    "rpi_times_df = pd.DataFrame(times['rpi'],index = sizes)"
   ]
  },
  {
   "cell_type": "markdown",
   "metadata": {},
   "source": [
    "*Plot: Structured Random Compression*"
   ]
  },
  {
   "cell_type": "code",
   "execution_count": null,
   "metadata": {},
   "outputs": [],
   "source": [
    "fig = go.Figure()\n",
    "\n",
    "for method in rpi_times_df.columns:\n",
    "    fig.add_trace(\n",
    "        go.Scatter(\n",
    "            x = rpi_times_df.index,\n",
    "            y = rpi_times_df[method],\n",
    "            name = method\n",
    "        )\n",
    "    )\n",
    "\n",
    "fig.show()"
   ]
  },
  {
   "cell_type": "markdown",
   "metadata": {},
   "source": [
    "*Plot: Time Breakdown by Component of Algorithm*"
   ]
  },
  {
   "cell_type": "code",
   "execution_count": null,
   "metadata": {},
   "outputs": [],
   "source": [
    "methods = rpi_times_df.columns  \n",
    "\n",
    "plots_per_row = 3\n",
    "num_methods = len(methods)\n",
    "num_rows = math.ceil(num_methods / plots_per_row)\n",
    "\n",
    "# Create subplots\n",
    "fig = make_subplots(\n",
    "    rows=num_rows, \n",
    "    cols=plots_per_row,\n",
    "    subplot_titles=[f\"{method}\" for method in methods],\n",
    "    vertical_spacing=0.15,\n",
    "    horizontal_spacing=0.1\n",
    ")\n",
    "\n",
    "for idx, method in enumerate(methods):\n",
    "    row = idx // plots_per_row + 1\n",
    "    col = idx % plots_per_row + 1\n",
    "\n",
    "    # RPI Proportion\n",
    "    fig.add_trace(\n",
    "        go.Scatter(\n",
    "            x=rpi_times_df.index,\n",
    "            y=rpi_times_df[method] / total_times_df[method],\n",
    "            name='RPI',\n",
    "            mode='lines',\n",
    "            stackgroup='one',\n",
    "            line=dict(width=0.5),\n",
    "            fillcolor='rgba(0, 100, 80, 0.3)',\n",
    "            legendgroup=method,\n",
    "            showlegend=(idx == 0)\n",
    "        ),\n",
    "        row=row, col=col\n",
    "    )\n",
    "    \n",
    "    # Projection Proportion\n",
    "    fig.add_trace(\n",
    "        go.Scatter(\n",
    "            x=rpi_times_df.index,\n",
    "            y=proj_times_df[method] / total_times_df[method],\n",
    "            name='Generation + Multiplication',\n",
    "            mode='lines',\n",
    "            stackgroup='one',\n",
    "            line=dict(width=0.5),\n",
    "            fillcolor='rgba(100, 0, 80, 0.3)',\n",
    "            legendgroup=method,\n",
    "            showlegend= (idx == 0)\n",
    "        ),\n",
    "        row=row, col=col\n",
    "    )\n",
    "    \n",
    "    # Y-axis in percent\n",
    "    fig.update_yaxes(\n",
    "        tickformat=',.0%',\n",
    "        range=[0, 1],\n",
    "        row=row, col=col\n",
    "    )\n",
    "\n",
    "# Update layout\n",
    "fig.update_layout(\n",
    "    title_text=\"Time Breakdown by Method\",\n",
    "    height=300 * num_rows,\n",
    "    hovermode='x unified',\n",
    "    legend=dict(orientation='h', yanchor='bottom', y=-0.2, xanchor='center', x=0.5),\n",
    ")\n",
    "\n",
    "fig.show()\n"
   ]
  },
  {
   "cell_type": "markdown",
   "metadata": {},
   "source": [
    "### **NMF Algorithms**"
   ]
  },
  {
   "cell_type": "markdown",
   "metadata": {},
   "source": [
    "*$\\delta = 1$*"
   ]
  },
  {
   "cell_type": "code",
   "execution_count": null,
   "metadata": {},
   "outputs": [],
   "source": [
    "methods = {\n",
    "    \"MU\": nmf_mu,\n",
    "    \"MU C\": nmf_compress_mu,\n",
    "    \"MU SC\": nmf_structured_compress_mu,\n",
    "    \"HALS\": nmf_hals,\n",
    "    \"HALS C\":nmf_compress_hals,\n",
    "    \"HALS SC\":nmf_structured_compress_hals,\n",
    "}\n",
    "\n",
    "stats = {\n",
    "    'time': {method: [] for method in methods},\n",
    "    'errors': {method: [] for method in methods},\n",
    "}\n",
    "\n",
    "# Parameters\n",
    "sizes = np.arange(1_000, 5_001, 1_000)\n",
    "runs = 10\n",
    "r = 20\n",
    "for n in sizes:\n",
    "    # Generate A (n x 0.75n)\n",
    "    np.random.seed(1)\n",
    "    A, _, _= generate_synthetic_matrix(n,r,delta = 1.0)\n",
    "    for method_name, method in methods.items():\n",
    "\n",
    "        total_times = [] \n",
    "        total_errors = []       \n",
    "        for i in range(runs):\n",
    "            # Set seed per run\n",
    "            seed = i + 1\n",
    "            \n",
    "            # Time NMF Method\n",
    "            start_time = timeit.default_timer()\n",
    "            _, _, errors = method(A, r, random_state=seed)\n",
    "            time = timeit.default_timer() - start_time\n",
    "\n",
    "            # Store\n",
    "            total_times.append(time)\n",
    "            total_errors.append(errors[-1])\n",
    "        \n",
    "        # Store average times\n",
    "        stats['time'][method_name].append(np.mean(total_times))\n",
    "        stats['errors'][method_name].append(np.mean(total_errors))\n",
    "    \n",
    "    print(f'Completed benchmarking for matrix size: {n}')"
   ]
  },
  {
   "cell_type": "code",
   "execution_count": null,
   "metadata": {},
   "outputs": [],
   "source": [
    "nmf_times_df = pd.DataFrame(stats['time'],index = sizes)\n",
    "nmf_errors_df = pd.DataFrame(stats['errors'],index = sizes)"
   ]
  },
  {
   "cell_type": "markdown",
   "metadata": {},
   "source": [
    "*Plot: Standard NMF Implementations*"
   ]
  },
  {
   "cell_type": "code",
   "execution_count": null,
   "metadata": {},
   "outputs": [],
   "source": [
    "import plotly.graph_objects as go\n",
    "from plotly.subplots import make_subplots\n",
    "\n",
    "# Create a color map for consistent colors\n",
    "color_map = {\n",
    "    'MU': '#1f77b4',  # Blue\n",
    "    'MU C': '#9467bd',\n",
    "    'MU SC': '#e377c2',\n",
    "    'HALS': '#ff7f0e',  # Orange\n",
    "    'HALS C': '#17becf',\n",
    "    'HALS SC': '#bcbd22'\n",
    "    # Add more methods as needed\n",
    "}\n",
    "\n",
    "fig = make_subplots(rows=1, cols=2)\n",
    "\n",
    "# Add time traces (left plot) with assigned colors\n",
    "for method in nmf_times_df.columns:\n",
    "    fig.add_trace(\n",
    "        go.Scatter(\n",
    "            x=nmf_times_df.index,\n",
    "            y=nmf_times_df[method],\n",
    "            name=method,\n",
    "            legendgroup=method,\n",
    "            showlegend=True,\n",
    "            line=dict(color=color_map[method])  # Explicit color assignment\n",
    "        ),\n",
    "        row=1, col=1\n",
    "    )\n",
    "\n",
    "# Add error traces (right plot) with same colors\n",
    "for method in nmf_errors_df.columns:\n",
    "    fig.add_trace(\n",
    "        go.Scatter(\n",
    "            x=nmf_errors_df.index,\n",
    "            y=nmf_errors_df[method],\n",
    "            name=method,\n",
    "            legendgroup=method,\n",
    "            showlegend=False,\n",
    "            line=dict(color=color_map[method])  # Same color as left plot\n",
    "        ),\n",
    "        row=1, col=2\n",
    "    )\n",
    "\n",
    "fig.update_layout(\n",
    "    title='Computation Time and Reconstruction Error by Method',\n",
    "    xaxis_title='Size (n)',\n",
    "    yaxis_title='Time (s)',\n",
    "    xaxis2_title='Size (n)',\n",
    "    yaxis2_title='Reconstruction Error',\n",
    "\n",
    ")\n",
    "\n",
    "\"\"\"    \n",
    "legend=dict(\n",
    "    orientation=\"h\",\n",
    "    yanchor=\"bottom\",\n",
    "    y=1.1,\n",
    "    xanchor=\"center\",\n",
    "    x=0.5\n",
    ")\n",
    "\n",
    "\"\"\"\n",
    "fig.show()"
   ]
  },
  {
   "cell_type": "markdown",
   "metadata": {},
   "source": [
    "*$\\delta = 0.01$*"
   ]
  },
  {
   "cell_type": "code",
   "execution_count": null,
   "metadata": {},
   "outputs": [],
   "source": [
    "methods = {\n",
    "    \"MU\": nmf_mu,\n",
    "    \"HALS\": nmf_hals,\n",
    "}\n",
    "\n",
    "stats = {\n",
    "    'time': {method: [] for method in methods},\n",
    "    'errors': {method: [] for method in methods},\n",
    "}\n",
    "\n",
    "# Parameters\n",
    "sizes = np.arange(1_00, 1_001, 1_00)\n",
    "runs = 10\n",
    "r = 20\n",
    "for n in sizes:\n",
    "    # Generate A (n x 0.75n)\n",
    "    np.random.seed(1)\n",
    "    A, _, _= generate_synthetic_matrix(n,r,delta = 0.01)\n",
    "    for method_name, method in methods.items():\n",
    "\n",
    "        total_times = [] \n",
    "        total_errors = []       \n",
    "        for i in range(runs):\n",
    "            # Set seed per run\n",
    "            seed = i + 1\n",
    "            \n",
    "            # Time NMF Method\n",
    "            start_time = timeit.default_timer()\n",
    "            _, _, errors = method(A, r, random_state=seed)\n",
    "            time = timeit.default_timer() - start_time\n",
    "\n",
    "            # Store\n",
    "            total_times.append(time)\n",
    "            total_errors.append(errors[-1])\n",
    "        \n",
    "        # Store average times\n",
    "        stats['time'][method_name].append(np.mean(total_times))\n",
    "        stats['errors'][method_name].append(np.mean(total_errors))\n",
    "    \n",
    "    print(f'Completed benchmarking for matrix size: {n}')"
   ]
  },
  {
   "cell_type": "code",
   "execution_count": null,
   "metadata": {},
   "outputs": [],
   "source": [
    "nmf_times_df = pd.DataFrame(stats['time'],index = sizes)\n",
    "nmf_errors_df = pd.DataFrame(stats['errors'],index = sizes)"
   ]
  },
  {
   "cell_type": "code",
   "execution_count": null,
   "metadata": {},
   "outputs": [],
   "source": [
    "# Create a color map for consistent colors\n",
    "color_map = {\n",
    "    'MU': '#1f77b4',  # Blue\n",
    "    'HALS': '#ff7f0e',  # Orange\n",
    "    # Add more methods as needed\n",
    "}\n",
    "\n",
    "fig = make_subplots(rows=1, cols=2)\n",
    "\n",
    "# Add time traces (left plot) with assigned colors\n",
    "for method in nmf_times_df.columns:\n",
    "    fig.add_trace(\n",
    "        go.Scatter(\n",
    "            x=nmf_times_df.index,\n",
    "            y=nmf_times_df[method],\n",
    "            name=method,\n",
    "            legendgroup=method,\n",
    "            showlegend=True,\n",
    "            line=dict(color=color_map[method])  # Explicit color assignment\n",
    "        ),\n",
    "        row=1, col=1\n",
    "    )\n",
    "\n",
    "# Add error traces (right plot) with same colors\n",
    "for method in nmf_errors_df.columns:\n",
    "    fig.add_trace(\n",
    "        go.Scatter(\n",
    "            x=nmf_errors_df.index,\n",
    "            y=nmf_errors_df[method],\n",
    "            name=method,\n",
    "            legendgroup=method,\n",
    "            showlegend=False,\n",
    "            line=dict(color=color_map[method])  # Same color as left plot\n",
    "        ),\n",
    "        row=1, col=2\n",
    "    )\n",
    "\n",
    "fig.update_layout(\n",
    "    title='Computation Time and Reconstruction Error by Method',\n",
    "    xaxis_title='Size (n)',\n",
    "    yaxis_title='Time (s)',\n",
    "    xaxis2_title='Size (n)',\n",
    "    yaxis2_title='Reconstruction Error',\n",
    "\n",
    ")\n",
    "\n",
    "\"\"\"    \n",
    "legend=dict(\n",
    "    orientation=\"h\",\n",
    "    yanchor=\"bottom\",\n",
    "    y=1.1,\n",
    "    xanchor=\"center\",\n",
    "    x=0.5\n",
    ")\n",
    "\n",
    "\"\"\"\n",
    "fig.show()"
   ]
  },
  {
   "cell_type": "markdown",
   "metadata": {},
   "source": [
    "##### ***Application 1: CBCL***"
   ]
  },
  {
   "cell_type": "code",
   "execution_count": 8,
   "metadata": {},
   "outputs": [
    {
     "name": "stdout",
     "output_type": "stream",
     "text": [
      "downloading Olivetti faces from https://ndownloader.figshare.com/files/5976027 to C:\\Users\\Tom\\scikit_learn_data\n"
     ]
    }
   ],
   "source": [
    "from sklearn.datasets import fetch_olivetti_faces\n",
    "X_faces = fetch_olivetti_faces(shuffle=True).data"
   ]
  },
  {
   "cell_type": "markdown",
   "metadata": {},
   "source": [
    "*Method Benchmarks*"
   ]
  },
  {
   "cell_type": "code",
   "execution_count": 9,
   "metadata": {},
   "outputs": [
    {
     "data": {
      "text/plain": [
       "400"
      ]
     },
     "execution_count": 9,
     "metadata": {},
     "output_type": "execute_result"
    }
   ],
   "source": [
    "X_faces.shape[0]"
   ]
  },
  {
   "cell_type": "code",
   "execution_count": 10,
   "metadata": {},
   "outputs": [
    {
     "name": "stdout",
     "output_type": "stream",
     "text": [
      "Completed MU C,gaussian\n",
      "Completed MU C,srft\n",
      "Completed MU C,sparse-jl\n",
      "Completed MU C,count-sketch\n",
      "Completed MU SC,gaussian\n"
     ]
    },
    {
     "ename": "KeyboardInterrupt",
     "evalue": "",
     "output_type": "error",
     "traceback": [
      "\u001b[31m---------------------------------------------------------------------------\u001b[39m",
      "\u001b[31mKeyboardInterrupt\u001b[39m                         Traceback (most recent call last)",
      "\u001b[36mCell\u001b[39m\u001b[36m \u001b[39m\u001b[32mIn[10]\u001b[39m\u001b[32m, line 17\u001b[39m\n\u001b[32m      1\u001b[39m methods = {\n\u001b[32m      2\u001b[39m     \u001b[33m\"\u001b[39m\u001b[33mMU C\u001b[39m\u001b[33m\"\u001b[39m: nmf_compress_mu,\n\u001b[32m      3\u001b[39m     \u001b[33m'\u001b[39m\u001b[33mMU SC\u001b[39m\u001b[33m'\u001b[39m: nmf_structured_compress_mu,\n\u001b[32m      4\u001b[39m     \u001b[33m'\u001b[39m\u001b[33mHALS C\u001b[39m\u001b[33m'\u001b[39m: nmf_compress_hals,\n\u001b[32m      5\u001b[39m     \u001b[33m'\u001b[39m\u001b[33mHALS SC\u001b[39m\u001b[33m'\u001b[39m: nmf_structured_compress_hals\n\u001b[32m      6\u001b[39m }\n\u001b[32m      8\u001b[39m projection_types = [\n\u001b[32m      9\u001b[39m     \u001b[33m'\u001b[39m\u001b[33mgaussian\u001b[39m\u001b[33m'\u001b[39m,\n\u001b[32m     10\u001b[39m     \u001b[38;5;66;03m# 'srht',\u001b[39;00m\n\u001b[32m   (...)\u001b[39m\u001b[32m     14\u001b[39m     \u001b[33m'\u001b[39m\u001b[33mcount-sketch\u001b[39m\u001b[33m'\u001b[39m,\n\u001b[32m     15\u001b[39m ]\n\u001b[32m---> \u001b[39m\u001b[32m17\u001b[39m stats = \u001b[43mbenchmark_faces\u001b[49m\u001b[43m(\u001b[49m\u001b[43mX_faces\u001b[49m\u001b[43m,\u001b[49m\u001b[43mmethods\u001b[49m\u001b[43m,\u001b[49m\u001b[43mprojection_types\u001b[49m\u001b[43m,\u001b[49m\u001b[43mr\u001b[49m\u001b[43m=\u001b[49m\u001b[32;43m49\u001b[39;49m\u001b[43m,\u001b[49m\u001b[43mruns\u001b[49m\u001b[43m=\u001b[49m\u001b[32;43m10\u001b[39;49m\u001b[43m)\u001b[49m\n\u001b[32m     18\u001b[39m stats\n",
      "\u001b[36mFile \u001b[39m\u001b[32mc:\\Users\\Tom\\Desktop\\python\\stat-6104\\benchmark.py:32\u001b[39m, in \u001b[36mbenchmark_faces\u001b[39m\u001b[34m(X_faces, methods, projection_types, r, runs)\u001b[39m\n\u001b[32m     30\u001b[39m \u001b[38;5;66;03m# Time NMF Method\u001b[39;00m\n\u001b[32m     31\u001b[39m start_time = timeit.default_timer()\n\u001b[32m---> \u001b[39m\u001b[32m32\u001b[39m _, _, errors = \u001b[43mmethod\u001b[49m\u001b[43m(\u001b[49m\u001b[43mX_faces\u001b[49m\u001b[43m,\u001b[49m\u001b[43m \u001b[49m\u001b[43mr\u001b[49m\u001b[43m,\u001b[49m\u001b[43m \u001b[49m\u001b[43mrandom_state\u001b[49m\u001b[43m=\u001b[49m\u001b[43mseed\u001b[49m\u001b[43m,\u001b[49m\u001b[43mprojection_type\u001b[49m\u001b[43m \u001b[49m\u001b[43m=\u001b[49m\u001b[43m \u001b[49m\u001b[43mprojection\u001b[49m\u001b[43m)\u001b[49m\n\u001b[32m     33\u001b[39m time = timeit.default_timer() - start_time\n\u001b[32m     35\u001b[39m \u001b[38;5;66;03m# Store\u001b[39;00m\n",
      "\u001b[36mFile \u001b[39m\u001b[32mc:\\Users\\Tom\\Desktop\\python\\stat-6104\\nmf.py:113\u001b[39m, in \u001b[36mnmf_structured_compress_mu\u001b[39m\u001b[34m(A, r, max_iter, random_state, tol, power_iter, oversampling, projection_type)\u001b[39m\n\u001b[32m    110\u001b[39m l = r + oversampling\n\u001b[32m    112\u001b[39m \u001b[38;5;66;03m# Construct omega_left and omega_right internally\u001b[39;00m\n\u001b[32m--> \u001b[39m\u001b[32m113\u001b[39m omega_left = \u001b[43mget_projection_matrix\u001b[49m\u001b[43m(\u001b[49m\u001b[43mprojection_type\u001b[49m\u001b[43m,\u001b[49m\u001b[43mn\u001b[49m\u001b[43m,\u001b[49m\u001b[43ml\u001b[49m\u001b[43m)\u001b[49m\n\u001b[32m    114\u001b[39m omega_right = get_projection_matrix(projection_type,d,l)\n\u001b[32m    116\u001b[39m \u001b[38;5;66;03m# Perform RPI\u001b[39;00m\n",
      "\u001b[36mFile \u001b[39m\u001b[32mc:\\Users\\Tom\\Desktop\\python\\stat-6104\\random_matrix.py:218\u001b[39m, in \u001b[36mget_projection_matrix\u001b[39m\u001b[34m(projection_type, m, n)\u001b[39m\n\u001b[32m    216\u001b[39m     \u001b[38;5;28;01mreturn\u001b[39;00m srht_matrix(m,n)\n\u001b[32m    217\u001b[39m \u001b[38;5;28;01mif\u001b[39;00m projection_type == \u001b[33m'\u001b[39m\u001b[33msrft\u001b[39m\u001b[33m'\u001b[39m:\n\u001b[32m--> \u001b[39m\u001b[32m218\u001b[39m     \u001b[38;5;28;01mreturn\u001b[39;00m \u001b[43msrft_matrix\u001b[49m\u001b[43m(\u001b[49m\u001b[43mm\u001b[49m\u001b[43m,\u001b[49m\u001b[43mn\u001b[49m\u001b[43m)\u001b[49m\n\u001b[32m    219\u001b[39m \u001b[38;5;28;01mif\u001b[39;00m projection_type == \u001b[33m'\u001b[39m\u001b[33msparse-jl\u001b[39m\u001b[33m'\u001b[39m:\n\u001b[32m    220\u001b[39m     \u001b[38;5;28;01mreturn\u001b[39;00m sparse_jl_matrix(m,n)\n",
      "\u001b[36mFile \u001b[39m\u001b[32mc:\\Users\\Tom\\Desktop\\python\\stat-6104\\random_matrix.py:87\u001b[39m, in \u001b[36msrft_matrix\u001b[39m\u001b[34m(n, l, seed)\u001b[39m\n\u001b[32m     84\u001b[39m D = np.diag(np.exp(\u001b[32m1\u001b[39mj * \u001b[32m2\u001b[39m * np.pi * np.random.rand(n)))\n\u001b[32m     86\u001b[39m \u001b[38;5;66;03m# DFT matrix F (unitary)\u001b[39;00m\n\u001b[32m---> \u001b[39m\u001b[32m87\u001b[39m F = \u001b[43mnp\u001b[49m\u001b[43m.\u001b[49m\u001b[43mfft\u001b[49m\u001b[43m.\u001b[49m\u001b[43mfft\u001b[49m\u001b[43m(\u001b[49m\u001b[43mnp\u001b[49m\u001b[43m.\u001b[49m\u001b[43meye\u001b[49m\u001b[43m(\u001b[49m\u001b[43mn\u001b[49m\u001b[43m)\u001b[49m\u001b[43m,\u001b[49m\u001b[43m \u001b[49m\u001b[43mnorm\u001b[49m\u001b[43m=\u001b[49m\u001b[33;43m\"\u001b[39;49m\u001b[33;43mortho\u001b[39;49m\u001b[33;43m\"\u001b[39;49m\u001b[43m)\u001b[49m\n\u001b[32m     89\u001b[39m \u001b[38;5;66;03m# Uniform column sampling S\u001b[39;00m\n\u001b[32m     90\u001b[39m cols = np.random.choice(n, size=l, replace=\u001b[38;5;28;01mTrue\u001b[39;00m)\n",
      "\u001b[36mFile \u001b[39m\u001b[32mc:\\Users\\Tom\\Desktop\\python\\stat-6104\\.venv\\Lib\\site-packages\\numpy\\fft\\_pocketfft.py:209\u001b[39m, in \u001b[36mfft\u001b[39m\u001b[34m(a, n, axis, norm, out)\u001b[39m\n\u001b[32m    207\u001b[39m \u001b[38;5;28;01mif\u001b[39;00m n \u001b[38;5;129;01mis\u001b[39;00m \u001b[38;5;28;01mNone\u001b[39;00m:\n\u001b[32m    208\u001b[39m     n = a.shape[axis]\n\u001b[32m--> \u001b[39m\u001b[32m209\u001b[39m output = \u001b[43m_raw_fft\u001b[49m\u001b[43m(\u001b[49m\u001b[43ma\u001b[49m\u001b[43m,\u001b[49m\u001b[43m \u001b[49m\u001b[43mn\u001b[49m\u001b[43m,\u001b[49m\u001b[43m \u001b[49m\u001b[43maxis\u001b[49m\u001b[43m,\u001b[49m\u001b[43m \u001b[49m\u001b[38;5;28;43;01mFalse\u001b[39;49;00m\u001b[43m,\u001b[49m\u001b[43m \u001b[49m\u001b[38;5;28;43;01mTrue\u001b[39;49;00m\u001b[43m,\u001b[49m\u001b[43m \u001b[49m\u001b[43mnorm\u001b[49m\u001b[43m,\u001b[49m\u001b[43m \u001b[49m\u001b[43mout\u001b[49m\u001b[43m)\u001b[49m\n\u001b[32m    210\u001b[39m \u001b[38;5;28;01mreturn\u001b[39;00m output\n",
      "\u001b[36mFile \u001b[39m\u001b[32mc:\\Users\\Tom\\Desktop\\python\\stat-6104\\.venv\\Lib\\site-packages\\numpy\\fft\\_pocketfft.py:94\u001b[39m, in \u001b[36m_raw_fft\u001b[39m\u001b[34m(a, n, axis, is_real, is_forward, norm, out)\u001b[39m\n\u001b[32m     90\u001b[39m \u001b[38;5;28;01melif\u001b[39;00m ((shape := \u001b[38;5;28mgetattr\u001b[39m(out, \u001b[33m\"\u001b[39m\u001b[33mshape\u001b[39m\u001b[33m\"\u001b[39m, \u001b[38;5;28;01mNone\u001b[39;00m)) \u001b[38;5;129;01mis\u001b[39;00m \u001b[38;5;129;01mnot\u001b[39;00m \u001b[38;5;28;01mNone\u001b[39;00m\n\u001b[32m     91\u001b[39m       \u001b[38;5;129;01mand\u001b[39;00m (\u001b[38;5;28mlen\u001b[39m(shape) != a.ndim \u001b[38;5;129;01mor\u001b[39;00m shape[axis] != n_out)):\n\u001b[32m     92\u001b[39m     \u001b[38;5;28;01mraise\u001b[39;00m \u001b[38;5;167;01mValueError\u001b[39;00m(\u001b[33m\"\u001b[39m\u001b[33moutput array has wrong shape.\u001b[39m\u001b[33m\"\u001b[39m)\n\u001b[32m---> \u001b[39m\u001b[32m94\u001b[39m \u001b[38;5;28;01mreturn\u001b[39;00m \u001b[43mufunc\u001b[49m\u001b[43m(\u001b[49m\u001b[43ma\u001b[49m\u001b[43m,\u001b[49m\u001b[43m \u001b[49m\u001b[43mfct\u001b[49m\u001b[43m,\u001b[49m\u001b[43m \u001b[49m\u001b[43maxes\u001b[49m\u001b[43m=\u001b[49m\u001b[43m[\u001b[49m\u001b[43m(\u001b[49m\u001b[43maxis\u001b[49m\u001b[43m,\u001b[49m\u001b[43m)\u001b[49m\u001b[43m,\u001b[49m\u001b[43m \u001b[49m\u001b[43m(\u001b[49m\u001b[43m)\u001b[49m\u001b[43m,\u001b[49m\u001b[43m \u001b[49m\u001b[43m(\u001b[49m\u001b[43maxis\u001b[49m\u001b[43m,\u001b[49m\u001b[43m)\u001b[49m\u001b[43m]\u001b[49m\u001b[43m,\u001b[49m\u001b[43m \u001b[49m\u001b[43mout\u001b[49m\u001b[43m=\u001b[49m\u001b[43mout\u001b[49m\u001b[43m)\u001b[49m\n",
      "\u001b[31mKeyboardInterrupt\u001b[39m: "
     ]
    }
   ],
   "source": [
    "methods = {\n",
    "    \"MU C\": nmf_compress_mu,\n",
    "    'MU SC': nmf_structured_compress_mu,\n",
    "    'HALS C': nmf_compress_hals,\n",
    "    'HALS SC': nmf_structured_compress_hals\n",
    "}\n",
    "\n",
    "projection_types = [\n",
    "    'gaussian',\n",
    "    # 'srht',\n",
    "    # 'givens',\n",
    "    'srft',\n",
    "    'sparse-jl',\n",
    "    'count-sketch',\n",
    "]\n",
    "\n",
    "stats = benchmark_faces(X_faces,methods,projection_types,r=49,runs=10)\n",
    "stats"
   ]
  },
  {
   "cell_type": "markdown",
   "metadata": {},
   "source": [
    "HALS SC performs the best, across all projection methods, but takes the longest to compute. \n",
    "\n",
    "HALS C performs the besst with traditional gaussian compression, MU C performs the best with count-sketch, and MU SC with gaussian."
   ]
  },
  {
   "cell_type": "markdown",
   "metadata": {},
   "source": [
    "**Mutiplicative Updates**"
   ]
  },
  {
   "cell_type": "code",
   "execution_count": null,
   "metadata": {},
   "outputs": [],
   "source": [
    "# Standard MU Algorithm\n",
    "X_mu,Y_mu,errors_mu = nmf_mu(X_faces,49,max_iter=100)\n",
    "\n",
    "# Standard Compressed MU\n",
    "X_c_mu,Y_c_mu,errors_s_mu = nmf_compress_mu(X_faces,49,max_iter=100,projection_type='count-sketch')\n",
    "\n",
    "# Structured Compressed MU\n",
    "X_sc_mu,Y_sc_mu,errors_sc_mu = nmf_structured_compress_mu(X_faces,49,max_iter=100,projection_type='gaussian')\n",
    "\n",
    "# Errors \n",
    "mu_errors_df = pd.DataFrame({'MU':errors_mu,\n",
    "              'C MU':errors_s_mu,\n",
    "              'SC MU':errors_sc_mu})"
   ]
  },
  {
   "cell_type": "markdown",
   "metadata": {},
   "source": [
    "*Plot: Reconstruction Errors*"
   ]
  },
  {
   "cell_type": "code",
   "execution_count": null,
   "metadata": {},
   "outputs": [],
   "source": [
    "fig = go.Figure()\n",
    "\n",
    "for method in mu_errors_df.columns:\n",
    "    fig.add_trace(\n",
    "        go.Scatter(\n",
    "            y = mu_errors_df[method],\n",
    "            name = method\n",
    "        )\n",
    "    )\n",
    "\n",
    "fig.update_layout(\n",
    "    title = 'CBCL Reconstruction Error by HALS Method',\n",
    "    yaxis_title = 'Reconstruction Error',\n",
    "    xaxis_title = 'Iteration'\n",
    ")\n",
    "fig.show()"
   ]
  },
  {
   "cell_type": "markdown",
   "metadata": {},
   "source": [
    "*Plot: Visual Reconstruction Error by Method*"
   ]
  },
  {
   "cell_type": "code",
   "execution_count": null,
   "metadata": {},
   "outputs": [],
   "source": [
    "n_images = 4\n",
    "\n",
    "fig = make_subplots(\n",
    "    rows=4, cols=4,\n",
    "    subplot_titles=([\"Original Images\"] + [' ']*3 + \n",
    "                   [\"MU\"] + [' ']*3 + \n",
    "                   [\"Comp. MU (Count-Sketch)\"] + [' ']*3 + \n",
    "                   [\"Struct. Comp. MU (Gaussian)\"] + [' ']*3),\n",
    "    vertical_spacing=0.05,\n",
    "    horizontal_spacing=0.02\n",
    ")\n",
    "\n",
    "matrix_pairs = [\n",
    "    (\"Original\", X_faces),\n",
    "    (\"MU\", X_mu @ Y_mu),\n",
    "    (\"Compressed MU\", X_c_mu @ Y_c_mu),\n",
    "    (\"Structured Compressed MU\", X_sc_mu @ Y_sc_mu)\n",
    "]\n",
    "\n",
    "for row, (name, Z) in enumerate(matrix_pairs, start=1):\n",
    "    for col in range(1, n_images + 1):\n",
    "        z = Z[col-1].reshape(64, 64)\n",
    "        fig.add_trace(\n",
    "            go.Heatmap(z=z, colorscale='gray', showscale=False),\n",
    "            row=row, col=col\n",
    "        )\n",
    "  \n",
    "fig.update_layout(\n",
    "    title=\"NMF MU Reconstruction\",\n",
    "    width=800,\n",
    "    height=600,\n",
    "    font=dict(size=8), \n",
    "    margin=dict(l=10, r=10, b=10, t=40, pad=0), \n",
    "    plot_bgcolor='white', \n",
    "    paper_bgcolor='white'\n",
    ")\n",
    "\n",
    "fig.update_annotations(font_size=10)\n",
    "fig.update_yaxes(autorange='reversed')\n",
    "fig.show()"
   ]
  },
  {
   "cell_type": "markdown",
   "metadata": {},
   "source": [
    "**Hierarchical Least Squares**"
   ]
  },
  {
   "cell_type": "code",
   "execution_count": null,
   "metadata": {},
   "outputs": [],
   "source": [
    "# Standard MU Algorithm\n",
    "X_hals,Y_hals,errors_hals = nmf_hals(X_faces,49,max_iter=100)\n",
    "\n",
    "# Standard Compressed MU\n",
    "X_c_hals,Y_c_hals,errors_s_hals = nmf_compress_hals(X_faces,49,max_iter=100,projection_type='gaussian')\n",
    "\n",
    "# Structured Compressed MU\n",
    "X_sc_hals,Y_sc_hals,errors_sc_hals = nmf_structured_compress_hals(X_faces,49,max_iter=100,projection_type='count-sketch')\n",
    "\n",
    "# Errors dataframe\n",
    "hals_errors_df = pd.DataFrame({'HALS':errors_hals,\n",
    "              'C HALS':errors_s_hals,\n",
    "              'SC HALS':errors_sc_hals})"
   ]
  },
  {
   "cell_type": "markdown",
   "metadata": {},
   "source": [
    "*Plot: Reconstruction Error*"
   ]
  },
  {
   "cell_type": "code",
   "execution_count": null,
   "metadata": {},
   "outputs": [],
   "source": [
    "fig = go.Figure()\n",
    "\n",
    "for method in hals_errors_df.columns:\n",
    "    fig.add_trace(\n",
    "        go.Scatter(\n",
    "            y = hals_errors_df[method],\n",
    "            name = method\n",
    "        )\n",
    "    )\n",
    "\n",
    "fig.update_layout(\n",
    "    title = 'CBCL Reconstruction Error by HALS Method',\n",
    "    yaxis_title = 'Reconstruction Error',\n",
    "    xaxis_title = 'Iteration'\n",
    ")\n",
    "fig.show()"
   ]
  },
  {
   "cell_type": "markdown",
   "metadata": {},
   "source": [
    "*Plot: Visual Reconstruction Error by Method*"
   ]
  },
  {
   "cell_type": "code",
   "execution_count": null,
   "metadata": {},
   "outputs": [],
   "source": [
    "n_images = 4\n",
    "\n",
    "fig = make_subplots(\n",
    "    rows=4, cols=4,\n",
    "    subplot_titles=([\"Original Images\"] + [' ']*3 + \n",
    "                   [\"HALS\"] + [' ']*3 + \n",
    "                   [\"Comp. HALS (Gaussian)\"] + [' ']*3 + \n",
    "                   [\"Struct. Comp. HALS (Count-Sketch)\"] + [' ']*3),\n",
    "    vertical_spacing=0.05,\n",
    "    horizontal_spacing=0.02\n",
    ")\n",
    "\n",
    "matrix_pairs = [\n",
    "    (\"Original\", X_faces),\n",
    "    (\"HALS\", X_hals @ Y_hals),\n",
    "    (\"Compressed HALS\", X_c_hals @ Y_c_hals),\n",
    "    (\"Structured Compressed HALS\", X_sc_hals @ Y_sc_hals)\n",
    "]\n",
    "\n",
    "for row, (name, Z) in enumerate(matrix_pairs, start=1):\n",
    "    for col in range(1, n_images + 1):\n",
    "        z = Z[col-1].reshape(64, 64)\n",
    "        fig.add_trace(\n",
    "            go.Heatmap(z=z, colorscale='gray', showscale=False),\n",
    "            row=row, col=col\n",
    "        )\n",
    "\n",
    "fig.update_layout(\n",
    "    title=\"NMF HALS Reconstruction\",\n",
    "    width=800,\n",
    "    height=600,\n",
    "    font=dict(size=8),  \n",
    "    margin=dict(l=10, r=10, b=10, t=40, pad=0), \n",
    "    plot_bgcolor='white',\n",
    "    paper_bgcolor='white'\n",
    ")\n",
    "\n",
    "fig.update_annotations(font_size=10)\n",
    "fig.update_yaxes(autorange='reversed')\n",
    "fig.show()"
   ]
  },
  {
   "cell_type": "markdown",
   "metadata": {},
   "source": [
    "### **Harvard Microarray Dataset**"
   ]
  },
  {
   "cell_type": "code",
   "execution_count": null,
   "metadata": {},
   "outputs": [],
   "source": [
    "df = pd.read_excel('dataseta_12600gene.xls')\n",
    "X = df.iloc[:, 2:].values \n",
    "\n",
    "# 2. Preprocessing\n",
    "X = np.where(X < 0, 0, X)\n",
    "X = np.log2(X + 1)  "
   ]
  },
  {
   "cell_type": "markdown",
   "metadata": {},
   "source": [
    "*Multiplicative Updates*"
   ]
  },
  {
   "cell_type": "code",
   "execution_count": null,
   "metadata": {},
   "outputs": [],
   "source": [
    "# Standard MU Algorithm\n",
    "X_mu,Y_mu,errors_mu = nmf_mu(X,5,max_iter=100)\n",
    "\n",
    "# Standard Compressed MU\n",
    "X_c_mu,Y_c_mu,errors_s_mu = nmf_compress_mu(X,5,max_iter=100)\n",
    "\n",
    "# Structured Compressed MU\n",
    "X_sc_mu,Y_sc_mu,errors_sc_mu = nmf_structured_compress_mu(X,5,max_iter=100)"
   ]
  },
  {
   "cell_type": "code",
   "execution_count": null,
   "metadata": {},
   "outputs": [],
   "source": [
    "mu_errors_df = pd.DataFrame({'MU':errors_mu,\n",
    "              'C MU':errors_s_mu,\n",
    "              'SC MU':errors_sc_mu})"
   ]
  },
  {
   "cell_type": "code",
   "execution_count": null,
   "metadata": {},
   "outputs": [],
   "source": [
    "fig = go.Figure()\n",
    "\n",
    "for method in mu_errors_df.columns:\n",
    "    fig.add_trace(\n",
    "        go.Scatter(\n",
    "            y = mu_errors_df[method],\n",
    "            name = method\n",
    "        )\n",
    "    )\n",
    "\n",
    "fig.update_layout(\n",
    "    title = 'Microarray Reconstruction Error by MU Method',\n",
    "    yaxis_title = 'Reconstruction Error',\n",
    "    xaxis_title = 'Iteration',\n",
    "    width = 600,\n",
    "    height = 500\n",
    ")\n",
    "fig.show()"
   ]
  },
  {
   "cell_type": "markdown",
   "metadata": {},
   "source": []
  },
  {
   "cell_type": "code",
   "execution_count": null,
   "metadata": {},
   "outputs": [],
   "source": []
  }
 ],
 "metadata": {
  "kernelspec": {
   "display_name": ".venv",
   "language": "python",
   "name": "python3"
  },
  "language_info": {
   "codemirror_mode": {
    "name": "ipython",
    "version": 3
   },
   "file_extension": ".py",
   "mimetype": "text/x-python",
   "name": "python",
   "nbconvert_exporter": "python",
   "pygments_lexer": "ipython3",
   "version": "3.9.6"
  }
 },
 "nbformat": 4,
 "nbformat_minor": 2
}
