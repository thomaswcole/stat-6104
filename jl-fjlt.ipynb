{
 "cells": [
  {
   "cell_type": "code",
   "execution_count": 1,
   "metadata": {},
   "outputs": [],
   "source": [
    "import numpy as np\n",
    "from sklearn.random_projection import GaussianRandomProjection\n",
    "from scipy.fft import fft, ifft"
   ]
  },
  {
   "cell_type": "markdown",
   "metadata": {},
   "source": [
    "**JL with Gaussian Random Projection**"
   ]
  },
  {
   "cell_type": "code",
   "execution_count": 2,
   "metadata": {},
   "outputs": [],
   "source": [
    "def traditional_jl(X, k):\n",
    "    \"\"\"\n",
    "    Perform dimensionality reduction using Gaussian random projection (Johnson-Lindenstrauss).\n",
    "    \n",
    "    Parameters:\n",
    "    - X: Input data matrix of shape (n_samples, d)\n",
    "    - k: The target dimensionality (the number of dimensions to reduce to)\n",
    "    \n",
    "    Returns:\n",
    "    - X_reduced: Reduced data matrix of shape (n_samples, k)\n",
    "    \"\"\"\n",
    "    transformer = GaussianRandomProjection(n_components=k)\n",
    "    X_reduced = transformer.fit_transform(X)\n",
    "    return X_reduced"
   ]
  },
  {
   "cell_type": "code",
   "execution_count": 3,
   "metadata": {},
   "outputs": [
    {
     "name": "stdout",
     "output_type": "stream",
     "text": [
      "Original shape: (1000, 10000)\n",
      "Reduced shape: (1000, 100)\n"
     ]
    }
   ],
   "source": [
    "# Example usage\n",
    "n_samples = 1000\n",
    "d = 10000\n",
    "X = np.random.randn(n_samples, d)\n",
    "\n",
    "# Reduce dimensionality to k = 100\n",
    "k = 100\n",
    "X_reduced = traditional_jl(X, k)\n",
    "\n",
    "print(f\"Original shape: {X.shape}\")\n",
    "print(f\"Reduced shape: {X_reduced.shape}\")"
   ]
  },
  {
   "cell_type": "markdown",
   "metadata": {},
   "source": [
    "**FJLT**"
   ]
  },
  {
   "cell_type": "code",
   "execution_count": 6,
   "metadata": {},
   "outputs": [],
   "source": [
    "def fast_jl(X, k):\n",
    "    \"\"\"\n",
    "    Perform dimensionality reduction using Fast Johnson-Lindenstrauss Transform (FJLT).\n",
    "    \n",
    "    Parameters:\n",
    "    - X: Input data matrix of shape (n_samples, d)\n",
    "    - k: The target dimensionality (the number of dimensions to reduce to)\n",
    "    \n",
    "    Returns:\n",
    "    - X_reduced: Reduced data matrix of shape (n_samples, k)\n",
    "    \"\"\"\n",
    "    n_samples, d = X.shape\n",
    "    \n",
    "    # Step 1: Create a random projection matrix with values from {-1, 1}\n",
    "    random_signs = np.random.choice([-1, 1], size=(d, k))\n",
    "    \n",
    "    # Step 2: Apply random sign projection\n",
    "    X_projected = np.dot(X, random_signs)\n",
    "    \n",
    "    # Step 3: Apply Fourier transform (this step can be adjusted based on specific FJLT methods)\n",
    "    X_fft = fft(X_projected, axis=1)  # Apply FFT to each row\n",
    "    \n",
    "    # Step 4: Reduce to k dimensions using inverse FFT and return\n",
    "    X_reduced = ifft(X_fft[:, :k], axis=1)\n",
    "    \n",
    "    return X_reduced.real  # Take the real part if using FFT"
   ]
  },
  {
   "cell_type": "code",
   "execution_count": 7,
   "metadata": {},
   "outputs": [
    {
     "name": "stdout",
     "output_type": "stream",
     "text": [
      "Original shape: (1000, 10000)\n",
      "Reduced shape: (1000, 100)\n"
     ]
    }
   ],
   "source": [
    "# Example usage\n",
    "n_samples = 1000\n",
    "d = 10000\n",
    "X = np.random.randn(n_samples, d)\n",
    "\n",
    "# Reduce dimensionality to k = 100\n",
    "k = 100\n",
    "X_reduced = fast_jl(X, k)\n",
    "\n",
    "print(f\"Original shape: {X.shape}\")\n",
    "print(f\"Reduced shape: {X_reduced.shape}\")"
   ]
  },
  {
   "cell_type": "code",
   "execution_count": null,
   "metadata": {},
   "outputs": [
    {
     "name": "stdout",
     "output_type": "stream",
     "text": [
      "Original shape: (1000, 1024)\n",
      "Reduced shape: (1000, 100)\n"
     ]
    }
   ],
   "source": [
    "n_samples = 1000\n",
    "d = 1024  # Ensure the dimensionality is a power of 2\n",
    "X = np.random.randn(n_samples, d)\n",
    "k = 100\n",
    "X_reduced = fast_jl(X, k)\n",
    "print(f\"Original shape: {X.shape}\")\n",
    "print(f\"Reduced shape: {X_reduced.shape}\")"
   ]
  }
 ],
 "metadata": {
  "kernelspec": {
   "display_name": ".venv",
   "language": "python",
   "name": "python3"
  },
  "language_info": {
   "codemirror_mode": {
    "name": "ipython",
    "version": 3
   },
   "file_extension": ".py",
   "mimetype": "text/x-python",
   "name": "python",
   "nbconvert_exporter": "python",
   "pygments_lexer": "ipython3",
   "version": "3.13.2"
  }
 },
 "nbformat": 4,
 "nbformat_minor": 2
}
