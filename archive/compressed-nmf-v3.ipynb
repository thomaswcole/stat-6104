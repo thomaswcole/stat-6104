{
 "cells": [
  {
   "cell_type": "code",
   "execution_count": 132,
   "metadata": {},
   "outputs": [],
   "source": [
    "import numpy as np\n",
    "from scipy.linalg import svd\n",
    "import plotly.graph_objects as go\n",
    "import pandas as pd"
   ]
  },
  {
   "cell_type": "markdown",
   "metadata": {},
   "source": [
    "*Compression Algorithm Fig 1*"
   ]
  },
  {
   "cell_type": "code",
   "execution_count": 83,
   "metadata": {},
   "outputs": [],
   "source": [
    "def randomized_compression(A, r, rOV, w):\n",
    "    \"\"\"\n",
    "    Compute a compression matrix Q for A using a randomized algorithm.\n",
    "\n",
    "    Parameters:\n",
    "    A (numpy array): Input matrix (m x n)\n",
    "    r (int): Target rank\n",
    "    rOV (int): Oversampling parameter\n",
    "    w (int): Exponent for the power iteration\n",
    "\n",
    "    Returns:\n",
    "    Q (numpy array): Compression matrix (m x (r + rOV))\n",
    "    \"\"\"\n",
    "    m, n = A.shape\n",
    "    d = r + rOV  # Effective reduced dimension\n",
    "\n",
    "    # Step 1: Draw a Gaussian random matrix Omega_L\n",
    "    Omega_L = np.random.randn(n, d)\n",
    "\n",
    "    # Step 2: Compute B = (A A^T)^w A Omega_L\n",
    "    B = A @ Omega_L  # Initial multiplication: A Omega_L\n",
    "    for _ in range(w):\n",
    "        B = (A @ A.T) @ B # Power iteration: (A A^T) B\n",
    "\n",
    "    # Step 3: Compute the orthogonal basis Q using QR decomposition\n",
    "    Q, _ = np.linalg.qr(B)\n",
    "\n",
    "    return Q"
   ]
  },
  {
   "cell_type": "markdown",
   "metadata": {},
   "source": [
    "*NMF with Structured Random Compression Fig 2* "
   ]
  },
  {
   "cell_type": "code",
   "execution_count": null,
   "metadata": {},
   "outputs": [],
   "source": [
    "def randomized_nmf(A, r, r_ov=5, w=1, max_iter=500, tol=1e-6):\n",
    "    \"\"\"\n",
    "    NMF with compression matrices L and R, random initialization for Y_k,\n",
    "    and multiplicative updates with proper dimension handling.\n",
    "    \"\"\"\n",
    "    m, n = A.shape\n",
    "    d = r + r_ov  # Effective reduced dimension\n",
    "\n",
    "    # --- Step 1: Compute compression matrices L and R ---\n",
    "    L = randomized_compression(A, r, r_ov, w)      # m × d\n",
    "    R = randomized_compression(A.T, r, r_ov, w).T  # d × n\n",
    "\n",
    "    # --- Step 3: Initialize Y_k as random non-negative ---\n",
    "    Y_k = np.abs(np.random.randn(r, n))  # r × n\n",
    "    Y_k = np.maximum(Y_k, 1e-6)          # Enforce non-negativity\n",
    "\n",
    "    # Initialize X\n",
    "    X_k = np.abs(np.random.randn(m, r))   # m × r\n",
    "    X_k = np.maximum(X_k, 1e-6)\n",
    "\n",
    "    # --- Main loop ---\n",
    "    errors = []\n",
    "    for k in range(max_iter):\n",
    "        # --- Update X_{k+1} ---\n",
    "        # numerator: (m × d) @ (d × r) = m × r\n",
    "        numerator = (A @ R.T) @ (R @ Y_k.T)\n",
    "        # denominator: (m × r) @ (r × d) @ (d × r) = m × r\n",
    "        denominator = X_k @ (Y_k @ R.T @ R @ Y_k.T)\n",
    "        X_k_plus1 = X_k * numerator / (denominator + 1e-10)\n",
    "        X_k_plus1 = np.maximum(X_k_plus1, 1e-6)\n",
    "\n",
    "        # --- Update Y_{k+1} ---\n",
    "        # numerator: (r × d) @ (d × n) = r × n\n",
    "        numerator = (L.T @ X_k_plus1).T @ (L.T @ A)\n",
    "        # denominator: (r × d) @ (d × r) @ (r × n) = r × n\n",
    "        denominator = (L.T @ X_k_plus1).T @ (L.T @ X_k_plus1) @ Y_k\n",
    "        Y_k_plus1 = Y_k * numerator / (denominator + 1e-10)\n",
    "        Y_k_plus1 = np.maximum(Y_k_plus1, 1e-6)\n",
    "\n",
    "        # --- Convergence check ---\n",
    "        error = np.linalg.norm(A - X_k_plus1 @ Y_k_plus1, 'fro') / np.linalg.norm(A, 'fro')\n",
    "        errors.append(error)\n",
    "\n",
    "        X_k, Y_k = X_k_plus1, Y_k_plus1\n",
    "\n",
    "    return X_k, Y_k, errors"
   ]
  },
  {
   "cell_type": "code",
   "execution_count": 111,
   "metadata": {},
   "outputs": [
    {
     "name": "stdout",
     "output_type": "stream",
     "text": [
      "Final normalized error: 0.5402\n"
     ]
    }
   ],
   "source": [
    "# Usage\n",
    "np.random.seed(42)\n",
    "A = np.abs(np.random.randn(100, 50))  # Non-negative input\n",
    "X, Y, errors = randomized_nmf(A, r=5,w=5)\n",
    "print(f\"Final normalized error: {errors[-1]:.4f}\")"
   ]
  },
  {
   "cell_type": "markdown",
   "metadata": {},
   "source": [
    "*Error Plot*"
   ]
  },
  {
   "cell_type": "code",
   "execution_count": 112,
   "metadata": {},
   "outputs": [
    {
     "data": {
      "application/vnd.plotly.v1+json": {
       "config": {
        "plotlyServerURL": "https://plot.ly"
       },
       "data": [
        {
         "type": "scatter",
         "y": [
          0.6139577686908603,
          0.6107342651585842,
          0.6080776452876504,
          0.6054984626407467,
          0.6029456257762371,
          0.6003893247070958,
          0.597814338810864,
          0.5952151790081242,
          0.5925933243433156,
          0.5899563430270549,
          0.5873168268009396,
          0.5846892176121687,
          0.5820851123568697,
          0.579509951657268,
          0.576963379960695,
          0.5744428496269267,
          0.5719483664716206,
          0.5694865981323883,
          0.5670735157624135,
          0.56473521488168,
          0.5625063222111489,
          0.5604249162289828,
          0.5585239438668937,
          0.5568225413023788,
          0.5553225135830034,
          0.5540115697201746,
          0.5528698115914034,
          0.5518752930854769,
          0.5510071061451696,
          0.5502465346886833,
          0.5495772511518983,
          0.5489851791957159,
          0.548458276362598,
          0.5479863120282948,
          0.5475606648071639,
          0.5471741502074794,
          0.5468208773575298,
          0.5464961226876867,
          0.5461962044849682,
          0.5459183459075895,
          0.5456605221202815,
          0.5454212958851102,
          0.5451996523406061,
          0.5449948461980555,
          0.5448062734780913,
          0.5446333720903522,
          0.5444755578857466,
          0.5443321860657107,
          0.5442025370896463,
          0.5440858165810777,
          0.5439811644544961,
          0.5438876692614683,
          0.54380438516513,
          0.543730350260207,
          0.5436646054344058,
          0.5436062129615832,
          0.5435542738363033,
          0.5435079427734514,
          0.5434664399369644,
          0.5434290592357195,
          0.5433951709786996,
          0.5433642231345928,
          0.543335738351019,
          0.5433093086546817,
          0.5432845888181076,
          0.5432612889903241,
          0.5432391672120207,
          0.5432180223043088,
          0.5431976866892574,
          0.5431780211736748,
          0.5431589095974663,
          0.5431402545842694,
          0.5431219740394596,
          0.5431039983374955,
          0.5430862681139997,
          0.543068732575665,
          0.5430513483019638,
          0.5430340782316638,
          0.5430168910185276,
          0.5429997608614903,
          0.5429826671408499,
          0.5429655940969943,
          0.542948531234006,
          0.5429314727010365,
          0.5429144176047018,
          0.5428973698295712,
          0.5428803378073885,
          0.5428633341817443,
          0.5428463753739418,
          0.5428294810304192,
          0.5428126733846058,
          0.5427959765397664,
          0.5427794153748078,
          0.542763015166787,
          0.5427468004972497,
          0.5427307942706528,
          0.5427150174271655,
          0.5426994880347654,
          0.542684221167814,
          0.5426692285626491,
          0.5426545185000388,
          0.5426400958959466,
          0.5426259624163874,
          0.5426121168209976,
          0.5425985553979901,
          0.5425852723818182,
          0.5425722602759199,
          0.5425595104788388,
          0.5425470136052768,
          0.5425347598099604,
          0.5425227392939812,
          0.5425109424506775,
          0.5424993600932045,
          0.5424879836084407,
          0.5424768049196916,
          0.5424658166571575,
          0.5424550121060079,
          0.5424443851620944,
          0.5424339302675731,
          0.542423642331617,
          0.5424135166852051,
          0.5424035489529997,
          0.5423937348251517,
          0.5423840702274416,
          0.5423745511511084,
          0.5423651736080368,
          0.5423559336631371,
          0.5423468271809027,
          0.5423378502905398,
          0.542328998588101,
          0.5423202676561011,
          0.5423116531607893,
          0.5423031507304823,
          0.5422947560433319,
          0.5422864647656178,
          0.5422782723891748,
          0.5422701746078087,
          0.542262167267869,
          0.5422542461924524,
          0.5422464072256269,
          0.54223864641951,
          0.5422309599844879,
          0.5422233442573356,
          0.5422157956536369,
          0.5422083108099139,
          0.5422008865696202,
          0.5421935197588141,
          0.5421862074350142,
          0.5421789468209663,
          0.5421717352586883,
          0.5421645702414937,
          0.5421574493541139,
          0.5421503703208562,
          0.5421433309913073,
          0.5421363293234621,
          0.542129363372217,
          0.5421224312841242,
          0.5421155312890966,
          0.5421086617749806,
          0.5421018210471048,
          0.5420950075124628,
          0.542088219652938,
          0.5420814560041016,
          0.5420747150702555,
          0.5420679954958757,
          0.5420612957806896,
          0.5420546144829117,
          0.5420479501567892,
          0.5420413013306652,
          0.5420346665384174,
          0.5420280441889903,
          0.5420214326580223,
          0.5420148302001825,
          0.5420082350001897,
          0.5420016451370235,
          0.5419950585637673,
          0.5419884730120433,
          0.541981886071536,
          0.5419752951512412,
          0.5419686974189762,
          0.5419620897458207,
          0.5419554687485587,
          0.5419488307375924,
          0.5419421716829521,
          0.541935487184895,
          0.5419287724449183,
          0.5419220222380625,
          0.5419152308935492,
          0.5419083922829422,
          0.5419014997396553,
          0.5418945461260231,
          0.5418875238090516,
          0.5418804246743695,
          0.5418732401572081,
          0.5418659613008805,
          0.5418585788078513,
          0.5418510831641082,
          0.5418434647657363,
          0.5418357140849278,
          0.5418278218729259,
          0.541819779398986,
          0.5418115787234797,
          0.541803213000163,
          0.5417946767990854,
          0.5417859664376641,
          0.5417770803033856,
          0.5417680191478813,
          0.5417587863293701,
          0.5417493879793125,
          0.5417398331060878,
          0.5417301335166933,
          0.5417203035191541,
          0.5417103597601067,
          0.5417003207689858,
          0.5416902063912303,
          0.5416800371877681,
          0.5416698337475496,
          0.541659616079537,
          0.541649403033459,
          0.5416392118031097,
          0.5416290575559325,
          0.5416189531964734,
          0.5416089092652834,
          0.5415989339622886,
          0.5415890332740241,
          0.5415792111781181,
          0.5415694698962688,
          0.541559810168264,
          0.5415502315235996,
          0.5415407325328238,
          0.5415313110269866,
          0.5415219642795476,
          0.5415126891498732,
          0.5415034821915954,
          0.5414943397344069,
          0.5414852579751229,
          0.5414762329059306,
          0.5414672604361368,
          0.5414583364150847,
          0.5414494566466612,
          0.541440616919798,
          0.5414318130822503,
          0.5414230409368609,
          0.5414142964354538,
          0.5414055756720827,
          0.541396874932037,
          0.5413881907415939,
          0.5413795199174191,
          0.5413708596143336,
          0.5413622073702328,
          0.5413535611470605,
          0.5413449193668993,
          0.5413362809423593,
          0.5413276453005876,
          0.5413190124003394,
          0.5413103827416778,
          0.541301757367988,
          0.5412931378601263,
          0.5412845263226668,
          0.5412759253623527,
          0.5412673380590338,
          0.5412587679295242,
          0.541250218884998,
          0.5412416951826893,
          0.5412332013728199,
          0.5412247422336032,
          0.5412163227336755,
          0.5412079479554975,
          0.5411996230610506,
          0.5411913531730106,
          0.5411831433338343,
          0.5411749984878141,
          0.5411669234206082,
          0.5411589227040763,
          0.5411510006534949,
          0.5411431612967448,
          0.5411354083466438,
          0.5411277451796779,
          0.5411201748203058,
          0.5411126999284571,
          0.5411053228275226,
          0.5410980454259161,
          0.5410908692886698,
          0.5410837956389958,
          0.5410768253649626,
          0.5410699590362109,
          0.541063196922929,
          0.5410565390165928,
          0.5410499850519976,
          0.5410435345300365,
          0.5410371867407503,
          0.5410309407862519,
          0.5410247956031501,
          0.5410187499841655,
          0.5410128025986751,
          0.5410069520119709,
          0.5410011967041409,
          0.540995535178448,
          0.5409899656942819,
          0.5409844865511182,
          0.5409790960297662,
          0.5409737923890989,
          0.5409685738738513,
          0.5409634387209684,
          0.540958385165968,
          0.5409534114484941,
          0.5409485157990322,
          0.5409436964590129,
          0.5409389516737247,
          0.5409342796914678,
          0.5409296787620544,
          0.5409251471345745,
          0.5409206830546278,
          0.5409162847611422,
          0.5409119504828775,
          0.5409076784371445,
          0.5409034668208338,
          0.5408993138071733,
          0.5408952175461079,
          0.5408911761581463,
          0.54088718773074,
          0.5408832503146439,
          0.5408793619205114,
          0.5408755205156941,
          0.5408717240212731,
          0.5408679703093383,
          0.5408642572155147,
          0.540860582500348,
          0.5408569438648952,
          0.5408533389747893,
          0.5408497654422514,
          0.5408462207732933,
          0.5408427024453696,
          0.5408392078767008,
          0.5408357344263224,
          0.5408322793951145,
          0.5408288400274477,
          0.5408254135135115,
          0.5408219969923991,
          0.5408185875560323,
          0.5408151822540046,
          0.5408117780994376,
          0.540808372075937,
          0.5408049611457365,
          0.5408015422589221,
          0.5407981123646166,
          0.5407946684232336,
          0.5407912074202985,
          0.5407877263820788,
          0.5407842223930681,
          0.5407806926154815,
          0.540777134310946,
          0.5407735448653731,
          0.5407699218340026,
          0.5407662629082199,
          0.5407625660173583,
          0.5407588293384621,
          0.5407550513356727,
          0.540751230804298,
          0.5407473669170786,
          0.5407434592733833,
          0.540739507950494,
          0.5407355135594247,
          0.5407314772780527,
          0.5407274009259294,
          0.5407232870002658,
          0.5407191386941119,
          0.5407149599239918,
          0.5407107553325267,
          0.5407065302702718,
          0.540702290753539,
          0.5406980433957433,
          0.5406937953110142,
          0.5406895539903241,
          0.540685327152135,
          0.5406811225713664,
          0.5406769478922079,
          0.5406728104317327,
          0.5406687169822442,
          0.5406646736206954,
          0.5406606855332826,
          0.5406567568624437,
          0.5406528905820789,
          0.5406490884050132,
          0.5406453507247061,
          0.5406416765912242,
          0.5406380637196986,
          0.5406345085528668,
          0.5406310063058168,
          0.5406275509492036,
          0.5406241354645159,
          0.5406207518902175,
          0.5406173914418619,
          0.5406140446915721,
          0.5406107015347471,
          0.5406073514719584,
          0.5406039837116208,
          0.5406005873047038,
          0.5405971512950377,
          0.540593664879839,
          0.5405901175820489,
          0.5405864994356403,
          0.5405828011839592,
          0.5405790144905298,
          0.5405751321583887,
          0.5405711483534311,
          0.5405670588239443,
          0.5405628611064986,
          0.5405585547062312,
          0.5405541412380263,
          0.5405496245144902,
          0.5405450105702723,
          0.5405403075967588,
          0.5405355258060779,
          0.5405306771993229,
          0.5405257752495575,
          0.5405208345119203,
          0.5405158701882851,
          0.5405108976163651,
          0.5405059318110828,
          0.5405009869993886,
          0.5404960762050892,
          0.5404912109113521,
          0.5404864008141242,
          0.5404816536759107,
          0.5404769752810544,
          0.5404723694963137,
          0.5404678384179965,
          0.5404633824795847,
          0.5404590007578829,
          0.5404546912646757,
          0.5404504511870378,
          0.5404462771521141,
          0.5404421654666663,
          0.540438112326011,
          0.5404341139925009,
          0.5404301669359358,
          0.5404262678902108,
          0.540422413967577,
          0.5404186026860722,
          0.5404148319673443,
          0.5404111001148206,
          0.5404074058064928,
          0.5404037480462804,
          0.5404001261149484,
          0.5403965395166911,
          0.5403929879238333,
          0.5403894711218729,
          0.5403859889567969,
          0.5403825412860941,
          0.5403791279344792,
          0.5403757486550257,
          0.540372403096111,
          0.5403690907743293,
          0.5403658110533252,
          0.5403625631283199,
          0.540359346015977,
          0.5403561585552342,
          0.5403529993984684,
          0.5403498670002685,
          0.5403467596506909,
          0.5403436754721794,
          0.5403406124297973,
          0.5403375683428207,
          0.5403345408970914,
          0.5403315276576633,
          0.5403285260813161,
          0.540325533528591,
          0.5403225472750568,
          0.5403195645215934,
          0.5403165824035439,
          0.5403135979986481,
          0.5403106083337634,
          0.5403076103903361,
          0.5403046011087738,
          0.5403015773918949,
          0.5402985361076155,
          0.5402954740911216,
          0.5402923881468342,
          0.5402892750505132,
          0.5402861315518851,
          0.54028295437824,
          0.5402797402394623,
          0.5402764858350128,
          0.5402731878634044,
          0.5402698430347344,
          0.5402664480868434,
          0.5402629998056685,
          0.5402594950503218,
          0.5402559307833712,
          0.5402523041106381,
          0.5402486123261052,
          0.5402448529189139,
          0.5402410236900488,
          0.5402371227744758,
          0.5402331487119856,
          0.5402291005143113,
          0.540224977734543,
          0.5402207805368495,
          0.5402165097678217
         ]
        }
       ],
       "layout": {
        "template": {
         "data": {
          "bar": [
           {
            "error_x": {
             "color": "#2a3f5f"
            },
            "error_y": {
             "color": "#2a3f5f"
            },
            "marker": {
             "line": {
              "color": "#E5ECF6",
              "width": 0.5
             },
             "pattern": {
              "fillmode": "overlay",
              "size": 10,
              "solidity": 0.2
             }
            },
            "type": "bar"
           }
          ],
          "barpolar": [
           {
            "marker": {
             "line": {
              "color": "#E5ECF6",
              "width": 0.5
             },
             "pattern": {
              "fillmode": "overlay",
              "size": 10,
              "solidity": 0.2
             }
            },
            "type": "barpolar"
           }
          ],
          "carpet": [
           {
            "aaxis": {
             "endlinecolor": "#2a3f5f",
             "gridcolor": "white",
             "linecolor": "white",
             "minorgridcolor": "white",
             "startlinecolor": "#2a3f5f"
            },
            "baxis": {
             "endlinecolor": "#2a3f5f",
             "gridcolor": "white",
             "linecolor": "white",
             "minorgridcolor": "white",
             "startlinecolor": "#2a3f5f"
            },
            "type": "carpet"
           }
          ],
          "choropleth": [
           {
            "colorbar": {
             "outlinewidth": 0,
             "ticks": ""
            },
            "type": "choropleth"
           }
          ],
          "contour": [
           {
            "colorbar": {
             "outlinewidth": 0,
             "ticks": ""
            },
            "colorscale": [
             [
              0,
              "#0d0887"
             ],
             [
              0.1111111111111111,
              "#46039f"
             ],
             [
              0.2222222222222222,
              "#7201a8"
             ],
             [
              0.3333333333333333,
              "#9c179e"
             ],
             [
              0.4444444444444444,
              "#bd3786"
             ],
             [
              0.5555555555555556,
              "#d8576b"
             ],
             [
              0.6666666666666666,
              "#ed7953"
             ],
             [
              0.7777777777777778,
              "#fb9f3a"
             ],
             [
              0.8888888888888888,
              "#fdca26"
             ],
             [
              1,
              "#f0f921"
             ]
            ],
            "type": "contour"
           }
          ],
          "contourcarpet": [
           {
            "colorbar": {
             "outlinewidth": 0,
             "ticks": ""
            },
            "type": "contourcarpet"
           }
          ],
          "heatmap": [
           {
            "colorbar": {
             "outlinewidth": 0,
             "ticks": ""
            },
            "colorscale": [
             [
              0,
              "#0d0887"
             ],
             [
              0.1111111111111111,
              "#46039f"
             ],
             [
              0.2222222222222222,
              "#7201a8"
             ],
             [
              0.3333333333333333,
              "#9c179e"
             ],
             [
              0.4444444444444444,
              "#bd3786"
             ],
             [
              0.5555555555555556,
              "#d8576b"
             ],
             [
              0.6666666666666666,
              "#ed7953"
             ],
             [
              0.7777777777777778,
              "#fb9f3a"
             ],
             [
              0.8888888888888888,
              "#fdca26"
             ],
             [
              1,
              "#f0f921"
             ]
            ],
            "type": "heatmap"
           }
          ],
          "histogram": [
           {
            "marker": {
             "pattern": {
              "fillmode": "overlay",
              "size": 10,
              "solidity": 0.2
             }
            },
            "type": "histogram"
           }
          ],
          "histogram2d": [
           {
            "colorbar": {
             "outlinewidth": 0,
             "ticks": ""
            },
            "colorscale": [
             [
              0,
              "#0d0887"
             ],
             [
              0.1111111111111111,
              "#46039f"
             ],
             [
              0.2222222222222222,
              "#7201a8"
             ],
             [
              0.3333333333333333,
              "#9c179e"
             ],
             [
              0.4444444444444444,
              "#bd3786"
             ],
             [
              0.5555555555555556,
              "#d8576b"
             ],
             [
              0.6666666666666666,
              "#ed7953"
             ],
             [
              0.7777777777777778,
              "#fb9f3a"
             ],
             [
              0.8888888888888888,
              "#fdca26"
             ],
             [
              1,
              "#f0f921"
             ]
            ],
            "type": "histogram2d"
           }
          ],
          "histogram2dcontour": [
           {
            "colorbar": {
             "outlinewidth": 0,
             "ticks": ""
            },
            "colorscale": [
             [
              0,
              "#0d0887"
             ],
             [
              0.1111111111111111,
              "#46039f"
             ],
             [
              0.2222222222222222,
              "#7201a8"
             ],
             [
              0.3333333333333333,
              "#9c179e"
             ],
             [
              0.4444444444444444,
              "#bd3786"
             ],
             [
              0.5555555555555556,
              "#d8576b"
             ],
             [
              0.6666666666666666,
              "#ed7953"
             ],
             [
              0.7777777777777778,
              "#fb9f3a"
             ],
             [
              0.8888888888888888,
              "#fdca26"
             ],
             [
              1,
              "#f0f921"
             ]
            ],
            "type": "histogram2dcontour"
           }
          ],
          "mesh3d": [
           {
            "colorbar": {
             "outlinewidth": 0,
             "ticks": ""
            },
            "type": "mesh3d"
           }
          ],
          "parcoords": [
           {
            "line": {
             "colorbar": {
              "outlinewidth": 0,
              "ticks": ""
             }
            },
            "type": "parcoords"
           }
          ],
          "pie": [
           {
            "automargin": true,
            "type": "pie"
           }
          ],
          "scatter": [
           {
            "fillpattern": {
             "fillmode": "overlay",
             "size": 10,
             "solidity": 0.2
            },
            "type": "scatter"
           }
          ],
          "scatter3d": [
           {
            "line": {
             "colorbar": {
              "outlinewidth": 0,
              "ticks": ""
             }
            },
            "marker": {
             "colorbar": {
              "outlinewidth": 0,
              "ticks": ""
             }
            },
            "type": "scatter3d"
           }
          ],
          "scattercarpet": [
           {
            "marker": {
             "colorbar": {
              "outlinewidth": 0,
              "ticks": ""
             }
            },
            "type": "scattercarpet"
           }
          ],
          "scattergeo": [
           {
            "marker": {
             "colorbar": {
              "outlinewidth": 0,
              "ticks": ""
             }
            },
            "type": "scattergeo"
           }
          ],
          "scattergl": [
           {
            "marker": {
             "colorbar": {
              "outlinewidth": 0,
              "ticks": ""
             }
            },
            "type": "scattergl"
           }
          ],
          "scattermap": [
           {
            "marker": {
             "colorbar": {
              "outlinewidth": 0,
              "ticks": ""
             }
            },
            "type": "scattermap"
           }
          ],
          "scattermapbox": [
           {
            "marker": {
             "colorbar": {
              "outlinewidth": 0,
              "ticks": ""
             }
            },
            "type": "scattermapbox"
           }
          ],
          "scatterpolar": [
           {
            "marker": {
             "colorbar": {
              "outlinewidth": 0,
              "ticks": ""
             }
            },
            "type": "scatterpolar"
           }
          ],
          "scatterpolargl": [
           {
            "marker": {
             "colorbar": {
              "outlinewidth": 0,
              "ticks": ""
             }
            },
            "type": "scatterpolargl"
           }
          ],
          "scatterternary": [
           {
            "marker": {
             "colorbar": {
              "outlinewidth": 0,
              "ticks": ""
             }
            },
            "type": "scatterternary"
           }
          ],
          "surface": [
           {
            "colorbar": {
             "outlinewidth": 0,
             "ticks": ""
            },
            "colorscale": [
             [
              0,
              "#0d0887"
             ],
             [
              0.1111111111111111,
              "#46039f"
             ],
             [
              0.2222222222222222,
              "#7201a8"
             ],
             [
              0.3333333333333333,
              "#9c179e"
             ],
             [
              0.4444444444444444,
              "#bd3786"
             ],
             [
              0.5555555555555556,
              "#d8576b"
             ],
             [
              0.6666666666666666,
              "#ed7953"
             ],
             [
              0.7777777777777778,
              "#fb9f3a"
             ],
             [
              0.8888888888888888,
              "#fdca26"
             ],
             [
              1,
              "#f0f921"
             ]
            ],
            "type": "surface"
           }
          ],
          "table": [
           {
            "cells": {
             "fill": {
              "color": "#EBF0F8"
             },
             "line": {
              "color": "white"
             }
            },
            "header": {
             "fill": {
              "color": "#C8D4E3"
             },
             "line": {
              "color": "white"
             }
            },
            "type": "table"
           }
          ]
         },
         "layout": {
          "annotationdefaults": {
           "arrowcolor": "#2a3f5f",
           "arrowhead": 0,
           "arrowwidth": 1
          },
          "autotypenumbers": "strict",
          "coloraxis": {
           "colorbar": {
            "outlinewidth": 0,
            "ticks": ""
           }
          },
          "colorscale": {
           "diverging": [
            [
             0,
             "#8e0152"
            ],
            [
             0.1,
             "#c51b7d"
            ],
            [
             0.2,
             "#de77ae"
            ],
            [
             0.3,
             "#f1b6da"
            ],
            [
             0.4,
             "#fde0ef"
            ],
            [
             0.5,
             "#f7f7f7"
            ],
            [
             0.6,
             "#e6f5d0"
            ],
            [
             0.7,
             "#b8e186"
            ],
            [
             0.8,
             "#7fbc41"
            ],
            [
             0.9,
             "#4d9221"
            ],
            [
             1,
             "#276419"
            ]
           ],
           "sequential": [
            [
             0,
             "#0d0887"
            ],
            [
             0.1111111111111111,
             "#46039f"
            ],
            [
             0.2222222222222222,
             "#7201a8"
            ],
            [
             0.3333333333333333,
             "#9c179e"
            ],
            [
             0.4444444444444444,
             "#bd3786"
            ],
            [
             0.5555555555555556,
             "#d8576b"
            ],
            [
             0.6666666666666666,
             "#ed7953"
            ],
            [
             0.7777777777777778,
             "#fb9f3a"
            ],
            [
             0.8888888888888888,
             "#fdca26"
            ],
            [
             1,
             "#f0f921"
            ]
           ],
           "sequentialminus": [
            [
             0,
             "#0d0887"
            ],
            [
             0.1111111111111111,
             "#46039f"
            ],
            [
             0.2222222222222222,
             "#7201a8"
            ],
            [
             0.3333333333333333,
             "#9c179e"
            ],
            [
             0.4444444444444444,
             "#bd3786"
            ],
            [
             0.5555555555555556,
             "#d8576b"
            ],
            [
             0.6666666666666666,
             "#ed7953"
            ],
            [
             0.7777777777777778,
             "#fb9f3a"
            ],
            [
             0.8888888888888888,
             "#fdca26"
            ],
            [
             1,
             "#f0f921"
            ]
           ]
          },
          "colorway": [
           "#636efa",
           "#EF553B",
           "#00cc96",
           "#ab63fa",
           "#FFA15A",
           "#19d3f3",
           "#FF6692",
           "#B6E880",
           "#FF97FF",
           "#FECB52"
          ],
          "font": {
           "color": "#2a3f5f"
          },
          "geo": {
           "bgcolor": "white",
           "lakecolor": "white",
           "landcolor": "#E5ECF6",
           "showlakes": true,
           "showland": true,
           "subunitcolor": "white"
          },
          "hoverlabel": {
           "align": "left"
          },
          "hovermode": "closest",
          "mapbox": {
           "style": "light"
          },
          "paper_bgcolor": "white",
          "plot_bgcolor": "#E5ECF6",
          "polar": {
           "angularaxis": {
            "gridcolor": "white",
            "linecolor": "white",
            "ticks": ""
           },
           "bgcolor": "#E5ECF6",
           "radialaxis": {
            "gridcolor": "white",
            "linecolor": "white",
            "ticks": ""
           }
          },
          "scene": {
           "xaxis": {
            "backgroundcolor": "#E5ECF6",
            "gridcolor": "white",
            "gridwidth": 2,
            "linecolor": "white",
            "showbackground": true,
            "ticks": "",
            "zerolinecolor": "white"
           },
           "yaxis": {
            "backgroundcolor": "#E5ECF6",
            "gridcolor": "white",
            "gridwidth": 2,
            "linecolor": "white",
            "showbackground": true,
            "ticks": "",
            "zerolinecolor": "white"
           },
           "zaxis": {
            "backgroundcolor": "#E5ECF6",
            "gridcolor": "white",
            "gridwidth": 2,
            "linecolor": "white",
            "showbackground": true,
            "ticks": "",
            "zerolinecolor": "white"
           }
          },
          "shapedefaults": {
           "line": {
            "color": "#2a3f5f"
           }
          },
          "ternary": {
           "aaxis": {
            "gridcolor": "white",
            "linecolor": "white",
            "ticks": ""
           },
           "baxis": {
            "gridcolor": "white",
            "linecolor": "white",
            "ticks": ""
           },
           "bgcolor": "#E5ECF6",
           "caxis": {
            "gridcolor": "white",
            "linecolor": "white",
            "ticks": ""
           }
          },
          "title": {
           "x": 0.05
          },
          "xaxis": {
           "automargin": true,
           "gridcolor": "white",
           "linecolor": "white",
           "ticks": "",
           "title": {
            "standoff": 15
           },
           "zerolinecolor": "white",
           "zerolinewidth": 2
          },
          "yaxis": {
           "automargin": true,
           "gridcolor": "white",
           "linecolor": "white",
           "ticks": "",
           "title": {
            "standoff": 15
           },
           "zerolinecolor": "white",
           "zerolinewidth": 2
          }
         }
        }
       }
      }
     },
     "metadata": {},
     "output_type": "display_data"
    }
   ],
   "source": [
    "fig = go.Figure()\n",
    "\n",
    "fig.add_trace(\n",
    "    go.Scatter(\n",
    "        y = errors\n",
    "    )\n",
    ")\n",
    "\n",
    "fig.show()"
   ]
  },
  {
   "cell_type": "markdown",
   "metadata": {},
   "source": [
    "*Subsample Randomized Hadamard Transform*"
   ]
  },
  {
   "cell_type": "code",
   "execution_count": 87,
   "metadata": {},
   "outputs": [],
   "source": [
    "import numpy as np\n",
    "from scipy.linalg import hadamard\n",
    "\n",
    "def randomized_compression(A, r, rOV, w = 10):\n",
    "    \"\"\"\n",
    "    Compute a compression matrix Q for A using a subsampled randomized Hadamard transform.\n",
    "\n",
    "    Parameters:\n",
    "    A (numpy array): Input matrix (m x n)\n",
    "    r (int): Target rank\n",
    "    rOV (int): Oversampling parameter\n",
    "    w (int): Exponent for the power iteration\n",
    "\n",
    "    Returns:\n",
    "    Q (numpy array): Compression matrix (m x (r + rOV))\n",
    "    \"\"\"\n",
    "    m, n = A.shape\n",
    "    d = r + rOV  # Effective reduced dimension\n",
    "\n",
    "    # Step 1: Generate subsampled randomized Hadamard matrix Omega_L\n",
    "    # Find smallest power of 2 greater than or equal to n\n",
    "    n_power = 2**int(np.ceil(np.log2(n)))\n",
    "    \n",
    "    # Generate Hadamard matrix of size n_power x n_power\n",
    "    H = hadamard(n_power)\n",
    "    \n",
    "    # Generate random diagonal matrix D with ±1 entries\n",
    "    D = np.diag(np.random.choice([-1, 1], size=n_power))\n",
    "    \n",
    "    # Compute randomized Hadamard transform\n",
    "    Omega_full = (1/np.sqrt(n_power)) * D @ H\n",
    "    \n",
    "    # If n < n_power, truncate the matrix to size n\n",
    "    if n < n_power:\n",
    "        Omega_full = Omega_full[:n, :]\n",
    "    \n",
    "    # Randomly subsample d columns\n",
    "    subsample_indices = np.random.choice(n_power, size=d, replace=False)\n",
    "    Omega_L = Omega_full[:, subsample_indices]\n",
    "\n",
    "    # Step 2: Compute B = (A A^T)^w A Omega_L\n",
    "    B = A @ Omega_L  # Initial multiplication: A Omega_L\n",
    "    for _ in range(w):\n",
    "        B = (A @ A.T) @ B  # Power iteration: (A A^T) B\n",
    "\n",
    "    # Step 3: Compute the orthogonal basis Q using QR decomposition\n",
    "    Q, _ = np.linalg.qr(B)\n",
    "\n",
    "    return Q"
   ]
  },
  {
   "cell_type": "markdown",
   "metadata": {},
   "source": [
    "*FJLT*"
   ]
  },
  {
   "cell_type": "code",
   "execution_count": 98,
   "metadata": {},
   "outputs": [
    {
     "name": "stdout",
     "output_type": "stream",
     "text": [
      "Shape of Q: (100, 10)\n"
     ]
    }
   ],
   "source": [
    "import numpy as np\n",
    "from numpy.fft import fft\n",
    "\n",
    "def randomized_compression(A, r, rOV, w):\n",
    "    \"\"\"\n",
    "    Compute a compression matrix Q for A using an FJLT test matrix with FFT-based Hadamard transform.\n",
    "\n",
    "    Parameters:\n",
    "    A (numpy array): Input matrix (m x n)\n",
    "    r (int): Target rank\n",
    "    rOV (int): Oversampling parameter\n",
    "    w (int): Exponent for the power iteration\n",
    "\n",
    "    Returns:\n",
    "    Q (numpy array): Compression matrix (m x (r + rOV))\n",
    "    \"\"\"\n",
    "    m, n = A.shape\n",
    "    d = r + rOV  # Effective reduced dimension\n",
    "\n",
    "    # Find smallest power of 2 >= n\n",
    "    n_power = 2**int(np.ceil(np.log2(n)))\n",
    "\n",
    "    # P: Random diagonal matrix with ±1 entries\n",
    "    P = np.random.choice([-1, 1], size=n_power)\n",
    "    \n",
    "    # D: Sparse random projection matrix\n",
    "    q = 0.1\n",
    "    D = (1/np.sqrt(q)) * np.random.choice([0, 1, -1], size=(n_power, d), \n",
    "                                        p=[1-q, q/2, q/2])\n",
    "    \n",
    "    # H: Fast Walsh-Hadamard Transform via FFT\n",
    "    def apply_hadamard(x):\n",
    "        n_pow = len(x)\n",
    "        # Pad x to n_power if necessary\n",
    "        if len(x) < n_pow:\n",
    "            x = np.pad(x, (0, n_pow - len(x)), mode='constant')\n",
    "        return fft(x) * (1/np.sqrt(n_pow))\n",
    "    \n",
    "    # Construct Omega_L = D.T @ H @ P (applied to columns of A)\n",
    "    # Step 1: Apply P (element-wise multiplication) to each column of A\n",
    "    if n < n_power:\n",
    "        A_padded = np.pad(A, ((0, 0), (0, n_power - n)), mode='constant')\n",
    "    else:\n",
    "        A_padded = A\n",
    "    \n",
    "    PA = A_padded * P[np.newaxis, :]  # (m × n_power)\n",
    "    \n",
    "    # Step 2: Apply Hadamard transform to each row of PA\n",
    "    HPA = np.apply_along_axis(apply_hadamard, 1, PA)  # (m × n_power)\n",
    "    \n",
    "    # Step 3: Apply sparse projection D.T\n",
    "    Omega_L = HPA @ D  # (m × n_power) @ (n_power × d) = (m × d)\n",
    "    \n",
    "    # Step 2: Compute B = (A A^T)^w A Omega_L\n",
    "    B = Omega_L  # Since Omega_L is already m × d, no need for A @ Omega_L here\n",
    "    for _ in range(w):\n",
    "        B = (A @ A.T) @ B\n",
    "    \n",
    "    # Step 3: QR decomposition\n",
    "    Q, _ = np.linalg.qr(B)\n",
    "    return Q\n",
    "\n",
    "# Test it\n",
    "np.random.seed(42)\n",
    "A = np.abs(np.random.randn(100, 50))\n",
    "Q = randomized_compression(A, r=5, rOV=5, w=1)\n",
    "print(f\"Shape of Q: {Q.shape}\")  # Should be (100, 10)"
   ]
  },
  {
   "cell_type": "markdown",
   "metadata": {},
   "source": [
    "*Clarkson-Woodruff Transform*"
   ]
  },
  {
   "cell_type": "code",
   "execution_count": 107,
   "metadata": {},
   "outputs": [
    {
     "name": "stdout",
     "output_type": "stream",
     "text": [
      "Shape of Q: (100, 10)\n"
     ]
    }
   ],
   "source": [
    "import numpy as np\n",
    "\n",
    "def randomized_compression(A, r, rOV, w):\n",
    "    \"\"\"\n",
    "    Compute a compression matrix Q for A using the Clarkson-Woodruff Transform.\n",
    "\n",
    "    Parameters:\n",
    "    A (numpy array): Input matrix (m x n)\n",
    "    r (int): Target rank\n",
    "    rOV (int): Oversampling parameter\n",
    "    w (int): Exponent for the power iteration\n",
    "\n",
    "    Returns:\n",
    "    Q (numpy array): Compression matrix (m x (r + rOV))\n",
    "    \"\"\"\n",
    "    m, n = A.shape\n",
    "    d = r + rOV  # Effective reduced dimension\n",
    "\n",
    "    # Step 1: Construct Clarkson-Woodruff Transform (CountSketch matrix)\n",
    "    # Parameters for sparsity (s controls the number of non-zero entries per column)\n",
    "    s = max(1, int(np.ceil(np.log(n) / np.log(d))))  # Adjust sparsity based on problem size\n",
    "    \n",
    "    # Hash functions for column indices and signs\n",
    "    hash_indices = np.random.randint(0, d, size=n)  # h: [n] -> [d]\n",
    "    signs = np.random.choice([-1, 1], size=n)       # σ: [n] -> {-1, 1}\n",
    "    \n",
    "    # Build sparse sketching matrix S (d × n)\n",
    "    S = np.zeros((d, n))\n",
    "    for j in range(n):\n",
    "        S[hash_indices[j], j] = signs[j]\n",
    "    \n",
    "    # Step 2: Compute sketch B = A S^T\n",
    "    B = A @ S.T  # (m × n) @ (n × d) = (m × d)\n",
    "    \n",
    "    # Step 3: Power iteration: B = (A A^T)^w B\n",
    "    for _ in range(w):\n",
    "        B = (A @ A.T) @ B\n",
    "    \n",
    "    # Step 4: QR decomposition to get orthonormal basis\n",
    "    Q, _ = np.linalg.qr(B)\n",
    "    \n",
    "    return Q\n",
    "\n",
    "# Test it\n",
    "np.random.seed(42)\n",
    "A = np.abs(np.random.randn(100, 50))\n",
    "Q = randomized_compression(A, r=5, rOV=5, w=10)\n",
    "print(f\"Shape of Q: {Q.shape}\")  # Should be (100, 10)"
   ]
  },
  {
   "cell_type": "markdown",
   "metadata": {},
   "source": [
    "*Grok NMF*"
   ]
  },
  {
   "cell_type": "code",
   "execution_count": 113,
   "metadata": {},
   "outputs": [
    {
     "name": "stdout",
     "output_type": "stream",
     "text": [
      "Final normalized error: 0.5459\n",
      "Shape of X: (100, 5)\n",
      "Shape of Y: (5, 50)\n"
     ]
    }
   ],
   "source": [
    "import numpy as np\n",
    "\n",
    "def randomized_compression(A, r, rOV, w):\n",
    "    \"\"\"\n",
    "    Compute a compression matrix Q for A using the Clarkson-Woodruff Transform.\n",
    "\n",
    "    Parameters:\n",
    "    A (numpy array): Input matrix (m x n)\n",
    "    r (int): Target rank\n",
    "    rOV (int): Oversampling parameter\n",
    "    w (int): Exponent for the power iteration\n",
    "\n",
    "    Returns:\n",
    "    Q (numpy array): Compression matrix (m x (r + rOV))\n",
    "    \"\"\"\n",
    "    m, n = A.shape\n",
    "    d = r + rOV  # Effective reduced dimension\n",
    "\n",
    "    # Step 1: Construct Clarkson-Woodruff Transform (CountSketch matrix)\n",
    "    s = max(1, int(np.ceil(np.log(n) / np.log(d))))  # Sparsity parameter\n",
    "    \n",
    "    # Hash functions for column indices and signs\n",
    "    hash_indices = np.random.randint(0, d, size=n)  # h: [n] -> [d]\n",
    "    signs = np.random.choice([-1, 1], size=n)       # σ: [n] -> {-1, 1}\n",
    "    \n",
    "    # Build sparse sketching matrix S (d × n)\n",
    "    S = np.zeros((d, n))\n",
    "    for j in range(n):\n",
    "        S[hash_indices[j], j] = signs[j]\n",
    "    \n",
    "    # Step 2: Compute sketch B = A S^T\n",
    "    B = A @ S.T  # (m × n) @ (n × d) = (m × d)\n",
    "    \n",
    "    # Step 3: Power iteration: B = (A A^T)^w B\n",
    "    for _ in range(w):\n",
    "        B = (A @ A.T) @ B\n",
    "    \n",
    "    # Step 4: QR decomposition to get orthonormal basis\n",
    "    Q, _ = np.linalg.qr(B)\n",
    "    \n",
    "    return Q\n",
    "\n",
    "def randomized_nmf(A, r, rOV, w, max_iter=100, tol=1e-5):\n",
    "    \"\"\"\n",
    "    Randomized NMF algorithm using compression matrices L and R.\n",
    "\n",
    "    Parameters:\n",
    "    A (numpy array): Input matrix (m x n)\n",
    "    r (int): Target rank\n",
    "    rOV (int): Oversampling parameter\n",
    "    w (int): Exponent for the power iteration\n",
    "    max_iter (int): Maximum number of iterations\n",
    "    tol (float): Convergence tolerance\n",
    "\n",
    "    Returns:\n",
    "    X (numpy array): Non-negative matrix (m x r)\n",
    "    Y (numpy array): Non-negative matrix (r x n)\n",
    "    errors (list): List of normalized Frobenius norm errors\n",
    "    \"\"\"\n",
    "    m, n = A.shape\n",
    "    d = r + rOV  # Effective reduced dimension\n",
    "\n",
    "    # Step 1: Compute compression matrices L and R\n",
    "    L = randomized_compression(A, r, rOV, w)      # m × (r + rOV)\n",
    "    R = randomized_compression(A.T, r, rOV, w).T  # (r + rOV) × n\n",
    "\n",
    "    # Compute Aˇ = A R^T and Aˆ = L^T A\n",
    "    A_breve = A @ R.T  # (m × (r + rOV))\n",
    "    A_hat = L.T @ A    # ((r + rOV) × n)\n",
    "\n",
    "    # Step 2: Initialize Y_k\n",
    "    Y_k = np.abs(np.random.randn(r, n))  # (r × n)\n",
    "\n",
    "    # Step 3: Iterative updates\n",
    "    k = 1\n",
    "    errors = []\n",
    "    while True:\n",
    "        # Step 5: Y_k ← Y_k R^T\n",
    "        Y_k = Y_k @ R.T  # (r × (r + rOV))\n",
    "\n",
    "        # Step 6: Find X_{k+1} such that ||Aˇ - X_{k+1} Y_k||_F^2 is minimized\n",
    "        # Solve: X_{k+1} Y_k = Aˇ (least squares)\n",
    "        X_k1 = np.linalg.lstsq(Y_k.T, A_breve.T, rcond=None)[0].T  # (m × r)\n",
    "        X_k1 = np.maximum(X_k1, 0)  # Enforce non-negativity\n",
    "\n",
    "        # Step 7: X_{k+1} ← L^T X_{k+1}\n",
    "        X_k1 = L.T @ X_k1  # ((r + rOV) × r)\n",
    "\n",
    "        # Step 8: Find Y_{k+1} such that ||Aˆ - X_{k+1} Y_{k+1}||_F^2 is minimized\n",
    "        # Solve: X_{k+1} Y_{k+1} = Aˆ (least squares)\n",
    "        Y_k1 = np.linalg.lstsq(X_k1, A_hat, rcond=None)[0]  # (r × n)\n",
    "        Y_k1 = np.maximum(Y_k1, 0)  # Enforce non-negativity\n",
    "\n",
    "        # Compute error: ||A - L X_{k+1} Y_{k+1}||_F\n",
    "        A_approx = L @ X_k1 @ Y_k1\n",
    "        error = np.linalg.norm(A - A_approx, 'fro') / np.linalg.norm(A, 'fro')\n",
    "        errors.append(error)\n",
    "\n",
    "        # Step 9: Update k\n",
    "        k += 1\n",
    "        Y_k = Y_k1\n",
    "\n",
    "        # Step 10: Check convergence\n",
    "        if k > max_iter or (len(errors) > 1 and abs(errors[-1] - errors[-2]) < tol):\n",
    "            break\n",
    "\n",
    "    # Final X and Y\n",
    "    X = L @ X_k1  # (m × r)\n",
    "    Y = Y_k1      # (r × n)\n",
    "\n",
    "    return X, Y, errors\n",
    "\n",
    "# Test the implementation\n",
    "np.random.seed(42)\n",
    "A = np.abs(np.random.randn(100, 50))  # Non-negative input\n",
    "r = 5\n",
    "rOV = 5\n",
    "w = 1\n",
    "X, Y, errors = randomized_nmf(A, r, rOV, w)\n",
    "print(f\"Final normalized error: {errors[-1]:.4f}\")\n",
    "print(f\"Shape of X: {X.shape}\")  # Should be (100, 5)\n",
    "print(f\"Shape of Y: {Y.shape}\")  # Should be (5, 50)"
   ]
  },
  {
   "cell_type": "code",
   "execution_count": 116,
   "metadata": {},
   "outputs": [
    {
     "data": {
      "application/vnd.plotly.v1+json": {
       "config": {
        "plotlyServerURL": "https://plot.ly"
       },
       "data": [
        {
         "type": "scatter",
         "y": [
          0.6089454048601353,
          0.589414662446684,
          0.5719994338168638,
          0.5634327740010964,
          0.5593665770735432,
          0.5577783110783141,
          0.5570750939217769,
          0.5566875387164605,
          0.5563643639205086,
          0.5561808079577033,
          0.5560578304336506,
          0.556042335406222,
          0.5560730424041478,
          0.5561701756132263,
          0.5563038855830026,
          0.5564577511609126,
          0.5567359514040147,
          0.5568662195408226,
          0.5566865697949903,
          0.5561787488458452,
          0.5553259091213751,
          0.5543505642971236,
          0.5533996972538425,
          0.5524584302512154,
          0.5515815502083784,
          0.5508502585483088,
          0.550295742294158,
          0.5498199634715238,
          0.5493720739412047,
          0.5489891913548305,
          0.5486539322448365,
          0.5483348520059071,
          0.5480575771690546,
          0.5478080382896147,
          0.5475980905607403,
          0.5474130357072357,
          0.5472532035704066,
          0.5470979839277123,
          0.5469498202580159,
          0.5468143384378673,
          0.5466990022128853,
          0.5465923449180959,
          0.5464987039085428,
          0.5464262505506602,
          0.546367727887398,
          0.5463184133949519,
          0.5462759684318621,
          0.5462375710606792,
          0.5462016554815687,
          0.5461684314267568,
          0.5461376851662499,
          0.5461091888342055,
          0.5460829896313911,
          0.5460582204598816,
          0.546034226615468,
          0.5460112131339693,
          0.5459892182355468,
          0.5459679163730842,
          0.5459474424228543,
          0.5459288405843792,
          0.5459126982323415,
          0.5458987327195077,
          0.5458866834761347,
          0.5458768990654921
         ]
        }
       ],
       "layout": {
        "template": {
         "data": {
          "bar": [
           {
            "error_x": {
             "color": "#2a3f5f"
            },
            "error_y": {
             "color": "#2a3f5f"
            },
            "marker": {
             "line": {
              "color": "#E5ECF6",
              "width": 0.5
             },
             "pattern": {
              "fillmode": "overlay",
              "size": 10,
              "solidity": 0.2
             }
            },
            "type": "bar"
           }
          ],
          "barpolar": [
           {
            "marker": {
             "line": {
              "color": "#E5ECF6",
              "width": 0.5
             },
             "pattern": {
              "fillmode": "overlay",
              "size": 10,
              "solidity": 0.2
             }
            },
            "type": "barpolar"
           }
          ],
          "carpet": [
           {
            "aaxis": {
             "endlinecolor": "#2a3f5f",
             "gridcolor": "white",
             "linecolor": "white",
             "minorgridcolor": "white",
             "startlinecolor": "#2a3f5f"
            },
            "baxis": {
             "endlinecolor": "#2a3f5f",
             "gridcolor": "white",
             "linecolor": "white",
             "minorgridcolor": "white",
             "startlinecolor": "#2a3f5f"
            },
            "type": "carpet"
           }
          ],
          "choropleth": [
           {
            "colorbar": {
             "outlinewidth": 0,
             "ticks": ""
            },
            "type": "choropleth"
           }
          ],
          "contour": [
           {
            "colorbar": {
             "outlinewidth": 0,
             "ticks": ""
            },
            "colorscale": [
             [
              0,
              "#0d0887"
             ],
             [
              0.1111111111111111,
              "#46039f"
             ],
             [
              0.2222222222222222,
              "#7201a8"
             ],
             [
              0.3333333333333333,
              "#9c179e"
             ],
             [
              0.4444444444444444,
              "#bd3786"
             ],
             [
              0.5555555555555556,
              "#d8576b"
             ],
             [
              0.6666666666666666,
              "#ed7953"
             ],
             [
              0.7777777777777778,
              "#fb9f3a"
             ],
             [
              0.8888888888888888,
              "#fdca26"
             ],
             [
              1,
              "#f0f921"
             ]
            ],
            "type": "contour"
           }
          ],
          "contourcarpet": [
           {
            "colorbar": {
             "outlinewidth": 0,
             "ticks": ""
            },
            "type": "contourcarpet"
           }
          ],
          "heatmap": [
           {
            "colorbar": {
             "outlinewidth": 0,
             "ticks": ""
            },
            "colorscale": [
             [
              0,
              "#0d0887"
             ],
             [
              0.1111111111111111,
              "#46039f"
             ],
             [
              0.2222222222222222,
              "#7201a8"
             ],
             [
              0.3333333333333333,
              "#9c179e"
             ],
             [
              0.4444444444444444,
              "#bd3786"
             ],
             [
              0.5555555555555556,
              "#d8576b"
             ],
             [
              0.6666666666666666,
              "#ed7953"
             ],
             [
              0.7777777777777778,
              "#fb9f3a"
             ],
             [
              0.8888888888888888,
              "#fdca26"
             ],
             [
              1,
              "#f0f921"
             ]
            ],
            "type": "heatmap"
           }
          ],
          "histogram": [
           {
            "marker": {
             "pattern": {
              "fillmode": "overlay",
              "size": 10,
              "solidity": 0.2
             }
            },
            "type": "histogram"
           }
          ],
          "histogram2d": [
           {
            "colorbar": {
             "outlinewidth": 0,
             "ticks": ""
            },
            "colorscale": [
             [
              0,
              "#0d0887"
             ],
             [
              0.1111111111111111,
              "#46039f"
             ],
             [
              0.2222222222222222,
              "#7201a8"
             ],
             [
              0.3333333333333333,
              "#9c179e"
             ],
             [
              0.4444444444444444,
              "#bd3786"
             ],
             [
              0.5555555555555556,
              "#d8576b"
             ],
             [
              0.6666666666666666,
              "#ed7953"
             ],
             [
              0.7777777777777778,
              "#fb9f3a"
             ],
             [
              0.8888888888888888,
              "#fdca26"
             ],
             [
              1,
              "#f0f921"
             ]
            ],
            "type": "histogram2d"
           }
          ],
          "histogram2dcontour": [
           {
            "colorbar": {
             "outlinewidth": 0,
             "ticks": ""
            },
            "colorscale": [
             [
              0,
              "#0d0887"
             ],
             [
              0.1111111111111111,
              "#46039f"
             ],
             [
              0.2222222222222222,
              "#7201a8"
             ],
             [
              0.3333333333333333,
              "#9c179e"
             ],
             [
              0.4444444444444444,
              "#bd3786"
             ],
             [
              0.5555555555555556,
              "#d8576b"
             ],
             [
              0.6666666666666666,
              "#ed7953"
             ],
             [
              0.7777777777777778,
              "#fb9f3a"
             ],
             [
              0.8888888888888888,
              "#fdca26"
             ],
             [
              1,
              "#f0f921"
             ]
            ],
            "type": "histogram2dcontour"
           }
          ],
          "mesh3d": [
           {
            "colorbar": {
             "outlinewidth": 0,
             "ticks": ""
            },
            "type": "mesh3d"
           }
          ],
          "parcoords": [
           {
            "line": {
             "colorbar": {
              "outlinewidth": 0,
              "ticks": ""
             }
            },
            "type": "parcoords"
           }
          ],
          "pie": [
           {
            "automargin": true,
            "type": "pie"
           }
          ],
          "scatter": [
           {
            "fillpattern": {
             "fillmode": "overlay",
             "size": 10,
             "solidity": 0.2
            },
            "type": "scatter"
           }
          ],
          "scatter3d": [
           {
            "line": {
             "colorbar": {
              "outlinewidth": 0,
              "ticks": ""
             }
            },
            "marker": {
             "colorbar": {
              "outlinewidth": 0,
              "ticks": ""
             }
            },
            "type": "scatter3d"
           }
          ],
          "scattercarpet": [
           {
            "marker": {
             "colorbar": {
              "outlinewidth": 0,
              "ticks": ""
             }
            },
            "type": "scattercarpet"
           }
          ],
          "scattergeo": [
           {
            "marker": {
             "colorbar": {
              "outlinewidth": 0,
              "ticks": ""
             }
            },
            "type": "scattergeo"
           }
          ],
          "scattergl": [
           {
            "marker": {
             "colorbar": {
              "outlinewidth": 0,
              "ticks": ""
             }
            },
            "type": "scattergl"
           }
          ],
          "scattermap": [
           {
            "marker": {
             "colorbar": {
              "outlinewidth": 0,
              "ticks": ""
             }
            },
            "type": "scattermap"
           }
          ],
          "scattermapbox": [
           {
            "marker": {
             "colorbar": {
              "outlinewidth": 0,
              "ticks": ""
             }
            },
            "type": "scattermapbox"
           }
          ],
          "scatterpolar": [
           {
            "marker": {
             "colorbar": {
              "outlinewidth": 0,
              "ticks": ""
             }
            },
            "type": "scatterpolar"
           }
          ],
          "scatterpolargl": [
           {
            "marker": {
             "colorbar": {
              "outlinewidth": 0,
              "ticks": ""
             }
            },
            "type": "scatterpolargl"
           }
          ],
          "scatterternary": [
           {
            "marker": {
             "colorbar": {
              "outlinewidth": 0,
              "ticks": ""
             }
            },
            "type": "scatterternary"
           }
          ],
          "surface": [
           {
            "colorbar": {
             "outlinewidth": 0,
             "ticks": ""
            },
            "colorscale": [
             [
              0,
              "#0d0887"
             ],
             [
              0.1111111111111111,
              "#46039f"
             ],
             [
              0.2222222222222222,
              "#7201a8"
             ],
             [
              0.3333333333333333,
              "#9c179e"
             ],
             [
              0.4444444444444444,
              "#bd3786"
             ],
             [
              0.5555555555555556,
              "#d8576b"
             ],
             [
              0.6666666666666666,
              "#ed7953"
             ],
             [
              0.7777777777777778,
              "#fb9f3a"
             ],
             [
              0.8888888888888888,
              "#fdca26"
             ],
             [
              1,
              "#f0f921"
             ]
            ],
            "type": "surface"
           }
          ],
          "table": [
           {
            "cells": {
             "fill": {
              "color": "#EBF0F8"
             },
             "line": {
              "color": "white"
             }
            },
            "header": {
             "fill": {
              "color": "#C8D4E3"
             },
             "line": {
              "color": "white"
             }
            },
            "type": "table"
           }
          ]
         },
         "layout": {
          "annotationdefaults": {
           "arrowcolor": "#2a3f5f",
           "arrowhead": 0,
           "arrowwidth": 1
          },
          "autotypenumbers": "strict",
          "coloraxis": {
           "colorbar": {
            "outlinewidth": 0,
            "ticks": ""
           }
          },
          "colorscale": {
           "diverging": [
            [
             0,
             "#8e0152"
            ],
            [
             0.1,
             "#c51b7d"
            ],
            [
             0.2,
             "#de77ae"
            ],
            [
             0.3,
             "#f1b6da"
            ],
            [
             0.4,
             "#fde0ef"
            ],
            [
             0.5,
             "#f7f7f7"
            ],
            [
             0.6,
             "#e6f5d0"
            ],
            [
             0.7,
             "#b8e186"
            ],
            [
             0.8,
             "#7fbc41"
            ],
            [
             0.9,
             "#4d9221"
            ],
            [
             1,
             "#276419"
            ]
           ],
           "sequential": [
            [
             0,
             "#0d0887"
            ],
            [
             0.1111111111111111,
             "#46039f"
            ],
            [
             0.2222222222222222,
             "#7201a8"
            ],
            [
             0.3333333333333333,
             "#9c179e"
            ],
            [
             0.4444444444444444,
             "#bd3786"
            ],
            [
             0.5555555555555556,
             "#d8576b"
            ],
            [
             0.6666666666666666,
             "#ed7953"
            ],
            [
             0.7777777777777778,
             "#fb9f3a"
            ],
            [
             0.8888888888888888,
             "#fdca26"
            ],
            [
             1,
             "#f0f921"
            ]
           ],
           "sequentialminus": [
            [
             0,
             "#0d0887"
            ],
            [
             0.1111111111111111,
             "#46039f"
            ],
            [
             0.2222222222222222,
             "#7201a8"
            ],
            [
             0.3333333333333333,
             "#9c179e"
            ],
            [
             0.4444444444444444,
             "#bd3786"
            ],
            [
             0.5555555555555556,
             "#d8576b"
            ],
            [
             0.6666666666666666,
             "#ed7953"
            ],
            [
             0.7777777777777778,
             "#fb9f3a"
            ],
            [
             0.8888888888888888,
             "#fdca26"
            ],
            [
             1,
             "#f0f921"
            ]
           ]
          },
          "colorway": [
           "#636efa",
           "#EF553B",
           "#00cc96",
           "#ab63fa",
           "#FFA15A",
           "#19d3f3",
           "#FF6692",
           "#B6E880",
           "#FF97FF",
           "#FECB52"
          ],
          "font": {
           "color": "#2a3f5f"
          },
          "geo": {
           "bgcolor": "white",
           "lakecolor": "white",
           "landcolor": "#E5ECF6",
           "showlakes": true,
           "showland": true,
           "subunitcolor": "white"
          },
          "hoverlabel": {
           "align": "left"
          },
          "hovermode": "closest",
          "mapbox": {
           "style": "light"
          },
          "paper_bgcolor": "white",
          "plot_bgcolor": "#E5ECF6",
          "polar": {
           "angularaxis": {
            "gridcolor": "white",
            "linecolor": "white",
            "ticks": ""
           },
           "bgcolor": "#E5ECF6",
           "radialaxis": {
            "gridcolor": "white",
            "linecolor": "white",
            "ticks": ""
           }
          },
          "scene": {
           "xaxis": {
            "backgroundcolor": "#E5ECF6",
            "gridcolor": "white",
            "gridwidth": 2,
            "linecolor": "white",
            "showbackground": true,
            "ticks": "",
            "zerolinecolor": "white"
           },
           "yaxis": {
            "backgroundcolor": "#E5ECF6",
            "gridcolor": "white",
            "gridwidth": 2,
            "linecolor": "white",
            "showbackground": true,
            "ticks": "",
            "zerolinecolor": "white"
           },
           "zaxis": {
            "backgroundcolor": "#E5ECF6",
            "gridcolor": "white",
            "gridwidth": 2,
            "linecolor": "white",
            "showbackground": true,
            "ticks": "",
            "zerolinecolor": "white"
           }
          },
          "shapedefaults": {
           "line": {
            "color": "#2a3f5f"
           }
          },
          "ternary": {
           "aaxis": {
            "gridcolor": "white",
            "linecolor": "white",
            "ticks": ""
           },
           "baxis": {
            "gridcolor": "white",
            "linecolor": "white",
            "ticks": ""
           },
           "bgcolor": "#E5ECF6",
           "caxis": {
            "gridcolor": "white",
            "linecolor": "white",
            "ticks": ""
           }
          },
          "title": {
           "x": 0.05
          },
          "xaxis": {
           "automargin": true,
           "gridcolor": "white",
           "linecolor": "white",
           "ticks": "",
           "title": {
            "standoff": 15
           },
           "zerolinecolor": "white",
           "zerolinewidth": 2
          },
          "yaxis": {
           "automargin": true,
           "gridcolor": "white",
           "linecolor": "white",
           "ticks": "",
           "title": {
            "standoff": 15
           },
           "zerolinecolor": "white",
           "zerolinewidth": 2
          }
         }
        }
       }
      }
     },
     "metadata": {},
     "output_type": "display_data"
    }
   ],
   "source": [
    "fig = go.Figure()\n",
    "\n",
    "fig.add_trace(\n",
    "    go.Scatter(\n",
    "        y = errors\n",
    "    )\n",
    ")\n",
    "\n",
    "fig.show()"
   ]
  },
  {
   "cell_type": "code",
   "execution_count": 117,
   "metadata": {},
   "outputs": [
    {
     "name": "stdout",
     "output_type": "stream",
     "text": [
      "Final normalized error: 0.5444\n",
      "Shape of X: (100, 5)\n",
      "Shape of Y: (5, 50)\n"
     ]
    }
   ],
   "source": [
    "import numpy as np\n",
    "from scipy.optimize import nnls\n",
    "\n",
    "def randomized_compression(A, r, rOV, w):\n",
    "    \"\"\"\n",
    "    Compute a compression matrix Q for A using the Clarkson-Woodruff Transform.\n",
    "\n",
    "    Parameters:\n",
    "    A (numpy array): Input matrix (m x n)\n",
    "    r (int): Target rank\n",
    "    rOV (int): Oversampling parameter\n",
    "    w (int): Exponent for the power iteration\n",
    "\n",
    "    Returns:\n",
    "    Q (numpy array): Compression matrix (m x (r + rOV))\n",
    "    \"\"\"\n",
    "    m, n = A.shape\n",
    "    d = r + rOV  # Effective reduced dimension\n",
    "\n",
    "    # Step 1: Construct Clarkson-Woodruff Transform (CountSketch matrix)\n",
    "    s = max(1, int(np.ceil(np.log(n) / np.log(d))))  # Sparsity parameter\n",
    "    \n",
    "    # Hash functions for column indices and signs\n",
    "    hash_indices = np.random.randint(0, d, size=n)  # h: [n] -> [d]\n",
    "    signs = np.random.choice([-1, 1], size=n)       # σ: [n] -> {-1, 1}\n",
    "    \n",
    "    # Build sparse sketching matrix S (d × n)\n",
    "    S = np.zeros((d, n))\n",
    "    for j in range(n):\n",
    "        S[hash_indices[j], j] = signs[j]\n",
    "    \n",
    "    # Step 2: Compute sketch B = A S^T\n",
    "    B = A @ S.T  # (m × n) @ (n × d) = (m × d)\n",
    "    \n",
    "    # Step 3: Power iteration: B = (A A^T)^w B\n",
    "    for _ in range(w):\n",
    "        B = (A @ A.T) @ B\n",
    "    \n",
    "    # Step 4: QR decomposition to get orthonormal basis\n",
    "    Q, _ = np.linalg.qr(B)\n",
    "    \n",
    "    return Q\n",
    "\n",
    "def randomized_nmf(A, r, rOV, w, max_iter=100, tol=1e-5):\n",
    "    \"\"\"\n",
    "    Randomized NMF algorithm using compression matrices L and R, with NNLS for updates.\n",
    "\n",
    "    Parameters:\n",
    "    A (numpy array): Input matrix (m x n)\n",
    "    r (int): Target rank\n",
    "    rOV (int): Oversampling parameter\n",
    "    w (int): Exponent for the power iteration\n",
    "    max_iter (int): Maximum number of iterations\n",
    "    tol (float): Convergence tolerance\n",
    "\n",
    "    Returns:\n",
    "    X (numpy array): Non-negative matrix (m x r)\n",
    "    Y (numpy array): Non-negative matrix (r x n)\n",
    "    errors (list): List of normalized Frobenius norm errors\n",
    "    \"\"\"\n",
    "    m, n = A.shape\n",
    "    d = r + rOV  # Effective reduced dimension\n",
    "\n",
    "    # Step 1: Compute compression matrices L and R\n",
    "    L = randomized_compression(A, r, rOV, w)      # m × (r + rOV)\n",
    "    R = randomized_compression(A.T, r, rOV, w).T  # (r + rOV) × n\n",
    "\n",
    "    # Compute Aˇ = A R^T and Aˆ = L^T A\n",
    "    A_breve = A @ R.T  # (m × (r + rOV))\n",
    "    A_hat = L.T @ A    # ((r + rOV) × n)\n",
    "\n",
    "    # Step 2: Initialize Y_k\n",
    "    Y_k = np.abs(np.random.randn(r, n))  # (r × n)\n",
    "\n",
    "    # Step 3: Iterative updates\n",
    "    k = 1\n",
    "    errors = []\n",
    "    while True:\n",
    "        # Step 5: Y_k ← Y_k R^T\n",
    "        Y_k = Y_k @ R.T  # (r × (r + rOV))\n",
    "\n",
    "        # Step 6: Find X_{k+1} such that ||Aˇ - X_{k+1} Y_k||_F^2 is minimized\n",
    "        # Solve: X_{k+1} Y_k = Aˇ using NNLS for each row of X_{k+1}\n",
    "        X_k1 = np.zeros((m, r))\n",
    "        for i in range(m):\n",
    "            X_k1[i, :] = nnls(Y_k.T, A_breve[i, :])[0]  # Solve for each row\n",
    "\n",
    "        # Step 7: X_{k+1} ← L^T X_{k+1}\n",
    "        X_k1 = L.T @ X_k1  # ((r + rOV) × r)\n",
    "\n",
    "        # Step 8: Find Y_{k+1} such that ||Aˆ - X_{k+1} Y_{k+1}||_F^2 is minimized\n",
    "        # Solve: X_{k+1} Y_{k+1} = Aˆ using NNLS for each column of Y_{k+1}\n",
    "        Y_k1 = np.zeros((r, n))\n",
    "        for j in range(n):\n",
    "            Y_k1[:, j] = nnls(X_k1, A_hat[:, j])[0]  # Solve for each column\n",
    "\n",
    "        # Compute error: ||A - L X_{k+1} Y_{k+1}||_F\n",
    "        A_approx = L @ X_k1 @ Y_k1\n",
    "        error = np.linalg.norm(A - A_approx, 'fro') / np.linalg.norm(A, 'fro')\n",
    "        errors.append(error)\n",
    "\n",
    "        # Step 9: Update k\n",
    "        k += 1\n",
    "        Y_k = Y_k1\n",
    "\n",
    "        # Step 10: Check convergence\n",
    "        if k > max_iter or (len(errors) > 1 and abs(errors[-1] - errors[-2]) < tol):\n",
    "            break\n",
    "\n",
    "    # Final X and Y\n",
    "    X = L @ X_k1  # (m × r)\n",
    "    Y = Y_k1      # (r × n)\n",
    "\n",
    "    return X, Y, errors\n",
    "\n",
    "# Test the implementation\n",
    "np.random.seed(42)\n",
    "A = np.abs(np.random.randn(100, 50))  # Non-negative input\n",
    "r = 5\n",
    "rOV = 5\n",
    "w = 1\n",
    "X, Y, errors = randomized_nmf(A, r, rOV, w)\n",
    "print(f\"Final normalized error: {errors[-1]:.4f}\")\n",
    "print(f\"Shape of X: {X.shape}\")  # Should be (100, 5)\n",
    "print(f\"Shape of Y: {Y.shape}\")  # Should be (5, 50)"
   ]
  },
  {
   "cell_type": "markdown",
   "metadata": {},
   "source": [
    "#### *Benchmark Methods*"
   ]
  },
  {
   "cell_type": "code",
   "execution_count": 121,
   "metadata": {},
   "outputs": [],
   "source": [
    "def generate_ground_truth(m, r, delta):\n",
    "    \"\"\"Generate ground truth matrices X_GT and Y_GT\"\"\"\n",
    "    n = int(0.75 * m)\n",
    "    \n",
    "    # Generate X_GT (m × r)\n",
    "    mask_x = np.random.rand(m, r) < delta\n",
    "    X_GT = np.random.uniform(0, 1, (m, r)) * mask_x\n",
    "    \n",
    "    # Generate Y_GT (r × n)\n",
    "    mask_y = np.random.rand(r, n) < delta\n",
    "    Y_GT = np.random.uniform(0, 1, (r, n)) * mask_y\n",
    "    \n",
    "    return X_GT, Y_GT, n\n",
    "\n",
    "def generate_noise_matrix(m, n, delta):\n",
    "    \"\"\"Generate noise matrix N\"\"\"\n",
    "    noise_density = delta**2\n",
    "    mask_n = np.random.rand(m, n) < noise_density\n",
    "    N = np.random.randn(m, n) * mask_n\n",
    "    return N\n",
    "\n",
    "def generate_dense_matrix(m, r, delta=1.0):\n",
    "    \"\"\"Generate dense synthetic matrix A = X_GT Y_GT + N\"\"\"\n",
    "    X_GT, Y_GT, n = generate_ground_truth(m, r, delta)\n",
    "    N = generate_noise_matrix(m, n, delta)\n",
    "    A = X_GT @ Y_GT + N\n",
    "    return A, X_GT, Y_GT\n",
    "\n",
    "def generate_sparse_matrix(m, r, delta=0.01):\n",
    "    \"\"\"Generate sparse synthetic matrix A = X_GT Y_GT + N (without CSR)\"\"\"\n",
    "    X_GT, Y_GT, n = generate_ground_truth(m, r, delta)\n",
    "    N = generate_noise_matrix(m, n, delta)\n",
    "    \n",
    "    # Compute product while maintaining sparsity\n",
    "    A = np.zeros((m, n))\n",
    "    for i in range(m):\n",
    "        for j in range(n):\n",
    "            # Only compute non-zero elements\n",
    "            if np.random.rand() < delta**2:  # Probability of non-zero\n",
    "                A[i,j] = np.sum(X_GT[i,:] * Y_GT[:,j]) + N[i,j]\n",
    "    return A, X_GT, Y_GT"
   ]
  },
  {
   "cell_type": "code",
   "execution_count": 141,
   "metadata": {},
   "outputs": [
    {
     "name": "stderr",
     "output_type": "stream",
     "text": [
      "/var/folders/__/wgnmk9j14kl1krf80l2c6bfw0000gn/T/ipykernel_16338/2880339767.py:99: RuntimeWarning:\n",
      "\n",
      "invalid value encountered in scalar divide\n",
      "\n"
     ]
    }
   ],
   "source": [
    "from collections import defaultdict\n",
    "\n",
    "sizes = np.arange(1_000,5_000 + 1_000,1000)\n",
    "delta_dense = 1.0\n",
    "delta_sparse = 0.01\n",
    "r = 20\n",
    "rOV = 5\n",
    "w = 4\n",
    "\n",
    "results = []\n",
    "\n",
    "np.random.seed(123)\n",
    "for m in sizes:\n",
    "    n = int(0.75*m)\n",
    "\n",
    "    # sparse and dense matrix\n",
    "    for delta,density in [(delta_dense,'dense'),(delta_sparse,'sparse')]:\n",
    "        if density == 'dense':\n",
    "            A,_,_ = generate_dense_matrix(m,r,delta) \n",
    "        elif density == 'sparse':\n",
    "            A,_,_ = generate_sparse_matrix(m,r,delta)\n",
    "\n",
    "        X, Y, errors = randomized_nmf(np.abs(A),r,rOV,w)\n",
    "        \n",
    "        results.append({\n",
    "            'Size': m,\n",
    "            'Density': density,\n",
    "            'Errors':errors,\n",
    "            'Final Error': errors[-1]\n",
    "        })"
   ]
  },
  {
   "cell_type": "code",
   "execution_count": 143,
   "metadata": {},
   "outputs": [],
   "source": [
    "results_df = pd.DataFrame(results)"
   ]
  },
  {
   "cell_type": "code",
   "execution_count": 144,
   "metadata": {},
   "outputs": [
    {
     "data": {
      "text/html": [
       "<div>\n",
       "<style scoped>\n",
       "    .dataframe tbody tr th:only-of-type {\n",
       "        vertical-align: middle;\n",
       "    }\n",
       "\n",
       "    .dataframe tbody tr th {\n",
       "        vertical-align: top;\n",
       "    }\n",
       "\n",
       "    .dataframe thead th {\n",
       "        text-align: right;\n",
       "    }\n",
       "</style>\n",
       "<table border=\"1\" class=\"dataframe\">\n",
       "  <thead>\n",
       "    <tr style=\"text-align: right;\">\n",
       "      <th></th>\n",
       "      <th>Size</th>\n",
       "      <th>Density</th>\n",
       "      <th>Errors</th>\n",
       "      <th>Final Error</th>\n",
       "    </tr>\n",
       "  </thead>\n",
       "  <tbody>\n",
       "    <tr>\n",
       "      <th>0</th>\n",
       "      <td>1000</td>\n",
       "      <td>dense</td>\n",
       "      <td>[0.19134024393882426, 0.1912312922346707, 0.19...</td>\n",
       "      <td>1.912307e-01</td>\n",
       "    </tr>\n",
       "    <tr>\n",
       "      <th>1</th>\n",
       "      <td>1000</td>\n",
       "      <td>sparse</td>\n",
       "      <td>[nan, nan, nan, nan, nan, nan, nan, nan, nan, ...</td>\n",
       "      <td>NaN</td>\n",
       "    </tr>\n",
       "    <tr>\n",
       "      <th>2</th>\n",
       "      <td>2000</td>\n",
       "      <td>dense</td>\n",
       "      <td>[0.1942293629630983, 0.19415962816581686, 0.19...</td>\n",
       "      <td>1.941552e-01</td>\n",
       "    </tr>\n",
       "    <tr>\n",
       "      <th>3</th>\n",
       "      <td>2000</td>\n",
       "      <td>sparse</td>\n",
       "      <td>[0.0, 0.0]</td>\n",
       "      <td>0.000000e+00</td>\n",
       "    </tr>\n",
       "    <tr>\n",
       "      <th>4</th>\n",
       "      <td>3000</td>\n",
       "      <td>dense</td>\n",
       "      <td>[0.19444680636262185, 0.19431461637387612, 0.1...</td>\n",
       "      <td>1.943243e-01</td>\n",
       "    </tr>\n",
       "    <tr>\n",
       "      <th>5</th>\n",
       "      <td>3000</td>\n",
       "      <td>sparse</td>\n",
       "      <td>[1.2083198100473787e-16, 3.752981227801805e-18]</td>\n",
       "      <td>3.752981e-18</td>\n",
       "    </tr>\n",
       "    <tr>\n",
       "      <th>6</th>\n",
       "      <td>4000</td>\n",
       "      <td>dense</td>\n",
       "      <td>[0.1969823517300768, 0.1968275765296103, 0.196...</td>\n",
       "      <td>1.968134e-01</td>\n",
       "    </tr>\n",
       "    <tr>\n",
       "      <th>7</th>\n",
       "      <td>4000</td>\n",
       "      <td>sparse</td>\n",
       "      <td>[1.6781329234381388e-16, 0.0]</td>\n",
       "      <td>0.000000e+00</td>\n",
       "    </tr>\n",
       "    <tr>\n",
       "      <th>8</th>\n",
       "      <td>5000</td>\n",
       "      <td>dense</td>\n",
       "      <td>[0.19607426836195416, 0.19577816011353463, 0.1...</td>\n",
       "      <td>1.957584e-01</td>\n",
       "    </tr>\n",
       "    <tr>\n",
       "      <th>9</th>\n",
       "      <td>5000</td>\n",
       "      <td>sparse</td>\n",
       "      <td>[0.0, 1.0387947505092097e-16]</td>\n",
       "      <td>1.038795e-16</td>\n",
       "    </tr>\n",
       "  </tbody>\n",
       "</table>\n",
       "</div>"
      ],
      "text/plain": [
       "   Size Density                                             Errors  \\\n",
       "0  1000   dense  [0.19134024393882426, 0.1912312922346707, 0.19...   \n",
       "1  1000  sparse  [nan, nan, nan, nan, nan, nan, nan, nan, nan, ...   \n",
       "2  2000   dense  [0.1942293629630983, 0.19415962816581686, 0.19...   \n",
       "3  2000  sparse                                         [0.0, 0.0]   \n",
       "4  3000   dense  [0.19444680636262185, 0.19431461637387612, 0.1...   \n",
       "5  3000  sparse    [1.2083198100473787e-16, 3.752981227801805e-18]   \n",
       "6  4000   dense  [0.1969823517300768, 0.1968275765296103, 0.196...   \n",
       "7  4000  sparse                      [1.6781329234381388e-16, 0.0]   \n",
       "8  5000   dense  [0.19607426836195416, 0.19577816011353463, 0.1...   \n",
       "9  5000  sparse                      [0.0, 1.0387947505092097e-16]   \n",
       "\n",
       "    Final Error  \n",
       "0  1.912307e-01  \n",
       "1           NaN  \n",
       "2  1.941552e-01  \n",
       "3  0.000000e+00  \n",
       "4  1.943243e-01  \n",
       "5  3.752981e-18  \n",
       "6  1.968134e-01  \n",
       "7  0.000000e+00  \n",
       "8  1.957584e-01  \n",
       "9  1.038795e-16  "
      ]
     },
     "execution_count": 144,
     "metadata": {},
     "output_type": "execute_result"
    }
   ],
   "source": [
    "results_df"
   ]
  },
  {
   "cell_type": "code",
   "execution_count": 145,
   "metadata": {},
   "outputs": [],
   "source": [
    "dense_results = results_df[results_df['Density'] == 'dense']"
   ]
  },
  {
   "cell_type": "code",
   "execution_count": 146,
   "metadata": {},
   "outputs": [
    {
     "data": {
      "text/html": [
       "<div>\n",
       "<style scoped>\n",
       "    .dataframe tbody tr th:only-of-type {\n",
       "        vertical-align: middle;\n",
       "    }\n",
       "\n",
       "    .dataframe tbody tr th {\n",
       "        vertical-align: top;\n",
       "    }\n",
       "\n",
       "    .dataframe thead th {\n",
       "        text-align: right;\n",
       "    }\n",
       "</style>\n",
       "<table border=\"1\" class=\"dataframe\">\n",
       "  <thead>\n",
       "    <tr style=\"text-align: right;\">\n",
       "      <th></th>\n",
       "      <th>Size</th>\n",
       "      <th>Density</th>\n",
       "      <th>Errors</th>\n",
       "      <th>Final Error</th>\n",
       "    </tr>\n",
       "  </thead>\n",
       "  <tbody>\n",
       "    <tr>\n",
       "      <th>0</th>\n",
       "      <td>1000</td>\n",
       "      <td>dense</td>\n",
       "      <td>[0.19134024393882426, 0.1912312922346707, 0.19...</td>\n",
       "      <td>0.191231</td>\n",
       "    </tr>\n",
       "    <tr>\n",
       "      <th>2</th>\n",
       "      <td>2000</td>\n",
       "      <td>dense</td>\n",
       "      <td>[0.1942293629630983, 0.19415962816581686, 0.19...</td>\n",
       "      <td>0.194155</td>\n",
       "    </tr>\n",
       "    <tr>\n",
       "      <th>4</th>\n",
       "      <td>3000</td>\n",
       "      <td>dense</td>\n",
       "      <td>[0.19444680636262185, 0.19431461637387612, 0.1...</td>\n",
       "      <td>0.194324</td>\n",
       "    </tr>\n",
       "    <tr>\n",
       "      <th>6</th>\n",
       "      <td>4000</td>\n",
       "      <td>dense</td>\n",
       "      <td>[0.1969823517300768, 0.1968275765296103, 0.196...</td>\n",
       "      <td>0.196813</td>\n",
       "    </tr>\n",
       "    <tr>\n",
       "      <th>8</th>\n",
       "      <td>5000</td>\n",
       "      <td>dense</td>\n",
       "      <td>[0.19607426836195416, 0.19577816011353463, 0.1...</td>\n",
       "      <td>0.195758</td>\n",
       "    </tr>\n",
       "  </tbody>\n",
       "</table>\n",
       "</div>"
      ],
      "text/plain": [
       "   Size Density                                             Errors  \\\n",
       "0  1000   dense  [0.19134024393882426, 0.1912312922346707, 0.19...   \n",
       "2  2000   dense  [0.1942293629630983, 0.19415962816581686, 0.19...   \n",
       "4  3000   dense  [0.19444680636262185, 0.19431461637387612, 0.1...   \n",
       "6  4000   dense  [0.1969823517300768, 0.1968275765296103, 0.196...   \n",
       "8  5000   dense  [0.19607426836195416, 0.19577816011353463, 0.1...   \n",
       "\n",
       "   Final Error  \n",
       "0     0.191231  \n",
       "2     0.194155  \n",
       "4     0.194324  \n",
       "6     0.196813  \n",
       "8     0.195758  "
      ]
     },
     "execution_count": 146,
     "metadata": {},
     "output_type": "execute_result"
    }
   ],
   "source": [
    "dense_results"
   ]
  },
  {
   "cell_type": "code",
   "execution_count": 152,
   "metadata": {},
   "outputs": [
    {
     "data": {
      "application/vnd.plotly.v1+json": {
       "config": {
        "plotlyServerURL": "https://plot.ly"
       },
       "data": [
        {
         "type": "scatter",
         "x": {
          "bdata": "6APQB7gLoA+IEw==",
          "dtype": "i2"
         },
         "y": {
          "bdata": "dQqCrz96yD/SPXJ6E9rIP8QiWUWe38g/59AP3C4xyT85Jb+pnA7JPw==",
          "dtype": "f8"
         }
        }
       ],
       "layout": {
        "template": {
         "data": {
          "bar": [
           {
            "error_x": {
             "color": "#2a3f5f"
            },
            "error_y": {
             "color": "#2a3f5f"
            },
            "marker": {
             "line": {
              "color": "white",
              "width": 0.5
             },
             "pattern": {
              "fillmode": "overlay",
              "size": 10,
              "solidity": 0.2
             }
            },
            "type": "bar"
           }
          ],
          "barpolar": [
           {
            "marker": {
             "line": {
              "color": "white",
              "width": 0.5
             },
             "pattern": {
              "fillmode": "overlay",
              "size": 10,
              "solidity": 0.2
             }
            },
            "type": "barpolar"
           }
          ],
          "carpet": [
           {
            "aaxis": {
             "endlinecolor": "#2a3f5f",
             "gridcolor": "#C8D4E3",
             "linecolor": "#C8D4E3",
             "minorgridcolor": "#C8D4E3",
             "startlinecolor": "#2a3f5f"
            },
            "baxis": {
             "endlinecolor": "#2a3f5f",
             "gridcolor": "#C8D4E3",
             "linecolor": "#C8D4E3",
             "minorgridcolor": "#C8D4E3",
             "startlinecolor": "#2a3f5f"
            },
            "type": "carpet"
           }
          ],
          "choropleth": [
           {
            "colorbar": {
             "outlinewidth": 0,
             "ticks": ""
            },
            "type": "choropleth"
           }
          ],
          "contour": [
           {
            "colorbar": {
             "outlinewidth": 0,
             "ticks": ""
            },
            "colorscale": [
             [
              0,
              "#0d0887"
             ],
             [
              0.1111111111111111,
              "#46039f"
             ],
             [
              0.2222222222222222,
              "#7201a8"
             ],
             [
              0.3333333333333333,
              "#9c179e"
             ],
             [
              0.4444444444444444,
              "#bd3786"
             ],
             [
              0.5555555555555556,
              "#d8576b"
             ],
             [
              0.6666666666666666,
              "#ed7953"
             ],
             [
              0.7777777777777778,
              "#fb9f3a"
             ],
             [
              0.8888888888888888,
              "#fdca26"
             ],
             [
              1,
              "#f0f921"
             ]
            ],
            "type": "contour"
           }
          ],
          "contourcarpet": [
           {
            "colorbar": {
             "outlinewidth": 0,
             "ticks": ""
            },
            "type": "contourcarpet"
           }
          ],
          "heatmap": [
           {
            "colorbar": {
             "outlinewidth": 0,
             "ticks": ""
            },
            "colorscale": [
             [
              0,
              "#0d0887"
             ],
             [
              0.1111111111111111,
              "#46039f"
             ],
             [
              0.2222222222222222,
              "#7201a8"
             ],
             [
              0.3333333333333333,
              "#9c179e"
             ],
             [
              0.4444444444444444,
              "#bd3786"
             ],
             [
              0.5555555555555556,
              "#d8576b"
             ],
             [
              0.6666666666666666,
              "#ed7953"
             ],
             [
              0.7777777777777778,
              "#fb9f3a"
             ],
             [
              0.8888888888888888,
              "#fdca26"
             ],
             [
              1,
              "#f0f921"
             ]
            ],
            "type": "heatmap"
           }
          ],
          "histogram": [
           {
            "marker": {
             "pattern": {
              "fillmode": "overlay",
              "size": 10,
              "solidity": 0.2
             }
            },
            "type": "histogram"
           }
          ],
          "histogram2d": [
           {
            "colorbar": {
             "outlinewidth": 0,
             "ticks": ""
            },
            "colorscale": [
             [
              0,
              "#0d0887"
             ],
             [
              0.1111111111111111,
              "#46039f"
             ],
             [
              0.2222222222222222,
              "#7201a8"
             ],
             [
              0.3333333333333333,
              "#9c179e"
             ],
             [
              0.4444444444444444,
              "#bd3786"
             ],
             [
              0.5555555555555556,
              "#d8576b"
             ],
             [
              0.6666666666666666,
              "#ed7953"
             ],
             [
              0.7777777777777778,
              "#fb9f3a"
             ],
             [
              0.8888888888888888,
              "#fdca26"
             ],
             [
              1,
              "#f0f921"
             ]
            ],
            "type": "histogram2d"
           }
          ],
          "histogram2dcontour": [
           {
            "colorbar": {
             "outlinewidth": 0,
             "ticks": ""
            },
            "colorscale": [
             [
              0,
              "#0d0887"
             ],
             [
              0.1111111111111111,
              "#46039f"
             ],
             [
              0.2222222222222222,
              "#7201a8"
             ],
             [
              0.3333333333333333,
              "#9c179e"
             ],
             [
              0.4444444444444444,
              "#bd3786"
             ],
             [
              0.5555555555555556,
              "#d8576b"
             ],
             [
              0.6666666666666666,
              "#ed7953"
             ],
             [
              0.7777777777777778,
              "#fb9f3a"
             ],
             [
              0.8888888888888888,
              "#fdca26"
             ],
             [
              1,
              "#f0f921"
             ]
            ],
            "type": "histogram2dcontour"
           }
          ],
          "mesh3d": [
           {
            "colorbar": {
             "outlinewidth": 0,
             "ticks": ""
            },
            "type": "mesh3d"
           }
          ],
          "parcoords": [
           {
            "line": {
             "colorbar": {
              "outlinewidth": 0,
              "ticks": ""
             }
            },
            "type": "parcoords"
           }
          ],
          "pie": [
           {
            "automargin": true,
            "type": "pie"
           }
          ],
          "scatter": [
           {
            "fillpattern": {
             "fillmode": "overlay",
             "size": 10,
             "solidity": 0.2
            },
            "type": "scatter"
           }
          ],
          "scatter3d": [
           {
            "line": {
             "colorbar": {
              "outlinewidth": 0,
              "ticks": ""
             }
            },
            "marker": {
             "colorbar": {
              "outlinewidth": 0,
              "ticks": ""
             }
            },
            "type": "scatter3d"
           }
          ],
          "scattercarpet": [
           {
            "marker": {
             "colorbar": {
              "outlinewidth": 0,
              "ticks": ""
             }
            },
            "type": "scattercarpet"
           }
          ],
          "scattergeo": [
           {
            "marker": {
             "colorbar": {
              "outlinewidth": 0,
              "ticks": ""
             }
            },
            "type": "scattergeo"
           }
          ],
          "scattergl": [
           {
            "marker": {
             "colorbar": {
              "outlinewidth": 0,
              "ticks": ""
             }
            },
            "type": "scattergl"
           }
          ],
          "scattermap": [
           {
            "marker": {
             "colorbar": {
              "outlinewidth": 0,
              "ticks": ""
             }
            },
            "type": "scattermap"
           }
          ],
          "scattermapbox": [
           {
            "marker": {
             "colorbar": {
              "outlinewidth": 0,
              "ticks": ""
             }
            },
            "type": "scattermapbox"
           }
          ],
          "scatterpolar": [
           {
            "marker": {
             "colorbar": {
              "outlinewidth": 0,
              "ticks": ""
             }
            },
            "type": "scatterpolar"
           }
          ],
          "scatterpolargl": [
           {
            "marker": {
             "colorbar": {
              "outlinewidth": 0,
              "ticks": ""
             }
            },
            "type": "scatterpolargl"
           }
          ],
          "scatterternary": [
           {
            "marker": {
             "colorbar": {
              "outlinewidth": 0,
              "ticks": ""
             }
            },
            "type": "scatterternary"
           }
          ],
          "surface": [
           {
            "colorbar": {
             "outlinewidth": 0,
             "ticks": ""
            },
            "colorscale": [
             [
              0,
              "#0d0887"
             ],
             [
              0.1111111111111111,
              "#46039f"
             ],
             [
              0.2222222222222222,
              "#7201a8"
             ],
             [
              0.3333333333333333,
              "#9c179e"
             ],
             [
              0.4444444444444444,
              "#bd3786"
             ],
             [
              0.5555555555555556,
              "#d8576b"
             ],
             [
              0.6666666666666666,
              "#ed7953"
             ],
             [
              0.7777777777777778,
              "#fb9f3a"
             ],
             [
              0.8888888888888888,
              "#fdca26"
             ],
             [
              1,
              "#f0f921"
             ]
            ],
            "type": "surface"
           }
          ],
          "table": [
           {
            "cells": {
             "fill": {
              "color": "#EBF0F8"
             },
             "line": {
              "color": "white"
             }
            },
            "header": {
             "fill": {
              "color": "#C8D4E3"
             },
             "line": {
              "color": "white"
             }
            },
            "type": "table"
           }
          ]
         },
         "layout": {
          "annotationdefaults": {
           "arrowcolor": "#2a3f5f",
           "arrowhead": 0,
           "arrowwidth": 1
          },
          "autotypenumbers": "strict",
          "coloraxis": {
           "colorbar": {
            "outlinewidth": 0,
            "ticks": ""
           }
          },
          "colorscale": {
           "diverging": [
            [
             0,
             "#8e0152"
            ],
            [
             0.1,
             "#c51b7d"
            ],
            [
             0.2,
             "#de77ae"
            ],
            [
             0.3,
             "#f1b6da"
            ],
            [
             0.4,
             "#fde0ef"
            ],
            [
             0.5,
             "#f7f7f7"
            ],
            [
             0.6,
             "#e6f5d0"
            ],
            [
             0.7,
             "#b8e186"
            ],
            [
             0.8,
             "#7fbc41"
            ],
            [
             0.9,
             "#4d9221"
            ],
            [
             1,
             "#276419"
            ]
           ],
           "sequential": [
            [
             0,
             "#0d0887"
            ],
            [
             0.1111111111111111,
             "#46039f"
            ],
            [
             0.2222222222222222,
             "#7201a8"
            ],
            [
             0.3333333333333333,
             "#9c179e"
            ],
            [
             0.4444444444444444,
             "#bd3786"
            ],
            [
             0.5555555555555556,
             "#d8576b"
            ],
            [
             0.6666666666666666,
             "#ed7953"
            ],
            [
             0.7777777777777778,
             "#fb9f3a"
            ],
            [
             0.8888888888888888,
             "#fdca26"
            ],
            [
             1,
             "#f0f921"
            ]
           ],
           "sequentialminus": [
            [
             0,
             "#0d0887"
            ],
            [
             0.1111111111111111,
             "#46039f"
            ],
            [
             0.2222222222222222,
             "#7201a8"
            ],
            [
             0.3333333333333333,
             "#9c179e"
            ],
            [
             0.4444444444444444,
             "#bd3786"
            ],
            [
             0.5555555555555556,
             "#d8576b"
            ],
            [
             0.6666666666666666,
             "#ed7953"
            ],
            [
             0.7777777777777778,
             "#fb9f3a"
            ],
            [
             0.8888888888888888,
             "#fdca26"
            ],
            [
             1,
             "#f0f921"
            ]
           ]
          },
          "colorway": [
           "#636efa",
           "#EF553B",
           "#00cc96",
           "#ab63fa",
           "#FFA15A",
           "#19d3f3",
           "#FF6692",
           "#B6E880",
           "#FF97FF",
           "#FECB52"
          ],
          "font": {
           "color": "#2a3f5f"
          },
          "geo": {
           "bgcolor": "white",
           "lakecolor": "white",
           "landcolor": "white",
           "showlakes": true,
           "showland": true,
           "subunitcolor": "#C8D4E3"
          },
          "hoverlabel": {
           "align": "left"
          },
          "hovermode": "closest",
          "mapbox": {
           "style": "light"
          },
          "paper_bgcolor": "white",
          "plot_bgcolor": "white",
          "polar": {
           "angularaxis": {
            "gridcolor": "#EBF0F8",
            "linecolor": "#EBF0F8",
            "ticks": ""
           },
           "bgcolor": "white",
           "radialaxis": {
            "gridcolor": "#EBF0F8",
            "linecolor": "#EBF0F8",
            "ticks": ""
           }
          },
          "scene": {
           "xaxis": {
            "backgroundcolor": "white",
            "gridcolor": "#DFE8F3",
            "gridwidth": 2,
            "linecolor": "#EBF0F8",
            "showbackground": true,
            "ticks": "",
            "zerolinecolor": "#EBF0F8"
           },
           "yaxis": {
            "backgroundcolor": "white",
            "gridcolor": "#DFE8F3",
            "gridwidth": 2,
            "linecolor": "#EBF0F8",
            "showbackground": true,
            "ticks": "",
            "zerolinecolor": "#EBF0F8"
           },
           "zaxis": {
            "backgroundcolor": "white",
            "gridcolor": "#DFE8F3",
            "gridwidth": 2,
            "linecolor": "#EBF0F8",
            "showbackground": true,
            "ticks": "",
            "zerolinecolor": "#EBF0F8"
           }
          },
          "shapedefaults": {
           "line": {
            "color": "#2a3f5f"
           }
          },
          "ternary": {
           "aaxis": {
            "gridcolor": "#DFE8F3",
            "linecolor": "#A2B1C6",
            "ticks": ""
           },
           "baxis": {
            "gridcolor": "#DFE8F3",
            "linecolor": "#A2B1C6",
            "ticks": ""
           },
           "bgcolor": "white",
           "caxis": {
            "gridcolor": "#DFE8F3",
            "linecolor": "#A2B1C6",
            "ticks": ""
           }
          },
          "title": {
           "x": 0.05
          },
          "xaxis": {
           "automargin": true,
           "gridcolor": "#EBF0F8",
           "linecolor": "#EBF0F8",
           "ticks": "",
           "title": {
            "standoff": 15
           },
           "zerolinecolor": "#EBF0F8",
           "zerolinewidth": 2
          },
          "yaxis": {
           "automargin": true,
           "gridcolor": "#EBF0F8",
           "linecolor": "#EBF0F8",
           "ticks": "",
           "title": {
            "standoff": 15
           },
           "zerolinecolor": "#EBF0F8",
           "zerolinewidth": 2
          }
         }
        },
        "title": {
         "text": "Dense Matrix Error Rates"
        },
        "yaxis": {
         "range": [
          0.01,
          1
         ]
        }
       }
      }
     },
     "metadata": {},
     "output_type": "display_data"
    }
   ],
   "source": [
    "fig = go.Figure()\n",
    "\n",
    "fig.add_trace(\n",
    "    go.Scatter(\n",
    "    x = dense_results['Size'],\n",
    "    y = dense_results['Final Error']\n",
    ")\n",
    ")\n",
    "\n",
    "\n",
    "\n",
    "fig.update_layout(\n",
    "    yaxis_range = [10**-2,1],\n",
    "    template = 'plotly_white',\n",
    "    title = 'Dense Matrix Error Rates'\n",
    ")\n"
   ]
  },
  {
   "cell_type": "code",
   "execution_count": null,
   "metadata": {},
   "outputs": [],
   "source": []
  }
 ],
 "metadata": {
  "kernelspec": {
   "display_name": ".venv",
   "language": "python",
   "name": "python3"
  },
  "language_info": {
   "codemirror_mode": {
    "name": "ipython",
    "version": 3
   },
   "file_extension": ".py",
   "mimetype": "text/x-python",
   "name": "python",
   "nbconvert_exporter": "python",
   "pygments_lexer": "ipython3",
   "version": "3.9.6"
  }
 },
 "nbformat": 4,
 "nbformat_minor": 2
}
