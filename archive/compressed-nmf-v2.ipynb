{
 "cells": [
  {
   "cell_type": "markdown",
   "metadata": {},
   "source": [
    "**Gaussian Sketching**"
   ]
  },
  {
   "cell_type": "code",
   "execution_count": 9,
   "metadata": {},
   "outputs": [],
   "source": [
    "import numpy as np\n",
    "\n",
    "def randomized_compression_gaussian(A, r, rOV, w):\n",
    "    \"\"\"\n",
    "    Compute a compression matrix Q for A using Gaussian Sketching.\n",
    "\n",
    "    Parameters:\n",
    "    A (numpy array): Input matrix (m x n)\n",
    "    r (int): Target rank\n",
    "    rOV (int): Oversampling parameter\n",
    "    w (int): Exponent for the power iteration\n",
    "\n",
    "    Returns:\n",
    "    Q (numpy array): Compression matrix (m x (r + rOV))\n",
    "    \"\"\"\n",
    "    m, n = A.shape\n",
    "    d = r + rOV  # Effective reduced dimension\n",
    "\n",
    "    # Step 1: Draw a Gaussian random matrix Omega_L\n",
    "    Omega_L = np.random.randn(n, d)\n",
    "\n",
    "    # Step 2: Compute B = (A A^T)^w A Omega_L\n",
    "    B = A @ Omega_L  # Initial multiplication: A Omega_L\n",
    "    for _ in range(w):\n",
    "        B = (A @ A.T) @ B  # Power iteration: (A A^T) B\n",
    "\n",
    "    # Step 3: Compute the orthogonal basis Q using QR decomposition\n",
    "    Q, _ = np.linalg.qr(B)\n",
    "\n",
    "    return Q"
   ]
  },
  {
   "cell_type": "markdown",
   "metadata": {},
   "source": [
    "**Subsampled Randomized Hadamard Transform**"
   ]
  },
  {
   "cell_type": "code",
   "execution_count": 10,
   "metadata": {},
   "outputs": [],
   "source": [
    "import numpy as np\n",
    "from scipy.linalg import hadamard\n",
    "\n",
    "def next_power_of_two(n):\n",
    "    \"\"\"\n",
    "    Compute the smallest power of two greater than or equal to n.\n",
    "    \"\"\"\n",
    "    return 2 ** int(np.ceil(np.log2(n)))\n",
    "\n",
    "def randomized_compression_srht(A, r, rOV, w):\n",
    "    \"\"\"\n",
    "    Compute a compression matrix Q for A using SRHT.\n",
    "\n",
    "    Parameters:\n",
    "    A (numpy array): Input matrix (m x n)\n",
    "    r (int): Target rank\n",
    "    rOV (int): Oversampling parameter\n",
    "    w (int): Exponent for the power iteration\n",
    "\n",
    "    Returns:\n",
    "    Q (numpy array): Compression matrix (m x (r + rOV))\n",
    "    \"\"\"\n",
    "    m, n = A.shape\n",
    "    d = r + rOV  # Effective reduced dimension\n",
    "\n",
    "    # Step 1: Use SRHT to construct Omega_L\n",
    "    n_padded = next_power_of_two(n)\n",
    "    if n_padded != n:\n",
    "        A_padded = np.zeros((m, n_padded))\n",
    "        A_padded[:, :n] = A  # Fill the padded matrix with the original data\n",
    "    else:\n",
    "        A_padded = A\n",
    "\n",
    "    # Random sign flips\n",
    "    D = np.diag(np.random.choice([-1, 1], size=n_padded))\n",
    "\n",
    "    # Hadamard transform\n",
    "    H = hadamard(n_padded) / np.sqrt(n_padded)  # Normalized Hadamard matrix\n",
    "    HD = H @ D\n",
    "\n",
    "    # Subsampling\n",
    "    S = np.random.choice(n_padded, size=d, replace=False)\n",
    "    Omega_L = HD[S, :].T  # Transpose to get (n x d)\n",
    "\n",
    "    # Step 2: Compute B = (A A^T)^w A Omega_L\n",
    "    B = A @ Omega_L  # Initial multiplication: A Omega_L\n",
    "    for _ in range(w):\n",
    "        B = (A @ A.T) @ B  # Power iteration: (A A^T) B\n",
    "\n",
    "    # Step 3: Compute the orthogonal basis Q using QR decomposition\n",
    "    Q, _ = np.linalg.qr(B)\n",
    "\n",
    "    return Q"
   ]
  },
  {
   "cell_type": "markdown",
   "metadata": {},
   "source": [
    "**Fast Johnson-Lindenstrauss Transform**"
   ]
  },
  {
   "cell_type": "code",
   "execution_count": 11,
   "metadata": {},
   "outputs": [],
   "source": [
    "import numpy as np\n",
    "from scipy.fftpack import fft\n",
    "\n",
    "def randomized_compression_fjlt(A, r, rOV, w):\n",
    "    \"\"\"\n",
    "    Compute a compression matrix Q for A using FJLT.\n",
    "\n",
    "    Parameters:\n",
    "    A (numpy array): Input matrix (m x n)\n",
    "    r (int): Target rank\n",
    "    rOV (int): Oversampling parameter\n",
    "    w (int): Exponent for the power iteration\n",
    "\n",
    "    Returns:\n",
    "    Q (numpy array): Compression matrix (m x (r + rOV))\n",
    "    \"\"\"\n",
    "    m, n = A.shape\n",
    "    d = r + rOV  # Effective reduced dimension\n",
    "\n",
    "    # Step 1: Use FJLT to construct Omega_L\n",
    "    # Random sign flips\n",
    "    D = np.diag(np.random.choice([-1, 1], size=n))\n",
    "\n",
    "    # Fourier transform\n",
    "    F = fft(np.eye(n)) / np.sqrt(n)  # Normalized Fourier matrix\n",
    "    FD = F @ D\n",
    "\n",
    "    # Subsampling\n",
    "    S = np.random.choice(n, size=d, replace=False)\n",
    "    Omega_L = FD[S, :].T  # Transpose to get (n x d)\n",
    "\n",
    "    # Step 2: Compute B = (A A^T)^w A Omega_L\n",
    "    B = A @ Omega_L  # Initial multiplication: A Omega_L\n",
    "    for _ in range(w):\n",
    "        B = (A @ A.T) @ B  # Power iteration: (A A^T) B\n",
    "\n",
    "    # Step 3: Compute the orthogonal basis Q using QR decomposition\n",
    "    Q, _ = np.linalg.qr(B)\n",
    "\n",
    "    return Q"
   ]
  },
  {
   "cell_type": "markdown",
   "metadata": {},
   "source": [
    "**Clarkson-Woodruff Transform**"
   ]
  },
  {
   "cell_type": "code",
   "execution_count": 12,
   "metadata": {},
   "outputs": [],
   "source": [
    "import numpy as np\n",
    "\n",
    "def randomized_compression_cwt(A, r, rOV, w):\n",
    "    \"\"\"\n",
    "    Compute a compression matrix Q for A using CWT.\n",
    "\n",
    "    Parameters:\n",
    "    A (numpy array): Input matrix (m x n)\n",
    "    r (int): Target rank\n",
    "    rOV (int): Oversampling parameter\n",
    "    w (int): Exponent for the power iteration\n",
    "\n",
    "    Returns:\n",
    "    Q (numpy array): Compression matrix (m x (r + rOV))\n",
    "    \"\"\"\n",
    "    m, n = A.shape\n",
    "    d = r + rOV  # Effective reduced dimension\n",
    "\n",
    "    # Step 1: Use CWT to construct Omega_L\n",
    "    # Random hashing\n",
    "    h = np.random.randint(0, d, size=n)  # Hash each column to a random bucket\n",
    "    s = np.random.choice([-1, 1], size=n)  # Random sign flips\n",
    "\n",
    "    # Construct Omega_L\n",
    "    Omega_L = np.zeros((n, d))\n",
    "    for j in range(n):\n",
    "        Omega_L[j, h[j]] = s[j]\n",
    "\n",
    "    # Step 2: Compute B = (A A^T)^w A Omega_L\n",
    "    B = A @ Omega_L  # Initial multiplication: A Omega_L\n",
    "    for _ in range(w):\n",
    "        B = (A @ A.T) @ B  # Power iteration: (A A^T) B\n",
    "\n",
    "    # Step 3: Compute the orthogonal basis Q using QR decomposition\n",
    "    Q, _ = np.linalg.qr(B)\n",
    "\n",
    "    return Q"
   ]
  },
  {
   "cell_type": "markdown",
   "metadata": {},
   "source": [
    "**Examples**"
   ]
  },
  {
   "cell_type": "code",
   "execution_count": 17,
   "metadata": {},
   "outputs": [],
   "source": [
    "# Example usage\n",
    "A = np.abs(np.random.rand(100, 50))  # Input matrix (m x n)\n",
    "r = 5  # Target rank\n",
    "rOV = 10  # Oversampling parameter\n",
    "w = 2  # Exponent for power iterations"
   ]
  },
  {
   "cell_type": "markdown",
   "metadata": {},
   "source": [
    "*Gaussian*"
   ]
  },
  {
   "cell_type": "code",
   "execution_count": 18,
   "metadata": {},
   "outputs": [
    {
     "data": {
      "text/plain": [
       "array([[-0.10289712, -0.03085747, -0.05613052, ..., -0.17493657,\n",
       "        -0.0760745 , -0.29345184],\n",
       "       [-0.10051681, -0.03963642, -0.04880614, ..., -0.06599275,\n",
       "        -0.16858263, -0.09311893],\n",
       "       [-0.09005892,  0.09049653, -0.0116299 , ...,  0.002591  ,\n",
       "        -0.02453179,  0.06116702],\n",
       "       ...,\n",
       "       [-0.09900841,  0.0400544 ,  0.14750179, ...,  0.10848538,\n",
       "         0.22979927, -0.05624245],\n",
       "       [-0.09294153,  0.02626261, -0.09097507, ..., -0.02222866,\n",
       "         0.06070033, -0.08583829],\n",
       "       [-0.09605035, -0.03315396,  0.062351  , ..., -0.1208717 ,\n",
       "         0.08309526, -0.09680887]])"
      ]
     },
     "execution_count": 18,
     "metadata": {},
     "output_type": "execute_result"
    }
   ],
   "source": [
    "Q_gaussian = randomized_compression_gaussian(A, r, rOV, w)\n",
    "Q_gaussian"
   ]
  },
  {
   "cell_type": "markdown",
   "metadata": {},
   "source": [
    "*SRHT*"
   ]
  },
  {
   "cell_type": "code",
   "execution_count": null,
   "metadata": {},
   "outputs": [],
   "source": [
    "Q_srht = randomized_compression_srht(A, r, rOV, w)"
   ]
  },
  {
   "cell_type": "markdown",
   "metadata": {},
   "source": [
    "*FJLT*"
   ]
  },
  {
   "cell_type": "code",
   "execution_count": 20,
   "metadata": {},
   "outputs": [
    {
     "data": {
      "text/plain": [
       "array([[-0.10288155+0.00170416j, -0.0148623 -0.10296348j,\n",
       "        -0.0537929 +0.07163582j, ...,  0.10273087-0.02921677j,\n",
       "        -0.10532044-0.01485094j, -0.1130027 +0.00957298j],\n",
       "       [-0.10051072+0.00166255j, -0.04168752+0.02429299j,\n",
       "        -0.02088152-0.00070977j, ..., -0.0030299 -0.10756103j,\n",
       "        -0.0835949 -0.00891893j, -0.00088715+0.04213012j],\n",
       "       [-0.09006187+0.00149038j, -0.0131302 +0.02357831j,\n",
       "        -0.03283249-0.08988079j, ..., -0.0429979 +0.08213724j,\n",
       "         0.07124452-0.12199689j,  0.06519093+0.03305138j],\n",
       "       ...,\n",
       "       [-0.09898242+0.00164164j,  0.03672836-0.06270043j,\n",
       "        -0.04461661+0.13969315j, ..., -0.04761941-0.01732438j,\n",
       "        -0.01709097+0.00362704j, -0.04307726+0.10078172j],\n",
       "       [-0.09291744+0.00153809j,  0.02276443-0.07163624j,\n",
       "        -0.07450497+0.0990555j , ...,  0.0442376 +0.02845435j,\n",
       "        -0.00695262+0.08475662j, -0.00861068-0.13572811j],\n",
       "       [-0.09604534+0.00159796j, -0.01063441-0.00486696j,\n",
       "        -0.03178966-0.03599645j, ..., -0.07307005+0.02190137j,\n",
       "         0.0523136 -0.00144757j,  0.0154554 -0.11768049j]])"
      ]
     },
     "execution_count": 20,
     "metadata": {},
     "output_type": "execute_result"
    }
   ],
   "source": [
    "Q_fjlt = randomized_compression_fjlt(A, r, rOV, w)\n",
    "Q_fjlt"
   ]
  },
  {
   "cell_type": "markdown",
   "metadata": {},
   "source": [
    "*CWT*"
   ]
  },
  {
   "cell_type": "code",
   "execution_count": 22,
   "metadata": {},
   "outputs": [
    {
     "data": {
      "text/plain": [
       "array([[-0.10289761, -0.12247631, -0.02330746, ..., -0.06047213,\n",
       "        -0.10351672, -0.02753897],\n",
       "       [-0.10052509, -0.04797562,  0.06794174, ..., -0.13295271,\n",
       "        -0.12006892, -0.01799292],\n",
       "       [-0.09006596,  0.02894567, -0.17151377, ..., -0.19532633,\n",
       "         0.10345272, -0.01556757],\n",
       "       ...,\n",
       "       [-0.09900159,  0.07242994, -0.13765907, ..., -0.01618775,\n",
       "         0.02742813, -0.02568031],\n",
       "       [-0.0929368 , -0.06095951,  0.02228634, ...,  0.11496098,\n",
       "         0.01864464,  0.10346116],\n",
       "       [-0.09605088, -0.02793842,  0.00676345, ...,  0.10906788,\n",
       "        -0.03879134, -0.09277804]])"
      ]
     },
     "execution_count": 22,
     "metadata": {},
     "output_type": "execute_result"
    }
   ],
   "source": [
    "Q_cwt = randomized_compression_cwt(A, r, rOV, w)\n",
    "Q_cwt"
   ]
  },
  {
   "cell_type": "code",
   "execution_count": null,
   "metadata": {},
   "outputs": [],
   "source": []
  }
 ],
 "metadata": {
  "kernelspec": {
   "display_name": ".venv",
   "language": "python",
   "name": "python3"
  },
  "language_info": {
   "codemirror_mode": {
    "name": "ipython",
    "version": 3
   },
   "file_extension": ".py",
   "mimetype": "text/x-python",
   "name": "python",
   "nbconvert_exporter": "python",
   "pygments_lexer": "ipython3",
   "version": "3.9.6"
  }
 },
 "nbformat": 4,
 "nbformat_minor": 2
}
