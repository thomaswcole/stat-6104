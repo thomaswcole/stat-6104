{
 "cells": [
  {
   "cell_type": "markdown",
   "id": "a4b219ce",
   "metadata": {},
   "source": [
    "**Section 5a: Empirical Performance - CBCL Faces**"
   ]
  },
  {
   "cell_type": "markdown",
   "id": "ad3575ea",
   "metadata": {},
   "source": [
    "*Imports*"
   ]
  },
  {
   "cell_type": "code",
   "execution_count": 1,
   "id": "881bc0b1",
   "metadata": {},
   "outputs": [],
   "source": [
    "import pandas as pd\n",
    "import numpy as np\n",
    "import plotly.graph_objects as go\n",
    "from plotly.subplots import make_subplots\n",
    "\n",
    "from sklearn.datasets import fetch_olivetti_faces\n",
    "from collections import defaultdict\n",
    "from random_matrix import *\n",
    "from nmf import *\n",
    "from benchmark import *"
   ]
  },
  {
   "cell_type": "markdown",
   "id": "655a3b15",
   "metadata": {},
   "source": [
    "---"
   ]
  },
  {
   "cell_type": "markdown",
   "id": "9c6bdd87",
   "metadata": {},
   "source": [
    "*Data*"
   ]
  },
  {
   "cell_type": "code",
   "execution_count": 2,
   "id": "33d2a1a7",
   "metadata": {},
   "outputs": [],
   "source": [
    "X_faces = fetch_olivetti_faces(shuffle=True).data"
   ]
  },
  {
   "cell_type": "code",
   "execution_count": null,
   "id": "e12f397a",
   "metadata": {},
   "outputs": [
    {
     "data": {
      "text/plain": [
       "0.9999993896484375"
      ]
     },
     "execution_count": 3,
     "metadata": {},
     "output_type": "execute_result"
    }
   ],
   "source": [
    "print(f'Shape: {X_faces.shape}')\n",
    "print(f'Sparsity: {1 - len(np.nonzero(X_faces)[0]) / (X_faces.shape[0]*X_faces.shape[1])}')"
   ]
  },
  {
   "cell_type": "markdown",
   "id": "632f9c1c",
   "metadata": {},
   "source": [
    "*Method Benchmarks*"
   ]
  },
  {
   "cell_type": "code",
   "execution_count": 5,
   "id": "99a15b97",
   "metadata": {},
   "outputs": [
    {
     "name": "stdout",
     "output_type": "stream",
     "text": [
      "Completed MU C,gaussian\n",
      "Completed MU C,srft\n",
      "Completed MU C,sparse-jl\n",
      "Completed MU C,count-sketch\n",
      "Completed MU SC,gaussian\n",
      "Completed MU SC,srft\n",
      "Completed MU SC,sparse-jl\n",
      "Completed MU SC,count-sketch\n",
      "Completed HALS C,gaussian\n",
      "Completed HALS C,srft\n",
      "Completed HALS C,sparse-jl\n",
      "Completed HALS C,count-sketch\n",
      "Completed HALS SC,gaussian\n",
      "Completed HALS SC,srft\n",
      "Completed HALS SC,sparse-jl\n",
      "Completed HALS SC,count-sketch\n"
     ]
    },
    {
     "data": {
      "text/html": [
       "<div>\n",
       "<style scoped>\n",
       "    .dataframe tbody tr th:only-of-type {\n",
       "        vertical-align: middle;\n",
       "    }\n",
       "\n",
       "    .dataframe tbody tr th {\n",
       "        vertical-align: top;\n",
       "    }\n",
       "\n",
       "    .dataframe thead tr th {\n",
       "        text-align: left;\n",
       "    }\n",
       "\n",
       "    .dataframe thead tr:last-of-type th {\n",
       "        text-align: right;\n",
       "    }\n",
       "</style>\n",
       "<table border=\"1\" class=\"dataframe\">\n",
       "  <thead>\n",
       "    <tr>\n",
       "      <th></th>\n",
       "      <th colspan=\"4\" halign=\"left\">errors</th>\n",
       "      <th colspan=\"4\" halign=\"left\">time</th>\n",
       "    </tr>\n",
       "    <tr>\n",
       "      <th>projection</th>\n",
       "      <th>count-sketch</th>\n",
       "      <th>gaussian</th>\n",
       "      <th>sparse-jl</th>\n",
       "      <th>srft</th>\n",
       "      <th>count-sketch</th>\n",
       "      <th>gaussian</th>\n",
       "      <th>sparse-jl</th>\n",
       "      <th>srft</th>\n",
       "    </tr>\n",
       "    <tr>\n",
       "      <th>algorithm</th>\n",
       "      <th></th>\n",
       "      <th></th>\n",
       "      <th></th>\n",
       "      <th></th>\n",
       "      <th></th>\n",
       "      <th></th>\n",
       "      <th></th>\n",
       "      <th></th>\n",
       "    </tr>\n",
       "  </thead>\n",
       "  <tbody>\n",
       "    <tr>\n",
       "      <th>HALS C</th>\n",
       "      <td>0.180025</td>\n",
       "      <td>0.173771</td>\n",
       "      <td>0.175253</td>\n",
       "      <td>0.203729</td>\n",
       "      <td>0.530832</td>\n",
       "      <td>0.543841</td>\n",
       "      <td>0.534766</td>\n",
       "      <td>0.561237</td>\n",
       "    </tr>\n",
       "    <tr>\n",
       "      <th>HALS SC</th>\n",
       "      <td>0.149175</td>\n",
       "      <td>0.149193</td>\n",
       "      <td>0.149466</td>\n",
       "      <td>0.149182</td>\n",
       "      <td>0.563104</td>\n",
       "      <td>0.591290</td>\n",
       "      <td>0.563164</td>\n",
       "      <td>0.570560</td>\n",
       "    </tr>\n",
       "    <tr>\n",
       "      <th>MU C</th>\n",
       "      <td>0.188077</td>\n",
       "      <td>0.190083</td>\n",
       "      <td>0.185767</td>\n",
       "      <td>0.225832</td>\n",
       "      <td>0.440946</td>\n",
       "      <td>0.468168</td>\n",
       "      <td>0.447436</td>\n",
       "      <td>0.484997</td>\n",
       "    </tr>\n",
       "    <tr>\n",
       "      <th>MU SC</th>\n",
       "      <td>0.180842</td>\n",
       "      <td>0.180809</td>\n",
       "      <td>0.180818</td>\n",
       "      <td>0.180832</td>\n",
       "      <td>0.496006</td>\n",
       "      <td>0.496959</td>\n",
       "      <td>0.492270</td>\n",
       "      <td>0.501356</td>\n",
       "    </tr>\n",
       "  </tbody>\n",
       "</table>\n",
       "</div>"
      ],
      "text/plain": [
       "                 errors                                       time            \\\n",
       "projection count-sketch  gaussian sparse-jl      srft count-sketch  gaussian   \n",
       "algorithm                                                                      \n",
       "HALS C         0.180025  0.173771  0.175253  0.203729     0.530832  0.543841   \n",
       "HALS SC        0.149175  0.149193  0.149466  0.149182     0.563104  0.591290   \n",
       "MU C           0.188077  0.190083  0.185767  0.225832     0.440946  0.468168   \n",
       "MU SC          0.180842  0.180809  0.180818  0.180832     0.496006  0.496959   \n",
       "\n",
       "                                \n",
       "projection sparse-jl      srft  \n",
       "algorithm                       \n",
       "HALS C      0.534766  0.561237  \n",
       "HALS SC     0.563164  0.570560  \n",
       "MU C        0.447436  0.484997  \n",
       "MU SC       0.492270  0.501356  "
      ]
     },
     "execution_count": 5,
     "metadata": {},
     "output_type": "execute_result"
    }
   ],
   "source": [
    "methods = {\n",
    "    \"MU C\": nmf_compress_mu,\n",
    "    'MU SC': nmf_structured_compress_mu,\n",
    "    'HALS C': nmf_compress_hals,\n",
    "    'HALS SC': nmf_structured_compress_hals\n",
    "}\n",
    "\n",
    "projection_types = [\n",
    "    'gaussian',\n",
    "    # 'srht',\n",
    "    # 'givens',\n",
    "    'srft',\n",
    "    'sparse-jl',\n",
    "    'count-sketch',\n",
    "]\n",
    "\n",
    "stats = benchmark_faces(X_faces,methods,projection_types,r=49,runs=10)\n",
    "stats"
   ]
  },
  {
   "cell_type": "code",
   "execution_count": 6,
   "id": "9f6aae81",
   "metadata": {},
   "outputs": [
    {
     "data": {
      "text/html": [
       "<div>\n",
       "<style scoped>\n",
       "    .dataframe tbody tr th:only-of-type {\n",
       "        vertical-align: middle;\n",
       "    }\n",
       "\n",
       "    .dataframe tbody tr th {\n",
       "        vertical-align: top;\n",
       "    }\n",
       "\n",
       "    .dataframe thead tr th {\n",
       "        text-align: left;\n",
       "    }\n",
       "\n",
       "    .dataframe thead tr:last-of-type th {\n",
       "        text-align: right;\n",
       "    }\n",
       "</style>\n",
       "<table border=\"1\" class=\"dataframe\">\n",
       "  <thead>\n",
       "    <tr>\n",
       "      <th></th>\n",
       "      <th colspan=\"4\" halign=\"left\">errors</th>\n",
       "      <th colspan=\"4\" halign=\"left\">time</th>\n",
       "    </tr>\n",
       "    <tr>\n",
       "      <th>projection</th>\n",
       "      <th>count-sketch</th>\n",
       "      <th>gaussian</th>\n",
       "      <th>sparse-jl</th>\n",
       "      <th>srft</th>\n",
       "      <th>count-sketch</th>\n",
       "      <th>gaussian</th>\n",
       "      <th>sparse-jl</th>\n",
       "      <th>srft</th>\n",
       "    </tr>\n",
       "    <tr>\n",
       "      <th>algorithm</th>\n",
       "      <th></th>\n",
       "      <th></th>\n",
       "      <th></th>\n",
       "      <th></th>\n",
       "      <th></th>\n",
       "      <th></th>\n",
       "      <th></th>\n",
       "      <th></th>\n",
       "    </tr>\n",
       "  </thead>\n",
       "  <tbody>\n",
       "    <tr>\n",
       "      <th>HALS C</th>\n",
       "      <td>0.1800</td>\n",
       "      <td>0.1738</td>\n",
       "      <td>0.1753</td>\n",
       "      <td>0.2037</td>\n",
       "      <td>0.5308</td>\n",
       "      <td>0.5438</td>\n",
       "      <td>0.5348</td>\n",
       "      <td>0.5612</td>\n",
       "    </tr>\n",
       "    <tr>\n",
       "      <th>HALS SC</th>\n",
       "      <td>0.1492</td>\n",
       "      <td>0.1492</td>\n",
       "      <td>0.1495</td>\n",
       "      <td>0.1492</td>\n",
       "      <td>0.5631</td>\n",
       "      <td>0.5913</td>\n",
       "      <td>0.5632</td>\n",
       "      <td>0.5706</td>\n",
       "    </tr>\n",
       "    <tr>\n",
       "      <th>MU C</th>\n",
       "      <td>0.1881</td>\n",
       "      <td>0.1901</td>\n",
       "      <td>0.1858</td>\n",
       "      <td>0.2258</td>\n",
       "      <td>0.4409</td>\n",
       "      <td>0.4682</td>\n",
       "      <td>0.4474</td>\n",
       "      <td>0.4850</td>\n",
       "    </tr>\n",
       "    <tr>\n",
       "      <th>MU SC</th>\n",
       "      <td>0.1808</td>\n",
       "      <td>0.1808</td>\n",
       "      <td>0.1808</td>\n",
       "      <td>0.1808</td>\n",
       "      <td>0.4960</td>\n",
       "      <td>0.4970</td>\n",
       "      <td>0.4923</td>\n",
       "      <td>0.5014</td>\n",
       "    </tr>\n",
       "  </tbody>\n",
       "</table>\n",
       "</div>"
      ],
      "text/plain": [
       "                 errors                                    time           \\\n",
       "projection count-sketch gaussian sparse-jl    srft count-sketch gaussian   \n",
       "algorithm                                                                  \n",
       "HALS C           0.1800   0.1738    0.1753  0.2037       0.5308   0.5438   \n",
       "HALS SC          0.1492   0.1492    0.1495  0.1492       0.5631   0.5913   \n",
       "MU C             0.1881   0.1901    0.1858  0.2258       0.4409   0.4682   \n",
       "MU SC            0.1808   0.1808    0.1808  0.1808       0.4960   0.4970   \n",
       "\n",
       "                              \n",
       "projection sparse-jl    srft  \n",
       "algorithm                     \n",
       "HALS C        0.5348  0.5612  \n",
       "HALS SC       0.5632  0.5706  \n",
       "MU C          0.4474  0.4850  \n",
       "MU SC         0.4923  0.5014  "
      ]
     },
     "execution_count": 6,
     "metadata": {},
     "output_type": "execute_result"
    }
   ],
   "source": [
    "stats.round(4)"
   ]
  },
  {
   "cell_type": "markdown",
   "id": "f3913311",
   "metadata": {},
   "source": [
    "**Baseline Algorithms**"
   ]
  },
  {
   "cell_type": "code",
   "execution_count": 7,
   "id": "7eaa4022",
   "metadata": {},
   "outputs": [
    {
     "name": "stdout",
     "output_type": "stream",
     "text": [
      "Completed MU\n",
      "Completed HALS\n"
     ]
    }
   ],
   "source": [
    "\n",
    "methods = {\n",
    "    'MU':nmf_mu,\n",
    "    'HALS':nmf_hals,\n",
    "}\n",
    "\n",
    "# Set r\n",
    "r = 49\n",
    "runs = 10\n",
    "rows = []\n",
    "for method_name, method in methods.items():\n",
    "        total_errors = []    \n",
    "        total_times = []   \n",
    "        for i in range(runs):\n",
    "            # Set seed per run\n",
    "            seed = i + 1\n",
    "            \n",
    "            # Time NMF Method\n",
    "            start_time = timeit.default_timer()\n",
    "            _, _, errors = method(X_faces, r, random_state=seed)\n",
    "            time = timeit.default_timer() - start_time\n",
    "\n",
    "            # Store\n",
    "            total_times.append(time)\n",
    "            total_errors.append(errors[-1])\n",
    "        \n",
    "        # Store average times\n",
    "        rows.append(\n",
    "            {   \n",
    "                'Method': method_name,\n",
    "                'time':np.mean(total_times),\n",
    "                'errors':np.mean(total_errors)\n",
    "            }\n",
    "        )\n",
    "        print(f\"Completed {method_name}\")"
   ]
  },
  {
   "cell_type": "code",
   "execution_count": 10,
   "id": "c5030419",
   "metadata": {},
   "outputs": [
    {
     "data": {
      "text/html": [
       "<div>\n",
       "<style scoped>\n",
       "    .dataframe tbody tr th:only-of-type {\n",
       "        vertical-align: middle;\n",
       "    }\n",
       "\n",
       "    .dataframe tbody tr th {\n",
       "        vertical-align: top;\n",
       "    }\n",
       "\n",
       "    .dataframe thead th {\n",
       "        text-align: right;\n",
       "    }\n",
       "</style>\n",
       "<table border=\"1\" class=\"dataframe\">\n",
       "  <thead>\n",
       "    <tr style=\"text-align: right;\">\n",
       "      <th></th>\n",
       "      <th>Method</th>\n",
       "      <th>time</th>\n",
       "      <th>errors</th>\n",
       "    </tr>\n",
       "  </thead>\n",
       "  <tbody>\n",
       "    <tr>\n",
       "      <th>0</th>\n",
       "      <td>MU</td>\n",
       "      <td>0.8930</td>\n",
       "      <td>0.1381</td>\n",
       "    </tr>\n",
       "    <tr>\n",
       "      <th>1</th>\n",
       "      <td>HALS</td>\n",
       "      <td>0.7709</td>\n",
       "      <td>0.1508</td>\n",
       "    </tr>\n",
       "  </tbody>\n",
       "</table>\n",
       "</div>"
      ],
      "text/plain": [
       "  Method    time  errors\n",
       "0     MU  0.8930  0.1381\n",
       "1   HALS  0.7709  0.1508"
      ]
     },
     "execution_count": 10,
     "metadata": {},
     "output_type": "execute_result"
    }
   ],
   "source": [
    "pd.DataFrame(rows).round(4)"
   ]
  },
  {
   "cell_type": "markdown",
   "id": "45427152",
   "metadata": {},
   "source": [
    "**Multiplicative Updates**"
   ]
  },
  {
   "cell_type": "code",
   "execution_count": 9,
   "id": "cce38e25",
   "metadata": {},
   "outputs": [],
   "source": [
    "# Standard MU Algorithm\n",
    "X_mu,Y_mu,errors_mu = nmf_mu(X_faces,49,max_iter=100)\n",
    "\n",
    "# Standard Compressed MU\n",
    "X_c_mu,Y_c_mu,errors_s_mu = nmf_compress_mu(X_faces,49,max_iter=100,projection_type='count-sketch')\n",
    "\n",
    "# Structured Compressed MU\n",
    "X_sc_mu,Y_sc_mu,errors_sc_mu = nmf_structured_compress_mu(X_faces,49,max_iter=100,projection_type='gaussian')\n",
    "\n",
    "# Errors \n",
    "mu_errors_df = pd.DataFrame({'MU':errors_mu,\n",
    "              'C MU':errors_s_mu,\n",
    "              'SC MU':errors_sc_mu})"
   ]
  },
  {
   "cell_type": "markdown",
   "id": "eebd7786",
   "metadata": {},
   "source": [
    "*Plot: Reconstruction Errors*"
   ]
  },
  {
   "cell_type": "code",
   "execution_count": null,
   "id": "1704df8c",
   "metadata": {},
   "outputs": [],
   "source": [
    "fig = go.Figure()\n",
    "\n",
    "for method in mu_errors_df.columns:\n",
    "    fig.add_trace(\n",
    "        go.Scatter(\n",
    "            y = mu_errors_df[method],\n",
    "            name = method\n",
    "        )\n",
    "    )\n",
    "\n",
    "fig.update_layout(\n",
    "    title = 'CBCL Reconstruction Error by MU Method (Best Projection)',\n",
    "    yaxis_title = 'Reconstruction Error',\n",
    "    xaxis_title = 'Iteration'\n",
    ")\n",
    "fig.show()"
   ]
  },
  {
   "cell_type": "markdown",
   "id": "a3ef45ea",
   "metadata": {},
   "source": [
    "*Plot: Visual Reconstruction Error by Method*"
   ]
  },
  {
   "cell_type": "code",
   "execution_count": null,
   "id": "3d9bd0ce",
   "metadata": {},
   "outputs": [],
   "source": [
    "n_images = 4\n",
    "\n",
    "fig = make_subplots(\n",
    "    rows=4, cols=4,\n",
    "    subplot_titles=([\"Original Images\"] + [' ']*3 + \n",
    "                   [\"MU\"] + [' ']*3 + \n",
    "                   [\"Comp. MU (Count-Sketch)\"] + [' ']*3 + \n",
    "                   [\"Struct. Comp. MU (Gaussian)\"] + [' ']*3),\n",
    "    vertical_spacing=0.05,\n",
    "    horizontal_spacing=0.02\n",
    ")\n",
    "\n",
    "matrix_pairs = [\n",
    "    (\"Original\", X_faces),\n",
    "    (\"MU\", X_mu @ Y_mu),\n",
    "    (\"Compressed MU\", X_c_mu @ Y_c_mu),\n",
    "    (\"Structured Compressed MU\", X_sc_mu @ Y_sc_mu)\n",
    "]\n",
    "\n",
    "for row, (name, Z) in enumerate(matrix_pairs, start=1):\n",
    "    for col in range(1, n_images + 1):\n",
    "        z = Z[col-1].reshape(64, 64)\n",
    "        fig.add_trace(\n",
    "            go.Heatmap(z=z, colorscale='gray', showscale=False),\n",
    "            row=row, col=col\n",
    "        )\n",
    "  \n",
    "fig.update_layout(\n",
    "    title=\"NMF MU Reconstruction\",\n",
    "    width=800,\n",
    "    height=600,\n",
    "    font=dict(size=8), \n",
    "    margin=dict(l=10, r=10, b=10, t=40, pad=0), \n",
    "    plot_bgcolor='white', \n",
    "    paper_bgcolor='white'\n",
    ")\n",
    "\n",
    "fig.update_annotations(font_size=10)\n",
    "fig.update_yaxes(autorange='reversed')\n",
    "fig.show()"
   ]
  },
  {
   "cell_type": "markdown",
   "id": "26521b0f",
   "metadata": {},
   "source": [
    "**Hierarchical Least Squares**"
   ]
  },
  {
   "cell_type": "code",
   "execution_count": null,
   "id": "9140f99a",
   "metadata": {},
   "outputs": [],
   "source": [
    "# Standard HALS Algorithm\n",
    "X_hals,Y_hals,errors_hals = nmf_hals(X_faces,49,max_iter=100)\n",
    "\n",
    "# Standard Compressed HALS\n",
    "X_c_hals,Y_c_hals,errors_s_hals = nmf_compress_hals(X_faces,49,max_iter=100,projection_type='gaussian')\n",
    "\n",
    "# Structured Compressed HALS\n",
    "X_sc_hals,Y_sc_hals,errors_sc_hals = nmf_structured_compress_hals(X_faces,49,max_iter=100,projection_type='count-sketch')\n",
    "\n",
    "# Errors dataframe\n",
    "hals_errors_df = pd.DataFrame({'HALS':errors_hals,\n",
    "              'C HALS':errors_s_hals,\n",
    "              'SC HALS':errors_sc_hals})"
   ]
  },
  {
   "cell_type": "markdown",
   "id": "bb908f28",
   "metadata": {},
   "source": [
    "*Plot: Reconstruction Errors*"
   ]
  },
  {
   "cell_type": "code",
   "execution_count": null,
   "id": "91551a58",
   "metadata": {},
   "outputs": [],
   "source": [
    "fig = go.Figure()\n",
    "\n",
    "for method in hals_errors_df.columns:\n",
    "    fig.add_trace(\n",
    "        go.Scatter(\n",
    "            y = hals_errors_df[method],\n",
    "            name = method\n",
    "        )\n",
    "    )\n",
    "\n",
    "fig.update_layout(\n",
    "    title = 'CBCL Reconstruction Error by HALS Method',\n",
    "    yaxis_title = 'Reconstruction Error',\n",
    "    xaxis_title = 'Iteration'\n",
    ")\n",
    "fig.show()"
   ]
  },
  {
   "cell_type": "markdown",
   "id": "4cc125b5",
   "metadata": {},
   "source": [
    "*Plot: Visual Reconstruction Error by Method*"
   ]
  },
  {
   "cell_type": "code",
   "execution_count": null,
   "id": "f826ec67",
   "metadata": {},
   "outputs": [],
   "source": [
    "n_images = 4\n",
    "\n",
    "fig = make_subplots(\n",
    "    rows=4, cols=4,\n",
    "    subplot_titles=([\"Original Images\"] + [' ']*3 + \n",
    "                   [\"HALS\"] + [' ']*3 + \n",
    "                   [\"Comp. HALS (Gaussian)\"] + [' ']*3 + \n",
    "                   [\"Struct. Comp. HALS (Count-Sketch)\"] + [' ']*3),\n",
    "    vertical_spacing=0.05,\n",
    "    horizontal_spacing=0.02\n",
    ")\n",
    "\n",
    "matrix_pairs = [\n",
    "    (\"Original\", X_faces),\n",
    "    (\"HALS\", X_hals @ Y_hals),\n",
    "    (\"Compressed HALS\", X_c_hals @ Y_c_hals),\n",
    "    (\"Structured Compressed HALS\", X_sc_hals @ Y_sc_hals)\n",
    "]\n",
    "\n",
    "for row, (name, Z) in enumerate(matrix_pairs, start=1):\n",
    "    for col in range(1, n_images + 1):\n",
    "        z = Z[col-1].reshape(64, 64)\n",
    "        fig.add_trace(\n",
    "            go.Heatmap(z=z, colorscale='gray', showscale=False),\n",
    "            row=row, col=col\n",
    "        )\n",
    "\n",
    "fig.update_layout(\n",
    "    title=\"NMF HALS Reconstruction\",\n",
    "    width=800,\n",
    "    height=600,\n",
    "    font=dict(size=8),  \n",
    "    margin=dict(l=10, r=10, b=10, t=40, pad=0), \n",
    "    plot_bgcolor='white',\n",
    "    paper_bgcolor='white'\n",
    ")\n",
    "\n",
    "fig.update_annotations(font_size=10)\n",
    "fig.update_yaxes(autorange='reversed')\n",
    "fig.show()"
   ]
  },
  {
   "cell_type": "markdown",
   "id": "38601fd4",
   "metadata": {},
   "source": [
    "---"
   ]
  }
 ],
 "metadata": {
  "kernelspec": {
   "display_name": ".venv",
   "language": "python",
   "name": "python3"
  },
  "language_info": {
   "codemirror_mode": {
    "name": "ipython",
    "version": 3
   },
   "file_extension": ".py",
   "mimetype": "text/x-python",
   "name": "python",
   "nbconvert_exporter": "python",
   "pygments_lexer": "ipython3",
   "version": "3.13.2"
  }
 },
 "nbformat": 4,
 "nbformat_minor": 5
}
