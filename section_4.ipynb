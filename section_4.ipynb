{
 "cells": [
  {
   "cell_type": "markdown",
   "id": "7264617c",
   "metadata": {},
   "source": [
    "**Section 4: Synthetic Matrix Performance**"
   ]
  },
  {
   "cell_type": "markdown",
   "id": "e5c22044",
   "metadata": {},
   "source": [
    "*Imports*"
   ]
  },
  {
   "cell_type": "code",
   "execution_count": 1,
   "id": "523d2044",
   "metadata": {},
   "outputs": [],
   "source": [
    "import numpy as np\n",
    "import pandas as pd\n",
    "import plotly.graph_objects as go\n",
    "from plotly.subplots import make_subplots\n",
    "\n",
    "import timeit\n",
    "import math\n",
    "\n",
    "from archive.randomized_projected_nmf import *\n",
    "from random_matrix import *\n",
    "from nmf import * \n",
    "from benchmark import *\n",
    "from collections import defaultdict"
   ]
  },
  {
   "cell_type": "markdown",
   "id": "866300c8",
   "metadata": {},
   "source": [
    "*Benchmark*"
   ]
  },
  {
   "cell_type": "code",
   "execution_count": 2,
   "id": "b344bd11",
   "metadata": {},
   "outputs": [
    {
     "name": "stdout",
     "output_type": "stream",
     "text": [
      "Completed benchmarking for matrix size: 1000\n",
      "Completed benchmarking for matrix size: 2000\n",
      "Completed benchmarking for matrix size: 3000\n",
      "Completed benchmarking for matrix size: 4000\n",
      "Completed benchmarking for matrix size: 5000\n"
     ]
    }
   ],
   "source": [
    "methods = {\n",
    "    \"MU C\": nmf_compress_mu,\n",
    "    'MU SC': nmf_structured_compress_mu,\n",
    "    'HALS C': nmf_compress_hals,\n",
    "    'HALS SC': nmf_structured_compress_hals\n",
    "}\n",
    "methods_baseline = {\n",
    "    \"MU\": nmf_mu,\n",
    "    'HALS': nmf_hals,\n",
    "}\n",
    "\n",
    "\n",
    "projection_types = [\n",
    "    'gaussian',\n",
    "    'srht',\n",
    "    'srft',\n",
    "    'sparse-jl',\n",
    "    'count-sketch',\n",
    "]\n",
    "\n",
    "rows = []\n",
    "\n",
    "# Parameters\n",
    "sizes = np.arange(1_000, 5_001, 1_000)\n",
    "runs = 10\n",
    "r = 20\n",
    "for n in sizes:\n",
    "    # Generate A (n x 0.75n)\n",
    "    np.random.seed(1)\n",
    "    m = int(0.75*n)\n",
    "    for density, label in [(0.01,'sparse'),(1.0,'dense')]:\n",
    "        A, _, _= generate_synthetic_matrix(n=m,m=n,r=r,delta = density)\n",
    "\n",
    "        # Compressed Methods\n",
    "        for method_name, method in methods.items():\n",
    "            for projection in projection_types:\n",
    "                total_times = [] \n",
    "                total_errors = []       \n",
    "                for i in range(runs):\n",
    "                    # Set seed per run\n",
    "                    seed = i + 1\n",
    "                    \n",
    "                    # Time NMF Method\n",
    "                    start_time = timeit.default_timer()\n",
    "                    _, _, errors = method(A, r, random_state=seed,projection_type = projection)\n",
    "                    time = timeit.default_timer() - start_time\n",
    "\n",
    "                    # Store\n",
    "                    total_times.append(time)\n",
    "                    total_errors.append(errors[-1])\n",
    "                \n",
    "                rows.append(\n",
    "                    {\n",
    "                        'Method':method_name,\n",
    "                        'Projection Type':projection,\n",
    "                        'Size':n,\n",
    "                        'Density':label,\n",
    "                        'Time': np.mean(total_times),\n",
    "                        'Errors': np.mean(total_errors)\n",
    "                    }\n",
    "                )\n",
    "        # Regular Methods\n",
    "        for method_name,method in methods_baseline.items():\n",
    "            total_times = [] \n",
    "            total_errors = []       \n",
    "            for i in range(runs):\n",
    "                # Set seed per run\n",
    "                seed = i + 1\n",
    "                \n",
    "                # Time NMF Method\n",
    "                start_time = timeit.default_timer()\n",
    "                _, _, errors = method(A, r)\n",
    "                time = timeit.default_timer() - start_time\n",
    "\n",
    "                # Store\n",
    "                total_times.append(time)\n",
    "                total_errors.append(errors[-1])\n",
    "            \n",
    "            rows.append(\n",
    "                {\n",
    "                    'Method':method_name,\n",
    "                    'Projection Type':'',\n",
    "                    'Size':n,\n",
    "                    'Density':label,\n",
    "                    'Time': np.mean(total_times),\n",
    "                    'Errors': np.mean(total_errors)\n",
    "                }\n",
    "            )\n",
    "\n",
    "\n",
    "    print(f'Completed benchmarking for matrix size: {n}')"
   ]
  },
  {
   "cell_type": "code",
   "execution_count": 7,
   "id": "08ede9a2",
   "metadata": {},
   "outputs": [],
   "source": [
    "stats = pd.DataFrame(rows)"
   ]
  },
  {
   "cell_type": "code",
   "execution_count": 8,
   "id": "0cbcd1bf",
   "metadata": {},
   "outputs": [
    {
     "data": {
      "text/plain": [
       "array(['MU C', 'MU SC', 'HALS C', 'HALS SC', 'MU', 'HALS'], dtype=object)"
      ]
     },
     "execution_count": 8,
     "metadata": {},
     "output_type": "execute_result"
    }
   ],
   "source": [
    "stats['Method'].unique()"
   ]
  },
  {
   "cell_type": "code",
   "execution_count": 9,
   "id": "dff683be",
   "metadata": {},
   "outputs": [
    {
     "data": {
      "text/html": [
       "<div>\n",
       "<style scoped>\n",
       "    .dataframe tbody tr th:only-of-type {\n",
       "        vertical-align: middle;\n",
       "    }\n",
       "\n",
       "    .dataframe tbody tr th {\n",
       "        vertical-align: top;\n",
       "    }\n",
       "\n",
       "    .dataframe thead th {\n",
       "        text-align: right;\n",
       "    }\n",
       "</style>\n",
       "<table border=\"1\" class=\"dataframe\">\n",
       "  <thead>\n",
       "    <tr style=\"text-align: right;\">\n",
       "      <th></th>\n",
       "      <th>Method</th>\n",
       "      <th>Projection Type</th>\n",
       "      <th>Size</th>\n",
       "      <th>Density</th>\n",
       "      <th>Time</th>\n",
       "      <th>Errors</th>\n",
       "    </tr>\n",
       "  </thead>\n",
       "  <tbody>\n",
       "    <tr>\n",
       "      <th>0</th>\n",
       "      <td>MU C</td>\n",
       "      <td>gaussian</td>\n",
       "      <td>1000</td>\n",
       "      <td>sparse</td>\n",
       "      <td>0.194602</td>\n",
       "      <td>0.709056</td>\n",
       "    </tr>\n",
       "    <tr>\n",
       "      <th>1</th>\n",
       "      <td>MU C</td>\n",
       "      <td>srht</td>\n",
       "      <td>1000</td>\n",
       "      <td>sparse</td>\n",
       "      <td>0.194047</td>\n",
       "      <td>0.633738</td>\n",
       "    </tr>\n",
       "    <tr>\n",
       "      <th>2</th>\n",
       "      <td>MU C</td>\n",
       "      <td>srft</td>\n",
       "      <td>1000</td>\n",
       "      <td>sparse</td>\n",
       "      <td>0.197744</td>\n",
       "      <td>0.733104</td>\n",
       "    </tr>\n",
       "    <tr>\n",
       "      <th>3</th>\n",
       "      <td>MU C</td>\n",
       "      <td>sparse-jl</td>\n",
       "      <td>1000</td>\n",
       "      <td>sparse</td>\n",
       "      <td>0.191821</td>\n",
       "      <td>0.775202</td>\n",
       "    </tr>\n",
       "    <tr>\n",
       "      <th>4</th>\n",
       "      <td>MU C</td>\n",
       "      <td>count-sketch</td>\n",
       "      <td>1000</td>\n",
       "      <td>sparse</td>\n",
       "      <td>0.190195</td>\n",
       "      <td>0.716401</td>\n",
       "    </tr>\n",
       "    <tr>\n",
       "      <th>...</th>\n",
       "      <td>...</td>\n",
       "      <td>...</td>\n",
       "      <td>...</td>\n",
       "      <td>...</td>\n",
       "      <td>...</td>\n",
       "      <td>...</td>\n",
       "    </tr>\n",
       "    <tr>\n",
       "      <th>215</th>\n",
       "      <td>HALS SC</td>\n",
       "      <td>srft</td>\n",
       "      <td>5000</td>\n",
       "      <td>dense</td>\n",
       "      <td>5.838787</td>\n",
       "      <td>0.200685</td>\n",
       "    </tr>\n",
       "    <tr>\n",
       "      <th>216</th>\n",
       "      <td>HALS SC</td>\n",
       "      <td>sparse-jl</td>\n",
       "      <td>5000</td>\n",
       "      <td>dense</td>\n",
       "      <td>5.872993</td>\n",
       "      <td>0.200471</td>\n",
       "    </tr>\n",
       "    <tr>\n",
       "      <th>217</th>\n",
       "      <td>HALS SC</td>\n",
       "      <td>count-sketch</td>\n",
       "      <td>5000</td>\n",
       "      <td>dense</td>\n",
       "      <td>5.878602</td>\n",
       "      <td>0.200588</td>\n",
       "    </tr>\n",
       "    <tr>\n",
       "      <th>218</th>\n",
       "      <td>MU</td>\n",
       "      <td></td>\n",
       "      <td>5000</td>\n",
       "      <td>dense</td>\n",
       "      <td>10.358453</td>\n",
       "      <td>0.205798</td>\n",
       "    </tr>\n",
       "    <tr>\n",
       "      <th>219</th>\n",
       "      <td>HALS</td>\n",
       "      <td></td>\n",
       "      <td>5000</td>\n",
       "      <td>dense</td>\n",
       "      <td>7.199479</td>\n",
       "      <td>0.193748</td>\n",
       "    </tr>\n",
       "  </tbody>\n",
       "</table>\n",
       "<p>220 rows × 6 columns</p>\n",
       "</div>"
      ],
      "text/plain": [
       "      Method Projection Type  Size Density       Time    Errors\n",
       "0       MU C        gaussian  1000  sparse   0.194602  0.709056\n",
       "1       MU C            srht  1000  sparse   0.194047  0.633738\n",
       "2       MU C            srft  1000  sparse   0.197744  0.733104\n",
       "3       MU C       sparse-jl  1000  sparse   0.191821  0.775202\n",
       "4       MU C    count-sketch  1000  sparse   0.190195  0.716401\n",
       "..       ...             ...   ...     ...        ...       ...\n",
       "215  HALS SC            srft  5000   dense   5.838787  0.200685\n",
       "216  HALS SC       sparse-jl  5000   dense   5.872993  0.200471\n",
       "217  HALS SC    count-sketch  5000   dense   5.878602  0.200588\n",
       "218       MU                  5000   dense  10.358453  0.205798\n",
       "219     HALS                  5000   dense   7.199479  0.193748\n",
       "\n",
       "[220 rows x 6 columns]"
      ]
     },
     "execution_count": 9,
     "metadata": {},
     "output_type": "execute_result"
    }
   ],
   "source": [
    "stats"
   ]
  },
  {
   "cell_type": "markdown",
   "id": "497f5cc6",
   "metadata": {},
   "source": [
    "*Plot: Computation Time by Method/Projection*"
   ]
  },
  {
   "cell_type": "markdown",
   "id": "3afb0f51",
   "metadata": {},
   "source": [
    "*i) dense*"
   ]
  },
  {
   "cell_type": "code",
   "execution_count": 17,
   "id": "e63b5a84",
   "metadata": {},
   "outputs": [
    {
     "data": {
      "text/plain": [
       "array(['gaussian', 'srht', 'srft', 'sparse-jl', 'count-sketch', ''],\n",
       "      dtype=object)"
      ]
     },
     "execution_count": 17,
     "metadata": {},
     "output_type": "execute_result"
    }
   ],
   "source": [
    "stats['Projection Type'].unique()"
   ]
  },
  {
   "cell_type": "code",
   "execution_count": 18,
   "id": "d6fec674",
   "metadata": {},
   "outputs": [],
   "source": [
    "names = {\n",
    "    'gaussian':'Gaussian',\n",
    "    'srht':'SRHT',\n",
    "    'srft':'SRFT',\n",
    "    'sparse-jl':'Sparse JL',\n",
    "    'count-sketch':'CountSketch'\n",
    "}"
   ]
  },
  {
   "cell_type": "code",
   "execution_count": 38,
   "id": "2d18dd75",
   "metadata": {},
   "outputs": [
    {
     "data": {
      "application/vnd.plotly.v1+json": {
       "config": {
        "plotlyServerURL": "https://plot.ly"
       },
       "data": [
        {
         "legendgroup": "gaussian",
         "line": {
          "color": "#636EFA"
         },
         "name": "Gaussian",
         "showlegend": true,
         "type": "scatter",
         "x": {
          "bdata": "6APQB7gLoA+IEw==",
          "dtype": "i2"
         },
         "xaxis": "x",
         "y": {
          "bdata": "mpkZUcskyD9mZsbySibqPzMzaw0AAABAmpnBjBCzDEDNzFhBeFEXQA==",
          "dtype": "f8"
         },
         "yaxis": "y"
        },
        {
         "legendgroup": "srht",
         "line": {
          "color": "#EF553B"
         },
         "name": "SRHT",
         "showlegend": true,
         "type": "scatter",
         "x": {
          "bdata": "6APQB7gLoA+IEw==",
          "dtype": "i2"
         },
         "xaxis": "x",
         "y": {
          "bdata": "mpmZz2sFyD/NzKxSlC3qPzMzEzht8f8/AADIk6SzDEAAAFTSP1QXQA==",
          "dtype": "f8"
         },
         "yaxis": "y"
        },
        {
         "legendgroup": "srft",
         "line": {
          "color": "#00CC96"
         },
         "name": "SRFT",
         "showlegend": true,
         "type": "scatter",
         "x": {
          "bdata": "6APQB7gLoA+IEw==",
          "dtype": "i2"
         },
         "xaxis": "x",
         "y": {
          "bdata": "zcxMUErvyD9mZsa6Xr7qP83MjCLmIgBAMzMLw0ckDUCamZEEhnUXQA==",
          "dtype": "f8"
         },
         "yaxis": "y"
        },
        {
         "legendgroup": "sparse-jl",
         "line": {
          "color": "#AB63FA"
         },
         "name": "Sparse JL",
         "showlegend": true,
         "type": "scatter",
         "x": {
          "bdata": "6APQB7gLoA+IEw==",
          "dtype": "i2"
         },
         "xaxis": "x",
         "y": {
          "bdata": "ZmbmbwaDyD8zM3M6HtPqPwAAEOHKNwBAmpkJmvkaDUBmZjrmn6EXQA==",
          "dtype": "f8"
         },
         "yaxis": "y"
        },
        {
         "legendgroup": "count-sketch",
         "line": {
          "color": "#FFA15A"
         },
         "name": "CountSketch",
         "showlegend": true,
         "type": "scatter",
         "x": {
          "bdata": "6APQB7gLoA+IEw==",
          "dtype": "i2"
         },
         "xaxis": "x",
         "y": {
          "bdata": "zcxMe/SGyD8zMxNvZJ7qPzMzi/P1JABAzczsII4RDUCambmWHIEXQA==",
          "dtype": "f8"
         },
         "yaxis": "y"
        },
        {
         "legendgroup": "gaussian",
         "line": {
          "color": "#636EFA"
         },
         "name": "Gaussian",
         "showlegend": false,
         "type": "scatter",
         "x": {
          "bdata": "6APQB7gLoA+IEw==",
          "dtype": "i2"
         },
         "xaxis": "x2",
         "y": {
          "bdata": "zcxM2voOyT8zM3OUzPzqP83MTM3UUgBAZmYGbeZuDUAAAHDubZYXQA==",
          "dtype": "f8"
         },
         "yaxis": "y2"
        },
        {
         "legendgroup": "srht",
         "line": {
          "color": "#EF553B"
         },
         "name": "SRHT",
         "showlegend": false,
         "type": "scatter",
         "x": {
          "bdata": "6APQB7gLoA+IEw==",
          "dtype": "i2"
         },
         "xaxis": "x2",
         "y": {
          "bdata": "ZmbmvPAYyj8zM7PdLT7sP2ZmxuhWqwFAZmbW31zNDkAAAMD7NloZQA==",
          "dtype": "f8"
         },
         "yaxis": "y2"
        },
        {
         "legendgroup": "srft",
         "line": {
          "color": "#00CC96"
         },
         "name": "SRFT",
         "showlegend": false,
         "type": "scatter",
         "x": {
          "bdata": "6APQB7gLoA+IEw==",
          "dtype": "i2"
         },
         "xaxis": "x2",
         "y": {
          "bdata": "MzMzJtMyyT8zM/Mw3O/qP5qZScn+WwBAmpmhZ6thDUCamYX2A7EXQA==",
          "dtype": "f8"
         },
         "yaxis": "y2"
        },
        {
         "legendgroup": "sparse-jl",
         "line": {
          "color": "#AB63FA"
         },
         "name": "Sparse JL",
         "showlegend": false,
         "type": "scatter",
         "x": {
          "bdata": "6APQB7gLoA+IEw==",
          "dtype": "i2"
         },
         "xaxis": "x2",
         "y": {
          "bdata": "mpkZshoiyT9mZoYz4hzrPzMzy7/xWABAmpkJMTuJDUAzM0+11M0XQA==",
          "dtype": "f8"
         },
         "yaxis": "y2"
        },
        {
         "legendgroup": "count-sketch",
         "line": {
          "color": "#FFA15A"
         },
         "name": "CountSketch",
         "showlegend": false,
         "type": "scatter",
         "x": {
          "bdata": "6APQB7gLoA+IEw==",
          "dtype": "i2"
         },
         "xaxis": "x2",
         "y": {
          "bdata": "mpkZHRhlyT+amXlfKxrrP83MxCffXABAzcx0ADiMDUAAAHhs/MwXQA==",
          "dtype": "f8"
         },
         "yaxis": "y2"
        },
        {
         "legendgroup": "gaussian",
         "line": {
          "color": "#636EFA"
         },
         "name": "Gaussian",
         "showlegend": false,
         "type": "scatter",
         "x": {
          "bdata": "6APQB7gLoA+IEw==",
          "dtype": "i2"
         },
         "xaxis": "x3",
         "y": {
          "bdata": "ZmZmKfkByj8AAEDXcl/qP2ZmliO/6f8/AAAQJBnWDEAzM5+ymjYXQA==",
          "dtype": "f8"
         },
         "yaxis": "y3"
        },
        {
         "legendgroup": "srht",
         "line": {
          "color": "#EF553B"
         },
         "name": "SRHT",
         "showlegend": false,
         "type": "scatter",
         "x": {
          "bdata": "6APQB7gLoA+IEw==",
          "dtype": "i2"
         },
         "xaxis": "x3",
         "y": {
          "bdata": "ZmbmXOrWyT8zMxMyaDLqP83MfDG05/8/ZmZmoPjaDEAzM1dY7BoXQA==",
          "dtype": "f8"
         },
         "yaxis": "y3"
        },
        {
         "legendgroup": "srft",
         "line": {
          "color": "#00CC96"
         },
         "name": "SRFT",
         "showlegend": false,
         "type": "scatter",
         "x": {
          "bdata": "6APQB7gLoA+IEw==",
          "dtype": "i2"
         },
         "xaxis": "x3",
         "y": {
          "bdata": "ZmZm77TKyj+amZl4c53qPwAAQBOjFwBAzczcaXQHDUAAAFhbHUUXQA==",
          "dtype": "f8"
         },
         "yaxis": "y3"
        },
        {
         "legendgroup": "sparse-jl",
         "line": {
          "color": "#AB63FA"
         },
         "name": "Sparse JL",
         "showlegend": false,
         "type": "scatter",
         "x": {
          "bdata": "6APQB7gLoA+IEw==",
          "dtype": "i2"
         },
         "xaxis": "x3",
         "y": {
          "bdata": "ZmbmTMQVyj/NzCzNrAbrP83MZGfIKABAmplZDVchDUDNzKBumH8XQA==",
          "dtype": "f8"
         },
         "yaxis": "y3"
        },
        {
         "legendgroup": "count-sketch",
         "line": {
          "color": "#FFA15A"
         },
         "name": "CountSketch",
         "showlegend": false,
         "type": "scatter",
         "x": {
          "bdata": "6APQB7gLoA+IEw==",
          "dtype": "i2"
         },
         "xaxis": "x3",
         "y": {
          "bdata": "zczMreYtyj8AAICwg5LqPwAA8Lf75P8/Zma2ZiPuDEBmZhogqEkXQA==",
          "dtype": "f8"
         },
         "yaxis": "y3"
        },
        {
         "legendgroup": "gaussian",
         "line": {
          "color": "#636EFA"
         },
         "name": "Gaussian",
         "showlegend": false,
         "type": "scatter",
         "x": {
          "bdata": "6APQB7gLoA+IEw==",
          "dtype": "i2"
         },
         "xaxis": "x4",
         "y": {
          "bdata": "zczMI/K8yj9mZmbcH/jqP5qZgUZ+FwBAMzP7XZ4nDUAAABABRWQXQA==",
          "dtype": "f8"
         },
         "yaxis": "y4"
        },
        {
         "legendgroup": "srht",
         "line": {
          "color": "#EF553B"
         },
         "name": "SRHT",
         "showlegend": false,
         "type": "scatter",
         "x": {
          "bdata": "6APQB7gLoA+IEw==",
          "dtype": "i2"
         },
         "xaxis": "x4",
         "y": {
          "bdata": "zcxM3m3Byz9mZoZtIkvsP5qZof7MWwFAmpnZ2Lp+DkBmZqJXqAoZQA==",
          "dtype": "f8"
         },
         "yaxis": "y4"
        },
        {
         "legendgroup": "srft",
         "line": {
          "color": "#00CC96"
         },
         "name": "SRFT",
         "showlegend": false,
         "type": "scatter",
         "x": {
          "bdata": "6APQB7gLoA+IEw==",
          "dtype": "i2"
         },
         "xaxis": "x4",
         "y": {
          "bdata": "Zmbmtaqdyj/NzExeMijrP83MPJfK9/8/AAAotFotDUCamaHu6loXQA==",
          "dtype": "f8"
         },
         "yaxis": "y4"
        },
        {
         "legendgroup": "sparse-jl",
         "line": {
          "color": "#AB63FA"
         },
         "name": "Sparse JL",
         "showlegend": false,
         "type": "scatter",
         "x": {
          "bdata": "6APQB7gLoA+IEw==",
          "dtype": "i2"
         },
         "xaxis": "x4",
         "y": {
          "bdata": "mpmZtQL5yj+amZm2aPzqP2ZmRjSqCQBAmplhJKRbDUDNzJDo8X0XQA==",
          "dtype": "f8"
         },
         "yaxis": "y4"
        },
        {
         "legendgroup": "count-sketch",
         "line": {
          "color": "#FFA15A"
         },
         "name": "CountSketch",
         "showlegend": false,
         "type": "scatter",
         "x": {
          "bdata": "6APQB7gLoA+IEw==",
          "dtype": "i2"
         },
         "xaxis": "x4",
         "y": {
          "bdata": "ZmZmEFHxyj9mZgaCQCHrP5qZUdCBEABAAABIWLcODUDNzHQ9sIMXQA==",
          "dtype": "f8"
         },
         "yaxis": "y4"
        },
        {
         "legendgroup": "MU",
         "line": {
          "color": "black",
          "dash": "dash"
         },
         "name": "MU",
         "showlegend": true,
         "type": "scatter",
         "x": {
          "bdata": "6APQB7gLoA+IEw==",
          "dtype": "i2"
         },
         "xaxis": "x",
         "y": {
          "bdata": "AADAmHHJ0T8zM7OMcVH0PwAA0IEOQApAmpmJ+iyAGEAAAHomh7ckQA==",
          "dtype": "f8"
         },
         "yaxis": "y"
        },
        {
         "legendgroup": "MU",
         "line": {
          "color": "black",
          "dash": "dash"
         },
         "name": "MU",
         "showlegend": false,
         "type": "scatter",
         "x": {
          "bdata": "6APQB7gLoA+IEw==",
          "dtype": "i2"
         },
         "xaxis": "x2",
         "y": {
          "bdata": "AADAmHHJ0T8zM7OMcVH0PwAA0IEOQApAmpmJ+iyAGEAAAHomh7ckQA==",
          "dtype": "f8"
         },
         "yaxis": "y2"
        },
        {
         "legendgroup": "HALS",
         "line": {
          "color": "grey",
          "dash": "dash"
         },
         "name": "HALS",
         "showlegend": true,
         "type": "scatter",
         "x": {
          "bdata": "6APQB7gLoA+IEw==",
          "dtype": "i2"
         },
         "xaxis": "x3",
         "y": {
          "bdata": "Zmbmpc+zzT+amTls+GnvPzMz44ZCIANAzcwQ5pfdEUAAAFwwRMwcQA==",
          "dtype": "f8"
         },
         "yaxis": "y3"
        },
        {
         "legendgroup": "HALS",
         "line": {
          "color": "grey",
          "dash": "dash"
         },
         "name": "HALS",
         "showlegend": false,
         "type": "scatter",
         "x": {
          "bdata": "6APQB7gLoA+IEw==",
          "dtype": "i2"
         },
         "xaxis": "x4",
         "y": {
          "bdata": "Zmbmpc+zzT+amTls+GnvPzMz44ZCIANAzcwQ5pfdEUAAAFwwRMwcQA==",
          "dtype": "f8"
         },
         "yaxis": "y4"
        }
       ],
       "layout": {
        "annotations": [
         {
          "font": {
           "size": 16
          },
          "showarrow": false,
          "text": "MU C",
          "x": 0.10625,
          "xanchor": "center",
          "xref": "paper",
          "y": 1,
          "yanchor": "bottom",
          "yref": "paper"
         },
         {
          "font": {
           "size": 16
          },
          "showarrow": false,
          "text": "MU SC",
          "x": 0.36875,
          "xanchor": "center",
          "xref": "paper",
          "y": 1,
          "yanchor": "bottom",
          "yref": "paper"
         },
         {
          "font": {
           "size": 16
          },
          "showarrow": false,
          "text": "HALS C",
          "x": 0.6312500000000001,
          "xanchor": "center",
          "xref": "paper",
          "y": 1,
          "yanchor": "bottom",
          "yref": "paper"
         },
         {
          "font": {
           "size": 16
          },
          "showarrow": false,
          "text": "HALS SC",
          "x": 0.89375,
          "xanchor": "center",
          "xref": "paper",
          "y": 1,
          "yanchor": "bottom",
          "yref": "paper"
         }
        ],
        "font": {
         "color": "black",
         "size": 10
        },
        "height": 400,
        "legend": {
         "orientation": "h",
         "x": 0.5,
         "xanchor": "center",
         "y": -0.2,
         "yanchor": "top"
        },
        "margin": {
         "b": 40,
         "l": 20,
         "r": 20,
         "t": 40
        },
        "template": {
         "data": {
          "bar": [
           {
            "error_x": {
             "color": "#2a3f5f"
            },
            "error_y": {
             "color": "#2a3f5f"
            },
            "marker": {
             "line": {
              "color": "white",
              "width": 0.5
             },
             "pattern": {
              "fillmode": "overlay",
              "size": 10,
              "solidity": 0.2
             }
            },
            "type": "bar"
           }
          ],
          "barpolar": [
           {
            "marker": {
             "line": {
              "color": "white",
              "width": 0.5
             },
             "pattern": {
              "fillmode": "overlay",
              "size": 10,
              "solidity": 0.2
             }
            },
            "type": "barpolar"
           }
          ],
          "carpet": [
           {
            "aaxis": {
             "endlinecolor": "#2a3f5f",
             "gridcolor": "#C8D4E3",
             "linecolor": "#C8D4E3",
             "minorgridcolor": "#C8D4E3",
             "startlinecolor": "#2a3f5f"
            },
            "baxis": {
             "endlinecolor": "#2a3f5f",
             "gridcolor": "#C8D4E3",
             "linecolor": "#C8D4E3",
             "minorgridcolor": "#C8D4E3",
             "startlinecolor": "#2a3f5f"
            },
            "type": "carpet"
           }
          ],
          "choropleth": [
           {
            "colorbar": {
             "outlinewidth": 0,
             "ticks": ""
            },
            "type": "choropleth"
           }
          ],
          "contour": [
           {
            "colorbar": {
             "outlinewidth": 0,
             "ticks": ""
            },
            "colorscale": [
             [
              0,
              "#0d0887"
             ],
             [
              0.1111111111111111,
              "#46039f"
             ],
             [
              0.2222222222222222,
              "#7201a8"
             ],
             [
              0.3333333333333333,
              "#9c179e"
             ],
             [
              0.4444444444444444,
              "#bd3786"
             ],
             [
              0.5555555555555556,
              "#d8576b"
             ],
             [
              0.6666666666666666,
              "#ed7953"
             ],
             [
              0.7777777777777778,
              "#fb9f3a"
             ],
             [
              0.8888888888888888,
              "#fdca26"
             ],
             [
              1,
              "#f0f921"
             ]
            ],
            "type": "contour"
           }
          ],
          "contourcarpet": [
           {
            "colorbar": {
             "outlinewidth": 0,
             "ticks": ""
            },
            "type": "contourcarpet"
           }
          ],
          "heatmap": [
           {
            "colorbar": {
             "outlinewidth": 0,
             "ticks": ""
            },
            "colorscale": [
             [
              0,
              "#0d0887"
             ],
             [
              0.1111111111111111,
              "#46039f"
             ],
             [
              0.2222222222222222,
              "#7201a8"
             ],
             [
              0.3333333333333333,
              "#9c179e"
             ],
             [
              0.4444444444444444,
              "#bd3786"
             ],
             [
              0.5555555555555556,
              "#d8576b"
             ],
             [
              0.6666666666666666,
              "#ed7953"
             ],
             [
              0.7777777777777778,
              "#fb9f3a"
             ],
             [
              0.8888888888888888,
              "#fdca26"
             ],
             [
              1,
              "#f0f921"
             ]
            ],
            "type": "heatmap"
           }
          ],
          "histogram": [
           {
            "marker": {
             "pattern": {
              "fillmode": "overlay",
              "size": 10,
              "solidity": 0.2
             }
            },
            "type": "histogram"
           }
          ],
          "histogram2d": [
           {
            "colorbar": {
             "outlinewidth": 0,
             "ticks": ""
            },
            "colorscale": [
             [
              0,
              "#0d0887"
             ],
             [
              0.1111111111111111,
              "#46039f"
             ],
             [
              0.2222222222222222,
              "#7201a8"
             ],
             [
              0.3333333333333333,
              "#9c179e"
             ],
             [
              0.4444444444444444,
              "#bd3786"
             ],
             [
              0.5555555555555556,
              "#d8576b"
             ],
             [
              0.6666666666666666,
              "#ed7953"
             ],
             [
              0.7777777777777778,
              "#fb9f3a"
             ],
             [
              0.8888888888888888,
              "#fdca26"
             ],
             [
              1,
              "#f0f921"
             ]
            ],
            "type": "histogram2d"
           }
          ],
          "histogram2dcontour": [
           {
            "colorbar": {
             "outlinewidth": 0,
             "ticks": ""
            },
            "colorscale": [
             [
              0,
              "#0d0887"
             ],
             [
              0.1111111111111111,
              "#46039f"
             ],
             [
              0.2222222222222222,
              "#7201a8"
             ],
             [
              0.3333333333333333,
              "#9c179e"
             ],
             [
              0.4444444444444444,
              "#bd3786"
             ],
             [
              0.5555555555555556,
              "#d8576b"
             ],
             [
              0.6666666666666666,
              "#ed7953"
             ],
             [
              0.7777777777777778,
              "#fb9f3a"
             ],
             [
              0.8888888888888888,
              "#fdca26"
             ],
             [
              1,
              "#f0f921"
             ]
            ],
            "type": "histogram2dcontour"
           }
          ],
          "mesh3d": [
           {
            "colorbar": {
             "outlinewidth": 0,
             "ticks": ""
            },
            "type": "mesh3d"
           }
          ],
          "parcoords": [
           {
            "line": {
             "colorbar": {
              "outlinewidth": 0,
              "ticks": ""
             }
            },
            "type": "parcoords"
           }
          ],
          "pie": [
           {
            "automargin": true,
            "type": "pie"
           }
          ],
          "scatter": [
           {
            "fillpattern": {
             "fillmode": "overlay",
             "size": 10,
             "solidity": 0.2
            },
            "type": "scatter"
           }
          ],
          "scatter3d": [
           {
            "line": {
             "colorbar": {
              "outlinewidth": 0,
              "ticks": ""
             }
            },
            "marker": {
             "colorbar": {
              "outlinewidth": 0,
              "ticks": ""
             }
            },
            "type": "scatter3d"
           }
          ],
          "scattercarpet": [
           {
            "marker": {
             "colorbar": {
              "outlinewidth": 0,
              "ticks": ""
             }
            },
            "type": "scattercarpet"
           }
          ],
          "scattergeo": [
           {
            "marker": {
             "colorbar": {
              "outlinewidth": 0,
              "ticks": ""
             }
            },
            "type": "scattergeo"
           }
          ],
          "scattergl": [
           {
            "marker": {
             "colorbar": {
              "outlinewidth": 0,
              "ticks": ""
             }
            },
            "type": "scattergl"
           }
          ],
          "scattermap": [
           {
            "marker": {
             "colorbar": {
              "outlinewidth": 0,
              "ticks": ""
             }
            },
            "type": "scattermap"
           }
          ],
          "scattermapbox": [
           {
            "marker": {
             "colorbar": {
              "outlinewidth": 0,
              "ticks": ""
             }
            },
            "type": "scattermapbox"
           }
          ],
          "scatterpolar": [
           {
            "marker": {
             "colorbar": {
              "outlinewidth": 0,
              "ticks": ""
             }
            },
            "type": "scatterpolar"
           }
          ],
          "scatterpolargl": [
           {
            "marker": {
             "colorbar": {
              "outlinewidth": 0,
              "ticks": ""
             }
            },
            "type": "scatterpolargl"
           }
          ],
          "scatterternary": [
           {
            "marker": {
             "colorbar": {
              "outlinewidth": 0,
              "ticks": ""
             }
            },
            "type": "scatterternary"
           }
          ],
          "surface": [
           {
            "colorbar": {
             "outlinewidth": 0,
             "ticks": ""
            },
            "colorscale": [
             [
              0,
              "#0d0887"
             ],
             [
              0.1111111111111111,
              "#46039f"
             ],
             [
              0.2222222222222222,
              "#7201a8"
             ],
             [
              0.3333333333333333,
              "#9c179e"
             ],
             [
              0.4444444444444444,
              "#bd3786"
             ],
             [
              0.5555555555555556,
              "#d8576b"
             ],
             [
              0.6666666666666666,
              "#ed7953"
             ],
             [
              0.7777777777777778,
              "#fb9f3a"
             ],
             [
              0.8888888888888888,
              "#fdca26"
             ],
             [
              1,
              "#f0f921"
             ]
            ],
            "type": "surface"
           }
          ],
          "table": [
           {
            "cells": {
             "fill": {
              "color": "#EBF0F8"
             },
             "line": {
              "color": "white"
             }
            },
            "header": {
             "fill": {
              "color": "#C8D4E3"
             },
             "line": {
              "color": "white"
             }
            },
            "type": "table"
           }
          ]
         },
         "layout": {
          "annotationdefaults": {
           "arrowcolor": "#2a3f5f",
           "arrowhead": 0,
           "arrowwidth": 1
          },
          "autotypenumbers": "strict",
          "coloraxis": {
           "colorbar": {
            "outlinewidth": 0,
            "ticks": ""
           }
          },
          "colorscale": {
           "diverging": [
            [
             0,
             "#8e0152"
            ],
            [
             0.1,
             "#c51b7d"
            ],
            [
             0.2,
             "#de77ae"
            ],
            [
             0.3,
             "#f1b6da"
            ],
            [
             0.4,
             "#fde0ef"
            ],
            [
             0.5,
             "#f7f7f7"
            ],
            [
             0.6,
             "#e6f5d0"
            ],
            [
             0.7,
             "#b8e186"
            ],
            [
             0.8,
             "#7fbc41"
            ],
            [
             0.9,
             "#4d9221"
            ],
            [
             1,
             "#276419"
            ]
           ],
           "sequential": [
            [
             0,
             "#0d0887"
            ],
            [
             0.1111111111111111,
             "#46039f"
            ],
            [
             0.2222222222222222,
             "#7201a8"
            ],
            [
             0.3333333333333333,
             "#9c179e"
            ],
            [
             0.4444444444444444,
             "#bd3786"
            ],
            [
             0.5555555555555556,
             "#d8576b"
            ],
            [
             0.6666666666666666,
             "#ed7953"
            ],
            [
             0.7777777777777778,
             "#fb9f3a"
            ],
            [
             0.8888888888888888,
             "#fdca26"
            ],
            [
             1,
             "#f0f921"
            ]
           ],
           "sequentialminus": [
            [
             0,
             "#0d0887"
            ],
            [
             0.1111111111111111,
             "#46039f"
            ],
            [
             0.2222222222222222,
             "#7201a8"
            ],
            [
             0.3333333333333333,
             "#9c179e"
            ],
            [
             0.4444444444444444,
             "#bd3786"
            ],
            [
             0.5555555555555556,
             "#d8576b"
            ],
            [
             0.6666666666666666,
             "#ed7953"
            ],
            [
             0.7777777777777778,
             "#fb9f3a"
            ],
            [
             0.8888888888888888,
             "#fdca26"
            ],
            [
             1,
             "#f0f921"
            ]
           ]
          },
          "colorway": [
           "#636efa",
           "#EF553B",
           "#00cc96",
           "#ab63fa",
           "#FFA15A",
           "#19d3f3",
           "#FF6692",
           "#B6E880",
           "#FF97FF",
           "#FECB52"
          ],
          "font": {
           "color": "#2a3f5f"
          },
          "geo": {
           "bgcolor": "white",
           "lakecolor": "white",
           "landcolor": "white",
           "showlakes": true,
           "showland": true,
           "subunitcolor": "#C8D4E3"
          },
          "hoverlabel": {
           "align": "left"
          },
          "hovermode": "closest",
          "mapbox": {
           "style": "light"
          },
          "paper_bgcolor": "white",
          "plot_bgcolor": "white",
          "polar": {
           "angularaxis": {
            "gridcolor": "#EBF0F8",
            "linecolor": "#EBF0F8",
            "ticks": ""
           },
           "bgcolor": "white",
           "radialaxis": {
            "gridcolor": "#EBF0F8",
            "linecolor": "#EBF0F8",
            "ticks": ""
           }
          },
          "scene": {
           "xaxis": {
            "backgroundcolor": "white",
            "gridcolor": "#DFE8F3",
            "gridwidth": 2,
            "linecolor": "#EBF0F8",
            "showbackground": true,
            "ticks": "",
            "zerolinecolor": "#EBF0F8"
           },
           "yaxis": {
            "backgroundcolor": "white",
            "gridcolor": "#DFE8F3",
            "gridwidth": 2,
            "linecolor": "#EBF0F8",
            "showbackground": true,
            "ticks": "",
            "zerolinecolor": "#EBF0F8"
           },
           "zaxis": {
            "backgroundcolor": "white",
            "gridcolor": "#DFE8F3",
            "gridwidth": 2,
            "linecolor": "#EBF0F8",
            "showbackground": true,
            "ticks": "",
            "zerolinecolor": "#EBF0F8"
           }
          },
          "shapedefaults": {
           "line": {
            "color": "#2a3f5f"
           }
          },
          "ternary": {
           "aaxis": {
            "gridcolor": "#DFE8F3",
            "linecolor": "#A2B1C6",
            "ticks": ""
           },
           "baxis": {
            "gridcolor": "#DFE8F3",
            "linecolor": "#A2B1C6",
            "ticks": ""
           },
           "bgcolor": "white",
           "caxis": {
            "gridcolor": "#DFE8F3",
            "linecolor": "#A2B1C6",
            "ticks": ""
           }
          },
          "title": {
           "x": 0.05
          },
          "xaxis": {
           "automargin": true,
           "gridcolor": "#EBF0F8",
           "linecolor": "#EBF0F8",
           "ticks": "",
           "title": {
            "standoff": 15
           },
           "zerolinecolor": "#EBF0F8",
           "zerolinewidth": 2
          },
          "yaxis": {
           "automargin": true,
           "gridcolor": "#EBF0F8",
           "linecolor": "#EBF0F8",
           "ticks": "",
           "title": {
            "standoff": 15
           },
           "zerolinecolor": "#EBF0F8",
           "zerolinewidth": 2
          }
         }
        },
        "width": 800,
        "xaxis": {
         "anchor": "y",
         "domain": [
          0,
          0.2125
         ],
         "title": {
          "text": "Size (n)"
         }
        },
        "xaxis2": {
         "anchor": "y2",
         "domain": [
          0.2625,
          0.475
         ],
         "title": {
          "text": "Size (n)"
         }
        },
        "xaxis3": {
         "anchor": "y3",
         "domain": [
          0.525,
          0.7375
         ],
         "title": {
          "text": "Size (n)"
         }
        },
        "xaxis4": {
         "anchor": "y4",
         "domain": [
          0.7875,
          1
         ],
         "title": {
          "text": "Size (n)"
         }
        },
        "yaxis": {
         "anchor": "x",
         "domain": [
          0,
          1
         ],
         "title": {
          "text": "Time (s)"
         }
        },
        "yaxis2": {
         "anchor": "x2",
         "domain": [
          0,
          1
         ],
         "matches": "y",
         "showticklabels": false,
         "title": {
          "text": "Time (s)"
         }
        },
        "yaxis3": {
         "anchor": "x3",
         "domain": [
          0,
          1
         ],
         "matches": "y",
         "showticklabels": false,
         "title": {
          "text": "Time (s)"
         }
        },
        "yaxis4": {
         "anchor": "x4",
         "domain": [
          0,
          1
         ],
         "matches": "y",
         "showticklabels": false,
         "title": {
          "text": "Time (s)"
         }
        }
       }
      }
     },
     "metadata": {},
     "output_type": "display_data"
    }
   ],
   "source": [
    "dense = stats[(stats['Density'] == 'dense') & (stats['Projection Type'] != '')]\n",
    "\n",
    "fig = make_subplots(rows = 1,cols = 4,shared_xaxes = True,shared_yaxes=True,subplot_titles=dense['Method'].unique())\n",
    "\n",
    "methods = stats['Projection Type'].unique()\n",
    "import plotly.express as px\n",
    "colors = px.colors.qualitative.Plotly  # Plotly's default color sequence\n",
    "\n",
    "# Create color mapping (cycles through colors if more methods than colors)\n",
    "method_colors = {method: colors[i % len(colors)] for i, method in enumerate(methods)}\n",
    "\n",
    "\n",
    "for i, method in enumerate(dense['Method'].unique()):\n",
    "    for j, projection in enumerate(dense['Projection Type'].unique()):\n",
    "        _df = dense[(dense['Method'] == method) & (dense['Projection Type'] == projection)]\n",
    "        fig.add_trace(\n",
    "            go.Scatter(\n",
    "                x = _df['Size'],\n",
    "                y = _df['Time'],\n",
    "                name = names[projection],\n",
    "                legendgroup=projection,  # Group by projection type\n",
    "                line_color=method_colors[projection],  # Color by projection\n",
    "                showlegend = (i == 0),\n",
    "            ),\n",
    "            row = 1, col = i + 1,\n",
    "            \n",
    "        )\n",
    "\n",
    "mu_dense = stats[(stats['Method'] == 'MU') & (stats['Density'] == \"dense\")]\n",
    "\n",
    "for i in range(2):\n",
    "    fig.add_trace(\n",
    "        go.Scatter(\n",
    "            x = mu_dense['Size'],\n",
    "            y = mu_dense['Time'],\n",
    "            name = 'MU',\n",
    "            showlegend = (i == 0),\n",
    "            line = dict(color='black',dash='dash'),\n",
    "            legendgroup = 'MU'\n",
    "        ),\n",
    "        row = 1,col= i+1\n",
    "    )\n",
    "\n",
    "\n",
    "hals_dense = stats[(stats['Method'] == 'HALS') & (stats['Density'] == \"dense\")]\n",
    "for i in range(2,4):\n",
    "    fig.add_trace(\n",
    "        go.Scatter(\n",
    "            x = hals_dense['Size'],\n",
    "            y = hals_dense['Time'],\n",
    "            name = 'HALS',\n",
    "            showlegend = (i == 2),\n",
    "            line = dict(color='grey',dash='dash'),\n",
    "            legendgroup = 'HALS'\n",
    "        ),\n",
    "        row = 1,col= i+1\n",
    "    )\n",
    "\n",
    "fig.update_layout(\n",
    "    xaxis1_title = 'Size (n)',\n",
    "    yaxis1_title = 'Time (s)',\n",
    "    xaxis2_title = 'Size (n)',\n",
    "    yaxis2_title = 'Time (s)',\n",
    "    xaxis3_title = 'Size (n)',\n",
    "    yaxis3_title = 'Time (s)',\n",
    "    xaxis4_title = 'Size (n)',\n",
    "    yaxis4_title = 'Time (s)',\n",
    "    template = 'plotly_white',\n",
    "    legend=dict(\n",
    "        orientation=\"h\",  # horizontal\n",
    "        y=-0.2,           # move legend below the plot\n",
    "        x=0.5,\n",
    "        xanchor=\"center\",\n",
    "        yanchor=\"top\"\n",
    "    ),\n",
    "    font=dict(\n",
    "        size=10,color='black'\n",
    "    ),\n",
    "    margin=dict(\n",
    "        l=20,  # left margin\n",
    "        r=20,  # right margin\n",
    "        t=40,  # top margin\n",
    "        b=40   # bottom margin\n",
    "    ), \n",
    "    width = 800,\n",
    "    height = 400\n",
    ")\n",
    "\n",
    "fig.show()"
   ]
  },
  {
   "cell_type": "markdown",
   "id": "15f371c7",
   "metadata": {},
   "source": [
    "*ii) sparse*"
   ]
  },
  {
   "cell_type": "code",
   "execution_count": 32,
   "id": "34c3524a",
   "metadata": {},
   "outputs": [
    {
     "data": {
      "application/vnd.plotly.v1+json": {
       "config": {
        "plotlyServerURL": "https://plot.ly"
       },
       "data": [
        {
         "legendgroup": "gaussian",
         "line": {
          "color": "#636EFA"
         },
         "name": "Gaussian",
         "showlegend": true,
         "type": "scatter",
         "x": {
          "bdata": "6APQB7gLoA+IEw==",
          "dtype": "i2"
         },
         "xaxis": "x",
         "y": {
          "bdata": "ZmZmVbvoyD/NzKztRpzqPwAAsPhV4v8/MzP7Q2WZDEAAANwc+HoXQA==",
          "dtype": "f8"
         },
         "yaxis": "y"
        },
        {
         "legendgroup": "srht",
         "line": {
          "color": "#EF553B"
         },
         "name": "SRHT",
         "showlegend": true,
         "type": "scatter",
         "x": {
          "bdata": "6APQB7gLoA+IEw==",
          "dtype": "i2"
         },
         "xaxis": "x",
         "y": {
          "bdata": "ZmZmMoXWyD/NzAxw3WHqP2ZmNhSxx/8/Zmb2wbeIDEAzM0+SrnEXQA==",
          "dtype": "f8"
         },
         "yaxis": "y"
        },
        {
         "legendgroup": "srft",
         "line": {
          "color": "#00CC96"
         },
         "name": "SRFT",
         "showlegend": true,
         "type": "scatter",
         "x": {
          "bdata": "6APQB7gLoA+IEw==",
          "dtype": "i2"
         },
         "xaxis": "x",
         "y": {
          "bdata": "mpkZV7BPyT/NzIyKlMDqPwAAGFxaIgBAMzMz/n0uDUDNzMjlYJoXQA==",
          "dtype": "f8"
         },
         "yaxis": "y"
        },
        {
         "legendgroup": "sparse-jl",
         "line": {
          "color": "#AB63FA"
         },
         "name": "Sparse JL",
         "showlegend": true,
         "type": "scatter",
         "x": {
          "bdata": "6APQB7gLoA+IEw==",
          "dtype": "i2"
         },
         "xaxis": "x",
         "y": {
          "bdata": "zczMrZeNyD8zM7PZUNjqPzMzK+SdNQBAMzPTuvVODUCamY0B2c8XQA==",
          "dtype": "f8"
         },
         "yaxis": "y"
        },
        {
         "legendgroup": "count-sketch",
         "line": {
          "color": "#FFA15A"
         },
         "name": "CountSketch",
         "showlegend": true,
         "type": "scatter",
         "x": {
          "bdata": "6APQB7gLoA+IEw==",
          "dtype": "i2"
         },
         "xaxis": "x",
         "y": {
          "bdata": "AACAM01YyD9mZuZuEbfqP2Zmht4cFQBAzcw8iMcqDUBmZqoUdcUXQA==",
          "dtype": "f8"
         },
         "yaxis": "y"
        },
        {
         "legendgroup": "gaussian",
         "line": {
          "color": "#636EFA"
         },
         "name": "Gaussian",
         "showlegend": false,
         "type": "scatter",
         "x": {
          "bdata": "6APQB7gLoA+IEw==",
          "dtype": "i2"
         },
         "xaxis": "x2",
         "y": {
          "bdata": "Zmbm9SdxyT8zMxNZFxbrP83MfIwkRwBAmpmh+kF0DUBmZg6/UfUXQA==",
          "dtype": "f8"
         },
         "yaxis": "y2"
        },
        {
         "legendgroup": "srht",
         "line": {
          "color": "#EF553B"
         },
         "name": "SRHT",
         "showlegend": false,
         "type": "scatter",
         "x": {
          "bdata": "6APQB7gLoA+IEw==",
          "dtype": "i2"
         },
         "xaxis": "x2",
         "y": {
          "bdata": "ZmbmnSceyj9mZsY5PjvsP83MjLWWdAFAmpnxHrHHDkCame2kMoMZQA==",
          "dtype": "f8"
         },
         "yaxis": "y2"
        },
        {
         "legendgroup": "srft",
         "line": {
          "color": "#00CC96"
         },
         "name": "SRFT",
         "showlegend": false,
         "type": "scatter",
         "x": {
          "bdata": "6APQB7gLoA+IEw==",
          "dtype": "i2"
         },
         "xaxis": "x2",
         "y": {
          "bdata": "AACA4gchyT9mZobnPBvrPzMzi49YAwBAMzODvqFuDUCamUXtdtQXQA==",
          "dtype": "f8"
         },
         "yaxis": "y2"
        },
        {
         "legendgroup": "sparse-jl",
         "line": {
          "color": "#AB63FA"
         },
         "name": "Sparse JL",
         "showlegend": false,
         "type": "scatter",
         "x": {
          "bdata": "6APQB7gLoA+IEw==",
          "dtype": "i2"
         },
         "xaxis": "x2",
         "y": {
          "bdata": "MzMzv5D+yD/NzEwTnQLrP83MvERqFwBAAABIaoi/DUCambGTdgYYQA==",
          "dtype": "f8"
         },
         "yaxis": "y2"
        },
        {
         "legendgroup": "count-sketch",
         "line": {
          "color": "#FFA15A"
         },
         "name": "CountSketch",
         "showlegend": false,
         "type": "scatter",
         "x": {
          "bdata": "6APQB7gLoA+IEw==",
          "dtype": "i2"
         },
         "xaxis": "x2",
         "y": {
          "bdata": "AAAAg9u9yD/NzIyGF+fqP83MtKXVYABAmpnxnQyUDUAzM7tJDOoXQA==",
          "dtype": "f8"
         },
         "yaxis": "y2"
        },
        {
         "legendgroup": "gaussian",
         "line": {
          "color": "#636EFA"
         },
         "name": "Gaussian",
         "showlegend": false,
         "type": "scatter",
         "x": {
          "bdata": "6APQB7gLoA+IEw==",
          "dtype": "i2"
         },
         "xaxis": "x3",
         "y": {
          "bdata": "ZmZma8eeyT9mZgbjXFrqP5qZGWlexf8/ZmaO16TXDEDNzOC8cmgXQA==",
          "dtype": "f8"
         },
         "yaxis": "y3"
        },
        {
         "legendgroup": "srht",
         "line": {
          "color": "#EF553B"
         },
         "name": "SRHT",
         "showlegend": false,
         "type": "scatter",
         "x": {
          "bdata": "6APQB7gLoA+IEw==",
          "dtype": "i2"
         },
         "xaxis": "x3",
         "y": {
          "bdata": "MzOzmA7fyT/NzMxgMGXqP83M3B3nCABAMzOzCtXUDEBmZup8eE4XQA==",
          "dtype": "f8"
         },
         "yaxis": "y3"
        },
        {
         "legendgroup": "srft",
         "line": {
          "color": "#00CC96"
         },
         "name": "SRFT",
         "showlegend": false,
         "type": "scatter",
         "x": {
          "bdata": "6APQB7gLoA+IEw==",
          "dtype": "i2"
         },
         "xaxis": "x3",
         "y": {
          "bdata": "ZmZmL5HByj8zMxNr0eXqPwAAcG/ABwBAmpk5eCYcDUCamZ2NnmcXQA==",
          "dtype": "f8"
         },
         "yaxis": "y3"
        },
        {
         "legendgroup": "sparse-jl",
         "line": {
          "color": "#AB63FA"
         },
         "name": "Sparse JL",
         "showlegend": false,
         "type": "scatter",
         "x": {
          "bdata": "6APQB7gLoA+IEw==",
          "dtype": "i2"
         },
         "xaxis": "x3",
         "y": {
          "bdata": "AACA9nEbyj9mZmZd3fDqPwAAmBMXJABAmpmJhedGDUDNzKz4fqEXQA==",
          "dtype": "f8"
         },
         "yaxis": "y3"
        },
        {
         "legendgroup": "count-sketch",
         "line": {
          "color": "#FFA15A"
         },
         "name": "CountSketch",
         "showlegend": false,
         "type": "scatter",
         "x": {
          "bdata": "6APQB7gLoA+IEw==",
          "dtype": "i2"
         },
         "xaxis": "x3",
         "y": {
          "bdata": "MzOzztDoyT/NzAy4S67qPwAAaIwgDwBAmpmpmEofDUBmZgLMOn8XQA==",
          "dtype": "f8"
         },
         "yaxis": "y3"
        },
        {
         "legendgroup": "gaussian",
         "line": {
          "color": "#636EFA"
         },
         "name": "Gaussian",
         "showlegend": false,
         "type": "scatter",
         "x": {
          "bdata": "6APQB7gLoA+IEw==",
          "dtype": "i2"
         },
         "xaxis": "x4",
         "y": {
          "bdata": "AACA3KSayj8AAMCCDiLrP2Zmjt7LOABAzcxEAR1eDUAAAKxgbacXQA==",
          "dtype": "f8"
         },
         "yaxis": "y4"
        },
        {
         "legendgroup": "srht",
         "line": {
          "color": "#EF553B"
         },
         "name": "SRHT",
         "showlegend": false,
         "type": "scatter",
         "x": {
          "bdata": "6APQB7gLoA+IEw==",
          "dtype": "i2"
         },
         "xaxis": "x4",
         "y": {
          "bdata": "MzOzs3elyz/NzOw9MT/sPzMzQ/lhkAFAzczE7ZatDkCamc3VRUgZQA==",
          "dtype": "f8"
         },
         "yaxis": "y4"
        },
        {
         "legendgroup": "srft",
         "line": {
          "color": "#00CC96"
         },
         "name": "SRFT",
         "showlegend": false,
         "type": "scatter",
         "x": {
          "bdata": "6APQB7gLoA+IEw==",
          "dtype": "i2"
         },
         "xaxis": "x4",
         "y": {
          "bdata": "MzMzDEnayj8zM1MR6CXrP5qZkUOSMwBAmplxQr9hDUDNzDjB9aQXQA==",
          "dtype": "f8"
         },
         "yaxis": "y4"
        },
        {
         "legendgroup": "sparse-jl",
         "line": {
          "color": "#AB63FA"
         },
         "name": "Sparse JL",
         "showlegend": false,
         "type": "scatter",
         "x": {
          "bdata": "6APQB7gLoA+IEw==",
          "dtype": "i2"
         },
         "xaxis": "x4",
         "y": {
          "bdata": "MzOzylGdyj+amRmXMEHrP83MjLLhPQBAMzObzuKADUBmZsK8KsgXQA==",
          "dtype": "f8"
         },
         "yaxis": "y4"
        },
        {
         "legendgroup": "count-sketch",
         "line": {
          "color": "#FFA15A"
         },
         "name": "CountSketch",
         "showlegend": false,
         "type": "scatter",
         "x": {
          "bdata": "6APQB7gLoA+IEw==",
          "dtype": "i2"
         },
         "xaxis": "x4",
         "y": {
          "bdata": "zczMtJ2Ayj8AAADpMQPrP2ZmxgobQQBAmpmRMZBSDUDNzIyg784XQA==",
          "dtype": "f8"
         },
         "yaxis": "y4"
        },
        {
         "legendgroup": "MU",
         "line": {
          "color": "black",
          "dash": "dash"
         },
         "name": "MU",
         "showlegend": true,
         "type": "scatter",
         "x": {
          "bdata": "6APQB7gLoA+IEw==",
          "dtype": "i2"
         },
         "xaxis": "x",
         "y": {
          "bdata": "ZmbmniF70T8zM5MIbUz0P2ZmHoD1vApAAADs6I/TGEAAAFqD95MkQA==",
          "dtype": "f8"
         },
         "yaxis": "y"
        },
        {
         "legendgroup": "MU",
         "line": {
          "color": "black",
          "dash": "dash"
         },
         "name": "MU",
         "showlegend": false,
         "type": "scatter",
         "x": {
          "bdata": "6APQB7gLoA+IEw==",
          "dtype": "i2"
         },
         "xaxis": "x2",
         "y": {
          "bdata": "ZmbmniF70T8zM5MIbUz0P2ZmHoD1vApAAADs6I/TGEAAAFqD95MkQA==",
          "dtype": "f8"
         },
         "yaxis": "y2"
        },
        {
         "legendgroup": "HALS",
         "line": {
          "color": "grey",
          "dash": "dash"
         },
         "name": "HALS",
         "showlegend": true,
         "type": "scatter",
         "x": {
          "bdata": "6APQB7gLoA+IEw==",
          "dtype": "i2"
         },
         "xaxis": "x3",
         "y": {
          "bdata": "AAAAech3zT/NzAzI+jrvP83MrPYbgwNAAADwOlWFEUCamWn8iFgcQA==",
          "dtype": "f8"
         },
         "yaxis": "y3"
        },
        {
         "legendgroup": "HALS",
         "line": {
          "color": "grey",
          "dash": "dash"
         },
         "name": "HALS",
         "showlegend": false,
         "type": "scatter",
         "x": {
          "bdata": "6APQB7gLoA+IEw==",
          "dtype": "i2"
         },
         "xaxis": "x4",
         "y": {
          "bdata": "AAAAech3zT/NzAzI+jrvP83MrPYbgwNAAADwOlWFEUCamWn8iFgcQA==",
          "dtype": "f8"
         },
         "yaxis": "y4"
        }
       ],
       "layout": {
        "annotations": [
         {
          "font": {
           "size": 16
          },
          "showarrow": false,
          "text": "MU C",
          "x": 0.10625,
          "xanchor": "center",
          "xref": "paper",
          "y": 1,
          "yanchor": "bottom",
          "yref": "paper"
         },
         {
          "font": {
           "size": 16
          },
          "showarrow": false,
          "text": "MU SC",
          "x": 0.36875,
          "xanchor": "center",
          "xref": "paper",
          "y": 1,
          "yanchor": "bottom",
          "yref": "paper"
         },
         {
          "font": {
           "size": 16
          },
          "showarrow": false,
          "text": "HALS C",
          "x": 0.6312500000000001,
          "xanchor": "center",
          "xref": "paper",
          "y": 1,
          "yanchor": "bottom",
          "yref": "paper"
         },
         {
          "font": {
           "size": 16
          },
          "showarrow": false,
          "text": "HALS SC",
          "x": 0.89375,
          "xanchor": "center",
          "xref": "paper",
          "y": 1,
          "yanchor": "bottom",
          "yref": "paper"
         }
        ],
        "font": {
         "color": "black",
         "size": 10
        },
        "height": 400,
        "legend": {
         "orientation": "h",
         "x": 0.5,
         "xanchor": "center",
         "y": -0.2,
         "yanchor": "top"
        },
        "margin": {
         "b": 40,
         "l": 20,
         "r": 20,
         "t": 40
        },
        "template": {
         "data": {
          "bar": [
           {
            "error_x": {
             "color": "#2a3f5f"
            },
            "error_y": {
             "color": "#2a3f5f"
            },
            "marker": {
             "line": {
              "color": "white",
              "width": 0.5
             },
             "pattern": {
              "fillmode": "overlay",
              "size": 10,
              "solidity": 0.2
             }
            },
            "type": "bar"
           }
          ],
          "barpolar": [
           {
            "marker": {
             "line": {
              "color": "white",
              "width": 0.5
             },
             "pattern": {
              "fillmode": "overlay",
              "size": 10,
              "solidity": 0.2
             }
            },
            "type": "barpolar"
           }
          ],
          "carpet": [
           {
            "aaxis": {
             "endlinecolor": "#2a3f5f",
             "gridcolor": "#C8D4E3",
             "linecolor": "#C8D4E3",
             "minorgridcolor": "#C8D4E3",
             "startlinecolor": "#2a3f5f"
            },
            "baxis": {
             "endlinecolor": "#2a3f5f",
             "gridcolor": "#C8D4E3",
             "linecolor": "#C8D4E3",
             "minorgridcolor": "#C8D4E3",
             "startlinecolor": "#2a3f5f"
            },
            "type": "carpet"
           }
          ],
          "choropleth": [
           {
            "colorbar": {
             "outlinewidth": 0,
             "ticks": ""
            },
            "type": "choropleth"
           }
          ],
          "contour": [
           {
            "colorbar": {
             "outlinewidth": 0,
             "ticks": ""
            },
            "colorscale": [
             [
              0,
              "#0d0887"
             ],
             [
              0.1111111111111111,
              "#46039f"
             ],
             [
              0.2222222222222222,
              "#7201a8"
             ],
             [
              0.3333333333333333,
              "#9c179e"
             ],
             [
              0.4444444444444444,
              "#bd3786"
             ],
             [
              0.5555555555555556,
              "#d8576b"
             ],
             [
              0.6666666666666666,
              "#ed7953"
             ],
             [
              0.7777777777777778,
              "#fb9f3a"
             ],
             [
              0.8888888888888888,
              "#fdca26"
             ],
             [
              1,
              "#f0f921"
             ]
            ],
            "type": "contour"
           }
          ],
          "contourcarpet": [
           {
            "colorbar": {
             "outlinewidth": 0,
             "ticks": ""
            },
            "type": "contourcarpet"
           }
          ],
          "heatmap": [
           {
            "colorbar": {
             "outlinewidth": 0,
             "ticks": ""
            },
            "colorscale": [
             [
              0,
              "#0d0887"
             ],
             [
              0.1111111111111111,
              "#46039f"
             ],
             [
              0.2222222222222222,
              "#7201a8"
             ],
             [
              0.3333333333333333,
              "#9c179e"
             ],
             [
              0.4444444444444444,
              "#bd3786"
             ],
             [
              0.5555555555555556,
              "#d8576b"
             ],
             [
              0.6666666666666666,
              "#ed7953"
             ],
             [
              0.7777777777777778,
              "#fb9f3a"
             ],
             [
              0.8888888888888888,
              "#fdca26"
             ],
             [
              1,
              "#f0f921"
             ]
            ],
            "type": "heatmap"
           }
          ],
          "histogram": [
           {
            "marker": {
             "pattern": {
              "fillmode": "overlay",
              "size": 10,
              "solidity": 0.2
             }
            },
            "type": "histogram"
           }
          ],
          "histogram2d": [
           {
            "colorbar": {
             "outlinewidth": 0,
             "ticks": ""
            },
            "colorscale": [
             [
              0,
              "#0d0887"
             ],
             [
              0.1111111111111111,
              "#46039f"
             ],
             [
              0.2222222222222222,
              "#7201a8"
             ],
             [
              0.3333333333333333,
              "#9c179e"
             ],
             [
              0.4444444444444444,
              "#bd3786"
             ],
             [
              0.5555555555555556,
              "#d8576b"
             ],
             [
              0.6666666666666666,
              "#ed7953"
             ],
             [
              0.7777777777777778,
              "#fb9f3a"
             ],
             [
              0.8888888888888888,
              "#fdca26"
             ],
             [
              1,
              "#f0f921"
             ]
            ],
            "type": "histogram2d"
           }
          ],
          "histogram2dcontour": [
           {
            "colorbar": {
             "outlinewidth": 0,
             "ticks": ""
            },
            "colorscale": [
             [
              0,
              "#0d0887"
             ],
             [
              0.1111111111111111,
              "#46039f"
             ],
             [
              0.2222222222222222,
              "#7201a8"
             ],
             [
              0.3333333333333333,
              "#9c179e"
             ],
             [
              0.4444444444444444,
              "#bd3786"
             ],
             [
              0.5555555555555556,
              "#d8576b"
             ],
             [
              0.6666666666666666,
              "#ed7953"
             ],
             [
              0.7777777777777778,
              "#fb9f3a"
             ],
             [
              0.8888888888888888,
              "#fdca26"
             ],
             [
              1,
              "#f0f921"
             ]
            ],
            "type": "histogram2dcontour"
           }
          ],
          "mesh3d": [
           {
            "colorbar": {
             "outlinewidth": 0,
             "ticks": ""
            },
            "type": "mesh3d"
           }
          ],
          "parcoords": [
           {
            "line": {
             "colorbar": {
              "outlinewidth": 0,
              "ticks": ""
             }
            },
            "type": "parcoords"
           }
          ],
          "pie": [
           {
            "automargin": true,
            "type": "pie"
           }
          ],
          "scatter": [
           {
            "fillpattern": {
             "fillmode": "overlay",
             "size": 10,
             "solidity": 0.2
            },
            "type": "scatter"
           }
          ],
          "scatter3d": [
           {
            "line": {
             "colorbar": {
              "outlinewidth": 0,
              "ticks": ""
             }
            },
            "marker": {
             "colorbar": {
              "outlinewidth": 0,
              "ticks": ""
             }
            },
            "type": "scatter3d"
           }
          ],
          "scattercarpet": [
           {
            "marker": {
             "colorbar": {
              "outlinewidth": 0,
              "ticks": ""
             }
            },
            "type": "scattercarpet"
           }
          ],
          "scattergeo": [
           {
            "marker": {
             "colorbar": {
              "outlinewidth": 0,
              "ticks": ""
             }
            },
            "type": "scattergeo"
           }
          ],
          "scattergl": [
           {
            "marker": {
             "colorbar": {
              "outlinewidth": 0,
              "ticks": ""
             }
            },
            "type": "scattergl"
           }
          ],
          "scattermap": [
           {
            "marker": {
             "colorbar": {
              "outlinewidth": 0,
              "ticks": ""
             }
            },
            "type": "scattermap"
           }
          ],
          "scattermapbox": [
           {
            "marker": {
             "colorbar": {
              "outlinewidth": 0,
              "ticks": ""
             }
            },
            "type": "scattermapbox"
           }
          ],
          "scatterpolar": [
           {
            "marker": {
             "colorbar": {
              "outlinewidth": 0,
              "ticks": ""
             }
            },
            "type": "scatterpolar"
           }
          ],
          "scatterpolargl": [
           {
            "marker": {
             "colorbar": {
              "outlinewidth": 0,
              "ticks": ""
             }
            },
            "type": "scatterpolargl"
           }
          ],
          "scatterternary": [
           {
            "marker": {
             "colorbar": {
              "outlinewidth": 0,
              "ticks": ""
             }
            },
            "type": "scatterternary"
           }
          ],
          "surface": [
           {
            "colorbar": {
             "outlinewidth": 0,
             "ticks": ""
            },
            "colorscale": [
             [
              0,
              "#0d0887"
             ],
             [
              0.1111111111111111,
              "#46039f"
             ],
             [
              0.2222222222222222,
              "#7201a8"
             ],
             [
              0.3333333333333333,
              "#9c179e"
             ],
             [
              0.4444444444444444,
              "#bd3786"
             ],
             [
              0.5555555555555556,
              "#d8576b"
             ],
             [
              0.6666666666666666,
              "#ed7953"
             ],
             [
              0.7777777777777778,
              "#fb9f3a"
             ],
             [
              0.8888888888888888,
              "#fdca26"
             ],
             [
              1,
              "#f0f921"
             ]
            ],
            "type": "surface"
           }
          ],
          "table": [
           {
            "cells": {
             "fill": {
              "color": "#EBF0F8"
             },
             "line": {
              "color": "white"
             }
            },
            "header": {
             "fill": {
              "color": "#C8D4E3"
             },
             "line": {
              "color": "white"
             }
            },
            "type": "table"
           }
          ]
         },
         "layout": {
          "annotationdefaults": {
           "arrowcolor": "#2a3f5f",
           "arrowhead": 0,
           "arrowwidth": 1
          },
          "autotypenumbers": "strict",
          "coloraxis": {
           "colorbar": {
            "outlinewidth": 0,
            "ticks": ""
           }
          },
          "colorscale": {
           "diverging": [
            [
             0,
             "#8e0152"
            ],
            [
             0.1,
             "#c51b7d"
            ],
            [
             0.2,
             "#de77ae"
            ],
            [
             0.3,
             "#f1b6da"
            ],
            [
             0.4,
             "#fde0ef"
            ],
            [
             0.5,
             "#f7f7f7"
            ],
            [
             0.6,
             "#e6f5d0"
            ],
            [
             0.7,
             "#b8e186"
            ],
            [
             0.8,
             "#7fbc41"
            ],
            [
             0.9,
             "#4d9221"
            ],
            [
             1,
             "#276419"
            ]
           ],
           "sequential": [
            [
             0,
             "#0d0887"
            ],
            [
             0.1111111111111111,
             "#46039f"
            ],
            [
             0.2222222222222222,
             "#7201a8"
            ],
            [
             0.3333333333333333,
             "#9c179e"
            ],
            [
             0.4444444444444444,
             "#bd3786"
            ],
            [
             0.5555555555555556,
             "#d8576b"
            ],
            [
             0.6666666666666666,
             "#ed7953"
            ],
            [
             0.7777777777777778,
             "#fb9f3a"
            ],
            [
             0.8888888888888888,
             "#fdca26"
            ],
            [
             1,
             "#f0f921"
            ]
           ],
           "sequentialminus": [
            [
             0,
             "#0d0887"
            ],
            [
             0.1111111111111111,
             "#46039f"
            ],
            [
             0.2222222222222222,
             "#7201a8"
            ],
            [
             0.3333333333333333,
             "#9c179e"
            ],
            [
             0.4444444444444444,
             "#bd3786"
            ],
            [
             0.5555555555555556,
             "#d8576b"
            ],
            [
             0.6666666666666666,
             "#ed7953"
            ],
            [
             0.7777777777777778,
             "#fb9f3a"
            ],
            [
             0.8888888888888888,
             "#fdca26"
            ],
            [
             1,
             "#f0f921"
            ]
           ]
          },
          "colorway": [
           "#636efa",
           "#EF553B",
           "#00cc96",
           "#ab63fa",
           "#FFA15A",
           "#19d3f3",
           "#FF6692",
           "#B6E880",
           "#FF97FF",
           "#FECB52"
          ],
          "font": {
           "color": "#2a3f5f"
          },
          "geo": {
           "bgcolor": "white",
           "lakecolor": "white",
           "landcolor": "white",
           "showlakes": true,
           "showland": true,
           "subunitcolor": "#C8D4E3"
          },
          "hoverlabel": {
           "align": "left"
          },
          "hovermode": "closest",
          "mapbox": {
           "style": "light"
          },
          "paper_bgcolor": "white",
          "plot_bgcolor": "white",
          "polar": {
           "angularaxis": {
            "gridcolor": "#EBF0F8",
            "linecolor": "#EBF0F8",
            "ticks": ""
           },
           "bgcolor": "white",
           "radialaxis": {
            "gridcolor": "#EBF0F8",
            "linecolor": "#EBF0F8",
            "ticks": ""
           }
          },
          "scene": {
           "xaxis": {
            "backgroundcolor": "white",
            "gridcolor": "#DFE8F3",
            "gridwidth": 2,
            "linecolor": "#EBF0F8",
            "showbackground": true,
            "ticks": "",
            "zerolinecolor": "#EBF0F8"
           },
           "yaxis": {
            "backgroundcolor": "white",
            "gridcolor": "#DFE8F3",
            "gridwidth": 2,
            "linecolor": "#EBF0F8",
            "showbackground": true,
            "ticks": "",
            "zerolinecolor": "#EBF0F8"
           },
           "zaxis": {
            "backgroundcolor": "white",
            "gridcolor": "#DFE8F3",
            "gridwidth": 2,
            "linecolor": "#EBF0F8",
            "showbackground": true,
            "ticks": "",
            "zerolinecolor": "#EBF0F8"
           }
          },
          "shapedefaults": {
           "line": {
            "color": "#2a3f5f"
           }
          },
          "ternary": {
           "aaxis": {
            "gridcolor": "#DFE8F3",
            "linecolor": "#A2B1C6",
            "ticks": ""
           },
           "baxis": {
            "gridcolor": "#DFE8F3",
            "linecolor": "#A2B1C6",
            "ticks": ""
           },
           "bgcolor": "white",
           "caxis": {
            "gridcolor": "#DFE8F3",
            "linecolor": "#A2B1C6",
            "ticks": ""
           }
          },
          "title": {
           "x": 0.05
          },
          "xaxis": {
           "automargin": true,
           "gridcolor": "#EBF0F8",
           "linecolor": "#EBF0F8",
           "ticks": "",
           "title": {
            "standoff": 15
           },
           "zerolinecolor": "#EBF0F8",
           "zerolinewidth": 2
          },
          "yaxis": {
           "automargin": true,
           "gridcolor": "#EBF0F8",
           "linecolor": "#EBF0F8",
           "ticks": "",
           "title": {
            "standoff": 15
           },
           "zerolinecolor": "#EBF0F8",
           "zerolinewidth": 2
          }
         }
        },
        "width": 800,
        "xaxis": {
         "anchor": "y",
         "domain": [
          0,
          0.2125
         ],
         "title": {
          "text": "Size (n)"
         }
        },
        "xaxis2": {
         "anchor": "y2",
         "domain": [
          0.2625,
          0.475
         ],
         "title": {
          "text": "Size (n)"
         }
        },
        "xaxis3": {
         "anchor": "y3",
         "domain": [
          0.525,
          0.7375
         ],
         "title": {
          "text": "Size (n)"
         }
        },
        "xaxis4": {
         "anchor": "y4",
         "domain": [
          0.7875,
          1
         ],
         "title": {
          "text": "Size (n)"
         }
        },
        "yaxis": {
         "anchor": "x",
         "domain": [
          0,
          1
         ],
         "title": {
          "text": "Time (s)"
         }
        },
        "yaxis2": {
         "anchor": "x2",
         "domain": [
          0,
          1
         ],
         "matches": "y",
         "showticklabels": false,
         "title": {
          "text": "Time (s)"
         }
        },
        "yaxis3": {
         "anchor": "x3",
         "domain": [
          0,
          1
         ],
         "matches": "y",
         "showticklabels": false,
         "title": {
          "text": "Time (s)"
         }
        },
        "yaxis4": {
         "anchor": "x4",
         "domain": [
          0,
          1
         ],
         "matches": "y",
         "showticklabels": false,
         "title": {
          "text": "Time (s)"
         }
        }
       }
      }
     },
     "metadata": {},
     "output_type": "display_data"
    }
   ],
   "source": [
    "sparse = stats[(stats['Density'] == 'sparse') & (stats['Projection Type'] != '')]\n",
    "\n",
    "fig = make_subplots(rows = 1,cols = 4,shared_xaxes = True,shared_yaxes=True,subplot_titles=sparse['Method'].unique())\n",
    "\n",
    "for i, method in enumerate(sparse['Method'].unique()):\n",
    "    for j, projection in enumerate(sparse['Projection Type'].unique()):\n",
    "        _df = sparse[(sparse['Method'] == method) & (sparse['Projection Type'] == projection)]\n",
    "        fig.add_trace(\n",
    "            go.Scatter(\n",
    "                x = _df['Size'],\n",
    "                y = _df['Time'],\n",
    "                name = names[projection],\n",
    "                legendgroup=projection,  # Group by projection type\n",
    "                line_color=method_colors[projection],  # Color by projection\n",
    "                showlegend = (i == 0),\n",
    "            ),\n",
    "            row = 1, col = i + 1,\n",
    "            \n",
    "        )\n",
    "mu_dense = stats[(stats['Method'] == 'MU') & (stats['Density'] == \"sparse\")]\n",
    "\n",
    "for i in range(2):\n",
    "    fig.add_trace(\n",
    "        go.Scatter(\n",
    "            x = mu_dense['Size'],\n",
    "            y = mu_dense['Time'],\n",
    "            name = 'MU',\n",
    "            showlegend = (i == 0),\n",
    "            line = dict(color='black',dash='dash'),\n",
    "            legendgroup = 'MU'\n",
    "        ),\n",
    "        row = 1,col= i+1\n",
    "    )\n",
    "\n",
    "\n",
    "hals_dense = stats[(stats['Method'] == 'HALS') & (stats['Density'] == \"sparse\")]\n",
    "for i in range(2,4):\n",
    "    fig.add_trace(\n",
    "        go.Scatter(\n",
    "            x = hals_dense['Size'],\n",
    "            y = hals_dense['Time'],\n",
    "            name = 'HALS',\n",
    "            showlegend = (i == 2),\n",
    "            line = dict(color='grey',dash='dash'),\n",
    "            legendgroup = 'HALS'\n",
    "        ),\n",
    "        row = 1,col= i+1\n",
    "    )\n",
    "\n",
    "\n",
    "fig.update_layout(\n",
    "    xaxis1_title = 'Size (n)',\n",
    "    yaxis1_title = 'Time (s)',\n",
    "    xaxis2_title = 'Size (n)',\n",
    "    yaxis2_title = 'Time (s)',\n",
    "    xaxis3_title = 'Size (n)',\n",
    "    yaxis3_title = 'Time (s)',\n",
    "    xaxis4_title = 'Size (n)',\n",
    "    yaxis4_title = 'Time (s)',\n",
    "    template = 'plotly_white',\n",
    "    legend=dict(\n",
    "        orientation=\"h\",  # horizontal\n",
    "        y=-0.2,           # move legend below the plot\n",
    "        x=0.5,\n",
    "        xanchor=\"center\",\n",
    "        yanchor=\"top\"\n",
    "    ),\n",
    "    font=dict(\n",
    "        size=10,color='black'\n",
    "    ),\n",
    "    margin=dict(\n",
    "        l=20,  # left margin\n",
    "        r=20,  # right margin\n",
    "        t=40,  # top margin\n",
    "        b=40   # bottom margin\n",
    "    ), \n",
    "    width = 800,\n",
    "    height = 400\n",
    ")\n",
    "\n",
    "fig.show()"
   ]
  },
  {
   "cell_type": "markdown",
   "id": "b64ad4df",
   "metadata": {},
   "source": [
    "*Plot: Reconstruction Error by Method/Projection*"
   ]
  },
  {
   "cell_type": "markdown",
   "id": "b49d062a",
   "metadata": {},
   "source": [
    "*i) dense*"
   ]
  },
  {
   "cell_type": "code",
   "execution_count": 34,
   "id": "07efa035",
   "metadata": {},
   "outputs": [
    {
     "data": {
      "application/vnd.plotly.v1+json": {
       "config": {
        "plotlyServerURL": "https://plot.ly"
       },
       "data": [
        {
         "legendgroup": "gaussian",
         "line": {
          "color": "#636EFA"
         },
         "name": "Gaussian",
         "showlegend": true,
         "type": "scatter",
         "x": {
          "bdata": "6APQB7gLoA+IEw==",
          "dtype": "i2"
         },
         "xaxis": "x",
         "y": {
          "bdata": "/icloZWw5j+I2nQADovqP5D6EIsnbuo/yKYom2T86j+jvAYbSWTrPw==",
          "dtype": "f8"
         },
         "yaxis": "y"
        },
        {
         "legendgroup": "srht",
         "line": {
          "color": "#EF553B"
         },
         "name": "SRHT",
         "showlegend": true,
         "type": "scatter",
         "x": {
          "bdata": "6APQB7gLoA+IEw==",
          "dtype": "i2"
         },
         "xaxis": "x",
         "y": {
          "bdata": "JmtDOJRH5D+x9saKejfoP2O85alujuk/4MWOe3x06z/+OW8E87TsPw==",
          "dtype": "f8"
         },
         "yaxis": "y"
        },
        {
         "legendgroup": "srft",
         "line": {
          "color": "#00CC96"
         },
         "name": "SRFT",
         "showlegend": true,
         "type": "scatter",
         "x": {
          "bdata": "6APQB7gLoA+IEw==",
          "dtype": "i2"
         },
         "xaxis": "x",
         "y": {
          "bdata": "7gVHqJV15z/Vic7eyNjqP93h1M5UI+w/w08WXC047j8zm6b9Ll3uPw==",
          "dtype": "f8"
         },
         "yaxis": "y"
        },
        {
         "legendgroup": "sparse-jl",
         "line": {
          "color": "#AB63FA"
         },
         "name": "Sparse JL",
         "showlegend": true,
         "type": "scatter",
         "x": {
          "bdata": "6APQB7gLoA+IEw==",
          "dtype": "i2"
         },
         "xaxis": "x",
         "y": {
          "bdata": "MVAOLHTO6D8TSIuU8WrrPxMXeHktrug/5ldNZPi66T9bFQOie7TqPw==",
          "dtype": "f8"
         },
         "yaxis": "y"
        },
        {
         "legendgroup": "count-sketch",
         "line": {
          "color": "#FFA15A"
         },
         "name": "CountSketch",
         "showlegend": true,
         "type": "scatter",
         "x": {
          "bdata": "6APQB7gLoA+IEw==",
          "dtype": "i2"
         },
         "xaxis": "x",
         "y": {
          "bdata": "0LoKzsLs5j8VA9ECgATuP0YA9+Lau+g/xzNW77n66D+Tk7egbMfqPw==",
          "dtype": "f8"
         },
         "yaxis": "y"
        },
        {
         "legendgroup": "gaussian",
         "line": {
          "color": "#636EFA"
         },
         "name": "Gaussian",
         "showlegend": false,
         "type": "scatter",
         "x": {
          "bdata": "6APQB7gLoA+IEw==",
          "dtype": "i2"
         },
         "xaxis": "x2",
         "y": {
          "bdata": "/YjXWOpm4D9H8pFs1zrjPzqWJd9yNOE/mmQGrOzn4T+8G47J9bTiPw==",
          "dtype": "f8"
         },
         "yaxis": "y2"
        },
        {
         "legendgroup": "srht",
         "line": {
          "color": "#EF553B"
         },
         "name": "SRHT",
         "showlegend": false,
         "type": "scatter",
         "x": {
          "bdata": "6APQB7gLoA+IEw==",
          "dtype": "i2"
         },
         "xaxis": "x2",
         "y": {
          "bdata": "t+MxtM574D8UXkouHlfjPw4CS2WZGOE/4B/1MiPp4T+WYZCGcLXiPw==",
          "dtype": "f8"
         },
         "yaxis": "y2"
        },
        {
         "legendgroup": "srft",
         "line": {
          "color": "#00CC96"
         },
         "name": "SRFT",
         "showlegend": false,
         "type": "scatter",
         "x": {
          "bdata": "6APQB7gLoA+IEw==",
          "dtype": "i2"
         },
         "xaxis": "x2",
         "y": {
          "bdata": "l4653EuX4D8/UwYruUfjP1L5B1hZOeE/+u0RtvXn4T8J9bVv9rTiPw==",
          "dtype": "f8"
         },
         "yaxis": "y2"
        },
        {
         "legendgroup": "sparse-jl",
         "line": {
          "color": "#AB63FA"
         },
         "name": "Sparse JL",
         "showlegend": false,
         "type": "scatter",
         "x": {
          "bdata": "6APQB7gLoA+IEw==",
          "dtype": "i2"
         },
         "xaxis": "x2",
         "y": {
          "bdata": "wi6/9FRy5D+ejsBCyQXsP51b/Yl/mOY/sA52Uh8x5D/A7kWUH+LlPw==",
          "dtype": "f8"
         },
         "yaxis": "y2"
        },
        {
         "legendgroup": "count-sketch",
         "line": {
          "color": "#FFA15A"
         },
         "name": "CountSketch",
         "showlegend": false,
         "type": "scatter",
         "x": {
          "bdata": "6APQB7gLoA+IEw==",
          "dtype": "i2"
         },
         "xaxis": "x2",
         "y": {
          "bdata": "Ih5jh6826j9ClKG//gjyPyjGNNGjVe0/trj/dGyq7D/takA16L3uPw==",
          "dtype": "f8"
         },
         "yaxis": "y2"
        },
        {
         "legendgroup": "gaussian",
         "line": {
          "color": "#636EFA"
         },
         "name": "Gaussian",
         "showlegend": false,
         "type": "scatter",
         "x": {
          "bdata": "6APQB7gLoA+IEw==",
          "dtype": "i2"
         },
         "xaxis": "x3",
         "y": {
          "bdata": "67Q5o6YQ7z/WJL9REuzuPz5z+RwD5O4/bal8o5eh7j+zxUtZoxbvPw==",
          "dtype": "f8"
         },
         "yaxis": "y3"
        },
        {
         "legendgroup": "srht",
         "line": {
          "color": "#EF553B"
         },
         "name": "SRHT",
         "showlegend": false,
         "type": "scatter",
         "x": {
          "bdata": "6APQB7gLoA+IEw==",
          "dtype": "i2"
         },
         "xaxis": "x3",
         "y": {
          "bdata": "RhjLeWR17j/o/F6cDtPuP3OEhpdLru4/vRTH5ObI7j/FCJTKeNHuPw==",
          "dtype": "f8"
         },
         "yaxis": "y3"
        },
        {
         "legendgroup": "srft",
         "line": {
          "color": "#00CC96"
         },
         "name": "SRFT",
         "showlegend": false,
         "type": "scatter",
         "x": {
          "bdata": "6APQB7gLoA+IEw==",
          "dtype": "i2"
         },
         "xaxis": "x3",
         "y": {
          "bdata": "Zo39lc6A7j/gTvQ/I0jvPwuINTUXne4/LjGqtzqt7j8zz8SwcO7uPw==",
          "dtype": "f8"
         },
         "yaxis": "y3"
        },
        {
         "legendgroup": "sparse-jl",
         "line": {
          "color": "#AB63FA"
         },
         "name": "Sparse JL",
         "showlegend": false,
         "type": "scatter",
         "x": {
          "bdata": "6APQB7gLoA+IEw==",
          "dtype": "i2"
         },
         "xaxis": "x3",
         "y": {
          "bdata": "2rEEUddW7z8A64EL+b7uP+7fBUSH/u4/c1Xx1mA47z9bwBqhY/zuPw==",
          "dtype": "f8"
         },
         "yaxis": "y3"
        },
        {
         "legendgroup": "count-sketch",
         "line": {
          "color": "#FFA15A"
         },
         "name": "CountSketch",
         "showlegend": false,
         "type": "scatter",
         "x": {
          "bdata": "6APQB7gLoA+IEw==",
          "dtype": "i2"
         },
         "xaxis": "x3",
         "y": {
          "bdata": "jqnxqBVN7j8aWug1VTzvP9D69+0UK+8/GxeYxo8Z7z8OAq+mYjvvPw==",
          "dtype": "f8"
         },
         "yaxis": "y3"
        },
        {
         "legendgroup": "gaussian",
         "line": {
          "color": "#636EFA"
         },
         "name": "Gaussian",
         "showlegend": false,
         "type": "scatter",
         "x": {
          "bdata": "6APQB7gLoA+IEw==",
          "dtype": "i2"
         },
         "xaxis": "x4",
         "y": {
          "bdata": "cNj0amfJ7D+9GBxzKartP/PDoNiLze0/VnUkqi4N7j8bvXte25ztPw==",
          "dtype": "f8"
         },
         "yaxis": "y4"
        },
        {
         "legendgroup": "srht",
         "line": {
          "color": "#EF553B"
         },
         "name": "SRHT",
         "showlegend": false,
         "type": "scatter",
         "x": {
          "bdata": "6APQB7gLoA+IEw==",
          "dtype": "i2"
         },
         "xaxis": "x4",
         "y": {
          "bdata": "3ZPuWPeu7D+6QI+QKartP9W0RKiLze0/3Udsyer37T9rtwZh25ztPw==",
          "dtype": "f8"
         },
         "yaxis": "y4"
        },
        {
         "legendgroup": "srft",
         "line": {
          "color": "#00CC96"
         },
         "name": "SRFT",
         "showlegend": false,
         "type": "scatter",
         "x": {
          "bdata": "6APQB7gLoA+IEw==",
          "dtype": "i2"
         },
         "xaxis": "x4",
         "y": {
          "bdata": "Y0A0YPSu7D8QOnJzKartP0g6ubWLze0/gpXaAev37T++rhpo25ztPw==",
          "dtype": "f8"
         },
         "yaxis": "y4"
        },
        {
         "legendgroup": "sparse-jl",
         "line": {
          "color": "#AB63FA"
         },
         "name": "Sparse JL",
         "showlegend": false,
         "type": "scatter",
         "x": {
          "bdata": "6APQB7gLoA+IEw==",
          "dtype": "i2"
         },
         "xaxis": "x4",
         "y": {
          "bdata": "GgpOJu/S7D+qYkJrOm3tPziThuMVwe0/a/bK99bw7T+Apjws+NDtPw==",
          "dtype": "f8"
         },
         "yaxis": "y4"
        },
        {
         "legendgroup": "count-sketch",
         "line": {
          "color": "#FFA15A"
         },
         "name": "CountSketch",
         "showlegend": false,
         "type": "scatter",
         "x": {
          "bdata": "6APQB7gLoA+IEw==",
          "dtype": "i2"
         },
         "xaxis": "x4",
         "y": {
          "bdata": "YJLMMfAa7T9WPOqYNgXvP4rb0Xsm7+0/sIVpSBAC7j/4yHSLak7uPw==",
          "dtype": "f8"
         },
         "yaxis": "y4"
        },
        {
         "legendgroup": "MU",
         "line": {
          "color": "black",
          "dash": "dash"
         },
         "name": "MU",
         "showlegend": true,
         "type": "scatter",
         "x": {
          "bdata": "6APQB7gLoA+IEw==",
          "dtype": "i2"
         },
         "xaxis": "x",
         "y": {
          "bdata": "Q4/stngTyj9g1kTmcinKP46SBXejTMo/nh2CQsU0yj+Kz6OAmVfKPw==",
          "dtype": "f8"
         },
         "yaxis": "y"
        },
        {
         "legendgroup": "MU",
         "line": {
          "color": "black",
          "dash": "dash"
         },
         "name": "MU",
         "showlegend": false,
         "type": "scatter",
         "x": {
          "bdata": "6APQB7gLoA+IEw==",
          "dtype": "i2"
         },
         "xaxis": "x2",
         "y": {
          "bdata": "Q4/stngTyj9g1kTmcinKP46SBXejTMo/nh2CQsU0yj+Kz6OAmVfKPw==",
          "dtype": "f8"
         },
         "yaxis": "y2"
        },
        {
         "legendgroup": "HALS",
         "line": {
          "color": "grey",
          "dash": "dash"
         },
         "name": "HALS",
         "showlegend": true,
         "type": "scatter",
         "x": {
          "bdata": "6APQB7gLoA+IEw==",
          "dtype": "i2"
         },
         "xaxis": "x3",
         "y": {
          "bdata": "btUbmG5vyD92tQvwWZnIPykdbSCKvcg/WQiK2rmoyD8LyueKu8zIPw==",
          "dtype": "f8"
         },
         "yaxis": "y3"
        },
        {
         "legendgroup": "HALS",
         "line": {
          "color": "grey",
          "dash": "dash"
         },
         "name": "HALS",
         "showlegend": false,
         "type": "scatter",
         "x": {
          "bdata": "6APQB7gLoA+IEw==",
          "dtype": "i2"
         },
         "xaxis": "x4",
         "y": {
          "bdata": "btUbmG5vyD92tQvwWZnIPykdbSCKvcg/WQiK2rmoyD8LyueKu8zIPw==",
          "dtype": "f8"
         },
         "yaxis": "y4"
        }
       ],
       "layout": {
        "annotations": [
         {
          "font": {
           "size": 16
          },
          "showarrow": false,
          "text": "MU C",
          "x": 0.10625,
          "xanchor": "center",
          "xref": "paper",
          "y": 1,
          "yanchor": "bottom",
          "yref": "paper"
         },
         {
          "font": {
           "size": 16
          },
          "showarrow": false,
          "text": "MU SC",
          "x": 0.36875,
          "xanchor": "center",
          "xref": "paper",
          "y": 1,
          "yanchor": "bottom",
          "yref": "paper"
         },
         {
          "font": {
           "size": 16
          },
          "showarrow": false,
          "text": "HALS C",
          "x": 0.6312500000000001,
          "xanchor": "center",
          "xref": "paper",
          "y": 1,
          "yanchor": "bottom",
          "yref": "paper"
         },
         {
          "font": {
           "size": 16
          },
          "showarrow": false,
          "text": "HALS SC",
          "x": 0.89375,
          "xanchor": "center",
          "xref": "paper",
          "y": 1,
          "yanchor": "bottom",
          "yref": "paper"
         }
        ],
        "font": {
         "color": "black",
         "size": 10
        },
        "height": 400,
        "legend": {
         "orientation": "h",
         "x": 0.5,
         "xanchor": "center",
         "y": -0.2,
         "yanchor": "top"
        },
        "margin": {
         "b": 40,
         "l": 20,
         "r": 20,
         "t": 40
        },
        "template": {
         "data": {
          "bar": [
           {
            "error_x": {
             "color": "#2a3f5f"
            },
            "error_y": {
             "color": "#2a3f5f"
            },
            "marker": {
             "line": {
              "color": "white",
              "width": 0.5
             },
             "pattern": {
              "fillmode": "overlay",
              "size": 10,
              "solidity": 0.2
             }
            },
            "type": "bar"
           }
          ],
          "barpolar": [
           {
            "marker": {
             "line": {
              "color": "white",
              "width": 0.5
             },
             "pattern": {
              "fillmode": "overlay",
              "size": 10,
              "solidity": 0.2
             }
            },
            "type": "barpolar"
           }
          ],
          "carpet": [
           {
            "aaxis": {
             "endlinecolor": "#2a3f5f",
             "gridcolor": "#C8D4E3",
             "linecolor": "#C8D4E3",
             "minorgridcolor": "#C8D4E3",
             "startlinecolor": "#2a3f5f"
            },
            "baxis": {
             "endlinecolor": "#2a3f5f",
             "gridcolor": "#C8D4E3",
             "linecolor": "#C8D4E3",
             "minorgridcolor": "#C8D4E3",
             "startlinecolor": "#2a3f5f"
            },
            "type": "carpet"
           }
          ],
          "choropleth": [
           {
            "colorbar": {
             "outlinewidth": 0,
             "ticks": ""
            },
            "type": "choropleth"
           }
          ],
          "contour": [
           {
            "colorbar": {
             "outlinewidth": 0,
             "ticks": ""
            },
            "colorscale": [
             [
              0,
              "#0d0887"
             ],
             [
              0.1111111111111111,
              "#46039f"
             ],
             [
              0.2222222222222222,
              "#7201a8"
             ],
             [
              0.3333333333333333,
              "#9c179e"
             ],
             [
              0.4444444444444444,
              "#bd3786"
             ],
             [
              0.5555555555555556,
              "#d8576b"
             ],
             [
              0.6666666666666666,
              "#ed7953"
             ],
             [
              0.7777777777777778,
              "#fb9f3a"
             ],
             [
              0.8888888888888888,
              "#fdca26"
             ],
             [
              1,
              "#f0f921"
             ]
            ],
            "type": "contour"
           }
          ],
          "contourcarpet": [
           {
            "colorbar": {
             "outlinewidth": 0,
             "ticks": ""
            },
            "type": "contourcarpet"
           }
          ],
          "heatmap": [
           {
            "colorbar": {
             "outlinewidth": 0,
             "ticks": ""
            },
            "colorscale": [
             [
              0,
              "#0d0887"
             ],
             [
              0.1111111111111111,
              "#46039f"
             ],
             [
              0.2222222222222222,
              "#7201a8"
             ],
             [
              0.3333333333333333,
              "#9c179e"
             ],
             [
              0.4444444444444444,
              "#bd3786"
             ],
             [
              0.5555555555555556,
              "#d8576b"
             ],
             [
              0.6666666666666666,
              "#ed7953"
             ],
             [
              0.7777777777777778,
              "#fb9f3a"
             ],
             [
              0.8888888888888888,
              "#fdca26"
             ],
             [
              1,
              "#f0f921"
             ]
            ],
            "type": "heatmap"
           }
          ],
          "histogram": [
           {
            "marker": {
             "pattern": {
              "fillmode": "overlay",
              "size": 10,
              "solidity": 0.2
             }
            },
            "type": "histogram"
           }
          ],
          "histogram2d": [
           {
            "colorbar": {
             "outlinewidth": 0,
             "ticks": ""
            },
            "colorscale": [
             [
              0,
              "#0d0887"
             ],
             [
              0.1111111111111111,
              "#46039f"
             ],
             [
              0.2222222222222222,
              "#7201a8"
             ],
             [
              0.3333333333333333,
              "#9c179e"
             ],
             [
              0.4444444444444444,
              "#bd3786"
             ],
             [
              0.5555555555555556,
              "#d8576b"
             ],
             [
              0.6666666666666666,
              "#ed7953"
             ],
             [
              0.7777777777777778,
              "#fb9f3a"
             ],
             [
              0.8888888888888888,
              "#fdca26"
             ],
             [
              1,
              "#f0f921"
             ]
            ],
            "type": "histogram2d"
           }
          ],
          "histogram2dcontour": [
           {
            "colorbar": {
             "outlinewidth": 0,
             "ticks": ""
            },
            "colorscale": [
             [
              0,
              "#0d0887"
             ],
             [
              0.1111111111111111,
              "#46039f"
             ],
             [
              0.2222222222222222,
              "#7201a8"
             ],
             [
              0.3333333333333333,
              "#9c179e"
             ],
             [
              0.4444444444444444,
              "#bd3786"
             ],
             [
              0.5555555555555556,
              "#d8576b"
             ],
             [
              0.6666666666666666,
              "#ed7953"
             ],
             [
              0.7777777777777778,
              "#fb9f3a"
             ],
             [
              0.8888888888888888,
              "#fdca26"
             ],
             [
              1,
              "#f0f921"
             ]
            ],
            "type": "histogram2dcontour"
           }
          ],
          "mesh3d": [
           {
            "colorbar": {
             "outlinewidth": 0,
             "ticks": ""
            },
            "type": "mesh3d"
           }
          ],
          "parcoords": [
           {
            "line": {
             "colorbar": {
              "outlinewidth": 0,
              "ticks": ""
             }
            },
            "type": "parcoords"
           }
          ],
          "pie": [
           {
            "automargin": true,
            "type": "pie"
           }
          ],
          "scatter": [
           {
            "fillpattern": {
             "fillmode": "overlay",
             "size": 10,
             "solidity": 0.2
            },
            "type": "scatter"
           }
          ],
          "scatter3d": [
           {
            "line": {
             "colorbar": {
              "outlinewidth": 0,
              "ticks": ""
             }
            },
            "marker": {
             "colorbar": {
              "outlinewidth": 0,
              "ticks": ""
             }
            },
            "type": "scatter3d"
           }
          ],
          "scattercarpet": [
           {
            "marker": {
             "colorbar": {
              "outlinewidth": 0,
              "ticks": ""
             }
            },
            "type": "scattercarpet"
           }
          ],
          "scattergeo": [
           {
            "marker": {
             "colorbar": {
              "outlinewidth": 0,
              "ticks": ""
             }
            },
            "type": "scattergeo"
           }
          ],
          "scattergl": [
           {
            "marker": {
             "colorbar": {
              "outlinewidth": 0,
              "ticks": ""
             }
            },
            "type": "scattergl"
           }
          ],
          "scattermap": [
           {
            "marker": {
             "colorbar": {
              "outlinewidth": 0,
              "ticks": ""
             }
            },
            "type": "scattermap"
           }
          ],
          "scattermapbox": [
           {
            "marker": {
             "colorbar": {
              "outlinewidth": 0,
              "ticks": ""
             }
            },
            "type": "scattermapbox"
           }
          ],
          "scatterpolar": [
           {
            "marker": {
             "colorbar": {
              "outlinewidth": 0,
              "ticks": ""
             }
            },
            "type": "scatterpolar"
           }
          ],
          "scatterpolargl": [
           {
            "marker": {
             "colorbar": {
              "outlinewidth": 0,
              "ticks": ""
             }
            },
            "type": "scatterpolargl"
           }
          ],
          "scatterternary": [
           {
            "marker": {
             "colorbar": {
              "outlinewidth": 0,
              "ticks": ""
             }
            },
            "type": "scatterternary"
           }
          ],
          "surface": [
           {
            "colorbar": {
             "outlinewidth": 0,
             "ticks": ""
            },
            "colorscale": [
             [
              0,
              "#0d0887"
             ],
             [
              0.1111111111111111,
              "#46039f"
             ],
             [
              0.2222222222222222,
              "#7201a8"
             ],
             [
              0.3333333333333333,
              "#9c179e"
             ],
             [
              0.4444444444444444,
              "#bd3786"
             ],
             [
              0.5555555555555556,
              "#d8576b"
             ],
             [
              0.6666666666666666,
              "#ed7953"
             ],
             [
              0.7777777777777778,
              "#fb9f3a"
             ],
             [
              0.8888888888888888,
              "#fdca26"
             ],
             [
              1,
              "#f0f921"
             ]
            ],
            "type": "surface"
           }
          ],
          "table": [
           {
            "cells": {
             "fill": {
              "color": "#EBF0F8"
             },
             "line": {
              "color": "white"
             }
            },
            "header": {
             "fill": {
              "color": "#C8D4E3"
             },
             "line": {
              "color": "white"
             }
            },
            "type": "table"
           }
          ]
         },
         "layout": {
          "annotationdefaults": {
           "arrowcolor": "#2a3f5f",
           "arrowhead": 0,
           "arrowwidth": 1
          },
          "autotypenumbers": "strict",
          "coloraxis": {
           "colorbar": {
            "outlinewidth": 0,
            "ticks": ""
           }
          },
          "colorscale": {
           "diverging": [
            [
             0,
             "#8e0152"
            ],
            [
             0.1,
             "#c51b7d"
            ],
            [
             0.2,
             "#de77ae"
            ],
            [
             0.3,
             "#f1b6da"
            ],
            [
             0.4,
             "#fde0ef"
            ],
            [
             0.5,
             "#f7f7f7"
            ],
            [
             0.6,
             "#e6f5d0"
            ],
            [
             0.7,
             "#b8e186"
            ],
            [
             0.8,
             "#7fbc41"
            ],
            [
             0.9,
             "#4d9221"
            ],
            [
             1,
             "#276419"
            ]
           ],
           "sequential": [
            [
             0,
             "#0d0887"
            ],
            [
             0.1111111111111111,
             "#46039f"
            ],
            [
             0.2222222222222222,
             "#7201a8"
            ],
            [
             0.3333333333333333,
             "#9c179e"
            ],
            [
             0.4444444444444444,
             "#bd3786"
            ],
            [
             0.5555555555555556,
             "#d8576b"
            ],
            [
             0.6666666666666666,
             "#ed7953"
            ],
            [
             0.7777777777777778,
             "#fb9f3a"
            ],
            [
             0.8888888888888888,
             "#fdca26"
            ],
            [
             1,
             "#f0f921"
            ]
           ],
           "sequentialminus": [
            [
             0,
             "#0d0887"
            ],
            [
             0.1111111111111111,
             "#46039f"
            ],
            [
             0.2222222222222222,
             "#7201a8"
            ],
            [
             0.3333333333333333,
             "#9c179e"
            ],
            [
             0.4444444444444444,
             "#bd3786"
            ],
            [
             0.5555555555555556,
             "#d8576b"
            ],
            [
             0.6666666666666666,
             "#ed7953"
            ],
            [
             0.7777777777777778,
             "#fb9f3a"
            ],
            [
             0.8888888888888888,
             "#fdca26"
            ],
            [
             1,
             "#f0f921"
            ]
           ]
          },
          "colorway": [
           "#636efa",
           "#EF553B",
           "#00cc96",
           "#ab63fa",
           "#FFA15A",
           "#19d3f3",
           "#FF6692",
           "#B6E880",
           "#FF97FF",
           "#FECB52"
          ],
          "font": {
           "color": "#2a3f5f"
          },
          "geo": {
           "bgcolor": "white",
           "lakecolor": "white",
           "landcolor": "white",
           "showlakes": true,
           "showland": true,
           "subunitcolor": "#C8D4E3"
          },
          "hoverlabel": {
           "align": "left"
          },
          "hovermode": "closest",
          "mapbox": {
           "style": "light"
          },
          "paper_bgcolor": "white",
          "plot_bgcolor": "white",
          "polar": {
           "angularaxis": {
            "gridcolor": "#EBF0F8",
            "linecolor": "#EBF0F8",
            "ticks": ""
           },
           "bgcolor": "white",
           "radialaxis": {
            "gridcolor": "#EBF0F8",
            "linecolor": "#EBF0F8",
            "ticks": ""
           }
          },
          "scene": {
           "xaxis": {
            "backgroundcolor": "white",
            "gridcolor": "#DFE8F3",
            "gridwidth": 2,
            "linecolor": "#EBF0F8",
            "showbackground": true,
            "ticks": "",
            "zerolinecolor": "#EBF0F8"
           },
           "yaxis": {
            "backgroundcolor": "white",
            "gridcolor": "#DFE8F3",
            "gridwidth": 2,
            "linecolor": "#EBF0F8",
            "showbackground": true,
            "ticks": "",
            "zerolinecolor": "#EBF0F8"
           },
           "zaxis": {
            "backgroundcolor": "white",
            "gridcolor": "#DFE8F3",
            "gridwidth": 2,
            "linecolor": "#EBF0F8",
            "showbackground": true,
            "ticks": "",
            "zerolinecolor": "#EBF0F8"
           }
          },
          "shapedefaults": {
           "line": {
            "color": "#2a3f5f"
           }
          },
          "ternary": {
           "aaxis": {
            "gridcolor": "#DFE8F3",
            "linecolor": "#A2B1C6",
            "ticks": ""
           },
           "baxis": {
            "gridcolor": "#DFE8F3",
            "linecolor": "#A2B1C6",
            "ticks": ""
           },
           "bgcolor": "white",
           "caxis": {
            "gridcolor": "#DFE8F3",
            "linecolor": "#A2B1C6",
            "ticks": ""
           }
          },
          "title": {
           "x": 0.05
          },
          "xaxis": {
           "automargin": true,
           "gridcolor": "#EBF0F8",
           "linecolor": "#EBF0F8",
           "ticks": "",
           "title": {
            "standoff": 15
           },
           "zerolinecolor": "#EBF0F8",
           "zerolinewidth": 2
          },
          "yaxis": {
           "automargin": true,
           "gridcolor": "#EBF0F8",
           "linecolor": "#EBF0F8",
           "ticks": "",
           "title": {
            "standoff": 15
           },
           "zerolinecolor": "#EBF0F8",
           "zerolinewidth": 2
          }
         }
        },
        "width": 800,
        "xaxis": {
         "anchor": "y",
         "domain": [
          0,
          0.2125
         ],
         "title": {
          "text": "Size (n)"
         }
        },
        "xaxis2": {
         "anchor": "y2",
         "domain": [
          0.2625,
          0.475
         ],
         "title": {
          "text": "Size (n)"
         }
        },
        "xaxis3": {
         "anchor": "y3",
         "domain": [
          0.525,
          0.7375
         ],
         "title": {
          "text": "Size (n)"
         }
        },
        "xaxis4": {
         "anchor": "y4",
         "domain": [
          0.7875,
          1
         ],
         "title": {
          "text": "Size (n)"
         }
        },
        "yaxis": {
         "anchor": "x",
         "domain": [
          0,
          1
         ],
         "title": {
          "text": "Error"
         }
        },
        "yaxis2": {
         "anchor": "x2",
         "domain": [
          0,
          1
         ],
         "matches": "y",
         "showticklabels": false,
         "title": {
          "text": "Error"
         }
        },
        "yaxis3": {
         "anchor": "x3",
         "domain": [
          0,
          1
         ],
         "matches": "y",
         "showticklabels": false,
         "title": {
          "text": "Error"
         }
        },
        "yaxis4": {
         "anchor": "x4",
         "domain": [
          0,
          1
         ],
         "matches": "y",
         "showticklabels": false,
         "title": {
          "text": "Error"
         }
        }
       }
      }
     },
     "metadata": {},
     "output_type": "display_data"
    }
   ],
   "source": [
    "dense = stats[(stats['Density'] == 'sparse') & (stats['Projection Type'] != '')]\n",
    "\n",
    "fig = make_subplots(rows = 1,cols = 4,shared_xaxes = True,shared_yaxes=True,subplot_titles=dense['Method'].unique())\n",
    "\n",
    "\n",
    "for i, method in enumerate(dense['Method'].unique()):\n",
    "    for j, projection in enumerate(dense['Projection Type'].unique()):\n",
    "        _df = dense[(dense['Method'] == method) & (dense['Projection Type'] == projection)]\n",
    "        fig.add_trace(\n",
    "            go.Scatter(\n",
    "                x = _df['Size'],\n",
    "                y = _df['Errors'],\n",
    "                name = names[projection],\n",
    "                legendgroup=projection,  # Group by projection type\n",
    "                line_color=method_colors[projection],  # Color by projection\n",
    "                showlegend = (i == 0),\n",
    "            ),\n",
    "            row = 1, col = i + 1,\n",
    "            \n",
    "        )\n",
    "\n",
    "mu_dense = stats[(stats['Method'] == 'MU') & (stats['Density'] == \"dense\")]\n",
    "\n",
    "for i in range(2):\n",
    "    fig.add_trace(\n",
    "        go.Scatter(\n",
    "            x = mu_dense['Size'],\n",
    "            y = mu_dense['Errors'],\n",
    "            name = 'MU',\n",
    "            showlegend = (i == 0),\n",
    "            line = dict(color='black',dash='dash'),\n",
    "            legendgroup = 'MU'\n",
    "        ),\n",
    "        row = 1,col= i+1\n",
    "    )\n",
    "\n",
    "\n",
    "hals_dense = stats[(stats['Method'] == 'HALS') & (stats['Density'] == \"dense\")]\n",
    "for i in range(2,4):\n",
    "    fig.add_trace(\n",
    "        go.Scatter(\n",
    "            x = hals_dense['Size'],\n",
    "            y = hals_dense['Errors'],\n",
    "            name = 'HALS',\n",
    "            showlegend = (i == 2),\n",
    "            line = dict(color='grey',dash='dash'),\n",
    "            legendgroup = 'HALS'\n",
    "        ),\n",
    "        row = 1,col= i+1\n",
    "    )\n",
    "\n",
    "\n",
    "fig.update_layout(\n",
    "    xaxis1_title = 'Size (n)',\n",
    "    yaxis1_title = 'Error',\n",
    "    xaxis2_title = 'Size (n)',\n",
    "    yaxis2_title = 'Error',\n",
    "    xaxis3_title = 'Size (n)',\n",
    "    yaxis3_title = 'Error',\n",
    "    xaxis4_title = 'Size (n)',\n",
    "    yaxis4_title = 'Error',\n",
    "    template = 'plotly_white',\n",
    "    legend=dict(\n",
    "        orientation=\"h\",  # horizontal\n",
    "        y=-0.2,           # move legend below the plot\n",
    "        x=0.5,\n",
    "        xanchor=\"center\",\n",
    "        yanchor=\"top\"\n",
    "    ),\n",
    "    font=dict(\n",
    "        size=10,color='black'\n",
    "    ),\n",
    "    margin=dict(\n",
    "        l=20,  # left margin\n",
    "        r=20,  # right margin\n",
    "        t=40,  # top margin\n",
    "        b=40   # bottom margin\n",
    "    ), \n",
    "    width = 800,\n",
    "    height = 400\n",
    ")\n",
    "fig.show()"
   ]
  },
  {
   "cell_type": "markdown",
   "id": "5e89a7a1",
   "metadata": {},
   "source": [
    "*ii) sparse*"
   ]
  },
  {
   "cell_type": "code",
   "execution_count": 35,
   "id": "c2367673",
   "metadata": {},
   "outputs": [
    {
     "data": {
      "application/vnd.plotly.v1+json": {
       "config": {
        "plotlyServerURL": "https://plot.ly"
       },
       "data": [
        {
         "legendgroup": "gaussian",
         "line": {
          "color": "#636EFA"
         },
         "name": "Gaussian",
         "showlegend": true,
         "type": "scatter",
         "x": {
          "bdata": "6APQB7gLoA+IEw==",
          "dtype": "i2"
         },
         "xaxis": "x",
         "y": {
          "bdata": "/icloZWw5j+I2nQADovqP5D6EIsnbuo/yKYom2T86j+jvAYbSWTrPw==",
          "dtype": "f8"
         },
         "yaxis": "y"
        },
        {
         "legendgroup": "srht",
         "line": {
          "color": "#EF553B"
         },
         "name": "SRHT",
         "showlegend": true,
         "type": "scatter",
         "x": {
          "bdata": "6APQB7gLoA+IEw==",
          "dtype": "i2"
         },
         "xaxis": "x",
         "y": {
          "bdata": "JmtDOJRH5D+x9saKejfoP2O85alujuk/4MWOe3x06z/+OW8E87TsPw==",
          "dtype": "f8"
         },
         "yaxis": "y"
        },
        {
         "legendgroup": "srft",
         "line": {
          "color": "#00CC96"
         },
         "name": "SRFT",
         "showlegend": true,
         "type": "scatter",
         "x": {
          "bdata": "6APQB7gLoA+IEw==",
          "dtype": "i2"
         },
         "xaxis": "x",
         "y": {
          "bdata": "7gVHqJV15z/Vic7eyNjqP93h1M5UI+w/w08WXC047j8zm6b9Ll3uPw==",
          "dtype": "f8"
         },
         "yaxis": "y"
        },
        {
         "legendgroup": "sparse-jl",
         "line": {
          "color": "#AB63FA"
         },
         "name": "Sparse JL",
         "showlegend": true,
         "type": "scatter",
         "x": {
          "bdata": "6APQB7gLoA+IEw==",
          "dtype": "i2"
         },
         "xaxis": "x",
         "y": {
          "bdata": "MVAOLHTO6D8TSIuU8WrrPxMXeHktrug/5ldNZPi66T9bFQOie7TqPw==",
          "dtype": "f8"
         },
         "yaxis": "y"
        },
        {
         "legendgroup": "count-sketch",
         "line": {
          "color": "#FFA15A"
         },
         "name": "CountSketch",
         "showlegend": true,
         "type": "scatter",
         "x": {
          "bdata": "6APQB7gLoA+IEw==",
          "dtype": "i2"
         },
         "xaxis": "x",
         "y": {
          "bdata": "0LoKzsLs5j8VA9ECgATuP0YA9+Lau+g/xzNW77n66D+Tk7egbMfqPw==",
          "dtype": "f8"
         },
         "yaxis": "y"
        },
        {
         "legendgroup": "gaussian",
         "line": {
          "color": "#636EFA"
         },
         "name": "Gaussian",
         "showlegend": false,
         "type": "scatter",
         "x": {
          "bdata": "6APQB7gLoA+IEw==",
          "dtype": "i2"
         },
         "xaxis": "x2",
         "y": {
          "bdata": "/YjXWOpm4D9H8pFs1zrjPzqWJd9yNOE/mmQGrOzn4T+8G47J9bTiPw==",
          "dtype": "f8"
         },
         "yaxis": "y2"
        },
        {
         "legendgroup": "srht",
         "line": {
          "color": "#EF553B"
         },
         "name": "SRHT",
         "showlegend": false,
         "type": "scatter",
         "x": {
          "bdata": "6APQB7gLoA+IEw==",
          "dtype": "i2"
         },
         "xaxis": "x2",
         "y": {
          "bdata": "t+MxtM574D8UXkouHlfjPw4CS2WZGOE/4B/1MiPp4T+WYZCGcLXiPw==",
          "dtype": "f8"
         },
         "yaxis": "y2"
        },
        {
         "legendgroup": "srft",
         "line": {
          "color": "#00CC96"
         },
         "name": "SRFT",
         "showlegend": false,
         "type": "scatter",
         "x": {
          "bdata": "6APQB7gLoA+IEw==",
          "dtype": "i2"
         },
         "xaxis": "x2",
         "y": {
          "bdata": "l4653EuX4D8/UwYruUfjP1L5B1hZOeE/+u0RtvXn4T8J9bVv9rTiPw==",
          "dtype": "f8"
         },
         "yaxis": "y2"
        },
        {
         "legendgroup": "sparse-jl",
         "line": {
          "color": "#AB63FA"
         },
         "name": "Sparse JL",
         "showlegend": false,
         "type": "scatter",
         "x": {
          "bdata": "6APQB7gLoA+IEw==",
          "dtype": "i2"
         },
         "xaxis": "x2",
         "y": {
          "bdata": "wi6/9FRy5D+ejsBCyQXsP51b/Yl/mOY/sA52Uh8x5D/A7kWUH+LlPw==",
          "dtype": "f8"
         },
         "yaxis": "y2"
        },
        {
         "legendgroup": "count-sketch",
         "line": {
          "color": "#FFA15A"
         },
         "name": "CountSketch",
         "showlegend": false,
         "type": "scatter",
         "x": {
          "bdata": "6APQB7gLoA+IEw==",
          "dtype": "i2"
         },
         "xaxis": "x2",
         "y": {
          "bdata": "Ih5jh6826j9ClKG//gjyPyjGNNGjVe0/trj/dGyq7D/takA16L3uPw==",
          "dtype": "f8"
         },
         "yaxis": "y2"
        },
        {
         "legendgroup": "gaussian",
         "line": {
          "color": "#636EFA"
         },
         "name": "Gaussian",
         "showlegend": false,
         "type": "scatter",
         "x": {
          "bdata": "6APQB7gLoA+IEw==",
          "dtype": "i2"
         },
         "xaxis": "x3",
         "y": {
          "bdata": "67Q5o6YQ7z/WJL9REuzuPz5z+RwD5O4/bal8o5eh7j+zxUtZoxbvPw==",
          "dtype": "f8"
         },
         "yaxis": "y3"
        },
        {
         "legendgroup": "srht",
         "line": {
          "color": "#EF553B"
         },
         "name": "SRHT",
         "showlegend": false,
         "type": "scatter",
         "x": {
          "bdata": "6APQB7gLoA+IEw==",
          "dtype": "i2"
         },
         "xaxis": "x3",
         "y": {
          "bdata": "RhjLeWR17j/o/F6cDtPuP3OEhpdLru4/vRTH5ObI7j/FCJTKeNHuPw==",
          "dtype": "f8"
         },
         "yaxis": "y3"
        },
        {
         "legendgroup": "srft",
         "line": {
          "color": "#00CC96"
         },
         "name": "SRFT",
         "showlegend": false,
         "type": "scatter",
         "x": {
          "bdata": "6APQB7gLoA+IEw==",
          "dtype": "i2"
         },
         "xaxis": "x3",
         "y": {
          "bdata": "Zo39lc6A7j/gTvQ/I0jvPwuINTUXne4/LjGqtzqt7j8zz8SwcO7uPw==",
          "dtype": "f8"
         },
         "yaxis": "y3"
        },
        {
         "legendgroup": "sparse-jl",
         "line": {
          "color": "#AB63FA"
         },
         "name": "Sparse JL",
         "showlegend": false,
         "type": "scatter",
         "x": {
          "bdata": "6APQB7gLoA+IEw==",
          "dtype": "i2"
         },
         "xaxis": "x3",
         "y": {
          "bdata": "2rEEUddW7z8A64EL+b7uP+7fBUSH/u4/c1Xx1mA47z9bwBqhY/zuPw==",
          "dtype": "f8"
         },
         "yaxis": "y3"
        },
        {
         "legendgroup": "count-sketch",
         "line": {
          "color": "#FFA15A"
         },
         "name": "CountSketch",
         "showlegend": false,
         "type": "scatter",
         "x": {
          "bdata": "6APQB7gLoA+IEw==",
          "dtype": "i2"
         },
         "xaxis": "x3",
         "y": {
          "bdata": "jqnxqBVN7j8aWug1VTzvP9D69+0UK+8/GxeYxo8Z7z8OAq+mYjvvPw==",
          "dtype": "f8"
         },
         "yaxis": "y3"
        },
        {
         "legendgroup": "gaussian",
         "line": {
          "color": "#636EFA"
         },
         "name": "Gaussian",
         "showlegend": false,
         "type": "scatter",
         "x": {
          "bdata": "6APQB7gLoA+IEw==",
          "dtype": "i2"
         },
         "xaxis": "x4",
         "y": {
          "bdata": "cNj0amfJ7D+9GBxzKartP/PDoNiLze0/VnUkqi4N7j8bvXte25ztPw==",
          "dtype": "f8"
         },
         "yaxis": "y4"
        },
        {
         "legendgroup": "srht",
         "line": {
          "color": "#EF553B"
         },
         "name": "SRHT",
         "showlegend": false,
         "type": "scatter",
         "x": {
          "bdata": "6APQB7gLoA+IEw==",
          "dtype": "i2"
         },
         "xaxis": "x4",
         "y": {
          "bdata": "3ZPuWPeu7D+6QI+QKartP9W0RKiLze0/3Udsyer37T9rtwZh25ztPw==",
          "dtype": "f8"
         },
         "yaxis": "y4"
        },
        {
         "legendgroup": "srft",
         "line": {
          "color": "#00CC96"
         },
         "name": "SRFT",
         "showlegend": false,
         "type": "scatter",
         "x": {
          "bdata": "6APQB7gLoA+IEw==",
          "dtype": "i2"
         },
         "xaxis": "x4",
         "y": {
          "bdata": "Y0A0YPSu7D8QOnJzKartP0g6ubWLze0/gpXaAev37T++rhpo25ztPw==",
          "dtype": "f8"
         },
         "yaxis": "y4"
        },
        {
         "legendgroup": "sparse-jl",
         "line": {
          "color": "#AB63FA"
         },
         "name": "Sparse JL",
         "showlegend": false,
         "type": "scatter",
         "x": {
          "bdata": "6APQB7gLoA+IEw==",
          "dtype": "i2"
         },
         "xaxis": "x4",
         "y": {
          "bdata": "GgpOJu/S7D+qYkJrOm3tPziThuMVwe0/a/bK99bw7T+Apjws+NDtPw==",
          "dtype": "f8"
         },
         "yaxis": "y4"
        },
        {
         "legendgroup": "count-sketch",
         "line": {
          "color": "#FFA15A"
         },
         "name": "CountSketch",
         "showlegend": false,
         "type": "scatter",
         "x": {
          "bdata": "6APQB7gLoA+IEw==",
          "dtype": "i2"
         },
         "xaxis": "x4",
         "y": {
          "bdata": "YJLMMfAa7T9WPOqYNgXvP4rb0Xsm7+0/sIVpSBAC7j/4yHSLak7uPw==",
          "dtype": "f8"
         },
         "yaxis": "y4"
        },
        {
         "legendgroup": "MU",
         "line": {
          "color": "black",
          "dash": "dash"
         },
         "name": "MU",
         "showlegend": true,
         "type": "scatter",
         "x": {
          "bdata": "6APQB7gLoA+IEw==",
          "dtype": "i2"
         },
         "xaxis": "x",
         "y": {
          "bdata": "Nhzbe5094D8qE+t0iYzjP3LMUajzIeE/vn4YC5c44j8mqzAXbjXiPw==",
          "dtype": "f8"
         },
         "yaxis": "y"
        },
        {
         "legendgroup": "MU",
         "line": {
          "color": "black",
          "dash": "dash"
         },
         "name": "MU",
         "showlegend": false,
         "type": "scatter",
         "x": {
          "bdata": "6APQB7gLoA+IEw==",
          "dtype": "i2"
         },
         "xaxis": "x2",
         "y": {
          "bdata": "Nhzbe5094D8qE+t0iYzjP3LMUajzIeE/vn4YC5c44j8mqzAXbjXiPw==",
          "dtype": "f8"
         },
         "yaxis": "y2"
        },
        {
         "legendgroup": "HALS",
         "line": {
          "color": "grey",
          "dash": "dash"
         },
         "name": "HALS",
         "showlegend": true,
         "type": "scatter",
         "x": {
          "bdata": "6APQB7gLoA+IEw==",
          "dtype": "i2"
         },
         "xaxis": "x3",
         "y": {
          "bdata": "uHRlhPyk7T/OFrvKVnfuP1qedWwvEe4/QA2PWsA27j+y1b3tRzDuPw==",
          "dtype": "f8"
         },
         "yaxis": "y3"
        },
        {
         "legendgroup": "HALS",
         "line": {
          "color": "grey",
          "dash": "dash"
         },
         "name": "HALS",
         "showlegend": false,
         "type": "scatter",
         "x": {
          "bdata": "6APQB7gLoA+IEw==",
          "dtype": "i2"
         },
         "xaxis": "x4",
         "y": {
          "bdata": "uHRlhPyk7T/OFrvKVnfuP1qedWwvEe4/QA2PWsA27j+y1b3tRzDuPw==",
          "dtype": "f8"
         },
         "yaxis": "y4"
        }
       ],
       "layout": {
        "annotations": [
         {
          "font": {
           "size": 16
          },
          "showarrow": false,
          "text": "MU C",
          "x": 0.10625,
          "xanchor": "center",
          "xref": "paper",
          "y": 1,
          "yanchor": "bottom",
          "yref": "paper"
         },
         {
          "font": {
           "size": 16
          },
          "showarrow": false,
          "text": "MU SC",
          "x": 0.36875,
          "xanchor": "center",
          "xref": "paper",
          "y": 1,
          "yanchor": "bottom",
          "yref": "paper"
         },
         {
          "font": {
           "size": 16
          },
          "showarrow": false,
          "text": "HALS C",
          "x": 0.6312500000000001,
          "xanchor": "center",
          "xref": "paper",
          "y": 1,
          "yanchor": "bottom",
          "yref": "paper"
         },
         {
          "font": {
           "size": 16
          },
          "showarrow": false,
          "text": "HALS SC",
          "x": 0.89375,
          "xanchor": "center",
          "xref": "paper",
          "y": 1,
          "yanchor": "bottom",
          "yref": "paper"
         }
        ],
        "font": {
         "color": "black",
         "size": 10
        },
        "height": 400,
        "legend": {
         "orientation": "h",
         "x": 0.5,
         "xanchor": "center",
         "y": -0.2,
         "yanchor": "top"
        },
        "margin": {
         "b": 40,
         "l": 20,
         "r": 20,
         "t": 40
        },
        "template": {
         "data": {
          "bar": [
           {
            "error_x": {
             "color": "#2a3f5f"
            },
            "error_y": {
             "color": "#2a3f5f"
            },
            "marker": {
             "line": {
              "color": "white",
              "width": 0.5
             },
             "pattern": {
              "fillmode": "overlay",
              "size": 10,
              "solidity": 0.2
             }
            },
            "type": "bar"
           }
          ],
          "barpolar": [
           {
            "marker": {
             "line": {
              "color": "white",
              "width": 0.5
             },
             "pattern": {
              "fillmode": "overlay",
              "size": 10,
              "solidity": 0.2
             }
            },
            "type": "barpolar"
           }
          ],
          "carpet": [
           {
            "aaxis": {
             "endlinecolor": "#2a3f5f",
             "gridcolor": "#C8D4E3",
             "linecolor": "#C8D4E3",
             "minorgridcolor": "#C8D4E3",
             "startlinecolor": "#2a3f5f"
            },
            "baxis": {
             "endlinecolor": "#2a3f5f",
             "gridcolor": "#C8D4E3",
             "linecolor": "#C8D4E3",
             "minorgridcolor": "#C8D4E3",
             "startlinecolor": "#2a3f5f"
            },
            "type": "carpet"
           }
          ],
          "choropleth": [
           {
            "colorbar": {
             "outlinewidth": 0,
             "ticks": ""
            },
            "type": "choropleth"
           }
          ],
          "contour": [
           {
            "colorbar": {
             "outlinewidth": 0,
             "ticks": ""
            },
            "colorscale": [
             [
              0,
              "#0d0887"
             ],
             [
              0.1111111111111111,
              "#46039f"
             ],
             [
              0.2222222222222222,
              "#7201a8"
             ],
             [
              0.3333333333333333,
              "#9c179e"
             ],
             [
              0.4444444444444444,
              "#bd3786"
             ],
             [
              0.5555555555555556,
              "#d8576b"
             ],
             [
              0.6666666666666666,
              "#ed7953"
             ],
             [
              0.7777777777777778,
              "#fb9f3a"
             ],
             [
              0.8888888888888888,
              "#fdca26"
             ],
             [
              1,
              "#f0f921"
             ]
            ],
            "type": "contour"
           }
          ],
          "contourcarpet": [
           {
            "colorbar": {
             "outlinewidth": 0,
             "ticks": ""
            },
            "type": "contourcarpet"
           }
          ],
          "heatmap": [
           {
            "colorbar": {
             "outlinewidth": 0,
             "ticks": ""
            },
            "colorscale": [
             [
              0,
              "#0d0887"
             ],
             [
              0.1111111111111111,
              "#46039f"
             ],
             [
              0.2222222222222222,
              "#7201a8"
             ],
             [
              0.3333333333333333,
              "#9c179e"
             ],
             [
              0.4444444444444444,
              "#bd3786"
             ],
             [
              0.5555555555555556,
              "#d8576b"
             ],
             [
              0.6666666666666666,
              "#ed7953"
             ],
             [
              0.7777777777777778,
              "#fb9f3a"
             ],
             [
              0.8888888888888888,
              "#fdca26"
             ],
             [
              1,
              "#f0f921"
             ]
            ],
            "type": "heatmap"
           }
          ],
          "histogram": [
           {
            "marker": {
             "pattern": {
              "fillmode": "overlay",
              "size": 10,
              "solidity": 0.2
             }
            },
            "type": "histogram"
           }
          ],
          "histogram2d": [
           {
            "colorbar": {
             "outlinewidth": 0,
             "ticks": ""
            },
            "colorscale": [
             [
              0,
              "#0d0887"
             ],
             [
              0.1111111111111111,
              "#46039f"
             ],
             [
              0.2222222222222222,
              "#7201a8"
             ],
             [
              0.3333333333333333,
              "#9c179e"
             ],
             [
              0.4444444444444444,
              "#bd3786"
             ],
             [
              0.5555555555555556,
              "#d8576b"
             ],
             [
              0.6666666666666666,
              "#ed7953"
             ],
             [
              0.7777777777777778,
              "#fb9f3a"
             ],
             [
              0.8888888888888888,
              "#fdca26"
             ],
             [
              1,
              "#f0f921"
             ]
            ],
            "type": "histogram2d"
           }
          ],
          "histogram2dcontour": [
           {
            "colorbar": {
             "outlinewidth": 0,
             "ticks": ""
            },
            "colorscale": [
             [
              0,
              "#0d0887"
             ],
             [
              0.1111111111111111,
              "#46039f"
             ],
             [
              0.2222222222222222,
              "#7201a8"
             ],
             [
              0.3333333333333333,
              "#9c179e"
             ],
             [
              0.4444444444444444,
              "#bd3786"
             ],
             [
              0.5555555555555556,
              "#d8576b"
             ],
             [
              0.6666666666666666,
              "#ed7953"
             ],
             [
              0.7777777777777778,
              "#fb9f3a"
             ],
             [
              0.8888888888888888,
              "#fdca26"
             ],
             [
              1,
              "#f0f921"
             ]
            ],
            "type": "histogram2dcontour"
           }
          ],
          "mesh3d": [
           {
            "colorbar": {
             "outlinewidth": 0,
             "ticks": ""
            },
            "type": "mesh3d"
           }
          ],
          "parcoords": [
           {
            "line": {
             "colorbar": {
              "outlinewidth": 0,
              "ticks": ""
             }
            },
            "type": "parcoords"
           }
          ],
          "pie": [
           {
            "automargin": true,
            "type": "pie"
           }
          ],
          "scatter": [
           {
            "fillpattern": {
             "fillmode": "overlay",
             "size": 10,
             "solidity": 0.2
            },
            "type": "scatter"
           }
          ],
          "scatter3d": [
           {
            "line": {
             "colorbar": {
              "outlinewidth": 0,
              "ticks": ""
             }
            },
            "marker": {
             "colorbar": {
              "outlinewidth": 0,
              "ticks": ""
             }
            },
            "type": "scatter3d"
           }
          ],
          "scattercarpet": [
           {
            "marker": {
             "colorbar": {
              "outlinewidth": 0,
              "ticks": ""
             }
            },
            "type": "scattercarpet"
           }
          ],
          "scattergeo": [
           {
            "marker": {
             "colorbar": {
              "outlinewidth": 0,
              "ticks": ""
             }
            },
            "type": "scattergeo"
           }
          ],
          "scattergl": [
           {
            "marker": {
             "colorbar": {
              "outlinewidth": 0,
              "ticks": ""
             }
            },
            "type": "scattergl"
           }
          ],
          "scattermap": [
           {
            "marker": {
             "colorbar": {
              "outlinewidth": 0,
              "ticks": ""
             }
            },
            "type": "scattermap"
           }
          ],
          "scattermapbox": [
           {
            "marker": {
             "colorbar": {
              "outlinewidth": 0,
              "ticks": ""
             }
            },
            "type": "scattermapbox"
           }
          ],
          "scatterpolar": [
           {
            "marker": {
             "colorbar": {
              "outlinewidth": 0,
              "ticks": ""
             }
            },
            "type": "scatterpolar"
           }
          ],
          "scatterpolargl": [
           {
            "marker": {
             "colorbar": {
              "outlinewidth": 0,
              "ticks": ""
             }
            },
            "type": "scatterpolargl"
           }
          ],
          "scatterternary": [
           {
            "marker": {
             "colorbar": {
              "outlinewidth": 0,
              "ticks": ""
             }
            },
            "type": "scatterternary"
           }
          ],
          "surface": [
           {
            "colorbar": {
             "outlinewidth": 0,
             "ticks": ""
            },
            "colorscale": [
             [
              0,
              "#0d0887"
             ],
             [
              0.1111111111111111,
              "#46039f"
             ],
             [
              0.2222222222222222,
              "#7201a8"
             ],
             [
              0.3333333333333333,
              "#9c179e"
             ],
             [
              0.4444444444444444,
              "#bd3786"
             ],
             [
              0.5555555555555556,
              "#d8576b"
             ],
             [
              0.6666666666666666,
              "#ed7953"
             ],
             [
              0.7777777777777778,
              "#fb9f3a"
             ],
             [
              0.8888888888888888,
              "#fdca26"
             ],
             [
              1,
              "#f0f921"
             ]
            ],
            "type": "surface"
           }
          ],
          "table": [
           {
            "cells": {
             "fill": {
              "color": "#EBF0F8"
             },
             "line": {
              "color": "white"
             }
            },
            "header": {
             "fill": {
              "color": "#C8D4E3"
             },
             "line": {
              "color": "white"
             }
            },
            "type": "table"
           }
          ]
         },
         "layout": {
          "annotationdefaults": {
           "arrowcolor": "#2a3f5f",
           "arrowhead": 0,
           "arrowwidth": 1
          },
          "autotypenumbers": "strict",
          "coloraxis": {
           "colorbar": {
            "outlinewidth": 0,
            "ticks": ""
           }
          },
          "colorscale": {
           "diverging": [
            [
             0,
             "#8e0152"
            ],
            [
             0.1,
             "#c51b7d"
            ],
            [
             0.2,
             "#de77ae"
            ],
            [
             0.3,
             "#f1b6da"
            ],
            [
             0.4,
             "#fde0ef"
            ],
            [
             0.5,
             "#f7f7f7"
            ],
            [
             0.6,
             "#e6f5d0"
            ],
            [
             0.7,
             "#b8e186"
            ],
            [
             0.8,
             "#7fbc41"
            ],
            [
             0.9,
             "#4d9221"
            ],
            [
             1,
             "#276419"
            ]
           ],
           "sequential": [
            [
             0,
             "#0d0887"
            ],
            [
             0.1111111111111111,
             "#46039f"
            ],
            [
             0.2222222222222222,
             "#7201a8"
            ],
            [
             0.3333333333333333,
             "#9c179e"
            ],
            [
             0.4444444444444444,
             "#bd3786"
            ],
            [
             0.5555555555555556,
             "#d8576b"
            ],
            [
             0.6666666666666666,
             "#ed7953"
            ],
            [
             0.7777777777777778,
             "#fb9f3a"
            ],
            [
             0.8888888888888888,
             "#fdca26"
            ],
            [
             1,
             "#f0f921"
            ]
           ],
           "sequentialminus": [
            [
             0,
             "#0d0887"
            ],
            [
             0.1111111111111111,
             "#46039f"
            ],
            [
             0.2222222222222222,
             "#7201a8"
            ],
            [
             0.3333333333333333,
             "#9c179e"
            ],
            [
             0.4444444444444444,
             "#bd3786"
            ],
            [
             0.5555555555555556,
             "#d8576b"
            ],
            [
             0.6666666666666666,
             "#ed7953"
            ],
            [
             0.7777777777777778,
             "#fb9f3a"
            ],
            [
             0.8888888888888888,
             "#fdca26"
            ],
            [
             1,
             "#f0f921"
            ]
           ]
          },
          "colorway": [
           "#636efa",
           "#EF553B",
           "#00cc96",
           "#ab63fa",
           "#FFA15A",
           "#19d3f3",
           "#FF6692",
           "#B6E880",
           "#FF97FF",
           "#FECB52"
          ],
          "font": {
           "color": "#2a3f5f"
          },
          "geo": {
           "bgcolor": "white",
           "lakecolor": "white",
           "landcolor": "white",
           "showlakes": true,
           "showland": true,
           "subunitcolor": "#C8D4E3"
          },
          "hoverlabel": {
           "align": "left"
          },
          "hovermode": "closest",
          "mapbox": {
           "style": "light"
          },
          "paper_bgcolor": "white",
          "plot_bgcolor": "white",
          "polar": {
           "angularaxis": {
            "gridcolor": "#EBF0F8",
            "linecolor": "#EBF0F8",
            "ticks": ""
           },
           "bgcolor": "white",
           "radialaxis": {
            "gridcolor": "#EBF0F8",
            "linecolor": "#EBF0F8",
            "ticks": ""
           }
          },
          "scene": {
           "xaxis": {
            "backgroundcolor": "white",
            "gridcolor": "#DFE8F3",
            "gridwidth": 2,
            "linecolor": "#EBF0F8",
            "showbackground": true,
            "ticks": "",
            "zerolinecolor": "#EBF0F8"
           },
           "yaxis": {
            "backgroundcolor": "white",
            "gridcolor": "#DFE8F3",
            "gridwidth": 2,
            "linecolor": "#EBF0F8",
            "showbackground": true,
            "ticks": "",
            "zerolinecolor": "#EBF0F8"
           },
           "zaxis": {
            "backgroundcolor": "white",
            "gridcolor": "#DFE8F3",
            "gridwidth": 2,
            "linecolor": "#EBF0F8",
            "showbackground": true,
            "ticks": "",
            "zerolinecolor": "#EBF0F8"
           }
          },
          "shapedefaults": {
           "line": {
            "color": "#2a3f5f"
           }
          },
          "ternary": {
           "aaxis": {
            "gridcolor": "#DFE8F3",
            "linecolor": "#A2B1C6",
            "ticks": ""
           },
           "baxis": {
            "gridcolor": "#DFE8F3",
            "linecolor": "#A2B1C6",
            "ticks": ""
           },
           "bgcolor": "white",
           "caxis": {
            "gridcolor": "#DFE8F3",
            "linecolor": "#A2B1C6",
            "ticks": ""
           }
          },
          "title": {
           "x": 0.05
          },
          "xaxis": {
           "automargin": true,
           "gridcolor": "#EBF0F8",
           "linecolor": "#EBF0F8",
           "ticks": "",
           "title": {
            "standoff": 15
           },
           "zerolinecolor": "#EBF0F8",
           "zerolinewidth": 2
          },
          "yaxis": {
           "automargin": true,
           "gridcolor": "#EBF0F8",
           "linecolor": "#EBF0F8",
           "ticks": "",
           "title": {
            "standoff": 15
           },
           "zerolinecolor": "#EBF0F8",
           "zerolinewidth": 2
          }
         }
        },
        "width": 800,
        "xaxis": {
         "anchor": "y",
         "domain": [
          0,
          0.2125
         ],
         "title": {
          "text": "Size (n)"
         }
        },
        "xaxis2": {
         "anchor": "y2",
         "domain": [
          0.2625,
          0.475
         ],
         "title": {
          "text": "Size (n)"
         }
        },
        "xaxis3": {
         "anchor": "y3",
         "domain": [
          0.525,
          0.7375
         ],
         "title": {
          "text": "Size (n)"
         }
        },
        "xaxis4": {
         "anchor": "y4",
         "domain": [
          0.7875,
          1
         ],
         "title": {
          "text": "Size (n)"
         }
        },
        "yaxis": {
         "anchor": "x",
         "domain": [
          0,
          1
         ],
         "title": {
          "text": "Error"
         }
        },
        "yaxis2": {
         "anchor": "x2",
         "domain": [
          0,
          1
         ],
         "matches": "y",
         "showticklabels": false,
         "title": {
          "text": "Error"
         }
        },
        "yaxis3": {
         "anchor": "x3",
         "domain": [
          0,
          1
         ],
         "matches": "y",
         "showticklabels": false,
         "title": {
          "text": "Error"
         }
        },
        "yaxis4": {
         "anchor": "x4",
         "domain": [
          0,
          1
         ],
         "matches": "y",
         "showticklabels": false,
         "title": {
          "text": "Error"
         }
        }
       }
      }
     },
     "metadata": {},
     "output_type": "display_data"
    }
   ],
   "source": [
    "sparse = stats[(stats['Density'] == 'sparse') & (stats['Projection Type'] != '')]\n",
    "\n",
    "fig = make_subplots(rows = 1,cols = 4,shared_xaxes = True,shared_yaxes=True,subplot_titles=sparse['Method'].unique())\n",
    "\n",
    "\n",
    "for i, method in enumerate(sparse['Method'].unique()):\n",
    "    for j, projection in enumerate(sparse['Projection Type'].unique()):\n",
    "        _df = sparse[(sparse['Method'] == method) & (sparse['Projection Type'] == projection)]\n",
    "        fig.add_trace(\n",
    "            go.Scatter(\n",
    "                x = _df['Size'],\n",
    "                y = _df['Errors'],\n",
    "                name = names[projection],\n",
    "                legendgroup=projection,  # Group by projection type\n",
    "                line_color=method_colors[projection],  # Color by projection\n",
    "                showlegend = (i == 0),\n",
    "            ),\n",
    "            row = 1, col = i + 1,\n",
    "            \n",
    "        )\n",
    "mu_sparse = stats[(stats['Method'] == 'MU') & (stats['Density'] == \"sparse\")]\n",
    "\n",
    "for i in range(2):\n",
    "    fig.add_trace(\n",
    "        go.Scatter(\n",
    "            x = mu_sparse['Size'],\n",
    "            y = mu_sparse['Errors'],\n",
    "            name = 'MU',\n",
    "            showlegend = (i == 0),\n",
    "            line = dict(color='black',dash='dash'),\n",
    "            legendgroup = 'MU'\n",
    "        ),\n",
    "        row = 1,col= i+1\n",
    "    )\n",
    "\n",
    "\n",
    "hals_sparse = stats[(stats['Method'] == 'HALS') & (stats['Density'] == \"sparse\")]\n",
    "for i in range(2,4):\n",
    "    fig.add_trace(\n",
    "        go.Scatter(\n",
    "            x = hals_sparse['Size'],\n",
    "            y = hals_sparse['Errors'],\n",
    "            name = 'HALS',\n",
    "            showlegend = (i == 2),\n",
    "            line = dict(color='grey',dash='dash'),\n",
    "            legendgroup = 'HALS'\n",
    "        ),\n",
    "        row = 1,col= i+1\n",
    "    )\n",
    "\n",
    "\n",
    "fig.update_layout(\n",
    "    xaxis1_title = 'Size (n)',\n",
    "    yaxis1_title = 'Error',\n",
    "    xaxis2_title = 'Size (n)',\n",
    "    yaxis2_title = 'Error',\n",
    "    xaxis3_title = 'Size (n)',\n",
    "    yaxis3_title = 'Error',\n",
    "    xaxis4_title = 'Size (n)',\n",
    "    yaxis4_title = 'Error',\n",
    "    template = 'plotly_white',\n",
    "    legend=dict(\n",
    "        orientation=\"h\",  # horizontal\n",
    "        y=-0.2,           # move legend below the plot\n",
    "        x=0.5,\n",
    "        xanchor=\"center\",\n",
    "        yanchor=\"top\"\n",
    "    ),\n",
    "    font=dict(\n",
    "        size=10,color='black'\n",
    "    ),\n",
    "    margin=dict(\n",
    "        l=20,  # left margin\n",
    "        r=20,  # right margin\n",
    "        t=40,  # top margin\n",
    "        b=40   # bottom margin\n",
    "    ), \n",
    "    width = 800,\n",
    "    height = 400\n",
    ")\n",
    "\n",
    "fig.show()"
   ]
  },
  {
   "cell_type": "code",
   "execution_count": 79,
   "id": "d2a2d5f3",
   "metadata": {},
   "outputs": [
    {
     "data": {
      "application/vnd.plotly.v1+json": {
       "config": {
        "plotlyServerURL": "https://plot.ly"
       },
       "data": [
        {
         "legendgroup": "gaussian",
         "line": {
          "color": "#636EFA"
         },
         "mode": "lines+markers",
         "name": "Gaussian",
         "showlegend": true,
         "type": "scatter",
         "x": {
          "bdata": "6APQB7gLoA+IEw==",
          "dtype": "i2"
         },
         "xaxis": "x",
         "y": {
          "bdata": "mpkZUcskyD9mZsbySibqPzMzaw0AAABAmpnBjBCzDEDNzFhBeFEXQA==",
          "dtype": "f8"
         },
         "yaxis": "y"
        },
        {
         "legendgroup": "srht",
         "line": {
          "color": "#EF553B"
         },
         "mode": "lines+markers",
         "name": "SRHT",
         "showlegend": true,
         "type": "scatter",
         "x": {
          "bdata": "6APQB7gLoA+IEw==",
          "dtype": "i2"
         },
         "xaxis": "x",
         "y": {
          "bdata": "mpmZz2sFyD/NzKxSlC3qPzMzEzht8f8/AADIk6SzDEAAAFTSP1QXQA==",
          "dtype": "f8"
         },
         "yaxis": "y"
        },
        {
         "legendgroup": "srft",
         "line": {
          "color": "#00CC96"
         },
         "mode": "lines+markers",
         "name": "SRFT",
         "showlegend": true,
         "type": "scatter",
         "x": {
          "bdata": "6APQB7gLoA+IEw==",
          "dtype": "i2"
         },
         "xaxis": "x",
         "y": {
          "bdata": "zcxMUErvyD9mZsa6Xr7qP83MjCLmIgBAMzMLw0ckDUCamZEEhnUXQA==",
          "dtype": "f8"
         },
         "yaxis": "y"
        },
        {
         "legendgroup": "sparse-jl",
         "line": {
          "color": "#AB63FA"
         },
         "mode": "lines+markers",
         "name": "Sparse JL",
         "showlegend": true,
         "type": "scatter",
         "x": {
          "bdata": "6APQB7gLoA+IEw==",
          "dtype": "i2"
         },
         "xaxis": "x",
         "y": {
          "bdata": "ZmbmbwaDyD8zM3M6HtPqPwAAEOHKNwBAmpkJmvkaDUBmZjrmn6EXQA==",
          "dtype": "f8"
         },
         "yaxis": "y"
        },
        {
         "legendgroup": "count-sketch",
         "line": {
          "color": "#FFA15A"
         },
         "mode": "lines+markers",
         "name": "CountSketch",
         "showlegend": true,
         "type": "scatter",
         "x": {
          "bdata": "6APQB7gLoA+IEw==",
          "dtype": "i2"
         },
         "xaxis": "x",
         "y": {
          "bdata": "zcxMe/SGyD8zMxNvZJ7qPzMzi/P1JABAzczsII4RDUCambmWHIEXQA==",
          "dtype": "f8"
         },
         "yaxis": "y"
        },
        {
         "legendgroup": "MU",
         "line": {
          "color": "black",
          "dash": "dash"
         },
         "name": "MU",
         "showlegend": true,
         "type": "scatter",
         "x": {
          "bdata": "6APQB7gLoA+IEw==",
          "dtype": "i2"
         },
         "xaxis": "x",
         "y": {
          "bdata": "AADAmHHJ0T8zM7OMcVH0PwAA0IEOQApAmpmJ+iyAGEAAAHomh7ckQA==",
          "dtype": "f8"
         },
         "yaxis": "y"
        },
        {
         "legendgroup": "gaussian",
         "line": {
          "color": "#636EFA"
         },
         "mode": "lines+markers",
         "name": "Gaussian",
         "showlegend": false,
         "type": "scatter",
         "x": {
          "bdata": "6APQB7gLoA+IEw==",
          "dtype": "i2"
         },
         "xaxis": "x2",
         "y": {
          "bdata": "zcxM2voOyT8zM3OUzPzqP83MTM3UUgBAZmYGbeZuDUAAAHDubZYXQA==",
          "dtype": "f8"
         },
         "yaxis": "y2"
        },
        {
         "legendgroup": "srht",
         "line": {
          "color": "#EF553B"
         },
         "mode": "lines+markers",
         "name": "SRHT",
         "showlegend": false,
         "type": "scatter",
         "x": {
          "bdata": "6APQB7gLoA+IEw==",
          "dtype": "i2"
         },
         "xaxis": "x2",
         "y": {
          "bdata": "ZmbmvPAYyj8zM7PdLT7sP2ZmxuhWqwFAZmbW31zNDkAAAMD7NloZQA==",
          "dtype": "f8"
         },
         "yaxis": "y2"
        },
        {
         "legendgroup": "srft",
         "line": {
          "color": "#00CC96"
         },
         "mode": "lines+markers",
         "name": "SRFT",
         "showlegend": false,
         "type": "scatter",
         "x": {
          "bdata": "6APQB7gLoA+IEw==",
          "dtype": "i2"
         },
         "xaxis": "x2",
         "y": {
          "bdata": "MzMzJtMyyT8zM/Mw3O/qP5qZScn+WwBAmpmhZ6thDUCamYX2A7EXQA==",
          "dtype": "f8"
         },
         "yaxis": "y2"
        },
        {
         "legendgroup": "sparse-jl",
         "line": {
          "color": "#AB63FA"
         },
         "mode": "lines+markers",
         "name": "Sparse JL",
         "showlegend": false,
         "type": "scatter",
         "x": {
          "bdata": "6APQB7gLoA+IEw==",
          "dtype": "i2"
         },
         "xaxis": "x2",
         "y": {
          "bdata": "mpkZshoiyT9mZoYz4hzrPzMzy7/xWABAmpkJMTuJDUAzM0+11M0XQA==",
          "dtype": "f8"
         },
         "yaxis": "y2"
        },
        {
         "legendgroup": "count-sketch",
         "line": {
          "color": "#FFA15A"
         },
         "mode": "lines+markers",
         "name": "CountSketch",
         "showlegend": false,
         "type": "scatter",
         "x": {
          "bdata": "6APQB7gLoA+IEw==",
          "dtype": "i2"
         },
         "xaxis": "x2",
         "y": {
          "bdata": "mpkZHRhlyT+amXlfKxrrP83MxCffXABAzcx0ADiMDUAAAHhs/MwXQA==",
          "dtype": "f8"
         },
         "yaxis": "y2"
        },
        {
         "legendgroup": "MU",
         "line": {
          "color": "black",
          "dash": "dash"
         },
         "name": "MU",
         "showlegend": false,
         "type": "scatter",
         "x": {
          "bdata": "6APQB7gLoA+IEw==",
          "dtype": "i2"
         },
         "xaxis": "x2",
         "y": {
          "bdata": "AADAmHHJ0T8zM7OMcVH0PwAA0IEOQApAmpmJ+iyAGEAAAHomh7ckQA==",
          "dtype": "f8"
         },
         "yaxis": "y2"
        },
        {
         "legendgroup": "gaussian",
         "line": {
          "color": "#636EFA"
         },
         "mode": "lines+markers",
         "name": "Gaussian",
         "showlegend": false,
         "type": "scatter",
         "x": {
          "bdata": "6APQB7gLoA+IEw==",
          "dtype": "i2"
         },
         "xaxis": "x3",
         "y": {
          "bdata": "ZmZmKfkByj8AAEDXcl/qP2ZmliO/6f8/AAAQJBnWDEAzM5+ymjYXQA==",
          "dtype": "f8"
         },
         "yaxis": "y3"
        },
        {
         "legendgroup": "srht",
         "line": {
          "color": "#EF553B"
         },
         "mode": "lines+markers",
         "name": "SRHT",
         "showlegend": false,
         "type": "scatter",
         "x": {
          "bdata": "6APQB7gLoA+IEw==",
          "dtype": "i2"
         },
         "xaxis": "x3",
         "y": {
          "bdata": "ZmbmXOrWyT8zMxMyaDLqP83MfDG05/8/ZmZmoPjaDEAzM1dY7BoXQA==",
          "dtype": "f8"
         },
         "yaxis": "y3"
        },
        {
         "legendgroup": "srft",
         "line": {
          "color": "#00CC96"
         },
         "mode": "lines+markers",
         "name": "SRFT",
         "showlegend": false,
         "type": "scatter",
         "x": {
          "bdata": "6APQB7gLoA+IEw==",
          "dtype": "i2"
         },
         "xaxis": "x3",
         "y": {
          "bdata": "ZmZm77TKyj+amZl4c53qPwAAQBOjFwBAzczcaXQHDUAAAFhbHUUXQA==",
          "dtype": "f8"
         },
         "yaxis": "y3"
        },
        {
         "legendgroup": "sparse-jl",
         "line": {
          "color": "#AB63FA"
         },
         "mode": "lines+markers",
         "name": "Sparse JL",
         "showlegend": false,
         "type": "scatter",
         "x": {
          "bdata": "6APQB7gLoA+IEw==",
          "dtype": "i2"
         },
         "xaxis": "x3",
         "y": {
          "bdata": "ZmbmTMQVyj/NzCzNrAbrP83MZGfIKABAmplZDVchDUDNzKBumH8XQA==",
          "dtype": "f8"
         },
         "yaxis": "y3"
        },
        {
         "legendgroup": "count-sketch",
         "line": {
          "color": "#FFA15A"
         },
         "mode": "lines+markers",
         "name": "CountSketch",
         "showlegend": false,
         "type": "scatter",
         "x": {
          "bdata": "6APQB7gLoA+IEw==",
          "dtype": "i2"
         },
         "xaxis": "x3",
         "y": {
          "bdata": "zczMreYtyj8AAICwg5LqPwAA8Lf75P8/Zma2ZiPuDEBmZhogqEkXQA==",
          "dtype": "f8"
         },
         "yaxis": "y3"
        },
        {
         "legendgroup": "HALS",
         "line": {
          "color": "grey",
          "dash": "dash"
         },
         "name": "HALS",
         "showlegend": true,
         "type": "scatter",
         "x": {
          "bdata": "6APQB7gLoA+IEw==",
          "dtype": "i2"
         },
         "xaxis": "x3",
         "y": {
          "bdata": "Zmbmpc+zzT+amTls+GnvPzMz44ZCIANAzcwQ5pfdEUAAAFwwRMwcQA==",
          "dtype": "f8"
         },
         "yaxis": "y3"
        },
        {
         "legendgroup": "gaussian",
         "line": {
          "color": "#636EFA"
         },
         "mode": "lines+markers",
         "name": "Gaussian",
         "showlegend": false,
         "type": "scatter",
         "x": {
          "bdata": "6APQB7gLoA+IEw==",
          "dtype": "i2"
         },
         "xaxis": "x4",
         "y": {
          "bdata": "zczMI/K8yj9mZmbcH/jqP5qZgUZ+FwBAMzP7XZ4nDUAAABABRWQXQA==",
          "dtype": "f8"
         },
         "yaxis": "y4"
        },
        {
         "legendgroup": "srht",
         "line": {
          "color": "#EF553B"
         },
         "mode": "lines+markers",
         "name": "SRHT",
         "showlegend": false,
         "type": "scatter",
         "x": {
          "bdata": "6APQB7gLoA+IEw==",
          "dtype": "i2"
         },
         "xaxis": "x4",
         "y": {
          "bdata": "zcxM3m3Byz9mZoZtIkvsP5qZof7MWwFAmpnZ2Lp+DkBmZqJXqAoZQA==",
          "dtype": "f8"
         },
         "yaxis": "y4"
        },
        {
         "legendgroup": "srft",
         "line": {
          "color": "#00CC96"
         },
         "mode": "lines+markers",
         "name": "SRFT",
         "showlegend": false,
         "type": "scatter",
         "x": {
          "bdata": "6APQB7gLoA+IEw==",
          "dtype": "i2"
         },
         "xaxis": "x4",
         "y": {
          "bdata": "Zmbmtaqdyj/NzExeMijrP83MPJfK9/8/AAAotFotDUCamaHu6loXQA==",
          "dtype": "f8"
         },
         "yaxis": "y4"
        },
        {
         "legendgroup": "sparse-jl",
         "line": {
          "color": "#AB63FA"
         },
         "mode": "lines+markers",
         "name": "Sparse JL",
         "showlegend": false,
         "type": "scatter",
         "x": {
          "bdata": "6APQB7gLoA+IEw==",
          "dtype": "i2"
         },
         "xaxis": "x4",
         "y": {
          "bdata": "mpmZtQL5yj+amZm2aPzqP2ZmRjSqCQBAmplhJKRbDUDNzJDo8X0XQA==",
          "dtype": "f8"
         },
         "yaxis": "y4"
        },
        {
         "legendgroup": "count-sketch",
         "line": {
          "color": "#FFA15A"
         },
         "mode": "lines+markers",
         "name": "CountSketch",
         "showlegend": false,
         "type": "scatter",
         "x": {
          "bdata": "6APQB7gLoA+IEw==",
          "dtype": "i2"
         },
         "xaxis": "x4",
         "y": {
          "bdata": "ZmZmEFHxyj9mZgaCQCHrP5qZUdCBEABAAABIWLcODUDNzHQ9sIMXQA==",
          "dtype": "f8"
         },
         "yaxis": "y4"
        },
        {
         "legendgroup": "HALS",
         "line": {
          "color": "grey",
          "dash": "dash"
         },
         "name": "HALS",
         "showlegend": false,
         "type": "scatter",
         "x": {
          "bdata": "6APQB7gLoA+IEw==",
          "dtype": "i2"
         },
         "xaxis": "x4",
         "y": {
          "bdata": "Zmbmpc+zzT+amTls+GnvPzMz44ZCIANAzcwQ5pfdEUAAAFwwRMwcQA==",
          "dtype": "f8"
         },
         "yaxis": "y4"
        },
        {
         "legendgroup": "gaussian",
         "line": {
          "color": "#636EFA"
         },
         "mode": "lines+markers",
         "name": "Gaussian",
         "showlegend": false,
         "type": "scatter",
         "x": {
          "bdata": "6APQB7gLoA+IEw==",
          "dtype": "i2"
         },
         "xaxis": "x5",
         "y": {
          "bdata": "ZhFOGq0N0D+NnMSMxBnQP/ftE0mJKtA/GinlXmO+0D9QT56I4/HPPw==",
          "dtype": "f8"
         },
         "yaxis": "y5"
        },
        {
         "legendgroup": "srht",
         "line": {
          "color": "#EF553B"
         },
         "mode": "lines+markers",
         "name": "SRHT",
         "showlegend": false,
         "type": "scatter",
         "x": {
          "bdata": "6APQB7gLoA+IEw==",
          "dtype": "i2"
         },
         "xaxis": "x5",
         "y": {
          "bdata": "BRz0mbo+zj9gqdzFL07OP3r618TAcc4/ygGKk+lgzj9wj80u733OPw==",
          "dtype": "f8"
         },
         "yaxis": "y5"
        },
        {
         "legendgroup": "srft",
         "line": {
          "color": "#00CC96"
         },
         "mode": "lines+markers",
         "name": "SRFT",
         "showlegend": false,
         "type": "scatter",
         "x": {
          "bdata": "6APQB7gLoA+IEw==",
          "dtype": "i2"
         },
         "xaxis": "x5",
         "y": {
          "bdata": "JYubgaNszj/bprRaY17OP6Iajv7ChM4/Pe736mhrzj8lI/d1L3rOPw==",
          "dtype": "f8"
         },
         "yaxis": "y5"
        },
        {
         "legendgroup": "sparse-jl",
         "line": {
          "color": "#AB63FA"
         },
         "mode": "lines+markers",
         "name": "Sparse JL",
         "showlegend": false,
         "type": "scatter",
         "x": {
          "bdata": "6APQB7gLoA+IEw==",
          "dtype": "i2"
         },
         "xaxis": "x5",
         "y": {
          "bdata": "pijDCIDVzj+jP9k3O/HQPzpHknRwm9A/g/i9esLF0D9z421rjIzPPw==",
          "dtype": "f8"
         },
         "yaxis": "y5"
        },
        {
         "legendgroup": "count-sketch",
         "line": {
          "color": "#FFA15A"
         },
         "mode": "lines+markers",
         "name": "CountSketch",
         "showlegend": false,
         "type": "scatter",
         "x": {
          "bdata": "6APQB7gLoA+IEw==",
          "dtype": "i2"
         },
         "xaxis": "x5",
         "y": {
          "bdata": "PVRB3hYh0D9J64PQPWfQPzvSlQpz2M4/gz/zTTt6zz8Px5i9wGjQPw==",
          "dtype": "f8"
         },
         "yaxis": "y5"
        },
        {
         "legendgroup": "MU",
         "line": {
          "color": "black",
          "dash": "dash"
         },
         "name": "MU",
         "showlegend": false,
         "type": "scatter",
         "x": {
          "bdata": "6APQB7gLoA+IEw==",
          "dtype": "i2"
         },
         "xaxis": "x5",
         "y": {
          "bdata": "Q4/stngTyj9g1kTmcinKP46SBXejTMo/nh2CQsU0yj+Kz6OAmVfKPw==",
          "dtype": "f8"
         },
         "yaxis": "y5"
        },
        {
         "legendgroup": "gaussian",
         "line": {
          "color": "#636EFA"
         },
         "mode": "lines+markers",
         "name": "Gaussian",
         "showlegend": false,
         "type": "scatter",
         "x": {
          "bdata": "6APQB7gLoA+IEw==",
          "dtype": "i2"
         },
         "xaxis": "x6",
         "y": {
          "bdata": "QKhz5gvZzT/jtl6BVxrOPytb3TcsTs4/2rbSsHxDzj+TQc8OPGXOPw==",
          "dtype": "f8"
         },
         "yaxis": "y6"
        },
        {
         "legendgroup": "srht",
         "line": {
          "color": "#EF553B"
         },
         "mode": "lines+markers",
         "name": "SRHT",
         "showlegend": false,
         "type": "scatter",
         "x": {
          "bdata": "6APQB7gLoA+IEw==",
          "dtype": "i2"
         },
         "xaxis": "x6",
         "y": {
          "bdata": "6n8wvQzczT/2MHhFmRnOPxqRh6pBTs4/PtCCUphCzj8KNDunE2XOPw==",
          "dtype": "f8"
         },
         "yaxis": "y6"
        },
        {
         "legendgroup": "srft",
         "line": {
          "color": "#00CC96"
         },
         "mode": "lines+markers",
         "name": "SRFT",
         "showlegend": false,
         "type": "scatter",
         "x": {
          "bdata": "6APQB7gLoA+IEw==",
          "dtype": "i2"
         },
         "xaxis": "x6",
         "y": {
          "bdata": "i4eEpd7YzT8q9q5JbxrOP6YROmUjTs4/m00bjvNCzj99JNKIRWXOPw==",
          "dtype": "f8"
         },
         "yaxis": "y6"
        },
        {
         "legendgroup": "sparse-jl",
         "line": {
          "color": "#AB63FA"
         },
         "mode": "lines+markers",
         "name": "Sparse JL",
         "showlegend": false,
         "type": "scatter",
         "x": {
          "bdata": "6APQB7gLoA+IEw==",
          "dtype": "i2"
         },
         "xaxis": "x6",
         "y": {
          "bdata": "1a12fm7XzT/eY6FheRvOP0Oe9ThXTs4/9nbeIzdCzj826YsAO2XOPw==",
          "dtype": "f8"
         },
         "yaxis": "y6"
        },
        {
         "legendgroup": "count-sketch",
         "line": {
          "color": "#FFA15A"
         },
         "mode": "lines+markers",
         "name": "CountSketch",
         "showlegend": false,
         "type": "scatter",
         "x": {
          "bdata": "6APQB7gLoA+IEw==",
          "dtype": "i2"
         },
         "xaxis": "x6",
         "y": {
          "bdata": "jZmwy/XWzT8yBSjEFRzOP+2JtwjCTc4/QiVucYFCzj9lbEG0X2TOPw==",
          "dtype": "f8"
         },
         "yaxis": "y6"
        },
        {
         "legendgroup": "MU",
         "line": {
          "color": "black",
          "dash": "dash"
         },
         "name": "MU",
         "showlegend": false,
         "type": "scatter",
         "x": {
          "bdata": "6APQB7gLoA+IEw==",
          "dtype": "i2"
         },
         "xaxis": "x6",
         "y": {
          "bdata": "Q4/stngTyj9g1kTmcinKP46SBXejTMo/nh2CQsU0yj+Kz6OAmVfKPw==",
          "dtype": "f8"
         },
         "yaxis": "y6"
        },
        {
         "legendgroup": "gaussian",
         "line": {
          "color": "#636EFA"
         },
         "mode": "lines+markers",
         "name": "Gaussian",
         "showlegend": false,
         "type": "scatter",
         "x": {
          "bdata": "6APQB7gLoA+IEw==",
          "dtype": "i2"
         },
         "xaxis": "x7",
         "y": {
          "bdata": "f1sPCtcW0j/KC8xcujbSPxK1RADzStI/ga0oYjVU0j+Pz3O462vSPw==",
          "dtype": "f8"
         },
         "yaxis": "y7"
        },
        {
         "legendgroup": "srht",
         "line": {
          "color": "#EF553B"
         },
         "mode": "lines+markers",
         "name": "SRHT",
         "showlegend": false,
         "type": "scatter",
         "x": {
          "bdata": "6APQB7gLoA+IEw==",
          "dtype": "i2"
         },
         "xaxis": "x7",
         "y": {
          "bdata": "2yg2JJygzz/r90CUJbfNP8PxPSDDQ80/QH3z/u77zD9QCcUzbT7NPw==",
          "dtype": "f8"
         },
         "yaxis": "y7"
        },
        {
         "legendgroup": "srft",
         "line": {
          "color": "#00CC96"
         },
         "mode": "lines+markers",
         "name": "SRFT",
         "showlegend": false,
         "type": "scatter",
         "x": {
          "bdata": "6APQB7gLoA+IEw==",
          "dtype": "i2"
         },
         "xaxis": "x7",
         "y": {
          "bdata": "Vtdv2keQzz9rJpB/lY7NP25jdQHWMs0/na19eB1kzT8+MZosBiHNPw==",
          "dtype": "f8"
         },
         "yaxis": "y7"
        },
        {
         "legendgroup": "sparse-jl",
         "line": {
          "color": "#AB63FA"
         },
         "mode": "lines+markers",
         "name": "Sparse JL",
         "showlegend": false,
         "type": "scatter",
         "x": {
          "bdata": "6APQB7gLoA+IEw==",
          "dtype": "i2"
         },
         "xaxis": "x7",
         "y": {
          "bdata": "sp22T9tJ0j/a/QciTl/SP/LVYNdZjNM/7ok26XUg0z9X3n58krPSPw==",
          "dtype": "f8"
         },
         "yaxis": "y7"
        },
        {
         "legendgroup": "count-sketch",
         "line": {
          "color": "#FFA15A"
         },
         "mode": "lines+markers",
         "name": "CountSketch",
         "showlegend": false,
         "type": "scatter",
         "x": {
          "bdata": "6APQB7gLoA+IEw==",
          "dtype": "i2"
         },
         "xaxis": "x7",
         "y": {
          "bdata": "XS4Ipo5K0j+Tm1TQhIDSP01mkt9antI/ItgruafO0j/PZM/cWnHSPw==",
          "dtype": "f8"
         },
         "yaxis": "y7"
        },
        {
         "legendgroup": "HALS",
         "line": {
          "color": "grey",
          "dash": "dash"
         },
         "name": "HALS",
         "showlegend": false,
         "type": "scatter",
         "x": {
          "bdata": "6APQB7gLoA+IEw==",
          "dtype": "i2"
         },
         "xaxis": "x7",
         "y": {
          "bdata": "btUbmG5vyD92tQvwWZnIPykdbSCKvcg/WQiK2rmoyD8LyueKu8zIPw==",
          "dtype": "f8"
         },
         "yaxis": "y7"
        },
        {
         "legendgroup": "gaussian",
         "line": {
          "color": "#636EFA"
         },
         "mode": "lines+markers",
         "name": "Gaussian",
         "showlegend": false,
         "type": "scatter",
         "x": {
          "bdata": "6APQB7gLoA+IEw==",
          "dtype": "i2"
         },
         "xaxis": "x8",
         "y": {
          "bdata": "63XKzmWgyT+WEeH1Bn3JP1j0sh4vl8k/GmQWmaeFyT9T1xqQGKvJPw==",
          "dtype": "f8"
         },
         "yaxis": "y8"
        },
        {
         "legendgroup": "srht",
         "line": {
          "color": "#EF553B"
         },
         "mode": "lines+markers",
         "name": "SRHT",
         "showlegend": false,
         "type": "scatter",
         "x": {
          "bdata": "6APQB7gLoA+IEw==",
          "dtype": "i2"
         },
         "xaxis": "x8",
         "y": {
          "bdata": "elmeV3OZyT857X33337JPwhfLIH2nsk/mmn++7d+yT9ukivhgKbJPw==",
          "dtype": "f8"
         },
         "yaxis": "y8"
        },
        {
         "legendgroup": "srft",
         "line": {
          "color": "#00CC96"
         },
         "mode": "lines+markers",
         "name": "SRFT",
         "showlegend": false,
         "type": "scatter",
         "x": {
          "bdata": "6APQB7gLoA+IEw==",
          "dtype": "i2"
         },
         "xaxis": "x8",
         "y": {
          "bdata": "y4R1npioyT8ROZm233rJPyMTWTCEm8k//UjAyWN/yT81JW3UCLDJPw==",
          "dtype": "f8"
         },
         "yaxis": "y8"
        },
        {
         "legendgroup": "sparse-jl",
         "line": {
          "color": "#AB63FA"
         },
         "mode": "lines+markers",
         "name": "Sparse JL",
         "showlegend": false,
         "type": "scatter",
         "x": {
          "bdata": "6APQB7gLoA+IEw==",
          "dtype": "i2"
         },
         "xaxis": "x8",
         "y": {
          "bdata": "TkALO2mdyT9tLz/LJXnJP51yK22xqsk/M6r7ssJ8yT/Nt0wSDKnJPw==",
          "dtype": "f8"
         },
         "yaxis": "y8"
        },
        {
         "legendgroup": "count-sketch",
         "line": {
          "color": "#FFA15A"
         },
         "mode": "lines+markers",
         "name": "CountSketch",
         "showlegend": false,
         "type": "scatter",
         "x": {
          "bdata": "6APQB7gLoA+IEw==",
          "dtype": "i2"
         },
         "xaxis": "x8",
         "y": {
          "bdata": "K5u1Mu+AyT+r1spUiH3JP2oQKyuHnck/YOpXapSDyT8eJHcG3KzJPw==",
          "dtype": "f8"
         },
         "yaxis": "y8"
        },
        {
         "legendgroup": "HALS",
         "line": {
          "color": "grey",
          "dash": "dash"
         },
         "name": "HALS",
         "showlegend": false,
         "type": "scatter",
         "x": {
          "bdata": "6APQB7gLoA+IEw==",
          "dtype": "i2"
         },
         "xaxis": "x8",
         "y": {
          "bdata": "btUbmG5vyD92tQvwWZnIPykdbSCKvcg/WQiK2rmoyD8LyueKu8zIPw==",
          "dtype": "f8"
         },
         "yaxis": "y8"
        }
       ],
       "layout": {
        "annotations": [
         {
          "font": {
           "size": 16
          },
          "showarrow": false,
          "text": "MU C",
          "x": 0.10625,
          "xanchor": "center",
          "xref": "paper",
          "y": 1,
          "yanchor": "bottom",
          "yref": "paper"
         },
         {
          "font": {
           "size": 16
          },
          "showarrow": false,
          "text": "MU SC",
          "x": 0.36875,
          "xanchor": "center",
          "xref": "paper",
          "y": 1,
          "yanchor": "bottom",
          "yref": "paper"
         },
         {
          "font": {
           "size": 16
          },
          "showarrow": false,
          "text": "HALS C",
          "x": 0.6312500000000001,
          "xanchor": "center",
          "xref": "paper",
          "y": 1,
          "yanchor": "bottom",
          "yref": "paper"
         },
         {
          "font": {
           "size": 16
          },
          "showarrow": false,
          "text": "HALS SC",
          "x": 0.89375,
          "xanchor": "center",
          "xref": "paper",
          "y": 1,
          "yanchor": "bottom",
          "yref": "paper"
         },
         {
          "font": {
           "size": 16
          },
          "showarrow": false,
          "text": "MU C",
          "x": 0.10625,
          "xanchor": "center",
          "xref": "paper",
          "y": 0.46,
          "yanchor": "bottom",
          "yref": "paper"
         },
         {
          "font": {
           "size": 16
          },
          "showarrow": false,
          "text": "MU SC",
          "x": 0.36875,
          "xanchor": "center",
          "xref": "paper",
          "y": 0.46,
          "yanchor": "bottom",
          "yref": "paper"
         },
         {
          "font": {
           "size": 16
          },
          "showarrow": false,
          "text": "HALS C",
          "x": 0.6312500000000001,
          "xanchor": "center",
          "xref": "paper",
          "y": 0.46,
          "yanchor": "bottom",
          "yref": "paper"
         },
         {
          "font": {
           "size": 16
          },
          "showarrow": false,
          "text": "HALS SC",
          "x": 0.89375,
          "xanchor": "center",
          "xref": "paper",
          "y": 0.46,
          "yanchor": "bottom",
          "yref": "paper"
         }
        ],
        "font": {
         "color": "black",
         "size": 12
        },
        "height": 600,
        "legend": {
         "orientation": "h",
         "x": 0.5,
         "xanchor": "center",
         "y": -0.2,
         "yanchor": "top"
        },
        "margin": {
         "b": 100,
         "l": 40,
         "r": 40,
         "t": 60
        },
        "template": {
         "data": {
          "bar": [
           {
            "error_x": {
             "color": "rgb(36,36,36)"
            },
            "error_y": {
             "color": "rgb(36,36,36)"
            },
            "marker": {
             "line": {
              "color": "white",
              "width": 0.5
             },
             "pattern": {
              "fillmode": "overlay",
              "size": 10,
              "solidity": 0.2
             }
            },
            "type": "bar"
           }
          ],
          "barpolar": [
           {
            "marker": {
             "line": {
              "color": "white",
              "width": 0.5
             },
             "pattern": {
              "fillmode": "overlay",
              "size": 10,
              "solidity": 0.2
             }
            },
            "type": "barpolar"
           }
          ],
          "carpet": [
           {
            "aaxis": {
             "endlinecolor": "rgb(36,36,36)",
             "gridcolor": "white",
             "linecolor": "white",
             "minorgridcolor": "white",
             "startlinecolor": "rgb(36,36,36)"
            },
            "baxis": {
             "endlinecolor": "rgb(36,36,36)",
             "gridcolor": "white",
             "linecolor": "white",
             "minorgridcolor": "white",
             "startlinecolor": "rgb(36,36,36)"
            },
            "type": "carpet"
           }
          ],
          "choropleth": [
           {
            "colorbar": {
             "outlinewidth": 1,
             "tickcolor": "rgb(36,36,36)",
             "ticks": "outside"
            },
            "type": "choropleth"
           }
          ],
          "contour": [
           {
            "colorbar": {
             "outlinewidth": 1,
             "tickcolor": "rgb(36,36,36)",
             "ticks": "outside"
            },
            "colorscale": [
             [
              0,
              "#440154"
             ],
             [
              0.1111111111111111,
              "#482878"
             ],
             [
              0.2222222222222222,
              "#3e4989"
             ],
             [
              0.3333333333333333,
              "#31688e"
             ],
             [
              0.4444444444444444,
              "#26828e"
             ],
             [
              0.5555555555555556,
              "#1f9e89"
             ],
             [
              0.6666666666666666,
              "#35b779"
             ],
             [
              0.7777777777777778,
              "#6ece58"
             ],
             [
              0.8888888888888888,
              "#b5de2b"
             ],
             [
              1,
              "#fde725"
             ]
            ],
            "type": "contour"
           }
          ],
          "contourcarpet": [
           {
            "colorbar": {
             "outlinewidth": 1,
             "tickcolor": "rgb(36,36,36)",
             "ticks": "outside"
            },
            "type": "contourcarpet"
           }
          ],
          "heatmap": [
           {
            "colorbar": {
             "outlinewidth": 1,
             "tickcolor": "rgb(36,36,36)",
             "ticks": "outside"
            },
            "colorscale": [
             [
              0,
              "#440154"
             ],
             [
              0.1111111111111111,
              "#482878"
             ],
             [
              0.2222222222222222,
              "#3e4989"
             ],
             [
              0.3333333333333333,
              "#31688e"
             ],
             [
              0.4444444444444444,
              "#26828e"
             ],
             [
              0.5555555555555556,
              "#1f9e89"
             ],
             [
              0.6666666666666666,
              "#35b779"
             ],
             [
              0.7777777777777778,
              "#6ece58"
             ],
             [
              0.8888888888888888,
              "#b5de2b"
             ],
             [
              1,
              "#fde725"
             ]
            ],
            "type": "heatmap"
           }
          ],
          "histogram": [
           {
            "marker": {
             "line": {
              "color": "white",
              "width": 0.6
             },
             "pattern": {
              "fillmode": "overlay",
              "size": 10,
              "solidity": 0.2
             }
            },
            "type": "histogram"
           }
          ],
          "histogram2d": [
           {
            "colorbar": {
             "outlinewidth": 1,
             "tickcolor": "rgb(36,36,36)",
             "ticks": "outside"
            },
            "colorscale": [
             [
              0,
              "#440154"
             ],
             [
              0.1111111111111111,
              "#482878"
             ],
             [
              0.2222222222222222,
              "#3e4989"
             ],
             [
              0.3333333333333333,
              "#31688e"
             ],
             [
              0.4444444444444444,
              "#26828e"
             ],
             [
              0.5555555555555556,
              "#1f9e89"
             ],
             [
              0.6666666666666666,
              "#35b779"
             ],
             [
              0.7777777777777778,
              "#6ece58"
             ],
             [
              0.8888888888888888,
              "#b5de2b"
             ],
             [
              1,
              "#fde725"
             ]
            ],
            "type": "histogram2d"
           }
          ],
          "histogram2dcontour": [
           {
            "colorbar": {
             "outlinewidth": 1,
             "tickcolor": "rgb(36,36,36)",
             "ticks": "outside"
            },
            "colorscale": [
             [
              0,
              "#440154"
             ],
             [
              0.1111111111111111,
              "#482878"
             ],
             [
              0.2222222222222222,
              "#3e4989"
             ],
             [
              0.3333333333333333,
              "#31688e"
             ],
             [
              0.4444444444444444,
              "#26828e"
             ],
             [
              0.5555555555555556,
              "#1f9e89"
             ],
             [
              0.6666666666666666,
              "#35b779"
             ],
             [
              0.7777777777777778,
              "#6ece58"
             ],
             [
              0.8888888888888888,
              "#b5de2b"
             ],
             [
              1,
              "#fde725"
             ]
            ],
            "type": "histogram2dcontour"
           }
          ],
          "mesh3d": [
           {
            "colorbar": {
             "outlinewidth": 1,
             "tickcolor": "rgb(36,36,36)",
             "ticks": "outside"
            },
            "type": "mesh3d"
           }
          ],
          "parcoords": [
           {
            "line": {
             "colorbar": {
              "outlinewidth": 1,
              "tickcolor": "rgb(36,36,36)",
              "ticks": "outside"
             }
            },
            "type": "parcoords"
           }
          ],
          "pie": [
           {
            "automargin": true,
            "type": "pie"
           }
          ],
          "scatter": [
           {
            "fillpattern": {
             "fillmode": "overlay",
             "size": 10,
             "solidity": 0.2
            },
            "type": "scatter"
           }
          ],
          "scatter3d": [
           {
            "line": {
             "colorbar": {
              "outlinewidth": 1,
              "tickcolor": "rgb(36,36,36)",
              "ticks": "outside"
             }
            },
            "marker": {
             "colorbar": {
              "outlinewidth": 1,
              "tickcolor": "rgb(36,36,36)",
              "ticks": "outside"
             }
            },
            "type": "scatter3d"
           }
          ],
          "scattercarpet": [
           {
            "marker": {
             "colorbar": {
              "outlinewidth": 1,
              "tickcolor": "rgb(36,36,36)",
              "ticks": "outside"
             }
            },
            "type": "scattercarpet"
           }
          ],
          "scattergeo": [
           {
            "marker": {
             "colorbar": {
              "outlinewidth": 1,
              "tickcolor": "rgb(36,36,36)",
              "ticks": "outside"
             }
            },
            "type": "scattergeo"
           }
          ],
          "scattergl": [
           {
            "marker": {
             "colorbar": {
              "outlinewidth": 1,
              "tickcolor": "rgb(36,36,36)",
              "ticks": "outside"
             }
            },
            "type": "scattergl"
           }
          ],
          "scattermap": [
           {
            "marker": {
             "colorbar": {
              "outlinewidth": 1,
              "tickcolor": "rgb(36,36,36)",
              "ticks": "outside"
             }
            },
            "type": "scattermap"
           }
          ],
          "scattermapbox": [
           {
            "marker": {
             "colorbar": {
              "outlinewidth": 1,
              "tickcolor": "rgb(36,36,36)",
              "ticks": "outside"
             }
            },
            "type": "scattermapbox"
           }
          ],
          "scatterpolar": [
           {
            "marker": {
             "colorbar": {
              "outlinewidth": 1,
              "tickcolor": "rgb(36,36,36)",
              "ticks": "outside"
             }
            },
            "type": "scatterpolar"
           }
          ],
          "scatterpolargl": [
           {
            "marker": {
             "colorbar": {
              "outlinewidth": 1,
              "tickcolor": "rgb(36,36,36)",
              "ticks": "outside"
             }
            },
            "type": "scatterpolargl"
           }
          ],
          "scatterternary": [
           {
            "marker": {
             "colorbar": {
              "outlinewidth": 1,
              "tickcolor": "rgb(36,36,36)",
              "ticks": "outside"
             }
            },
            "type": "scatterternary"
           }
          ],
          "surface": [
           {
            "colorbar": {
             "outlinewidth": 1,
             "tickcolor": "rgb(36,36,36)",
             "ticks": "outside"
            },
            "colorscale": [
             [
              0,
              "#440154"
             ],
             [
              0.1111111111111111,
              "#482878"
             ],
             [
              0.2222222222222222,
              "#3e4989"
             ],
             [
              0.3333333333333333,
              "#31688e"
             ],
             [
              0.4444444444444444,
              "#26828e"
             ],
             [
              0.5555555555555556,
              "#1f9e89"
             ],
             [
              0.6666666666666666,
              "#35b779"
             ],
             [
              0.7777777777777778,
              "#6ece58"
             ],
             [
              0.8888888888888888,
              "#b5de2b"
             ],
             [
              1,
              "#fde725"
             ]
            ],
            "type": "surface"
           }
          ],
          "table": [
           {
            "cells": {
             "fill": {
              "color": "rgb(237,237,237)"
             },
             "line": {
              "color": "white"
             }
            },
            "header": {
             "fill": {
              "color": "rgb(217,217,217)"
             },
             "line": {
              "color": "white"
             }
            },
            "type": "table"
           }
          ]
         },
         "layout": {
          "annotationdefaults": {
           "arrowcolor": "#2a3f5f",
           "arrowhead": 0,
           "arrowwidth": 1
          },
          "autotypenumbers": "strict",
          "coloraxis": {
           "colorbar": {
            "outlinewidth": 1,
            "tickcolor": "rgb(36,36,36)",
            "ticks": "outside"
           }
          },
          "colorscale": {
           "diverging": [
            [
             0,
             "rgb(103,0,31)"
            ],
            [
             0.1,
             "rgb(178,24,43)"
            ],
            [
             0.2,
             "rgb(214,96,77)"
            ],
            [
             0.3,
             "rgb(244,165,130)"
            ],
            [
             0.4,
             "rgb(253,219,199)"
            ],
            [
             0.5,
             "rgb(247,247,247)"
            ],
            [
             0.6,
             "rgb(209,229,240)"
            ],
            [
             0.7,
             "rgb(146,197,222)"
            ],
            [
             0.8,
             "rgb(67,147,195)"
            ],
            [
             0.9,
             "rgb(33,102,172)"
            ],
            [
             1,
             "rgb(5,48,97)"
            ]
           ],
           "sequential": [
            [
             0,
             "#440154"
            ],
            [
             0.1111111111111111,
             "#482878"
            ],
            [
             0.2222222222222222,
             "#3e4989"
            ],
            [
             0.3333333333333333,
             "#31688e"
            ],
            [
             0.4444444444444444,
             "#26828e"
            ],
            [
             0.5555555555555556,
             "#1f9e89"
            ],
            [
             0.6666666666666666,
             "#35b779"
            ],
            [
             0.7777777777777778,
             "#6ece58"
            ],
            [
             0.8888888888888888,
             "#b5de2b"
            ],
            [
             1,
             "#fde725"
            ]
           ],
           "sequentialminus": [
            [
             0,
             "#440154"
            ],
            [
             0.1111111111111111,
             "#482878"
            ],
            [
             0.2222222222222222,
             "#3e4989"
            ],
            [
             0.3333333333333333,
             "#31688e"
            ],
            [
             0.4444444444444444,
             "#26828e"
            ],
            [
             0.5555555555555556,
             "#1f9e89"
            ],
            [
             0.6666666666666666,
             "#35b779"
            ],
            [
             0.7777777777777778,
             "#6ece58"
            ],
            [
             0.8888888888888888,
             "#b5de2b"
            ],
            [
             1,
             "#fde725"
            ]
           ]
          },
          "colorway": [
           "#1F77B4",
           "#FF7F0E",
           "#2CA02C",
           "#D62728",
           "#9467BD",
           "#8C564B",
           "#E377C2",
           "#7F7F7F",
           "#BCBD22",
           "#17BECF"
          ],
          "font": {
           "color": "rgb(36,36,36)"
          },
          "geo": {
           "bgcolor": "white",
           "lakecolor": "white",
           "landcolor": "white",
           "showlakes": true,
           "showland": true,
           "subunitcolor": "white"
          },
          "hoverlabel": {
           "align": "left"
          },
          "hovermode": "closest",
          "mapbox": {
           "style": "light"
          },
          "paper_bgcolor": "white",
          "plot_bgcolor": "white",
          "polar": {
           "angularaxis": {
            "gridcolor": "rgb(232,232,232)",
            "linecolor": "rgb(36,36,36)",
            "showgrid": false,
            "showline": true,
            "ticks": "outside"
           },
           "bgcolor": "white",
           "radialaxis": {
            "gridcolor": "rgb(232,232,232)",
            "linecolor": "rgb(36,36,36)",
            "showgrid": false,
            "showline": true,
            "ticks": "outside"
           }
          },
          "scene": {
           "xaxis": {
            "backgroundcolor": "white",
            "gridcolor": "rgb(232,232,232)",
            "gridwidth": 2,
            "linecolor": "rgb(36,36,36)",
            "showbackground": true,
            "showgrid": false,
            "showline": true,
            "ticks": "outside",
            "zeroline": false,
            "zerolinecolor": "rgb(36,36,36)"
           },
           "yaxis": {
            "backgroundcolor": "white",
            "gridcolor": "rgb(232,232,232)",
            "gridwidth": 2,
            "linecolor": "rgb(36,36,36)",
            "showbackground": true,
            "showgrid": false,
            "showline": true,
            "ticks": "outside",
            "zeroline": false,
            "zerolinecolor": "rgb(36,36,36)"
           },
           "zaxis": {
            "backgroundcolor": "white",
            "gridcolor": "rgb(232,232,232)",
            "gridwidth": 2,
            "linecolor": "rgb(36,36,36)",
            "showbackground": true,
            "showgrid": false,
            "showline": true,
            "ticks": "outside",
            "zeroline": false,
            "zerolinecolor": "rgb(36,36,36)"
           }
          },
          "shapedefaults": {
           "fillcolor": "black",
           "line": {
            "color": "#2a3f5f",
            "width": 0
           },
           "opacity": 0.3
          },
          "ternary": {
           "aaxis": {
            "gridcolor": "rgb(232,232,232)",
            "linecolor": "rgb(36,36,36)",
            "showgrid": false,
            "showline": true,
            "ticks": "outside"
           },
           "baxis": {
            "gridcolor": "rgb(232,232,232)",
            "linecolor": "rgb(36,36,36)",
            "showgrid": false,
            "showline": true,
            "ticks": "outside"
           },
           "bgcolor": "white",
           "caxis": {
            "gridcolor": "rgb(232,232,232)",
            "linecolor": "rgb(36,36,36)",
            "showgrid": false,
            "showline": true,
            "ticks": "outside"
           }
          },
          "title": {
           "x": 0.05
          },
          "xaxis": {
           "automargin": true,
           "gridcolor": "rgb(232,232,232)",
           "linecolor": "rgb(36,36,36)",
           "showgrid": false,
           "showline": true,
           "ticks": "outside",
           "title": {
            "standoff": 15
           },
           "zeroline": false,
           "zerolinecolor": "rgb(36,36,36)",
           "zerolinewidth": 2
          },
          "yaxis": {
           "automargin": true,
           "gridcolor": "rgb(232,232,232)",
           "linecolor": "rgb(36,36,36)",
           "showgrid": false,
           "showline": true,
           "ticks": "outside",
           "title": {
            "standoff": 15
           },
           "zeroline": false,
           "zerolinecolor": "rgb(36,36,36)",
           "zerolinewidth": 2
          }
         }
        },
        "width": 1200,
        "xaxis": {
         "anchor": "y",
         "domain": [
          0,
          0.2125
         ],
         "gridcolor": "lightgray",
         "matches": "x5",
         "showgrid": true,
         "showticklabels": false
        },
        "xaxis2": {
         "anchor": "y2",
         "domain": [
          0.2625,
          0.475
         ],
         "gridcolor": "lightgray",
         "matches": "x6",
         "showgrid": true,
         "showticklabels": false
        },
        "xaxis3": {
         "anchor": "y3",
         "domain": [
          0.525,
          0.7375
         ],
         "gridcolor": "lightgray",
         "matches": "x7",
         "showgrid": true,
         "showticklabels": false
        },
        "xaxis4": {
         "anchor": "y4",
         "domain": [
          0.7875,
          1
         ],
         "gridcolor": "lightgray",
         "matches": "x8",
         "showgrid": true,
         "showticklabels": false
        },
        "xaxis5": {
         "anchor": "y5",
         "domain": [
          0,
          0.2125
         ],
         "gridcolor": "lightgray",
         "showgrid": true,
         "title": {
          "text": "Size (n)"
         }
        },
        "xaxis6": {
         "anchor": "y6",
         "domain": [
          0.2625,
          0.475
         ],
         "gridcolor": "lightgray",
         "showgrid": true,
         "title": {
          "text": "Size (n)"
         }
        },
        "xaxis7": {
         "anchor": "y7",
         "domain": [
          0.525,
          0.7375
         ],
         "gridcolor": "lightgray",
         "showgrid": true,
         "title": {
          "text": "Size (n)"
         }
        },
        "xaxis8": {
         "anchor": "y8",
         "domain": [
          0.7875,
          1
         ],
         "gridcolor": "lightgray",
         "showgrid": true,
         "title": {
          "text": "Size (n)"
         }
        },
        "yaxis": {
         "anchor": "x",
         "domain": [
          0.54,
          1
         ],
         "gridcolor": "lightgray",
         "showgrid": true,
         "title": {
          "text": "Time (s)"
         }
        },
        "yaxis2": {
         "anchor": "x2",
         "domain": [
          0.54,
          1
         ],
         "gridcolor": "lightgray",
         "matches": "y",
         "showgrid": true,
         "showticklabels": false,
         "title": {
          "text": "Time (s)"
         }
        },
        "yaxis3": {
         "anchor": "x3",
         "domain": [
          0.54,
          1
         ],
         "gridcolor": "lightgray",
         "matches": "y",
         "showgrid": true,
         "showticklabels": false,
         "title": {
          "text": "Time (s)"
         }
        },
        "yaxis4": {
         "anchor": "x4",
         "domain": [
          0.54,
          1
         ],
         "gridcolor": "lightgray",
         "matches": "y",
         "showgrid": true,
         "showticklabels": false,
         "title": {
          "text": "Time (s)"
         }
        },
        "yaxis5": {
         "anchor": "x5",
         "domain": [
          0,
          0.46
         ],
         "gridcolor": "lightgray",
         "showgrid": true,
         "title": {
          "text": "Error"
         }
        },
        "yaxis6": {
         "anchor": "x6",
         "domain": [
          0,
          0.46
         ],
         "gridcolor": "lightgray",
         "matches": "y5",
         "showgrid": true,
         "showticklabels": false,
         "title": {
          "text": "Error"
         }
        },
        "yaxis7": {
         "anchor": "x7",
         "domain": [
          0,
          0.46
         ],
         "gridcolor": "lightgray",
         "matches": "y5",
         "showgrid": true,
         "showticklabels": false,
         "title": {
          "text": "Error"
         }
        },
        "yaxis8": {
         "anchor": "x8",
         "domain": [
          0,
          0.46
         ],
         "gridcolor": "lightgray",
         "matches": "y5",
         "showgrid": true,
         "showticklabels": false,
         "title": {
          "text": "Error"
         }
        }
       }
      }
     },
     "metadata": {},
     "output_type": "display_data"
    }
   ],
   "source": [
    "import plotly.graph_objects as go\n",
    "from plotly.subplots import make_subplots\n",
    "import plotly.express as px\n",
    "\n",
    "# Define names mapping\n",
    "names = {\n",
    "    'gaussian':'Gaussian',\n",
    "    'srht':'SRHT',\n",
    "    'srft':'SRFT',\n",
    "    'sparse-jl':'Sparse JL',\n",
    "    'count-sketch':'CountSketch'\n",
    "}\n",
    "\n",
    "# Define the exact order of methods we want\n",
    "methods = ['MU C', 'MU SC', 'HALS C', 'HALS SC']  # Explicit order\n",
    "\n",
    "# Get non-empty projections\n",
    "projections = [p for p in stats['Projection Type'].unique() if p != '']\n",
    "\n",
    "# Create color mapping\n",
    "colors = px.colors.qualitative.Plotly\n",
    "method_colors = {projection: colors[i % len(colors)] for i, projection in enumerate(projections)}\n",
    "\n",
    "# Create figure with 2 rows and 4 columns\n",
    "fig = make_subplots(\n",
    "    rows=2, cols=4,\n",
    "    shared_xaxes=True,\n",
    "    shared_yaxes='rows',\n",
    "    subplot_titles=methods*2,  # Same order for both rows\n",
    "    horizontal_spacing=0.05,\n",
    "    vertical_spacing=0.08\n",
    ")\n",
    "\n",
    "# Add Time plots (row 1)\n",
    "for col, method in enumerate(methods, 1):\n",
    "    # Filter for current method, dense data, and non-empty projections\n",
    "    dense = stats[(stats['Method'] == method) & (stats['Density'] == 'dense') & (stats['Projection Type'] != '')]\n",
    "    \n",
    "    # Add projection methods\n",
    "    for projection in projections:\n",
    "        _df = dense[dense['Projection Type'] == projection]\n",
    "        if not _df.empty:\n",
    "            fig.add_trace(\n",
    "                go.Scatter(\n",
    "                    x=_df['Size'],\n",
    "                    y=_df['Time'],\n",
    "                    name=names.get(projection, projection),\n",
    "                    legendgroup=projection,\n",
    "                    line_color=method_colors[projection],\n",
    "                    showlegend=(col == 1),\n",
    "                    mode='lines+markers'\n",
    "                ),\n",
    "                row=1, col=col\n",
    "            )\n",
    "    \n",
    "    # Add baseline methods - CORRECTED TO FILTER FOR EMPTY PROJECTION TYPE\n",
    "    if method in ['MU C', 'MU SC']:\n",
    "        baseline = stats[(stats['Method'] == 'MU') & (stats['Density'] == \"dense\") & (stats['Projection Type'] == '')]\n",
    "        if not baseline.empty:\n",
    "            fig.add_trace(\n",
    "                go.Scatter(\n",
    "                    x=baseline['Size'],\n",
    "                    y=baseline['Time'],\n",
    "                    name='MU',\n",
    "                    showlegend=(col == 1),\n",
    "                    line=dict(color='black', dash='dash'),\n",
    "                    legendgroup='MU'\n",
    "                ),\n",
    "                row=1, col=col\n",
    "            )\n",
    "    elif method in ['HALS C', 'HALS SC']:\n",
    "        baseline = stats[(stats['Method'] == 'HALS') & (stats['Density'] == \"dense\") & (stats['Projection Type'] == '')]\n",
    "        if not baseline.empty:\n",
    "            fig.add_trace(\n",
    "                go.Scatter(\n",
    "                    x=baseline['Size'],\n",
    "                    y=baseline['Time'],\n",
    "                    name='HALS',\n",
    "                    showlegend=(col == 3),  # Show for first HALS column\n",
    "                    line=dict(color='grey', dash='dash'),\n",
    "                    legendgroup='HALS'\n",
    "                ),\n",
    "                row=1, col=col\n",
    "            )\n",
    "\n",
    "# Add Error plots (row 2)\n",
    "for col, method in enumerate(methods, 1):\n",
    "    # Filter for current method, dense data, and non-empty projections\n",
    "    dense = stats[(stats['Method'] == method) & (stats['Density'] == 'dense') & (stats['Projection Type'] != '')]\n",
    "    \n",
    "    for projection in projections:\n",
    "        _df = dense[dense['Projection Type'] == projection]\n",
    "        if not _df.empty:\n",
    "            fig.add_trace(\n",
    "                go.Scatter(\n",
    "                    x=_df['Size'],\n",
    "                    y=_df['Errors'],\n",
    "                    name=names.get(projection, projection),\n",
    "                    legendgroup=projection,\n",
    "                    line_color=method_colors[projection],\n",
    "                    showlegend=False,\n",
    "                    mode='lines+markers'\n",
    "                ),\n",
    "                row=2, col=col\n",
    "            )\n",
    "    \n",
    "    # Add baseline methods for error plots - CORRECTED TO FILTER FOR EMPTY PROJECTION TYPE\n",
    "    if method in ['MU C', 'MU SC']:\n",
    "        baseline = stats[(stats['Method'] == 'MU') & (stats['Density'] == \"dense\") & (stats['Projection Type'] == '')]\n",
    "        if not baseline.empty:\n",
    "            fig.add_trace(\n",
    "                go.Scatter(\n",
    "                    x=baseline['Size'],\n",
    "                    y=baseline['Errors'],\n",
    "                    name='MU',\n",
    "                    showlegend=False,\n",
    "                    line=dict(color='black', dash='dash'),\n",
    "                    legendgroup='MU'\n",
    "                ),\n",
    "                row=2, col=col\n",
    "            )\n",
    "    elif method in ['HALS C', 'HALS SC']:\n",
    "        baseline = stats[(stats['Method'] == 'HALS') & (stats['Density'] == \"dense\") & (stats['Projection Type'] == '')]\n",
    "        if not baseline.empty:\n",
    "            fig.add_trace(\n",
    "                go.Scatter(\n",
    "                    x=baseline['Size'],\n",
    "                    y=baseline['Errors'],\n",
    "                    name='HALS',\n",
    "                    showlegend=False,\n",
    "                    line=dict(color='grey', dash='dash'),\n",
    "                    legendgroup='HALS'\n",
    "                ),\n",
    "                row=2, col=col\n",
    "            )\n",
    "\n",
    "# Update layout\n",
    "fig.update_layout(\n",
    "    template='plotly_white+simple_white',\n",
    "    legend=dict(\n",
    "        orientation=\"h\",\n",
    "        y=-0.2,\n",
    "        x=0.5,\n",
    "        xanchor=\"center\",\n",
    "        yanchor=\"top\"\n",
    "    ),\n",
    "    font=dict(size=12, color='black'),\n",
    "    margin=dict(l=40, r=40, t=60, b=100),\n",
    "    width=1200,\n",
    "    height=600\n",
    ")\n",
    "\n",
    "# Update axis titles\n",
    "for col in range(1, 5):\n",
    "    fig.update_xaxes(title_text=\"Size (n)\", row=2, col=col)\n",
    "    fig.update_yaxes(title_text=\"Time (s)\", row=1, col=col)\n",
    "    fig.update_yaxes(title_text=\"Error\", row=2, col=col)\n",
    "    \n",
    "for i in range(1, 9):  # For 8 axes (2 rows × 4 columns)\n",
    "    fig.update_xaxes(showgrid=True, gridcolor='lightgray', row=(i-1)//4+1, col=(i-1)%4+1)\n",
    "    fig.update_yaxes(showgrid=True, gridcolor='lightgray', row=(i-1)//4+1, col=(i-1)%4+1)\n",
    "fig.show()"
   ]
  },
  {
   "cell_type": "code",
   "execution_count": 78,
   "id": "485c8052",
   "metadata": {},
   "outputs": [
    {
     "data": {
      "application/vnd.plotly.v1+json": {
       "config": {
        "plotlyServerURL": "https://plot.ly"
       },
       "data": [
        {
         "legendgroup": "gaussian",
         "line": {
          "color": "#636EFA"
         },
         "mode": "lines+markers",
         "name": "Gaussian",
         "showlegend": true,
         "type": "scatter",
         "x": {
          "bdata": "6APQB7gLoA+IEw==",
          "dtype": "i2"
         },
         "xaxis": "x",
         "y": {
          "bdata": "ZmZmVbvoyD/NzKztRpzqPwAAsPhV4v8/MzP7Q2WZDEAAANwc+HoXQA==",
          "dtype": "f8"
         },
         "yaxis": "y"
        },
        {
         "legendgroup": "srht",
         "line": {
          "color": "#EF553B"
         },
         "mode": "lines+markers",
         "name": "SRHT",
         "showlegend": true,
         "type": "scatter",
         "x": {
          "bdata": "6APQB7gLoA+IEw==",
          "dtype": "i2"
         },
         "xaxis": "x",
         "y": {
          "bdata": "ZmZmMoXWyD/NzAxw3WHqP2ZmNhSxx/8/Zmb2wbeIDEAzM0+SrnEXQA==",
          "dtype": "f8"
         },
         "yaxis": "y"
        },
        {
         "legendgroup": "srft",
         "line": {
          "color": "#00CC96"
         },
         "mode": "lines+markers",
         "name": "SRFT",
         "showlegend": true,
         "type": "scatter",
         "x": {
          "bdata": "6APQB7gLoA+IEw==",
          "dtype": "i2"
         },
         "xaxis": "x",
         "y": {
          "bdata": "mpkZV7BPyT/NzIyKlMDqPwAAGFxaIgBAMzMz/n0uDUDNzMjlYJoXQA==",
          "dtype": "f8"
         },
         "yaxis": "y"
        },
        {
         "legendgroup": "sparse-jl",
         "line": {
          "color": "#AB63FA"
         },
         "mode": "lines+markers",
         "name": "Sparse JL",
         "showlegend": true,
         "type": "scatter",
         "x": {
          "bdata": "6APQB7gLoA+IEw==",
          "dtype": "i2"
         },
         "xaxis": "x",
         "y": {
          "bdata": "zczMrZeNyD8zM7PZUNjqPzMzK+SdNQBAMzPTuvVODUCamY0B2c8XQA==",
          "dtype": "f8"
         },
         "yaxis": "y"
        },
        {
         "legendgroup": "count-sketch",
         "line": {
          "color": "#FFA15A"
         },
         "mode": "lines+markers",
         "name": "CountSketch",
         "showlegend": true,
         "type": "scatter",
         "x": {
          "bdata": "6APQB7gLoA+IEw==",
          "dtype": "i2"
         },
         "xaxis": "x",
         "y": {
          "bdata": "AACAM01YyD9mZuZuEbfqP2Zmht4cFQBAzcw8iMcqDUBmZqoUdcUXQA==",
          "dtype": "f8"
         },
         "yaxis": "y"
        },
        {
         "legendgroup": "MU",
         "line": {
          "color": "black",
          "dash": "dash"
         },
         "name": "MU",
         "showlegend": true,
         "type": "scatter",
         "x": {
          "bdata": "6APQB7gLoA+IEw==",
          "dtype": "i2"
         },
         "xaxis": "x",
         "y": {
          "bdata": "ZmbmniF70T8zM5MIbUz0P2ZmHoD1vApAAADs6I/TGEAAAFqD95MkQA==",
          "dtype": "f8"
         },
         "yaxis": "y"
        },
        {
         "legendgroup": "gaussian",
         "line": {
          "color": "#636EFA"
         },
         "mode": "lines+markers",
         "name": "Gaussian",
         "showlegend": false,
         "type": "scatter",
         "x": {
          "bdata": "6APQB7gLoA+IEw==",
          "dtype": "i2"
         },
         "xaxis": "x2",
         "y": {
          "bdata": "Zmbm9SdxyT8zMxNZFxbrP83MfIwkRwBAmpmh+kF0DUBmZg6/UfUXQA==",
          "dtype": "f8"
         },
         "yaxis": "y2"
        },
        {
         "legendgroup": "srht",
         "line": {
          "color": "#EF553B"
         },
         "mode": "lines+markers",
         "name": "SRHT",
         "showlegend": false,
         "type": "scatter",
         "x": {
          "bdata": "6APQB7gLoA+IEw==",
          "dtype": "i2"
         },
         "xaxis": "x2",
         "y": {
          "bdata": "ZmbmnSceyj9mZsY5PjvsP83MjLWWdAFAmpnxHrHHDkCame2kMoMZQA==",
          "dtype": "f8"
         },
         "yaxis": "y2"
        },
        {
         "legendgroup": "srft",
         "line": {
          "color": "#00CC96"
         },
         "mode": "lines+markers",
         "name": "SRFT",
         "showlegend": false,
         "type": "scatter",
         "x": {
          "bdata": "6APQB7gLoA+IEw==",
          "dtype": "i2"
         },
         "xaxis": "x2",
         "y": {
          "bdata": "AACA4gchyT9mZobnPBvrPzMzi49YAwBAMzODvqFuDUCamUXtdtQXQA==",
          "dtype": "f8"
         },
         "yaxis": "y2"
        },
        {
         "legendgroup": "sparse-jl",
         "line": {
          "color": "#AB63FA"
         },
         "mode": "lines+markers",
         "name": "Sparse JL",
         "showlegend": false,
         "type": "scatter",
         "x": {
          "bdata": "6APQB7gLoA+IEw==",
          "dtype": "i2"
         },
         "xaxis": "x2",
         "y": {
          "bdata": "MzMzv5D+yD/NzEwTnQLrP83MvERqFwBAAABIaoi/DUCambGTdgYYQA==",
          "dtype": "f8"
         },
         "yaxis": "y2"
        },
        {
         "legendgroup": "count-sketch",
         "line": {
          "color": "#FFA15A"
         },
         "mode": "lines+markers",
         "name": "CountSketch",
         "showlegend": false,
         "type": "scatter",
         "x": {
          "bdata": "6APQB7gLoA+IEw==",
          "dtype": "i2"
         },
         "xaxis": "x2",
         "y": {
          "bdata": "AAAAg9u9yD/NzIyGF+fqP83MtKXVYABAmpnxnQyUDUAzM7tJDOoXQA==",
          "dtype": "f8"
         },
         "yaxis": "y2"
        },
        {
         "legendgroup": "MU",
         "line": {
          "color": "black",
          "dash": "dash"
         },
         "name": "MU",
         "showlegend": false,
         "type": "scatter",
         "x": {
          "bdata": "6APQB7gLoA+IEw==",
          "dtype": "i2"
         },
         "xaxis": "x2",
         "y": {
          "bdata": "ZmbmniF70T8zM5MIbUz0P2ZmHoD1vApAAADs6I/TGEAAAFqD95MkQA==",
          "dtype": "f8"
         },
         "yaxis": "y2"
        },
        {
         "legendgroup": "gaussian",
         "line": {
          "color": "#636EFA"
         },
         "mode": "lines+markers",
         "name": "Gaussian",
         "showlegend": false,
         "type": "scatter",
         "x": {
          "bdata": "6APQB7gLoA+IEw==",
          "dtype": "i2"
         },
         "xaxis": "x3",
         "y": {
          "bdata": "ZmZma8eeyT9mZgbjXFrqP5qZGWlexf8/ZmaO16TXDEDNzOC8cmgXQA==",
          "dtype": "f8"
         },
         "yaxis": "y3"
        },
        {
         "legendgroup": "srht",
         "line": {
          "color": "#EF553B"
         },
         "mode": "lines+markers",
         "name": "SRHT",
         "showlegend": false,
         "type": "scatter",
         "x": {
          "bdata": "6APQB7gLoA+IEw==",
          "dtype": "i2"
         },
         "xaxis": "x3",
         "y": {
          "bdata": "MzOzmA7fyT/NzMxgMGXqP83M3B3nCABAMzOzCtXUDEBmZup8eE4XQA==",
          "dtype": "f8"
         },
         "yaxis": "y3"
        },
        {
         "legendgroup": "srft",
         "line": {
          "color": "#00CC96"
         },
         "mode": "lines+markers",
         "name": "SRFT",
         "showlegend": false,
         "type": "scatter",
         "x": {
          "bdata": "6APQB7gLoA+IEw==",
          "dtype": "i2"
         },
         "xaxis": "x3",
         "y": {
          "bdata": "ZmZmL5HByj8zMxNr0eXqPwAAcG/ABwBAmpk5eCYcDUCamZ2NnmcXQA==",
          "dtype": "f8"
         },
         "yaxis": "y3"
        },
        {
         "legendgroup": "sparse-jl",
         "line": {
          "color": "#AB63FA"
         },
         "mode": "lines+markers",
         "name": "Sparse JL",
         "showlegend": false,
         "type": "scatter",
         "x": {
          "bdata": "6APQB7gLoA+IEw==",
          "dtype": "i2"
         },
         "xaxis": "x3",
         "y": {
          "bdata": "AACA9nEbyj9mZmZd3fDqPwAAmBMXJABAmpmJhedGDUDNzKz4fqEXQA==",
          "dtype": "f8"
         },
         "yaxis": "y3"
        },
        {
         "legendgroup": "count-sketch",
         "line": {
          "color": "#FFA15A"
         },
         "mode": "lines+markers",
         "name": "CountSketch",
         "showlegend": false,
         "type": "scatter",
         "x": {
          "bdata": "6APQB7gLoA+IEw==",
          "dtype": "i2"
         },
         "xaxis": "x3",
         "y": {
          "bdata": "MzOzztDoyT/NzAy4S67qPwAAaIwgDwBAmpmpmEofDUBmZgLMOn8XQA==",
          "dtype": "f8"
         },
         "yaxis": "y3"
        },
        {
         "legendgroup": "HALS",
         "line": {
          "color": "grey",
          "dash": "dash"
         },
         "name": "HALS",
         "showlegend": true,
         "type": "scatter",
         "x": {
          "bdata": "6APQB7gLoA+IEw==",
          "dtype": "i2"
         },
         "xaxis": "x3",
         "y": {
          "bdata": "AAAAech3zT/NzAzI+jrvP83MrPYbgwNAAADwOlWFEUCamWn8iFgcQA==",
          "dtype": "f8"
         },
         "yaxis": "y3"
        },
        {
         "legendgroup": "gaussian",
         "line": {
          "color": "#636EFA"
         },
         "mode": "lines+markers",
         "name": "Gaussian",
         "showlegend": false,
         "type": "scatter",
         "x": {
          "bdata": "6APQB7gLoA+IEw==",
          "dtype": "i2"
         },
         "xaxis": "x4",
         "y": {
          "bdata": "AACA3KSayj8AAMCCDiLrP2Zmjt7LOABAzcxEAR1eDUAAAKxgbacXQA==",
          "dtype": "f8"
         },
         "yaxis": "y4"
        },
        {
         "legendgroup": "srht",
         "line": {
          "color": "#EF553B"
         },
         "mode": "lines+markers",
         "name": "SRHT",
         "showlegend": false,
         "type": "scatter",
         "x": {
          "bdata": "6APQB7gLoA+IEw==",
          "dtype": "i2"
         },
         "xaxis": "x4",
         "y": {
          "bdata": "MzOzs3elyz/NzOw9MT/sPzMzQ/lhkAFAzczE7ZatDkCamc3VRUgZQA==",
          "dtype": "f8"
         },
         "yaxis": "y4"
        },
        {
         "legendgroup": "srft",
         "line": {
          "color": "#00CC96"
         },
         "mode": "lines+markers",
         "name": "SRFT",
         "showlegend": false,
         "type": "scatter",
         "x": {
          "bdata": "6APQB7gLoA+IEw==",
          "dtype": "i2"
         },
         "xaxis": "x4",
         "y": {
          "bdata": "MzMzDEnayj8zM1MR6CXrP5qZkUOSMwBAmplxQr9hDUDNzDjB9aQXQA==",
          "dtype": "f8"
         },
         "yaxis": "y4"
        },
        {
         "legendgroup": "sparse-jl",
         "line": {
          "color": "#AB63FA"
         },
         "mode": "lines+markers",
         "name": "Sparse JL",
         "showlegend": false,
         "type": "scatter",
         "x": {
          "bdata": "6APQB7gLoA+IEw==",
          "dtype": "i2"
         },
         "xaxis": "x4",
         "y": {
          "bdata": "MzOzylGdyj+amRmXMEHrP83MjLLhPQBAMzObzuKADUBmZsK8KsgXQA==",
          "dtype": "f8"
         },
         "yaxis": "y4"
        },
        {
         "legendgroup": "count-sketch",
         "line": {
          "color": "#FFA15A"
         },
         "mode": "lines+markers",
         "name": "CountSketch",
         "showlegend": false,
         "type": "scatter",
         "x": {
          "bdata": "6APQB7gLoA+IEw==",
          "dtype": "i2"
         },
         "xaxis": "x4",
         "y": {
          "bdata": "zczMtJ2Ayj8AAADpMQPrP2ZmxgobQQBAmpmRMZBSDUDNzIyg784XQA==",
          "dtype": "f8"
         },
         "yaxis": "y4"
        },
        {
         "legendgroup": "HALS",
         "line": {
          "color": "grey",
          "dash": "dash"
         },
         "name": "HALS",
         "showlegend": false,
         "type": "scatter",
         "x": {
          "bdata": "6APQB7gLoA+IEw==",
          "dtype": "i2"
         },
         "xaxis": "x4",
         "y": {
          "bdata": "AAAAech3zT/NzAzI+jrvP83MrPYbgwNAAADwOlWFEUCamWn8iFgcQA==",
          "dtype": "f8"
         },
         "yaxis": "y4"
        },
        {
         "legendgroup": "gaussian",
         "line": {
          "color": "#636EFA"
         },
         "mode": "lines+markers",
         "name": "Gaussian",
         "showlegend": false,
         "type": "scatter",
         "x": {
          "bdata": "6APQB7gLoA+IEw==",
          "dtype": "i2"
         },
         "xaxis": "x5",
         "y": {
          "bdata": "/icloZWw5j+I2nQADovqP5D6EIsnbuo/yKYom2T86j+jvAYbSWTrPw==",
          "dtype": "f8"
         },
         "yaxis": "y5"
        },
        {
         "legendgroup": "srht",
         "line": {
          "color": "#EF553B"
         },
         "mode": "lines+markers",
         "name": "SRHT",
         "showlegend": false,
         "type": "scatter",
         "x": {
          "bdata": "6APQB7gLoA+IEw==",
          "dtype": "i2"
         },
         "xaxis": "x5",
         "y": {
          "bdata": "JmtDOJRH5D+x9saKejfoP2O85alujuk/4MWOe3x06z/+OW8E87TsPw==",
          "dtype": "f8"
         },
         "yaxis": "y5"
        },
        {
         "legendgroup": "srft",
         "line": {
          "color": "#00CC96"
         },
         "mode": "lines+markers",
         "name": "SRFT",
         "showlegend": false,
         "type": "scatter",
         "x": {
          "bdata": "6APQB7gLoA+IEw==",
          "dtype": "i2"
         },
         "xaxis": "x5",
         "y": {
          "bdata": "7gVHqJV15z/Vic7eyNjqP93h1M5UI+w/w08WXC047j8zm6b9Ll3uPw==",
          "dtype": "f8"
         },
         "yaxis": "y5"
        },
        {
         "legendgroup": "sparse-jl",
         "line": {
          "color": "#AB63FA"
         },
         "mode": "lines+markers",
         "name": "Sparse JL",
         "showlegend": false,
         "type": "scatter",
         "x": {
          "bdata": "6APQB7gLoA+IEw==",
          "dtype": "i2"
         },
         "xaxis": "x5",
         "y": {
          "bdata": "MVAOLHTO6D8TSIuU8WrrPxMXeHktrug/5ldNZPi66T9bFQOie7TqPw==",
          "dtype": "f8"
         },
         "yaxis": "y5"
        },
        {
         "legendgroup": "count-sketch",
         "line": {
          "color": "#FFA15A"
         },
         "mode": "lines+markers",
         "name": "CountSketch",
         "showlegend": false,
         "type": "scatter",
         "x": {
          "bdata": "6APQB7gLoA+IEw==",
          "dtype": "i2"
         },
         "xaxis": "x5",
         "y": {
          "bdata": "0LoKzsLs5j8VA9ECgATuP0YA9+Lau+g/xzNW77n66D+Tk7egbMfqPw==",
          "dtype": "f8"
         },
         "yaxis": "y5"
        },
        {
         "legendgroup": "MU",
         "line": {
          "color": "black",
          "dash": "dash"
         },
         "name": "MU",
         "showlegend": false,
         "type": "scatter",
         "x": {
          "bdata": "6APQB7gLoA+IEw==",
          "dtype": "i2"
         },
         "xaxis": "x5",
         "y": {
          "bdata": "Nhzbe5094D8qE+t0iYzjP3LMUajzIeE/vn4YC5c44j8mqzAXbjXiPw==",
          "dtype": "f8"
         },
         "yaxis": "y5"
        },
        {
         "legendgroup": "gaussian",
         "line": {
          "color": "#636EFA"
         },
         "mode": "lines+markers",
         "name": "Gaussian",
         "showlegend": false,
         "type": "scatter",
         "x": {
          "bdata": "6APQB7gLoA+IEw==",
          "dtype": "i2"
         },
         "xaxis": "x6",
         "y": {
          "bdata": "/YjXWOpm4D9H8pFs1zrjPzqWJd9yNOE/mmQGrOzn4T+8G47J9bTiPw==",
          "dtype": "f8"
         },
         "yaxis": "y6"
        },
        {
         "legendgroup": "srht",
         "line": {
          "color": "#EF553B"
         },
         "mode": "lines+markers",
         "name": "SRHT",
         "showlegend": false,
         "type": "scatter",
         "x": {
          "bdata": "6APQB7gLoA+IEw==",
          "dtype": "i2"
         },
         "xaxis": "x6",
         "y": {
          "bdata": "t+MxtM574D8UXkouHlfjPw4CS2WZGOE/4B/1MiPp4T+WYZCGcLXiPw==",
          "dtype": "f8"
         },
         "yaxis": "y6"
        },
        {
         "legendgroup": "srft",
         "line": {
          "color": "#00CC96"
         },
         "mode": "lines+markers",
         "name": "SRFT",
         "showlegend": false,
         "type": "scatter",
         "x": {
          "bdata": "6APQB7gLoA+IEw==",
          "dtype": "i2"
         },
         "xaxis": "x6",
         "y": {
          "bdata": "l4653EuX4D8/UwYruUfjP1L5B1hZOeE/+u0RtvXn4T8J9bVv9rTiPw==",
          "dtype": "f8"
         },
         "yaxis": "y6"
        },
        {
         "legendgroup": "sparse-jl",
         "line": {
          "color": "#AB63FA"
         },
         "mode": "lines+markers",
         "name": "Sparse JL",
         "showlegend": false,
         "type": "scatter",
         "x": {
          "bdata": "6APQB7gLoA+IEw==",
          "dtype": "i2"
         },
         "xaxis": "x6",
         "y": {
          "bdata": "wi6/9FRy5D+ejsBCyQXsP51b/Yl/mOY/sA52Uh8x5D/A7kWUH+LlPw==",
          "dtype": "f8"
         },
         "yaxis": "y6"
        },
        {
         "legendgroup": "count-sketch",
         "line": {
          "color": "#FFA15A"
         },
         "mode": "lines+markers",
         "name": "CountSketch",
         "showlegend": false,
         "type": "scatter",
         "x": {
          "bdata": "6APQB7gLoA+IEw==",
          "dtype": "i2"
         },
         "xaxis": "x6",
         "y": {
          "bdata": "Ih5jh6826j9ClKG//gjyPyjGNNGjVe0/trj/dGyq7D/takA16L3uPw==",
          "dtype": "f8"
         },
         "yaxis": "y6"
        },
        {
         "legendgroup": "MU",
         "line": {
          "color": "black",
          "dash": "dash"
         },
         "name": "MU",
         "showlegend": false,
         "type": "scatter",
         "x": {
          "bdata": "6APQB7gLoA+IEw==",
          "dtype": "i2"
         },
         "xaxis": "x6",
         "y": {
          "bdata": "Nhzbe5094D8qE+t0iYzjP3LMUajzIeE/vn4YC5c44j8mqzAXbjXiPw==",
          "dtype": "f8"
         },
         "yaxis": "y6"
        },
        {
         "legendgroup": "gaussian",
         "line": {
          "color": "#636EFA"
         },
         "mode": "lines+markers",
         "name": "Gaussian",
         "showlegend": false,
         "type": "scatter",
         "x": {
          "bdata": "6APQB7gLoA+IEw==",
          "dtype": "i2"
         },
         "xaxis": "x7",
         "y": {
          "bdata": "67Q5o6YQ7z/WJL9REuzuPz5z+RwD5O4/bal8o5eh7j+zxUtZoxbvPw==",
          "dtype": "f8"
         },
         "yaxis": "y7"
        },
        {
         "legendgroup": "srht",
         "line": {
          "color": "#EF553B"
         },
         "mode": "lines+markers",
         "name": "SRHT",
         "showlegend": false,
         "type": "scatter",
         "x": {
          "bdata": "6APQB7gLoA+IEw==",
          "dtype": "i2"
         },
         "xaxis": "x7",
         "y": {
          "bdata": "RhjLeWR17j/o/F6cDtPuP3OEhpdLru4/vRTH5ObI7j/FCJTKeNHuPw==",
          "dtype": "f8"
         },
         "yaxis": "y7"
        },
        {
         "legendgroup": "srft",
         "line": {
          "color": "#00CC96"
         },
         "mode": "lines+markers",
         "name": "SRFT",
         "showlegend": false,
         "type": "scatter",
         "x": {
          "bdata": "6APQB7gLoA+IEw==",
          "dtype": "i2"
         },
         "xaxis": "x7",
         "y": {
          "bdata": "Zo39lc6A7j/gTvQ/I0jvPwuINTUXne4/LjGqtzqt7j8zz8SwcO7uPw==",
          "dtype": "f8"
         },
         "yaxis": "y7"
        },
        {
         "legendgroup": "sparse-jl",
         "line": {
          "color": "#AB63FA"
         },
         "mode": "lines+markers",
         "name": "Sparse JL",
         "showlegend": false,
         "type": "scatter",
         "x": {
          "bdata": "6APQB7gLoA+IEw==",
          "dtype": "i2"
         },
         "xaxis": "x7",
         "y": {
          "bdata": "2rEEUddW7z8A64EL+b7uP+7fBUSH/u4/c1Xx1mA47z9bwBqhY/zuPw==",
          "dtype": "f8"
         },
         "yaxis": "y7"
        },
        {
         "legendgroup": "count-sketch",
         "line": {
          "color": "#FFA15A"
         },
         "mode": "lines+markers",
         "name": "CountSketch",
         "showlegend": false,
         "type": "scatter",
         "x": {
          "bdata": "6APQB7gLoA+IEw==",
          "dtype": "i2"
         },
         "xaxis": "x7",
         "y": {
          "bdata": "jqnxqBVN7j8aWug1VTzvP9D69+0UK+8/GxeYxo8Z7z8OAq+mYjvvPw==",
          "dtype": "f8"
         },
         "yaxis": "y7"
        },
        {
         "legendgroup": "HALS",
         "line": {
          "color": "grey",
          "dash": "dash"
         },
         "name": "HALS",
         "showlegend": false,
         "type": "scatter",
         "x": {
          "bdata": "6APQB7gLoA+IEw==",
          "dtype": "i2"
         },
         "xaxis": "x7",
         "y": {
          "bdata": "uHRlhPyk7T/OFrvKVnfuP1qedWwvEe4/QA2PWsA27j+y1b3tRzDuPw==",
          "dtype": "f8"
         },
         "yaxis": "y7"
        },
        {
         "legendgroup": "gaussian",
         "line": {
          "color": "#636EFA"
         },
         "mode": "lines+markers",
         "name": "Gaussian",
         "showlegend": false,
         "type": "scatter",
         "x": {
          "bdata": "6APQB7gLoA+IEw==",
          "dtype": "i2"
         },
         "xaxis": "x8",
         "y": {
          "bdata": "cNj0amfJ7D+9GBxzKartP/PDoNiLze0/VnUkqi4N7j8bvXte25ztPw==",
          "dtype": "f8"
         },
         "yaxis": "y8"
        },
        {
         "legendgroup": "srht",
         "line": {
          "color": "#EF553B"
         },
         "mode": "lines+markers",
         "name": "SRHT",
         "showlegend": false,
         "type": "scatter",
         "x": {
          "bdata": "6APQB7gLoA+IEw==",
          "dtype": "i2"
         },
         "xaxis": "x8",
         "y": {
          "bdata": "3ZPuWPeu7D+6QI+QKartP9W0RKiLze0/3Udsyer37T9rtwZh25ztPw==",
          "dtype": "f8"
         },
         "yaxis": "y8"
        },
        {
         "legendgroup": "srft",
         "line": {
          "color": "#00CC96"
         },
         "mode": "lines+markers",
         "name": "SRFT",
         "showlegend": false,
         "type": "scatter",
         "x": {
          "bdata": "6APQB7gLoA+IEw==",
          "dtype": "i2"
         },
         "xaxis": "x8",
         "y": {
          "bdata": "Y0A0YPSu7D8QOnJzKartP0g6ubWLze0/gpXaAev37T++rhpo25ztPw==",
          "dtype": "f8"
         },
         "yaxis": "y8"
        },
        {
         "legendgroup": "sparse-jl",
         "line": {
          "color": "#AB63FA"
         },
         "mode": "lines+markers",
         "name": "Sparse JL",
         "showlegend": false,
         "type": "scatter",
         "x": {
          "bdata": "6APQB7gLoA+IEw==",
          "dtype": "i2"
         },
         "xaxis": "x8",
         "y": {
          "bdata": "GgpOJu/S7D+qYkJrOm3tPziThuMVwe0/a/bK99bw7T+Apjws+NDtPw==",
          "dtype": "f8"
         },
         "yaxis": "y8"
        },
        {
         "legendgroup": "count-sketch",
         "line": {
          "color": "#FFA15A"
         },
         "mode": "lines+markers",
         "name": "CountSketch",
         "showlegend": false,
         "type": "scatter",
         "x": {
          "bdata": "6APQB7gLoA+IEw==",
          "dtype": "i2"
         },
         "xaxis": "x8",
         "y": {
          "bdata": "YJLMMfAa7T9WPOqYNgXvP4rb0Xsm7+0/sIVpSBAC7j/4yHSLak7uPw==",
          "dtype": "f8"
         },
         "yaxis": "y8"
        },
        {
         "legendgroup": "HALS",
         "line": {
          "color": "grey",
          "dash": "dash"
         },
         "name": "HALS",
         "showlegend": false,
         "type": "scatter",
         "x": {
          "bdata": "6APQB7gLoA+IEw==",
          "dtype": "i2"
         },
         "xaxis": "x8",
         "y": {
          "bdata": "uHRlhPyk7T/OFrvKVnfuP1qedWwvEe4/QA2PWsA27j+y1b3tRzDuPw==",
          "dtype": "f8"
         },
         "yaxis": "y8"
        }
       ],
       "layout": {
        "annotations": [
         {
          "font": {
           "size": 16
          },
          "showarrow": false,
          "text": "MU C",
          "x": 0.10625,
          "xanchor": "center",
          "xref": "paper",
          "y": 1,
          "yanchor": "bottom",
          "yref": "paper"
         },
         {
          "font": {
           "size": 16
          },
          "showarrow": false,
          "text": "MU SC",
          "x": 0.36875,
          "xanchor": "center",
          "xref": "paper",
          "y": 1,
          "yanchor": "bottom",
          "yref": "paper"
         },
         {
          "font": {
           "size": 16
          },
          "showarrow": false,
          "text": "HALS C",
          "x": 0.6312500000000001,
          "xanchor": "center",
          "xref": "paper",
          "y": 1,
          "yanchor": "bottom",
          "yref": "paper"
         },
         {
          "font": {
           "size": 16
          },
          "showarrow": false,
          "text": "HALS SC",
          "x": 0.89375,
          "xanchor": "center",
          "xref": "paper",
          "y": 1,
          "yanchor": "bottom",
          "yref": "paper"
         },
         {
          "font": {
           "size": 16
          },
          "showarrow": false,
          "text": "MU C",
          "x": 0.10625,
          "xanchor": "center",
          "xref": "paper",
          "y": 0.46,
          "yanchor": "bottom",
          "yref": "paper"
         },
         {
          "font": {
           "size": 16
          },
          "showarrow": false,
          "text": "MU SC",
          "x": 0.36875,
          "xanchor": "center",
          "xref": "paper",
          "y": 0.46,
          "yanchor": "bottom",
          "yref": "paper"
         },
         {
          "font": {
           "size": 16
          },
          "showarrow": false,
          "text": "HALS C",
          "x": 0.6312500000000001,
          "xanchor": "center",
          "xref": "paper",
          "y": 0.46,
          "yanchor": "bottom",
          "yref": "paper"
         },
         {
          "font": {
           "size": 16
          },
          "showarrow": false,
          "text": "HALS SC",
          "x": 0.89375,
          "xanchor": "center",
          "xref": "paper",
          "y": 0.46,
          "yanchor": "bottom",
          "yref": "paper"
         }
        ],
        "font": {
         "color": "black",
         "size": 12
        },
        "height": 600,
        "legend": {
         "orientation": "h",
         "x": 0.5,
         "xanchor": "center",
         "y": -0.2,
         "yanchor": "top"
        },
        "margin": {
         "b": 100,
         "l": 40,
         "r": 40,
         "t": 60
        },
        "template": {
         "data": {
          "bar": [
           {
            "error_x": {
             "color": "rgb(36,36,36)"
            },
            "error_y": {
             "color": "rgb(36,36,36)"
            },
            "marker": {
             "line": {
              "color": "white",
              "width": 0.5
             },
             "pattern": {
              "fillmode": "overlay",
              "size": 10,
              "solidity": 0.2
             }
            },
            "type": "bar"
           }
          ],
          "barpolar": [
           {
            "marker": {
             "line": {
              "color": "white",
              "width": 0.5
             },
             "pattern": {
              "fillmode": "overlay",
              "size": 10,
              "solidity": 0.2
             }
            },
            "type": "barpolar"
           }
          ],
          "carpet": [
           {
            "aaxis": {
             "endlinecolor": "rgb(36,36,36)",
             "gridcolor": "white",
             "linecolor": "white",
             "minorgridcolor": "white",
             "startlinecolor": "rgb(36,36,36)"
            },
            "baxis": {
             "endlinecolor": "rgb(36,36,36)",
             "gridcolor": "white",
             "linecolor": "white",
             "minorgridcolor": "white",
             "startlinecolor": "rgb(36,36,36)"
            },
            "type": "carpet"
           }
          ],
          "choropleth": [
           {
            "colorbar": {
             "outlinewidth": 1,
             "tickcolor": "rgb(36,36,36)",
             "ticks": "outside"
            },
            "type": "choropleth"
           }
          ],
          "contour": [
           {
            "colorbar": {
             "outlinewidth": 1,
             "tickcolor": "rgb(36,36,36)",
             "ticks": "outside"
            },
            "colorscale": [
             [
              0,
              "#440154"
             ],
             [
              0.1111111111111111,
              "#482878"
             ],
             [
              0.2222222222222222,
              "#3e4989"
             ],
             [
              0.3333333333333333,
              "#31688e"
             ],
             [
              0.4444444444444444,
              "#26828e"
             ],
             [
              0.5555555555555556,
              "#1f9e89"
             ],
             [
              0.6666666666666666,
              "#35b779"
             ],
             [
              0.7777777777777778,
              "#6ece58"
             ],
             [
              0.8888888888888888,
              "#b5de2b"
             ],
             [
              1,
              "#fde725"
             ]
            ],
            "type": "contour"
           }
          ],
          "contourcarpet": [
           {
            "colorbar": {
             "outlinewidth": 1,
             "tickcolor": "rgb(36,36,36)",
             "ticks": "outside"
            },
            "type": "contourcarpet"
           }
          ],
          "heatmap": [
           {
            "colorbar": {
             "outlinewidth": 1,
             "tickcolor": "rgb(36,36,36)",
             "ticks": "outside"
            },
            "colorscale": [
             [
              0,
              "#440154"
             ],
             [
              0.1111111111111111,
              "#482878"
             ],
             [
              0.2222222222222222,
              "#3e4989"
             ],
             [
              0.3333333333333333,
              "#31688e"
             ],
             [
              0.4444444444444444,
              "#26828e"
             ],
             [
              0.5555555555555556,
              "#1f9e89"
             ],
             [
              0.6666666666666666,
              "#35b779"
             ],
             [
              0.7777777777777778,
              "#6ece58"
             ],
             [
              0.8888888888888888,
              "#b5de2b"
             ],
             [
              1,
              "#fde725"
             ]
            ],
            "type": "heatmap"
           }
          ],
          "histogram": [
           {
            "marker": {
             "line": {
              "color": "white",
              "width": 0.6
             },
             "pattern": {
              "fillmode": "overlay",
              "size": 10,
              "solidity": 0.2
             }
            },
            "type": "histogram"
           }
          ],
          "histogram2d": [
           {
            "colorbar": {
             "outlinewidth": 1,
             "tickcolor": "rgb(36,36,36)",
             "ticks": "outside"
            },
            "colorscale": [
             [
              0,
              "#440154"
             ],
             [
              0.1111111111111111,
              "#482878"
             ],
             [
              0.2222222222222222,
              "#3e4989"
             ],
             [
              0.3333333333333333,
              "#31688e"
             ],
             [
              0.4444444444444444,
              "#26828e"
             ],
             [
              0.5555555555555556,
              "#1f9e89"
             ],
             [
              0.6666666666666666,
              "#35b779"
             ],
             [
              0.7777777777777778,
              "#6ece58"
             ],
             [
              0.8888888888888888,
              "#b5de2b"
             ],
             [
              1,
              "#fde725"
             ]
            ],
            "type": "histogram2d"
           }
          ],
          "histogram2dcontour": [
           {
            "colorbar": {
             "outlinewidth": 1,
             "tickcolor": "rgb(36,36,36)",
             "ticks": "outside"
            },
            "colorscale": [
             [
              0,
              "#440154"
             ],
             [
              0.1111111111111111,
              "#482878"
             ],
             [
              0.2222222222222222,
              "#3e4989"
             ],
             [
              0.3333333333333333,
              "#31688e"
             ],
             [
              0.4444444444444444,
              "#26828e"
             ],
             [
              0.5555555555555556,
              "#1f9e89"
             ],
             [
              0.6666666666666666,
              "#35b779"
             ],
             [
              0.7777777777777778,
              "#6ece58"
             ],
             [
              0.8888888888888888,
              "#b5de2b"
             ],
             [
              1,
              "#fde725"
             ]
            ],
            "type": "histogram2dcontour"
           }
          ],
          "mesh3d": [
           {
            "colorbar": {
             "outlinewidth": 1,
             "tickcolor": "rgb(36,36,36)",
             "ticks": "outside"
            },
            "type": "mesh3d"
           }
          ],
          "parcoords": [
           {
            "line": {
             "colorbar": {
              "outlinewidth": 1,
              "tickcolor": "rgb(36,36,36)",
              "ticks": "outside"
             }
            },
            "type": "parcoords"
           }
          ],
          "pie": [
           {
            "automargin": true,
            "type": "pie"
           }
          ],
          "scatter": [
           {
            "fillpattern": {
             "fillmode": "overlay",
             "size": 10,
             "solidity": 0.2
            },
            "type": "scatter"
           }
          ],
          "scatter3d": [
           {
            "line": {
             "colorbar": {
              "outlinewidth": 1,
              "tickcolor": "rgb(36,36,36)",
              "ticks": "outside"
             }
            },
            "marker": {
             "colorbar": {
              "outlinewidth": 1,
              "tickcolor": "rgb(36,36,36)",
              "ticks": "outside"
             }
            },
            "type": "scatter3d"
           }
          ],
          "scattercarpet": [
           {
            "marker": {
             "colorbar": {
              "outlinewidth": 1,
              "tickcolor": "rgb(36,36,36)",
              "ticks": "outside"
             }
            },
            "type": "scattercarpet"
           }
          ],
          "scattergeo": [
           {
            "marker": {
             "colorbar": {
              "outlinewidth": 1,
              "tickcolor": "rgb(36,36,36)",
              "ticks": "outside"
             }
            },
            "type": "scattergeo"
           }
          ],
          "scattergl": [
           {
            "marker": {
             "colorbar": {
              "outlinewidth": 1,
              "tickcolor": "rgb(36,36,36)",
              "ticks": "outside"
             }
            },
            "type": "scattergl"
           }
          ],
          "scattermap": [
           {
            "marker": {
             "colorbar": {
              "outlinewidth": 1,
              "tickcolor": "rgb(36,36,36)",
              "ticks": "outside"
             }
            },
            "type": "scattermap"
           }
          ],
          "scattermapbox": [
           {
            "marker": {
             "colorbar": {
              "outlinewidth": 1,
              "tickcolor": "rgb(36,36,36)",
              "ticks": "outside"
             }
            },
            "type": "scattermapbox"
           }
          ],
          "scatterpolar": [
           {
            "marker": {
             "colorbar": {
              "outlinewidth": 1,
              "tickcolor": "rgb(36,36,36)",
              "ticks": "outside"
             }
            },
            "type": "scatterpolar"
           }
          ],
          "scatterpolargl": [
           {
            "marker": {
             "colorbar": {
              "outlinewidth": 1,
              "tickcolor": "rgb(36,36,36)",
              "ticks": "outside"
             }
            },
            "type": "scatterpolargl"
           }
          ],
          "scatterternary": [
           {
            "marker": {
             "colorbar": {
              "outlinewidth": 1,
              "tickcolor": "rgb(36,36,36)",
              "ticks": "outside"
             }
            },
            "type": "scatterternary"
           }
          ],
          "surface": [
           {
            "colorbar": {
             "outlinewidth": 1,
             "tickcolor": "rgb(36,36,36)",
             "ticks": "outside"
            },
            "colorscale": [
             [
              0,
              "#440154"
             ],
             [
              0.1111111111111111,
              "#482878"
             ],
             [
              0.2222222222222222,
              "#3e4989"
             ],
             [
              0.3333333333333333,
              "#31688e"
             ],
             [
              0.4444444444444444,
              "#26828e"
             ],
             [
              0.5555555555555556,
              "#1f9e89"
             ],
             [
              0.6666666666666666,
              "#35b779"
             ],
             [
              0.7777777777777778,
              "#6ece58"
             ],
             [
              0.8888888888888888,
              "#b5de2b"
             ],
             [
              1,
              "#fde725"
             ]
            ],
            "type": "surface"
           }
          ],
          "table": [
           {
            "cells": {
             "fill": {
              "color": "rgb(237,237,237)"
             },
             "line": {
              "color": "white"
             }
            },
            "header": {
             "fill": {
              "color": "rgb(217,217,217)"
             },
             "line": {
              "color": "white"
             }
            },
            "type": "table"
           }
          ]
         },
         "layout": {
          "annotationdefaults": {
           "arrowcolor": "#2a3f5f",
           "arrowhead": 0,
           "arrowwidth": 1
          },
          "autotypenumbers": "strict",
          "coloraxis": {
           "colorbar": {
            "outlinewidth": 1,
            "tickcolor": "rgb(36,36,36)",
            "ticks": "outside"
           }
          },
          "colorscale": {
           "diverging": [
            [
             0,
             "rgb(103,0,31)"
            ],
            [
             0.1,
             "rgb(178,24,43)"
            ],
            [
             0.2,
             "rgb(214,96,77)"
            ],
            [
             0.3,
             "rgb(244,165,130)"
            ],
            [
             0.4,
             "rgb(253,219,199)"
            ],
            [
             0.5,
             "rgb(247,247,247)"
            ],
            [
             0.6,
             "rgb(209,229,240)"
            ],
            [
             0.7,
             "rgb(146,197,222)"
            ],
            [
             0.8,
             "rgb(67,147,195)"
            ],
            [
             0.9,
             "rgb(33,102,172)"
            ],
            [
             1,
             "rgb(5,48,97)"
            ]
           ],
           "sequential": [
            [
             0,
             "#440154"
            ],
            [
             0.1111111111111111,
             "#482878"
            ],
            [
             0.2222222222222222,
             "#3e4989"
            ],
            [
             0.3333333333333333,
             "#31688e"
            ],
            [
             0.4444444444444444,
             "#26828e"
            ],
            [
             0.5555555555555556,
             "#1f9e89"
            ],
            [
             0.6666666666666666,
             "#35b779"
            ],
            [
             0.7777777777777778,
             "#6ece58"
            ],
            [
             0.8888888888888888,
             "#b5de2b"
            ],
            [
             1,
             "#fde725"
            ]
           ],
           "sequentialminus": [
            [
             0,
             "#440154"
            ],
            [
             0.1111111111111111,
             "#482878"
            ],
            [
             0.2222222222222222,
             "#3e4989"
            ],
            [
             0.3333333333333333,
             "#31688e"
            ],
            [
             0.4444444444444444,
             "#26828e"
            ],
            [
             0.5555555555555556,
             "#1f9e89"
            ],
            [
             0.6666666666666666,
             "#35b779"
            ],
            [
             0.7777777777777778,
             "#6ece58"
            ],
            [
             0.8888888888888888,
             "#b5de2b"
            ],
            [
             1,
             "#fde725"
            ]
           ]
          },
          "colorway": [
           "#1F77B4",
           "#FF7F0E",
           "#2CA02C",
           "#D62728",
           "#9467BD",
           "#8C564B",
           "#E377C2",
           "#7F7F7F",
           "#BCBD22",
           "#17BECF"
          ],
          "font": {
           "color": "rgb(36,36,36)"
          },
          "geo": {
           "bgcolor": "white",
           "lakecolor": "white",
           "landcolor": "white",
           "showlakes": true,
           "showland": true,
           "subunitcolor": "white"
          },
          "hoverlabel": {
           "align": "left"
          },
          "hovermode": "closest",
          "mapbox": {
           "style": "light"
          },
          "paper_bgcolor": "white",
          "plot_bgcolor": "white",
          "polar": {
           "angularaxis": {
            "gridcolor": "rgb(232,232,232)",
            "linecolor": "rgb(36,36,36)",
            "showgrid": false,
            "showline": true,
            "ticks": "outside"
           },
           "bgcolor": "white",
           "radialaxis": {
            "gridcolor": "rgb(232,232,232)",
            "linecolor": "rgb(36,36,36)",
            "showgrid": false,
            "showline": true,
            "ticks": "outside"
           }
          },
          "scene": {
           "xaxis": {
            "backgroundcolor": "white",
            "gridcolor": "rgb(232,232,232)",
            "gridwidth": 2,
            "linecolor": "rgb(36,36,36)",
            "showbackground": true,
            "showgrid": false,
            "showline": true,
            "ticks": "outside",
            "zeroline": false,
            "zerolinecolor": "rgb(36,36,36)"
           },
           "yaxis": {
            "backgroundcolor": "white",
            "gridcolor": "rgb(232,232,232)",
            "gridwidth": 2,
            "linecolor": "rgb(36,36,36)",
            "showbackground": true,
            "showgrid": false,
            "showline": true,
            "ticks": "outside",
            "zeroline": false,
            "zerolinecolor": "rgb(36,36,36)"
           },
           "zaxis": {
            "backgroundcolor": "white",
            "gridcolor": "rgb(232,232,232)",
            "gridwidth": 2,
            "linecolor": "rgb(36,36,36)",
            "showbackground": true,
            "showgrid": false,
            "showline": true,
            "ticks": "outside",
            "zeroline": false,
            "zerolinecolor": "rgb(36,36,36)"
           }
          },
          "shapedefaults": {
           "fillcolor": "black",
           "line": {
            "color": "#2a3f5f",
            "width": 0
           },
           "opacity": 0.3
          },
          "ternary": {
           "aaxis": {
            "gridcolor": "rgb(232,232,232)",
            "linecolor": "rgb(36,36,36)",
            "showgrid": false,
            "showline": true,
            "ticks": "outside"
           },
           "baxis": {
            "gridcolor": "rgb(232,232,232)",
            "linecolor": "rgb(36,36,36)",
            "showgrid": false,
            "showline": true,
            "ticks": "outside"
           },
           "bgcolor": "white",
           "caxis": {
            "gridcolor": "rgb(232,232,232)",
            "linecolor": "rgb(36,36,36)",
            "showgrid": false,
            "showline": true,
            "ticks": "outside"
           }
          },
          "title": {
           "x": 0.05
          },
          "xaxis": {
           "automargin": true,
           "gridcolor": "rgb(232,232,232)",
           "linecolor": "rgb(36,36,36)",
           "showgrid": false,
           "showline": true,
           "ticks": "outside",
           "title": {
            "standoff": 15
           },
           "zeroline": false,
           "zerolinecolor": "rgb(36,36,36)",
           "zerolinewidth": 2
          },
          "yaxis": {
           "automargin": true,
           "gridcolor": "rgb(232,232,232)",
           "linecolor": "rgb(36,36,36)",
           "showgrid": false,
           "showline": true,
           "ticks": "outside",
           "title": {
            "standoff": 15
           },
           "zeroline": false,
           "zerolinecolor": "rgb(36,36,36)",
           "zerolinewidth": 2
          }
         }
        },
        "width": 1200,
        "xaxis": {
         "anchor": "y",
         "domain": [
          0,
          0.2125
         ],
         "gridcolor": "lightgray",
         "matches": "x5",
         "showgrid": true,
         "showticklabels": false
        },
        "xaxis2": {
         "anchor": "y2",
         "domain": [
          0.2625,
          0.475
         ],
         "gridcolor": "lightgray",
         "matches": "x6",
         "showgrid": true,
         "showticklabels": false
        },
        "xaxis3": {
         "anchor": "y3",
         "domain": [
          0.525,
          0.7375
         ],
         "gridcolor": "lightgray",
         "matches": "x7",
         "showgrid": true,
         "showticklabels": false
        },
        "xaxis4": {
         "anchor": "y4",
         "domain": [
          0.7875,
          1
         ],
         "gridcolor": "lightgray",
         "matches": "x8",
         "showgrid": true,
         "showticklabels": false
        },
        "xaxis5": {
         "anchor": "y5",
         "domain": [
          0,
          0.2125
         ],
         "gridcolor": "lightgray",
         "showgrid": true,
         "title": {
          "text": "Size (n)"
         }
        },
        "xaxis6": {
         "anchor": "y6",
         "domain": [
          0.2625,
          0.475
         ],
         "gridcolor": "lightgray",
         "showgrid": true,
         "title": {
          "text": "Size (n)"
         }
        },
        "xaxis7": {
         "anchor": "y7",
         "domain": [
          0.525,
          0.7375
         ],
         "gridcolor": "lightgray",
         "showgrid": true,
         "title": {
          "text": "Size (n)"
         }
        },
        "xaxis8": {
         "anchor": "y8",
         "domain": [
          0.7875,
          1
         ],
         "gridcolor": "lightgray",
         "showgrid": true,
         "title": {
          "text": "Size (n)"
         }
        },
        "yaxis": {
         "anchor": "x",
         "domain": [
          0.54,
          1
         ],
         "gridcolor": "lightgray",
         "showgrid": true,
         "title": {
          "text": "Time (s)"
         }
        },
        "yaxis2": {
         "anchor": "x2",
         "domain": [
          0.54,
          1
         ],
         "gridcolor": "lightgray",
         "matches": "y",
         "showgrid": true,
         "showticklabels": false,
         "title": {
          "text": "Time (s)"
         }
        },
        "yaxis3": {
         "anchor": "x3",
         "domain": [
          0.54,
          1
         ],
         "gridcolor": "lightgray",
         "matches": "y",
         "showgrid": true,
         "showticklabels": false,
         "title": {
          "text": "Time (s)"
         }
        },
        "yaxis4": {
         "anchor": "x4",
         "domain": [
          0.54,
          1
         ],
         "gridcolor": "lightgray",
         "matches": "y",
         "showgrid": true,
         "showticklabels": false,
         "title": {
          "text": "Time (s)"
         }
        },
        "yaxis5": {
         "anchor": "x5",
         "domain": [
          0,
          0.46
         ],
         "gridcolor": "lightgray",
         "showgrid": true,
         "title": {
          "text": "Error"
         }
        },
        "yaxis6": {
         "anchor": "x6",
         "domain": [
          0,
          0.46
         ],
         "gridcolor": "lightgray",
         "matches": "y5",
         "showgrid": true,
         "showticklabels": false,
         "title": {
          "text": "Error"
         }
        },
        "yaxis7": {
         "anchor": "x7",
         "domain": [
          0,
          0.46
         ],
         "gridcolor": "lightgray",
         "matches": "y5",
         "showgrid": true,
         "showticklabels": false,
         "title": {
          "text": "Error"
         }
        },
        "yaxis8": {
         "anchor": "x8",
         "domain": [
          0,
          0.46
         ],
         "gridcolor": "lightgray",
         "matches": "y5",
         "showgrid": true,
         "showticklabels": false,
         "title": {
          "text": "Error"
         }
        }
       }
      }
     },
     "metadata": {},
     "output_type": "display_data"
    }
   ],
   "source": [
    "import plotly.graph_objects as go\n",
    "from plotly.subplots import make_subplots\n",
    "import plotly.express as px\n",
    "\n",
    "# Define names mapping\n",
    "names = {\n",
    "    'gaussian':'Gaussian',\n",
    "    'srht':'SRHT',\n",
    "    'srft':'SRFT',\n",
    "    'sparse-jl':'Sparse JL',\n",
    "    'count-sketch':'CountSketch'\n",
    "}\n",
    "\n",
    "# Define the exact order of methods we want\n",
    "methods = ['MU C', 'MU SC', 'HALS C', 'HALS SC']  # Explicit order\n",
    "\n",
    "# Get non-empty projections\n",
    "projections = [p for p in stats['Projection Type'].unique() if p != '']\n",
    "\n",
    "# Create color mapping\n",
    "colors = px.colors.qualitative.Plotly\n",
    "method_colors = {projection: colors[i % len(colors)] for i, projection in enumerate(projections)}\n",
    "\n",
    "# Create figure with 2 rows and 4 columns\n",
    "fig = make_subplots(\n",
    "    rows=2, cols=4,\n",
    "    shared_xaxes=True,\n",
    "    shared_yaxes='rows',\n",
    "    subplot_titles=methods*2,  # Same order for both rows\n",
    "    horizontal_spacing=0.05,\n",
    "    vertical_spacing=0.08\n",
    ")\n",
    "\n",
    "# Add Time plots (row 1) - SPARSE VERSION\n",
    "for col, method in enumerate(methods, 1):\n",
    "    # Filter for current method, SPARSE data, and non-empty projections\n",
    "    sparse = stats[(stats['Method'] == method) & (stats['Density'] == 'sparse') & (stats['Projection Type'] != '')]\n",
    "    \n",
    "    # Add projection methods\n",
    "    for projection in projections:\n",
    "        _df = sparse[sparse['Projection Type'] == projection]\n",
    "        if not _df.empty:\n",
    "            fig.add_trace(\n",
    "                go.Scatter(\n",
    "                    x=_df['Size'],\n",
    "                    y=_df['Time'],\n",
    "                    name=names.get(projection, projection),\n",
    "                    legendgroup=projection,\n",
    "                    line_color=method_colors[projection],\n",
    "                    showlegend=(col == 1),\n",
    "                    mode='lines+markers'\n",
    "                ),\n",
    "                row=1, col=col\n",
    "            )\n",
    "    \n",
    "    # Add baseline methods - SPARSE VERSION with empty projection type\n",
    "    if method in ['MU C', 'MU SC']:\n",
    "        baseline = stats[(stats['Method'] == 'MU') & (stats['Density'] == \"sparse\") & (stats['Projection Type'] == '')]\n",
    "        if not baseline.empty:\n",
    "            fig.add_trace(\n",
    "                go.Scatter(\n",
    "                    x=baseline['Size'],\n",
    "                    y=baseline['Time'],\n",
    "                    name='MU',\n",
    "                    showlegend=(col == 1),\n",
    "                    line=dict(color='black', dash='dash'),\n",
    "                    legendgroup='MU'\n",
    "                ),\n",
    "                row=1, col=col\n",
    "            )\n",
    "    elif method in ['HALS C', 'HALS SC']:\n",
    "        baseline = stats[(stats['Method'] == 'HALS') & (stats['Density'] == \"sparse\") & (stats['Projection Type'] == '')]\n",
    "        if not baseline.empty:\n",
    "            fig.add_trace(\n",
    "                go.Scatter(\n",
    "                    x=baseline['Size'],\n",
    "                    y=baseline['Time'],\n",
    "                    name='HALS',\n",
    "                    showlegend=(col == 3),  # Show for first HALS column\n",
    "                    line=dict(color='grey', dash='dash'),\n",
    "                    legendgroup='HALS'\n",
    "                ),\n",
    "                row=1, col=col\n",
    "            )\n",
    "\n",
    "# Add Error plots (row 2) - SPARSE VERSION\n",
    "for col, method in enumerate(methods, 1):\n",
    "    # Filter for current method, SPARSE data, and non-empty projections\n",
    "    sparse = stats[(stats['Method'] == method) & (stats['Density'] == 'sparse') & (stats['Projection Type'] != '')]\n",
    "    \n",
    "    for projection in projections:\n",
    "        _df = sparse[sparse['Projection Type'] == projection]\n",
    "        if not _df.empty:\n",
    "            fig.add_trace(\n",
    "                go.Scatter(\n",
    "                    x=_df['Size'],\n",
    "                    y=_df['Errors'],\n",
    "                    name=names.get(projection, projection),\n",
    "                    legendgroup=projection,\n",
    "                    line_color=method_colors[projection],\n",
    "                    showlegend=False,\n",
    "                    mode='lines+markers'\n",
    "                ),\n",
    "                row=2, col=col\n",
    "            )\n",
    "    \n",
    "    # Add baseline methods for error plots - SPARSE VERSION with empty projection type\n",
    "    if method in ['MU C', 'MU SC']:\n",
    "        baseline = stats[(stats['Method'] == 'MU') & (stats['Density'] == \"sparse\") & (stats['Projection Type'] == '')]\n",
    "        if not baseline.empty:\n",
    "            fig.add_trace(\n",
    "                go.Scatter(\n",
    "                    x=baseline['Size'],\n",
    "                    y=baseline['Errors'],\n",
    "                    name='MU',\n",
    "                    showlegend=False,\n",
    "                    line=dict(color='black', dash='dash'),\n",
    "                    legendgroup='MU'\n",
    "                ),\n",
    "                row=2, col=col\n",
    "            )\n",
    "    elif method in ['HALS C', 'HALS SC']:\n",
    "        baseline = stats[(stats['Method'] == 'HALS') & (stats['Density'] == \"sparse\") & (stats['Projection Type'] == '')]\n",
    "        if not baseline.empty:\n",
    "            fig.add_trace(\n",
    "                go.Scatter(\n",
    "                    x=baseline['Size'],\n",
    "                    y=baseline['Errors'],\n",
    "                    name='HALS',\n",
    "                    showlegend=False,\n",
    "                    line=dict(color='grey', dash='dash'),\n",
    "                    legendgroup='HALS'\n",
    "                ),\n",
    "                row=2, col=col\n",
    "            )\n",
    "\n",
    "# Update layout\n",
    "fig.update_layout(\n",
    "    template='plotly_white+simple_white',\n",
    "    legend=dict(\n",
    "        orientation=\"h\",\n",
    "        y=-0.2,\n",
    "        x=0.5,\n",
    "        xanchor=\"center\",\n",
    "        yanchor=\"top\"\n",
    "    ),\n",
    "    font=dict(size=12, color='black'),\n",
    "    margin=dict(l=40, r=40, t=60, b=100),\n",
    "    width=1200,\n",
    "    height=600\n",
    ")\n",
    "\n",
    "# Update axis titles\n",
    "for col in range(1, 5):\n",
    "    fig.update_xaxes(title_text=\"Size (n)\", row=2, col=col)\n",
    "    fig.update_yaxes(title_text=\"Time (s)\", row=1, col=col)\n",
    "    fig.update_yaxes(title_text=\"Error\", row=2, col=col)\n",
    "    \n",
    "for i in range(1, 9):  # For 8 axes (2 rows × 4 columns)\n",
    "    fig.update_xaxes(showgrid=True, gridcolor='lightgray', row=(i-1)//4+1, col=(i-1)%4+1)\n",
    "    fig.update_yaxes(showgrid=True, gridcolor='lightgray', row=(i-1)//4+1, col=(i-1)%4+1)\n",
    "fig.show()"
   ]
  },
  {
   "cell_type": "code",
   "execution_count": null,
   "id": "c7def32f",
   "metadata": {},
   "outputs": [],
   "source": []
  }
 ],
 "metadata": {
  "kernelspec": {
   "display_name": ".venv",
   "language": "python",
   "name": "python3"
  },
  "language_info": {
   "codemirror_mode": {
    "name": "ipython",
    "version": 3
   },
   "file_extension": ".py",
   "mimetype": "text/x-python",
   "name": "python",
   "nbconvert_exporter": "python",
   "pygments_lexer": "ipython3",
   "version": "3.9.6"
  }
 },
 "nbformat": 4,
 "nbformat_minor": 5
}
