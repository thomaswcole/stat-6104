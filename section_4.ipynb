{
 "cells": [
  {
   "cell_type": "markdown",
   "id": "7264617c",
   "metadata": {},
   "source": [
    "**Section 4: Synthetic Matrix Performance**"
   ]
  },
  {
   "cell_type": "markdown",
   "id": "e5c22044",
   "metadata": {},
   "source": [
    "*Imports*"
   ]
  },
  {
   "cell_type": "code",
   "execution_count": 2,
   "id": "523d2044",
   "metadata": {},
   "outputs": [],
   "source": [
    "import numpy as np\n",
    "import pandas as pd\n",
    "import plotly.graph_objects as go\n",
    "from plotly.subplots import make_subplots\n",
    "\n",
    "import timeit\n",
    "import math\n",
    "\n",
    "from archive.randomized_projected_nmf import *\n",
    "from random_matrix import *\n",
    "from nmf import * \n",
    "from benchmark import *\n",
    "from collections import defaultdict"
   ]
  },
  {
   "cell_type": "markdown",
   "id": "866300c8",
   "metadata": {},
   "source": [
    "*Benchmark*"
   ]
  },
  {
   "cell_type": "code",
   "execution_count": 97,
   "id": "b344bd11",
   "metadata": {},
   "outputs": [
    {
     "name": "stdout",
     "output_type": "stream",
     "text": [
      "Completed benchmarking for matrix size: 100\n",
      "Completed benchmarking for matrix size: 1100\n",
      "Completed benchmarking for matrix size: 2100\n",
      "Completed benchmarking for matrix size: 3100\n"
     ]
    },
    {
     "ename": "KeyboardInterrupt",
     "evalue": "",
     "output_type": "error",
     "traceback": [
      "\u001b[31m---------------------------------------------------------------------------\u001b[39m",
      "\u001b[31mKeyboardInterrupt\u001b[39m                         Traceback (most recent call last)",
      "\u001b[36mCell\u001b[39m\u001b[36m \u001b[39m\u001b[32mIn[97]\u001b[39m\u001b[32m, line 45\u001b[39m\n\u001b[32m     43\u001b[39m \u001b[38;5;66;03m# Time NMF Method\u001b[39;00m\n\u001b[32m     44\u001b[39m start_time = timeit.default_timer()\n\u001b[32m---> \u001b[39m\u001b[32m45\u001b[39m _, _, errors = \u001b[43mmethod\u001b[49m\u001b[43m(\u001b[49m\u001b[43mA\u001b[49m\u001b[43m,\u001b[49m\u001b[43m \u001b[49m\u001b[43mr\u001b[49m\u001b[43m,\u001b[49m\u001b[43m \u001b[49m\u001b[43mrandom_state\u001b[49m\u001b[43m=\u001b[49m\u001b[43mseed\u001b[49m\u001b[43m,\u001b[49m\u001b[43mprojection_type\u001b[49m\u001b[43m \u001b[49m\u001b[43m=\u001b[49m\u001b[43m \u001b[49m\u001b[43mprojection\u001b[49m\u001b[43m)\u001b[49m\n\u001b[32m     46\u001b[39m time = timeit.default_timer() - start_time\n\u001b[32m     48\u001b[39m \u001b[38;5;66;03m# Store\u001b[39;00m\n",
      "\u001b[36mFile \u001b[39m\u001b[32mc:\\Users\\Tom\\Desktop\\python\\stat-6104\\nmf.py:263\u001b[39m, in \u001b[36mnmf_compress_hals\u001b[39m\u001b[34m(A, r, max_iter, tol, random_state, projection_type)\u001b[39m\n\u001b[32m    260\u001b[39m     F[:, k] = np.maximum(numerator / denominator, \u001b[32m0\u001b[39m)\n\u001b[32m    262\u001b[39m \u001b[38;5;66;03m# Compute reconstruction error in original space\u001b[39;00m\n\u001b[32m--> \u001b[39m\u001b[32m263\u001b[39m error = \u001b[43mnp\u001b[49m\u001b[43m.\u001b[49m\u001b[43mlinalg\u001b[49m\u001b[43m.\u001b[49m\u001b[43mnorm\u001b[49m\u001b[43m(\u001b[49m\u001b[43mA\u001b[49m\u001b[43m \u001b[49m\u001b[43m-\u001b[49m\u001b[43m \u001b[49m\u001b[43mF\u001b[49m\u001b[43m \u001b[49m\u001b[43m@\u001b[49m\u001b[43m \u001b[49m\u001b[43mG\u001b[49m\u001b[43m.\u001b[49m\u001b[43mT\u001b[49m\u001b[43m,\u001b[49m\u001b[43m \u001b[49m\u001b[33;43m'\u001b[39;49m\u001b[33;43mfro\u001b[39;49m\u001b[33;43m'\u001b[39;49m\u001b[43m)\u001b[49m / np.linalg.norm(A, \u001b[33m'\u001b[39m\u001b[33mfro\u001b[39m\u001b[33m'\u001b[39m)\n\u001b[32m    264\u001b[39m errors.append(error)\n\u001b[32m    265\u001b[39m \u001b[38;5;28;01mif\u001b[39;00m error < tol:\n",
      "\u001b[36mFile \u001b[39m\u001b[32mc:\\Users\\Tom\\Desktop\\python\\stat-6104\\.venv\\Lib\\site-packages\\numpy\\linalg\\_linalg.py:2571\u001b[39m, in \u001b[36m_norm_dispatcher\u001b[39m\u001b[34m(x, ord, axis, keepdims)\u001b[39m\n\u001b[32m   2567\u001b[39m     result = op(svd(y, compute_uv=\u001b[38;5;28;01mFalse\u001b[39;00m), axis=-\u001b[32m1\u001b[39m)\n\u001b[32m   2568\u001b[39m     \u001b[38;5;28;01mreturn\u001b[39;00m result\n\u001b[32m-> \u001b[39m\u001b[32m2571\u001b[39m \u001b[38;5;28;01mdef\u001b[39;00m\u001b[38;5;250m \u001b[39m\u001b[34m_norm_dispatcher\u001b[39m(x, \u001b[38;5;28mord\u001b[39m=\u001b[38;5;28;01mNone\u001b[39;00m, axis=\u001b[38;5;28;01mNone\u001b[39;00m, keepdims=\u001b[38;5;28;01mNone\u001b[39;00m):\n\u001b[32m   2572\u001b[39m     \u001b[38;5;28;01mreturn\u001b[39;00m (x,)\n\u001b[32m   2575\u001b[39m \u001b[38;5;129m@array_function_dispatch\u001b[39m(_norm_dispatcher)\n\u001b[32m   2576\u001b[39m \u001b[38;5;28;01mdef\u001b[39;00m\u001b[38;5;250m \u001b[39m\u001b[34mnorm\u001b[39m(x, \u001b[38;5;28mord\u001b[39m=\u001b[38;5;28;01mNone\u001b[39;00m, axis=\u001b[38;5;28;01mNone\u001b[39;00m, keepdims=\u001b[38;5;28;01mFalse\u001b[39;00m):\n",
      "\u001b[31mKeyboardInterrupt\u001b[39m: "
     ]
    }
   ],
   "source": [
    "methods = {\n",
    "    \"MU C\": nmf_compress_mu,\n",
    "    'MU SC': nmf_structured_compress_mu,\n",
    "    'HALS C': nmf_compress_hals,\n",
    "    'HALS SC': nmf_structured_compress_hals\n",
    "}\n",
    "methods_baseline = {\n",
    "    \"MU\": nmf_mu,\n",
    "    'HALS': nmf_hals,\n",
    "}\n",
    "\n",
    "\n",
    "projection_types = [\n",
    "    'gaussian',\n",
    "    # 'srht',\n",
    "    # 'srft',\n",
    "    'sparse-jl',\n",
    "    'count-sketch',\n",
    "]\n",
    "\n",
    "rows = []\n",
    "\n",
    "# Parameters\n",
    "sizes = np.arange(1_00, 10_001, 1_000)\n",
    "runs = 10\n",
    "r = 20\n",
    "for n in sizes:\n",
    "    # Generate A (n x 0.75n)\n",
    "    np.random.seed(1)\n",
    "    m = int(0.75*n)\n",
    "    for density, label in [(0.01,'sparse'),(1.0,'dense')]:\n",
    "        A, _, _= generate_synthetic_matrix(n=m,m=n,r=r,delta = density)\n",
    "\n",
    "        # Compressed Methods\n",
    "        for method_name, method in methods.items():\n",
    "            for projection in projection_types:\n",
    "                total_times = [] \n",
    "                total_errors = []       \n",
    "                for i in range(runs):\n",
    "                    # Set seed per run\n",
    "                    seed = i + 1\n",
    "                    \n",
    "                    # Time NMF Method\n",
    "                    start_time = timeit.default_timer()\n",
    "                    _, _, errors = method(A, r, random_state=seed,projection_type = projection)\n",
    "                    time = timeit.default_timer() - start_time\n",
    "\n",
    "                    # Store\n",
    "                    total_times.append(time)\n",
    "                    total_errors.append(errors[-1])\n",
    "                \n",
    "                rows.append(\n",
    "                    {\n",
    "                        'Method':method_name,\n",
    "                        'Projection Type':projection,\n",
    "                        'Size':n,\n",
    "                        'Density':label,\n",
    "                        'Time': np.mean(total_times),\n",
    "                        'Errors': np.mean(total_errors)\n",
    "                    }\n",
    "                )\n",
    "        # Regular Methods\n",
    "        for method_name,method in methods_baseline.items():\n",
    "            total_times = [] \n",
    "            total_errors = []       \n",
    "            for i in range(runs):\n",
    "                # Set seed per run\n",
    "                seed = i + 1\n",
    "                \n",
    "                # Time NMF Method\n",
    "                start_time = timeit.default_timer()\n",
    "                _, _, errors = method(A, r)\n",
    "                time = timeit.default_timer() - start_time\n",
    "\n",
    "                # Store\n",
    "                total_times.append(time)\n",
    "                total_errors.append(errors[-1])\n",
    "            \n",
    "            rows.append(\n",
    "                {\n",
    "                    'Method':method_name,\n",
    "                    'Projection Type':'',\n",
    "                    'Size':n,\n",
    "                    'Density':label,\n",
    "                    'Time': np.mean(total_times),\n",
    "                    'Errors': np.mean(total_errors)\n",
    "                }\n",
    "            )\n",
    "\n",
    "\n",
    "    print(f'Completed benchmarking for matrix size: {n}')"
   ]
  },
  {
   "cell_type": "code",
   "execution_count": 90,
   "id": "2b92af55",
   "metadata": {},
   "outputs": [
    {
     "data": {
      "text/plain": [
       "array([[7.06783079, 6.813081  , 5.38449234, ..., 5.96894479, 1.64254075,\n",
       "        4.79622313],\n",
       "       [3.4053049 , 2.10139065, 4.20165453, ..., 2.53430644, 2.85287984,\n",
       "        3.5272496 ],\n",
       "       [3.09875185, 3.34068754, 3.05058999, ..., 3.13522907, 3.20708009,\n",
       "        3.42731741],\n",
       "       ...,\n",
       "       [5.87937796, 3.35649994, 4.07000582, ..., 4.13329593, 2.93069377,\n",
       "        5.39803491],\n",
       "       [3.8273481 , 2.55072551, 3.71311234, ..., 6.19717538, 1.31929683,\n",
       "        1.71438176],\n",
       "       [4.66388401, 6.55052092, 3.53200779, ..., 4.10573846, 3.21425655,\n",
       "        2.76643839]], shape=(1000, 750))"
      ]
     },
     "execution_count": 90,
     "metadata": {},
     "output_type": "execute_result"
    }
   ],
   "source": [
    "A"
   ]
  },
  {
   "cell_type": "code",
   "execution_count": 91,
   "id": "08ede9a2",
   "metadata": {},
   "outputs": [],
   "source": [
    "stats = pd.DataFrame(rows)"
   ]
  },
  {
   "cell_type": "code",
   "execution_count": 92,
   "id": "0cbcd1bf",
   "metadata": {},
   "outputs": [
    {
     "data": {
      "text/plain": [
       "array(['MU C', 'MU SC', 'HALS C', 'HALS SC', 'MU', 'HALS'], dtype=object)"
      ]
     },
     "execution_count": 92,
     "metadata": {},
     "output_type": "execute_result"
    }
   ],
   "source": [
    "stats['Method'].unique()"
   ]
  },
  {
   "cell_type": "markdown",
   "id": "497f5cc6",
   "metadata": {},
   "source": [
    "*Plot: Computation Time by Method/Projection*"
   ]
  },
  {
   "cell_type": "markdown",
   "id": "3afb0f51",
   "metadata": {},
   "source": [
    "*i) dense*"
   ]
  },
  {
   "cell_type": "code",
   "execution_count": 93,
   "id": "2d18dd75",
   "metadata": {},
   "outputs": [
    {
     "data": {
      "application/vnd.plotly.v1+json": {
       "config": {
        "plotlyServerURL": "https://plot.ly"
       },
       "data": [
        {
         "legendgroup": "gaussian",
         "line": {
          "color": "blue"
         },
         "name": "gaussian",
         "showlegend": true,
         "type": "scatter",
         "x": {
          "bdata": "ZADIACwBkAH0AVgCvAIgA4QD6AM=",
          "dtype": "i2"
         },
         "xaxis": "x",
         "y": {
          "bdata": "MzMze6tDeD+amZku29KXP5qZmVWYhJw/zczMrj03oT8AAMD7tGGyPwAAQFulJrc/mpkZPMYuvD+amTkB2a3APwAAAI+G+MM/ZmYm+jvCxz8=",
          "dtype": "f8"
         },
         "yaxis": "y"
        },
        {
         "legendgroup": "sparse-jl",
         "line": {
          "color": "red"
         },
         "name": "sparse-jl",
         "showlegend": true,
         "type": "scatter",
         "x": {
          "bdata": "ZADIACwBkAH0AVgCvAIgA4QD6AM=",
          "dtype": "i2"
         },
         "xaxis": "x",
         "y": {
          "bdata": "AAAASHl7ej/NzMwdPE2ZP83MzDti/J0/mpkZSXP5oT8zM/McbeKyPzMzsxseyrc/AAAABBxjvD8AAKDwhajAP2ZmBjUpw8M/AACAxlG1yD8=",
          "dtype": "f8"
         },
         "yaxis": "y"
        },
        {
         "legendgroup": "count-sketch",
         "line": {
          "color": "green"
         },
         "name": "count-sketch",
         "showlegend": true,
         "type": "scatter",
         "x": {
          "bdata": "ZADIACwBkAH0AVgCvAIgA4QD6AM=",
          "dtype": "i2"
         },
         "xaxis": "x",
         "y": {
          "bdata": "ZmZmTq9aej8AAABICAOZP5qZmaOolp0/zcxM8qq1oT8AAID9s82yPwAAQPlPkrc/MzNzlbQDvD8AAIA83IrAP2ZmJp7EscQ/MzMTJ1QJyD8=",
          "dtype": "f8"
         },
         "yaxis": "y"
        },
        {
         "legendgroup": "gaussian",
         "line": {
          "color": "blue"
         },
         "name": "gaussian",
         "showlegend": false,
         "type": "scatter",
         "x": {
          "bdata": "ZADIACwBkAH0AVgCvAIgA4QD6AM=",
          "dtype": "i2"
         },
         "xaxis": "x2",
         "y": {
          "bdata": "ZmZmPt83ej9mZmYs5xiZP5qZmfvKYp4/mpkZs/eYoj+amdnNMHuzP2Zmpkv4a7g/ZmamYOoAvT/NzOyucLvBP83M7BkuF8U/zcxscODdyD8=",
          "dtype": "f8"
         },
         "yaxis": "y2"
        },
        {
         "legendgroup": "sparse-jl",
         "line": {
          "color": "red"
         },
         "name": "sparse-jl",
         "showlegend": false,
         "type": "scatter",
         "x": {
          "bdata": "ZADIACwBkAH0AVgCvAIgA4QD6AM=",
          "dtype": "i2"
         },
         "xaxis": "x2",
         "y": {
          "bdata": "ZmZm8r0aez/NzMzrjdaYP83MzNKBUZ4/mpkZG6KGoj+amRmjeDKzP2ZmpjiJObg/mpnZVxwQvT+amZkJJBPBPzMzc6SeS8Q/ZmYmP8D/yD8=",
          "dtype": "f8"
         },
         "yaxis": "y2"
        },
        {
         "legendgroup": "count-sketch",
         "line": {
          "color": "green"
         },
         "name": "count-sketch",
         "showlegend": false,
         "type": "scatter",
         "x": {
          "bdata": "ZADIACwBkAH0AVgCvAIgA4QD6AM=",
          "dtype": "i2"
         },
         "xaxis": "x2",
         "y": {
          "bdata": "AAAAPAHBej/NzMzuC+CYP83MzH//e54/zcxMkYG4oj+amVkk8yOzP83MjG2sQLg/MzOzhcVNvT/NzKxD6xfBP2ZmpmZq7cQ/mplZxMYCyT8=",
          "dtype": "f8"
         },
         "yaxis": "y2"
        },
        {
         "legendgroup": "gaussian",
         "line": {
          "color": "blue"
         },
         "name": "gaussian",
         "showlegend": false,
         "type": "scatter",
         "x": {
          "bdata": "ZADIACwBkAH0AVgCvAIgA4QD6AM=",
          "dtype": "i2"
         },
         "xaxis": "x3",
         "y": {
          "bdata": "zczMlSUZlT/NzMw2pNWjPzMzs5/2IaY/zczMQE89qT/NzAwRkmC2PzMz82VeWLs/ZmbGArAFwD8zMxM8HR/DPwAAIF0bJsY/AAAgJ/HeyT8=",
          "dtype": "f8"
         },
         "yaxis": "y3"
        },
        {
         "legendgroup": "sparse-jl",
         "line": {
          "color": "red"
         },
         "name": "sparse-jl",
         "showlegend": false,
         "type": "scatter",
         "x": {
          "bdata": "ZADIACwBkAH0AVgCvAIgA4QD6AM=",
          "dtype": "i2"
         },
         "xaxis": "x3",
         "y": {
          "bdata": "ZmZmHZP/lD/NzEzbg3OkP83MTHEGuaY/AACAuH/6qT8AAAB57+K2PzMzcy0JzLs/MzPzztu3wD/NzGzfLt7CPzMz85a02sU/AAAgPiwryj8=",
          "dtype": "f8"
         },
         "yaxis": "y3"
        },
        {
         "legendgroup": "count-sketch",
         "line": {
          "color": "green"
         },
         "name": "count-sketch",
         "showlegend": false,
         "type": "scatter",
         "x": {
          "bdata": "ZADIACwBkAH0AVgCvAIgA4QD6AM=",
          "dtype": "i2"
         },
         "xaxis": "x3",
         "y": {
          "bdata": "ZmZmgFqxlD8AAIClsJykP5qZmR5tuaY/MzMzIZG2qT+amRk8Db22P5qZmemUibs/zczMRtcawD8AACBnKTjDP2ZmRlz3XsY/mpmZPe8Eyj8=",
          "dtype": "f8"
         },
         "yaxis": "y3"
        },
        {
         "legendgroup": "gaussian",
         "line": {
          "color": "blue"
         },
         "name": "gaussian",
         "showlegend": false,
         "type": "scatter",
         "x": {
          "bdata": "ZADIACwBkAH0AVgCvAIgA4QD6AM=",
          "dtype": "i2"
         },
         "xaxis": "x4",
         "y": {
          "bdata": "MzMzZkailD9mZua6yZikP2Zm5jCjDqc/ZmZmXtDGqj+amZkuOEG3P83MjDNIZrw/MzNz86iZwD/NzGzYz0XDPzMzc8CG8cY/ZmbGCWXEyj8=",
          "dtype": "f8"
         },
         "yaxis": "y4"
        },
        {
         "legendgroup": "sparse-jl",
         "line": {
          "color": "red"
         },
         "name": "sparse-jl",
         "showlegend": false,
         "type": "scatter",
         "x": {
          "bdata": "ZADIACwBkAH0AVgCvAIgA4QD6AM=",
          "dtype": "i2"
         },
         "xaxis": "x4",
         "y": {
          "bdata": "MzMzx7vAlD+amRlw12SkP5qZmaskDac/MzMzeHfoqj8AAID76HG3P83MTFQEcrw/zcyMEkYWwT8AAGChUvzDP83MDIM8Esc/mpnZRvzQyj8=",
          "dtype": "f8"
         },
         "yaxis": "y4"
        },
        {
         "legendgroup": "count-sketch",
         "line": {
          "color": "green"
         },
         "name": "count-sketch",
         "showlegend": false,
         "type": "scatter",
         "x": {
          "bdata": "ZADIACwBkAH0AVgCvAIgA4QD6AM=",
          "dtype": "i2"
         },
         "xaxis": "x4",
         "y": {
          "bdata": "ZmZmXKrzlD8AAADqgYekPwAAgLzYB6c/MzOzI8m9qj8zM/PsCG23P5qZGcTe9rw/ZmZm8xa0wD9mZiZc6bHDP2ZmZmNFqsY/MzMz+kdbzD8=",
          "dtype": "f8"
         },
         "yaxis": "y4"
        },
        {
         "legendgroup": "MU",
         "line": {
          "color": "black"
         },
         "name": "MU",
         "showlegend": true,
         "type": "scatter",
         "x": {
          "bdata": "ZADIACwBkAH0AVgCvAIgA4QD6AM=",
          "dtype": "i2"
         },
         "xaxis": "x",
         "y": {
          "bdata": "AAAA8K9Ycj9mZmb5Ka+ZP83MTFB+nKI/zcxM8uocqT9mZuaAof26P83MzAyAo8A/ZmbGeChlxD8AAKD21e7HPwAAoHCiSM0/mpmpcljv0j8=",
          "dtype": "f8"
         },
         "yaxis": "y"
        },
        {
         "legendgroup": "MU",
         "line": {
          "color": "black"
         },
         "name": "MU",
         "showlegend": false,
         "type": "scatter",
         "x": {
          "bdata": "ZADIACwBkAH0AVgCvAIgA4QD6AM=",
          "dtype": "i2"
         },
         "xaxis": "x2",
         "y": {
          "bdata": "AAAA8K9Ycj9mZmb5Ka+ZP83MTFB+nKI/zcxM8uocqT9mZuaAof26P83MzAyAo8A/ZmbGeChlxD8AAKD21e7HPwAAoHCiSM0/mpmpcljv0j8=",
          "dtype": "f8"
         },
         "yaxis": "y2"
        },
        {
         "legendgroup": "HALS",
         "line": {
          "color": "grey"
         },
         "name": "HALS",
         "showlegend": true,
         "type": "scatter",
         "x": {
          "bdata": "ZADIACwBkAH0AVgCvAIgA4QD6AM=",
          "dtype": "i2"
         },
         "xaxis": "x3",
         "y": {
          "bdata": "zczMsDTwkz/NzEwKMl2lP5qZGTDAeKk/zcxMtV+Irj8AAEA128u5P83MzMY2wr4/MzNzfNVGwj8zM5MM95nFP5qZeV4K8sg/MzPTmaRHzz8=",
          "dtype": "f8"
         },
         "yaxis": "y3"
        },
        {
         "legendgroup": "HALS",
         "line": {
          "color": "grey"
         },
         "name": "HALS",
         "showlegend": false,
         "type": "scatter",
         "x": {
          "bdata": "ZADIACwBkAH0AVgCvAIgA4QD6AM=",
          "dtype": "i2"
         },
         "xaxis": "x4",
         "y": {
          "bdata": "zczMsDTwkz/NzEwKMl2lP5qZGTDAeKk/zcxMtV+Irj8AAEA128u5P83MzMY2wr4/MzNzfNVGwj8zM5MM95nFP5qZeV4K8sg/MzPTmaRHzz8=",
          "dtype": "f8"
         },
         "yaxis": "y4"
        }
       ],
       "layout": {
        "annotations": [
         {
          "font": {
           "size": 16
          },
          "showarrow": false,
          "text": "MU C",
          "x": 0.10625,
          "xanchor": "center",
          "xref": "paper",
          "y": 1,
          "yanchor": "bottom",
          "yref": "paper"
         },
         {
          "font": {
           "size": 16
          },
          "showarrow": false,
          "text": "MU SC",
          "x": 0.36875,
          "xanchor": "center",
          "xref": "paper",
          "y": 1,
          "yanchor": "bottom",
          "yref": "paper"
         },
         {
          "font": {
           "size": 16
          },
          "showarrow": false,
          "text": "HALS C",
          "x": 0.6312500000000001,
          "xanchor": "center",
          "xref": "paper",
          "y": 1,
          "yanchor": "bottom",
          "yref": "paper"
         },
         {
          "font": {
           "size": 16
          },
          "showarrow": false,
          "text": "HALS SC",
          "x": 0.89375,
          "xanchor": "center",
          "xref": "paper",
          "y": 1,
          "yanchor": "bottom",
          "yref": "paper"
         }
        ],
        "template": {
         "data": {
          "bar": [
           {
            "error_x": {
             "color": "#2a3f5f"
            },
            "error_y": {
             "color": "#2a3f5f"
            },
            "marker": {
             "line": {
              "color": "white",
              "width": 0.5
             },
             "pattern": {
              "fillmode": "overlay",
              "size": 10,
              "solidity": 0.2
             }
            },
            "type": "bar"
           }
          ],
          "barpolar": [
           {
            "marker": {
             "line": {
              "color": "white",
              "width": 0.5
             },
             "pattern": {
              "fillmode": "overlay",
              "size": 10,
              "solidity": 0.2
             }
            },
            "type": "barpolar"
           }
          ],
          "carpet": [
           {
            "aaxis": {
             "endlinecolor": "#2a3f5f",
             "gridcolor": "#C8D4E3",
             "linecolor": "#C8D4E3",
             "minorgridcolor": "#C8D4E3",
             "startlinecolor": "#2a3f5f"
            },
            "baxis": {
             "endlinecolor": "#2a3f5f",
             "gridcolor": "#C8D4E3",
             "linecolor": "#C8D4E3",
             "minorgridcolor": "#C8D4E3",
             "startlinecolor": "#2a3f5f"
            },
            "type": "carpet"
           }
          ],
          "choropleth": [
           {
            "colorbar": {
             "outlinewidth": 0,
             "ticks": ""
            },
            "type": "choropleth"
           }
          ],
          "contour": [
           {
            "colorbar": {
             "outlinewidth": 0,
             "ticks": ""
            },
            "colorscale": [
             [
              0,
              "#0d0887"
             ],
             [
              0.1111111111111111,
              "#46039f"
             ],
             [
              0.2222222222222222,
              "#7201a8"
             ],
             [
              0.3333333333333333,
              "#9c179e"
             ],
             [
              0.4444444444444444,
              "#bd3786"
             ],
             [
              0.5555555555555556,
              "#d8576b"
             ],
             [
              0.6666666666666666,
              "#ed7953"
             ],
             [
              0.7777777777777778,
              "#fb9f3a"
             ],
             [
              0.8888888888888888,
              "#fdca26"
             ],
             [
              1,
              "#f0f921"
             ]
            ],
            "type": "contour"
           }
          ],
          "contourcarpet": [
           {
            "colorbar": {
             "outlinewidth": 0,
             "ticks": ""
            },
            "type": "contourcarpet"
           }
          ],
          "heatmap": [
           {
            "colorbar": {
             "outlinewidth": 0,
             "ticks": ""
            },
            "colorscale": [
             [
              0,
              "#0d0887"
             ],
             [
              0.1111111111111111,
              "#46039f"
             ],
             [
              0.2222222222222222,
              "#7201a8"
             ],
             [
              0.3333333333333333,
              "#9c179e"
             ],
             [
              0.4444444444444444,
              "#bd3786"
             ],
             [
              0.5555555555555556,
              "#d8576b"
             ],
             [
              0.6666666666666666,
              "#ed7953"
             ],
             [
              0.7777777777777778,
              "#fb9f3a"
             ],
             [
              0.8888888888888888,
              "#fdca26"
             ],
             [
              1,
              "#f0f921"
             ]
            ],
            "type": "heatmap"
           }
          ],
          "histogram": [
           {
            "marker": {
             "pattern": {
              "fillmode": "overlay",
              "size": 10,
              "solidity": 0.2
             }
            },
            "type": "histogram"
           }
          ],
          "histogram2d": [
           {
            "colorbar": {
             "outlinewidth": 0,
             "ticks": ""
            },
            "colorscale": [
             [
              0,
              "#0d0887"
             ],
             [
              0.1111111111111111,
              "#46039f"
             ],
             [
              0.2222222222222222,
              "#7201a8"
             ],
             [
              0.3333333333333333,
              "#9c179e"
             ],
             [
              0.4444444444444444,
              "#bd3786"
             ],
             [
              0.5555555555555556,
              "#d8576b"
             ],
             [
              0.6666666666666666,
              "#ed7953"
             ],
             [
              0.7777777777777778,
              "#fb9f3a"
             ],
             [
              0.8888888888888888,
              "#fdca26"
             ],
             [
              1,
              "#f0f921"
             ]
            ],
            "type": "histogram2d"
           }
          ],
          "histogram2dcontour": [
           {
            "colorbar": {
             "outlinewidth": 0,
             "ticks": ""
            },
            "colorscale": [
             [
              0,
              "#0d0887"
             ],
             [
              0.1111111111111111,
              "#46039f"
             ],
             [
              0.2222222222222222,
              "#7201a8"
             ],
             [
              0.3333333333333333,
              "#9c179e"
             ],
             [
              0.4444444444444444,
              "#bd3786"
             ],
             [
              0.5555555555555556,
              "#d8576b"
             ],
             [
              0.6666666666666666,
              "#ed7953"
             ],
             [
              0.7777777777777778,
              "#fb9f3a"
             ],
             [
              0.8888888888888888,
              "#fdca26"
             ],
             [
              1,
              "#f0f921"
             ]
            ],
            "type": "histogram2dcontour"
           }
          ],
          "mesh3d": [
           {
            "colorbar": {
             "outlinewidth": 0,
             "ticks": ""
            },
            "type": "mesh3d"
           }
          ],
          "parcoords": [
           {
            "line": {
             "colorbar": {
              "outlinewidth": 0,
              "ticks": ""
             }
            },
            "type": "parcoords"
           }
          ],
          "pie": [
           {
            "automargin": true,
            "type": "pie"
           }
          ],
          "scatter": [
           {
            "fillpattern": {
             "fillmode": "overlay",
             "size": 10,
             "solidity": 0.2
            },
            "type": "scatter"
           }
          ],
          "scatter3d": [
           {
            "line": {
             "colorbar": {
              "outlinewidth": 0,
              "ticks": ""
             }
            },
            "marker": {
             "colorbar": {
              "outlinewidth": 0,
              "ticks": ""
             }
            },
            "type": "scatter3d"
           }
          ],
          "scattercarpet": [
           {
            "marker": {
             "colorbar": {
              "outlinewidth": 0,
              "ticks": ""
             }
            },
            "type": "scattercarpet"
           }
          ],
          "scattergeo": [
           {
            "marker": {
             "colorbar": {
              "outlinewidth": 0,
              "ticks": ""
             }
            },
            "type": "scattergeo"
           }
          ],
          "scattergl": [
           {
            "marker": {
             "colorbar": {
              "outlinewidth": 0,
              "ticks": ""
             }
            },
            "type": "scattergl"
           }
          ],
          "scattermap": [
           {
            "marker": {
             "colorbar": {
              "outlinewidth": 0,
              "ticks": ""
             }
            },
            "type": "scattermap"
           }
          ],
          "scattermapbox": [
           {
            "marker": {
             "colorbar": {
              "outlinewidth": 0,
              "ticks": ""
             }
            },
            "type": "scattermapbox"
           }
          ],
          "scatterpolar": [
           {
            "marker": {
             "colorbar": {
              "outlinewidth": 0,
              "ticks": ""
             }
            },
            "type": "scatterpolar"
           }
          ],
          "scatterpolargl": [
           {
            "marker": {
             "colorbar": {
              "outlinewidth": 0,
              "ticks": ""
             }
            },
            "type": "scatterpolargl"
           }
          ],
          "scatterternary": [
           {
            "marker": {
             "colorbar": {
              "outlinewidth": 0,
              "ticks": ""
             }
            },
            "type": "scatterternary"
           }
          ],
          "surface": [
           {
            "colorbar": {
             "outlinewidth": 0,
             "ticks": ""
            },
            "colorscale": [
             [
              0,
              "#0d0887"
             ],
             [
              0.1111111111111111,
              "#46039f"
             ],
             [
              0.2222222222222222,
              "#7201a8"
             ],
             [
              0.3333333333333333,
              "#9c179e"
             ],
             [
              0.4444444444444444,
              "#bd3786"
             ],
             [
              0.5555555555555556,
              "#d8576b"
             ],
             [
              0.6666666666666666,
              "#ed7953"
             ],
             [
              0.7777777777777778,
              "#fb9f3a"
             ],
             [
              0.8888888888888888,
              "#fdca26"
             ],
             [
              1,
              "#f0f921"
             ]
            ],
            "type": "surface"
           }
          ],
          "table": [
           {
            "cells": {
             "fill": {
              "color": "#EBF0F8"
             },
             "line": {
              "color": "white"
             }
            },
            "header": {
             "fill": {
              "color": "#C8D4E3"
             },
             "line": {
              "color": "white"
             }
            },
            "type": "table"
           }
          ]
         },
         "layout": {
          "annotationdefaults": {
           "arrowcolor": "#2a3f5f",
           "arrowhead": 0,
           "arrowwidth": 1
          },
          "autotypenumbers": "strict",
          "coloraxis": {
           "colorbar": {
            "outlinewidth": 0,
            "ticks": ""
           }
          },
          "colorscale": {
           "diverging": [
            [
             0,
             "#8e0152"
            ],
            [
             0.1,
             "#c51b7d"
            ],
            [
             0.2,
             "#de77ae"
            ],
            [
             0.3,
             "#f1b6da"
            ],
            [
             0.4,
             "#fde0ef"
            ],
            [
             0.5,
             "#f7f7f7"
            ],
            [
             0.6,
             "#e6f5d0"
            ],
            [
             0.7,
             "#b8e186"
            ],
            [
             0.8,
             "#7fbc41"
            ],
            [
             0.9,
             "#4d9221"
            ],
            [
             1,
             "#276419"
            ]
           ],
           "sequential": [
            [
             0,
             "#0d0887"
            ],
            [
             0.1111111111111111,
             "#46039f"
            ],
            [
             0.2222222222222222,
             "#7201a8"
            ],
            [
             0.3333333333333333,
             "#9c179e"
            ],
            [
             0.4444444444444444,
             "#bd3786"
            ],
            [
             0.5555555555555556,
             "#d8576b"
            ],
            [
             0.6666666666666666,
             "#ed7953"
            ],
            [
             0.7777777777777778,
             "#fb9f3a"
            ],
            [
             0.8888888888888888,
             "#fdca26"
            ],
            [
             1,
             "#f0f921"
            ]
           ],
           "sequentialminus": [
            [
             0,
             "#0d0887"
            ],
            [
             0.1111111111111111,
             "#46039f"
            ],
            [
             0.2222222222222222,
             "#7201a8"
            ],
            [
             0.3333333333333333,
             "#9c179e"
            ],
            [
             0.4444444444444444,
             "#bd3786"
            ],
            [
             0.5555555555555556,
             "#d8576b"
            ],
            [
             0.6666666666666666,
             "#ed7953"
            ],
            [
             0.7777777777777778,
             "#fb9f3a"
            ],
            [
             0.8888888888888888,
             "#fdca26"
            ],
            [
             1,
             "#f0f921"
            ]
           ]
          },
          "colorway": [
           "#636efa",
           "#EF553B",
           "#00cc96",
           "#ab63fa",
           "#FFA15A",
           "#19d3f3",
           "#FF6692",
           "#B6E880",
           "#FF97FF",
           "#FECB52"
          ],
          "font": {
           "color": "#2a3f5f"
          },
          "geo": {
           "bgcolor": "white",
           "lakecolor": "white",
           "landcolor": "white",
           "showlakes": true,
           "showland": true,
           "subunitcolor": "#C8D4E3"
          },
          "hoverlabel": {
           "align": "left"
          },
          "hovermode": "closest",
          "mapbox": {
           "style": "light"
          },
          "paper_bgcolor": "white",
          "plot_bgcolor": "white",
          "polar": {
           "angularaxis": {
            "gridcolor": "#EBF0F8",
            "linecolor": "#EBF0F8",
            "ticks": ""
           },
           "bgcolor": "white",
           "radialaxis": {
            "gridcolor": "#EBF0F8",
            "linecolor": "#EBF0F8",
            "ticks": ""
           }
          },
          "scene": {
           "xaxis": {
            "backgroundcolor": "white",
            "gridcolor": "#DFE8F3",
            "gridwidth": 2,
            "linecolor": "#EBF0F8",
            "showbackground": true,
            "ticks": "",
            "zerolinecolor": "#EBF0F8"
           },
           "yaxis": {
            "backgroundcolor": "white",
            "gridcolor": "#DFE8F3",
            "gridwidth": 2,
            "linecolor": "#EBF0F8",
            "showbackground": true,
            "ticks": "",
            "zerolinecolor": "#EBF0F8"
           },
           "zaxis": {
            "backgroundcolor": "white",
            "gridcolor": "#DFE8F3",
            "gridwidth": 2,
            "linecolor": "#EBF0F8",
            "showbackground": true,
            "ticks": "",
            "zerolinecolor": "#EBF0F8"
           }
          },
          "shapedefaults": {
           "line": {
            "color": "#2a3f5f"
           }
          },
          "ternary": {
           "aaxis": {
            "gridcolor": "#DFE8F3",
            "linecolor": "#A2B1C6",
            "ticks": ""
           },
           "baxis": {
            "gridcolor": "#DFE8F3",
            "linecolor": "#A2B1C6",
            "ticks": ""
           },
           "bgcolor": "white",
           "caxis": {
            "gridcolor": "#DFE8F3",
            "linecolor": "#A2B1C6",
            "ticks": ""
           }
          },
          "title": {
           "x": 0.05
          },
          "xaxis": {
           "automargin": true,
           "gridcolor": "#EBF0F8",
           "linecolor": "#EBF0F8",
           "ticks": "",
           "title": {
            "standoff": 15
           },
           "zerolinecolor": "#EBF0F8",
           "zerolinewidth": 2
          },
          "yaxis": {
           "automargin": true,
           "gridcolor": "#EBF0F8",
           "linecolor": "#EBF0F8",
           "ticks": "",
           "title": {
            "standoff": 15
           },
           "zerolinecolor": "#EBF0F8",
           "zerolinewidth": 2
          }
         }
        },
        "title": {
         "text": "Computation Time by Method/Projection Type - Synthetic Dense Matrix"
        },
        "xaxis": {
         "anchor": "y",
         "domain": [
          0,
          0.2125
         ],
         "title": {
          "text": "Size (n)"
         }
        },
        "xaxis2": {
         "anchor": "y2",
         "domain": [
          0.2625,
          0.475
         ]
        },
        "xaxis3": {
         "anchor": "y3",
         "domain": [
          0.525,
          0.7375
         ]
        },
        "xaxis4": {
         "anchor": "y4",
         "domain": [
          0.7875,
          1
         ]
        },
        "yaxis": {
         "anchor": "x",
         "domain": [
          0,
          1
         ],
         "title": {
          "text": "Time (s)"
         }
        },
        "yaxis2": {
         "anchor": "x2",
         "domain": [
          0,
          1
         ],
         "matches": "y",
         "showticklabels": false
        },
        "yaxis3": {
         "anchor": "x3",
         "domain": [
          0,
          1
         ],
         "matches": "y",
         "showticklabels": false
        },
        "yaxis4": {
         "anchor": "x4",
         "domain": [
          0,
          1
         ],
         "matches": "y",
         "showticklabels": false
        }
       }
      }
     },
     "metadata": {},
     "output_type": "display_data"
    }
   ],
   "source": [
    "dense = stats[(stats['Density'] == 'dense') & (stats['Projection Type'] != '')]\n",
    "\n",
    "fig = make_subplots(rows = 1,cols = 4,shared_xaxes = True,shared_yaxes=True,subplot_titles=dense['Method'].unique())\n",
    "\n",
    "projection_colors = {\n",
    "    'gaussian': 'blue',\n",
    "    'sparse-jl': 'red',\n",
    "    'count-sketch': 'green',\n",
    "    \n",
    "}\n",
    "\n",
    "\n",
    "for i, method in enumerate(dense['Method'].unique()):\n",
    "    for j, projection in enumerate(dense['Projection Type'].unique()):\n",
    "        _df = dense[(dense['Method'] == method) & (dense['Projection Type'] == projection)]\n",
    "        fig.add_trace(\n",
    "            go.Scatter(\n",
    "                x = _df['Size'],\n",
    "                y = _df['Time'],\n",
    "                name = f'{projection}',\n",
    "                legendgroup=projection,  # Group by projection type\n",
    "                line = dict(color=projection_colors[projection]),  # Color by projection\n",
    "                showlegend = (i == 0),\n",
    "            ),\n",
    "            row = 1, col = i + 1,\n",
    "            \n",
    "        )\n",
    "\n",
    "mu_dense = stats[(stats['Method'] == 'MU') & (stats['Density'] == \"dense\")]\n",
    "\n",
    "for i in range(2):\n",
    "    fig.add_trace(\n",
    "        go.Scatter(\n",
    "            x = mu_dense['Size'],\n",
    "            y = mu_dense['Time'],\n",
    "            name = 'MU',\n",
    "            showlegend = (i == 0),\n",
    "            line = dict(color='black'),\n",
    "            legendgroup = 'MU'\n",
    "        ),\n",
    "        row = 1,col= i+1\n",
    "    )\n",
    "\n",
    "\n",
    "hals_dense = stats[(stats['Method'] == 'HALS') & (stats['Density'] == \"dense\")]\n",
    "for i in range(2,4):\n",
    "    fig.add_trace(\n",
    "        go.Scatter(\n",
    "            x = hals_dense['Size'],\n",
    "            y = hals_dense['Time'],\n",
    "            name = 'HALS',\n",
    "            showlegend = (i == 2),\n",
    "            line = dict(color='grey'),\n",
    "            legendgroup = 'HALS'\n",
    "        ),\n",
    "        row = 1,col= i+1\n",
    "    )\n",
    "\n",
    "fig.update_layout(\n",
    "    title = 'Computation Time by Method/Projection Type - Synthetic Dense Matrix',\n",
    "    xaxis_title = 'Size (n)',\n",
    "    yaxis_title = 'Time (s)',\n",
    "    template = 'plotly_white'\n",
    ")\n",
    "\n",
    "fig.show()"
   ]
  },
  {
   "cell_type": "markdown",
   "id": "15f371c7",
   "metadata": {},
   "source": [
    "*ii) sparse*"
   ]
  },
  {
   "cell_type": "code",
   "execution_count": 94,
   "id": "34c3524a",
   "metadata": {},
   "outputs": [
    {
     "data": {
      "application/vnd.plotly.v1+json": {
       "config": {
        "plotlyServerURL": "https://plot.ly"
       },
       "data": [
        {
         "legendgroup": "gaussian",
         "line": {
          "color": "blue"
         },
         "name": "gaussian",
         "showlegend": true,
         "type": "scatter",
         "x": {
          "bdata": "ZADIACwBkAH0AVgCvAIgA4QD6AM=",
          "dtype": "i2"
         },
         "xaxis": "x",
         "y": {
          "bdata": "ZmZmugKfeT/NzMyyPsyXPzMzM6PPgZw/MzMzwd4noT9mZqZnfWeyPwAAgNb9Qrc/MzOzeJiTuz8AAEDdEFvAP5qZeRljEsQ/mpm5JnPFxz8=",
          "dtype": "f8"
         },
         "yaxis": "y"
        },
        {
         "legendgroup": "sparse-jl",
         "line": {
          "color": "red"
         },
         "name": "sparse-jl",
         "showlegend": true,
         "type": "scatter",
         "x": {
          "bdata": "ZADIACwBkAH0AVgCvAIgA4QD6AM=",
          "dtype": "i2"
         },
         "xaxis": "x",
         "y": {
          "bdata": "zczMuCG+ej+amZk4VUqZP2ZmZjAny50/AACAGbm4oT8AAADbsFyzP83MTA7yvLc/MzMzLr5PvD+amXkC91XBPwAA4JYRycM/AABgKTNOxz8=",
          "dtype": "f8"
         },
         "yaxis": "y"
        },
        {
         "legendgroup": "count-sketch",
         "line": {
          "color": "green"
         },
         "name": "count-sketch",
         "showlegend": true,
         "type": "scatter",
         "x": {
          "bdata": "ZADIACwBkAH0AVgCvAIgA4QD6AM=",
          "dtype": "i2"
         },
         "xaxis": "x",
         "y": {
          "bdata": "AAAAoF1Tej/NzMy2d/SYPzMzM1qgm50/zcxMNpGZoT/NzAwL9nizPwAAgI7a7bY/AADAHzYmvD8AAGCl9ZbAP2ZmxvrUa8Q/ZmbmFCLcxz8=",
          "dtype": "f8"
         },
         "yaxis": "y"
        },
        {
         "legendgroup": "gaussian",
         "line": {
          "color": "blue"
         },
         "name": "gaussian",
         "showlegend": false,
         "type": "scatter",
         "x": {
          "bdata": "ZADIACwBkAH0AVgCvAIgA4QD6AM=",
          "dtype": "i2"
         },
         "xaxis": "x2",
         "y": {
          "bdata": "AAAAeAlvez/NzMyrJoCZP5qZmQsyVZ4/mpkZLxmFoj9mZuYx0BC0P83MjNOxUrg/zcxMnGotvT/NzKyr8xzBPzMzEyz6XMQ/AADg52y/yD8=",
          "dtype": "f8"
         },
         "yaxis": "y2"
        },
        {
         "legendgroup": "sparse-jl",
         "line": {
          "color": "red"
         },
         "name": "sparse-jl",
         "showlegend": false,
         "type": "scatter",
         "x": {
          "bdata": "ZADIACwBkAH0AVgCvAIgA4QD6AM=",
          "dtype": "i2"
         },
         "xaxis": "x2",
         "y": {
          "bdata": "ZmZmSljIej+amZnAAneYPwAAAIz4650/zczMLRJFoj8zMzO4LoizP5qZ2fPeObg/mplZH7HEvT+amblFBKnBP5qZOT0A88Q/ZmYmYky4yD8=",
          "dtype": "f8"
         },
         "yaxis": "y2"
        },
        {
         "legendgroup": "count-sketch",
         "line": {
          "color": "green"
         },
         "name": "count-sketch",
         "showlegend": false,
         "type": "scatter",
         "x": {
          "bdata": "ZADIACwBkAH0AVgCvAIgA4QD6AM=",
          "dtype": "i2"
         },
         "xaxis": "x2",
         "y": {
          "bdata": "mpmZAc+kej9mZmZrv4yYP83MzHcu550/zczM3Uojoj/NzAw5v1mzPwAAgIi+Frg/zcwMfJHYvD+amTn8iCHBP83MzALED8U/ZmZmMJq2yD8=",
          "dtype": "f8"
         },
         "yaxis": "y2"
        },
        {
         "legendgroup": "gaussian",
         "line": {
          "color": "blue"
         },
         "name": "gaussian",
         "showlegend": false,
         "type": "scatter",
         "x": {
          "bdata": "ZADIACwBkAH0AVgCvAIgA4QD6AM=",
          "dtype": "i2"
         },
         "xaxis": "x3",
         "y": {
          "bdata": "mpmZJ4NhlD8zM7M1B+ejPwAAADSkBqY/zczMQbnpqD8AAMCU4OS2P2ZmZjW5Urs/MzNTTc0OwD8zM1PK+qzCP2ZmRiEzfsU/AABAGFdgyT8=",
          "dtype": "f8"
         },
         "yaxis": "y3"
        },
        {
         "legendgroup": "sparse-jl",
         "line": {
          "color": "red"
         },
         "name": "sparse-jl",
         "showlegend": false,
         "type": "scatter",
         "x": {
          "bdata": "ZADIACwBkAH0AVgCvAIgA4QD6AM=",
          "dtype": "i2"
         },
         "xaxis": "x3",
         "y": {
          "bdata": "zczMyM0NlT8AAIBhxLqkPzMzs3kf5KY/mpkZhhafqT8zM7MreUS3P5qZWTzJ67s/mpl5v5A8wD8zMzMLe1rDPzMz08zvbsY/mpk5Qt8Gyj8=",
          "dtype": "f8"
         },
         "yaxis": "y3"
        },
        {
         "legendgroup": "count-sketch",
         "line": {
          "color": "green"
         },
         "name": "count-sketch",
         "showlegend": false,
         "type": "scatter",
         "x": {
          "bdata": "ZADIACwBkAH0AVgCvAIgA4QD6AM=",
          "dtype": "i2"
         },
         "xaxis": "x3",
         "y": {
          "bdata": "MzMzlBjClT8AAACCM52kPwAAgJBXlKY/zcxMLshUqT+amZns7BK3PwAAgKM+Rbw/zczsgsJ/wD9mZsb1Yb3CPzMzMwSsNMY/MzOTMJvfyT8=",
          "dtype": "f8"
         },
         "yaxis": "y3"
        },
        {
         "legendgroup": "gaussian",
         "line": {
          "color": "blue"
         },
         "name": "gaussian",
         "showlegend": false,
         "type": "scatter",
         "x": {
          "bdata": "ZADIACwBkAH0AVgCvAIgA4QD6AM=",
          "dtype": "i2"
         },
         "xaxis": "x4",
         "y": {
          "bdata": "zczMBDyjlD8AAIB0F3KkP83MTFcG1aY/mpmZgSAfqj9mZmaFybe3PwAAQFgybLw/zcxM+kilwD8AACCazLrDP2Zm5qKm5cY/Zmamvixtyj8=",
          "dtype": "f8"
         },
         "yaxis": "y4"
        },
        {
         "legendgroup": "sparse-jl",
         "line": {
          "color": "red"
         },
         "name": "sparse-jl",
         "showlegend": false,
         "type": "scatter",
         "x": {
          "bdata": "ZADIACwBkAH0AVgCvAIgA4QD6AM=",
          "dtype": "i2"
         },
         "xaxis": "x4",
         "y": {
          "bdata": "mpmZCBXBlD9mZmbN2pakP5qZGV9w9qY/MzOzzyMMqj9mZqYq+663PzMzc4yyRLw/mpm50dXKwD/NzEx58TTDP83MTDs2YcY/ZmYG9hSQyj8=",
          "dtype": "f8"
         },
         "yaxis": "y4"
        },
        {
         "legendgroup": "count-sketch",
         "line": {
          "color": "green"
         },
         "name": "count-sketch",
         "showlegend": false,
         "type": "scatter",
         "x": {
          "bdata": "ZADIACwBkAH0AVgCvAIgA4QD6AM=",
          "dtype": "i2"
         },
         "xaxis": "x4",
         "y": {
          "bdata": "MzMziRfZlD+amZkyGGWkP83MzAwQFqc/zczMJfn4qT8zM7Ps5KG3P83MzN4sLbw/AABgf1bPwD/NzMwQM6DDP5qZeZKF+cY/MzNTqJ5Uyj8=",
          "dtype": "f8"
         },
         "yaxis": "y4"
        },
        {
         "legendgroup": "MU",
         "line": {
          "color": "black"
         },
         "name": "MU",
         "showlegend": true,
         "type": "scatter",
         "x": {
          "bdata": "ZADIACwBkAH0AVgCvAIgA4QD6AM=",
          "dtype": "i2"
         },
         "xaxis": "x",
         "y": {
          "bdata": "MzMzJ6VFcj9mZmbW0HqaPwAAgCf2jqI/mpmZk13dpz+amRm/AC27P2ZmpglYYcA/AADAtMHswz/NzOyFltDHP83MzKauX8w/zcwsNTJd0T8=",
          "dtype": "f8"
         },
         "yaxis": "y"
        },
        {
         "legendgroup": "MU",
         "line": {
          "color": "black"
         },
         "name": "MU",
         "showlegend": false,
         "type": "scatter",
         "x": {
          "bdata": "ZADIACwBkAH0AVgCvAIgA4QD6AM=",
          "dtype": "i2"
         },
         "xaxis": "x2",
         "y": {
          "bdata": "MzMzJ6VFcj9mZmbW0HqaPwAAgCf2jqI/mpmZk13dpz+amRm/AC27P2ZmpglYYcA/AADAtMHswz/NzOyFltDHP83MzKauX8w/zcwsNTJd0T8=",
          "dtype": "f8"
         },
         "yaxis": "y2"
        },
        {
         "legendgroup": "HALS",
         "line": {
          "color": "grey"
         },
         "name": "HALS",
         "showlegend": true,
         "type": "scatter",
         "x": {
          "bdata": "ZADIACwBkAH0AVgCvAIgA4QD6AM=",
          "dtype": "i2"
         },
         "xaxis": "x3",
         "y": {
          "bdata": "ZmZmQOcDlD8AAABTYH2lP5qZGeUSgak/MzOzXH3prT8zMzOYI7e5P5qZ2Zf7w74/MzPzWTIiwj9mZoaQDBzFP83MLHzRv8g/mpnZRaHdzD8=",
          "dtype": "f8"
         },
         "yaxis": "y3"
        },
        {
         "legendgroup": "HALS",
         "line": {
          "color": "grey"
         },
         "name": "HALS",
         "showlegend": false,
         "type": "scatter",
         "x": {
          "bdata": "ZADIACwBkAH0AVgCvAIgA4QD6AM=",
          "dtype": "i2"
         },
         "xaxis": "x4",
         "y": {
          "bdata": "ZmZmQOcDlD8AAABTYH2lP5qZGeUSgak/MzOzXH3prT8zMzOYI7e5P5qZ2Zf7w74/MzPzWTIiwj9mZoaQDBzFP83MLHzRv8g/mpnZRaHdzD8=",
          "dtype": "f8"
         },
         "yaxis": "y4"
        }
       ],
       "layout": {
        "annotations": [
         {
          "font": {
           "size": 16
          },
          "showarrow": false,
          "text": "MU C",
          "x": 0.10625,
          "xanchor": "center",
          "xref": "paper",
          "y": 1,
          "yanchor": "bottom",
          "yref": "paper"
         },
         {
          "font": {
           "size": 16
          },
          "showarrow": false,
          "text": "MU SC",
          "x": 0.36875,
          "xanchor": "center",
          "xref": "paper",
          "y": 1,
          "yanchor": "bottom",
          "yref": "paper"
         },
         {
          "font": {
           "size": 16
          },
          "showarrow": false,
          "text": "HALS C",
          "x": 0.6312500000000001,
          "xanchor": "center",
          "xref": "paper",
          "y": 1,
          "yanchor": "bottom",
          "yref": "paper"
         },
         {
          "font": {
           "size": 16
          },
          "showarrow": false,
          "text": "HALS SC",
          "x": 0.89375,
          "xanchor": "center",
          "xref": "paper",
          "y": 1,
          "yanchor": "bottom",
          "yref": "paper"
         }
        ],
        "template": {
         "data": {
          "bar": [
           {
            "error_x": {
             "color": "#2a3f5f"
            },
            "error_y": {
             "color": "#2a3f5f"
            },
            "marker": {
             "line": {
              "color": "white",
              "width": 0.5
             },
             "pattern": {
              "fillmode": "overlay",
              "size": 10,
              "solidity": 0.2
             }
            },
            "type": "bar"
           }
          ],
          "barpolar": [
           {
            "marker": {
             "line": {
              "color": "white",
              "width": 0.5
             },
             "pattern": {
              "fillmode": "overlay",
              "size": 10,
              "solidity": 0.2
             }
            },
            "type": "barpolar"
           }
          ],
          "carpet": [
           {
            "aaxis": {
             "endlinecolor": "#2a3f5f",
             "gridcolor": "#C8D4E3",
             "linecolor": "#C8D4E3",
             "minorgridcolor": "#C8D4E3",
             "startlinecolor": "#2a3f5f"
            },
            "baxis": {
             "endlinecolor": "#2a3f5f",
             "gridcolor": "#C8D4E3",
             "linecolor": "#C8D4E3",
             "minorgridcolor": "#C8D4E3",
             "startlinecolor": "#2a3f5f"
            },
            "type": "carpet"
           }
          ],
          "choropleth": [
           {
            "colorbar": {
             "outlinewidth": 0,
             "ticks": ""
            },
            "type": "choropleth"
           }
          ],
          "contour": [
           {
            "colorbar": {
             "outlinewidth": 0,
             "ticks": ""
            },
            "colorscale": [
             [
              0,
              "#0d0887"
             ],
             [
              0.1111111111111111,
              "#46039f"
             ],
             [
              0.2222222222222222,
              "#7201a8"
             ],
             [
              0.3333333333333333,
              "#9c179e"
             ],
             [
              0.4444444444444444,
              "#bd3786"
             ],
             [
              0.5555555555555556,
              "#d8576b"
             ],
             [
              0.6666666666666666,
              "#ed7953"
             ],
             [
              0.7777777777777778,
              "#fb9f3a"
             ],
             [
              0.8888888888888888,
              "#fdca26"
             ],
             [
              1,
              "#f0f921"
             ]
            ],
            "type": "contour"
           }
          ],
          "contourcarpet": [
           {
            "colorbar": {
             "outlinewidth": 0,
             "ticks": ""
            },
            "type": "contourcarpet"
           }
          ],
          "heatmap": [
           {
            "colorbar": {
             "outlinewidth": 0,
             "ticks": ""
            },
            "colorscale": [
             [
              0,
              "#0d0887"
             ],
             [
              0.1111111111111111,
              "#46039f"
             ],
             [
              0.2222222222222222,
              "#7201a8"
             ],
             [
              0.3333333333333333,
              "#9c179e"
             ],
             [
              0.4444444444444444,
              "#bd3786"
             ],
             [
              0.5555555555555556,
              "#d8576b"
             ],
             [
              0.6666666666666666,
              "#ed7953"
             ],
             [
              0.7777777777777778,
              "#fb9f3a"
             ],
             [
              0.8888888888888888,
              "#fdca26"
             ],
             [
              1,
              "#f0f921"
             ]
            ],
            "type": "heatmap"
           }
          ],
          "histogram": [
           {
            "marker": {
             "pattern": {
              "fillmode": "overlay",
              "size": 10,
              "solidity": 0.2
             }
            },
            "type": "histogram"
           }
          ],
          "histogram2d": [
           {
            "colorbar": {
             "outlinewidth": 0,
             "ticks": ""
            },
            "colorscale": [
             [
              0,
              "#0d0887"
             ],
             [
              0.1111111111111111,
              "#46039f"
             ],
             [
              0.2222222222222222,
              "#7201a8"
             ],
             [
              0.3333333333333333,
              "#9c179e"
             ],
             [
              0.4444444444444444,
              "#bd3786"
             ],
             [
              0.5555555555555556,
              "#d8576b"
             ],
             [
              0.6666666666666666,
              "#ed7953"
             ],
             [
              0.7777777777777778,
              "#fb9f3a"
             ],
             [
              0.8888888888888888,
              "#fdca26"
             ],
             [
              1,
              "#f0f921"
             ]
            ],
            "type": "histogram2d"
           }
          ],
          "histogram2dcontour": [
           {
            "colorbar": {
             "outlinewidth": 0,
             "ticks": ""
            },
            "colorscale": [
             [
              0,
              "#0d0887"
             ],
             [
              0.1111111111111111,
              "#46039f"
             ],
             [
              0.2222222222222222,
              "#7201a8"
             ],
             [
              0.3333333333333333,
              "#9c179e"
             ],
             [
              0.4444444444444444,
              "#bd3786"
             ],
             [
              0.5555555555555556,
              "#d8576b"
             ],
             [
              0.6666666666666666,
              "#ed7953"
             ],
             [
              0.7777777777777778,
              "#fb9f3a"
             ],
             [
              0.8888888888888888,
              "#fdca26"
             ],
             [
              1,
              "#f0f921"
             ]
            ],
            "type": "histogram2dcontour"
           }
          ],
          "mesh3d": [
           {
            "colorbar": {
             "outlinewidth": 0,
             "ticks": ""
            },
            "type": "mesh3d"
           }
          ],
          "parcoords": [
           {
            "line": {
             "colorbar": {
              "outlinewidth": 0,
              "ticks": ""
             }
            },
            "type": "parcoords"
           }
          ],
          "pie": [
           {
            "automargin": true,
            "type": "pie"
           }
          ],
          "scatter": [
           {
            "fillpattern": {
             "fillmode": "overlay",
             "size": 10,
             "solidity": 0.2
            },
            "type": "scatter"
           }
          ],
          "scatter3d": [
           {
            "line": {
             "colorbar": {
              "outlinewidth": 0,
              "ticks": ""
             }
            },
            "marker": {
             "colorbar": {
              "outlinewidth": 0,
              "ticks": ""
             }
            },
            "type": "scatter3d"
           }
          ],
          "scattercarpet": [
           {
            "marker": {
             "colorbar": {
              "outlinewidth": 0,
              "ticks": ""
             }
            },
            "type": "scattercarpet"
           }
          ],
          "scattergeo": [
           {
            "marker": {
             "colorbar": {
              "outlinewidth": 0,
              "ticks": ""
             }
            },
            "type": "scattergeo"
           }
          ],
          "scattergl": [
           {
            "marker": {
             "colorbar": {
              "outlinewidth": 0,
              "ticks": ""
             }
            },
            "type": "scattergl"
           }
          ],
          "scattermap": [
           {
            "marker": {
             "colorbar": {
              "outlinewidth": 0,
              "ticks": ""
             }
            },
            "type": "scattermap"
           }
          ],
          "scattermapbox": [
           {
            "marker": {
             "colorbar": {
              "outlinewidth": 0,
              "ticks": ""
             }
            },
            "type": "scattermapbox"
           }
          ],
          "scatterpolar": [
           {
            "marker": {
             "colorbar": {
              "outlinewidth": 0,
              "ticks": ""
             }
            },
            "type": "scatterpolar"
           }
          ],
          "scatterpolargl": [
           {
            "marker": {
             "colorbar": {
              "outlinewidth": 0,
              "ticks": ""
             }
            },
            "type": "scatterpolargl"
           }
          ],
          "scatterternary": [
           {
            "marker": {
             "colorbar": {
              "outlinewidth": 0,
              "ticks": ""
             }
            },
            "type": "scatterternary"
           }
          ],
          "surface": [
           {
            "colorbar": {
             "outlinewidth": 0,
             "ticks": ""
            },
            "colorscale": [
             [
              0,
              "#0d0887"
             ],
             [
              0.1111111111111111,
              "#46039f"
             ],
             [
              0.2222222222222222,
              "#7201a8"
             ],
             [
              0.3333333333333333,
              "#9c179e"
             ],
             [
              0.4444444444444444,
              "#bd3786"
             ],
             [
              0.5555555555555556,
              "#d8576b"
             ],
             [
              0.6666666666666666,
              "#ed7953"
             ],
             [
              0.7777777777777778,
              "#fb9f3a"
             ],
             [
              0.8888888888888888,
              "#fdca26"
             ],
             [
              1,
              "#f0f921"
             ]
            ],
            "type": "surface"
           }
          ],
          "table": [
           {
            "cells": {
             "fill": {
              "color": "#EBF0F8"
             },
             "line": {
              "color": "white"
             }
            },
            "header": {
             "fill": {
              "color": "#C8D4E3"
             },
             "line": {
              "color": "white"
             }
            },
            "type": "table"
           }
          ]
         },
         "layout": {
          "annotationdefaults": {
           "arrowcolor": "#2a3f5f",
           "arrowhead": 0,
           "arrowwidth": 1
          },
          "autotypenumbers": "strict",
          "coloraxis": {
           "colorbar": {
            "outlinewidth": 0,
            "ticks": ""
           }
          },
          "colorscale": {
           "diverging": [
            [
             0,
             "#8e0152"
            ],
            [
             0.1,
             "#c51b7d"
            ],
            [
             0.2,
             "#de77ae"
            ],
            [
             0.3,
             "#f1b6da"
            ],
            [
             0.4,
             "#fde0ef"
            ],
            [
             0.5,
             "#f7f7f7"
            ],
            [
             0.6,
             "#e6f5d0"
            ],
            [
             0.7,
             "#b8e186"
            ],
            [
             0.8,
             "#7fbc41"
            ],
            [
             0.9,
             "#4d9221"
            ],
            [
             1,
             "#276419"
            ]
           ],
           "sequential": [
            [
             0,
             "#0d0887"
            ],
            [
             0.1111111111111111,
             "#46039f"
            ],
            [
             0.2222222222222222,
             "#7201a8"
            ],
            [
             0.3333333333333333,
             "#9c179e"
            ],
            [
             0.4444444444444444,
             "#bd3786"
            ],
            [
             0.5555555555555556,
             "#d8576b"
            ],
            [
             0.6666666666666666,
             "#ed7953"
            ],
            [
             0.7777777777777778,
             "#fb9f3a"
            ],
            [
             0.8888888888888888,
             "#fdca26"
            ],
            [
             1,
             "#f0f921"
            ]
           ],
           "sequentialminus": [
            [
             0,
             "#0d0887"
            ],
            [
             0.1111111111111111,
             "#46039f"
            ],
            [
             0.2222222222222222,
             "#7201a8"
            ],
            [
             0.3333333333333333,
             "#9c179e"
            ],
            [
             0.4444444444444444,
             "#bd3786"
            ],
            [
             0.5555555555555556,
             "#d8576b"
            ],
            [
             0.6666666666666666,
             "#ed7953"
            ],
            [
             0.7777777777777778,
             "#fb9f3a"
            ],
            [
             0.8888888888888888,
             "#fdca26"
            ],
            [
             1,
             "#f0f921"
            ]
           ]
          },
          "colorway": [
           "#636efa",
           "#EF553B",
           "#00cc96",
           "#ab63fa",
           "#FFA15A",
           "#19d3f3",
           "#FF6692",
           "#B6E880",
           "#FF97FF",
           "#FECB52"
          ],
          "font": {
           "color": "#2a3f5f"
          },
          "geo": {
           "bgcolor": "white",
           "lakecolor": "white",
           "landcolor": "white",
           "showlakes": true,
           "showland": true,
           "subunitcolor": "#C8D4E3"
          },
          "hoverlabel": {
           "align": "left"
          },
          "hovermode": "closest",
          "mapbox": {
           "style": "light"
          },
          "paper_bgcolor": "white",
          "plot_bgcolor": "white",
          "polar": {
           "angularaxis": {
            "gridcolor": "#EBF0F8",
            "linecolor": "#EBF0F8",
            "ticks": ""
           },
           "bgcolor": "white",
           "radialaxis": {
            "gridcolor": "#EBF0F8",
            "linecolor": "#EBF0F8",
            "ticks": ""
           }
          },
          "scene": {
           "xaxis": {
            "backgroundcolor": "white",
            "gridcolor": "#DFE8F3",
            "gridwidth": 2,
            "linecolor": "#EBF0F8",
            "showbackground": true,
            "ticks": "",
            "zerolinecolor": "#EBF0F8"
           },
           "yaxis": {
            "backgroundcolor": "white",
            "gridcolor": "#DFE8F3",
            "gridwidth": 2,
            "linecolor": "#EBF0F8",
            "showbackground": true,
            "ticks": "",
            "zerolinecolor": "#EBF0F8"
           },
           "zaxis": {
            "backgroundcolor": "white",
            "gridcolor": "#DFE8F3",
            "gridwidth": 2,
            "linecolor": "#EBF0F8",
            "showbackground": true,
            "ticks": "",
            "zerolinecolor": "#EBF0F8"
           }
          },
          "shapedefaults": {
           "line": {
            "color": "#2a3f5f"
           }
          },
          "ternary": {
           "aaxis": {
            "gridcolor": "#DFE8F3",
            "linecolor": "#A2B1C6",
            "ticks": ""
           },
           "baxis": {
            "gridcolor": "#DFE8F3",
            "linecolor": "#A2B1C6",
            "ticks": ""
           },
           "bgcolor": "white",
           "caxis": {
            "gridcolor": "#DFE8F3",
            "linecolor": "#A2B1C6",
            "ticks": ""
           }
          },
          "title": {
           "x": 0.05
          },
          "xaxis": {
           "automargin": true,
           "gridcolor": "#EBF0F8",
           "linecolor": "#EBF0F8",
           "ticks": "",
           "title": {
            "standoff": 15
           },
           "zerolinecolor": "#EBF0F8",
           "zerolinewidth": 2
          },
          "yaxis": {
           "automargin": true,
           "gridcolor": "#EBF0F8",
           "linecolor": "#EBF0F8",
           "ticks": "",
           "title": {
            "standoff": 15
           },
           "zerolinecolor": "#EBF0F8",
           "zerolinewidth": 2
          }
         }
        },
        "title": {
         "text": "Computation Time by Method/Projection Type - Synthetic Sparse Matrix"
        },
        "xaxis": {
         "anchor": "y",
         "domain": [
          0,
          0.2125
         ],
         "title": {
          "text": "Size (n)"
         }
        },
        "xaxis2": {
         "anchor": "y2",
         "domain": [
          0.2625,
          0.475
         ]
        },
        "xaxis3": {
         "anchor": "y3",
         "domain": [
          0.525,
          0.7375
         ]
        },
        "xaxis4": {
         "anchor": "y4",
         "domain": [
          0.7875,
          1
         ]
        },
        "yaxis": {
         "anchor": "x",
         "domain": [
          0,
          1
         ],
         "title": {
          "text": "Time (s)"
         }
        },
        "yaxis2": {
         "anchor": "x2",
         "domain": [
          0,
          1
         ],
         "matches": "y",
         "showticklabels": false
        },
        "yaxis3": {
         "anchor": "x3",
         "domain": [
          0,
          1
         ],
         "matches": "y",
         "showticklabels": false
        },
        "yaxis4": {
         "anchor": "x4",
         "domain": [
          0,
          1
         ],
         "matches": "y",
         "showticklabels": false
        }
       }
      }
     },
     "metadata": {},
     "output_type": "display_data"
    }
   ],
   "source": [
    "sparse = stats[(stats['Density'] == 'sparse') & (stats['Projection Type'] != '')]\n",
    "\n",
    "fig = make_subplots(rows = 1,cols = 4,shared_xaxes = True,shared_yaxes=True,subplot_titles=sparse['Method'].unique())\n",
    "\n",
    "projection_colors = {\n",
    "    'gaussian': 'blue',\n",
    "    'sparse-jl': 'red',\n",
    "    'count-sketch': 'green',\n",
    "}\n",
    "\n",
    "for i, method in enumerate(sparse['Method'].unique()):\n",
    "    for j, projection in enumerate(sparse['Projection Type'].unique()):\n",
    "        _df = sparse[(sparse['Method'] == method) & (sparse['Projection Type'] == projection)]\n",
    "        fig.add_trace(\n",
    "            go.Scatter(\n",
    "                x = _df['Size'],\n",
    "                y = _df['Time'],\n",
    "                name = f'{projection}',\n",
    "                legendgroup=projection,  # Group by projection type\n",
    "                line = dict(color=projection_colors[projection]),  # Color by projection\n",
    "                showlegend = (i == 0),\n",
    "            ),\n",
    "            row = 1, col = i + 1,\n",
    "            \n",
    "        )\n",
    "mu_dense = stats[(stats['Method'] == 'MU') & (stats['Density'] == \"sparse\")]\n",
    "\n",
    "for i in range(2):\n",
    "    fig.add_trace(\n",
    "        go.Scatter(\n",
    "            x = mu_dense['Size'],\n",
    "            y = mu_dense['Time'],\n",
    "            name = 'MU',\n",
    "            showlegend = (i == 0),\n",
    "            line = dict(color='black'),\n",
    "            legendgroup = 'MU'\n",
    "        ),\n",
    "        row = 1,col= i+1\n",
    "    )\n",
    "\n",
    "\n",
    "hals_dense = stats[(stats['Method'] == 'HALS') & (stats['Density'] == \"sparse\")]\n",
    "for i in range(2,4):\n",
    "    fig.add_trace(\n",
    "        go.Scatter(\n",
    "            x = hals_dense['Size'],\n",
    "            y = hals_dense['Time'],\n",
    "            name = 'HALS',\n",
    "            showlegend = (i == 2),\n",
    "            line = dict(color='grey'),\n",
    "            legendgroup = 'HALS'\n",
    "        ),\n",
    "        row = 1,col= i+1\n",
    "    )\n",
    "\n",
    "\n",
    "fig.update_layout(\n",
    "    title = 'Computation Time by Method/Projection Type - Synthetic Sparse Matrix',\n",
    "    xaxis_title = 'Size (n)',\n",
    "    yaxis_title = 'Time (s)',\n",
    "    template = 'plotly_white'\n",
    ")\n",
    "fig.show()"
   ]
  },
  {
   "cell_type": "markdown",
   "id": "b64ad4df",
   "metadata": {},
   "source": [
    "*Plot: Reconstruction Error by Method/Projection*"
   ]
  },
  {
   "cell_type": "markdown",
   "id": "b49d062a",
   "metadata": {},
   "source": [
    "*i) dense*"
   ]
  },
  {
   "cell_type": "code",
   "execution_count": 95,
   "id": "07efa035",
   "metadata": {},
   "outputs": [
    {
     "data": {
      "application/vnd.plotly.v1+json": {
       "config": {
        "plotlyServerURL": "https://plot.ly"
       },
       "data": [
        {
         "legendgroup": "gaussian",
         "line": {
          "color": "blue"
         },
         "name": "gaussian",
         "showlegend": true,
         "type": "scatter",
         "x": {
          "bdata": "ZADIACwBkAH0AVgCvAIgA4QD6AM=",
          "dtype": "i2"
         },
         "xaxis": "x",
         "y": {
          "bdata": "qY0e2UXH4z+djv97LHnAP7eCJWvJ0ec/UjHLA2Nz5T9e3bXv9jblPwqKM1wy2+Y/TeMw84Y+6D8KU2XWVQnrP7FwcQWa/+Q//icloZWw5j8=",
          "dtype": "f8"
         },
         "yaxis": "y"
        },
        {
         "legendgroup": "sparse-jl",
         "line": {
          "color": "red"
         },
         "name": "sparse-jl",
         "showlegend": true,
         "type": "scatter",
         "x": {
          "bdata": "ZADIACwBkAH0AVgCvAIgA4QD6AM=",
          "dtype": "i2"
         },
         "xaxis": "x",
         "y": {
          "bdata": "Qj1FYwfY4z9Ti7A2QnHLP2HfFBNP6Og/DWX2cArW5T+RpSxUvbnkP1LjIRRI8uY/djYqu0mN6D+eOj+hVafpP1pFn0dTOeY/MVAOLHTO6D8=",
          "dtype": "f8"
         },
         "yaxis": "y"
        },
        {
         "legendgroup": "count-sketch",
         "line": {
          "color": "green"
         },
         "name": "count-sketch",
         "showlegend": true,
         "type": "scatter",
         "x": {
          "bdata": "ZADIACwBkAH0AVgCvAIgA4QD6AM=",
          "dtype": "i2"
         },
         "xaxis": "x",
         "y": {
          "bdata": "+jAja8ky4z/mx7gMRDXaP27TF1u3/uk/mqwOXPeF6D9+VZ9xXZzkP3uZJXl+3uk/4n8XDUFL6j8xGkvIecvoP1DRp0sUH+Y/0LoKzsLs5j8=",
          "dtype": "f8"
         },
         "yaxis": "y"
        },
        {
         "legendgroup": "gaussian",
         "line": {
          "color": "blue"
         },
         "name": "gaussian",
         "showlegend": false,
         "type": "scatter",
         "x": {
          "bdata": "ZADIACwBkAH0AVgCvAIgA4QD6AM=",
          "dtype": "i2"
         },
         "xaxis": "x2",
         "y": {
          "bdata": "BbrD9Pfj4j9hn8HevnjAP7CsCNUeEeQ//p8Zg2qX4j/Mul8lLLvgP/Erw4gR9OE/xQC3EzBe4j90DRaqrCPjP+gWVChiX94/b0F8yLlS4D8=",
          "dtype": "f8"
         },
         "yaxis": "y2"
        },
        {
         "legendgroup": "sparse-jl",
         "line": {
          "color": "red"
         },
         "name": "sparse-jl",
         "showlegend": false,
         "type": "scatter",
         "x": {
          "bdata": "ZADIACwBkAH0AVgCvAIgA4QD6AM=",
          "dtype": "i2"
         },
         "xaxis": "x2",
         "y": {
          "bdata": "y6rfnD9I6z82GZ1RaOPeP2utMoaQwuo/4MmuSY976T+FaKyVHv/nP64vPuLbxec/Sk1arz0d6j9gKizP3RXnP/tp2XeYdeY//GN5ygRJ4z8=",
          "dtype": "f8"
         },
         "yaxis": "y2"
        },
        {
         "legendgroup": "count-sketch",
         "line": {
          "color": "green"
         },
         "name": "count-sketch",
         "showlegend": false,
         "type": "scatter",
         "x": {
          "bdata": "ZADIACwBkAH0AVgCvAIgA4QD6AM=",
          "dtype": "i2"
         },
         "xaxis": "x2",
         "y": {
          "bdata": "/RMjQrVL6D+r2n8HM/zlP+ZS9X4nEuk/enepEhTE6j+D1yuhs43qP85IZHPGF/M/8oTFQK9a+j8ehwVIh/nsPz1q1an5re0/pahX1KOu6T8=",
          "dtype": "f8"
         },
         "yaxis": "y2"
        },
        {
         "legendgroup": "gaussian",
         "line": {
          "color": "blue"
         },
         "name": "gaussian",
         "showlegend": false,
         "type": "scatter",
         "x": {
          "bdata": "ZADIACwBkAH0AVgCvAIgA4QD6AM=",
          "dtype": "i2"
         },
         "xaxis": "x3",
         "y": {
          "bdata": "fe11F8i36j9bR7hBDqTtP31c0MFOk+8/crp4YEGe7j/980+eSPbtP04JRNrrEe8/46cclnO87z/ma62rzoTvP+pbVMYOnu4/67Q5o6YQ7z8=",
          "dtype": "f8"
         },
         "yaxis": "y3"
        },
        {
         "legendgroup": "sparse-jl",
         "line": {
          "color": "red"
         },
         "name": "sparse-jl",
         "showlegend": false,
         "type": "scatter",
         "x": {
          "bdata": "ZADIACwBkAH0AVgCvAIgA4QD6AM=",
          "dtype": "i2"
         },
         "xaxis": "x3",
         "y": {
          "bdata": "FSv/8Ue97j+upOJeMCPtP4ItE32QcO8/Nv615Fei7j8t4gIu7xTuP9UFWAGobu4/03nGLt9l7z8mCJICzqfuP4s0aK+2ee4/2rEEUddW7z8=",
          "dtype": "f8"
         },
         "yaxis": "y3"
        },
        {
         "legendgroup": "count-sketch",
         "line": {
          "color": "green"
         },
         "name": "count-sketch",
         "showlegend": false,
         "type": "scatter",
         "x": {
          "bdata": "ZADIACwBkAH0AVgCvAIgA4QD6AM=",
          "dtype": "i2"
         },
         "xaxis": "x3",
         "y": {
          "bdata": "Tnn+qGdc6T/bnMq4nZjuP7VOiE4ghu8/c1AqPGlL7T91HI51/NHuP4pQBacUNO8/u2A0vIR37z+jlI76CdXuPyWxHci/a+4/jqnxqBVN7j8=",
          "dtype": "f8"
         },
         "yaxis": "y3"
        },
        {
         "legendgroup": "gaussian",
         "line": {
          "color": "blue"
         },
         "name": "gaussian",
         "showlegend": false,
         "type": "scatter",
         "x": {
          "bdata": "ZADIACwBkAH0AVgCvAIgA4QD6AM=",
          "dtype": "i2"
         },
         "xaxis": "x4",
         "y": {
          "bdata": "guq9W6zE6D9+x31Wx0LrP5g+2NIrKuw/HS7FgTxh7D/TrotADxHtP32DD4w4Ee0/exGGGXc77T/e3nt8sontPx3UtOc2xuw/MlnY1T7I7D8=",
          "dtype": "f8"
         },
         "yaxis": "y4"
        },
        {
         "legendgroup": "sparse-jl",
         "line": {
          "color": "red"
         },
         "name": "sparse-jl",
         "showlegend": false,
         "type": "scatter",
         "x": {
          "bdata": "ZADIACwBkAH0AVgCvAIgA4QD6AM=",
          "dtype": "i2"
         },
         "xaxis": "x4",
         "y": {
          "bdata": "8D22hZUp7j87YmBcE+vrP7Bj+9O9Aew/OICAWzeg7D/w5zsZ8JTsP8YaIdpGEe0/ZcV07URx7T/LeNspM+XtPyiNuKlvRu0/uF0F5HTM7D8=",
          "dtype": "f8"
         },
         "yaxis": "y4"
        },
        {
         "legendgroup": "count-sketch",
         "line": {
          "color": "green"
         },
         "name": "count-sketch",
         "showlegend": false,
         "type": "scatter",
         "x": {
          "bdata": "ZADIACwBkAH0AVgCvAIgA4QD6AM=",
          "dtype": "i2"
         },
         "xaxis": "x4",
         "y": {
          "bdata": "6rTUKfHV6T8AiRm3QinsP3X+TKT1pOw/eCVVuSvA7T8TKXDi+n/tP/JXlgw6gu0/HbES1/3T7T99kuVSjEnuP5ocdNkSjO4/ZYyaOq/p7D8=",
          "dtype": "f8"
         },
         "yaxis": "y4"
        },
        {
         "legendgroup": "MU",
         "line": {
          "color": "black"
         },
         "name": "MU",
         "showlegend": true,
         "type": "scatter",
         "x": {
          "bdata": "ZADIACwBkAH0AVgCvAIgA4QD6AM=",
          "dtype": "i2"
         },
         "xaxis": "x",
         "y": {
          "bdata": "mdMDASP4wz8PY1kqufrGP2OnXSG1GMg/uu1MnHfvyD/djqwgMhrJP7aunV1EiMk/4gJsPNRxyT/d2wjZrLLJP0Nu943h5ck/Q4/stngTyj8=",
          "dtype": "f8"
         },
         "yaxis": "y"
        },
        {
         "legendgroup": "MU",
         "line": {
          "color": "black"
         },
         "name": "MU",
         "showlegend": false,
         "type": "scatter",
         "x": {
          "bdata": "ZADIACwBkAH0AVgCvAIgA4QD6AM=",
          "dtype": "i2"
         },
         "xaxis": "x2",
         "y": {
          "bdata": "mdMDASP4wz8PY1kqufrGP2OnXSG1GMg/uu1MnHfvyD/djqwgMhrJP7aunV1EiMk/4gJsPNRxyT/d2wjZrLLJP0Nu943h5ck/Q4/stngTyj8=",
          "dtype": "f8"
         },
         "yaxis": "y2"
        },
        {
         "legendgroup": "HALS",
         "line": {
          "color": "grey"
         },
         "name": "HALS",
         "showlegend": true,
         "type": "scatter",
         "x": {
          "bdata": "ZADIACwBkAH0AVgCvAIgA4QD6AM=",
          "dtype": "i2"
         },
         "xaxis": "x3",
         "y": {
          "bdata": "UfChwWhdwT9apKjrQ/LEP1OPzkPXP8Y/Rsjvq8Ixxz9WD7pOlWbHP8XjJF7O1sc/ZeeZ8HfSxz/mWZUzWBbIPw4hhudmVMg/Dpe2xZJwyD8=",
          "dtype": "f8"
         },
         "yaxis": "y3"
        },
        {
         "legendgroup": "HALS",
         "line": {
          "color": "grey"
         },
         "name": "HALS",
         "showlegend": false,
         "type": "scatter",
         "x": {
          "bdata": "ZADIACwBkAH0AVgCvAIgA4QD6AM=",
          "dtype": "i2"
         },
         "xaxis": "x4",
         "y": {
          "bdata": "UfChwWhdwT9apKjrQ/LEP1OPzkPXP8Y/Rsjvq8Ixxz9WD7pOlWbHP8XjJF7O1sc/ZeeZ8HfSxz/mWZUzWBbIPw4hhudmVMg/Dpe2xZJwyD8=",
          "dtype": "f8"
         },
         "yaxis": "y4"
        }
       ],
       "layout": {
        "annotations": [
         {
          "font": {
           "size": 16
          },
          "showarrow": false,
          "text": "MU C",
          "x": 0.10625,
          "xanchor": "center",
          "xref": "paper",
          "y": 1,
          "yanchor": "bottom",
          "yref": "paper"
         },
         {
          "font": {
           "size": 16
          },
          "showarrow": false,
          "text": "MU SC",
          "x": 0.36875,
          "xanchor": "center",
          "xref": "paper",
          "y": 1,
          "yanchor": "bottom",
          "yref": "paper"
         },
         {
          "font": {
           "size": 16
          },
          "showarrow": false,
          "text": "HALS C",
          "x": 0.6312500000000001,
          "xanchor": "center",
          "xref": "paper",
          "y": 1,
          "yanchor": "bottom",
          "yref": "paper"
         },
         {
          "font": {
           "size": 16
          },
          "showarrow": false,
          "text": "HALS SC",
          "x": 0.89375,
          "xanchor": "center",
          "xref": "paper",
          "y": 1,
          "yanchor": "bottom",
          "yref": "paper"
         }
        ],
        "template": {
         "data": {
          "bar": [
           {
            "error_x": {
             "color": "#2a3f5f"
            },
            "error_y": {
             "color": "#2a3f5f"
            },
            "marker": {
             "line": {
              "color": "white",
              "width": 0.5
             },
             "pattern": {
              "fillmode": "overlay",
              "size": 10,
              "solidity": 0.2
             }
            },
            "type": "bar"
           }
          ],
          "barpolar": [
           {
            "marker": {
             "line": {
              "color": "white",
              "width": 0.5
             },
             "pattern": {
              "fillmode": "overlay",
              "size": 10,
              "solidity": 0.2
             }
            },
            "type": "barpolar"
           }
          ],
          "carpet": [
           {
            "aaxis": {
             "endlinecolor": "#2a3f5f",
             "gridcolor": "#C8D4E3",
             "linecolor": "#C8D4E3",
             "minorgridcolor": "#C8D4E3",
             "startlinecolor": "#2a3f5f"
            },
            "baxis": {
             "endlinecolor": "#2a3f5f",
             "gridcolor": "#C8D4E3",
             "linecolor": "#C8D4E3",
             "minorgridcolor": "#C8D4E3",
             "startlinecolor": "#2a3f5f"
            },
            "type": "carpet"
           }
          ],
          "choropleth": [
           {
            "colorbar": {
             "outlinewidth": 0,
             "ticks": ""
            },
            "type": "choropleth"
           }
          ],
          "contour": [
           {
            "colorbar": {
             "outlinewidth": 0,
             "ticks": ""
            },
            "colorscale": [
             [
              0,
              "#0d0887"
             ],
             [
              0.1111111111111111,
              "#46039f"
             ],
             [
              0.2222222222222222,
              "#7201a8"
             ],
             [
              0.3333333333333333,
              "#9c179e"
             ],
             [
              0.4444444444444444,
              "#bd3786"
             ],
             [
              0.5555555555555556,
              "#d8576b"
             ],
             [
              0.6666666666666666,
              "#ed7953"
             ],
             [
              0.7777777777777778,
              "#fb9f3a"
             ],
             [
              0.8888888888888888,
              "#fdca26"
             ],
             [
              1,
              "#f0f921"
             ]
            ],
            "type": "contour"
           }
          ],
          "contourcarpet": [
           {
            "colorbar": {
             "outlinewidth": 0,
             "ticks": ""
            },
            "type": "contourcarpet"
           }
          ],
          "heatmap": [
           {
            "colorbar": {
             "outlinewidth": 0,
             "ticks": ""
            },
            "colorscale": [
             [
              0,
              "#0d0887"
             ],
             [
              0.1111111111111111,
              "#46039f"
             ],
             [
              0.2222222222222222,
              "#7201a8"
             ],
             [
              0.3333333333333333,
              "#9c179e"
             ],
             [
              0.4444444444444444,
              "#bd3786"
             ],
             [
              0.5555555555555556,
              "#d8576b"
             ],
             [
              0.6666666666666666,
              "#ed7953"
             ],
             [
              0.7777777777777778,
              "#fb9f3a"
             ],
             [
              0.8888888888888888,
              "#fdca26"
             ],
             [
              1,
              "#f0f921"
             ]
            ],
            "type": "heatmap"
           }
          ],
          "histogram": [
           {
            "marker": {
             "pattern": {
              "fillmode": "overlay",
              "size": 10,
              "solidity": 0.2
             }
            },
            "type": "histogram"
           }
          ],
          "histogram2d": [
           {
            "colorbar": {
             "outlinewidth": 0,
             "ticks": ""
            },
            "colorscale": [
             [
              0,
              "#0d0887"
             ],
             [
              0.1111111111111111,
              "#46039f"
             ],
             [
              0.2222222222222222,
              "#7201a8"
             ],
             [
              0.3333333333333333,
              "#9c179e"
             ],
             [
              0.4444444444444444,
              "#bd3786"
             ],
             [
              0.5555555555555556,
              "#d8576b"
             ],
             [
              0.6666666666666666,
              "#ed7953"
             ],
             [
              0.7777777777777778,
              "#fb9f3a"
             ],
             [
              0.8888888888888888,
              "#fdca26"
             ],
             [
              1,
              "#f0f921"
             ]
            ],
            "type": "histogram2d"
           }
          ],
          "histogram2dcontour": [
           {
            "colorbar": {
             "outlinewidth": 0,
             "ticks": ""
            },
            "colorscale": [
             [
              0,
              "#0d0887"
             ],
             [
              0.1111111111111111,
              "#46039f"
             ],
             [
              0.2222222222222222,
              "#7201a8"
             ],
             [
              0.3333333333333333,
              "#9c179e"
             ],
             [
              0.4444444444444444,
              "#bd3786"
             ],
             [
              0.5555555555555556,
              "#d8576b"
             ],
             [
              0.6666666666666666,
              "#ed7953"
             ],
             [
              0.7777777777777778,
              "#fb9f3a"
             ],
             [
              0.8888888888888888,
              "#fdca26"
             ],
             [
              1,
              "#f0f921"
             ]
            ],
            "type": "histogram2dcontour"
           }
          ],
          "mesh3d": [
           {
            "colorbar": {
             "outlinewidth": 0,
             "ticks": ""
            },
            "type": "mesh3d"
           }
          ],
          "parcoords": [
           {
            "line": {
             "colorbar": {
              "outlinewidth": 0,
              "ticks": ""
             }
            },
            "type": "parcoords"
           }
          ],
          "pie": [
           {
            "automargin": true,
            "type": "pie"
           }
          ],
          "scatter": [
           {
            "fillpattern": {
             "fillmode": "overlay",
             "size": 10,
             "solidity": 0.2
            },
            "type": "scatter"
           }
          ],
          "scatter3d": [
           {
            "line": {
             "colorbar": {
              "outlinewidth": 0,
              "ticks": ""
             }
            },
            "marker": {
             "colorbar": {
              "outlinewidth": 0,
              "ticks": ""
             }
            },
            "type": "scatter3d"
           }
          ],
          "scattercarpet": [
           {
            "marker": {
             "colorbar": {
              "outlinewidth": 0,
              "ticks": ""
             }
            },
            "type": "scattercarpet"
           }
          ],
          "scattergeo": [
           {
            "marker": {
             "colorbar": {
              "outlinewidth": 0,
              "ticks": ""
             }
            },
            "type": "scattergeo"
           }
          ],
          "scattergl": [
           {
            "marker": {
             "colorbar": {
              "outlinewidth": 0,
              "ticks": ""
             }
            },
            "type": "scattergl"
           }
          ],
          "scattermap": [
           {
            "marker": {
             "colorbar": {
              "outlinewidth": 0,
              "ticks": ""
             }
            },
            "type": "scattermap"
           }
          ],
          "scattermapbox": [
           {
            "marker": {
             "colorbar": {
              "outlinewidth": 0,
              "ticks": ""
             }
            },
            "type": "scattermapbox"
           }
          ],
          "scatterpolar": [
           {
            "marker": {
             "colorbar": {
              "outlinewidth": 0,
              "ticks": ""
             }
            },
            "type": "scatterpolar"
           }
          ],
          "scatterpolargl": [
           {
            "marker": {
             "colorbar": {
              "outlinewidth": 0,
              "ticks": ""
             }
            },
            "type": "scatterpolargl"
           }
          ],
          "scatterternary": [
           {
            "marker": {
             "colorbar": {
              "outlinewidth": 0,
              "ticks": ""
             }
            },
            "type": "scatterternary"
           }
          ],
          "surface": [
           {
            "colorbar": {
             "outlinewidth": 0,
             "ticks": ""
            },
            "colorscale": [
             [
              0,
              "#0d0887"
             ],
             [
              0.1111111111111111,
              "#46039f"
             ],
             [
              0.2222222222222222,
              "#7201a8"
             ],
             [
              0.3333333333333333,
              "#9c179e"
             ],
             [
              0.4444444444444444,
              "#bd3786"
             ],
             [
              0.5555555555555556,
              "#d8576b"
             ],
             [
              0.6666666666666666,
              "#ed7953"
             ],
             [
              0.7777777777777778,
              "#fb9f3a"
             ],
             [
              0.8888888888888888,
              "#fdca26"
             ],
             [
              1,
              "#f0f921"
             ]
            ],
            "type": "surface"
           }
          ],
          "table": [
           {
            "cells": {
             "fill": {
              "color": "#EBF0F8"
             },
             "line": {
              "color": "white"
             }
            },
            "header": {
             "fill": {
              "color": "#C8D4E3"
             },
             "line": {
              "color": "white"
             }
            },
            "type": "table"
           }
          ]
         },
         "layout": {
          "annotationdefaults": {
           "arrowcolor": "#2a3f5f",
           "arrowhead": 0,
           "arrowwidth": 1
          },
          "autotypenumbers": "strict",
          "coloraxis": {
           "colorbar": {
            "outlinewidth": 0,
            "ticks": ""
           }
          },
          "colorscale": {
           "diverging": [
            [
             0,
             "#8e0152"
            ],
            [
             0.1,
             "#c51b7d"
            ],
            [
             0.2,
             "#de77ae"
            ],
            [
             0.3,
             "#f1b6da"
            ],
            [
             0.4,
             "#fde0ef"
            ],
            [
             0.5,
             "#f7f7f7"
            ],
            [
             0.6,
             "#e6f5d0"
            ],
            [
             0.7,
             "#b8e186"
            ],
            [
             0.8,
             "#7fbc41"
            ],
            [
             0.9,
             "#4d9221"
            ],
            [
             1,
             "#276419"
            ]
           ],
           "sequential": [
            [
             0,
             "#0d0887"
            ],
            [
             0.1111111111111111,
             "#46039f"
            ],
            [
             0.2222222222222222,
             "#7201a8"
            ],
            [
             0.3333333333333333,
             "#9c179e"
            ],
            [
             0.4444444444444444,
             "#bd3786"
            ],
            [
             0.5555555555555556,
             "#d8576b"
            ],
            [
             0.6666666666666666,
             "#ed7953"
            ],
            [
             0.7777777777777778,
             "#fb9f3a"
            ],
            [
             0.8888888888888888,
             "#fdca26"
            ],
            [
             1,
             "#f0f921"
            ]
           ],
           "sequentialminus": [
            [
             0,
             "#0d0887"
            ],
            [
             0.1111111111111111,
             "#46039f"
            ],
            [
             0.2222222222222222,
             "#7201a8"
            ],
            [
             0.3333333333333333,
             "#9c179e"
            ],
            [
             0.4444444444444444,
             "#bd3786"
            ],
            [
             0.5555555555555556,
             "#d8576b"
            ],
            [
             0.6666666666666666,
             "#ed7953"
            ],
            [
             0.7777777777777778,
             "#fb9f3a"
            ],
            [
             0.8888888888888888,
             "#fdca26"
            ],
            [
             1,
             "#f0f921"
            ]
           ]
          },
          "colorway": [
           "#636efa",
           "#EF553B",
           "#00cc96",
           "#ab63fa",
           "#FFA15A",
           "#19d3f3",
           "#FF6692",
           "#B6E880",
           "#FF97FF",
           "#FECB52"
          ],
          "font": {
           "color": "#2a3f5f"
          },
          "geo": {
           "bgcolor": "white",
           "lakecolor": "white",
           "landcolor": "white",
           "showlakes": true,
           "showland": true,
           "subunitcolor": "#C8D4E3"
          },
          "hoverlabel": {
           "align": "left"
          },
          "hovermode": "closest",
          "mapbox": {
           "style": "light"
          },
          "paper_bgcolor": "white",
          "plot_bgcolor": "white",
          "polar": {
           "angularaxis": {
            "gridcolor": "#EBF0F8",
            "linecolor": "#EBF0F8",
            "ticks": ""
           },
           "bgcolor": "white",
           "radialaxis": {
            "gridcolor": "#EBF0F8",
            "linecolor": "#EBF0F8",
            "ticks": ""
           }
          },
          "scene": {
           "xaxis": {
            "backgroundcolor": "white",
            "gridcolor": "#DFE8F3",
            "gridwidth": 2,
            "linecolor": "#EBF0F8",
            "showbackground": true,
            "ticks": "",
            "zerolinecolor": "#EBF0F8"
           },
           "yaxis": {
            "backgroundcolor": "white",
            "gridcolor": "#DFE8F3",
            "gridwidth": 2,
            "linecolor": "#EBF0F8",
            "showbackground": true,
            "ticks": "",
            "zerolinecolor": "#EBF0F8"
           },
           "zaxis": {
            "backgroundcolor": "white",
            "gridcolor": "#DFE8F3",
            "gridwidth": 2,
            "linecolor": "#EBF0F8",
            "showbackground": true,
            "ticks": "",
            "zerolinecolor": "#EBF0F8"
           }
          },
          "shapedefaults": {
           "line": {
            "color": "#2a3f5f"
           }
          },
          "ternary": {
           "aaxis": {
            "gridcolor": "#DFE8F3",
            "linecolor": "#A2B1C6",
            "ticks": ""
           },
           "baxis": {
            "gridcolor": "#DFE8F3",
            "linecolor": "#A2B1C6",
            "ticks": ""
           },
           "bgcolor": "white",
           "caxis": {
            "gridcolor": "#DFE8F3",
            "linecolor": "#A2B1C6",
            "ticks": ""
           }
          },
          "title": {
           "x": 0.05
          },
          "xaxis": {
           "automargin": true,
           "gridcolor": "#EBF0F8",
           "linecolor": "#EBF0F8",
           "ticks": "",
           "title": {
            "standoff": 15
           },
           "zerolinecolor": "#EBF0F8",
           "zerolinewidth": 2
          },
          "yaxis": {
           "automargin": true,
           "gridcolor": "#EBF0F8",
           "linecolor": "#EBF0F8",
           "ticks": "",
           "title": {
            "standoff": 15
           },
           "zerolinecolor": "#EBF0F8",
           "zerolinewidth": 2
          }
         }
        },
        "title": {
         "text": "Reconstruction Error by Method/Projection Type - Synthetic Dense Matrix"
        },
        "xaxis": {
         "anchor": "y",
         "domain": [
          0,
          0.2125
         ],
         "title": {
          "text": "Size (n)"
         }
        },
        "xaxis2": {
         "anchor": "y2",
         "domain": [
          0.2625,
          0.475
         ]
        },
        "xaxis3": {
         "anchor": "y3",
         "domain": [
          0.525,
          0.7375
         ]
        },
        "xaxis4": {
         "anchor": "y4",
         "domain": [
          0.7875,
          1
         ]
        },
        "yaxis": {
         "anchor": "x",
         "domain": [
          0,
          1
         ],
         "title": {
          "text": "Errors"
         }
        },
        "yaxis2": {
         "anchor": "x2",
         "domain": [
          0,
          1
         ],
         "matches": "y",
         "showticklabels": false
        },
        "yaxis3": {
         "anchor": "x3",
         "domain": [
          0,
          1
         ],
         "matches": "y",
         "showticklabels": false
        },
        "yaxis4": {
         "anchor": "x4",
         "domain": [
          0,
          1
         ],
         "matches": "y",
         "showticklabels": false
        }
       }
      }
     },
     "metadata": {},
     "output_type": "display_data"
    }
   ],
   "source": [
    "dense = stats[(stats['Density'] == 'sparse') & (stats['Projection Type'] != '')]\n",
    "\n",
    "fig = make_subplots(rows = 1,cols = 4,shared_xaxes = True,shared_yaxes=True,subplot_titles=dense['Method'].unique())\n",
    "\n",
    "projection_colors = {\n",
    "    'gaussian': 'blue',\n",
    "    'sparse-jl': 'red',\n",
    "    'count-sketch': 'green',\n",
    "}\n",
    "\n",
    "for i, method in enumerate(dense['Method'].unique()):\n",
    "    for j, projection in enumerate(dense['Projection Type'].unique()):\n",
    "        _df = dense[(dense['Method'] == method) & (dense['Projection Type'] == projection)]\n",
    "        fig.add_trace(\n",
    "            go.Scatter(\n",
    "                x = _df['Size'],\n",
    "                y = _df['Errors'],\n",
    "                name = f'{projection}',\n",
    "                legendgroup=projection,  # Group by projection type\n",
    "                line = dict(color=projection_colors[projection]),  # Color by projection\n",
    "                showlegend = (i == 0),\n",
    "            ),\n",
    "            row = 1, col = i + 1,\n",
    "            \n",
    "        )\n",
    "\n",
    "mu_dense = stats[(stats['Method'] == 'MU') & (stats['Density'] == \"dense\")]\n",
    "\n",
    "for i in range(2):\n",
    "    fig.add_trace(\n",
    "        go.Scatter(\n",
    "            x = mu_dense['Size'],\n",
    "            y = mu_dense['Errors'],\n",
    "            name = 'MU',\n",
    "            showlegend = (i == 0),\n",
    "            line = dict(color='black'),\n",
    "            legendgroup = 'MU'\n",
    "        ),\n",
    "        row = 1,col= i+1\n",
    "    )\n",
    "\n",
    "\n",
    "hals_dense = stats[(stats['Method'] == 'HALS') & (stats['Density'] == \"dense\")]\n",
    "for i in range(2,4):\n",
    "    fig.add_trace(\n",
    "        go.Scatter(\n",
    "            x = hals_dense['Size'],\n",
    "            y = hals_dense['Errors'],\n",
    "            name = 'HALS',\n",
    "            showlegend = (i == 2),\n",
    "            line = dict(color='grey'),\n",
    "            legendgroup = 'HALS'\n",
    "        ),\n",
    "        row = 1,col= i+1\n",
    "    )\n",
    "\n",
    "\n",
    "fig.update_layout(\n",
    "    title = 'Reconstruction Error by Method/Projection Type - Synthetic Dense Matrix',\n",
    "    xaxis_title = 'Size (n)',\n",
    "    yaxis_title = 'Errors',\n",
    "    template = 'plotly_white'\n",
    ")\n",
    "fig.show()"
   ]
  },
  {
   "cell_type": "markdown",
   "id": "5e89a7a1",
   "metadata": {},
   "source": [
    "*ii) sparse*"
   ]
  },
  {
   "cell_type": "code",
   "execution_count": 96,
   "id": "c2367673",
   "metadata": {},
   "outputs": [
    {
     "ename": "KeyError",
     "evalue": "''",
     "output_type": "error",
     "traceback": [
      "\u001b[31m---------------------------------------------------------------------------\u001b[39m",
      "\u001b[31mKeyError\u001b[39m                                  Traceback (most recent call last)",
      "\u001b[36mCell\u001b[39m\u001b[36m \u001b[39m\u001b[32mIn[96]\u001b[39m\u001b[32m, line 20\u001b[39m\n\u001b[32m     12\u001b[39m     \u001b[38;5;28;01mfor\u001b[39;00m j, projection \u001b[38;5;129;01min\u001b[39;00m \u001b[38;5;28menumerate\u001b[39m(sparse[\u001b[33m'\u001b[39m\u001b[33mProjection Type\u001b[39m\u001b[33m'\u001b[39m].unique()):\n\u001b[32m     13\u001b[39m         _df = sparse[(sparse[\u001b[33m'\u001b[39m\u001b[33mMethod\u001b[39m\u001b[33m'\u001b[39m] == method) & (sparse[\u001b[33m'\u001b[39m\u001b[33mProjection Type\u001b[39m\u001b[33m'\u001b[39m] == projection)]\n\u001b[32m     14\u001b[39m         fig.add_trace(\n\u001b[32m     15\u001b[39m             go.Scatter(\n\u001b[32m     16\u001b[39m                 x = _df[\u001b[33m'\u001b[39m\u001b[33mSize\u001b[39m\u001b[33m'\u001b[39m],\n\u001b[32m     17\u001b[39m                 y = _df[\u001b[33m'\u001b[39m\u001b[33mErrors\u001b[39m\u001b[33m'\u001b[39m],\n\u001b[32m     18\u001b[39m                 name = \u001b[33mf\u001b[39m\u001b[33m'\u001b[39m\u001b[38;5;132;01m{\u001b[39;00mprojection\u001b[38;5;132;01m}\u001b[39;00m\u001b[33m'\u001b[39m,\n\u001b[32m     19\u001b[39m                 legendgroup=projection,\n\u001b[32m---> \u001b[39m\u001b[32m20\u001b[39m                 line = \u001b[38;5;28mdict\u001b[39m(color=\u001b[43mprojection_colors\u001b[49m\u001b[43m[\u001b[49m\u001b[43mprojection\u001b[49m\u001b[43m]\u001b[49m),\n\u001b[32m     21\u001b[39m                 showlegend = (i == \u001b[32m0\u001b[39m),\n\u001b[32m     22\u001b[39m             ),\n\u001b[32m     23\u001b[39m             row = \u001b[32m1\u001b[39m, col = i + \u001b[32m1\u001b[39m,\n\u001b[32m     24\u001b[39m \n\u001b[32m     25\u001b[39m         )\n\u001b[32m     27\u001b[39m fig.update_layout(\n\u001b[32m     28\u001b[39m     title = \u001b[33m'\u001b[39m\u001b[33mReconstruction Error by Method/Projection Type - Synthetic Sparse Matrix\u001b[39m\u001b[33m'\u001b[39m,\n\u001b[32m     29\u001b[39m     xaxis_title = \u001b[33m'\u001b[39m\u001b[33mSize (n)\u001b[39m\u001b[33m'\u001b[39m,\n\u001b[32m     30\u001b[39m     yaxis_title = \u001b[33m'\u001b[39m\u001b[33mError\u001b[39m\u001b[33m'\u001b[39m,\n\u001b[32m     31\u001b[39m     template = \u001b[33m'\u001b[39m\u001b[33mplotly_white\u001b[39m\u001b[33m'\u001b[39m\n\u001b[32m     32\u001b[39m )\n\u001b[32m     33\u001b[39m fig.show()\n",
      "\u001b[31mKeyError\u001b[39m: ''"
     ]
    }
   ],
   "source": [
    "sparse = stats[stats['Density'] == 'sparse']\n",
    "\n",
    "fig = make_subplots(rows = 1,cols = 4,shared_xaxes = True,shared_yaxes=True,subplot_titles=sparse['Method'].unique())\n",
    "\n",
    "projection_colors = {\n",
    "    'gaussian': 'blue',\n",
    "    'sparse-jl': 'red',\n",
    "    'count-sketch': 'green',\n",
    "}\n",
    "\n",
    "for i, method in enumerate(sparse['Method'].unique()):\n",
    "    for j, projection in enumerate(sparse['Projection Type'].unique()):\n",
    "        _df = sparse[(sparse['Method'] == method) & (sparse['Projection Type'] == projection)]\n",
    "        fig.add_trace(\n",
    "            go.Scatter(\n",
    "                x = _df['Size'],\n",
    "                y = _df['Errors'],\n",
    "                name = f'{projection}',\n",
    "                legendgroup=projection,\n",
    "                line = dict(color=projection_colors[projection]),\n",
    "                showlegend = (i == 0),\n",
    "            ),\n",
    "            row = 1, col = i + 1,\n",
    "            \n",
    "        )\n",
    "\n",
    "fig.update_layout(\n",
    "    title = 'Reconstruction Error by Method/Projection Type - Synthetic Sparse Matrix',\n",
    "    xaxis_title = 'Size (n)',\n",
    "    yaxis_title = 'Error',\n",
    "    template = 'plotly_white'\n",
    ")\n",
    "fig.show()"
   ]
  },
  {
   "cell_type": "code",
   "execution_count": null,
   "id": "9da83789",
   "metadata": {},
   "outputs": [],
   "source": []
  },
  {
   "cell_type": "code",
   "execution_count": null,
   "id": "9f314512",
   "metadata": {},
   "outputs": [],
   "source": []
  }
 ],
 "metadata": {
  "kernelspec": {
   "display_name": ".venv",
   "language": "python",
   "name": "python3"
  },
  "language_info": {
   "codemirror_mode": {
    "name": "ipython",
    "version": 3
   },
   "file_extension": ".py",
   "mimetype": "text/x-python",
   "name": "python",
   "nbconvert_exporter": "python",
   "pygments_lexer": "ipython3",
   "version": "3.13.2"
  }
 },
 "nbformat": 4,
 "nbformat_minor": 5
}
