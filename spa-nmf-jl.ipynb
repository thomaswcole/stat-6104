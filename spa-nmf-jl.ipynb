{
 "cells": [
  {
   "cell_type": "code",
   "execution_count": 4,
   "metadata": {},
   "outputs": [
    {
     "name": "stdout",
     "output_type": "stream",
     "text": [
      "W shape: (100, 5)\n",
      "H shape: (5, 50)\n"
     ]
    }
   ],
   "source": [
    "import numpy as np\n",
    "from sklearn.random_projection import GaussianRandomProjection\n",
    "from sklearn.decomposition import NMF\n",
    "\n",
    "# Successive Projection Algorithm (SPA) with JL Dimensionality Reduction for NMF\n",
    "def jl_spa_nmf(X, r, d):\n",
    "    \"\"\"\n",
    "    Apply Johnson-Lindenstrauss Lemma for dimensionality reduction, then run SPA and NMF.\n",
    "    \n",
    "    Parameters:\n",
    "    X (numpy array): Input data matrix (m x n)\n",
    "    r (int): Number of basis columns to select\n",
    "    d (int): Target reduced dimension using JL transform\n",
    "    \n",
    "    Returns:\n",
    "    W (numpy array): Basis matrix from NMF\n",
    "    H (numpy array): Coefficient matrix from NMF\n",
    "    \"\"\"\n",
    "    # Step 1: Apply Johnson-Lindenstrauss Transform\n",
    "    jl_transform = GaussianRandomProjection(n_components=d)\n",
    "    X_reduced = jl_transform.fit_transform(X.T).T  # Project columns into lower dimension\n",
    "    \n",
    "    # Step 2: Successive Projection Algorithm (SPA)\n",
    "    selected_indices = []\n",
    "    residual = X_reduced.copy()\n",
    "    \n",
    "    for _ in range(r):\n",
    "        # Select the column with the largest norm\n",
    "        col_norms = np.linalg.norm(residual, axis=0)\n",
    "        selected_idx = np.argmax(col_norms)\n",
    "        selected_indices.append(selected_idx)\n",
    "        \n",
    "        # Project remaining columns onto the orthogonal complement of selected column\n",
    "        selected_col = residual[:, selected_idx].reshape(-1, 1)\n",
    "        projection = (selected_col @ (selected_col.T @ residual)) / (selected_col.T @ selected_col)\n",
    "        residual -= projection\n",
    "    \n",
    "    # Step 3: Extract selected columns from original X for NMF initialization\n",
    "    W_init = X[:, selected_indices]\n",
    "    nmf_model = NMF(n_components=r, init='custom', solver='mu', max_iter=500)\n",
    "    H_init = np.abs(np.random.rand(r, X.shape[1]))  # Randomly initialize non-negative H\n",
    "    \n",
    "    # Fit NMF using custom initialization\n",
    "    W = nmf_model.fit_transform(X, W=W_init, H=H_init)\n",
    "    H = nmf_model.components_\n",
    "    \n",
    "    return W, H\n",
    "\n",
    "# Example Usage\n",
    "np.random.seed(42)\n",
    "X = np.abs(np.random.randn(100, 50))  # Nonnegative matrix (100 features, 50 samples)\n",
    "r = 5  # Number of basis vectors\n",
    "JL_dim = 20  # Reduced dimension via JL transform\n",
    "\n",
    "W, H = jl_spa_nmf(X, r, JL_dim)\n",
    "print(\"W shape:\", W.shape)\n",
    "print(\"H shape:\", H.shape)"
   ]
  },
  {
   "cell_type": "code",
   "execution_count": 10,
   "metadata": {},
   "outputs": [
    {
     "data": {
      "text/plain": [
       "np.float64(37.91220921279779)"
      ]
     },
     "execution_count": 10,
     "metadata": {},
     "output_type": "execute_result"
    }
   ],
   "source": [
    "np.linalg.norm(X - W @ H, 'fro')"
   ]
  },
  {
   "cell_type": "code",
   "execution_count": 25,
   "metadata": {},
   "outputs": [
    {
     "name": "stdout",
     "output_type": "stream",
     "text": [
      "H shape: (5, 50)\n"
     ]
    }
   ],
   "source": [
    "import numpy as np\n",
    "from sklearn.random_projection import GaussianRandomProjection\n",
    "\n",
    "# Successive Projection Algorithm (SPA) with JL Dimensionality Reduction for SNMF\n",
    "def jl_spa_nmf(X, r, d):\n",
    "    \"\"\"\n",
    "    Apply Johnson-Lindenstrauss Lemma for dimensionality reduction, then run SPA for NMF initialization.\n",
    "    \n",
    "    Parameters:\n",
    "    X (numpy array): Input data matrix (m x n)\n",
    "    r (int): Number of basis columns to select (components)\n",
    "    d (int): Target reduced dimension using JL transform\n",
    "    \n",
    "    Returns:\n",
    "    W (numpy array): Initialized basis matrix for NMF (m x r)\n",
    "    H (numpy array): Initialized coefficient matrix for NMF (r x n)\n",
    "    \"\"\"\n",
    "    # Step 1: Apply Johnson-Lindenstrauss Transform\n",
    "    jl_transform = GaussianRandomProjection(n_components=d)\n",
    "    X_reduced = jl_transform.fit_transform(X.T).T  # Project columns into lower dimension\n",
    "    \n",
    "    # Step 2: Successive Projection Algorithm (SPA)\n",
    "    selected_indices = []\n",
    "    residual = X_reduced.copy()\n",
    "    \n",
    "    for _ in range(r):\n",
    "        # Select the column with the largest norm\n",
    "        col_norms = np.linalg.norm(residual, axis=0)\n",
    "        selected_idx = np.argmax(col_norms)\n",
    "        selected_indices.append(selected_idx)\n",
    "        \n",
    "        # Project remaining columns onto the orthogonal complement of selected column\n",
    "        selected_col = residual[:, selected_idx].reshape(-1, 1)\n",
    "        projection = (selected_col @ (selected_col.T @ residual)) / (selected_col.T @ selected_col)\n",
    "        residual -= projection\n",
    "    \n",
    "    # Step 3: Extract selected columns from original X for NMF initialization\n",
    "    W_init = X[:, selected_indices]\n",
    "    \n",
    "    # Initialize H matrix randomly\n",
    "    H_init = np.abs(np.random.rand(r, X.shape[1]))  # Random initialization for H\n",
    "    \n",
    "    return W_init, H_init\n",
    "\n",
    "# Separable NMF Optimization (H update only, W fixed)\n",
    "def snmf(X, W_init, H_init, max_iter=500, tol=1e-4):\n",
    "    \"\"\"\n",
    "    Perform Separable NMF with fixed W and initialized H.\n",
    "    \n",
    "    Parameters:\n",
    "    X (numpy array): Input data matrix (m x n)\n",
    "    W_init (numpy array): Initialized basis matrix for NMF (m x r), fixed\n",
    "    H_init (numpy array): Initialized coefficient matrix for NMF (r x n)\n",
    "    max_iter (int): Maximum number of iterations\n",
    "    tol (float): Tolerance for convergence\n",
    "    \n",
    "    Returns:\n",
    "    H (numpy array): Learned coefficient matrix from NMF\n",
    "    \"\"\"\n",
    "    # Initialize H with provided initialization\n",
    "    H = H_init\n",
    "\n",
    "    # List to store reconstruction errors at each iteration\n",
    "    reconstruction_errors = []\n",
    "\n",
    "    for i in range(max_iter):\n",
    "        # Update H using multiplicative update rule (keeping W fixed)\n",
    "        H = np.maximum(0, H * (W_init.T @ X) / (W_init.T @ W_init @ H + 1e-10))  # Avoid division by zero\n",
    "        \n",
    "        # Compute reconstruction error\n",
    "        reconstruction_error = np.linalg.norm(X - W_init @ H, 'fro')\n",
    "        reconstruction_errors.append(reconstruction_error)  # Log the error\n",
    "        \n",
    "        # Check for convergence\n",
    "        if reconstruction_error < tol:\n",
    "            print(f\"Converged at iteration {i+1} with error: {reconstruction_error:.6f}\")\n",
    "            break\n",
    "    \n",
    "    # Optionally, print the reconstruction errors at each iteration\n",
    "    # print(\"Reconstruction errors at each iteration:\", reconstruction_errors)\n",
    "\n",
    "    return H, reconstruction_errors\n",
    "\n",
    "# Example Usage\n",
    "np.random.seed(42)\n",
    "X = np.abs(np.random.randn(100, 50))  # Nonnegative matrix (100 features, 50 samples)\n",
    "r = 5  # Number of components (basis vectors)\n",
    "JL_dim = 20  # Reduced dimension via JL transform\n",
    "\n",
    "# Step 1: Apply JL and SPA to initialize W and H\n",
    "W_init, H_init = jl_spa_nmf(X, r, JL_dim)\n",
    "\n",
    "# Step 2: Perform Separable NMF (SNMF) by updating H only, keeping W fixed\n",
    "H, reconstruction_errors = snmf(X, W_init, H_init)\n",
    "\n",
    "# Check final shape of H and print reconstruction errors\n",
    "print(\"H shape:\", H.shape)"
   ]
  },
  {
   "cell_type": "code",
   "execution_count": 28,
   "metadata": {},
   "outputs": [],
   "source": [
    "import plotly.graph_objects as go"
   ]
  },
  {
   "cell_type": "code",
   "execution_count": 29,
   "metadata": {},
   "outputs": [
    {
     "data": {
      "application/vnd.plotly.v1+json": {
       "config": {
        "plotlyServerURL": "https://plot.ly"
       },
       "data": [
        {
         "type": "scatter",
         "y": [
          44.710793092574654,
          44.27880243647173,
          43.90736391385154,
          43.58972453598349,
          43.3190711407972,
          43.09087282995844,
          42.90224897461893,
          42.74962945867453,
          42.6278764338123,
          42.53116444286989,
          42.45408547532438,
          42.392178709517545,
          42.34197844849503,
          42.30085892816474,
          42.26684335353426,
          42.23843906054814,
          42.21451080548826,
          42.194187539291605,
          42.17679477521359,
          42.161805548546326,
          42.148804647525964,
          42.13746228913012,
          42.127514543446935,
          42.1187486180853,
          42.11099167984423,
          42.10410228401066,
          42.09796375363751,
          42.09247903844724,
          42.08756671140391,
          42.083157848925545,
          42.07919360138649,
          42.0756233033664,
          42.07240300446832,
          42.06949432562841,
          42.06686356518399,
          42.06448099493187,
          42.062320299691834,
          42.06035812484018,
          42.058573705125205,
          42.056948555037636,
          42.05546620633792,
          42.054111982311795,
          42.05287280121535,
          42.051737003432876,
          42.05069419832586,
          42.049735127768166,
          42.04885154407595,
          42.04803610054136,
          42.04728225313569,
          42.04658417220346,
          42.04593666315609,
          42.04533509531082,
          42.04477533812541,
          42.044253704157015,
          42.0437668981375,
          42.043311971606826,
          42.042886282589606,
          42.04248745983667,
          42.042113371187945,
          42.04176209564379,
          42.04143189876295,
          42.04112121103356,
          42.040828608892205,
          42.040552798092854,
          42.04029259915403,
          42.04004693463734,
          42.039814818034614,
          42.039595344063436,
          42.0393876801917,
          42.03919105923238,
          42.03900477286663,
          42.038828165971466,
          42.03866063164247,
          42.038501606816226,
          42.03835056840959,
          42.03820702990408,
          42.03807053831312,
          42.03794067147927,
          42.0378170356556,
          42.037699263332534,
          42.037587011276884,
          42.03747995875517,
          42.037377805917416,
          42.037280272321226,
          42.03718709557933,
          42.037098030116134,
          42.037012846021206,
          42.03693132798935,
          42.03685327433873,
          42.03677849609936,
          42.03670681616571,
          42.036638068508005,
          42.03657209743724,
          42.03650875691986,
          42.03644790993843,
          42.036389427894946,
          42.03633319005372,
          42.03627908302136,
          42.03622700026145,
          42.036176841641264,
          42.03612851300887,
          42.036081925798605,
          42.03603699666283,
          42.03599364712872,
          42.0359518032781,
          42.03591139544905,
          42.03587235795788,
          42.03583462883997,
          42.03579814960855,
          42.03576286502978,
          42.03572872291355,
          42.0356956739185,
          42.035663671370585,
          42.03563267109416,
          42.03560263125461,
          42.03557351221194,
          42.03554527638443,
          42.035517888121596,
          42.03549131358597,
          42.03546552064283,
          42.035440478757664,
          42.03541615890038,
          42.035392533456196,
          42.03536957614236,
          42.03534726193066,
          42.035325566974954,
          42.03530446854356,
          42.035283944956106,
          42.03526397552457,
          42.035244540498105,
          42.03522562101146,
          42.03520719903668,
          42.03518925733791,
          42.03517177942918,
          42.03515474953454,
          42.035138152551035,
          42.03512197401369,
          42.035106200062785,
          42.03509081741304,
          42.03507581332478,
          42.03506117557657,
          42.03504689243982,
          42.03503295265451,
          42.03501934540657,
          42.03500606030649,
          42.03499308736913,
          42.0349804169947,
          42.03496803995071,
          42.0349559473551,
          42.03494413066008,
          42.03493258163704,
          42.03492129236212,
          42.03491025520269,
          42.03489946280437,
          42.034888908078905,
          42.03487858419257,
          42.0348684845552,
          42.034858602809734,
          42.03484893282237,
          42.03483946867315,
          42.03483020464701,
          42.03482113522531,
          42.03481225507773,
          42.034803559054666,
          42.03479504217974,
          42.03478669964301,
          42.03477852679421,
          42.034770519136465,
          42.034762672320255,
          42.03475498213762,
          42.034747444516704,
          42.03474005551648,
          42.03473281132173,
          42.03472570823829,
          42.03471874268846,
          42.03471191120663,
          42.034705210435085,
          42.03469863712,
          42.03469218810766,
          42.03468586034073,
          42.03467965085479,
          42.03467355677496,
          42.03466757531268,
          42.034661703762666,
          42.034655939499835,
          42.034650279976596,
          42.03464472272013,
          42.03463926532965,
          42.03463390547403,
          42.03462864088935,
          42.03462346937664,
          42.034618388799544,
          42.03461339708232,
          42.03460849220777,
          42.034603672215184,
          42.03459893519859,
          42.03459427930484,
          42.034589702731914,
          42.03458520372722,
          42.03458078058598,
          42.034576431649704,
          42.034572155304666,
          42.03456794998043,
          42.034563814148584,
          42.03455974632128,
          42.03455574504999,
          42.03455180892431,
          42.034547936570725,
          42.03454412665145,
          42.03454037786336,
          42.034536688936875,
          42.03453305863499,
          42.03452948575224,
          42.0345259691137,
          42.03452250757419,
          42.034519100017235,
          42.034515745354305,
          42.03451244252393,
          42.03450919049093,
          42.034505988245634,
          42.03450283480309,
          42.034499729202416,
          42.034496670506,
          42.03449365779898,
          42.0344906901884,
          42.034487766802734,
          42.034484886791205,
          42.034482049323195,
          42.03447925358772,
          42.0344764987928,
          42.03447378416502,
          42.03447110894894,
          42.034468472406616,
          42.03446587381713,
          42.03446331247614,
          42.03446078769539,
          42.034458298802235,
          42.03445584513933,
          42.03445342606412,
          42.03445104094846,
          42.03444868917831,
          42.03444637015321,
          42.034444083286076,
          42.03444182800269,
          42.034439603741546,
          42.034437409953355,
          42.03443524610076,
          42.03443311165814,
          42.034431006111156,
          42.03442892895656,
          42.034426879701854,
          42.03442485786504,
          42.03442286297438,
          42.03442089456808,
          42.034418952194066,
          42.03441703540978,
          42.03441514378185,
          42.03441327688597,
          42.03441143430657,
          42.0344096156367,
          42.03440782047774,
          42.03440604843923,
          42.034404299138664,
          42.034402572201344,
          42.03440086726005,
          42.034399183955074,
          42.034397521933855,
          42.03439588085085,
          42.03439426036749,
          42.03439266015183,
          42.03439107987852,
          42.03438951922858,
          42.03438797788936,
          42.034386455554205,
          42.0343849519225,
          42.03438346669943,
          42.03438199959589,
          42.03438055032829,
          42.034379118618524,
          42.03437770419376,
          42.034376306786406,
          42.03437492613386,
          42.03437356197854,
          42.03437221406767,
          42.03437088215326,
          42.034369565991916,
          42.03436826534477,
          42.03436697997741,
          42.0343657096597,
          42.03436445416581,
          42.034363213274005,
          42.03436198676661,
          42.03436077442995,
          42.03435957605417,
          42.034358391433265,
          42.03435722036488,
          42.034356062650374,
          42.0343549180946,
          42.034353786505896,
          42.03435266769607,
          42.034351561480186,
          42.034350467676596,
          42.034349386106875,
          42.0343483165957,
          42.03434725897083,
          42.03434621306301,
          42.03434517870594,
          42.03434415573618,
          42.034343143993105,
          42.03434214331888,
          42.03434115355835,
          42.03434017455904,
          42.034339206171005,
          42.034338248246925,
          42.03433730064192,
          42.034336363213555,
          42.034335435821816,
          42.03433451832902,
          42.03433361059978,
          42.034332712500955,
          42.03433182390163,
          42.03433094467306,
          42.03433007468858,
          42.03432921382368,
          42.03432836195582,
          42.0343275189645,
          42.03432668473118,
          42.03432585913923,
          42.03432504207392,
          42.03432423342235,
          42.03432343307348,
          42.03432264091802,
          42.03432185684843,
          42.03432108075887,
          42.03432031254522,
          42.03431955210499,
          42.03431879933731,
          42.034318054142894,
          42.034317316424016,
          42.03431658608449,
          42.034315863029626,
          42.03431514716621,
          42.03431443840248,
          42.03431373664808,
          42.034313041814066,
          42.03431235381285,
          42.034311672558204,
          42.03431099796521,
          42.03431032995022,
          42.034309668430915,
          42.03430901332618,
          42.034308364556146,
          42.034307722042136,
          42.03430708570669,
          42.03430645547347,
          42.0343058312673,
          42.034305213014115,
          42.03430460064097,
          42.03430399407599,
          42.034303393248386,
          42.03430279808836,
          42.034302208527194,
          42.03430162449716,
          42.03430104593155,
          42.034300472764556,
          42.03429990493141,
          42.03429934236823,
          42.03429878501209,
          42.034298232800964,
          42.03429768567372,
          42.03429714357011,
          42.03429660643072,
          42.03429607419703,
          42.03429554681134,
          42.03429502421674,
          42.03429450635716,
          42.03429399317732,
          42.03429348462273,
          42.03429298063963,
          42.03429248117505,
          42.03429198617673,
          42.03429149559319,
          42.03429100937362,
          42.034290527467945,
          42.03429004982676,
          42.03428957640134,
          42.0342891071437,
          42.034288642006416,
          42.0342881809428,
          42.03428772390675,
          42.03428727085281,
          42.03428682173614,
          42.034286376512526,
          42.03428593513835,
          42.03428549757056,
          42.03428506376669,
          42.0342846336849,
          42.034284207283825,
          42.03428378452273,
          42.0342833653614,
          42.034282949760104,
          42.03428253767973,
          42.03428212908164,
          42.03428172392769,
          42.03428132218027,
          42.03428092380227,
          42.034280528757016,
          42.03428013700838,
          42.03427974852068,
          42.0342793632587,
          42.03427898118766,
          42.034278602273304,
          42.03427822648173,
          42.03427785377952,
          42.034277484133725,
          42.03427711751173,
          42.03427675388141,
          42.03427639321104,
          42.03427603546929,
          42.03427568062522,
          42.034275328648306,
          42.0342749795084,
          42.034274633175755,
          42.03427428962099,
          42.034273948815056,
          42.034273610729336,
          42.034273275335536,
          42.034272942605725,
          42.03427261251232,
          42.03427228502807,
          42.034271960126084,
          42.034271637779824,
          42.034271317963004,
          42.03427100064978,
          42.0342706858145,
          42.034270373431944,
          42.03427006347712,
          42.03426975592538,
          42.0342694507524,
          42.03426914793406,
          42.03426884744668,
          42.03426854926673,
          42.034268253371046,
          42.03426795973672,
          42.03426766834114,
          42.03426737916193,
          42.03426709217703,
          42.0342668073646,
          42.034266524703106,
          42.03426624417124,
          42.034265965747956,
          42.03426568941246,
          42.034265415144226,
          42.03426514292294,
          42.034264872728556,
          42.034264604541235,
          42.03426433834142,
          42.03426407410973,
          42.03426381182705,
          42.034263551474474,
          42.03426329303332,
          42.03426303648512,
          42.03426278181165,
          42.03426252899486,
          42.03426227801691,
          42.03426202886022,
          42.03426178150736,
          42.03426153594111,
          42.03426129214448,
          42.034261050100625,
          42.03426080979295,
          42.034260571204996,
          42.034260334320564,
          42.03426009912356,
          42.034259865598095,
          42.03425963372852,
          42.034259403499284,
          42.03425917489507,
          42.0342589479007,
          42.0342587225012,
          42.03425849868172,
          42.03425827642763,
          42.03425805572441,
          42.034257836557735,
          42.03425761891346,
          42.034257402777556,
          42.034257188136166,
          42.0342569749756,
          42.034256763282315,
          42.034256553042894,
          42.03425634424412,
          42.03425613687287,
          42.03425593091618,
          42.034255726361245,
          42.034255523195384,
          42.034255321406086,
          42.034255120980944,
          42.03425492190768,
          42.03425472417419,
          42.03425452776846
         ]
        }
       ],
       "layout": {
        "template": {
         "data": {
          "bar": [
           {
            "error_x": {
             "color": "#2a3f5f"
            },
            "error_y": {
             "color": "#2a3f5f"
            },
            "marker": {
             "line": {
              "color": "#E5ECF6",
              "width": 0.5
             },
             "pattern": {
              "fillmode": "overlay",
              "size": 10,
              "solidity": 0.2
             }
            },
            "type": "bar"
           }
          ],
          "barpolar": [
           {
            "marker": {
             "line": {
              "color": "#E5ECF6",
              "width": 0.5
             },
             "pattern": {
              "fillmode": "overlay",
              "size": 10,
              "solidity": 0.2
             }
            },
            "type": "barpolar"
           }
          ],
          "carpet": [
           {
            "aaxis": {
             "endlinecolor": "#2a3f5f",
             "gridcolor": "white",
             "linecolor": "white",
             "minorgridcolor": "white",
             "startlinecolor": "#2a3f5f"
            },
            "baxis": {
             "endlinecolor": "#2a3f5f",
             "gridcolor": "white",
             "linecolor": "white",
             "minorgridcolor": "white",
             "startlinecolor": "#2a3f5f"
            },
            "type": "carpet"
           }
          ],
          "choropleth": [
           {
            "colorbar": {
             "outlinewidth": 0,
             "ticks": ""
            },
            "type": "choropleth"
           }
          ],
          "contour": [
           {
            "colorbar": {
             "outlinewidth": 0,
             "ticks": ""
            },
            "colorscale": [
             [
              0,
              "#0d0887"
             ],
             [
              0.1111111111111111,
              "#46039f"
             ],
             [
              0.2222222222222222,
              "#7201a8"
             ],
             [
              0.3333333333333333,
              "#9c179e"
             ],
             [
              0.4444444444444444,
              "#bd3786"
             ],
             [
              0.5555555555555556,
              "#d8576b"
             ],
             [
              0.6666666666666666,
              "#ed7953"
             ],
             [
              0.7777777777777778,
              "#fb9f3a"
             ],
             [
              0.8888888888888888,
              "#fdca26"
             ],
             [
              1,
              "#f0f921"
             ]
            ],
            "type": "contour"
           }
          ],
          "contourcarpet": [
           {
            "colorbar": {
             "outlinewidth": 0,
             "ticks": ""
            },
            "type": "contourcarpet"
           }
          ],
          "heatmap": [
           {
            "colorbar": {
             "outlinewidth": 0,
             "ticks": ""
            },
            "colorscale": [
             [
              0,
              "#0d0887"
             ],
             [
              0.1111111111111111,
              "#46039f"
             ],
             [
              0.2222222222222222,
              "#7201a8"
             ],
             [
              0.3333333333333333,
              "#9c179e"
             ],
             [
              0.4444444444444444,
              "#bd3786"
             ],
             [
              0.5555555555555556,
              "#d8576b"
             ],
             [
              0.6666666666666666,
              "#ed7953"
             ],
             [
              0.7777777777777778,
              "#fb9f3a"
             ],
             [
              0.8888888888888888,
              "#fdca26"
             ],
             [
              1,
              "#f0f921"
             ]
            ],
            "type": "heatmap"
           }
          ],
          "histogram": [
           {
            "marker": {
             "pattern": {
              "fillmode": "overlay",
              "size": 10,
              "solidity": 0.2
             }
            },
            "type": "histogram"
           }
          ],
          "histogram2d": [
           {
            "colorbar": {
             "outlinewidth": 0,
             "ticks": ""
            },
            "colorscale": [
             [
              0,
              "#0d0887"
             ],
             [
              0.1111111111111111,
              "#46039f"
             ],
             [
              0.2222222222222222,
              "#7201a8"
             ],
             [
              0.3333333333333333,
              "#9c179e"
             ],
             [
              0.4444444444444444,
              "#bd3786"
             ],
             [
              0.5555555555555556,
              "#d8576b"
             ],
             [
              0.6666666666666666,
              "#ed7953"
             ],
             [
              0.7777777777777778,
              "#fb9f3a"
             ],
             [
              0.8888888888888888,
              "#fdca26"
             ],
             [
              1,
              "#f0f921"
             ]
            ],
            "type": "histogram2d"
           }
          ],
          "histogram2dcontour": [
           {
            "colorbar": {
             "outlinewidth": 0,
             "ticks": ""
            },
            "colorscale": [
             [
              0,
              "#0d0887"
             ],
             [
              0.1111111111111111,
              "#46039f"
             ],
             [
              0.2222222222222222,
              "#7201a8"
             ],
             [
              0.3333333333333333,
              "#9c179e"
             ],
             [
              0.4444444444444444,
              "#bd3786"
             ],
             [
              0.5555555555555556,
              "#d8576b"
             ],
             [
              0.6666666666666666,
              "#ed7953"
             ],
             [
              0.7777777777777778,
              "#fb9f3a"
             ],
             [
              0.8888888888888888,
              "#fdca26"
             ],
             [
              1,
              "#f0f921"
             ]
            ],
            "type": "histogram2dcontour"
           }
          ],
          "mesh3d": [
           {
            "colorbar": {
             "outlinewidth": 0,
             "ticks": ""
            },
            "type": "mesh3d"
           }
          ],
          "parcoords": [
           {
            "line": {
             "colorbar": {
              "outlinewidth": 0,
              "ticks": ""
             }
            },
            "type": "parcoords"
           }
          ],
          "pie": [
           {
            "automargin": true,
            "type": "pie"
           }
          ],
          "scatter": [
           {
            "fillpattern": {
             "fillmode": "overlay",
             "size": 10,
             "solidity": 0.2
            },
            "type": "scatter"
           }
          ],
          "scatter3d": [
           {
            "line": {
             "colorbar": {
              "outlinewidth": 0,
              "ticks": ""
             }
            },
            "marker": {
             "colorbar": {
              "outlinewidth": 0,
              "ticks": ""
             }
            },
            "type": "scatter3d"
           }
          ],
          "scattercarpet": [
           {
            "marker": {
             "colorbar": {
              "outlinewidth": 0,
              "ticks": ""
             }
            },
            "type": "scattercarpet"
           }
          ],
          "scattergeo": [
           {
            "marker": {
             "colorbar": {
              "outlinewidth": 0,
              "ticks": ""
             }
            },
            "type": "scattergeo"
           }
          ],
          "scattergl": [
           {
            "marker": {
             "colorbar": {
              "outlinewidth": 0,
              "ticks": ""
             }
            },
            "type": "scattergl"
           }
          ],
          "scattermap": [
           {
            "marker": {
             "colorbar": {
              "outlinewidth": 0,
              "ticks": ""
             }
            },
            "type": "scattermap"
           }
          ],
          "scattermapbox": [
           {
            "marker": {
             "colorbar": {
              "outlinewidth": 0,
              "ticks": ""
             }
            },
            "type": "scattermapbox"
           }
          ],
          "scatterpolar": [
           {
            "marker": {
             "colorbar": {
              "outlinewidth": 0,
              "ticks": ""
             }
            },
            "type": "scatterpolar"
           }
          ],
          "scatterpolargl": [
           {
            "marker": {
             "colorbar": {
              "outlinewidth": 0,
              "ticks": ""
             }
            },
            "type": "scatterpolargl"
           }
          ],
          "scatterternary": [
           {
            "marker": {
             "colorbar": {
              "outlinewidth": 0,
              "ticks": ""
             }
            },
            "type": "scatterternary"
           }
          ],
          "surface": [
           {
            "colorbar": {
             "outlinewidth": 0,
             "ticks": ""
            },
            "colorscale": [
             [
              0,
              "#0d0887"
             ],
             [
              0.1111111111111111,
              "#46039f"
             ],
             [
              0.2222222222222222,
              "#7201a8"
             ],
             [
              0.3333333333333333,
              "#9c179e"
             ],
             [
              0.4444444444444444,
              "#bd3786"
             ],
             [
              0.5555555555555556,
              "#d8576b"
             ],
             [
              0.6666666666666666,
              "#ed7953"
             ],
             [
              0.7777777777777778,
              "#fb9f3a"
             ],
             [
              0.8888888888888888,
              "#fdca26"
             ],
             [
              1,
              "#f0f921"
             ]
            ],
            "type": "surface"
           }
          ],
          "table": [
           {
            "cells": {
             "fill": {
              "color": "#EBF0F8"
             },
             "line": {
              "color": "white"
             }
            },
            "header": {
             "fill": {
              "color": "#C8D4E3"
             },
             "line": {
              "color": "white"
             }
            },
            "type": "table"
           }
          ]
         },
         "layout": {
          "annotationdefaults": {
           "arrowcolor": "#2a3f5f",
           "arrowhead": 0,
           "arrowwidth": 1
          },
          "autotypenumbers": "strict",
          "coloraxis": {
           "colorbar": {
            "outlinewidth": 0,
            "ticks": ""
           }
          },
          "colorscale": {
           "diverging": [
            [
             0,
             "#8e0152"
            ],
            [
             0.1,
             "#c51b7d"
            ],
            [
             0.2,
             "#de77ae"
            ],
            [
             0.3,
             "#f1b6da"
            ],
            [
             0.4,
             "#fde0ef"
            ],
            [
             0.5,
             "#f7f7f7"
            ],
            [
             0.6,
             "#e6f5d0"
            ],
            [
             0.7,
             "#b8e186"
            ],
            [
             0.8,
             "#7fbc41"
            ],
            [
             0.9,
             "#4d9221"
            ],
            [
             1,
             "#276419"
            ]
           ],
           "sequential": [
            [
             0,
             "#0d0887"
            ],
            [
             0.1111111111111111,
             "#46039f"
            ],
            [
             0.2222222222222222,
             "#7201a8"
            ],
            [
             0.3333333333333333,
             "#9c179e"
            ],
            [
             0.4444444444444444,
             "#bd3786"
            ],
            [
             0.5555555555555556,
             "#d8576b"
            ],
            [
             0.6666666666666666,
             "#ed7953"
            ],
            [
             0.7777777777777778,
             "#fb9f3a"
            ],
            [
             0.8888888888888888,
             "#fdca26"
            ],
            [
             1,
             "#f0f921"
            ]
           ],
           "sequentialminus": [
            [
             0,
             "#0d0887"
            ],
            [
             0.1111111111111111,
             "#46039f"
            ],
            [
             0.2222222222222222,
             "#7201a8"
            ],
            [
             0.3333333333333333,
             "#9c179e"
            ],
            [
             0.4444444444444444,
             "#bd3786"
            ],
            [
             0.5555555555555556,
             "#d8576b"
            ],
            [
             0.6666666666666666,
             "#ed7953"
            ],
            [
             0.7777777777777778,
             "#fb9f3a"
            ],
            [
             0.8888888888888888,
             "#fdca26"
            ],
            [
             1,
             "#f0f921"
            ]
           ]
          },
          "colorway": [
           "#636efa",
           "#EF553B",
           "#00cc96",
           "#ab63fa",
           "#FFA15A",
           "#19d3f3",
           "#FF6692",
           "#B6E880",
           "#FF97FF",
           "#FECB52"
          ],
          "font": {
           "color": "#2a3f5f"
          },
          "geo": {
           "bgcolor": "white",
           "lakecolor": "white",
           "landcolor": "#E5ECF6",
           "showlakes": true,
           "showland": true,
           "subunitcolor": "white"
          },
          "hoverlabel": {
           "align": "left"
          },
          "hovermode": "closest",
          "mapbox": {
           "style": "light"
          },
          "paper_bgcolor": "white",
          "plot_bgcolor": "#E5ECF6",
          "polar": {
           "angularaxis": {
            "gridcolor": "white",
            "linecolor": "white",
            "ticks": ""
           },
           "bgcolor": "#E5ECF6",
           "radialaxis": {
            "gridcolor": "white",
            "linecolor": "white",
            "ticks": ""
           }
          },
          "scene": {
           "xaxis": {
            "backgroundcolor": "#E5ECF6",
            "gridcolor": "white",
            "gridwidth": 2,
            "linecolor": "white",
            "showbackground": true,
            "ticks": "",
            "zerolinecolor": "white"
           },
           "yaxis": {
            "backgroundcolor": "#E5ECF6",
            "gridcolor": "white",
            "gridwidth": 2,
            "linecolor": "white",
            "showbackground": true,
            "ticks": "",
            "zerolinecolor": "white"
           },
           "zaxis": {
            "backgroundcolor": "#E5ECF6",
            "gridcolor": "white",
            "gridwidth": 2,
            "linecolor": "white",
            "showbackground": true,
            "ticks": "",
            "zerolinecolor": "white"
           }
          },
          "shapedefaults": {
           "line": {
            "color": "#2a3f5f"
           }
          },
          "ternary": {
           "aaxis": {
            "gridcolor": "white",
            "linecolor": "white",
            "ticks": ""
           },
           "baxis": {
            "gridcolor": "white",
            "linecolor": "white",
            "ticks": ""
           },
           "bgcolor": "#E5ECF6",
           "caxis": {
            "gridcolor": "white",
            "linecolor": "white",
            "ticks": ""
           }
          },
          "title": {
           "x": 0.05
          },
          "xaxis": {
           "automargin": true,
           "gridcolor": "white",
           "linecolor": "white",
           "ticks": "",
           "title": {
            "standoff": 15
           },
           "zerolinecolor": "white",
           "zerolinewidth": 2
          },
          "yaxis": {
           "automargin": true,
           "gridcolor": "white",
           "linecolor": "white",
           "ticks": "",
           "title": {
            "standoff": 15
           },
           "zerolinecolor": "white",
           "zerolinewidth": 2
          }
         }
        }
       }
      }
     },
     "metadata": {},
     "output_type": "display_data"
    }
   ],
   "source": [
    "fig = go.Figure()\n",
    "\n",
    "fig.add_trace(\n",
    "    go.Scatter(y = reconstruction_errors)\n",
    ")\n",
    "\n",
    "fig.show()"
   ]
  },
  {
   "cell_type": "code",
   "execution_count": 31,
   "metadata": {},
   "outputs": [
    {
     "name": "stdout",
     "output_type": "stream",
     "text": [
      "Reconstruction errors at each iteration: [np.float64(45.072924025419105), np.float64(44.5897352585997), np.float64(44.16368101994192), np.float64(43.79614861774031), np.float64(43.48778496818529), np.float64(43.23805508876769), np.float64(43.04181891433104), np.float64(42.88975562601729), np.float64(42.771809355855765), np.float64(42.6795177065883), np.float64(42.60649826136999), np.float64(42.54810530968535), np.float64(42.50095847614004), np.float64(42.462566531564896), np.float64(42.4310655317967), np.float64(42.40504164091064), np.float64(42.38340968671164), np.float64(42.365327897650964), np.float64(42.35013679587984), np.float64(42.33731480143918), np.float64(42.326445694949), np.float64(42.317194599017775), np.float64(42.3092901026846), np.float64(42.30251082251092), np.float64(42.2966751796222), np.float64(42.29163352608282), np.float64(42.287262007999196), np.float64(42.28345773119466), np.float64(42.28013491866341), np.float64(42.27722183375622), np.float64(42.27465830157144), np.float64(42.27239370207856), np.float64(42.270385337968435), np.float64(42.26859710190445), np.float64(42.26699838416688), np.float64(42.26556317417613), np.float64(42.26426931905735), np.float64(42.26309790995643), np.float64(42.262032772722726), np.float64(42.26106004420722), np.float64(42.260167819064854), np.float64(42.259345854818186), np.float64(42.25858532520753), np.float64(42.25787861365515), np.float64(42.25721914011026), np.float64(42.25660121570011), np.float64(42.2560199205485), np.float64(42.25547100088642), np.float64(42.25495078220515), np.float64(42.25445609571784), np.float64(42.253984215825085), np.float64(42.25353280663874), np.float64(42.253099875922196), np.float64(42.25268373506444), np.float64(42.2522829639296), np.float64(42.251896379619986), np.float64(42.25152300836416), np.float64(42.25116205989739), np.float64(42.25081290384172), np.float64(42.25047504771823), np.float64(42.250148116336426), np.float64(42.24983183240409), np.float64(42.2495259982843), np.float64(42.24923047889445), np.float64(42.24894518579448), np.float64(42.24867006254548), np.float64(42.2484050714387), np.float64(42.248150181697), np.float64(42.247905359238125), np.float64(42.2476705580655), np.float64(42.24744571331838), np.float64(42.2472307359745), np.float64(42.247025509156565), np.float64(42.24682988595367), np.float64(42.246643688632176), np.float64(42.24646670908032), np.float64(42.24629871030852), np.float64(42.24613942881357), np.float64(42.24598857761051), np.float64(42.24584584973922), np.float64(42.245710922063545), np.float64(42.24558345919782), np.float64(42.24546311741635), np.float64(42.24534954842452), np.float64(42.24524240289575), np.float64(42.24514133370165), np.float64(42.24504599878658), np.float64(42.24495606365784), np.float64(42.24487120348116), np.float64(42.24479110478574), np.float64(42.24471546679512), np.float64(42.244644002409025), np.float64(42.24457643886733), np.float64(42.244512518131366), np.float64(42.24445199701895), np.float64(42.24439464713028), np.float64(42.24434025459995), np.float64(42.24428861970873), np.float64(42.244239556385466), np.float64(42.24419289162686), np.float64(42.24414846485902), np.float64(42.24410612726158), np.float64(42.244065741072085), np.float64(42.244027178884984), np.float64(42.24399032295703), np.float64(42.24395506452847), np.float64(42.24392130316698), np.float64(42.24388894613959), np.float64(42.24385790781631), np.float64(42.24382810910764), np.float64(42.243799476937255), np.float64(42.24377194375011), np.float64(42.243745447055716), np.float64(42.24371992900561), np.float64(42.24369533600383), np.float64(42.243671618348685), np.float64(42.243648729904436), np.float64(42.24362662780056), np.float64(42.24360527215717), np.float64(42.24358462583448), np.float64(42.24356465420438), np.float64(42.2435453249427), np.float64(42.24352660783997), np.float64(42.243508474629465), np.float64(42.243490898830814), np.float64(42.24347385560787), np.float64(42.243457321639326), np.float64(42.24344127500137), np.float64(42.243425695060495), np.float64(42.24341056237628), np.float64(42.24339585861266), np.float64(42.24338156645711), np.float64(42.24336766954683), np.float64(42.24335415240148), np.float64(42.24334100036153), np.float64(42.24332819953198), np.float64(42.24331573673074), np.float64(42.243303599441255), np.float64(42.24329177576917), np.float64(42.243280254402165), np.float64(42.243269024573344), np.float64(42.243258076027296), np.float64(42.24324739898873), np.float64(42.243236984133695), np.float64(42.24322682256274), np.float64(42.243216905776166), np.float64(42.24320722565108), np.float64(42.24319777442002), np.float64(42.24318854465116), np.float64(42.24317952922982), np.float64(42.2431707213413), np.float64(42.2431621144548), np.float64(42.243153702308476), np.float64(42.24314547889538), np.float64(42.24313743845045), np.float64(42.243129575438076), np.float64(42.24312188454079), np.float64(42.24311436064832), np.float64(42.24310699884747), np.float64(42.24309979441265), np.float64(42.24309274279681), np.float64(42.243085839623106), np.float64(42.243079080676786), np.float64(42.24307246189783), np.float64(42.243065979373824), np.float64(42.24305962933321), np.float64(42.24305340813901), np.float64(42.24304731228288), np.float64(42.24304133837938), np.float64(42.24303548316067), np.float64(42.24302974347141), np.float64(42.24302411626402), np.float64(42.243018598593984), np.float64(42.243013187615645), np.float64(42.24300788057803), np.float64(42.24300267482096), np.float64(42.242997567771376), np.float64(42.24299255693976), np.float64(42.24298763991682), np.float64(42.24298281437023), np.float64(42.24297807804168), np.float64(42.242973428743916), np.float64(42.24296886435798), np.float64(42.24296438283064), np.float64(42.24295998217182), np.float64(42.242955660452175), np.float64(42.242951415800896), np.float64(42.242947246403446), np.float64(42.24294315049956), np.float64(42.242939126381145), np.float64(42.242935172390446), np.float64(42.2429312869182), np.float64(42.2429274684019), np.float64(42.24292371532417), np.float64(42.24292002621102), np.float64(42.242916399630516), np.float64(42.242912834191195), np.float64(42.242909328540655), np.float64(42.24290588136425), np.float64(42.24290249138381), np.float64(42.24289915735634), np.float64(42.24289587807292), np.float64(42.24289265235749), np.float64(42.242889479065774), np.float64(42.24288635708427), np.float64(42.24288328532917), np.float64(42.242880262745466), np.float64(42.24287728830598), np.float64(42.24287436101043), np.float64(42.242871479884656), np.float64(42.24286864397971), np.float64(42.242865852371104), np.float64(42.24286310415801), np.float64(42.24286039846258), np.float64(42.24285773442915), np.float64(42.24285511122365), np.float64(42.24285252803283), np.float64(42.24284998406374), np.float64(42.24284747854304), np.float64(42.24284501071643), np.float64(42.24284257984811), np.float64(42.24284018522017), np.float64(42.24283782613212), np.float64(42.24283550190033), np.float64(42.24283321185757), np.float64(42.24283095535254), np.float64(42.24282873174933), np.float64(42.24282654042713), np.float64(42.24282438077961), np.float64(42.24282225221468), np.float64(42.24282015415398), np.float64(42.24281808603251), np.float64(42.2428160472983), np.float64(42.242814037411996), np.float64(42.242812055846535), np.float64(42.24281010208683), np.float64(42.242808175629385), np.float64(42.24280627598201), np.float64(42.24280440266353), np.float64(42.24280255520349), np.float64(42.24280073314178), np.float64(42.24279893602849), np.float64(42.242797163423575), np.float64(42.242795414896534), np.float64(42.24279369002629), np.float64(42.24279198840084), np.float64(42.24279030961705), np.float64(42.24278865328042), np.float64(42.242787019004886), np.float64(42.24278540641258), np.float64(42.242783815133585), np.float64(42.24278224480584), np.float64(42.242780695074806), np.float64(42.2427791655934), np.float64(42.24277765602168), np.float64(42.24277616602682), np.float64(42.2427746952828), np.float64(42.242773243470275), np.float64(42.24277181027647), np.float64(42.242770395394935), np.float64(42.24276899852543), np.float64(42.242767619373765), np.float64(42.2427662576517), np.float64(42.24276491307671), np.float64(42.24276358537195), np.float64(42.242762274265985), np.float64(42.24276097949283), np.float64(42.242759700791694), np.float64(42.24275843790692), np.float64(42.24275719058778), np.float64(42.242755958588525), np.float64(42.24275474166806), np.float64(42.24275353959001), np.float64(42.24275235212253), np.float64(42.2427511790382), np.float64(42.24275002011393), np.float64(42.24274887513089), np.float64(42.24274774387438), np.float64(42.24274662613376), np.float64(42.242745521702325), np.float64(42.24274443037726), np.float64(42.242743351959504), np.float64(42.242742286253716), np.float64(42.242741233068145), np.float64(42.24274019221459), np.float64(42.24273916350835), np.float64(42.24273814676801), np.float64(42.24273714181554), np.float64(42.24273614847611), np.float64(42.24273516657807), np.float64(42.24273419595286), np.float64(42.242733236434944), np.float64(42.24273228786178), np.float64(42.24273135007366), np.float64(42.24273042291378), np.float64(42.24272950622811), np.float64(42.2427285998653), np.float64(42.242727703676714), np.float64(42.242726817516285), np.float64(42.24272594124053), np.float64(42.24272507470843), np.float64(42.242724217781436), np.float64(42.2427233703234), np.float64(42.24272253220051), np.float64(42.24272170328125), np.float64(42.24272088343641), np.float64(42.24272007253891), np.float64(42.242719270463866), np.float64(42.242718477088516), np.float64(42.24271769229217), np.float64(42.242716915956194), np.float64(42.2427161479639), np.float64(42.24271538820059), np.float64(42.24271463655346), np.float64(42.24271389291161), np.float64(42.242713157165966), np.float64(42.242712429209234), np.float64(42.242711708935914), np.float64(42.242710996242266), np.float64(42.24271029102616), np.float64(42.24270959318723), np.float64(42.24270890262671), np.float64(42.24270821924741), np.float64(42.24270754295376), np.float64(42.24270687365168), np.float64(42.242706211248645), np.float64(42.24270555565358), np.float64(42.242704906776915), np.float64(42.24270426453045), np.float64(42.24270362882744), np.float64(42.24270299958246), np.float64(42.24270237671148), np.float64(42.24270176013176), np.float64(42.24270114976188), np.float64(42.24270054552169), np.float64(42.24269994733231), np.float64(42.24269935511605), np.float64(42.24269876879644), np.float64(42.24269818829822), np.float64(42.24269761354724), np.float64(42.24269704447057), np.float64(42.242696480996315), np.float64(42.24269592305372), np.float64(42.242695370573124), np.float64(42.2426948234859), np.float64(42.24269428172447), np.float64(42.24269374522229), np.float64(42.2426932139138), np.float64(42.24269268773446), np.float64(42.242692166620664), np.float64(42.24269165050976), np.float64(42.24269113934006), np.float64(42.24269063305078), np.float64(42.24269013158203), np.float64(42.24268963487482), np.float64(42.24268914287103), np.float64(42.24268865551337), np.float64(42.24268817274544), np.float64(42.24268769451162), np.float64(42.242687220757155), np.float64(42.242686751428025), np.float64(42.24268628647104), np.float64(42.24268582583378), np.float64(42.24268536946456), np.float64(42.24268491731246), np.float64(42.24268446932727), np.float64(42.24268402545954), np.float64(42.242683585660494), np.float64(42.24268314988206), np.float64(42.242682718076885), np.float64(42.24268229019821), np.float64(42.242681866200044), np.float64(42.24268144603694), np.float64(42.24268102966417), np.float64(42.24268061703763), np.float64(42.242680208113754), np.float64(42.24267980284969), np.float64(42.242679401203134), np.float64(42.24267900313238), np.float64(42.24267860859629), np.float64(42.242678217554314), np.float64(42.242677829966446), np.float64(42.242677445793255), np.float64(42.24267706499582), np.float64(42.242676687535784), np.float64(42.24267631337532), np.float64(42.24267594247708), np.float64(42.24267557480426), np.float64(42.24267521032055), np.float64(42.24267484899013), np.float64(42.242674490777645), np.float64(42.24267413564826), np.float64(42.24267378356758), np.float64(42.24267343450166), np.float64(42.24267308841705), np.float64(42.242672745280736), np.float64(42.242672405060105), np.float64(42.24267206772304), np.float64(42.24267173323781), np.float64(42.242671401573105), np.float64(42.24267107269806), np.float64(42.24267074658219), np.float64(42.2426704231954), np.float64(42.24267010250804), np.float64(42.242669784490815), np.float64(42.2426694691148), np.float64(42.24266915635148), np.float64(42.242668846172705), np.float64(42.24266853855067), np.float64(42.24266823345795), np.float64(42.24266793086744), np.float64(42.24266763075247), np.float64(42.24266733308663), np.float64(42.24266703784386), np.float64(42.24266674499849), np.float64(42.24266645452511), np.float64(42.2426661663987), np.float64(42.24266588059445), np.float64(42.242665597088035), np.float64(42.242665315855305), np.float64(42.24266503687246), np.float64(42.24266476011598), np.float64(42.24266448556267), np.float64(42.24266421318963), np.float64(42.2426639429742), np.float64(42.242663674894075), np.float64(42.242663408927164), np.float64(42.24266314505169), np.float64(42.24266288324615), np.float64(42.242662623489274), np.float64(42.24266236576008), np.float64(42.24266211003786), np.float64(42.24266185630213), np.float64(42.242661604532685), np.float64(42.24266135470954), np.float64(42.24266110681299), np.float64(42.242660860823555), np.float64(42.24266061672198), np.float64(42.24266037448926), np.float64(42.242660134106636), np.float64(42.24265989555555), np.float64(42.24265965881766), np.float64(42.242659423874905), np.float64(42.24265919070937), np.float64(42.2426589593034), np.float64(42.242658729639565), np.float64(42.24265850170059), np.float64(42.242658275469445), np.float64(42.242658050929315), np.float64(42.24265782806355), np.float64(42.24265760685573), np.float64(42.2426573872896), np.float64(42.242657169349144), np.float64(42.24265695301846), np.float64(42.24265673828194), np.float64(42.242656525124055), np.float64(42.24265631352954), np.float64(42.24265610348324), np.float64(42.242655894970234), np.float64(42.24265568797575), np.float64(42.242655482485205), np.float64(42.24265527848416), np.float64(42.24265507595835), np.float64(42.24265487489372), np.float64(42.24265467527631), np.float64(42.242654477092366), np.float64(42.24265428032828), np.float64(42.2426540849706), np.float64(42.24265389100604), np.float64(42.24265369842144), np.float64(42.24265350720384), np.float64(42.24265331734036), np.float64(42.24265312881834), np.float64(42.24265294162521), np.float64(42.24265275574856), np.float64(42.24265257117612), np.float64(42.2426523878958), np.float64(42.24265220589555), np.float64(42.24265202516357), np.float64(42.2426518456881), np.float64(42.24265166745757), np.float64(42.24265149046052), np.float64(42.242651314685624), np.float64(42.24265114012165), np.float64(42.24265096675755), np.float64(42.24265079458238), np.float64(42.24265062358526), np.float64(42.24265045375552), np.float64(42.24265028508256), np.float64(42.2426501175559), np.float64(42.24264995116517), np.float64(42.24264978590013), np.float64(42.24264962175066), np.float64(42.24264945870671), np.float64(42.24264929675841), np.float64(42.24264913589592), np.float64(42.24264897610955), np.float64(42.24264881738973), np.float64(42.24264865972697), np.float64(42.24264850311188)]\n",
      "H shape: (5, 50)\n"
     ]
    }
   ],
   "source": [
    "import numpy as np\n",
    "\n",
    "# Fast Johnson-Lindenstrauss Transform (FJLT)\n",
    "def fjlt(X, d):\n",
    "    \"\"\"\n",
    "    Apply Fast Johnson-Lindenstrauss Transform (FJLT) for dimensionality reduction using Hadamard matrix.\n",
    "    \n",
    "    Parameters:\n",
    "    X (numpy array): Input data matrix (m x n)\n",
    "    d (int): Target reduced dimension (d << m)\n",
    "\n",
    "    Returns:\n",
    "    X_reduced (numpy array): Reduced dimensionality matrix (d x n)\n",
    "    \"\"\"\n",
    "    # Dimensions of input matrix X (m x n)\n",
    "    m, n = X.shape\n",
    "    \n",
    "    # Generate a random Hadamard matrix (of size m x d)\n",
    "    H = np.random.choice([-1, 1], size=(m, d))\n",
    "    \n",
    "    # Project X using Hadamard matrix for FJLT\n",
    "    X_reduced = H.T @ X  # This is a fast projection\n",
    "    \n",
    "    return X_reduced\n",
    "\n",
    "# Successive Projection Algorithm (SPA) with FJLT for NMF\n",
    "def fjlt_spa_nmf(X, r, d):\n",
    "    \"\"\"\n",
    "    Apply Fast Johnson-Lindenstrauss Transform (FJLT) for dimensionality reduction, then run SPA for NMF initialization.\n",
    "    \n",
    "    Parameters:\n",
    "    X (numpy array): Input data matrix (m x n)\n",
    "    r (int): Number of basis columns to select (components)\n",
    "    d (int): Target reduced dimension using FJLT transform\n",
    "    \n",
    "    Returns:\n",
    "    W (numpy array): Initialized basis matrix for NMF (m x r)\n",
    "    H (numpy array): Initialized coefficient matrix for NMF (r x n)\n",
    "    \"\"\"\n",
    "    # Step 1: Apply Fast Johnson-Lindenstrauss Transform (FJLT)\n",
    "    X_reduced = fjlt(X, d)\n",
    "    \n",
    "    # Step 2: Successive Projection Algorithm (SPA)\n",
    "    selected_indices = []\n",
    "    residual = X_reduced.copy()\n",
    "    \n",
    "    for _ in range(r):\n",
    "        # Select the column with the largest norm\n",
    "        col_norms = np.linalg.norm(residual, axis=0)\n",
    "        selected_idx = np.argmax(col_norms)\n",
    "        selected_indices.append(selected_idx)\n",
    "        \n",
    "        # Project remaining columns onto the orthogonal complement of selected column\n",
    "        selected_col = residual[:, selected_idx].reshape(-1, 1)\n",
    "        projection = (selected_col @ (selected_col.T @ residual)) / (selected_col.T @ selected_col)\n",
    "        residual -= projection\n",
    "    \n",
    "    # Step 3: Extract selected columns from original X for NMF initialization\n",
    "    W_init = X[:, selected_indices]\n",
    "    \n",
    "    # Initialize H matrix randomly\n",
    "    H_init = np.abs(np.random.rand(r, X.shape[1]))  # Random initialization for H\n",
    "    \n",
    "    return W_init, H_init\n",
    "\n",
    "# Separable NMF Optimization (H update only, W fixed)\n",
    "def snmf(X, W_init, H_init, max_iter=500, tol=1e-4):\n",
    "    \"\"\"\n",
    "    Perform Separable NMF with fixed W and initialized H.\n",
    "    \n",
    "    Parameters:\n",
    "    X (numpy array): Input data matrix (m x n)\n",
    "    W_init (numpy array): Initialized basis matrix for NMF (m x r), fixed\n",
    "    H_init (numpy array): Initialized coefficient matrix for NMF (r x n)\n",
    "    max_iter (int): Maximum number of iterations\n",
    "    tol (float): Tolerance for convergence\n",
    "    \n",
    "    Returns:\n",
    "    H (numpy array): Learned coefficient matrix from NMF\n",
    "    \"\"\"\n",
    "    # Initialize H with provided initialization\n",
    "    H = H_init\n",
    "\n",
    "    # List to store reconstruction errors at each iteration\n",
    "    reconstruction_errors = []\n",
    "\n",
    "    for i in range(max_iter):\n",
    "        # Update H using multiplicative update rule (keeping W fixed)\n",
    "        H = np.maximum(0, H * (W_init.T @ X) / (W_init.T @ W_init @ H + 1e-10))  # Avoid division by zero\n",
    "        \n",
    "        # Compute reconstruction error\n",
    "        reconstruction_error = np.linalg.norm(X - W_init @ H, 'fro')\n",
    "        reconstruction_errors.append(reconstruction_error)  # Log the error\n",
    "        \n",
    "        # Check for convergence\n",
    "        if reconstruction_error < tol:\n",
    "            print(f\"Converged at iteration {i+1} with error: {reconstruction_error:.6f}\")\n",
    "            break\n",
    "    \n",
    "    # Optionally, print the reconstruction errors at each iteration\n",
    "    print(\"Reconstruction errors at each iteration:\", reconstruction_errors)\n",
    "\n",
    "    return H, reconstruction_errors\n",
    "\n",
    "# Example Usage\n",
    "np.random.seed(42)\n",
    "X = np.abs(np.random.randn(100, 50))  # Nonnegative matrix (100 features, 50 samples)\n",
    "r = 5  # Number of components (basis vectors)\n",
    "FJL_dim = 20  # Reduced dimension via FJLT transform\n",
    "\n",
    "# Step 1: Apply FJLT and SPA to initialize W and H\n",
    "W_init, H_init = fjlt_spa_nmf(X, r, FJL_dim)\n",
    "\n",
    "# Step 2: Perform Separable NMF (SNMF) by updating H only, keeping W fixed\n",
    "H, reconstruction_errors = snmf(X, W_init, H_init)\n",
    "\n",
    "# Check final shape of H and print reconstruction errors\n",
    "print(\"H shape:\", H.shape)"
   ]
  },
  {
   "cell_type": "code",
   "execution_count": 32,
   "metadata": {},
   "outputs": [
    {
     "data": {
      "application/vnd.plotly.v1+json": {
       "config": {
        "plotlyServerURL": "https://plot.ly"
       },
       "data": [
        {
         "type": "scatter",
         "y": [
          45.072924025419105,
          44.5897352585997,
          44.16368101994192,
          43.79614861774031,
          43.48778496818529,
          43.23805508876769,
          43.04181891433104,
          42.88975562601729,
          42.771809355855765,
          42.6795177065883,
          42.60649826136999,
          42.54810530968535,
          42.50095847614004,
          42.462566531564896,
          42.4310655317967,
          42.40504164091064,
          42.38340968671164,
          42.365327897650964,
          42.35013679587984,
          42.33731480143918,
          42.326445694949,
          42.317194599017775,
          42.3092901026846,
          42.30251082251092,
          42.2966751796222,
          42.29163352608282,
          42.287262007999196,
          42.28345773119466,
          42.28013491866341,
          42.27722183375622,
          42.27465830157144,
          42.27239370207856,
          42.270385337968435,
          42.26859710190445,
          42.26699838416688,
          42.26556317417613,
          42.26426931905735,
          42.26309790995643,
          42.262032772722726,
          42.26106004420722,
          42.260167819064854,
          42.259345854818186,
          42.25858532520753,
          42.25787861365515,
          42.25721914011026,
          42.25660121570011,
          42.2560199205485,
          42.25547100088642,
          42.25495078220515,
          42.25445609571784,
          42.253984215825085,
          42.25353280663874,
          42.253099875922196,
          42.25268373506444,
          42.2522829639296,
          42.251896379619986,
          42.25152300836416,
          42.25116205989739,
          42.25081290384172,
          42.25047504771823,
          42.250148116336426,
          42.24983183240409,
          42.2495259982843,
          42.24923047889445,
          42.24894518579448,
          42.24867006254548,
          42.2484050714387,
          42.248150181697,
          42.247905359238125,
          42.2476705580655,
          42.24744571331838,
          42.2472307359745,
          42.247025509156565,
          42.24682988595367,
          42.246643688632176,
          42.24646670908032,
          42.24629871030852,
          42.24613942881357,
          42.24598857761051,
          42.24584584973922,
          42.245710922063545,
          42.24558345919782,
          42.24546311741635,
          42.24534954842452,
          42.24524240289575,
          42.24514133370165,
          42.24504599878658,
          42.24495606365784,
          42.24487120348116,
          42.24479110478574,
          42.24471546679512,
          42.244644002409025,
          42.24457643886733,
          42.244512518131366,
          42.24445199701895,
          42.24439464713028,
          42.24434025459995,
          42.24428861970873,
          42.244239556385466,
          42.24419289162686,
          42.24414846485902,
          42.24410612726158,
          42.244065741072085,
          42.244027178884984,
          42.24399032295703,
          42.24395506452847,
          42.24392130316698,
          42.24388894613959,
          42.24385790781631,
          42.24382810910764,
          42.243799476937255,
          42.24377194375011,
          42.243745447055716,
          42.24371992900561,
          42.24369533600383,
          42.243671618348685,
          42.243648729904436,
          42.24362662780056,
          42.24360527215717,
          42.24358462583448,
          42.24356465420438,
          42.2435453249427,
          42.24352660783997,
          42.243508474629465,
          42.243490898830814,
          42.24347385560787,
          42.243457321639326,
          42.24344127500137,
          42.243425695060495,
          42.24341056237628,
          42.24339585861266,
          42.24338156645711,
          42.24336766954683,
          42.24335415240148,
          42.24334100036153,
          42.24332819953198,
          42.24331573673074,
          42.243303599441255,
          42.24329177576917,
          42.243280254402165,
          42.243269024573344,
          42.243258076027296,
          42.24324739898873,
          42.243236984133695,
          42.24322682256274,
          42.243216905776166,
          42.24320722565108,
          42.24319777442002,
          42.24318854465116,
          42.24317952922982,
          42.2431707213413,
          42.2431621144548,
          42.243153702308476,
          42.24314547889538,
          42.24313743845045,
          42.243129575438076,
          42.24312188454079,
          42.24311436064832,
          42.24310699884747,
          42.24309979441265,
          42.24309274279681,
          42.243085839623106,
          42.243079080676786,
          42.24307246189783,
          42.243065979373824,
          42.24305962933321,
          42.24305340813901,
          42.24304731228288,
          42.24304133837938,
          42.24303548316067,
          42.24302974347141,
          42.24302411626402,
          42.243018598593984,
          42.243013187615645,
          42.24300788057803,
          42.24300267482096,
          42.242997567771376,
          42.24299255693976,
          42.24298763991682,
          42.24298281437023,
          42.24297807804168,
          42.242973428743916,
          42.24296886435798,
          42.24296438283064,
          42.24295998217182,
          42.242955660452175,
          42.242951415800896,
          42.242947246403446,
          42.24294315049956,
          42.242939126381145,
          42.242935172390446,
          42.2429312869182,
          42.2429274684019,
          42.24292371532417,
          42.24292002621102,
          42.242916399630516,
          42.242912834191195,
          42.242909328540655,
          42.24290588136425,
          42.24290249138381,
          42.24289915735634,
          42.24289587807292,
          42.24289265235749,
          42.242889479065774,
          42.24288635708427,
          42.24288328532917,
          42.242880262745466,
          42.24287728830598,
          42.24287436101043,
          42.242871479884656,
          42.24286864397971,
          42.242865852371104,
          42.24286310415801,
          42.24286039846258,
          42.24285773442915,
          42.24285511122365,
          42.24285252803283,
          42.24284998406374,
          42.24284747854304,
          42.24284501071643,
          42.24284257984811,
          42.24284018522017,
          42.24283782613212,
          42.24283550190033,
          42.24283321185757,
          42.24283095535254,
          42.24282873174933,
          42.24282654042713,
          42.24282438077961,
          42.24282225221468,
          42.24282015415398,
          42.24281808603251,
          42.2428160472983,
          42.242814037411996,
          42.242812055846535,
          42.24281010208683,
          42.242808175629385,
          42.24280627598201,
          42.24280440266353,
          42.24280255520349,
          42.24280073314178,
          42.24279893602849,
          42.242797163423575,
          42.242795414896534,
          42.24279369002629,
          42.24279198840084,
          42.24279030961705,
          42.24278865328042,
          42.242787019004886,
          42.24278540641258,
          42.242783815133585,
          42.24278224480584,
          42.242780695074806,
          42.2427791655934,
          42.24277765602168,
          42.24277616602682,
          42.2427746952828,
          42.242773243470275,
          42.24277181027647,
          42.242770395394935,
          42.24276899852543,
          42.242767619373765,
          42.2427662576517,
          42.24276491307671,
          42.24276358537195,
          42.242762274265985,
          42.24276097949283,
          42.242759700791694,
          42.24275843790692,
          42.24275719058778,
          42.242755958588525,
          42.24275474166806,
          42.24275353959001,
          42.24275235212253,
          42.2427511790382,
          42.24275002011393,
          42.24274887513089,
          42.24274774387438,
          42.24274662613376,
          42.242745521702325,
          42.24274443037726,
          42.242743351959504,
          42.242742286253716,
          42.242741233068145,
          42.24274019221459,
          42.24273916350835,
          42.24273814676801,
          42.24273714181554,
          42.24273614847611,
          42.24273516657807,
          42.24273419595286,
          42.242733236434944,
          42.24273228786178,
          42.24273135007366,
          42.24273042291378,
          42.24272950622811,
          42.2427285998653,
          42.242727703676714,
          42.242726817516285,
          42.24272594124053,
          42.24272507470843,
          42.242724217781436,
          42.2427233703234,
          42.24272253220051,
          42.24272170328125,
          42.24272088343641,
          42.24272007253891,
          42.242719270463866,
          42.242718477088516,
          42.24271769229217,
          42.242716915956194,
          42.2427161479639,
          42.24271538820059,
          42.24271463655346,
          42.24271389291161,
          42.242713157165966,
          42.242712429209234,
          42.242711708935914,
          42.242710996242266,
          42.24271029102616,
          42.24270959318723,
          42.24270890262671,
          42.24270821924741,
          42.24270754295376,
          42.24270687365168,
          42.242706211248645,
          42.24270555565358,
          42.242704906776915,
          42.24270426453045,
          42.24270362882744,
          42.24270299958246,
          42.24270237671148,
          42.24270176013176,
          42.24270114976188,
          42.24270054552169,
          42.24269994733231,
          42.24269935511605,
          42.24269876879644,
          42.24269818829822,
          42.24269761354724,
          42.24269704447057,
          42.242696480996315,
          42.24269592305372,
          42.242695370573124,
          42.2426948234859,
          42.24269428172447,
          42.24269374522229,
          42.2426932139138,
          42.24269268773446,
          42.242692166620664,
          42.24269165050976,
          42.24269113934006,
          42.24269063305078,
          42.24269013158203,
          42.24268963487482,
          42.24268914287103,
          42.24268865551337,
          42.24268817274544,
          42.24268769451162,
          42.242687220757155,
          42.242686751428025,
          42.24268628647104,
          42.24268582583378,
          42.24268536946456,
          42.24268491731246,
          42.24268446932727,
          42.24268402545954,
          42.242683585660494,
          42.24268314988206,
          42.242682718076885,
          42.24268229019821,
          42.242681866200044,
          42.24268144603694,
          42.24268102966417,
          42.24268061703763,
          42.242680208113754,
          42.24267980284969,
          42.242679401203134,
          42.24267900313238,
          42.24267860859629,
          42.242678217554314,
          42.242677829966446,
          42.242677445793255,
          42.24267706499582,
          42.242676687535784,
          42.24267631337532,
          42.24267594247708,
          42.24267557480426,
          42.24267521032055,
          42.24267484899013,
          42.242674490777645,
          42.24267413564826,
          42.24267378356758,
          42.24267343450166,
          42.24267308841705,
          42.242672745280736,
          42.242672405060105,
          42.24267206772304,
          42.24267173323781,
          42.242671401573105,
          42.24267107269806,
          42.24267074658219,
          42.2426704231954,
          42.24267010250804,
          42.242669784490815,
          42.2426694691148,
          42.24266915635148,
          42.242668846172705,
          42.24266853855067,
          42.24266823345795,
          42.24266793086744,
          42.24266763075247,
          42.24266733308663,
          42.24266703784386,
          42.24266674499849,
          42.24266645452511,
          42.2426661663987,
          42.24266588059445,
          42.242665597088035,
          42.242665315855305,
          42.24266503687246,
          42.24266476011598,
          42.24266448556267,
          42.24266421318963,
          42.2426639429742,
          42.242663674894075,
          42.242663408927164,
          42.24266314505169,
          42.24266288324615,
          42.242662623489274,
          42.24266236576008,
          42.24266211003786,
          42.24266185630213,
          42.242661604532685,
          42.24266135470954,
          42.24266110681299,
          42.242660860823555,
          42.24266061672198,
          42.24266037448926,
          42.242660134106636,
          42.24265989555555,
          42.24265965881766,
          42.242659423874905,
          42.24265919070937,
          42.2426589593034,
          42.242658729639565,
          42.24265850170059,
          42.242658275469445,
          42.242658050929315,
          42.24265782806355,
          42.24265760685573,
          42.2426573872896,
          42.242657169349144,
          42.24265695301846,
          42.24265673828194,
          42.242656525124055,
          42.24265631352954,
          42.24265610348324,
          42.242655894970234,
          42.24265568797575,
          42.242655482485205,
          42.24265527848416,
          42.24265507595835,
          42.24265487489372,
          42.24265467527631,
          42.242654477092366,
          42.24265428032828,
          42.2426540849706,
          42.24265389100604,
          42.24265369842144,
          42.24265350720384,
          42.24265331734036,
          42.24265312881834,
          42.24265294162521,
          42.24265275574856,
          42.24265257117612,
          42.2426523878958,
          42.24265220589555,
          42.24265202516357,
          42.2426518456881,
          42.24265166745757,
          42.24265149046052,
          42.242651314685624,
          42.24265114012165,
          42.24265096675755,
          42.24265079458238,
          42.24265062358526,
          42.24265045375552,
          42.24265028508256,
          42.2426501175559,
          42.24264995116517,
          42.24264978590013,
          42.24264962175066,
          42.24264945870671,
          42.24264929675841,
          42.24264913589592,
          42.24264897610955,
          42.24264881738973,
          42.24264865972697,
          42.24264850311188
         ]
        }
       ],
       "layout": {
        "template": {
         "data": {
          "bar": [
           {
            "error_x": {
             "color": "#2a3f5f"
            },
            "error_y": {
             "color": "#2a3f5f"
            },
            "marker": {
             "line": {
              "color": "#E5ECF6",
              "width": 0.5
             },
             "pattern": {
              "fillmode": "overlay",
              "size": 10,
              "solidity": 0.2
             }
            },
            "type": "bar"
           }
          ],
          "barpolar": [
           {
            "marker": {
             "line": {
              "color": "#E5ECF6",
              "width": 0.5
             },
             "pattern": {
              "fillmode": "overlay",
              "size": 10,
              "solidity": 0.2
             }
            },
            "type": "barpolar"
           }
          ],
          "carpet": [
           {
            "aaxis": {
             "endlinecolor": "#2a3f5f",
             "gridcolor": "white",
             "linecolor": "white",
             "minorgridcolor": "white",
             "startlinecolor": "#2a3f5f"
            },
            "baxis": {
             "endlinecolor": "#2a3f5f",
             "gridcolor": "white",
             "linecolor": "white",
             "minorgridcolor": "white",
             "startlinecolor": "#2a3f5f"
            },
            "type": "carpet"
           }
          ],
          "choropleth": [
           {
            "colorbar": {
             "outlinewidth": 0,
             "ticks": ""
            },
            "type": "choropleth"
           }
          ],
          "contour": [
           {
            "colorbar": {
             "outlinewidth": 0,
             "ticks": ""
            },
            "colorscale": [
             [
              0,
              "#0d0887"
             ],
             [
              0.1111111111111111,
              "#46039f"
             ],
             [
              0.2222222222222222,
              "#7201a8"
             ],
             [
              0.3333333333333333,
              "#9c179e"
             ],
             [
              0.4444444444444444,
              "#bd3786"
             ],
             [
              0.5555555555555556,
              "#d8576b"
             ],
             [
              0.6666666666666666,
              "#ed7953"
             ],
             [
              0.7777777777777778,
              "#fb9f3a"
             ],
             [
              0.8888888888888888,
              "#fdca26"
             ],
             [
              1,
              "#f0f921"
             ]
            ],
            "type": "contour"
           }
          ],
          "contourcarpet": [
           {
            "colorbar": {
             "outlinewidth": 0,
             "ticks": ""
            },
            "type": "contourcarpet"
           }
          ],
          "heatmap": [
           {
            "colorbar": {
             "outlinewidth": 0,
             "ticks": ""
            },
            "colorscale": [
             [
              0,
              "#0d0887"
             ],
             [
              0.1111111111111111,
              "#46039f"
             ],
             [
              0.2222222222222222,
              "#7201a8"
             ],
             [
              0.3333333333333333,
              "#9c179e"
             ],
             [
              0.4444444444444444,
              "#bd3786"
             ],
             [
              0.5555555555555556,
              "#d8576b"
             ],
             [
              0.6666666666666666,
              "#ed7953"
             ],
             [
              0.7777777777777778,
              "#fb9f3a"
             ],
             [
              0.8888888888888888,
              "#fdca26"
             ],
             [
              1,
              "#f0f921"
             ]
            ],
            "type": "heatmap"
           }
          ],
          "histogram": [
           {
            "marker": {
             "pattern": {
              "fillmode": "overlay",
              "size": 10,
              "solidity": 0.2
             }
            },
            "type": "histogram"
           }
          ],
          "histogram2d": [
           {
            "colorbar": {
             "outlinewidth": 0,
             "ticks": ""
            },
            "colorscale": [
             [
              0,
              "#0d0887"
             ],
             [
              0.1111111111111111,
              "#46039f"
             ],
             [
              0.2222222222222222,
              "#7201a8"
             ],
             [
              0.3333333333333333,
              "#9c179e"
             ],
             [
              0.4444444444444444,
              "#bd3786"
             ],
             [
              0.5555555555555556,
              "#d8576b"
             ],
             [
              0.6666666666666666,
              "#ed7953"
             ],
             [
              0.7777777777777778,
              "#fb9f3a"
             ],
             [
              0.8888888888888888,
              "#fdca26"
             ],
             [
              1,
              "#f0f921"
             ]
            ],
            "type": "histogram2d"
           }
          ],
          "histogram2dcontour": [
           {
            "colorbar": {
             "outlinewidth": 0,
             "ticks": ""
            },
            "colorscale": [
             [
              0,
              "#0d0887"
             ],
             [
              0.1111111111111111,
              "#46039f"
             ],
             [
              0.2222222222222222,
              "#7201a8"
             ],
             [
              0.3333333333333333,
              "#9c179e"
             ],
             [
              0.4444444444444444,
              "#bd3786"
             ],
             [
              0.5555555555555556,
              "#d8576b"
             ],
             [
              0.6666666666666666,
              "#ed7953"
             ],
             [
              0.7777777777777778,
              "#fb9f3a"
             ],
             [
              0.8888888888888888,
              "#fdca26"
             ],
             [
              1,
              "#f0f921"
             ]
            ],
            "type": "histogram2dcontour"
           }
          ],
          "mesh3d": [
           {
            "colorbar": {
             "outlinewidth": 0,
             "ticks": ""
            },
            "type": "mesh3d"
           }
          ],
          "parcoords": [
           {
            "line": {
             "colorbar": {
              "outlinewidth": 0,
              "ticks": ""
             }
            },
            "type": "parcoords"
           }
          ],
          "pie": [
           {
            "automargin": true,
            "type": "pie"
           }
          ],
          "scatter": [
           {
            "fillpattern": {
             "fillmode": "overlay",
             "size": 10,
             "solidity": 0.2
            },
            "type": "scatter"
           }
          ],
          "scatter3d": [
           {
            "line": {
             "colorbar": {
              "outlinewidth": 0,
              "ticks": ""
             }
            },
            "marker": {
             "colorbar": {
              "outlinewidth": 0,
              "ticks": ""
             }
            },
            "type": "scatter3d"
           }
          ],
          "scattercarpet": [
           {
            "marker": {
             "colorbar": {
              "outlinewidth": 0,
              "ticks": ""
             }
            },
            "type": "scattercarpet"
           }
          ],
          "scattergeo": [
           {
            "marker": {
             "colorbar": {
              "outlinewidth": 0,
              "ticks": ""
             }
            },
            "type": "scattergeo"
           }
          ],
          "scattergl": [
           {
            "marker": {
             "colorbar": {
              "outlinewidth": 0,
              "ticks": ""
             }
            },
            "type": "scattergl"
           }
          ],
          "scattermap": [
           {
            "marker": {
             "colorbar": {
              "outlinewidth": 0,
              "ticks": ""
             }
            },
            "type": "scattermap"
           }
          ],
          "scattermapbox": [
           {
            "marker": {
             "colorbar": {
              "outlinewidth": 0,
              "ticks": ""
             }
            },
            "type": "scattermapbox"
           }
          ],
          "scatterpolar": [
           {
            "marker": {
             "colorbar": {
              "outlinewidth": 0,
              "ticks": ""
             }
            },
            "type": "scatterpolar"
           }
          ],
          "scatterpolargl": [
           {
            "marker": {
             "colorbar": {
              "outlinewidth": 0,
              "ticks": ""
             }
            },
            "type": "scatterpolargl"
           }
          ],
          "scatterternary": [
           {
            "marker": {
             "colorbar": {
              "outlinewidth": 0,
              "ticks": ""
             }
            },
            "type": "scatterternary"
           }
          ],
          "surface": [
           {
            "colorbar": {
             "outlinewidth": 0,
             "ticks": ""
            },
            "colorscale": [
             [
              0,
              "#0d0887"
             ],
             [
              0.1111111111111111,
              "#46039f"
             ],
             [
              0.2222222222222222,
              "#7201a8"
             ],
             [
              0.3333333333333333,
              "#9c179e"
             ],
             [
              0.4444444444444444,
              "#bd3786"
             ],
             [
              0.5555555555555556,
              "#d8576b"
             ],
             [
              0.6666666666666666,
              "#ed7953"
             ],
             [
              0.7777777777777778,
              "#fb9f3a"
             ],
             [
              0.8888888888888888,
              "#fdca26"
             ],
             [
              1,
              "#f0f921"
             ]
            ],
            "type": "surface"
           }
          ],
          "table": [
           {
            "cells": {
             "fill": {
              "color": "#EBF0F8"
             },
             "line": {
              "color": "white"
             }
            },
            "header": {
             "fill": {
              "color": "#C8D4E3"
             },
             "line": {
              "color": "white"
             }
            },
            "type": "table"
           }
          ]
         },
         "layout": {
          "annotationdefaults": {
           "arrowcolor": "#2a3f5f",
           "arrowhead": 0,
           "arrowwidth": 1
          },
          "autotypenumbers": "strict",
          "coloraxis": {
           "colorbar": {
            "outlinewidth": 0,
            "ticks": ""
           }
          },
          "colorscale": {
           "diverging": [
            [
             0,
             "#8e0152"
            ],
            [
             0.1,
             "#c51b7d"
            ],
            [
             0.2,
             "#de77ae"
            ],
            [
             0.3,
             "#f1b6da"
            ],
            [
             0.4,
             "#fde0ef"
            ],
            [
             0.5,
             "#f7f7f7"
            ],
            [
             0.6,
             "#e6f5d0"
            ],
            [
             0.7,
             "#b8e186"
            ],
            [
             0.8,
             "#7fbc41"
            ],
            [
             0.9,
             "#4d9221"
            ],
            [
             1,
             "#276419"
            ]
           ],
           "sequential": [
            [
             0,
             "#0d0887"
            ],
            [
             0.1111111111111111,
             "#46039f"
            ],
            [
             0.2222222222222222,
             "#7201a8"
            ],
            [
             0.3333333333333333,
             "#9c179e"
            ],
            [
             0.4444444444444444,
             "#bd3786"
            ],
            [
             0.5555555555555556,
             "#d8576b"
            ],
            [
             0.6666666666666666,
             "#ed7953"
            ],
            [
             0.7777777777777778,
             "#fb9f3a"
            ],
            [
             0.8888888888888888,
             "#fdca26"
            ],
            [
             1,
             "#f0f921"
            ]
           ],
           "sequentialminus": [
            [
             0,
             "#0d0887"
            ],
            [
             0.1111111111111111,
             "#46039f"
            ],
            [
             0.2222222222222222,
             "#7201a8"
            ],
            [
             0.3333333333333333,
             "#9c179e"
            ],
            [
             0.4444444444444444,
             "#bd3786"
            ],
            [
             0.5555555555555556,
             "#d8576b"
            ],
            [
             0.6666666666666666,
             "#ed7953"
            ],
            [
             0.7777777777777778,
             "#fb9f3a"
            ],
            [
             0.8888888888888888,
             "#fdca26"
            ],
            [
             1,
             "#f0f921"
            ]
           ]
          },
          "colorway": [
           "#636efa",
           "#EF553B",
           "#00cc96",
           "#ab63fa",
           "#FFA15A",
           "#19d3f3",
           "#FF6692",
           "#B6E880",
           "#FF97FF",
           "#FECB52"
          ],
          "font": {
           "color": "#2a3f5f"
          },
          "geo": {
           "bgcolor": "white",
           "lakecolor": "white",
           "landcolor": "#E5ECF6",
           "showlakes": true,
           "showland": true,
           "subunitcolor": "white"
          },
          "hoverlabel": {
           "align": "left"
          },
          "hovermode": "closest",
          "mapbox": {
           "style": "light"
          },
          "paper_bgcolor": "white",
          "plot_bgcolor": "#E5ECF6",
          "polar": {
           "angularaxis": {
            "gridcolor": "white",
            "linecolor": "white",
            "ticks": ""
           },
           "bgcolor": "#E5ECF6",
           "radialaxis": {
            "gridcolor": "white",
            "linecolor": "white",
            "ticks": ""
           }
          },
          "scene": {
           "xaxis": {
            "backgroundcolor": "#E5ECF6",
            "gridcolor": "white",
            "gridwidth": 2,
            "linecolor": "white",
            "showbackground": true,
            "ticks": "",
            "zerolinecolor": "white"
           },
           "yaxis": {
            "backgroundcolor": "#E5ECF6",
            "gridcolor": "white",
            "gridwidth": 2,
            "linecolor": "white",
            "showbackground": true,
            "ticks": "",
            "zerolinecolor": "white"
           },
           "zaxis": {
            "backgroundcolor": "#E5ECF6",
            "gridcolor": "white",
            "gridwidth": 2,
            "linecolor": "white",
            "showbackground": true,
            "ticks": "",
            "zerolinecolor": "white"
           }
          },
          "shapedefaults": {
           "line": {
            "color": "#2a3f5f"
           }
          },
          "ternary": {
           "aaxis": {
            "gridcolor": "white",
            "linecolor": "white",
            "ticks": ""
           },
           "baxis": {
            "gridcolor": "white",
            "linecolor": "white",
            "ticks": ""
           },
           "bgcolor": "#E5ECF6",
           "caxis": {
            "gridcolor": "white",
            "linecolor": "white",
            "ticks": ""
           }
          },
          "title": {
           "x": 0.05
          },
          "xaxis": {
           "automargin": true,
           "gridcolor": "white",
           "linecolor": "white",
           "ticks": "",
           "title": {
            "standoff": 15
           },
           "zerolinecolor": "white",
           "zerolinewidth": 2
          },
          "yaxis": {
           "automargin": true,
           "gridcolor": "white",
           "linecolor": "white",
           "ticks": "",
           "title": {
            "standoff": 15
           },
           "zerolinecolor": "white",
           "zerolinewidth": 2
          }
         }
        }
       }
      }
     },
     "metadata": {},
     "output_type": "display_data"
    }
   ],
   "source": [
    "fig = go.Figure()\n",
    "\n",
    "fig.add_trace(\n",
    "    go.Scatter(y = reconstruction_errors)\n",
    ")\n",
    "\n",
    "fig.show()"
   ]
  },
  {
   "cell_type": "markdown",
   "metadata": {},
   "source": [
    "*Structured Random Compression*"
   ]
  },
  {
   "cell_type": "code",
   "execution_count": null,
   "metadata": {},
   "outputs": [
    {
     "name": "stdout",
     "output_type": "stream",
     "text": [
      "Q shape: (100, 15)\n"
     ]
    }
   ],
   "source": [
    "import numpy as np\n",
    "from scipy.linalg import qr\n",
    "\n",
    "def structured_random_compression(A, r, rOV, w):\n",
    "    \"\"\"\n",
    "    Structured random compression algorithm.\n",
    "    \n",
    "    Parameters:\n",
    "    A (numpy array): Input matrix A (m x n)\n",
    "    r (int): Target rank\n",
    "    rOV (int): Oversampling parameter\n",
    "    w (int): Exponent for the power of AAT\n",
    "    \n",
    "    Returns:\n",
    "    Q (numpy array): Compression matrix (m x (r + rOV))\n",
    "    \"\"\"\n",
    "    # Step 1: Draw a Gaussian random matrix Ω_L (n x (r + rOV))\n",
    "    n = A.shape[1]\n",
    "    Omega_L = np.random.randn(n, r + rOV)  # Gaussian random matrix\n",
    "    \n",
    "    # Step 2: Compute B = (A A^T)^w A Omega_L\n",
    "    AtA = np.dot(A, A.T)  # A A^T (m x m)\n",
    "    AtA_w = np.linalg.matrix_power(AtA, w)  # (A A^T)^w (m x m)\n",
    "    B = np.dot(AtA_w, np.dot(A, Omega_L))  # B = (A A^T)^w A Omega_L (m x (r + rOV))\n",
    "    \n",
    "    # Step 3: QR decomposition of B to get Q\n",
    "    Q, _ = qr(B, mode='economic')  # QR decomposition (m x (r + rOV))\n",
    "    \n",
    "    return Q\n",
    "\n",
    "# Example usage\n",
    "np.random.seed(42)\n",
    "\n",
    "# Create a random matrix A (100 samples, 50 features)\n",
    "A = np.abs(np.random.randn(100, 50))\n",
    "\n",
    "# Set parameters: rank (r), oversampling (rOV), and exponent (w)\n",
    "r = 10\n",
    "rOV = 5\n",
    "w = 2\n",
    "\n",
    "# Apply the structured random compression\n",
    "Q = structured_random_compression(A, r, rOV, w)\n",
    "\n",
    "print(\"Q shape:\", Q.shape)"
   ]
  },
  {
   "cell_type": "markdown",
   "metadata": {},
   "source": [
    "*NMF with Structured Random Projection*"
   ]
  },
  {
   "cell_type": "code",
   "execution_count": 34,
   "metadata": {},
   "outputs": [
    {
     "ename": "ValueError",
     "evalue": "shapes (10,50) and (100,15) not aligned: 50 (dim 1) != 100 (dim 0)",
     "output_type": "error",
     "traceback": [
      "\u001b[0;31m---------------------------------------------------------------------------\u001b[0m",
      "\u001b[0;31mValueError\u001b[0m                                Traceback (most recent call last)",
      "Cell \u001b[0;32mIn[34], line 104\u001b[0m\n\u001b[1;32m    101\u001b[0m w \u001b[38;5;241m=\u001b[39m \u001b[38;5;241m2\u001b[39m\n\u001b[1;32m    103\u001b[0m \u001b[38;5;66;03m# Apply NMF with structured random compression\u001b[39;00m\n\u001b[0;32m--> 104\u001b[0m Xk, Yk \u001b[38;5;241m=\u001b[39m \u001b[43mnmf_with_compression\u001b[49m\u001b[43m(\u001b[49m\u001b[43mA\u001b[49m\u001b[43m,\u001b[49m\u001b[43m \u001b[49m\u001b[43mr\u001b[49m\u001b[43m,\u001b[49m\u001b[43m \u001b[49m\u001b[43mrOV\u001b[49m\u001b[43m,\u001b[49m\u001b[43m \u001b[49m\u001b[43mw\u001b[49m\u001b[43m)\u001b[49m\n\u001b[1;32m    106\u001b[0m \u001b[38;5;28mprint\u001b[39m(\u001b[38;5;124m\"\u001b[39m\u001b[38;5;124mXk shape:\u001b[39m\u001b[38;5;124m\"\u001b[39m, Xk\u001b[38;5;241m.\u001b[39mshape)\n\u001b[1;32m    107\u001b[0m \u001b[38;5;28mprint\u001b[39m(\u001b[38;5;124m\"\u001b[39m\u001b[38;5;124mYk shape:\u001b[39m\u001b[38;5;124m\"\u001b[39m, Yk\u001b[38;5;241m.\u001b[39mshape)\n",
      "Cell \u001b[0;32mIn[34], line 61\u001b[0m, in \u001b[0;36mnmf_with_compression\u001b[0;34m(A, r, rOV, w, max_iter, tol)\u001b[0m\n\u001b[1;32m     58\u001b[0m \u001b[38;5;66;03m# Iterate until convergence\u001b[39;00m\n\u001b[1;32m     59\u001b[0m \u001b[38;5;28;01mfor\u001b[39;00m k \u001b[38;5;129;01min\u001b[39;00m \u001b[38;5;28mrange\u001b[39m(max_iter):\n\u001b[1;32m     60\u001b[0m     \u001b[38;5;66;03m# Step 5: Compute Y_k tilde = Y_k * R.T\u001b[39;00m\n\u001b[0;32m---> 61\u001b[0m     Yk_tilde \u001b[38;5;241m=\u001b[39m \u001b[43mnp\u001b[49m\u001b[38;5;241;43m.\u001b[39;49m\u001b[43mdot\u001b[49m\u001b[43m(\u001b[49m\u001b[43mYk\u001b[49m\u001b[43m,\u001b[49m\u001b[43m \u001b[49m\u001b[43mR\u001b[49m\u001b[38;5;241;43m.\u001b[39;49m\u001b[43mT\u001b[49m\u001b[43m)\u001b[49m\n\u001b[1;32m     63\u001b[0m     \u001b[38;5;66;03m# Step 6: Solve for Xk+1 using NNLS (Nonnegative Least Squares)\u001b[39;00m\n\u001b[1;32m     64\u001b[0m     Xk_plus_1 \u001b[38;5;241m=\u001b[39m np\u001b[38;5;241m.\u001b[39mzeros_like(Xk)\n",
      "\u001b[0;31mValueError\u001b[0m: shapes (10,50) and (100,15) not aligned: 50 (dim 1) != 100 (dim 0)"
     ]
    }
   ],
   "source": [
    "import numpy as np\n",
    "from scipy.linalg import qr\n",
    "from scipy.optimize import nnls\n",
    "\n",
    "def structured_random_compression(A, r, rOV, w):\n",
    "    \"\"\"\n",
    "    Structured random compression algorithm.\n",
    "    \n",
    "    Parameters:\n",
    "    A (numpy array): Input matrix A (m x n)\n",
    "    r (int): Target rank\n",
    "    rOV (int): Oversampling parameter\n",
    "    w (int): Exponent for the power of AAT\n",
    "    \n",
    "    Returns:\n",
    "    Q (numpy array): Compression matrix (m x (r + rOV))\n",
    "    \"\"\"\n",
    "    n = A.shape[1]\n",
    "    Omega_L = np.random.randn(n, r + rOV)  # Gaussian random matrix\n",
    "    \n",
    "    # Step 2: Compute B = (A A^T)^w A Omega_L\n",
    "    AtA = np.dot(A, A.T)  # A A^T (m x m)\n",
    "    AtA_w = np.linalg.matrix_power(AtA, w)  # (A A^T)^w (m x m)\n",
    "    B = np.dot(AtA_w, np.dot(A, Omega_L))  # B = (A A^T)^w A Omega_L (m x (r + rOV))\n",
    "    \n",
    "    # Step 3: QR decomposition of B to get Q\n",
    "    Q, _ = qr(B, mode='economic')  # QR decomposition (m x (r + rOV))\n",
    "    \n",
    "    return Q\n",
    "\n",
    "def nmf_with_compression(A, r, rOV, w, max_iter=100, tol=1e-5):\n",
    "    \"\"\"\n",
    "    NMF using structured random compression as described in the algorithm.\n",
    "    \n",
    "    Parameters:\n",
    "    A (numpy array): Input matrix A (m x n)\n",
    "    r (int): Target rank\n",
    "    rOV (int): Oversampling parameter\n",
    "    w (int): Exponent for the power of AAT\n",
    "    max_iter (int): Maximum number of iterations\n",
    "    tol (float): Convergence tolerance\n",
    "    \n",
    "    Returns:\n",
    "    Xk (numpy array): Nonnegative matrix Xk (m x r)\n",
    "    Yk (numpy array): Nonnegative matrix Yk (r x n)\n",
    "    \"\"\"\n",
    "    # Step 1: Compute compression matrices L and R\n",
    "    L = structured_random_compression(A, r, rOV, w)\n",
    "    R = L.T  # R is the transpose of L (r+rOV x m)\n",
    "    \n",
    "    # Step 2: Initialize Yk (r x n) with random nonnegative values\n",
    "    m, n = A.shape\n",
    "    Yk = np.abs(np.random.randn(r, n))  # Random initialization\n",
    "    \n",
    "    # Initialize Xk (m x r) as a random nonnegative matrix\n",
    "    Xk = np.abs(np.random.randn(m, r))\n",
    "    \n",
    "    # Iterate until convergence\n",
    "    for k in range(max_iter):\n",
    "        # Step 5: Compute Y_k tilde = Y_k * R.T\n",
    "        Yk_tilde = np.dot(Yk, R.T)\n",
    "        \n",
    "        # Step 6: Solve for Xk+1 using NNLS (Nonnegative Least Squares)\n",
    "        Xk_plus_1 = np.zeros_like(Xk)\n",
    "        for i in range(m):\n",
    "            # NNLS optimization for each row i\n",
    "            Xk_plus_1[i, :], _ = nnls(Yk_tilde, A[i, :])\n",
    "        \n",
    "        # Step 7: Compute X_hat_k+1 = L^T * Xk+1\n",
    "        X_hat_k_plus_1 = np.dot(L.T, Xk_plus_1)\n",
    "        \n",
    "        # Step 8: Solve for Yk+1 using NNLS\n",
    "        Yk_plus_1 = np.zeros_like(Yk)\n",
    "        for j in range(n):\n",
    "            # NNLS optimization for each column j\n",
    "            Yk_plus_1[:, j], _ = nnls(X_hat_k_plus_1.T, A[:, j])\n",
    "        \n",
    "        # Check for convergence (Frobenius norm difference)\n",
    "        diff_X = np.linalg.norm(Xk_plus_1 - Xk)\n",
    "        diff_Y = np.linalg.norm(Yk_plus_1 - Yk)\n",
    "        \n",
    "        if diff_X < tol and diff_Y < tol:\n",
    "            print(f\"Convergence reached at iteration {k+1}\")\n",
    "            break\n",
    "        \n",
    "        # Update Xk and Yk for the next iteration\n",
    "        Xk = Xk_plus_1\n",
    "        Yk = Yk_plus_1\n",
    "    \n",
    "    return Xk, Yk\n",
    "\n",
    "# Example usage\n",
    "np.random.seed(42)\n",
    "\n",
    "# Create a random matrix A (100 samples, 50 features)\n",
    "A = np.abs(np.random.randn(100, 50))\n",
    "\n",
    "# Set parameters: rank (r), oversampling (rOV), and exponent (w)\n",
    "r = 10\n",
    "rOV = 5\n",
    "w = 2\n",
    "\n",
    "# Apply NMF with structured random compression\n",
    "Xk, Yk = nmf_with_compression(A, r, rOV, w)\n",
    "\n",
    "print(\"Xk shape:\", Xk.shape)\n",
    "print(\"Yk shape:\", Yk.shape)"
   ]
  },
  {
   "cell_type": "code",
   "execution_count": 35,
   "metadata": {},
   "outputs": [
    {
     "ename": "ValueError",
     "evalue": "shapes (10,50) and (100,15) not aligned: 50 (dim 1) != 100 (dim 0)",
     "output_type": "error",
     "traceback": [
      "\u001b[0;31m---------------------------------------------------------------------------\u001b[0m",
      "\u001b[0;31mValueError\u001b[0m                                Traceback (most recent call last)",
      "Cell \u001b[0;32mIn[35], line 35\u001b[0m\n\u001b[1;32m     32\u001b[0m w \u001b[38;5;241m=\u001b[39m \u001b[38;5;241m2\u001b[39m\n\u001b[1;32m     34\u001b[0m \u001b[38;5;66;03m# Apply NMF with structured random compression\u001b[39;00m\n\u001b[0;32m---> 35\u001b[0m Xk, Yk \u001b[38;5;241m=\u001b[39m \u001b[43mnmf_with_compression\u001b[49m\u001b[43m(\u001b[49m\u001b[43mA\u001b[49m\u001b[43m,\u001b[49m\u001b[43m \u001b[49m\u001b[43mr\u001b[49m\u001b[43m,\u001b[49m\u001b[43m \u001b[49m\u001b[43mrOV\u001b[49m\u001b[43m,\u001b[49m\u001b[43m \u001b[49m\u001b[43mw\u001b[49m\u001b[43m)\u001b[49m\n\u001b[1;32m     37\u001b[0m \u001b[38;5;66;03m# Compute the reconstruction error\u001b[39;00m\n\u001b[1;32m     38\u001b[0m reconstruction_error \u001b[38;5;241m=\u001b[39m compute_reconstruction_error(A, Xk, Yk)\n",
      "Cell \u001b[0;32mIn[34], line 61\u001b[0m, in \u001b[0;36mnmf_with_compression\u001b[0;34m(A, r, rOV, w, max_iter, tol)\u001b[0m\n\u001b[1;32m     58\u001b[0m \u001b[38;5;66;03m# Iterate until convergence\u001b[39;00m\n\u001b[1;32m     59\u001b[0m \u001b[38;5;28;01mfor\u001b[39;00m k \u001b[38;5;129;01min\u001b[39;00m \u001b[38;5;28mrange\u001b[39m(max_iter):\n\u001b[1;32m     60\u001b[0m     \u001b[38;5;66;03m# Step 5: Compute Y_k tilde = Y_k * R.T\u001b[39;00m\n\u001b[0;32m---> 61\u001b[0m     Yk_tilde \u001b[38;5;241m=\u001b[39m \u001b[43mnp\u001b[49m\u001b[38;5;241;43m.\u001b[39;49m\u001b[43mdot\u001b[49m\u001b[43m(\u001b[49m\u001b[43mYk\u001b[49m\u001b[43m,\u001b[49m\u001b[43m \u001b[49m\u001b[43mR\u001b[49m\u001b[38;5;241;43m.\u001b[39;49m\u001b[43mT\u001b[49m\u001b[43m)\u001b[49m\n\u001b[1;32m     63\u001b[0m     \u001b[38;5;66;03m# Step 6: Solve for Xk+1 using NNLS (Nonnegative Least Squares)\u001b[39;00m\n\u001b[1;32m     64\u001b[0m     Xk_plus_1 \u001b[38;5;241m=\u001b[39m np\u001b[38;5;241m.\u001b[39mzeros_like(Xk)\n",
      "\u001b[0;31mValueError\u001b[0m: shapes (10,50) and (100,15) not aligned: 50 (dim 1) != 100 (dim 0)"
     ]
    }
   ],
   "source": [
    "import numpy as np\n",
    "\n",
    "# Function to compute reconstruction error (Frobenius norm)\n",
    "def compute_reconstruction_error(A, Xk, Yk):\n",
    "    \"\"\"\n",
    "    Compute the reconstruction error using Frobenius norm.\n",
    "    \n",
    "    Parameters:\n",
    "    A (numpy array): Original matrix A (m x n)\n",
    "    Xk (numpy array): Factorized matrix Xk (m x r)\n",
    "    Yk (numpy array): Factorized matrix Yk (r x n)\n",
    "    \n",
    "    Returns:\n",
    "    float: Reconstruction error (Frobenius norm)\n",
    "    \"\"\"\n",
    "    # Reconstruct the matrix A_hat\n",
    "    A_hat = np.dot(Xk, Yk)\n",
    "    \n",
    "    # Compute the Frobenius norm of the difference between A and A_hat\n",
    "    error = np.linalg.norm(A - A_hat, 'fro')\n",
    "    return error\n",
    "\n",
    "# Example usage:\n",
    "np.random.seed(42)\n",
    "\n",
    "# Create a random matrix A (100 samples, 50 features)\n",
    "A = np.abs(np.random.randn(100, 50))\n",
    "\n",
    "# Set parameters: rank (r), oversampling (rOV), and exponent (w)\n",
    "r = 10\n",
    "rOV = 5\n",
    "w = 2\n",
    "\n",
    "# Apply NMF with structured random compression\n",
    "Xk, Yk = nmf_with_compression(A, r, rOV, w)\n",
    "\n",
    "# Compute the reconstruction error\n",
    "reconstruction_error = compute_reconstruction_error(A, Xk, Yk)\n",
    "print(f\"Reconstruction Error (Frobenius norm): {reconstruction_error}\")\n"
   ]
  },
  {
   "cell_type": "code",
   "execution_count": 36,
   "metadata": {},
   "outputs": [
    {
     "ename": "ValueError",
     "evalue": "shapes (100,100) and (50,15) not aligned: 100 (dim 1) != 50 (dim 0)",
     "output_type": "error",
     "traceback": [
      "\u001b[0;31m---------------------------------------------------------------------------\u001b[0m",
      "\u001b[0;31mValueError\u001b[0m                                Traceback (most recent call last)",
      "Cell \u001b[0;32mIn[36], line 59\u001b[0m\n\u001b[1;32m     56\u001b[0m w \u001b[38;5;241m=\u001b[39m \u001b[38;5;241m2\u001b[39m\n\u001b[1;32m     58\u001b[0m \u001b[38;5;66;03m# Apply NMF with structured random compression\u001b[39;00m\n\u001b[0;32m---> 59\u001b[0m Xk, Yk \u001b[38;5;241m=\u001b[39m \u001b[43mnmf_with_compression\u001b[49m\u001b[43m(\u001b[49m\u001b[43mA\u001b[49m\u001b[43m,\u001b[49m\u001b[43m \u001b[49m\u001b[43mr\u001b[49m\u001b[43m,\u001b[49m\u001b[43m \u001b[49m\u001b[43mrOV\u001b[49m\u001b[43m,\u001b[49m\u001b[43m \u001b[49m\u001b[43mw\u001b[49m\u001b[43m)\u001b[49m\n\u001b[1;32m     61\u001b[0m \u001b[38;5;66;03m# Compute the reconstruction error after the final iteration\u001b[39;00m\n\u001b[1;32m     62\u001b[0m reconstruction_error \u001b[38;5;241m=\u001b[39m np\u001b[38;5;241m.\u001b[39mlinalg\u001b[38;5;241m.\u001b[39mnorm(A \u001b[38;5;241m-\u001b[39m np\u001b[38;5;241m.\u001b[39mdot(Xk, Yk), \u001b[38;5;124m'\u001b[39m\u001b[38;5;124mfro\u001b[39m\u001b[38;5;124m'\u001b[39m)\n",
      "Cell \u001b[0;32mIn[36], line 12\u001b[0m, in \u001b[0;36mnmf_with_compression\u001b[0;34m(A, r, rOV, w, max_iter)\u001b[0m\n\u001b[1;32m     10\u001b[0m \u001b[38;5;66;03m# Compute the matrix B = A * A^T * w * A * Omega_L\u001b[39;00m\n\u001b[1;32m     11\u001b[0m B \u001b[38;5;241m=\u001b[39m np\u001b[38;5;241m.\u001b[39mdot(A, A\u001b[38;5;241m.\u001b[39mT) \u001b[38;5;241m*\u001b[39m\u001b[38;5;241m*\u001b[39m w  \u001b[38;5;66;03m# A * A^T\u001b[39;00m\n\u001b[0;32m---> 12\u001b[0m B \u001b[38;5;241m=\u001b[39m \u001b[43mnp\u001b[49m\u001b[38;5;241;43m.\u001b[39;49m\u001b[43mdot\u001b[49m\u001b[43m(\u001b[49m\u001b[43mB\u001b[49m\u001b[43m,\u001b[49m\u001b[43m \u001b[49m\u001b[43mOmega_L\u001b[49m\u001b[43m)\u001b[49m   \u001b[38;5;66;03m# B = A * A^T * Omega_L\u001b[39;00m\n\u001b[1;32m     13\u001b[0m \u001b[38;5;66;03m# Perform QR decomposition to get Q, an orthogonal matrix\u001b[39;00m\n\u001b[1;32m     14\u001b[0m Q, _ \u001b[38;5;241m=\u001b[39m np\u001b[38;5;241m.\u001b[39mlinalg\u001b[38;5;241m.\u001b[39mqr(B)   \u001b[38;5;66;03m# Q will be our L matrix (m x (r + rOV))\u001b[39;00m\n",
      "\u001b[0;31mValueError\u001b[0m: shapes (100,100) and (50,15) not aligned: 100 (dim 1) != 50 (dim 0)"
     ]
    }
   ],
   "source": [
    "import numpy as np\n",
    "\n",
    "# Function to apply structured random compression-based NMF\n",
    "def nmf_with_compression(A, r, rOV, w, max_iter=100):\n",
    "    m, n = A.shape\n",
    "    \n",
    "    # Step 1: Compute compression matrices L and R\n",
    "    # Draw Gaussian random matrix Omega_L (n x (r + rOV))\n",
    "    Omega_L = np.random.randn(n, r + rOV)\n",
    "    # Compute the matrix B = A * A^T * w * A * Omega_L\n",
    "    B = np.dot(A, A.T) ** w  # A * A^T\n",
    "    B = np.dot(B, Omega_L)   # B = A * A^T * Omega_L\n",
    "    # Perform QR decomposition to get Q, an orthogonal matrix\n",
    "    Q, _ = np.linalg.qr(B)   # Q will be our L matrix (m x (r + rOV))\n",
    "    \n",
    "    # Step 2: Initialize Y_k (r x n), can be done with random values\n",
    "    Yk = np.abs(np.random.randn(r, n))  # Random initialization for Y_k\n",
    "    \n",
    "    # Step 3: Iterative NMF using structured random compression\n",
    "    Xk = np.zeros((m, r))  # Initialize X_k as (m x r)\n",
    "    \n",
    "    for k in range(max_iter):\n",
    "        # Step 5: Compute Y_k tilde = Y_k * R.T\n",
    "        R = np.random.randn(r + rOV, n)  # Generate R matrix (r + rOV, n)\n",
    "        Yk_tilde = np.dot(Yk, R.T)  # Matrix multiplication (r x n) * (n x (r + rOV)) -> (r x (r + rOV))\n",
    "        \n",
    "        # Step 6: Solve for Xk+1 using Nonnegative Least Squares\n",
    "        # This part can be handled using any NNLS solver\n",
    "        # For simplicity, using random initialization and assuming a solver is used here\n",
    "        Xk_plus_1 = np.abs(np.random.randn(m, r))  # Placeholder\n",
    "        \n",
    "        # Step 7: Update Xk (project it back using L.T)\n",
    "        Xk_plus_1 = np.dot(Q.T, Xk_plus_1)  # L^T * Xk+1\n",
    "        \n",
    "        # Step 8: Solve for Yk+1 using Nonnegative Least Squares\n",
    "        Yk_plus_1 = np.abs(np.random.randn(r, n))  # Placeholder\n",
    "        \n",
    "        # Step 9: Update Yk\n",
    "        Yk = Yk_plus_1  # Update Y_k with new values\n",
    "\n",
    "        # Optionally, compute the reconstruction error at each iteration\n",
    "        reconstruction_error = np.linalg.norm(A - np.dot(Xk, Yk), 'fro')\n",
    "        print(f\"Iteration {k+1}: Reconstruction Error: {reconstruction_error}\")\n",
    "\n",
    "    return Xk, Yk\n",
    "\n",
    "# Example usage:\n",
    "np.random.seed(42)\n",
    "\n",
    "# Create a random matrix A (100 samples, 50 features)\n",
    "A = np.abs(np.random.randn(100, 50))\n",
    "\n",
    "# Set parameters: rank (r), oversampling (rOV), and exponent (w)\n",
    "r = 10\n",
    "rOV = 5\n",
    "w = 2\n",
    "\n",
    "# Apply NMF with structured random compression\n",
    "Xk, Yk = nmf_with_compression(A, r, rOV, w)\n",
    "\n",
    "# Compute the reconstruction error after the final iteration\n",
    "reconstruction_error = np.linalg.norm(A - np.dot(Xk, Yk), 'fro')\n",
    "print(f\"Final Reconstruction Error: {reconstruction_error}\")"
   ]
  },
  {
   "cell_type": "code",
   "execution_count": 18,
   "metadata": {},
   "outputs": [
    {
     "ename": "ValueError",
     "evalue": "matmul: Input operand 1 has a mismatch in its core dimension 0, with gufunc signature (n?,k),(k,m?)->(n?,m?) (size 100 is different from 10)",
     "output_type": "error",
     "traceback": [
      "\u001b[0;31m---------------------------------------------------------------------------\u001b[0m",
      "\u001b[0;31mValueError\u001b[0m                                Traceback (most recent call last)",
      "Cell \u001b[0;32mIn[18], line 91\u001b[0m\n\u001b[1;32m     88\u001b[0m r \u001b[38;5;241m=\u001b[39m \u001b[38;5;241m5\u001b[39m   \u001b[38;5;66;03m# Target rank\u001b[39;00m\n\u001b[1;32m     89\u001b[0m rOV \u001b[38;5;241m=\u001b[39m \u001b[38;5;241m5\u001b[39m \u001b[38;5;66;03m# Oversampling parameter\u001b[39;00m\n\u001b[0;32m---> 91\u001b[0m Xk, Yk \u001b[38;5;241m=\u001b[39m \u001b[43mnmf_with_fjlt_compression\u001b[49m\u001b[43m(\u001b[49m\u001b[43mA\u001b[49m\u001b[43m,\u001b[49m\u001b[43m \u001b[49m\u001b[43mr\u001b[49m\u001b[43m,\u001b[49m\u001b[43m \u001b[49m\u001b[43mrOV\u001b[49m\u001b[43m)\u001b[49m\n\u001b[1;32m     92\u001b[0m \u001b[38;5;28mprint\u001b[39m(\u001b[38;5;124m\"\u001b[39m\u001b[38;5;124mFinal X shape:\u001b[39m\u001b[38;5;124m\"\u001b[39m, Xk\u001b[38;5;241m.\u001b[39mshape)\n\u001b[1;32m     93\u001b[0m \u001b[38;5;28mprint\u001b[39m(\u001b[38;5;124m\"\u001b[39m\u001b[38;5;124mFinal Y shape:\u001b[39m\u001b[38;5;124m\"\u001b[39m, Yk\u001b[38;5;241m.\u001b[39mshape)\n",
      "Cell \u001b[0;32mIn[18], line 47\u001b[0m, in \u001b[0;36mnmf_with_fjlt_compression\u001b[0;34m(A, r, rOV, max_iter, tol)\u001b[0m\n\u001b[1;32m     44\u001b[0m R \u001b[38;5;241m=\u001b[39m fast_jlt_transform(A\u001b[38;5;241m.\u001b[39mT, d)  \u001b[38;5;66;03m# (d x n)\u001b[39;00m\n\u001b[1;32m     46\u001b[0m \u001b[38;5;66;03m# Compute compressed approximation\u001b[39;00m\n\u001b[0;32m---> 47\u001b[0m A_hat \u001b[38;5;241m=\u001b[39m \u001b[43mL\u001b[49m\u001b[38;5;241;43m.\u001b[39;49m\u001b[43mT\u001b[49m\u001b[43m \u001b[49m\u001b[38;5;241;43m@\u001b[39;49m\u001b[43m \u001b[49m\u001b[43mA\u001b[49m \u001b[38;5;241m@\u001b[39m R  \u001b[38;5;66;03m# (d x m) @ (m x n) @ (n x d) -> (d x d)\u001b[39;00m\n\u001b[1;32m     49\u001b[0m \u001b[38;5;66;03m# Step 3: Initialize NMF factors\u001b[39;00m\n\u001b[1;32m     50\u001b[0m nmf \u001b[38;5;241m=\u001b[39m NMF(n_components\u001b[38;5;241m=\u001b[39mr, init\u001b[38;5;241m=\u001b[39m\u001b[38;5;124m'\u001b[39m\u001b[38;5;124mrandom\u001b[39m\u001b[38;5;124m'\u001b[39m, solver\u001b[38;5;241m=\u001b[39m\u001b[38;5;124m'\u001b[39m\u001b[38;5;124mmu\u001b[39m\u001b[38;5;124m'\u001b[39m, max_iter\u001b[38;5;241m=\u001b[39m\u001b[38;5;241m500\u001b[39m, random_state\u001b[38;5;241m=\u001b[39m\u001b[38;5;241m42\u001b[39m)\n",
      "\u001b[0;31mValueError\u001b[0m: matmul: Input operand 1 has a mismatch in its core dimension 0, with gufunc signature (n?,k),(k,m?)->(n?,m?) (size 100 is different from 10)"
     ]
    }
   ],
   "source": [
    "import numpy as np\n",
    "from scipy.linalg import hadamard\n",
    "from scipy.sparse import random as sparse_random\n",
    "from sklearn.decomposition import NMF\n",
    "\n",
    "def fast_jlt_transform(A, target_dim):\n",
    "    \"\"\"\n",
    "    Apply the Fast Johnson-Lindenstrauss Transform (FJLT) to matrix A.\n",
    "    \n",
    "    Parameters:\n",
    "    A (numpy array): Input matrix (m x n)\n",
    "    target_dim (int): Target reduced dimension\n",
    "    \n",
    "    Returns:\n",
    "    A_reduced (numpy array): Dimension-reduced matrix (target_dim x n)\n",
    "    \"\"\"\n",
    "    m, n = A.shape\n",
    "\n",
    "    # Step 1: Generate a Hadamard matrix (nearest power of 2)\n",
    "    H_dim = 2**int(np.ceil(np.log2(m)))  # Get the nearest power of 2\n",
    "    H = hadamard(H_dim)[:m, :m]  # Truncate to match dimensions\n",
    "\n",
    "    # Step 2: Create a diagonal sign matrix D (random ±1)\n",
    "    D = np.diag(np.random.choice([-1, 1], size=m))\n",
    "\n",
    "    # Step 3: Apply Hadamard and sign-flipping\n",
    "    HD = H @ D @ A  # (m x n)\n",
    "\n",
    "    # Step 4: Generate a sparse projection matrix P (proper scaling)\n",
    "    P = sparse_random(target_dim, m, density=1/target_dim, format='csr', random_state=42).toarray()\n",
    "    P *= np.sqrt(1 / target_dim)  # Scale projection\n",
    "\n",
    "    # Step 5: Compute the reduced matrix\n",
    "    A_reduced = P @ HD  # (target_dim x n)\n",
    "\n",
    "    return A_reduced\n",
    "\n",
    "def nmf_with_fjlt_compression(A, r, rOV, max_iter=100, tol=1e-4):\n",
    "    m, n = A.shape\n",
    "    d = r + rOV  # Effective reduced dimension\n",
    "    \n",
    "    # Apply FJLT transformations\n",
    "    L = fast_jlt_transform(A, d)  # (d x m)\n",
    "    R = fast_jlt_transform(A.T, d)  # (d x n)\n",
    "\n",
    "    # Compute compressed approximation\n",
    "    A_hat = L.T @ A @ R  # (d x m) @ (m x n) @ (n x d) -> (d x d)\n",
    "\n",
    "    # Step 3: Initialize NMF factors\n",
    "    nmf = NMF(n_components=r, init='random', solver='mu', max_iter=500, random_state=42)\n",
    "    X_k = nmf.fit_transform(A_hat)  # Initial X (d x r)\n",
    "    Y_k = nmf.components_  # Initial Y (r x d)\n",
    "\n",
    "    # Iterate until convergence\n",
    "    prev_error = np.linalg.norm(A_hat - X_k @ Y_k, 'fro')\n",
    "    for k in range(max_iter):\n",
    "        # Step 5: Compute Y_k_tilde = Y_k @ R\n",
    "        Y_k_tilde = np.dot(Y_k, R)  # (r x d) @ (d x n) -> (r x n)\n",
    "\n",
    "        # Step 6: Solve for X_k+1 using Nonnegative Least Squares (NNLS)\n",
    "        nmf = NMF(n_components=r, init='custom', solver='mu', max_iter=500)\n",
    "        X_k_plus_1 = nmf.fit_transform(A, W=X_k, H=Y_k_tilde)  # (m x r)\n",
    "        \n",
    "        # Step 7: Compute X_k+1_tilde = L.T @ X_k+1\n",
    "        X_k_plus_1_tilde = np.dot(L.T, X_k_plus_1)  # (m x d) @ (d x r) -> (m x r)\n",
    "\n",
    "        # Step 8: Solve for Y_k+1 using NNLS\n",
    "        nmf = NMF(n_components=r, init='custom', solver='mu', max_iter=500)\n",
    "        Y_k_plus_1 = nmf.fit_transform(A_hat, W=X_k_plus_1_tilde, H=Y_k)  # (r x d)\n",
    "\n",
    "        # Compute reconstruction error\n",
    "        reconstruction_error = np.linalg.norm(A_hat - X_k_plus_1_tilde @ Y_k_plus_1, 'fro')\n",
    "        print(f\"Iteration {k+1}: Reconstruction Error = {reconstruction_error:.6f}\")\n",
    "\n",
    "        # Convergence check\n",
    "        if abs(prev_error - reconstruction_error) < tol:\n",
    "            break\n",
    "        prev_error = reconstruction_error\n",
    "\n",
    "        # Update X_k and Y_k\n",
    "        X_k, Y_k = X_k_plus_1, Y_k_plus_1\n",
    "\n",
    "    return X_k, Y_k\n",
    "\n",
    "# Example Usage\n",
    "np.random.seed(42)\n",
    "A = np.abs(np.random.randn(100, 50))  # Nonnegative matrix (100 features, 50 samples)\n",
    "r = 5   # Target rank\n",
    "rOV = 5 # Oversampling parameter\n",
    "\n",
    "Xk, Yk = nmf_with_fjlt_compression(A, r, rOV)\n",
    "print(\"Final X shape:\", Xk.shape)\n",
    "print(\"Final Y shape:\", Yk.shape)"
   ]
  },
  {
   "cell_type": "markdown",
   "metadata": {},
   "source": [
    "**Structured Random Compression Fig 1**"
   ]
  },
  {
   "cell_type": "code",
   "execution_count": 19,
   "metadata": {},
   "outputs": [
    {
     "name": "stdout",
     "output_type": "stream",
     "text": [
      "Compression matrix Q shape: (100, 10)\n"
     ]
    }
   ],
   "source": [
    "import numpy as np\n",
    "\n",
    "def randomized_compression(A, r, rOV, w):\n",
    "    \"\"\"\n",
    "    Compute a compression matrix Q for A using a randomized algorithm.\n",
    "\n",
    "    Parameters:\n",
    "    A (numpy array): Input matrix (m x n)\n",
    "    r (int): Target rank\n",
    "    rOV (int): Oversampling parameter\n",
    "    w (int): Exponent for the power iteration\n",
    "\n",
    "    Returns:\n",
    "    Q (numpy array): Compression matrix (m x (r + rOV))\n",
    "    \"\"\"\n",
    "    m, n = A.shape\n",
    "    d = r + rOV  # Effective reduced dimension\n",
    "\n",
    "    # Step 1: Draw a Gaussian random matrix Omega_L\n",
    "    Omega_L = np.random.randn(n, d)\n",
    "\n",
    "    # Step 2: Compute B = (A A^T)^w A Omega_L\n",
    "    B = A @ Omega_L  # Initial multiplication: A Omega_L\n",
    "    for _ in range(w):\n",
    "        B = A @ (A.T @ B)  # Power iteration: (A A^T) B\n",
    "\n",
    "    # Step 3: Compute the orthogonal basis Q using QR decomposition\n",
    "    Q, _ = np.linalg.qr(B)\n",
    "\n",
    "    return Q\n",
    "\n",
    "# Example Usage\n",
    "np.random.seed(42)\n",
    "A = np.random.randn(100, 50)  # Input matrix (100 x 50)\n",
    "r = 5   # Target rank\n",
    "rOV = 5 # Oversampling parameter\n",
    "w = 2   # Exponent\n",
    "\n",
    "Q = randomized_compression(A, r, rOV, w)\n",
    "print(\"Compression matrix Q shape:\", Q.shape)"
   ]
  },
  {
   "cell_type": "markdown",
   "metadata": {},
   "source": [
    "**NMF with Structured Random Compression Fig 2**"
   ]
  },
  {
   "cell_type": "code",
   "execution_count": 24,
   "metadata": {},
   "outputs": [
    {
     "ename": "ValueError",
     "evalue": "matmul: Input operand 1 has a mismatch in its core dimension 0, with gufunc signature (n?,k),(k,m?)->(n?,m?) (size 50 is different from 5)",
     "output_type": "error",
     "traceback": [
      "\u001b[0;31m---------------------------------------------------------------------------\u001b[0m",
      "\u001b[0;31mValueError\u001b[0m                                Traceback (most recent call last)",
      "Cell \u001b[0;32mIn[24], line 108\u001b[0m\n\u001b[1;32m    105\u001b[0m rOV \u001b[38;5;241m=\u001b[39m \u001b[38;5;241m5\u001b[39m \u001b[38;5;66;03m# Oversampling parameter\u001b[39;00m\n\u001b[1;32m    106\u001b[0m w \u001b[38;5;241m=\u001b[39m \u001b[38;5;241m2\u001b[39m   \u001b[38;5;66;03m# Exponent\u001b[39;00m\n\u001b[0;32m--> 108\u001b[0m Xk, Yk \u001b[38;5;241m=\u001b[39m \u001b[43mnmf_with_compression\u001b[49m\u001b[43m(\u001b[49m\u001b[43mA\u001b[49m\u001b[43m,\u001b[49m\u001b[43m \u001b[49m\u001b[43mr\u001b[49m\u001b[43m,\u001b[49m\u001b[43m \u001b[49m\u001b[43mrOV\u001b[49m\u001b[43m,\u001b[49m\u001b[43m \u001b[49m\u001b[43mw\u001b[49m\u001b[43m)\u001b[49m\n\u001b[1;32m    109\u001b[0m \u001b[38;5;28mprint\u001b[39m(\u001b[38;5;124m\"\u001b[39m\u001b[38;5;124mFinal X shape:\u001b[39m\u001b[38;5;124m\"\u001b[39m, Xk\u001b[38;5;241m.\u001b[39mshape)\n\u001b[1;32m    110\u001b[0m \u001b[38;5;28mprint\u001b[39m(\u001b[38;5;124m\"\u001b[39m\u001b[38;5;124mFinal Y shape:\u001b[39m\u001b[38;5;124m\"\u001b[39m, Yk\u001b[38;5;241m.\u001b[39mshape)\n",
      "Cell \u001b[0;32mIn[24], line 74\u001b[0m, in \u001b[0;36mnmf_with_compression\u001b[0;34m(A, r, rOV, w, max_iter, tol)\u001b[0m\n\u001b[1;32m     71\u001b[0m prev_error \u001b[38;5;241m=\u001b[39m np\u001b[38;5;241m.\u001b[39minf\n\u001b[1;32m     72\u001b[0m \u001b[38;5;28;01mfor\u001b[39;00m k \u001b[38;5;129;01min\u001b[39;00m \u001b[38;5;28mrange\u001b[39m(max_iter):\n\u001b[1;32m     73\u001b[0m     \u001b[38;5;66;03m# Step 4: Compute Y_check_k = Y_k R^T\u001b[39;00m\n\u001b[0;32m---> 74\u001b[0m     Y_check_k \u001b[38;5;241m=\u001b[39m \u001b[43mY_k\u001b[49m\u001b[43m \u001b[49m\u001b[38;5;241;43m@\u001b[39;49m\u001b[43m \u001b[49m\u001b[43mR\u001b[49m\u001b[38;5;241;43m.\u001b[39;49m\u001b[43mT\u001b[49m  \u001b[38;5;66;03m# Y_check_k ∈ R^(r x d)\u001b[39;00m\n\u001b[1;32m     76\u001b[0m     \u001b[38;5;66;03m# Step 5: Solve for X_k+1 ≥ 0\u001b[39;00m\n\u001b[1;32m     77\u001b[0m     nmf \u001b[38;5;241m=\u001b[39m NMF(n_components\u001b[38;5;241m=\u001b[39mr, init\u001b[38;5;241m=\u001b[39m\u001b[38;5;124m'\u001b[39m\u001b[38;5;124mrandom\u001b[39m\u001b[38;5;124m'\u001b[39m, solver\u001b[38;5;241m=\u001b[39m\u001b[38;5;124m'\u001b[39m\u001b[38;5;124mmu\u001b[39m\u001b[38;5;124m'\u001b[39m, max_iter\u001b[38;5;241m=\u001b[39m\u001b[38;5;241m500\u001b[39m, random_state\u001b[38;5;241m=\u001b[39m\u001b[38;5;241m42\u001b[39m)\n",
      "\u001b[0;31mValueError\u001b[0m: matmul: Input operand 1 has a mismatch in its core dimension 0, with gufunc signature (n?,k),(k,m?)->(n?,m?) (size 50 is different from 5)"
     ]
    }
   ],
   "source": [
    "import numpy as np\n",
    "from sklearn.decomposition import NMF\n",
    "\n",
    "def randomized_compression(A, r, rOV, w):\n",
    "    \"\"\"\n",
    "    Compute a compression matrix Q for A using a randomized algorithm.\n",
    "\n",
    "    Parameters:\n",
    "    A (numpy array): Input matrix (m x n)\n",
    "    r (int): Target rank\n",
    "    rOV (int): Oversampling parameter\n",
    "    w (int): Exponent for the power iteration\n",
    "\n",
    "    Returns:\n",
    "    Q (numpy array): Compression matrix (m x (r + rOV))\n",
    "    \"\"\"\n",
    "    m, n = A.shape\n",
    "    d = r + rOV  # Effective reduced dimension\n",
    "\n",
    "    # Step 1: Draw a Gaussian random matrix Omega_L\n",
    "    Omega_L = np.random.randn(n, d)\n",
    "\n",
    "    # Step 2: Compute B = (A A^T)^w A Omega_L\n",
    "    B = A @ Omega_L  # Initial multiplication: A Omega_L\n",
    "    for _ in range(w):\n",
    "        B = A @ (A.T @ B)  # Power iteration: (A A^T) B\n",
    "\n",
    "    # Step 3: Compute the orthogonal basis Q using QR decomposition\n",
    "    Q, _ = np.linalg.qr(B)\n",
    "\n",
    "    return Q\n",
    "\n",
    "def nmf_with_compression(A, r, rOV, w, max_iter=100, tol=1e-4):\n",
    "    \"\"\"\n",
    "    Compute NMF with compression matrices L and R.\n",
    "\n",
    "    Parameters:\n",
    "    A (numpy array): Input matrix (m x n)\n",
    "    r (int): Target rank\n",
    "    rOV (int): Oversampling parameter\n",
    "    w (int): Exponent for the power iteration\n",
    "    max_iter (int): Maximum number of iterations\n",
    "    tol (float): Convergence tolerance\n",
    "\n",
    "    Returns:\n",
    "    X_k (numpy array): Nonnegative matrix (m x r)\n",
    "    Y_k (numpy array): Nonnegative matrix (r x n)\n",
    "    \"\"\"\n",
    "    m, n = A.shape\n",
    "    d = r + rOV  # Effective reduced dimension\n",
    "\n",
    "    # Ensure A is nonnegative\n",
    "    A = np.abs(A)\n",
    "\n",
    "    # Step 1: Compute compression matrices L and R\n",
    "    L = randomized_compression(A, r, rOV, w)  # L ∈ R^(m x d)\n",
    "    R = randomized_compression(A.T, r, rOV, w).T  # R ∈ R^(d x n)\n",
    "\n",
    "    # Step 2: Initialize Y_k with nonnegative values\n",
    "    Y_k = np.abs(np.random.randn(r, n))  # Y_k ∈ R^(r x n)\n",
    "\n",
    "    # Step 3: Compute compressed matrices\n",
    "    A_check = A @ R.T  # A_check ∈ R^(m x d)\n",
    "    A_hat = L.T @ A  # A_hat ∈ R^(d x n)\n",
    "\n",
    "    # Ensure compressed matrices are nonnegative\n",
    "    A_check = np.abs(A_check)\n",
    "    A_hat = np.abs(A_hat)\n",
    "\n",
    "    # Iterate until convergence\n",
    "    prev_error = np.inf\n",
    "    for k in range(max_iter):\n",
    "        # Step 4: Compute Y_check_k = Y_k R^T\n",
    "        Y_check_k = Y_k @ R.T  # Y_check_k ∈ R^(r x d)\n",
    "\n",
    "        # Step 5: Solve for X_k+1 ≥ 0\n",
    "        nmf = NMF(n_components=r, init='random', solver='mu', max_iter=500, random_state=42)\n",
    "        X_k_plus_1 = nmf.fit_transform(A_check)  # X_k+1 ∈ R^(m x r)\n",
    "\n",
    "        # Step 6: Compute X_hat_k+1 = L^T X_k+1\n",
    "        X_hat_k_plus_1 = L.T @ X_k_plus_1  # X_hat_k+1 ∈ R^(d x r)\n",
    "\n",
    "        # Step 7: Solve for Y_k+1 ≥ 0\n",
    "        nmf = NMF(n_components=r, init='random', solver='mu', max_iter=500, random_state=42)\n",
    "        Y_k_plus_1 = nmf.fit_transform(A_hat)  # Y_k+1 ∈ R^(r x n)\n",
    "\n",
    "        # Compute reconstruction error\n",
    "        # reconstruction_error = np.linalg.norm(A - X_k_plus_1 @ Y_k_plus_1, 'fro')\n",
    "        # print(f\"Iteration {k+1}: Reconstruction Error = {reconstruction_error:.6f}\")\n",
    "\n",
    "        # Convergence check\n",
    "        # if abs(prev_error - reconstruction_error) < tol:\n",
    "        #    break\n",
    "        # prev_error = reconstruction_error\n",
    "\n",
    "        # Update Y_k\n",
    "        Y_k = Y_k_plus_1\n",
    "\n",
    "    return X_k_plus_1, Y_k_plus_1\n",
    "\n",
    "# Example Usage\n",
    "np.random.seed(42)\n",
    "A = np.abs(np.random.randn(100, 50))  # Nonnegative matrix (100 x 50)\n",
    "r = 5   # Target rank\n",
    "rOV = 5 # Oversampling parameter\n",
    "w = 2   # Exponent\n",
    "\n",
    "Xk, Yk = nmf_with_compression(A, r, rOV, w)\n",
    "print(\"Final X shape:\", Xk.shape)\n",
    "print(\"Final Y shape:\", Yk.shape)"
   ]
  },
  {
   "cell_type": "code",
   "execution_count": 25,
   "metadata": {},
   "outputs": [
    {
     "ename": "NameError",
     "evalue": "name 'A_hec' is not defined",
     "output_type": "error",
     "traceback": [
      "\u001b[0;31m---------------------------------------------------------------------------\u001b[0m",
      "\u001b[0;31mNameError\u001b[0m                                 Traceback (most recent call last)",
      "Cell \u001b[0;32mIn[25], line 1\u001b[0m\n\u001b[0;32m----> 1\u001b[0m \u001b[43mA_hec\u001b[49m\n",
      "\u001b[0;31mNameError\u001b[0m: name 'A_hec' is not defined"
     ]
    }
   ],
   "source": [
    "A_hec"
   ]
  },
  {
   "cell_type": "code",
   "execution_count": null,
   "metadata": {},
   "outputs": [],
   "source": []
  }
 ],
 "metadata": {
  "kernelspec": {
   "display_name": ".venv",
   "language": "python",
   "name": "python3"
  },
  "language_info": {
   "codemirror_mode": {
    "name": "ipython",
    "version": 3
   },
   "file_extension": ".py",
   "mimetype": "text/x-python",
   "name": "python",
   "nbconvert_exporter": "python",
   "pygments_lexer": "ipython3",
   "version": "3.9.6"
  }
 },
 "nbformat": 4,
 "nbformat_minor": 2
}
