{
 "cells": [
  {
   "cell_type": "markdown",
   "metadata": {},
   "source": [
    "### Notes"
   ]
  },
  {
   "cell_type": "markdown",
   "metadata": {},
   "source": [
    "### Introduction\n",
    "\n",
    "- Simple introduction of NMF\n",
    "- review of the problem definition and its variants (traditional nmf and seperable nmf)\n",
    "- review of intialization methods\n",
    "- compression algorithm from paper\n",
    "- FJLT Statements\n",
    "- Extension and comparison with additional "
   ]
  },
  {
   "cell_type": "markdown",
   "metadata": {},
   "source": [
    "##### **JL** "
   ]
  },
  {
   "cell_type": "markdown",
   "metadata": {},
   "source": [
    "The Johnson Lindenstrauss Lemma is a result that says a set of n points in high-dimensional space R^d can be mapped to a lower dimensional space R^k, where k << d, such that the pariwise distances between the points are approximately presevered.\n",
    "\n",
    "Mathematically, if \n",
    "$$\n",
    "X = \\{ x_1, x_2, \\dots, x_n \\} \\subseteq \\mathbb{R}^d,\n",
    "$$\n",
    "there is a mapping \n",
    "$$\n",
    "f: \\mathbb{R}^d \\to \\mathbb{R}^k\n",
    "$$\n",
    "such that for all pairs $x_i, x_j \\in X$, the following holds:\n",
    "$$\n",
    "(1 - \\epsilon) \\| x_i - x_j \\|_2 \\leq \\| f(x_i) - f(x_j) \\|_2 \\leq (1 + \\epsilon) \\| x_i - x_j \\|_2\n",
    "$$\n",
    "\n",
    "where $\\epsilon$ is a small positive number (a distortion factor), and $k$ is the reduced dimension. The lemma asserts that the distortion of pairwise distances is bounded by $(1 + \\epsilon)$ or $(1 - \\epsilon)$, and $k$ can be chosen to be\n",
    "$$\n",
    "O \\left( \\frac{\\log n}{\\epsilon^2} \\right),\n",
    "$$\n",
    "\n",
    "which is much smaller than the original dimension $d$.\n",
    "\n",
    "\n",
    "#### Gaussian Projection\n",
    "\n",
    "One common implementation of the JL lemma is to utilize a gaussian random projection, where a normal gaussian projection matrix $R^{k \\times d}$ is used to perform the projection.\n"
   ]
  },
  {
   "cell_type": "markdown",
   "metadata": {},
   "source": [
    "##### **FJLT**"
   ]
  },
  {
   "cell_type": "markdown",
   "metadata": {},
   "source": [
    "FJLT is a faster way to compute random projections, such as the randomized gaussian projection. It leverages both random fourier transofrms and sparse matrices to speed up this process. As a result of its structure, it results in faster and sparser projection than traditional gaussian random projections."
   ]
  },
  {
   "cell_type": "code",
   "execution_count": null,
   "metadata": {
    "vscode": {
     "languageId": "plaintext"
    }
   },
   "outputs": [],
   "source": []
  }
 ],
 "metadata": {
  "language_info": {
   "name": "python"
  }
 },
 "nbformat": 4,
 "nbformat_minor": 2
}
