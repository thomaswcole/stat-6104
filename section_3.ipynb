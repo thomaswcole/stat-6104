{
 "cells": [
  {
   "cell_type": "markdown",
   "metadata": {},
   "source": [
    "**Section 3: Compression Algorithms**"
   ]
  },
  {
   "cell_type": "markdown",
   "metadata": {},
   "source": [
    "*Imports*"
   ]
  },
  {
   "cell_type": "code",
   "execution_count": 18,
   "metadata": {},
   "outputs": [],
   "source": [
    "import pandas as pd\n",
    "import numpy as np\n",
    "import plotly.graph_objects as go\n",
    "from plotly.subplots import make_subplots\n",
    "\n",
    "import timeit\n",
    "import math\n",
    "\n",
    "from collections import defaultdict\n",
    "from random_matrix import *\n",
    "from scipy.sparse import csr_matrix"
   ]
  },
  {
   "cell_type": "markdown",
   "metadata": {},
   "source": [
    "**Code**"
   ]
  },
  {
   "cell_type": "code",
   "execution_count": 19,
   "metadata": {},
   "outputs": [],
   "source": [
    "def randomized_power_iteration(A, omega=None, power_iter=3, random_state=None):\n",
    "    \"\"\"\n",
    "    Randomized subspace iteration with customizable projection matrix\n",
    "    \n",
    "    Parameters:\n",
    "    -----------\n",
    "    A : ndarray\n",
    "        Input matrix to approximate\n",
    "    rank : int\n",
    "        Target rank of approximation\n",
    "    omega : ndarray, optional\n",
    "        Custom projection matrix (shape n × (rank + oversampling))\n",
    "        If None, uses Gaussian random matrix\n",
    "    power_iter : int\n",
    "        Number of power iterations\n",
    "    random_state : int, optional\n",
    "        Random seed for reproducibility\n",
    "    \"\"\"\n",
    "    if random_state is not None:\n",
    "        np.random.seed(random_state)\n",
    "    \n",
    "    Y = omega @ A\n",
    "    for _ in range(power_iter):\n",
    "        Y = (Y @ A.T) @ A  # Power iteration for row space\n",
    "    \n",
    "    Q, _ = np.linalg.qr(Y)\n",
    "    return Q"
   ]
  },
  {
   "cell_type": "markdown",
   "metadata": {},
   "source": [
    "*Benchmarking*"
   ]
  },
  {
   "cell_type": "code",
   "execution_count": 20,
   "metadata": {},
   "outputs": [
    {
     "name": "stdout",
     "output_type": "stream",
     "text": [
      "Completed benchmarking for matrix size: 1000\n",
      "Completed benchmarking for matrix size: 1000\n",
      "Completed benchmarking for matrix size: 2000\n",
      "Completed benchmarking for matrix size: 2000\n",
      "Completed benchmarking for matrix size: 3000\n",
      "Completed benchmarking for matrix size: 3000\n",
      "Completed benchmarking for matrix size: 4000\n",
      "Completed benchmarking for matrix size: 4000\n",
      "Completed benchmarking for matrix size: 5000\n",
      "Completed benchmarking for matrix size: 5000\n"
     ]
    }
   ],
   "source": [
    "# Matrix Methods\n",
    "methods = {\n",
    "    \"Gaussian\": gaussian_random_matrix,\n",
    "    \"SRHT\": srht_matrix,\n",
    "    \"SRFT\": srft_matrix,\n",
    "    \"CountSketch\": countsketch_matrix,\n",
    "    \"Sparse JL\": lambda n, k, seed: sparse_jl_matrix(n, k, s=3, seed=seed)\n",
    "}\n",
    "\n",
    "# Parameters\n",
    "sizes = np.arange(1_000, 5_001, 1_000)\n",
    "runs = 10\n",
    "q = 2  # Number of power iterations for RPI\n",
    "\n",
    "rows = []\n",
    "for n in sizes:\n",
    "    # Generate Random Matrix A to Project\n",
    "    np.random.seed(1)\n",
    "    m = int(0.75*n)\n",
    "    for density,label in [(1.0,'dense'),(0.01,'sparse')]:\n",
    "        A,_,_ = generate_synthetic_matrix(m,n,delta = density,seed = 1) \n",
    "        for method_name, method in methods.items():\n",
    "            generation_times = []\n",
    "            projection_times = []\n",
    "            rpi_times = []\n",
    "            total_times = []\n",
    "            \n",
    "            for i in range(runs):\n",
    "                seed = i + 1\n",
    "\n",
    "                # Time projection matrix generation\n",
    "                timer_proj = timeit.Timer(lambda: method(n, m, seed=seed))\n",
    "                generation_time = timer_proj.timeit(number=1)  # Single run as creation is deterministic per seed\n",
    "                \n",
    "                # Generate projection matrix\n",
    "                sigma = method(n, m, seed=seed)\n",
    "                \n",
    "                # Time projection operation\n",
    "                timer_mult = timeit.Timer(lambda: sigma @ A)\n",
    "                mult_time = timer_mult.timeit(number=1) \n",
    "                \n",
    "                # Time RPI operation\n",
    "                timer_rpi = timeit.Timer(lambda: randomized_power_iteration(A = A, omega = sigma, power_iter = q))\n",
    "                rpi_time = timer_rpi.timeit(number=1)\n",
    "                \n",
    "                generation_times.append(generation_time)\n",
    "                projection_times.append(mult_time)\n",
    "                rpi_times.append(rpi_time)\n",
    "                total_times.append(generation_time + mult_time + rpi_time)\n",
    "            \n",
    "            # Store average times\n",
    "            rows.append(\n",
    "                {\n",
    "                    'Method':method_name,\n",
    "                    'Size':n,\n",
    "                    'Density':label,\n",
    "                    'Generation Time': np.mean(generation_times),\n",
    "                    'Projection Time': np.mean(projection_times),\n",
    "                    'RPI Time':np.mean(rpi_times),\n",
    "                    'Total Time': np.mean(total_times)  \n",
    "                }\n",
    "            )\n",
    "        print(f'Completed benchmarking for matrix size: {n}')"
   ]
  },
  {
   "cell_type": "code",
   "execution_count": 21,
   "metadata": {},
   "outputs": [
    {
     "data": {
      "text/html": [
       "<div>\n",
       "<style scoped>\n",
       "    .dataframe tbody tr th:only-of-type {\n",
       "        vertical-align: middle;\n",
       "    }\n",
       "\n",
       "    .dataframe tbody tr th {\n",
       "        vertical-align: top;\n",
       "    }\n",
       "\n",
       "    .dataframe thead th {\n",
       "        text-align: right;\n",
       "    }\n",
       "</style>\n",
       "<table border=\"1\" class=\"dataframe\">\n",
       "  <thead>\n",
       "    <tr style=\"text-align: right;\">\n",
       "      <th></th>\n",
       "      <th>Method</th>\n",
       "      <th>Size</th>\n",
       "      <th>Density</th>\n",
       "      <th>Generation Time</th>\n",
       "      <th>Projection Time</th>\n",
       "      <th>RPI Time</th>\n",
       "      <th>Total Time</th>\n",
       "    </tr>\n",
       "  </thead>\n",
       "  <tbody>\n",
       "    <tr>\n",
       "      <th>0</th>\n",
       "      <td>Gaussian</td>\n",
       "      <td>1000</td>\n",
       "      <td>dense</td>\n",
       "      <td>0.010597</td>\n",
       "      <td>0.003181</td>\n",
       "      <td>0.052571</td>\n",
       "      <td>0.066349</td>\n",
       "    </tr>\n",
       "    <tr>\n",
       "      <th>1</th>\n",
       "      <td>SRHT</td>\n",
       "      <td>1000</td>\n",
       "      <td>dense</td>\n",
       "      <td>0.010858</td>\n",
       "      <td>0.003321</td>\n",
       "      <td>0.053530</td>\n",
       "      <td>0.067709</td>\n",
       "    </tr>\n",
       "    <tr>\n",
       "      <th>2</th>\n",
       "      <td>SRFT</td>\n",
       "      <td>1000</td>\n",
       "      <td>dense</td>\n",
       "      <td>0.017795</td>\n",
       "      <td>0.002990</td>\n",
       "      <td>0.053440</td>\n",
       "      <td>0.074225</td>\n",
       "    </tr>\n",
       "    <tr>\n",
       "      <th>3</th>\n",
       "      <td>CountSketch</td>\n",
       "      <td>1000</td>\n",
       "      <td>dense</td>\n",
       "      <td>0.000234</td>\n",
       "      <td>0.001229</td>\n",
       "      <td>0.053083</td>\n",
       "      <td>0.054546</td>\n",
       "    </tr>\n",
       "    <tr>\n",
       "      <th>4</th>\n",
       "      <td>Sparse JL</td>\n",
       "      <td>1000</td>\n",
       "      <td>dense</td>\n",
       "      <td>0.000279</td>\n",
       "      <td>0.001106</td>\n",
       "      <td>0.052129</td>\n",
       "      <td>0.053513</td>\n",
       "    </tr>\n",
       "  </tbody>\n",
       "</table>\n",
       "</div>"
      ],
      "text/plain": [
       "        Method  Size Density  Generation Time  Projection Time  RPI Time  \\\n",
       "0     Gaussian  1000   dense         0.010597         0.003181  0.052571   \n",
       "1         SRHT  1000   dense         0.010858         0.003321  0.053530   \n",
       "2         SRFT  1000   dense         0.017795         0.002990  0.053440   \n",
       "3  CountSketch  1000   dense         0.000234         0.001229  0.053083   \n",
       "4    Sparse JL  1000   dense         0.000279         0.001106  0.052129   \n",
       "\n",
       "   Total Time  \n",
       "0    0.066349  \n",
       "1    0.067709  \n",
       "2    0.074225  \n",
       "3    0.054546  \n",
       "4    0.053513  "
      ]
     },
     "execution_count": 21,
     "metadata": {},
     "output_type": "execute_result"
    }
   ],
   "source": [
    "summary_df = pd.DataFrame(rows)\n",
    "summary_df.head()"
   ]
  },
  {
   "cell_type": "markdown",
   "metadata": {},
   "source": [
    "***Figure 1: Generation Cost***"
   ]
  },
  {
   "cell_type": "code",
<<<<<<< HEAD
<<<<<<< Updated upstream
   "execution_count": 18,
=======
   "execution_count": 21,
>>>>>>> Stashed changes
=======
   "execution_count": 27,
>>>>>>> d28c5395083ce351e8d8487a0ccfc04d9da133e5
   "metadata": {},
   "outputs": [
    {
     "data": {
      "application/vnd.plotly.v1+json": {
       "config": {
        "plotlyServerURL": "https://plot.ly"
       },
       "data": [
        {
         "name": "Gaussian",
         "type": "scatter",
         "x": {
          "bdata": "6APQB7gLoA+IEw==",
          "dtype": "i2"
         },
         "y": {
          "bdata": "mpmZAbmzhT8AAAB6QfqkPzMzM++vmrc/AACAbQebxD8AAABe61rQPw==",
          "dtype": "f8"
         }
        },
        {
         "name": "SRHT",
         "type": "scatter",
         "x": {
          "bdata": "6APQB7gLoA+IEw==",
          "dtype": "i2"
         },
         "y": {
          "bdata": "MzMzU3Y8hj/NzMwMg1yqPzMzszAse8o/AACAdar8zj8AAACplr/nPw==",
          "dtype": "f8"
         }
        },
        {
         "name": "SRFT",
         "type": "scatter",
         "x": {
          "bdata": "6APQB7gLoA+IEw==",
          "dtype": "i2"
         },
         "y": {
          "bdata": "ZmZmBro4kj8AAABZqgOwP2ZmZgDL48E/mpkZbS+Szz/NzIyR6ybZPw==",
          "dtype": "f8"
         }
        },
        {
         "name": "CountSketch",
         "type": "scatter",
         "x": {
          "bdata": "6APQB7gLoA+IEw==",
          "dtype": "i2"
         },
         "y": {
          "bdata": "MzMzMxOtLj8AAAAAHlEtP83MzMwwBTA/mpmZmbYIMD9mZmZmGAoyPw==",
          "dtype": "f8"
         }
        },
        {
         "name": "Sparse JL",
         "type": "scatter",
         "x": {
          "bdata": "6APQB7gLoA+IEw==",
          "dtype": "i2"
         },
         "y": {
          "bdata": "mpmZmZ9AMj8zMzMzzOk1P2ZmZmbpVjk/mpmZmckhPD/NzMzMwYpBPw==",
          "dtype": "f8"
         }
        }
       ],
       "layout": {
        "font": {
         "color": "black",
<<<<<<< HEAD
         "size": 8
=======
         "size": 10
>>>>>>> d28c5395083ce351e8d8487a0ccfc04d9da133e5
        },
        "height": 400,
        "legend": {
         "orientation": "h",
         "x": 0.5,
         "xanchor": "center",
         "y": -0.1,
         "yanchor": "top"
        },
        "margin": {
         "b": 20,
         "l": 20,
         "r": 20,
         "t": 30
        },
        "template": {
         "data": {
          "bar": [
           {
            "error_x": {
             "color": "#2a3f5f"
            },
            "error_y": {
             "color": "#2a3f5f"
            },
            "marker": {
             "line": {
              "color": "white",
              "width": 0.5
             },
             "pattern": {
              "fillmode": "overlay",
              "size": 10,
              "solidity": 0.2
             }
            },
            "type": "bar"
           }
          ],
          "barpolar": [
           {
            "marker": {
             "line": {
              "color": "white",
              "width": 0.5
             },
             "pattern": {
              "fillmode": "overlay",
              "size": 10,
              "solidity": 0.2
             }
            },
            "type": "barpolar"
           }
          ],
          "carpet": [
           {
            "aaxis": {
             "endlinecolor": "#2a3f5f",
             "gridcolor": "#C8D4E3",
             "linecolor": "#C8D4E3",
             "minorgridcolor": "#C8D4E3",
             "startlinecolor": "#2a3f5f"
            },
            "baxis": {
             "endlinecolor": "#2a3f5f",
             "gridcolor": "#C8D4E3",
             "linecolor": "#C8D4E3",
             "minorgridcolor": "#C8D4E3",
             "startlinecolor": "#2a3f5f"
            },
            "type": "carpet"
           }
          ],
          "choropleth": [
           {
            "colorbar": {
             "outlinewidth": 0,
             "ticks": ""
            },
            "type": "choropleth"
           }
          ],
          "contour": [
           {
            "colorbar": {
             "outlinewidth": 0,
             "ticks": ""
            },
            "colorscale": [
             [
              0,
              "#0d0887"
             ],
             [
              0.1111111111111111,
              "#46039f"
             ],
             [
              0.2222222222222222,
              "#7201a8"
             ],
             [
              0.3333333333333333,
              "#9c179e"
             ],
             [
              0.4444444444444444,
              "#bd3786"
             ],
             [
              0.5555555555555556,
              "#d8576b"
             ],
             [
              0.6666666666666666,
              "#ed7953"
             ],
             [
              0.7777777777777778,
              "#fb9f3a"
             ],
             [
              0.8888888888888888,
              "#fdca26"
             ],
             [
              1,
              "#f0f921"
             ]
            ],
            "type": "contour"
           }
          ],
          "contourcarpet": [
           {
            "colorbar": {
             "outlinewidth": 0,
             "ticks": ""
            },
            "type": "contourcarpet"
           }
          ],
          "heatmap": [
           {
            "colorbar": {
             "outlinewidth": 0,
             "ticks": ""
            },
            "colorscale": [
             [
              0,
              "#0d0887"
             ],
             [
              0.1111111111111111,
              "#46039f"
             ],
             [
              0.2222222222222222,
              "#7201a8"
             ],
             [
              0.3333333333333333,
              "#9c179e"
             ],
             [
              0.4444444444444444,
              "#bd3786"
             ],
             [
              0.5555555555555556,
              "#d8576b"
             ],
             [
              0.6666666666666666,
              "#ed7953"
             ],
             [
              0.7777777777777778,
              "#fb9f3a"
             ],
             [
              0.8888888888888888,
              "#fdca26"
             ],
             [
              1,
              "#f0f921"
             ]
            ],
            "type": "heatmap"
           }
          ],
          "histogram": [
           {
            "marker": {
             "pattern": {
              "fillmode": "overlay",
              "size": 10,
              "solidity": 0.2
             }
            },
            "type": "histogram"
           }
          ],
          "histogram2d": [
           {
            "colorbar": {
             "outlinewidth": 0,
             "ticks": ""
            },
            "colorscale": [
             [
              0,
              "#0d0887"
             ],
             [
              0.1111111111111111,
              "#46039f"
             ],
             [
              0.2222222222222222,
              "#7201a8"
             ],
             [
              0.3333333333333333,
              "#9c179e"
             ],
             [
              0.4444444444444444,
              "#bd3786"
             ],
             [
              0.5555555555555556,
              "#d8576b"
             ],
             [
              0.6666666666666666,
              "#ed7953"
             ],
             [
              0.7777777777777778,
              "#fb9f3a"
             ],
             [
              0.8888888888888888,
              "#fdca26"
             ],
             [
              1,
              "#f0f921"
             ]
            ],
            "type": "histogram2d"
           }
          ],
          "histogram2dcontour": [
           {
            "colorbar": {
             "outlinewidth": 0,
             "ticks": ""
            },
            "colorscale": [
             [
              0,
              "#0d0887"
             ],
             [
              0.1111111111111111,
              "#46039f"
             ],
             [
              0.2222222222222222,
              "#7201a8"
             ],
             [
              0.3333333333333333,
              "#9c179e"
             ],
             [
              0.4444444444444444,
              "#bd3786"
             ],
             [
              0.5555555555555556,
              "#d8576b"
             ],
             [
              0.6666666666666666,
              "#ed7953"
             ],
             [
              0.7777777777777778,
              "#fb9f3a"
             ],
             [
              0.8888888888888888,
              "#fdca26"
             ],
             [
              1,
              "#f0f921"
             ]
            ],
            "type": "histogram2dcontour"
           }
          ],
          "mesh3d": [
           {
            "colorbar": {
             "outlinewidth": 0,
             "ticks": ""
            },
            "type": "mesh3d"
           }
          ],
          "parcoords": [
           {
            "line": {
             "colorbar": {
              "outlinewidth": 0,
              "ticks": ""
             }
            },
            "type": "parcoords"
           }
          ],
          "pie": [
           {
            "automargin": true,
            "type": "pie"
           }
          ],
          "scatter": [
           {
            "fillpattern": {
             "fillmode": "overlay",
             "size": 10,
             "solidity": 0.2
            },
            "type": "scatter"
           }
          ],
          "scatter3d": [
           {
            "line": {
             "colorbar": {
              "outlinewidth": 0,
              "ticks": ""
             }
            },
            "marker": {
             "colorbar": {
              "outlinewidth": 0,
              "ticks": ""
             }
            },
            "type": "scatter3d"
           }
          ],
          "scattercarpet": [
           {
            "marker": {
             "colorbar": {
              "outlinewidth": 0,
              "ticks": ""
             }
            },
            "type": "scattercarpet"
           }
          ],
          "scattergeo": [
           {
            "marker": {
             "colorbar": {
              "outlinewidth": 0,
              "ticks": ""
             }
            },
            "type": "scattergeo"
           }
          ],
          "scattergl": [
           {
            "marker": {
             "colorbar": {
              "outlinewidth": 0,
              "ticks": ""
             }
            },
            "type": "scattergl"
           }
          ],
          "scattermap": [
           {
            "marker": {
             "colorbar": {
              "outlinewidth": 0,
              "ticks": ""
             }
            },
            "type": "scattermap"
           }
          ],
          "scattermapbox": [
           {
            "marker": {
             "colorbar": {
              "outlinewidth": 0,
              "ticks": ""
             }
            },
            "type": "scattermapbox"
           }
          ],
          "scatterpolar": [
           {
            "marker": {
             "colorbar": {
              "outlinewidth": 0,
              "ticks": ""
             }
            },
            "type": "scatterpolar"
           }
          ],
          "scatterpolargl": [
           {
            "marker": {
             "colorbar": {
              "outlinewidth": 0,
              "ticks": ""
             }
            },
            "type": "scatterpolargl"
           }
          ],
          "scatterternary": [
           {
            "marker": {
             "colorbar": {
              "outlinewidth": 0,
              "ticks": ""
             }
            },
            "type": "scatterternary"
           }
          ],
          "surface": [
           {
            "colorbar": {
             "outlinewidth": 0,
             "ticks": ""
            },
            "colorscale": [
             [
              0,
              "#0d0887"
             ],
             [
              0.1111111111111111,
              "#46039f"
             ],
             [
              0.2222222222222222,
              "#7201a8"
             ],
             [
              0.3333333333333333,
              "#9c179e"
             ],
             [
              0.4444444444444444,
              "#bd3786"
             ],
             [
              0.5555555555555556,
              "#d8576b"
             ],
             [
              0.6666666666666666,
              "#ed7953"
             ],
             [
              0.7777777777777778,
              "#fb9f3a"
             ],
             [
              0.8888888888888888,
              "#fdca26"
             ],
             [
              1,
              "#f0f921"
             ]
            ],
            "type": "surface"
           }
          ],
          "table": [
           {
            "cells": {
             "fill": {
              "color": "#EBF0F8"
             },
             "line": {
              "color": "white"
             }
            },
            "header": {
             "fill": {
              "color": "#C8D4E3"
             },
             "line": {
              "color": "white"
             }
            },
            "type": "table"
           }
          ]
         },
         "layout": {
          "annotationdefaults": {
           "arrowcolor": "#2a3f5f",
           "arrowhead": 0,
           "arrowwidth": 1
          },
          "autotypenumbers": "strict",
          "coloraxis": {
           "colorbar": {
            "outlinewidth": 0,
            "ticks": ""
           }
          },
          "colorscale": {
           "diverging": [
            [
             0,
             "#8e0152"
            ],
            [
             0.1,
             "#c51b7d"
            ],
            [
             0.2,
             "#de77ae"
            ],
            [
             0.3,
             "#f1b6da"
            ],
            [
             0.4,
             "#fde0ef"
            ],
            [
             0.5,
             "#f7f7f7"
            ],
            [
             0.6,
             "#e6f5d0"
            ],
            [
             0.7,
             "#b8e186"
            ],
            [
             0.8,
             "#7fbc41"
            ],
            [
             0.9,
             "#4d9221"
            ],
            [
             1,
             "#276419"
            ]
           ],
           "sequential": [
            [
             0,
             "#0d0887"
            ],
            [
             0.1111111111111111,
             "#46039f"
            ],
            [
             0.2222222222222222,
             "#7201a8"
            ],
            [
             0.3333333333333333,
             "#9c179e"
            ],
            [
             0.4444444444444444,
             "#bd3786"
            ],
            [
             0.5555555555555556,
             "#d8576b"
            ],
            [
             0.6666666666666666,
             "#ed7953"
            ],
            [
             0.7777777777777778,
             "#fb9f3a"
            ],
            [
             0.8888888888888888,
             "#fdca26"
            ],
            [
             1,
             "#f0f921"
            ]
           ],
           "sequentialminus": [
            [
             0,
             "#0d0887"
            ],
            [
             0.1111111111111111,
             "#46039f"
            ],
            [
             0.2222222222222222,
             "#7201a8"
            ],
            [
             0.3333333333333333,
             "#9c179e"
            ],
            [
             0.4444444444444444,
             "#bd3786"
            ],
            [
             0.5555555555555556,
             "#d8576b"
            ],
            [
             0.6666666666666666,
             "#ed7953"
            ],
            [
             0.7777777777777778,
             "#fb9f3a"
            ],
            [
             0.8888888888888888,
             "#fdca26"
            ],
            [
             1,
             "#f0f921"
            ]
           ]
          },
          "colorway": [
           "#636efa",
           "#EF553B",
           "#00cc96",
           "#ab63fa",
           "#FFA15A",
           "#19d3f3",
           "#FF6692",
           "#B6E880",
           "#FF97FF",
           "#FECB52"
          ],
          "font": {
           "color": "#2a3f5f"
          },
          "geo": {
           "bgcolor": "white",
           "lakecolor": "white",
           "landcolor": "white",
           "showlakes": true,
           "showland": true,
           "subunitcolor": "#C8D4E3"
          },
          "hoverlabel": {
           "align": "left"
          },
          "hovermode": "closest",
          "mapbox": {
           "style": "light"
          },
          "paper_bgcolor": "white",
          "plot_bgcolor": "white",
          "polar": {
           "angularaxis": {
            "gridcolor": "#EBF0F8",
            "linecolor": "#EBF0F8",
            "ticks": ""
           },
           "bgcolor": "white",
           "radialaxis": {
            "gridcolor": "#EBF0F8",
            "linecolor": "#EBF0F8",
            "ticks": ""
           }
          },
          "scene": {
           "xaxis": {
            "backgroundcolor": "white",
            "gridcolor": "#DFE8F3",
            "gridwidth": 2,
            "linecolor": "#EBF0F8",
            "showbackground": true,
            "ticks": "",
            "zerolinecolor": "#EBF0F8"
           },
           "yaxis": {
            "backgroundcolor": "white",
            "gridcolor": "#DFE8F3",
            "gridwidth": 2,
            "linecolor": "#EBF0F8",
            "showbackground": true,
            "ticks": "",
            "zerolinecolor": "#EBF0F8"
           },
           "zaxis": {
            "backgroundcolor": "white",
            "gridcolor": "#DFE8F3",
            "gridwidth": 2,
            "linecolor": "#EBF0F8",
            "showbackground": true,
            "ticks": "",
            "zerolinecolor": "#EBF0F8"
           }
          },
          "shapedefaults": {
           "line": {
            "color": "#2a3f5f"
           }
          },
          "ternary": {
           "aaxis": {
            "gridcolor": "#DFE8F3",
            "linecolor": "#A2B1C6",
            "ticks": ""
           },
           "baxis": {
            "gridcolor": "#DFE8F3",
            "linecolor": "#A2B1C6",
            "ticks": ""
           },
           "bgcolor": "white",
           "caxis": {
            "gridcolor": "#DFE8F3",
            "linecolor": "#A2B1C6",
            "ticks": ""
           }
          },
          "title": {
           "x": 0.05
          },
          "xaxis": {
           "automargin": true,
           "gridcolor": "#EBF0F8",
           "linecolor": "#EBF0F8",
           "ticks": "",
           "title": {
            "standoff": 15
           },
           "zerolinecolor": "#EBF0F8",
           "zerolinewidth": 2
          },
          "yaxis": {
           "automargin": true,
           "gridcolor": "#EBF0F8",
           "linecolor": "#EBF0F8",
           "ticks": "",
           "title": {
            "standoff": 15
           },
           "zerolinecolor": "#EBF0F8",
           "zerolinewidth": 2
          }
         }
        },
        "title": {
         "text": "Generation Time by Projection Matrix"
        },
        "width": 800,
        "xaxis": {
         "title": {
          "text": "Size (n)"
         }
        },
        "yaxis": {
         "title": {
          "text": "Time (s)"
         }
        }
       }
      }
     },
     "metadata": {},
     "output_type": "display_data"
    }
   ],
   "source": [
    "fig = go.Figure()\n",
    "\n",
    "_df = summary_df[summary_df['Density'] == 'dense']\n",
    "for method in _df['Method'].unique():\n",
    "    \n",
    "    fig.add_trace(\n",
    "        go.Scatter(\n",
    "            x = _df[_df['Method']==method]['Size'],\n",
    "            y = _df[_df['Method']==method]['Generation Time'],\n",
    "            name = method\n",
    "        ),\n",
    "    )\n",
    "\n",
    "fig.update_layout(\n",
    "    title = 'Generation Time by Projection Matrix',\n",
    "    xaxis_title = 'Size (n)',\n",
    "    yaxis_title = 'Time (s)',\n",
    "    template = 'plotly_white',\n",
    "        legend=dict(\n",
    "        orientation=\"h\",  # horizontal\n",
    "        y=-0.1,           # move legend below the plot\n",
    "        x=0.5,\n",
    "        xanchor=\"center\",\n",
    "        yanchor=\"top\"\n",
    "    ),\n",
    "    font=dict(\n",
<<<<<<< HEAD
    "        size=8,\n",
    "        color='black'  # or whatever smaller size you want\n",
=======
    "        size=10,color='black'\n",
>>>>>>> d28c5395083ce351e8d8487a0ccfc04d9da133e5
    "    ),\n",
    "    margin=dict(\n",
    "        l=20,  # left margin\n",
    "        r=20,  # right margin\n",
    "        t=30,  # top margin\n",
    "        b=20   # bottom margin\n",
    "    ),\n",
    "    width = 800,\n",
    "    height = 400\n",
    ")\n",
    "fig.show()"
   ]
  },
  {
   "cell_type": "code",
   "execution_count": 34,
   "metadata": {},
   "outputs": [
    {
     "data": {
      "text/html": [
       "<div>\n",
       "<style scoped>\n",
       "    .dataframe tbody tr th:only-of-type {\n",
       "        vertical-align: middle;\n",
       "    }\n",
       "\n",
       "    .dataframe tbody tr th {\n",
       "        vertical-align: top;\n",
       "    }\n",
       "\n",
       "    .dataframe thead th {\n",
       "        text-align: right;\n",
       "    }\n",
       "</style>\n",
       "<table border=\"1\" class=\"dataframe\">\n",
       "  <thead>\n",
       "    <tr style=\"text-align: right;\">\n",
       "      <th>Method</th>\n",
       "      <th>Gaussian</th>\n",
       "      <th>SRFT</th>\n",
       "      <th>SRHT</th>\n",
       "      <th>CountSketch</th>\n",
       "      <th>Sparse JL</th>\n",
       "    </tr>\n",
       "    <tr>\n",
       "      <th>Size</th>\n",
       "      <th></th>\n",
       "      <th></th>\n",
       "      <th></th>\n",
       "      <th></th>\n",
       "      <th></th>\n",
       "    </tr>\n",
       "  </thead>\n",
       "  <tbody>\n",
       "    <tr>\n",
       "      <th>1000</th>\n",
       "      <td>0.010597</td>\n",
       "      <td>0.017795</td>\n",
       "      <td>0.010858</td>\n",
       "      <td>0.000234</td>\n",
       "      <td>0.000279</td>\n",
       "    </tr>\n",
       "    <tr>\n",
       "      <th>2000</th>\n",
       "      <td>0.040972</td>\n",
       "      <td>0.062556</td>\n",
       "      <td>0.051487</td>\n",
       "      <td>0.000224</td>\n",
       "      <td>0.000334</td>\n",
       "    </tr>\n",
       "    <tr>\n",
       "      <th>3000</th>\n",
       "      <td>0.092204</td>\n",
       "      <td>0.139764</td>\n",
       "      <td>0.206884</td>\n",
       "      <td>0.000244</td>\n",
       "      <td>0.000387</td>\n",
       "    </tr>\n",
       "    <tr>\n",
       "      <th>4000</th>\n",
       "      <td>0.160981</td>\n",
       "      <td>0.246649</td>\n",
       "      <td>0.242086</td>\n",
       "      <td>0.000245</td>\n",
       "      <td>0.000429</td>\n",
       "    </tr>\n",
       "    <tr>\n",
       "      <th>5000</th>\n",
       "      <td>0.255549</td>\n",
       "      <td>0.393000</td>\n",
       "      <td>0.742137</td>\n",
       "      <td>0.000275</td>\n",
       "      <td>0.000535</td>\n",
       "    </tr>\n",
       "  </tbody>\n",
       "</table>\n",
       "</div>"
      ],
      "text/plain": [
       "Method  Gaussian      SRFT      SRHT  CountSketch  Sparse JL\n",
       "Size                                                        \n",
       "1000    0.010597  0.017795  0.010858     0.000234   0.000279\n",
       "2000    0.040972  0.062556  0.051487     0.000224   0.000334\n",
       "3000    0.092204  0.139764  0.206884     0.000244   0.000387\n",
       "4000    0.160981  0.246649  0.242086     0.000245   0.000429\n",
       "5000    0.255549  0.393000  0.742137     0.000275   0.000535"
      ]
     },
     "execution_count": 34,
     "metadata": {},
     "output_type": "execute_result"
    }
   ],
   "source": [
    "proj_table = _df[['Method','Size','Generation Time']].pivot(index = 'Size',columns = 'Method',values = 'Generation Time')\n",
    "\n",
    "proj_table[['Gaussian', 'SRFT', 'SRHT','CountSketch','Sparse JL']]"
   ]
  },
  {
   "cell_type": "markdown",
   "metadata": {},
   "source": [
    "***Figure 2: Projection Cost***"
   ]
  },
  {
   "cell_type": "code",
   "execution_count": 24,
   "metadata": {},
   "outputs": [
    {
     "data": {
      "application/vnd.plotly.v1+json": {
       "config": {
        "plotlyServerURL": "https://plot.ly"
       },
       "data": [
        {
         "legendgroup": "Gaussian",
         "line": {
          "color": "#636EFA"
         },
         "name": "Gaussian",
         "showlegend": true,
         "type": "scatter",
         "x": {
          "bdata": "6APQB7gLoA+IEw==",
          "dtype": "i2"
         },
         "xaxis": "x",
         "y": {
          "bdata": "ZmZm5vQOaj+amZmlKBuTP5qZmQEG1aw/ZmZmpzY8wD8AAIBjdnnPPw==",
          "dtype": "f8"
         },
         "yaxis": "y"
        },
        {
         "legendgroup": "SRHT",
         "line": {
          "color": "#EF553B"
         },
         "name": "SRHT",
         "showlegend": true,
         "type": "scatter",
         "x": {
          "bdata": "6APQB7gLoA+IEw==",
          "dtype": "i2"
         },
         "xaxis": "x",
         "y": {
          "bdata": "zczMzIU1az+amZklOcORP5qZmUdy+as/MzOz9ZoewD9mZmbs1x/QPw==",
          "dtype": "f8"
         },
         "yaxis": "y"
        },
        {
         "legendgroup": "SRFT",
         "line": {
          "color": "#00CC96"
         },
         "name": "SRFT",
         "showlegend": true,
         "type": "scatter",
         "x": {
          "bdata": "6APQB7gLoA+IEw==",
          "dtype": "i2"
         },
         "xaxis": "x",
         "y": {
          "bdata": "mpmZeSJ/aD/NzMzARw6SP2ZmZqi+mKw/AAAA34EJwD8zMzM2UZHPPw==",
          "dtype": "f8"
         },
         "yaxis": "y"
        },
        {
         "legendgroup": "CountSketch",
         "line": {
          "color": "#AB63FA"
         },
         "name": "CountSketch",
         "showlegend": true,
         "type": "scatter",
         "x": {
          "bdata": "6APQB7gLoA+IEw==",
          "dtype": "i2"
         },
         "xaxis": "x",
         "y": {
          "bdata": "AAAAwOMjVD8AAADwJiJwPwAAAEhzroI/zczMHJqJjD9mZmZqVqaVPw==",
          "dtype": "f8"
         },
         "yaxis": "y"
        },
        {
         "legendgroup": "Sparse JL",
         "line": {
          "color": "#FFA15A"
         },
         "name": "Sparse JL",
         "showlegend": true,
         "type": "scatter",
         "x": {
          "bdata": "6APQB7gLoA+IEw==",
          "dtype": "i2"
         },
         "xaxis": "x",
         "y": {
          "bdata": "zczMjPgcUj8AAADQfPh2P5qZmdntzIc/AAAA5OTZlD8AAAAKPEGgPw==",
          "dtype": "f8"
         },
         "yaxis": "y"
        },
        {
         "legendgroup": "Gaussian",
         "line": {
          "color": "#636EFA"
         },
         "name": "Gaussian",
         "showlegend": false,
         "type": "scatter",
         "x": {
          "bdata": "6APQB7gLoA+IEw==",
          "dtype": "i2"
         },
         "xaxis": "x2",
         "y": {
          "bdata": "zczM7HybaD8zMzPHgLKSPwAAAPSX7as/zczMXQFcwD+amRnzSw7PPw==",
          "dtype": "f8"
         },
         "yaxis": "y2"
        },
        {
         "legendgroup": "SRHT",
         "line": {
          "color": "#EF553B"
         },
         "name": "SRHT",
         "showlegend": false,
         "type": "scatter",
         "x": {
          "bdata": "6APQB7gLoA+IEw==",
          "dtype": "i2"
         },
         "xaxis": "x2",
         "y": {
          "bdata": "MzMzk9l2aT9mZmaa6LmSP83MzLwdXaw/ZmbmLq0fwD/NzExModbOPw==",
          "dtype": "f8"
         },
         "yaxis": "y2"
        },
        {
         "legendgroup": "SRFT",
         "line": {
          "color": "#00CC96"
         },
         "name": "SRFT",
         "showlegend": false,
         "type": "scatter",
         "x": {
          "bdata": "6APQB7gLoA+IEw==",
          "dtype": "i2"
         },
         "xaxis": "x2",
         "y": {
          "bdata": "ZmZm5rQLaT9mZmYGrMmRP83MzEDDk6w/MzMzx2otwD8zM7MXKhzPPw==",
          "dtype": "f8"
         },
         "yaxis": "y2"
        },
        {
         "legendgroup": "CountSketch",
         "line": {
          "color": "#AB63FA"
         },
         "name": "CountSketch",
         "showlegend": false,
         "type": "scatter",
         "x": {
          "bdata": "6APQB7gLoA+IEw==",
          "dtype": "i2"
         },
         "xaxis": "x2",
         "y": {
          "bdata": "zczMjHRAUj9mZmZG3uhvP83MzCT6QoE/MzMzAwG2jD/NzMzoU7+VPw==",
          "dtype": "f8"
         },
         "yaxis": "y2"
        },
        {
         "legendgroup": "Sparse JL",
         "line": {
          "color": "#FFA15A"
         },
         "name": "Sparse JL",
         "showlegend": false,
         "type": "scatter",
         "x": {
          "bdata": "6APQB7gLoA+IEw==",
          "dtype": "i2"
         },
         "xaxis": "x2",
         "y": {
          "bdata": "mpmZ2RJcUz+amZkp2+p2PzMzM/NNUIk/MzMz+7hPlT8AAADQnsOfPw==",
          "dtype": "f8"
         },
         "yaxis": "y2"
        }
       ],
       "layout": {
        "annotations": [
         {
          "font": {
           "size": 16
          },
          "showarrow": false,
          "text": "Dense",
          "x": 0.225,
          "xanchor": "center",
          "xref": "paper",
          "y": 1,
          "yanchor": "bottom",
          "yref": "paper"
         },
         {
          "font": {
           "size": 16
          },
          "showarrow": false,
          "text": "Sparse",
          "x": 0.775,
          "xanchor": "center",
          "xref": "paper",
          "y": 1,
          "yanchor": "bottom",
          "yref": "paper"
         }
        ],
        "font": {
         "color": "black",
         "size": 10
        },
        "height": 400,
        "legend": {
         "orientation": "h",
         "x": 0.5,
         "xanchor": "center",
         "y": -0.2,
         "yanchor": "top"
        },
        "margin": {
         "b": 40,
         "l": 20,
         "r": 20,
         "t": 40
        },
        "template": {
         "data": {
          "bar": [
           {
            "error_x": {
             "color": "#2a3f5f"
            },
            "error_y": {
             "color": "#2a3f5f"
            },
            "marker": {
             "line": {
              "color": "white",
              "width": 0.5
             },
             "pattern": {
              "fillmode": "overlay",
              "size": 10,
              "solidity": 0.2
             }
            },
            "type": "bar"
           }
          ],
          "barpolar": [
           {
            "marker": {
             "line": {
              "color": "white",
              "width": 0.5
             },
             "pattern": {
              "fillmode": "overlay",
              "size": 10,
              "solidity": 0.2
             }
            },
            "type": "barpolar"
           }
          ],
          "carpet": [
           {
            "aaxis": {
             "endlinecolor": "#2a3f5f",
             "gridcolor": "#C8D4E3",
             "linecolor": "#C8D4E3",
             "minorgridcolor": "#C8D4E3",
             "startlinecolor": "#2a3f5f"
            },
            "baxis": {
             "endlinecolor": "#2a3f5f",
             "gridcolor": "#C8D4E3",
             "linecolor": "#C8D4E3",
             "minorgridcolor": "#C8D4E3",
             "startlinecolor": "#2a3f5f"
            },
            "type": "carpet"
           }
          ],
          "choropleth": [
           {
            "colorbar": {
             "outlinewidth": 0,
             "ticks": ""
            },
            "type": "choropleth"
           }
          ],
          "contour": [
           {
            "colorbar": {
             "outlinewidth": 0,
             "ticks": ""
            },
            "colorscale": [
             [
              0,
              "#0d0887"
             ],
             [
              0.1111111111111111,
              "#46039f"
             ],
             [
              0.2222222222222222,
              "#7201a8"
             ],
             [
              0.3333333333333333,
              "#9c179e"
             ],
             [
              0.4444444444444444,
              "#bd3786"
             ],
             [
              0.5555555555555556,
              "#d8576b"
             ],
             [
              0.6666666666666666,
              "#ed7953"
             ],
             [
              0.7777777777777778,
              "#fb9f3a"
             ],
             [
              0.8888888888888888,
              "#fdca26"
             ],
             [
              1,
              "#f0f921"
             ]
            ],
            "type": "contour"
           }
          ],
          "contourcarpet": [
           {
            "colorbar": {
             "outlinewidth": 0,
             "ticks": ""
            },
            "type": "contourcarpet"
           }
          ],
          "heatmap": [
           {
            "colorbar": {
             "outlinewidth": 0,
             "ticks": ""
            },
            "colorscale": [
             [
              0,
              "#0d0887"
             ],
             [
              0.1111111111111111,
              "#46039f"
             ],
             [
              0.2222222222222222,
              "#7201a8"
             ],
             [
              0.3333333333333333,
              "#9c179e"
             ],
             [
              0.4444444444444444,
              "#bd3786"
             ],
             [
              0.5555555555555556,
              "#d8576b"
             ],
             [
              0.6666666666666666,
              "#ed7953"
             ],
             [
              0.7777777777777778,
              "#fb9f3a"
             ],
             [
              0.8888888888888888,
              "#fdca26"
             ],
             [
              1,
              "#f0f921"
             ]
            ],
            "type": "heatmap"
           }
          ],
          "histogram": [
           {
            "marker": {
             "pattern": {
              "fillmode": "overlay",
              "size": 10,
              "solidity": 0.2
             }
            },
            "type": "histogram"
           }
          ],
          "histogram2d": [
           {
            "colorbar": {
             "outlinewidth": 0,
             "ticks": ""
            },
            "colorscale": [
             [
              0,
              "#0d0887"
             ],
             [
              0.1111111111111111,
              "#46039f"
             ],
             [
              0.2222222222222222,
              "#7201a8"
             ],
             [
              0.3333333333333333,
              "#9c179e"
             ],
             [
              0.4444444444444444,
              "#bd3786"
             ],
             [
              0.5555555555555556,
              "#d8576b"
             ],
             [
              0.6666666666666666,
              "#ed7953"
             ],
             [
              0.7777777777777778,
              "#fb9f3a"
             ],
             [
              0.8888888888888888,
              "#fdca26"
             ],
             [
              1,
              "#f0f921"
             ]
            ],
            "type": "histogram2d"
           }
          ],
          "histogram2dcontour": [
           {
            "colorbar": {
             "outlinewidth": 0,
             "ticks": ""
            },
            "colorscale": [
             [
              0,
              "#0d0887"
             ],
             [
              0.1111111111111111,
              "#46039f"
             ],
             [
              0.2222222222222222,
              "#7201a8"
             ],
             [
              0.3333333333333333,
              "#9c179e"
             ],
             [
              0.4444444444444444,
              "#bd3786"
             ],
             [
              0.5555555555555556,
              "#d8576b"
             ],
             [
              0.6666666666666666,
              "#ed7953"
             ],
             [
              0.7777777777777778,
              "#fb9f3a"
             ],
             [
              0.8888888888888888,
              "#fdca26"
             ],
             [
              1,
              "#f0f921"
             ]
            ],
            "type": "histogram2dcontour"
           }
          ],
          "mesh3d": [
           {
            "colorbar": {
             "outlinewidth": 0,
             "ticks": ""
            },
            "type": "mesh3d"
           }
          ],
          "parcoords": [
           {
            "line": {
             "colorbar": {
              "outlinewidth": 0,
              "ticks": ""
             }
            },
            "type": "parcoords"
           }
          ],
          "pie": [
           {
            "automargin": true,
            "type": "pie"
           }
          ],
          "scatter": [
           {
            "fillpattern": {
             "fillmode": "overlay",
             "size": 10,
             "solidity": 0.2
            },
            "type": "scatter"
           }
          ],
          "scatter3d": [
           {
            "line": {
             "colorbar": {
              "outlinewidth": 0,
              "ticks": ""
             }
            },
            "marker": {
             "colorbar": {
              "outlinewidth": 0,
              "ticks": ""
             }
            },
            "type": "scatter3d"
           }
          ],
          "scattercarpet": [
           {
            "marker": {
             "colorbar": {
              "outlinewidth": 0,
              "ticks": ""
             }
            },
            "type": "scattercarpet"
           }
          ],
          "scattergeo": [
           {
            "marker": {
             "colorbar": {
              "outlinewidth": 0,
              "ticks": ""
             }
            },
            "type": "scattergeo"
           }
          ],
          "scattergl": [
           {
            "marker": {
             "colorbar": {
              "outlinewidth": 0,
              "ticks": ""
             }
            },
            "type": "scattergl"
           }
          ],
          "scattermap": [
           {
            "marker": {
             "colorbar": {
              "outlinewidth": 0,
              "ticks": ""
             }
            },
            "type": "scattermap"
           }
          ],
          "scattermapbox": [
           {
            "marker": {
             "colorbar": {
              "outlinewidth": 0,
              "ticks": ""
             }
            },
            "type": "scattermapbox"
           }
          ],
          "scatterpolar": [
           {
            "marker": {
             "colorbar": {
              "outlinewidth": 0,
              "ticks": ""
             }
            },
            "type": "scatterpolar"
           }
          ],
          "scatterpolargl": [
           {
            "marker": {
             "colorbar": {
              "outlinewidth": 0,
              "ticks": ""
             }
            },
            "type": "scatterpolargl"
           }
          ],
          "scatterternary": [
           {
            "marker": {
             "colorbar": {
              "outlinewidth": 0,
              "ticks": ""
             }
            },
            "type": "scatterternary"
           }
          ],
          "surface": [
           {
            "colorbar": {
             "outlinewidth": 0,
             "ticks": ""
            },
            "colorscale": [
             [
              0,
              "#0d0887"
             ],
             [
              0.1111111111111111,
              "#46039f"
             ],
             [
              0.2222222222222222,
              "#7201a8"
             ],
             [
              0.3333333333333333,
              "#9c179e"
             ],
             [
              0.4444444444444444,
              "#bd3786"
             ],
             [
              0.5555555555555556,
              "#d8576b"
             ],
             [
              0.6666666666666666,
              "#ed7953"
             ],
             [
              0.7777777777777778,
              "#fb9f3a"
             ],
             [
              0.8888888888888888,
              "#fdca26"
             ],
             [
              1,
              "#f0f921"
             ]
            ],
            "type": "surface"
           }
          ],
          "table": [
           {
            "cells": {
             "fill": {
              "color": "#EBF0F8"
             },
             "line": {
              "color": "white"
             }
            },
            "header": {
             "fill": {
              "color": "#C8D4E3"
             },
             "line": {
              "color": "white"
             }
            },
            "type": "table"
           }
          ]
         },
         "layout": {
          "annotationdefaults": {
           "arrowcolor": "#2a3f5f",
           "arrowhead": 0,
           "arrowwidth": 1
          },
          "autotypenumbers": "strict",
          "coloraxis": {
           "colorbar": {
            "outlinewidth": 0,
            "ticks": ""
           }
          },
          "colorscale": {
           "diverging": [
            [
             0,
             "#8e0152"
            ],
            [
             0.1,
             "#c51b7d"
            ],
            [
             0.2,
             "#de77ae"
            ],
            [
             0.3,
             "#f1b6da"
            ],
            [
             0.4,
             "#fde0ef"
            ],
            [
             0.5,
             "#f7f7f7"
            ],
            [
             0.6,
             "#e6f5d0"
            ],
            [
             0.7,
             "#b8e186"
            ],
            [
             0.8,
             "#7fbc41"
            ],
            [
             0.9,
             "#4d9221"
            ],
            [
             1,
             "#276419"
            ]
           ],
           "sequential": [
            [
             0,
             "#0d0887"
            ],
            [
             0.1111111111111111,
             "#46039f"
            ],
            [
             0.2222222222222222,
             "#7201a8"
            ],
            [
             0.3333333333333333,
             "#9c179e"
            ],
            [
             0.4444444444444444,
             "#bd3786"
            ],
            [
             0.5555555555555556,
             "#d8576b"
            ],
            [
             0.6666666666666666,
             "#ed7953"
            ],
            [
             0.7777777777777778,
             "#fb9f3a"
            ],
            [
             0.8888888888888888,
             "#fdca26"
            ],
            [
             1,
             "#f0f921"
            ]
           ],
           "sequentialminus": [
            [
             0,
             "#0d0887"
            ],
            [
             0.1111111111111111,
             "#46039f"
            ],
            [
             0.2222222222222222,
             "#7201a8"
            ],
            [
             0.3333333333333333,
             "#9c179e"
            ],
            [
             0.4444444444444444,
             "#bd3786"
            ],
            [
             0.5555555555555556,
             "#d8576b"
            ],
            [
             0.6666666666666666,
             "#ed7953"
            ],
            [
             0.7777777777777778,
             "#fb9f3a"
            ],
            [
             0.8888888888888888,
             "#fdca26"
            ],
            [
             1,
             "#f0f921"
            ]
           ]
          },
          "colorway": [
           "#636efa",
           "#EF553B",
           "#00cc96",
           "#ab63fa",
           "#FFA15A",
           "#19d3f3",
           "#FF6692",
           "#B6E880",
           "#FF97FF",
           "#FECB52"
          ],
          "font": {
           "color": "#2a3f5f"
          },
          "geo": {
           "bgcolor": "white",
           "lakecolor": "white",
           "landcolor": "white",
           "showlakes": true,
           "showland": true,
           "subunitcolor": "#C8D4E3"
          },
          "hoverlabel": {
           "align": "left"
          },
          "hovermode": "closest",
          "mapbox": {
           "style": "light"
          },
          "paper_bgcolor": "white",
          "plot_bgcolor": "white",
          "polar": {
           "angularaxis": {
            "gridcolor": "#EBF0F8",
            "linecolor": "#EBF0F8",
            "ticks": ""
           },
           "bgcolor": "white",
           "radialaxis": {
            "gridcolor": "#EBF0F8",
            "linecolor": "#EBF0F8",
            "ticks": ""
           }
          },
          "scene": {
           "xaxis": {
            "backgroundcolor": "white",
            "gridcolor": "#DFE8F3",
            "gridwidth": 2,
            "linecolor": "#EBF0F8",
            "showbackground": true,
            "ticks": "",
            "zerolinecolor": "#EBF0F8"
           },
           "yaxis": {
            "backgroundcolor": "white",
            "gridcolor": "#DFE8F3",
            "gridwidth": 2,
            "linecolor": "#EBF0F8",
            "showbackground": true,
            "ticks": "",
            "zerolinecolor": "#EBF0F8"
           },
           "zaxis": {
            "backgroundcolor": "white",
            "gridcolor": "#DFE8F3",
            "gridwidth": 2,
            "linecolor": "#EBF0F8",
            "showbackground": true,
            "ticks": "",
            "zerolinecolor": "#EBF0F8"
           }
          },
          "shapedefaults": {
           "line": {
            "color": "#2a3f5f"
           }
          },
          "ternary": {
           "aaxis": {
            "gridcolor": "#DFE8F3",
            "linecolor": "#A2B1C6",
            "ticks": ""
           },
           "baxis": {
            "gridcolor": "#DFE8F3",
            "linecolor": "#A2B1C6",
            "ticks": ""
           },
           "bgcolor": "white",
           "caxis": {
            "gridcolor": "#DFE8F3",
            "linecolor": "#A2B1C6",
            "ticks": ""
           }
          },
          "title": {
           "x": 0.05
          },
          "xaxis": {
           "automargin": true,
           "gridcolor": "#EBF0F8",
           "linecolor": "#EBF0F8",
           "ticks": "",
           "title": {
            "standoff": 15
           },
           "zerolinecolor": "#EBF0F8",
           "zerolinewidth": 2
          },
          "yaxis": {
           "automargin": true,
           "gridcolor": "#EBF0F8",
           "linecolor": "#EBF0F8",
           "ticks": "",
           "title": {
            "standoff": 15
           },
           "zerolinecolor": "#EBF0F8",
           "zerolinewidth": 2
          }
         }
        },
        "width": 800,
        "xaxis": {
         "anchor": "y",
         "domain": [
          0,
          0.45
         ],
         "title": {
          "text": "Size (n)"
         }
        },
        "xaxis2": {
         "anchor": "y2",
         "domain": [
          0.55,
          1
         ],
         "title": {
          "text": "Size (n)"
         }
        },
        "yaxis": {
         "anchor": "x",
         "domain": [
          0,
          1
         ],
         "title": {
          "text": "Time (s)"
         }
        },
        "yaxis2": {
         "anchor": "x2",
         "domain": [
          0,
          1
         ],
         "title": {
          "text": "Time (s)"
         }
        }
       }
      }
     },
     "metadata": {},
     "output_type": "display_data"
    }
   ],
   "source": [
    "fig = make_subplots(rows = 1, cols = 2,\n",
    "                    subplot_titles=['Dense','Sparse'])\n",
    "\n",
    "import plotly.express as px\n",
    "methods = summary_df['Method'].unique()\n",
    "colors = px.colors.qualitative.Plotly  # Plotly's default color sequence\n",
    "\n",
    "# Create color mapping (cycles through colors if more methods than colors)\n",
    "method_colors = {method: colors[i % len(colors)] for i, method in enumerate(methods)}\n",
    "\n",
    "_df = summary_df[summary_df['Density'] == 'dense']\n",
    "for method in _df['Method'].unique():\n",
    "\n",
    "    fig.add_trace(\n",
    "        go.Scatter(\n",
    "            x = _df[_df['Method'] == method]['Size'],\n",
    "            y = _df[_df['Method'] == method]['Projection Time'],\n",
    "            name = method,\n",
    "            legendgroup=method,\n",
    "            line_color=method_colors[method],\n",
    "            showlegend=True\n",
    "        ),\n",
    "        row=1,col=1\n",
    "    )\n",
    "\n",
    "_df = summary_df[summary_df['Density'] == 'sparse']\n",
    "for method in _df['Method'].unique():\n",
    "    fig.add_trace(\n",
    "        go.Scatter(\n",
    "            x = _df[_df['Method'] == method]['Size'],\n",
    "            y = _df[_df['Method'] == method]['Projection Time'],\n",
    "            name = method,\n",
    "            legendgroup=method,\n",
    "            line_color=method_colors[method],\n",
    "            showlegend=False\n",
    "        ),\n",
    "        row=1,col=2\n",
    "    )\n",
    "\n",
    "fig.update_layout(\n",
    "    xaxis1_title = 'Size (n)',\n",
    "    yaxis1_title = 'Time (s)',\n",
    "    xaxis2_title = 'Size (n)',\n",
    "    yaxis2_title = 'Time (s)',\n",
    "    template = 'plotly_white',\n",
    "    legend=dict(\n",
    "        orientation=\"h\",  # horizontal\n",
    "        y=-0.2,           # move legend below the plot\n",
    "        x=0.5,\n",
    "        xanchor=\"center\",\n",
    "        yanchor=\"top\"\n",
    "    ),\n",
    "    font=dict(\n",
    "        size=10,color='black'\n",
    "    ),\n",
    "    margin=dict(\n",
    "        l=20,  # left margin\n",
    "        r=20,  # right margin\n",
    "        t=40,  # top margin\n",
    "        b=40   # bottom margin\n",
    "    ), \n",
    "    width = 800,\n",
    "    height = 400\n",
    "\n",
    ")\n",
    "\n",
    "fig.show()"
   ]
  },
  {
   "cell_type": "markdown",
   "metadata": {},
   "source": [
    "***Figure 3: Randomized Power Iteration Cost***"
   ]
  },
  {
   "cell_type": "code",
   "execution_count": 26,
   "metadata": {},
   "outputs": [
    {
     "data": {
      "application/vnd.plotly.v1+json": {
       "config": {
        "plotlyServerURL": "https://plot.ly"
       },
       "data": [
        {
         "legendgroup": "Gaussian",
         "line": {
          "color": "#636EFA"
         },
         "name": "Gaussian",
         "showlegend": true,
         "type": "scatter",
         "x": {
          "bdata": "6APQB7gLoA+IEw==",
          "dtype": "i2"
         },
         "xaxis": "x",
         "y": {
          "bdata": "AAAA0qbqqj/NzMx7D3bMP5qZGdenWOI/Zmb2AXK28z+amSHfjFcCQA==",
          "dtype": "f8"
         },
         "yaxis": "y"
        },
        {
         "legendgroup": "SRHT",
         "line": {
          "color": "#EF553B"
         },
         "name": "SRHT",
         "showlegend": true,
         "type": "scatter",
         "x": {
          "bdata": "6APQB7gLoA+IEw==",
          "dtype": "i2"
         },
         "xaxis": "x",
         "y": {
          "bdata": "zczMLFdoqz/NzMwowtnLP83M7NiTA+I/ZmYWnYak8z8zM8s6NWoCQA==",
          "dtype": "f8"
         },
         "yaxis": "y"
        },
        {
         "legendgroup": "SRFT",
         "line": {
          "color": "#00CC96"
         },
         "name": "SRFT",
         "showlegend": true,
         "type": "scatter",
         "x": {
          "bdata": "6APQB7gLoA+IEw==",
          "dtype": "i2"
         },
         "xaxis": "x",
         "y": {
          "bdata": "AAAAnItcqz/NzMzAbybMP5qZGUizpuI/zcxstWS78z/NzATJt1YCQA==",
          "dtype": "f8"
         },
         "yaxis": "y"
        },
        {
         "legendgroup": "CountSketch",
         "line": {
          "color": "#AB63FA"
         },
         "name": "CountSketch",
         "showlegend": true,
         "type": "scatter",
         "x": {
          "bdata": "6APQB7gLoA+IEw==",
          "dtype": "i2"
         },
         "xaxis": "x",
         "y": {
          "bdata": "zczMjK0tqz/NzExVKk3KPwAAoOuYxuA/ZmZmhCu+8T8AAOhzGHgAQA==",
          "dtype": "f8"
         },
         "yaxis": "y"
        },
        {
         "legendgroup": "Sparse JL",
         "line": {
          "color": "#FFA15A"
         },
         "name": "Sparse JL",
         "showlegend": true,
         "type": "scatter",
         "x": {
          "bdata": "6APQB7gLoA+IEw==",
          "dtype": "i2"
         },
         "xaxis": "x",
         "y": {
          "bdata": "mpmZAaqwqj+amZm3gp7JPzMzc5A3sOA/zczs2K3K8T/NzPQ/bYoAQA==",
          "dtype": "f8"
         },
         "yaxis": "y"
        },
        {
         "legendgroup": "Gaussian",
         "line": {
          "color": "#636EFA"
         },
         "name": "Gaussian",
         "showlegend": false,
         "type": "scatter",
         "x": {
          "bdata": "6APQB7gLoA+IEw==",
          "dtype": "i2"
         },
         "xaxis": "x2",
         "y": {
          "bdata": "mpmZrTlZqz+amZlUvaHLPwAAYMG9OOI/MzNDuPFt8z/NzMyqKRUCQA==",
          "dtype": "f8"
         },
         "yaxis": "y2"
        },
        {
         "legendgroup": "SRHT",
         "line": {
          "color": "#EF553B"
         },
         "name": "SRHT",
         "showlegend": false,
         "type": "scatter",
         "x": {
          "bdata": "6APQB7gLoA+IEw==",
          "dtype": "i2"
         },
         "xaxis": "x2",
         "y": {
          "bdata": "mpmZA3hmqz+amZkkZm7MP83MrMwQnuI/ZmbWjiyq8z9mZoZlfTQCQA==",
          "dtype": "f8"
         },
         "yaxis": "y2"
        },
        {
         "legendgroup": "SRFT",
         "line": {
          "color": "#00CC96"
         },
         "name": "SRFT",
         "showlegend": false,
         "type": "scatter",
         "x": {
          "bdata": "6APQB7gLoA+IEw==",
          "dtype": "i2"
         },
         "xaxis": "x2",
         "y": {
          "bdata": "zczM2ixFqz/NzMxy/dTLP5qZGUNd/eE/mpkZ+6pw8z8AAJi0A0oCQA==",
          "dtype": "f8"
         },
         "yaxis": "y2"
        },
        {
         "legendgroup": "CountSketch",
         "line": {
          "color": "#AB63FA"
         },
         "name": "CountSketch",
         "showlegend": false,
         "type": "scatter",
         "x": {
          "bdata": "6APQB7gLoA+IEw==",
          "dtype": "i2"
         },
         "xaxis": "x2",
         "y": {
          "bdata": "MzMz64l0qj8AAAAEhrTKP83M7A605eA/mpkJMj2v8T+amZmJ4XEAQA==",
          "dtype": "f8"
         },
         "yaxis": "y2"
        },
        {
         "legendgroup": "Sparse JL",
         "line": {
          "color": "#FFA15A"
         },
         "name": "Sparse JL",
         "showlegend": false,
         "type": "scatter",
         "x": {
          "bdata": "6APQB7gLoA+IEw==",
          "dtype": "i2"
         },
         "xaxis": "x2",
         "y": {
          "bdata": "AAAAIJrUqz+amRmCjS3KPwAAoDr2HOE/mpnZUlmn8T/NzGxyQoIAQA==",
          "dtype": "f8"
         },
         "yaxis": "y2"
        }
       ],
       "layout": {
        "annotations": [
         {
          "font": {
           "size": 16
          },
          "showarrow": false,
          "text": "Dense",
          "x": 0.225,
          "xanchor": "center",
          "xref": "paper",
          "y": 1,
          "yanchor": "bottom",
          "yref": "paper"
         },
         {
          "font": {
           "size": 16
          },
          "showarrow": false,
          "text": "Sparse",
          "x": 0.775,
          "xanchor": "center",
          "xref": "paper",
          "y": 1,
          "yanchor": "bottom",
          "yref": "paper"
         }
        ],
        "font": {
         "color": "black",
         "size": 10
        },
        "height": 400,
        "legend": {
         "orientation": "h",
         "x": 0.5,
         "xanchor": "center",
         "y": -0.2,
         "yanchor": "top"
        },
        "margin": {
         "b": 40,
         "l": 20,
         "r": 20,
         "t": 40
        },
        "template": {
         "data": {
          "bar": [
           {
            "error_x": {
             "color": "#2a3f5f"
            },
            "error_y": {
             "color": "#2a3f5f"
            },
            "marker": {
             "line": {
              "color": "white",
              "width": 0.5
             },
             "pattern": {
              "fillmode": "overlay",
              "size": 10,
              "solidity": 0.2
             }
            },
            "type": "bar"
           }
          ],
          "barpolar": [
           {
            "marker": {
             "line": {
              "color": "white",
              "width": 0.5
             },
             "pattern": {
              "fillmode": "overlay",
              "size": 10,
              "solidity": 0.2
             }
            },
            "type": "barpolar"
           }
          ],
          "carpet": [
           {
            "aaxis": {
             "endlinecolor": "#2a3f5f",
             "gridcolor": "#C8D4E3",
             "linecolor": "#C8D4E3",
             "minorgridcolor": "#C8D4E3",
             "startlinecolor": "#2a3f5f"
            },
            "baxis": {
             "endlinecolor": "#2a3f5f",
             "gridcolor": "#C8D4E3",
             "linecolor": "#C8D4E3",
             "minorgridcolor": "#C8D4E3",
             "startlinecolor": "#2a3f5f"
            },
            "type": "carpet"
           }
          ],
          "choropleth": [
           {
            "colorbar": {
             "outlinewidth": 0,
             "ticks": ""
            },
            "type": "choropleth"
           }
          ],
          "contour": [
           {
            "colorbar": {
             "outlinewidth": 0,
             "ticks": ""
            },
            "colorscale": [
             [
              0,
              "#0d0887"
             ],
             [
              0.1111111111111111,
              "#46039f"
             ],
             [
              0.2222222222222222,
              "#7201a8"
             ],
             [
              0.3333333333333333,
              "#9c179e"
             ],
             [
              0.4444444444444444,
              "#bd3786"
             ],
             [
              0.5555555555555556,
              "#d8576b"
             ],
             [
              0.6666666666666666,
              "#ed7953"
             ],
             [
              0.7777777777777778,
              "#fb9f3a"
             ],
             [
              0.8888888888888888,
              "#fdca26"
             ],
             [
              1,
              "#f0f921"
             ]
            ],
            "type": "contour"
           }
          ],
          "contourcarpet": [
           {
            "colorbar": {
             "outlinewidth": 0,
             "ticks": ""
            },
            "type": "contourcarpet"
           }
          ],
          "heatmap": [
           {
            "colorbar": {
             "outlinewidth": 0,
             "ticks": ""
            },
            "colorscale": [
             [
              0,
              "#0d0887"
             ],
             [
              0.1111111111111111,
              "#46039f"
             ],
             [
              0.2222222222222222,
              "#7201a8"
             ],
             [
              0.3333333333333333,
              "#9c179e"
             ],
             [
              0.4444444444444444,
              "#bd3786"
             ],
             [
              0.5555555555555556,
              "#d8576b"
             ],
             [
              0.6666666666666666,
              "#ed7953"
             ],
             [
              0.7777777777777778,
              "#fb9f3a"
             ],
             [
              0.8888888888888888,
              "#fdca26"
             ],
             [
              1,
              "#f0f921"
             ]
            ],
            "type": "heatmap"
           }
          ],
          "histogram": [
           {
            "marker": {
             "pattern": {
              "fillmode": "overlay",
              "size": 10,
              "solidity": 0.2
             }
            },
            "type": "histogram"
           }
          ],
          "histogram2d": [
           {
            "colorbar": {
             "outlinewidth": 0,
             "ticks": ""
            },
            "colorscale": [
             [
              0,
              "#0d0887"
             ],
             [
              0.1111111111111111,
              "#46039f"
             ],
             [
              0.2222222222222222,
              "#7201a8"
             ],
             [
              0.3333333333333333,
              "#9c179e"
             ],
             [
              0.4444444444444444,
              "#bd3786"
             ],
             [
              0.5555555555555556,
              "#d8576b"
             ],
             [
              0.6666666666666666,
              "#ed7953"
             ],
             [
              0.7777777777777778,
              "#fb9f3a"
             ],
             [
              0.8888888888888888,
              "#fdca26"
             ],
             [
              1,
              "#f0f921"
             ]
            ],
            "type": "histogram2d"
           }
          ],
          "histogram2dcontour": [
           {
            "colorbar": {
             "outlinewidth": 0,
             "ticks": ""
            },
            "colorscale": [
             [
              0,
              "#0d0887"
             ],
             [
              0.1111111111111111,
              "#46039f"
             ],
             [
              0.2222222222222222,
              "#7201a8"
             ],
             [
              0.3333333333333333,
              "#9c179e"
             ],
             [
              0.4444444444444444,
              "#bd3786"
             ],
             [
              0.5555555555555556,
              "#d8576b"
             ],
             [
              0.6666666666666666,
              "#ed7953"
             ],
             [
              0.7777777777777778,
              "#fb9f3a"
             ],
             [
              0.8888888888888888,
              "#fdca26"
             ],
             [
              1,
              "#f0f921"
             ]
            ],
            "type": "histogram2dcontour"
           }
          ],
          "mesh3d": [
           {
            "colorbar": {
             "outlinewidth": 0,
             "ticks": ""
            },
            "type": "mesh3d"
           }
          ],
          "parcoords": [
           {
            "line": {
             "colorbar": {
              "outlinewidth": 0,
              "ticks": ""
             }
            },
            "type": "parcoords"
           }
          ],
          "pie": [
           {
            "automargin": true,
            "type": "pie"
           }
          ],
          "scatter": [
           {
            "fillpattern": {
             "fillmode": "overlay",
             "size": 10,
             "solidity": 0.2
            },
            "type": "scatter"
           }
          ],
          "scatter3d": [
           {
            "line": {
             "colorbar": {
              "outlinewidth": 0,
              "ticks": ""
             }
            },
            "marker": {
             "colorbar": {
              "outlinewidth": 0,
              "ticks": ""
             }
            },
            "type": "scatter3d"
           }
          ],
          "scattercarpet": [
           {
            "marker": {
             "colorbar": {
              "outlinewidth": 0,
              "ticks": ""
             }
            },
            "type": "scattercarpet"
           }
          ],
          "scattergeo": [
           {
            "marker": {
             "colorbar": {
              "outlinewidth": 0,
              "ticks": ""
             }
            },
            "type": "scattergeo"
           }
          ],
          "scattergl": [
           {
            "marker": {
             "colorbar": {
              "outlinewidth": 0,
              "ticks": ""
             }
            },
            "type": "scattergl"
           }
          ],
          "scattermap": [
           {
            "marker": {
             "colorbar": {
              "outlinewidth": 0,
              "ticks": ""
             }
            },
            "type": "scattermap"
           }
          ],
          "scattermapbox": [
           {
            "marker": {
             "colorbar": {
              "outlinewidth": 0,
              "ticks": ""
             }
            },
            "type": "scattermapbox"
           }
          ],
          "scatterpolar": [
           {
            "marker": {
             "colorbar": {
              "outlinewidth": 0,
              "ticks": ""
             }
            },
            "type": "scatterpolar"
           }
          ],
          "scatterpolargl": [
           {
            "marker": {
             "colorbar": {
              "outlinewidth": 0,
              "ticks": ""
             }
            },
            "type": "scatterpolargl"
           }
          ],
          "scatterternary": [
           {
            "marker": {
             "colorbar": {
              "outlinewidth": 0,
              "ticks": ""
             }
            },
            "type": "scatterternary"
           }
          ],
          "surface": [
           {
            "colorbar": {
             "outlinewidth": 0,
             "ticks": ""
            },
            "colorscale": [
             [
              0,
              "#0d0887"
             ],
             [
              0.1111111111111111,
              "#46039f"
             ],
             [
              0.2222222222222222,
              "#7201a8"
             ],
             [
              0.3333333333333333,
              "#9c179e"
             ],
             [
              0.4444444444444444,
              "#bd3786"
             ],
             [
              0.5555555555555556,
              "#d8576b"
             ],
             [
              0.6666666666666666,
              "#ed7953"
             ],
             [
              0.7777777777777778,
              "#fb9f3a"
             ],
             [
              0.8888888888888888,
              "#fdca26"
             ],
             [
              1,
              "#f0f921"
             ]
            ],
            "type": "surface"
           }
          ],
          "table": [
           {
            "cells": {
             "fill": {
              "color": "#EBF0F8"
             },
             "line": {
              "color": "white"
             }
            },
            "header": {
             "fill": {
              "color": "#C8D4E3"
             },
             "line": {
              "color": "white"
             }
            },
            "type": "table"
           }
          ]
         },
         "layout": {
          "annotationdefaults": {
           "arrowcolor": "#2a3f5f",
           "arrowhead": 0,
           "arrowwidth": 1
          },
          "autotypenumbers": "strict",
          "coloraxis": {
           "colorbar": {
            "outlinewidth": 0,
            "ticks": ""
           }
          },
          "colorscale": {
           "diverging": [
            [
             0,
             "#8e0152"
            ],
            [
             0.1,
             "#c51b7d"
            ],
            [
             0.2,
             "#de77ae"
            ],
            [
             0.3,
             "#f1b6da"
            ],
            [
             0.4,
             "#fde0ef"
            ],
            [
             0.5,
             "#f7f7f7"
            ],
            [
             0.6,
             "#e6f5d0"
            ],
            [
             0.7,
             "#b8e186"
            ],
            [
             0.8,
             "#7fbc41"
            ],
            [
             0.9,
             "#4d9221"
            ],
            [
             1,
             "#276419"
            ]
           ],
           "sequential": [
            [
             0,
             "#0d0887"
            ],
            [
             0.1111111111111111,
             "#46039f"
            ],
            [
             0.2222222222222222,
             "#7201a8"
            ],
            [
             0.3333333333333333,
             "#9c179e"
            ],
            [
             0.4444444444444444,
             "#bd3786"
            ],
            [
             0.5555555555555556,
             "#d8576b"
            ],
            [
             0.6666666666666666,
             "#ed7953"
            ],
            [
             0.7777777777777778,
             "#fb9f3a"
            ],
            [
             0.8888888888888888,
             "#fdca26"
            ],
            [
             1,
             "#f0f921"
            ]
           ],
           "sequentialminus": [
            [
             0,
             "#0d0887"
            ],
            [
             0.1111111111111111,
             "#46039f"
            ],
            [
             0.2222222222222222,
             "#7201a8"
            ],
            [
             0.3333333333333333,
             "#9c179e"
            ],
            [
             0.4444444444444444,
             "#bd3786"
            ],
            [
             0.5555555555555556,
             "#d8576b"
            ],
            [
             0.6666666666666666,
             "#ed7953"
            ],
            [
             0.7777777777777778,
             "#fb9f3a"
            ],
            [
             0.8888888888888888,
             "#fdca26"
            ],
            [
             1,
             "#f0f921"
            ]
           ]
          },
          "colorway": [
           "#636efa",
           "#EF553B",
           "#00cc96",
           "#ab63fa",
           "#FFA15A",
           "#19d3f3",
           "#FF6692",
           "#B6E880",
           "#FF97FF",
           "#FECB52"
          ],
          "font": {
           "color": "#2a3f5f"
          },
          "geo": {
           "bgcolor": "white",
           "lakecolor": "white",
           "landcolor": "white",
           "showlakes": true,
           "showland": true,
           "subunitcolor": "#C8D4E3"
          },
          "hoverlabel": {
           "align": "left"
          },
          "hovermode": "closest",
          "mapbox": {
           "style": "light"
          },
          "paper_bgcolor": "white",
          "plot_bgcolor": "white",
          "polar": {
           "angularaxis": {
            "gridcolor": "#EBF0F8",
            "linecolor": "#EBF0F8",
            "ticks": ""
           },
           "bgcolor": "white",
           "radialaxis": {
            "gridcolor": "#EBF0F8",
            "linecolor": "#EBF0F8",
            "ticks": ""
           }
          },
          "scene": {
           "xaxis": {
            "backgroundcolor": "white",
            "gridcolor": "#DFE8F3",
            "gridwidth": 2,
            "linecolor": "#EBF0F8",
            "showbackground": true,
            "ticks": "",
            "zerolinecolor": "#EBF0F8"
           },
           "yaxis": {
            "backgroundcolor": "white",
            "gridcolor": "#DFE8F3",
            "gridwidth": 2,
            "linecolor": "#EBF0F8",
            "showbackground": true,
            "ticks": "",
            "zerolinecolor": "#EBF0F8"
           },
           "zaxis": {
            "backgroundcolor": "white",
            "gridcolor": "#DFE8F3",
            "gridwidth": 2,
            "linecolor": "#EBF0F8",
            "showbackground": true,
            "ticks": "",
            "zerolinecolor": "#EBF0F8"
           }
          },
          "shapedefaults": {
           "line": {
            "color": "#2a3f5f"
           }
          },
          "ternary": {
           "aaxis": {
            "gridcolor": "#DFE8F3",
            "linecolor": "#A2B1C6",
            "ticks": ""
           },
           "baxis": {
            "gridcolor": "#DFE8F3",
            "linecolor": "#A2B1C6",
            "ticks": ""
           },
           "bgcolor": "white",
           "caxis": {
            "gridcolor": "#DFE8F3",
            "linecolor": "#A2B1C6",
            "ticks": ""
           }
          },
          "title": {
           "x": 0.05
          },
          "xaxis": {
           "automargin": true,
           "gridcolor": "#EBF0F8",
           "linecolor": "#EBF0F8",
           "ticks": "",
           "title": {
            "standoff": 15
           },
           "zerolinecolor": "#EBF0F8",
           "zerolinewidth": 2
          },
          "yaxis": {
           "automargin": true,
           "gridcolor": "#EBF0F8",
           "linecolor": "#EBF0F8",
           "ticks": "",
           "title": {
            "standoff": 15
           },
           "zerolinecolor": "#EBF0F8",
           "zerolinewidth": 2
          }
         }
        },
        "width": 800,
        "xaxis": {
         "anchor": "y",
         "domain": [
          0,
          0.45
         ],
         "title": {
          "text": "Size (n)"
         }
        },
        "xaxis2": {
         "anchor": "y2",
         "domain": [
          0.55,
          1
         ],
         "title": {
          "text": "Size (n)"
         }
        },
        "yaxis": {
         "anchor": "x",
         "domain": [
          0,
          1
         ],
         "title": {
          "text": "Time (s)"
         }
        },
        "yaxis2": {
         "anchor": "x2",
         "domain": [
          0,
          1
         ],
         "title": {
          "text": "Time (s)"
         }
        }
       }
      }
     },
     "metadata": {},
     "output_type": "display_data"
    }
   ],
   "source": [
    "fig = make_subplots(rows = 1, cols = 2,\n",
    "                    subplot_titles=['Dense','Sparse'])\n",
    "\n",
    "_df = summary_df[summary_df['Density'] == 'dense']\n",
    "for method in _df['Method'].unique():\n",
    "\n",
    "    fig.add_trace(\n",
    "        go.Scatter(\n",
    "            x = _df[_df['Method'] == method]['Size'],\n",
    "            y = _df[_df['Method'] == method]['RPI Time'],\n",
    "            name = method,\n",
    "            legendgroup=method,\n",
    "            line_color=method_colors[method],\n",
    "            showlegend=True\n",
    "        ),\n",
    "        row=1,col=1\n",
    "    )\n",
    "\n",
    "_df = summary_df[summary_df['Density'] == 'sparse']\n",
    "for method in _df['Method'].unique():\n",
    "    fig.add_trace(\n",
    "        go.Scatter(\n",
    "            x = _df[_df['Method'] == method]['Size'],\n",
    "            y = _df[_df['Method'] == method]['RPI Time'],\n",
    "            name = method,\n",
    "            legendgroup=method,\n",
    "            line_color=method_colors[method],\n",
    "            showlegend=False\n",
    "        ),\n",
    "        row=1,col=2\n",
    "    )\n",
    "\n",
    "fig.update_layout(\n",
    "    xaxis1_title = 'Size (n)',\n",
    "    yaxis1_title = 'Time (s)',\n",
    "    xaxis2_title = 'Size (n)',\n",
    "    yaxis2_title = 'Time (s)',\n",
    "    template = 'plotly_white',\n",
    "    legend=dict(\n",
    "        orientation=\"h\",  # horizontal\n",
    "        y=-0.2,           # move legend below the plot\n",
    "        x=0.5,\n",
    "        xanchor=\"center\",\n",
    "        yanchor=\"top\"\n",
    "    ),\n",
    "    font=dict(\n",
    "        size=10,color='black'\n",
    "    ),\n",
    "    margin=dict(\n",
    "        l=20,  # left margin\n",
    "        r=20,  # right margin\n",
    "        t=40,  # top margin\n",
    "        b=40   # bottom margin\n",
    "    ), \n",
    "    width = 800,\n",
    "    height = 400\n",
    "\n",
    ")\n",
    "\n",
    "fig.show()"
   ]
  },
  {
   "cell_type": "code",
   "execution_count": 49,
   "metadata": {},
   "outputs": [
    {
     "data": {
      "application/vnd.plotly.v1+json": {
       "config": {
        "plotlyServerURL": "https://plot.ly"
       },
       "data": [
        {
         "legendgroup": "Gaussian",
         "line": {
          "color": "#636EFA"
         },
         "mode": "lines+markers",
         "name": "Gaussian",
         "showlegend": true,
         "type": "scatter",
         "x": {
          "bdata": "6APQB7gLoA+IEw==",
          "dtype": "i2"
         },
         "xaxis": "x",
         "y": {
          "bdata": "ZmZm5vQOaj+amZmlKBuTP5qZmQEG1aw/ZmZmpzY8wD8AAIBjdnnPPw==",
          "dtype": "f8"
         },
         "yaxis": "y"
        },
        {
         "legendgroup": "SRHT",
         "line": {
          "color": "#EF553B"
         },
         "mode": "lines+markers",
         "name": "SRHT",
         "showlegend": true,
         "type": "scatter",
         "x": {
          "bdata": "6APQB7gLoA+IEw==",
          "dtype": "i2"
         },
         "xaxis": "x",
         "y": {
          "bdata": "zczMzIU1az+amZklOcORP5qZmUdy+as/MzOz9ZoewD9mZmbs1x/QPw==",
          "dtype": "f8"
         },
         "yaxis": "y"
        },
        {
         "legendgroup": "SRFT",
         "line": {
          "color": "#00CC96"
         },
         "mode": "lines+markers",
         "name": "SRFT",
         "showlegend": true,
         "type": "scatter",
         "x": {
          "bdata": "6APQB7gLoA+IEw==",
          "dtype": "i2"
         },
         "xaxis": "x",
         "y": {
          "bdata": "mpmZeSJ/aD/NzMzARw6SP2ZmZqi+mKw/AAAA34EJwD8zMzM2UZHPPw==",
          "dtype": "f8"
         },
         "yaxis": "y"
        },
        {
         "legendgroup": "CountSketch",
         "line": {
          "color": "#AB63FA"
         },
         "mode": "lines+markers",
         "name": "CountSketch",
         "showlegend": true,
         "type": "scatter",
         "x": {
          "bdata": "6APQB7gLoA+IEw==",
          "dtype": "i2"
         },
         "xaxis": "x",
         "y": {
          "bdata": "AAAAwOMjVD8AAADwJiJwPwAAAEhzroI/zczMHJqJjD9mZmZqVqaVPw==",
          "dtype": "f8"
         },
         "yaxis": "y"
        },
        {
         "legendgroup": "Sparse JL",
         "line": {
          "color": "#FFA15A"
         },
         "mode": "lines+markers",
         "name": "Sparse JL",
         "showlegend": true,
         "type": "scatter",
         "x": {
          "bdata": "6APQB7gLoA+IEw==",
          "dtype": "i2"
         },
         "xaxis": "x",
         "y": {
          "bdata": "zczMjPgcUj8AAADQfPh2P5qZmdntzIc/AAAA5OTZlD8AAAAKPEGgPw==",
          "dtype": "f8"
         },
         "yaxis": "y"
        },
        {
         "legendgroup": "Gaussian",
         "line": {
          "color": "#636EFA"
         },
         "mode": "lines+markers",
         "name": "Gaussian",
         "showlegend": false,
         "type": "scatter",
         "x": {
          "bdata": "6APQB7gLoA+IEw==",
          "dtype": "i2"
         },
         "xaxis": "x2",
         "y": {
          "bdata": "zczM7HybaD8zMzPHgLKSPwAAAPSX7as/zczMXQFcwD+amRnzSw7PPw==",
          "dtype": "f8"
         },
         "yaxis": "y2"
        },
        {
         "legendgroup": "SRHT",
         "line": {
          "color": "#EF553B"
         },
         "mode": "lines+markers",
         "name": "SRHT",
         "showlegend": false,
         "type": "scatter",
         "x": {
          "bdata": "6APQB7gLoA+IEw==",
          "dtype": "i2"
         },
         "xaxis": "x2",
         "y": {
          "bdata": "MzMzk9l2aT9mZmaa6LmSP83MzLwdXaw/ZmbmLq0fwD/NzExModbOPw==",
          "dtype": "f8"
         },
         "yaxis": "y2"
        },
        {
         "legendgroup": "SRFT",
         "line": {
          "color": "#00CC96"
         },
         "mode": "lines+markers",
         "name": "SRFT",
         "showlegend": false,
         "type": "scatter",
         "x": {
          "bdata": "6APQB7gLoA+IEw==",
          "dtype": "i2"
         },
         "xaxis": "x2",
         "y": {
          "bdata": "ZmZm5rQLaT9mZmYGrMmRP83MzEDDk6w/MzMzx2otwD8zM7MXKhzPPw==",
          "dtype": "f8"
         },
         "yaxis": "y2"
        },
        {
         "legendgroup": "CountSketch",
         "line": {
          "color": "#AB63FA"
         },
         "mode": "lines+markers",
         "name": "CountSketch",
         "showlegend": false,
         "type": "scatter",
         "x": {
          "bdata": "6APQB7gLoA+IEw==",
          "dtype": "i2"
         },
         "xaxis": "x2",
         "y": {
          "bdata": "zczMjHRAUj9mZmZG3uhvP83MzCT6QoE/MzMzAwG2jD/NzMzoU7+VPw==",
          "dtype": "f8"
         },
         "yaxis": "y2"
        },
        {
         "legendgroup": "Sparse JL",
         "line": {
          "color": "#FFA15A"
         },
         "mode": "lines+markers",
         "name": "Sparse JL",
         "showlegend": false,
         "type": "scatter",
         "x": {
          "bdata": "6APQB7gLoA+IEw==",
          "dtype": "i2"
         },
         "xaxis": "x2",
         "y": {
          "bdata": "mpmZ2RJcUz+amZkp2+p2PzMzM/NNUIk/MzMz+7hPlT8AAADQnsOfPw==",
          "dtype": "f8"
         },
         "yaxis": "y2"
        },
        {
         "legendgroup": "Gaussian",
         "line": {
          "color": "#636EFA"
         },
         "mode": "lines+markers",
         "name": "Gaussian",
         "showlegend": false,
         "type": "scatter",
         "x": {
          "bdata": "6APQB7gLoA+IEw==",
          "dtype": "i2"
         },
         "xaxis": "x3",
         "y": {
          "bdata": "AAAA0qbqqj/NzMx7D3bMP5qZGdenWOI/Zmb2AXK28z+amSHfjFcCQA==",
          "dtype": "f8"
         },
         "yaxis": "y3"
        },
        {
         "legendgroup": "SRHT",
         "line": {
          "color": "#EF553B"
         },
         "mode": "lines+markers",
         "name": "SRHT",
         "showlegend": false,
         "type": "scatter",
         "x": {
          "bdata": "6APQB7gLoA+IEw==",
          "dtype": "i2"
         },
         "xaxis": "x3",
         "y": {
          "bdata": "zczMLFdoqz/NzMwowtnLP83M7NiTA+I/ZmYWnYak8z8zM8s6NWoCQA==",
          "dtype": "f8"
         },
         "yaxis": "y3"
        },
        {
         "legendgroup": "SRFT",
         "line": {
          "color": "#00CC96"
         },
         "mode": "lines+markers",
         "name": "SRFT",
         "showlegend": false,
         "type": "scatter",
         "x": {
          "bdata": "6APQB7gLoA+IEw==",
          "dtype": "i2"
         },
         "xaxis": "x3",
         "y": {
          "bdata": "AAAAnItcqz/NzMzAbybMP5qZGUizpuI/zcxstWS78z/NzATJt1YCQA==",
          "dtype": "f8"
         },
         "yaxis": "y3"
        },
        {
         "legendgroup": "CountSketch",
         "line": {
          "color": "#AB63FA"
         },
         "mode": "lines+markers",
         "name": "CountSketch",
         "showlegend": false,
         "type": "scatter",
         "x": {
          "bdata": "6APQB7gLoA+IEw==",
          "dtype": "i2"
         },
         "xaxis": "x3",
         "y": {
          "bdata": "zczMjK0tqz/NzExVKk3KPwAAoOuYxuA/ZmZmhCu+8T8AAOhzGHgAQA==",
          "dtype": "f8"
         },
         "yaxis": "y3"
        },
        {
         "legendgroup": "Sparse JL",
         "line": {
          "color": "#FFA15A"
         },
         "mode": "lines+markers",
         "name": "Sparse JL",
         "showlegend": false,
         "type": "scatter",
         "x": {
          "bdata": "6APQB7gLoA+IEw==",
          "dtype": "i2"
         },
         "xaxis": "x3",
         "y": {
          "bdata": "mpmZAaqwqj+amZm3gp7JPzMzc5A3sOA/zczs2K3K8T/NzPQ/bYoAQA==",
          "dtype": "f8"
         },
         "yaxis": "y3"
        },
        {
         "legendgroup": "Gaussian",
         "line": {
          "color": "#636EFA"
         },
         "mode": "lines+markers",
         "name": "Gaussian",
         "showlegend": false,
         "type": "scatter",
         "x": {
          "bdata": "6APQB7gLoA+IEw==",
          "dtype": "i2"
         },
         "xaxis": "x4",
         "y": {
          "bdata": "mpmZrTlZqz+amZlUvaHLPwAAYMG9OOI/MzNDuPFt8z/NzMyqKRUCQA==",
          "dtype": "f8"
         },
         "yaxis": "y4"
        },
        {
         "legendgroup": "SRHT",
         "line": {
          "color": "#EF553B"
         },
         "mode": "lines+markers",
         "name": "SRHT",
         "showlegend": false,
         "type": "scatter",
         "x": {
          "bdata": "6APQB7gLoA+IEw==",
          "dtype": "i2"
         },
         "xaxis": "x4",
         "y": {
          "bdata": "mpmZA3hmqz+amZkkZm7MP83MrMwQnuI/ZmbWjiyq8z9mZoZlfTQCQA==",
          "dtype": "f8"
         },
         "yaxis": "y4"
        },
        {
         "legendgroup": "SRFT",
         "line": {
          "color": "#00CC96"
         },
         "mode": "lines+markers",
         "name": "SRFT",
         "showlegend": false,
         "type": "scatter",
         "x": {
          "bdata": "6APQB7gLoA+IEw==",
          "dtype": "i2"
         },
         "xaxis": "x4",
         "y": {
          "bdata": "zczM2ixFqz/NzMxy/dTLP5qZGUNd/eE/mpkZ+6pw8z8AAJi0A0oCQA==",
          "dtype": "f8"
         },
         "yaxis": "y4"
        },
        {
         "legendgroup": "CountSketch",
         "line": {
          "color": "#AB63FA"
         },
         "mode": "lines+markers",
         "name": "CountSketch",
         "showlegend": false,
         "type": "scatter",
         "x": {
          "bdata": "6APQB7gLoA+IEw==",
          "dtype": "i2"
         },
         "xaxis": "x4",
         "y": {
          "bdata": "MzMz64l0qj8AAAAEhrTKP83M7A605eA/mpkJMj2v8T+amZmJ4XEAQA==",
          "dtype": "f8"
         },
         "yaxis": "y4"
        },
        {
         "legendgroup": "Sparse JL",
         "line": {
          "color": "#FFA15A"
         },
         "mode": "lines+markers",
         "name": "Sparse JL",
         "showlegend": false,
         "type": "scatter",
         "x": {
          "bdata": "6APQB7gLoA+IEw==",
          "dtype": "i2"
         },
         "xaxis": "x4",
         "y": {
          "bdata": "AAAAIJrUqz+amRmCjS3KPwAAoDr2HOE/mpnZUlmn8T/NzGxyQoIAQA==",
          "dtype": "f8"
         },
         "yaxis": "y4"
        }
       ],
       "layout": {
        "annotations": [
         {
          "font": {
           "size": 16
          },
          "showarrow": false,
          "text": "Dense Projection",
          "x": 0.095,
          "xanchor": "center",
          "xref": "paper",
          "y": 1,
          "yanchor": "bottom",
          "yref": "paper"
         },
         {
          "font": {
           "size": 16
          },
          "showarrow": false,
          "text": "Sparse Projection",
          "x": 0.365,
          "xanchor": "center",
          "xref": "paper",
          "y": 1,
          "yanchor": "bottom",
          "yref": "paper"
         },
         {
          "font": {
           "size": 16
          },
          "showarrow": false,
          "text": "Dense RPI",
          "x": 0.635,
          "xanchor": "center",
          "xref": "paper",
          "y": 1,
          "yanchor": "bottom",
          "yref": "paper"
         },
         {
          "font": {
           "size": 16
          },
          "showarrow": false,
          "text": "Sparse RPI",
          "x": 0.905,
          "xanchor": "center",
          "xref": "paper",
          "y": 1,
          "yanchor": "bottom",
          "yref": "paper"
         }
        ],
        "font": {
         "color": "black",
         "size": 12
        },
        "height": 450,
        "legend": {
         "orientation": "h",
         "x": 0.5,
         "xanchor": "center",
         "y": -0.2,
         "yanchor": "top"
        },
        "margin": {
         "b": 80,
         "l": 20,
         "r": 20,
         "t": 40
        },
        "template": {
         "data": {
          "bar": [
           {
            "error_x": {
             "color": "rgb(36,36,36)"
            },
            "error_y": {
             "color": "rgb(36,36,36)"
            },
            "marker": {
             "line": {
              "color": "white",
              "width": 0.5
             },
             "pattern": {
              "fillmode": "overlay",
              "size": 10,
              "solidity": 0.2
             }
            },
            "type": "bar"
           }
          ],
          "barpolar": [
           {
            "marker": {
             "line": {
              "color": "white",
              "width": 0.5
             },
             "pattern": {
              "fillmode": "overlay",
              "size": 10,
              "solidity": 0.2
             }
            },
            "type": "barpolar"
           }
          ],
          "carpet": [
           {
            "aaxis": {
             "endlinecolor": "rgb(36,36,36)",
             "gridcolor": "white",
             "linecolor": "white",
             "minorgridcolor": "white",
             "startlinecolor": "rgb(36,36,36)"
            },
            "baxis": {
             "endlinecolor": "rgb(36,36,36)",
             "gridcolor": "white",
             "linecolor": "white",
             "minorgridcolor": "white",
             "startlinecolor": "rgb(36,36,36)"
            },
            "type": "carpet"
           }
          ],
          "choropleth": [
           {
            "colorbar": {
             "outlinewidth": 1,
             "tickcolor": "rgb(36,36,36)",
             "ticks": "outside"
            },
            "type": "choropleth"
           }
          ],
          "contour": [
           {
            "colorbar": {
             "outlinewidth": 1,
             "tickcolor": "rgb(36,36,36)",
             "ticks": "outside"
            },
            "colorscale": [
             [
              0,
              "#440154"
             ],
             [
              0.1111111111111111,
              "#482878"
             ],
             [
              0.2222222222222222,
              "#3e4989"
             ],
             [
              0.3333333333333333,
              "#31688e"
             ],
             [
              0.4444444444444444,
              "#26828e"
             ],
             [
              0.5555555555555556,
              "#1f9e89"
             ],
             [
              0.6666666666666666,
              "#35b779"
             ],
             [
              0.7777777777777778,
              "#6ece58"
             ],
             [
              0.8888888888888888,
              "#b5de2b"
             ],
             [
              1,
              "#fde725"
             ]
            ],
            "type": "contour"
           }
          ],
          "contourcarpet": [
           {
            "colorbar": {
             "outlinewidth": 1,
             "tickcolor": "rgb(36,36,36)",
             "ticks": "outside"
            },
            "type": "contourcarpet"
           }
          ],
          "heatmap": [
           {
            "colorbar": {
             "outlinewidth": 1,
             "tickcolor": "rgb(36,36,36)",
             "ticks": "outside"
            },
            "colorscale": [
             [
              0,
              "#440154"
             ],
             [
              0.1111111111111111,
              "#482878"
             ],
             [
              0.2222222222222222,
              "#3e4989"
             ],
             [
              0.3333333333333333,
              "#31688e"
             ],
             [
              0.4444444444444444,
              "#26828e"
             ],
             [
              0.5555555555555556,
              "#1f9e89"
             ],
             [
              0.6666666666666666,
              "#35b779"
             ],
             [
              0.7777777777777778,
              "#6ece58"
             ],
             [
              0.8888888888888888,
              "#b5de2b"
             ],
             [
              1,
              "#fde725"
             ]
            ],
            "type": "heatmap"
           }
          ],
          "histogram": [
           {
            "marker": {
             "line": {
              "color": "white",
              "width": 0.6
             },
             "pattern": {
              "fillmode": "overlay",
              "size": 10,
              "solidity": 0.2
             }
            },
            "type": "histogram"
           }
          ],
          "histogram2d": [
           {
            "colorbar": {
             "outlinewidth": 1,
             "tickcolor": "rgb(36,36,36)",
             "ticks": "outside"
            },
            "colorscale": [
             [
              0,
              "#440154"
             ],
             [
              0.1111111111111111,
              "#482878"
             ],
             [
              0.2222222222222222,
              "#3e4989"
             ],
             [
              0.3333333333333333,
              "#31688e"
             ],
             [
              0.4444444444444444,
              "#26828e"
             ],
             [
              0.5555555555555556,
              "#1f9e89"
             ],
             [
              0.6666666666666666,
              "#35b779"
             ],
             [
              0.7777777777777778,
              "#6ece58"
             ],
             [
              0.8888888888888888,
              "#b5de2b"
             ],
             [
              1,
              "#fde725"
             ]
            ],
            "type": "histogram2d"
           }
          ],
          "histogram2dcontour": [
           {
            "colorbar": {
             "outlinewidth": 1,
             "tickcolor": "rgb(36,36,36)",
             "ticks": "outside"
            },
            "colorscale": [
             [
              0,
              "#440154"
             ],
             [
              0.1111111111111111,
              "#482878"
             ],
             [
              0.2222222222222222,
              "#3e4989"
             ],
             [
              0.3333333333333333,
              "#31688e"
             ],
             [
              0.4444444444444444,
              "#26828e"
             ],
             [
              0.5555555555555556,
              "#1f9e89"
             ],
             [
              0.6666666666666666,
              "#35b779"
             ],
             [
              0.7777777777777778,
              "#6ece58"
             ],
             [
              0.8888888888888888,
              "#b5de2b"
             ],
             [
              1,
              "#fde725"
             ]
            ],
            "type": "histogram2dcontour"
           }
          ],
          "mesh3d": [
           {
            "colorbar": {
             "outlinewidth": 1,
             "tickcolor": "rgb(36,36,36)",
             "ticks": "outside"
            },
            "type": "mesh3d"
           }
          ],
          "parcoords": [
           {
            "line": {
             "colorbar": {
              "outlinewidth": 1,
              "tickcolor": "rgb(36,36,36)",
              "ticks": "outside"
             }
            },
            "type": "parcoords"
           }
          ],
          "pie": [
           {
            "automargin": true,
            "type": "pie"
           }
          ],
          "scatter": [
           {
            "fillpattern": {
             "fillmode": "overlay",
             "size": 10,
             "solidity": 0.2
            },
            "type": "scatter"
           }
          ],
          "scatter3d": [
           {
            "line": {
             "colorbar": {
              "outlinewidth": 1,
              "tickcolor": "rgb(36,36,36)",
              "ticks": "outside"
             }
            },
            "marker": {
             "colorbar": {
              "outlinewidth": 1,
              "tickcolor": "rgb(36,36,36)",
              "ticks": "outside"
             }
            },
            "type": "scatter3d"
           }
          ],
          "scattercarpet": [
           {
            "marker": {
             "colorbar": {
              "outlinewidth": 1,
              "tickcolor": "rgb(36,36,36)",
              "ticks": "outside"
             }
            },
            "type": "scattercarpet"
           }
          ],
          "scattergeo": [
           {
            "marker": {
             "colorbar": {
              "outlinewidth": 1,
              "tickcolor": "rgb(36,36,36)",
              "ticks": "outside"
             }
            },
            "type": "scattergeo"
           }
          ],
          "scattergl": [
           {
            "marker": {
             "colorbar": {
              "outlinewidth": 1,
              "tickcolor": "rgb(36,36,36)",
              "ticks": "outside"
             }
            },
            "type": "scattergl"
           }
          ],
          "scattermap": [
           {
            "marker": {
             "colorbar": {
              "outlinewidth": 1,
              "tickcolor": "rgb(36,36,36)",
              "ticks": "outside"
             }
            },
            "type": "scattermap"
           }
          ],
          "scattermapbox": [
           {
            "marker": {
             "colorbar": {
              "outlinewidth": 1,
              "tickcolor": "rgb(36,36,36)",
              "ticks": "outside"
             }
            },
            "type": "scattermapbox"
           }
          ],
          "scatterpolar": [
           {
            "marker": {
             "colorbar": {
              "outlinewidth": 1,
              "tickcolor": "rgb(36,36,36)",
              "ticks": "outside"
             }
            },
            "type": "scatterpolar"
           }
          ],
          "scatterpolargl": [
           {
            "marker": {
             "colorbar": {
              "outlinewidth": 1,
              "tickcolor": "rgb(36,36,36)",
              "ticks": "outside"
             }
            },
            "type": "scatterpolargl"
           }
          ],
          "scatterternary": [
           {
            "marker": {
             "colorbar": {
              "outlinewidth": 1,
              "tickcolor": "rgb(36,36,36)",
              "ticks": "outside"
             }
            },
            "type": "scatterternary"
           }
          ],
          "surface": [
           {
            "colorbar": {
             "outlinewidth": 1,
             "tickcolor": "rgb(36,36,36)",
             "ticks": "outside"
            },
            "colorscale": [
             [
              0,
              "#440154"
             ],
             [
              0.1111111111111111,
              "#482878"
             ],
             [
              0.2222222222222222,
              "#3e4989"
             ],
             [
              0.3333333333333333,
              "#31688e"
             ],
             [
              0.4444444444444444,
              "#26828e"
             ],
             [
              0.5555555555555556,
              "#1f9e89"
             ],
             [
              0.6666666666666666,
              "#35b779"
             ],
             [
              0.7777777777777778,
              "#6ece58"
             ],
             [
              0.8888888888888888,
              "#b5de2b"
             ],
             [
              1,
              "#fde725"
             ]
            ],
            "type": "surface"
           }
          ],
          "table": [
           {
            "cells": {
             "fill": {
              "color": "rgb(237,237,237)"
             },
             "line": {
              "color": "white"
             }
            },
            "header": {
             "fill": {
              "color": "rgb(217,217,217)"
             },
             "line": {
              "color": "white"
             }
            },
            "type": "table"
           }
          ]
         },
         "layout": {
          "annotationdefaults": {
           "arrowcolor": "#2a3f5f",
           "arrowhead": 0,
           "arrowwidth": 1
          },
          "autotypenumbers": "strict",
          "coloraxis": {
           "colorbar": {
            "outlinewidth": 1,
            "tickcolor": "rgb(36,36,36)",
            "ticks": "outside"
           }
          },
          "colorscale": {
           "diverging": [
            [
             0,
             "rgb(103,0,31)"
            ],
            [
             0.1,
             "rgb(178,24,43)"
            ],
            [
             0.2,
             "rgb(214,96,77)"
            ],
            [
             0.3,
             "rgb(244,165,130)"
            ],
            [
             0.4,
             "rgb(253,219,199)"
            ],
            [
             0.5,
             "rgb(247,247,247)"
            ],
            [
             0.6,
             "rgb(209,229,240)"
            ],
            [
             0.7,
             "rgb(146,197,222)"
            ],
            [
             0.8,
             "rgb(67,147,195)"
            ],
            [
             0.9,
             "rgb(33,102,172)"
            ],
            [
             1,
             "rgb(5,48,97)"
            ]
           ],
           "sequential": [
            [
             0,
             "#440154"
            ],
            [
             0.1111111111111111,
             "#482878"
            ],
            [
             0.2222222222222222,
             "#3e4989"
            ],
            [
             0.3333333333333333,
             "#31688e"
            ],
            [
             0.4444444444444444,
             "#26828e"
            ],
            [
             0.5555555555555556,
             "#1f9e89"
            ],
            [
             0.6666666666666666,
             "#35b779"
            ],
            [
             0.7777777777777778,
             "#6ece58"
            ],
            [
             0.8888888888888888,
             "#b5de2b"
            ],
            [
             1,
             "#fde725"
            ]
           ],
           "sequentialminus": [
            [
             0,
             "#440154"
            ],
            [
             0.1111111111111111,
             "#482878"
            ],
            [
             0.2222222222222222,
             "#3e4989"
            ],
            [
             0.3333333333333333,
             "#31688e"
            ],
            [
             0.4444444444444444,
             "#26828e"
            ],
            [
             0.5555555555555556,
             "#1f9e89"
            ],
            [
             0.6666666666666666,
             "#35b779"
            ],
            [
             0.7777777777777778,
             "#6ece58"
            ],
            [
             0.8888888888888888,
             "#b5de2b"
            ],
            [
             1,
             "#fde725"
            ]
           ]
          },
          "colorway": [
           "#1F77B4",
           "#FF7F0E",
           "#2CA02C",
           "#D62728",
           "#9467BD",
           "#8C564B",
           "#E377C2",
           "#7F7F7F",
           "#BCBD22",
           "#17BECF"
          ],
          "font": {
           "color": "rgb(36,36,36)"
          },
          "geo": {
           "bgcolor": "white",
           "lakecolor": "white",
           "landcolor": "white",
           "showlakes": true,
           "showland": true,
           "subunitcolor": "white"
          },
          "hoverlabel": {
           "align": "left"
          },
          "hovermode": "closest",
          "mapbox": {
           "style": "light"
          },
          "paper_bgcolor": "white",
          "plot_bgcolor": "white",
          "polar": {
           "angularaxis": {
            "gridcolor": "rgb(232,232,232)",
            "linecolor": "rgb(36,36,36)",
            "showgrid": false,
            "showline": true,
            "ticks": "outside"
           },
           "bgcolor": "white",
           "radialaxis": {
            "gridcolor": "rgb(232,232,232)",
            "linecolor": "rgb(36,36,36)",
            "showgrid": false,
            "showline": true,
            "ticks": "outside"
           }
          },
          "scene": {
           "xaxis": {
            "backgroundcolor": "white",
            "gridcolor": "rgb(232,232,232)",
            "gridwidth": 2,
            "linecolor": "rgb(36,36,36)",
            "showbackground": true,
            "showgrid": false,
            "showline": true,
            "ticks": "outside",
            "zeroline": false,
            "zerolinecolor": "rgb(36,36,36)"
           },
           "yaxis": {
            "backgroundcolor": "white",
            "gridcolor": "rgb(232,232,232)",
            "gridwidth": 2,
            "linecolor": "rgb(36,36,36)",
            "showbackground": true,
            "showgrid": false,
            "showline": true,
            "ticks": "outside",
            "zeroline": false,
            "zerolinecolor": "rgb(36,36,36)"
           },
           "zaxis": {
            "backgroundcolor": "white",
            "gridcolor": "rgb(232,232,232)",
            "gridwidth": 2,
            "linecolor": "rgb(36,36,36)",
            "showbackground": true,
            "showgrid": false,
            "showline": true,
            "ticks": "outside",
            "zeroline": false,
            "zerolinecolor": "rgb(36,36,36)"
           }
          },
          "shapedefaults": {
           "fillcolor": "black",
           "line": {
            "color": "#2a3f5f",
            "width": 0
           },
           "opacity": 0.3
          },
          "ternary": {
           "aaxis": {
            "gridcolor": "rgb(232,232,232)",
            "linecolor": "rgb(36,36,36)",
            "showgrid": false,
            "showline": true,
            "ticks": "outside"
           },
           "baxis": {
            "gridcolor": "rgb(232,232,232)",
            "linecolor": "rgb(36,36,36)",
            "showgrid": false,
            "showline": true,
            "ticks": "outside"
           },
           "bgcolor": "white",
           "caxis": {
            "gridcolor": "rgb(232,232,232)",
            "linecolor": "rgb(36,36,36)",
            "showgrid": false,
            "showline": true,
            "ticks": "outside"
           }
          },
          "title": {
           "x": 0.05
          },
          "xaxis": {
           "automargin": true,
           "gridcolor": "rgb(232,232,232)",
           "linecolor": "rgb(36,36,36)",
           "showgrid": false,
           "showline": true,
           "ticks": "outside",
           "title": {
            "standoff": 15
           },
           "zeroline": false,
           "zerolinecolor": "rgb(36,36,36)",
           "zerolinewidth": 2
          },
          "yaxis": {
           "automargin": true,
           "gridcolor": "rgb(232,232,232)",
           "linecolor": "rgb(36,36,36)",
           "showgrid": false,
           "showline": true,
           "ticks": "outside",
           "title": {
            "standoff": 15
           },
           "zeroline": false,
           "zerolinecolor": "rgb(36,36,36)",
           "zerolinewidth": 2
          }
         }
        },
        "width": 1200,
        "xaxis": {
         "anchor": "y",
         "domain": [
          0,
          0.19
         ],
         "gridcolor": "lightgray",
         "showgrid": true,
         "title": {
          "text": "Size (n)"
         }
        },
        "xaxis2": {
         "anchor": "y2",
         "domain": [
          0.27,
          0.46
         ],
         "gridcolor": "lightgray",
         "showgrid": true,
         "title": {
          "text": "Size (n)"
         }
        },
        "xaxis3": {
         "anchor": "y3",
         "domain": [
          0.54,
          0.73
         ],
         "gridcolor": "lightgray",
         "showgrid": true,
         "title": {
          "text": "Size (n)"
         }
        },
        "xaxis4": {
         "anchor": "y4",
         "domain": [
          0.81,
          1
         ],
         "gridcolor": "lightgray",
         "showgrid": true,
         "title": {
          "text": "Size (n)"
         }
        },
        "yaxis": {
         "anchor": "x",
         "domain": [
          0,
          1
         ],
         "gridcolor": "lightgray",
         "showgrid": true,
         "title": {
          "text": "Time (s)"
         }
        },
        "yaxis2": {
         "anchor": "x2",
         "domain": [
          0,
          1
         ],
         "gridcolor": "lightgray",
         "showgrid": true,
         "title": {
          "text": "Time (s)"
         }
        },
        "yaxis3": {
         "anchor": "x3",
         "domain": [
          0,
          1
         ],
         "gridcolor": "lightgray",
         "showgrid": true,
         "title": {
          "text": "Time (s)"
         }
        },
        "yaxis4": {
         "anchor": "x4",
         "domain": [
          0,
          1
         ],
         "gridcolor": "lightgray",
         "showgrid": true,
         "title": {
          "text": "Time (s)"
         }
        }
       }
      }
     },
     "metadata": {},
     "output_type": "display_data"
    }
   ],
   "source": [
    "import plotly.graph_objects as go\n",
    "from plotly.subplots import make_subplots\n",
    "import plotly.express as px\n",
    "\n",
    "# Create figure with 1 row and 4 columns\n",
    "fig = make_subplots(rows=1, cols=4,\n",
    "                    subplot_titles=['Dense Projection', 'Sparse Projection', \n",
    "                                   'Dense RPI', 'Sparse RPI'],\n",
    "                    horizontal_spacing=0.08)  # Adjust spacing between subplots\n",
    "\n",
    "# Get color mapping\n",
    "methods = summary_df['Method'].unique()\n",
    "colors = px.colors.qualitative.Plotly\n",
    "method_colors = {method: colors[i % len(colors)] for i, method in enumerate(methods)}\n",
    "\n",
    "# Add Projection Time plots\n",
    "for i, density in enumerate(['dense', 'sparse']):\n",
    "    _df = summary_df[summary_df['Density'] == density]\n",
    "    for method in _df['Method'].unique():\n",
    "        fig.add_trace(\n",
    "            go.Scatter(\n",
    "                x=_df[_df['Method'] == method]['Size'],\n",
    "                y=_df[_df['Method'] == method]['Projection Time'],\n",
    "                name=method,\n",
    "                legendgroup=method,\n",
    "                line_color=method_colors[method],\n",
    "                showlegend=(i == 0),  # Only show legend for first subplot\n",
    "                mode='lines+markers'\n",
    "            ),\n",
    "            row=1, col=i+1\n",
    "        )\n",
    "\n",
    "# Add RPI Time plots\n",
    "for i, density in enumerate(['dense', 'sparse']):\n",
    "    _df = summary_df[summary_df['Density'] == density]\n",
    "    for method in _df['Method'].unique():\n",
    "        fig.add_trace(\n",
    "            go.Scatter(\n",
    "                x=_df[_df['Method'] == method]['Size'],\n",
    "                y=_df[_df['Method'] == method]['RPI Time'],\n",
    "                name=method,\n",
    "                legendgroup=method,\n",
    "                line_color=method_colors[method],\n",
    "                showlegend=False,  # No legend for these subplots\n",
    "                mode='lines+markers'\n",
    "            ),\n",
    "            row=1, col=i+3  # Placed in columns 3 and 4\n",
    "        )\n",
    "\n",
    "# Update layout\n",
    "fig.update_layout(\n",
    "    template='plotly_white+simple_white',\n",
    "    legend=dict(\n",
    "        orientation=\"h\",\n",
    "        y=-0.2,\n",
    "        x=0.5,\n",
    "        xanchor=\"center\",\n",
    "        yanchor=\"top\"\n",
    "    ),\n",
    "    font=dict(size=12, color='black'),\n",
    "    margin=dict(l=20, r=20, t=40, b=80),  # Extra bottom margin for legend\n",
    "    width=1200,  # Wider to accommodate 4 plots\n",
    "    height=400\n",
    ")\n",
    "\n",
    "# Update axis titles\n",
    "fig.update_xaxes(title_text=\"Size (n)\", row=1, col=1)\n",
    "fig.update_xaxes(title_text=\"Size (n)\", row=1, col=2)\n",
    "fig.update_xaxes(title_text=\"Size (n)\", row=1, col=3)\n",
    "fig.update_xaxes(title_text=\"Size (n)\", row=1, col=4)\n",
    "fig.update_yaxes(title_text=\"Time (s)\", row=1, col=1)\n",
    "fig.update_yaxes(title_text=\"Time (s)\", row=1, col=2)\n",
    "fig.update_yaxes(title_text=\"Time (s)\", row=1, col=3)\n",
    "fig.update_yaxes(title_text=\"Time (s)\", row=1, col=4)\n",
    "\n",
    "fig.update_layout(\n",
    "    width = 1200,\n",
    "    height = 450\n",
    ")\n",
    "for i in range(1, 5):  # For 8 axes (2 rows × 4 columns)\n",
    "    fig.update_xaxes(showgrid=True, gridcolor='lightgray', row=(i-1)//4+1, col=(i-1)%4+1)\n",
    "    fig.update_yaxes(showgrid=True, gridcolor='lightgray', row=(i-1)//4+1, col=(i-1)%4+1)\n",
    "\n",
    "fig.show()"
   ]
  },
  {
   "cell_type": "code",
   "execution_count": null,
   "metadata": {},
   "outputs": [],
   "source": []
  }
 ],
 "metadata": {
  "kernelspec": {
   "display_name": ".venv",
   "language": "python",
   "name": "python3"
  },
  "language_info": {
   "codemirror_mode": {
    "name": "ipython",
    "version": 3
   },
   "file_extension": ".py",
   "mimetype": "text/x-python",
   "name": "python",
   "nbconvert_exporter": "python",
   "pygments_lexer": "ipython3",
   "version": "3.13.2"
  }
 },
 "nbformat": 4,
 "nbformat_minor": 2
}
