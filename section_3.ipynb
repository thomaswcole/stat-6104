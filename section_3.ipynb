{
 "cells": [
  {
   "cell_type": "markdown",
   "metadata": {},
   "source": [
    "**Section 3: Compression Algorithms**"
   ]
  },
  {
   "cell_type": "markdown",
   "metadata": {},
   "source": [
    "*Imports*"
   ]
  },
  {
   "cell_type": "code",
   "execution_count": 1,
   "metadata": {},
   "outputs": [],
   "source": [
    "import pandas as pd\n",
    "import numpy as np\n",
    "import plotly.graph_objects as go\n",
    "from plotly.subplots import make_subplots\n",
    "\n",
    "import timeit\n",
    "import math\n",
    "\n",
    "from collections import defaultdict\n",
    "from random_matrix import *"
   ]
  },
  {
   "cell_type": "markdown",
   "metadata": {},
   "source": [
    "**Code**"
   ]
  },
  {
   "cell_type": "code",
   "execution_count": 2,
   "metadata": {},
   "outputs": [],
   "source": [
    "def randomized_power_iteration(A, omega=None, power_iter=3, random_state=None):\n",
    "    \"\"\"\n",
    "    Randomized subspace iteration with customizable projection matrix\n",
    "    \n",
    "    Parameters:\n",
    "    -----------\n",
    "    A : ndarray\n",
    "        Input matrix to approximate\n",
    "    rank : int\n",
    "        Target rank of approximation\n",
    "    omega : ndarray, optional\n",
    "        Custom projection matrix (shape n × (rank + oversampling))\n",
    "        If None, uses Gaussian random matrix\n",
    "    power_iter : int\n",
    "        Number of power iterations\n",
    "    random_state : int, optional\n",
    "        Random seed for reproducibility\n",
    "    \"\"\"\n",
    "    if random_state is not None:\n",
    "        np.random.seed(random_state)\n",
    "    \n",
    "    Y = omega @ A\n",
    "    for _ in range(power_iter):\n",
    "        Y = (Y @ A.T) @ A  # Power iteration for row space\n",
    "    \n",
    "    Q, _ = np.linalg.qr(Y)\n",
    "    return Q"
   ]
  },
  {
   "cell_type": "markdown",
   "metadata": {},
   "source": [
    "*Benchmarking*"
   ]
  },
  {
   "cell_type": "code",
   "execution_count": 3,
   "metadata": {},
   "outputs": [
    {
     "name": "stdout",
     "output_type": "stream",
     "text": [
      "Completed benchmarking for matrix size: 1000\n",
      "Completed benchmarking for matrix size: 1000\n",
      "Completed benchmarking for matrix size: 2000\n",
      "Completed benchmarking for matrix size: 2000\n",
      "Completed benchmarking for matrix size: 3000\n",
      "Completed benchmarking for matrix size: 3000\n",
      "Completed benchmarking for matrix size: 4000\n",
      "Completed benchmarking for matrix size: 4000\n",
      "Completed benchmarking for matrix size: 5000\n",
      "Completed benchmarking for matrix size: 5000\n"
     ]
    }
   ],
   "source": [
    "# Matrix Methods\n",
    "methods = {\n",
    "    \"Gaussian\": gaussian_random_matrix,\n",
    "    \"SRHT\": srht_matrix,\n",
    "    \"SRFT\": srft_matrix,\n",
    "    \"CountSketch\": countsketch_matrix,\n",
    "    \"Sparse JL\": lambda n, k, seed: sparse_jl_matrix(n, k, s=3, seed=seed)\n",
    "}\n",
    "\n",
    "# Parameters\n",
    "sizes = np.arange(1_000, 5_001, 1_000)\n",
    "runs = 10\n",
    "q = 2  # Number of power iterations for RPI\n",
    "\n",
    "rows = []\n",
    "for n in sizes:\n",
    "    # Generate Random Matrix A to Project\n",
    "    np.random.seed(1)\n",
    "    m = int(0.75*n)\n",
    "    for density,label in [(1.0,'dense'),(0.01,'sparse')]:\n",
    "        A,_,_ = generate_synthetic_matrix(m,n,delta = density,seed = 1) \n",
    "        for method_name, method in methods.items():\n",
    "            generation_times = []\n",
    "            projection_times = []\n",
    "            rpi_times = []\n",
    "            total_times = []\n",
    "            \n",
    "            for i in range(runs):\n",
    "                seed = i + 1\n",
    "\n",
    "                # Time projection matrix generation\n",
    "                timer_proj = timeit.Timer(lambda: method(n, m, seed=seed))\n",
    "                generation_time = timer_proj.timeit(number=1)  # Single run as creation is deterministic per seed\n",
    "                \n",
    "                # Generate projection matrix\n",
    "                sigma = method(n, m, seed=seed)\n",
    "                \n",
    "                # Time projection operation\n",
    "                timer_mult = timeit.Timer(lambda: sigma @ A)\n",
    "                mult_time = timer_mult.timeit(number=1) \n",
    "                \n",
    "                # Time RPI operation\n",
    "                timer_rpi = timeit.Timer(lambda: randomized_power_iteration(A = A, omega = sigma, power_iter = q))\n",
    "                rpi_time = timer_rpi.timeit(number=1)\n",
    "                \n",
    "                generation_times.append(generation_time)\n",
    "                projection_times.append(mult_time)\n",
    "                rpi_times.append(rpi_time)\n",
    "                total_times.append(generation_time + mult_time + rpi_time)\n",
    "            \n",
    "            # Store average times\n",
    "            rows.append(\n",
    "                {\n",
    "                    'Method':method_name,\n",
    "                    'Size':n,\n",
    "                    'Density':label,\n",
    "                    'Generation Time': np.mean(generation_times),\n",
    "                    'Projection Time': np.mean(projection_times),\n",
    "                    'RPI Time':np.mean(rpi_times),\n",
    "                    'Total Time': np.mean(total_times)  \n",
    "                }\n",
    "            )\n",
    "        print(f'Completed benchmarking for matrix size: {n}')"
   ]
  },
  {
   "cell_type": "code",
   "execution_count": 6,
   "metadata": {},
   "outputs": [
    {
     "data": {
      "text/html": [
       "<div>\n",
       "<style scoped>\n",
       "    .dataframe tbody tr th:only-of-type {\n",
       "        vertical-align: middle;\n",
       "    }\n",
       "\n",
       "    .dataframe tbody tr th {\n",
       "        vertical-align: top;\n",
       "    }\n",
       "\n",
       "    .dataframe thead th {\n",
       "        text-align: right;\n",
       "    }\n",
       "</style>\n",
       "<table border=\"1\" class=\"dataframe\">\n",
       "  <thead>\n",
       "    <tr style=\"text-align: right;\">\n",
       "      <th></th>\n",
       "      <th>Method</th>\n",
       "      <th>Size</th>\n",
       "      <th>Density</th>\n",
       "      <th>Generation Time</th>\n",
       "      <th>Projection Time</th>\n",
       "      <th>RPI Time</th>\n",
       "      <th>Total Time</th>\n",
       "    </tr>\n",
       "  </thead>\n",
       "  <tbody>\n",
       "    <tr>\n",
       "      <th>0</th>\n",
       "      <td>Gaussian</td>\n",
       "      <td>1000</td>\n",
       "      <td>dense</td>\n",
       "      <td>0.008471</td>\n",
       "      <td>0.003362</td>\n",
       "      <td>0.030965</td>\n",
       "      <td>0.042798</td>\n",
       "    </tr>\n",
       "    <tr>\n",
       "      <th>1</th>\n",
       "      <td>SRHT</td>\n",
       "      <td>1000</td>\n",
       "      <td>dense</td>\n",
       "      <td>0.005078</td>\n",
       "      <td>0.003263</td>\n",
       "      <td>0.030746</td>\n",
       "      <td>0.039087</td>\n",
       "    </tr>\n",
       "    <tr>\n",
       "      <th>2</th>\n",
       "      <td>SRFT</td>\n",
       "      <td>1000</td>\n",
       "      <td>dense</td>\n",
       "      <td>0.010334</td>\n",
       "      <td>0.003345</td>\n",
       "      <td>0.031328</td>\n",
       "      <td>0.045007</td>\n",
       "    </tr>\n",
       "    <tr>\n",
       "      <th>3</th>\n",
       "      <td>CountSketch</td>\n",
       "      <td>1000</td>\n",
       "      <td>dense</td>\n",
       "      <td>0.000298</td>\n",
       "      <td>0.000546</td>\n",
       "      <td>0.028622</td>\n",
       "      <td>0.029466</td>\n",
       "    </tr>\n",
       "    <tr>\n",
       "      <th>4</th>\n",
       "      <td>Sparse JL</td>\n",
       "      <td>1000</td>\n",
       "      <td>dense</td>\n",
       "      <td>0.000299</td>\n",
       "      <td>0.000605</td>\n",
       "      <td>0.030628</td>\n",
       "      <td>0.031531</td>\n",
       "    </tr>\n",
       "  </tbody>\n",
       "</table>\n",
       "</div>"
      ],
      "text/plain": [
       "        Method  Size Density  Generation Time  Projection Time  RPI Time  \\\n",
       "0     Gaussian  1000   dense         0.008471         0.003362  0.030965   \n",
       "1         SRHT  1000   dense         0.005078         0.003263  0.030746   \n",
       "2         SRFT  1000   dense         0.010334         0.003345  0.031328   \n",
       "3  CountSketch  1000   dense         0.000298         0.000546  0.028622   \n",
       "4    Sparse JL  1000   dense         0.000299         0.000605  0.030628   \n",
       "\n",
       "   Total Time  \n",
       "0    0.042798  \n",
       "1    0.039087  \n",
       "2    0.045007  \n",
       "3    0.029466  \n",
       "4    0.031531  "
      ]
     },
     "execution_count": 6,
     "metadata": {},
     "output_type": "execute_result"
    }
   ],
   "source": [
    "summary_df = pd.DataFrame(rows)\n",
    "summary_df.head()"
   ]
  },
  {
   "cell_type": "markdown",
   "metadata": {},
   "source": [
    "***Figure 1: Generation Cost***"
   ]
  },
  {
   "cell_type": "code",
   "execution_count": 14,
   "metadata": {},
   "outputs": [
    {
     "data": {
      "application/vnd.plotly.v1+json": {
       "config": {
        "plotlyServerURL": "https://plot.ly"
       },
       "data": [
        {
         "name": "Gaussian",
         "type": "scatter",
         "x": {
          "bdata": "6APQB7gLoA+IEw==",
          "dtype": "i2"
         },
         "y": {
          "bdata": "zZbTVAVZgT9AwG2a9L+gP5q77x3XNLQ/zfmiKTEiwj8ASNrM64jNPw==",
          "dtype": "f8"
         }
        },
        {
         "name": "SRHT",
         "type": "scatter",
         "x": {
          "bdata": "6APQB7gLoA+IEw==",
          "dtype": "i2"
         },
         "y": {
          "bdata": "ZhtPkIjMdD/Nsm5VNMObP81TGwIi6bY/AOifApZTvD/NvKGwUHLXPw==",
          "dtype": "f8"
         }
        },
        {
         "name": "SRFT",
         "type": "scatter",
         "x": {
          "bdata": "6APQB7gLoA+IEw==",
          "dtype": "i2"
         },
         "y": {
          "bdata": "ZhvHL8cphT8zHf0lZS+iPwALJbWGycE/M83MYAwEzz9m9PtmsRDcPw==",
          "dtype": "f8"
         }
        },
        {
         "name": "CountSketch",
         "type": "scatter",
         "x": {
          "bdata": "6APQB7gLoA+IEw==",
          "dtype": "i2"
         },
         "y": {
          "bdata": "zUy2Z3mKMz8AgO9NeK4kP2ZmEGcXLig/AABQfn8AKj/NzHxfyI8tPw==",
          "dtype": "f8"
         }
        },
        {
         "name": "Sparse JL",
         "type": "scatter",
         "x": {
          "bdata": "6APQB7gLoA+IEw==",
          "dtype": "i2"
         },
         "y": {
          "bdata": "AOBrhuiQMz/NTI1VDJA2PzMzcz9umjo/AAAov/uZQD+amVF5YxxGPw==",
          "dtype": "f8"
         }
        }
       ],
       "layout": {
        "font": {
         "size": 8
        },
        "height": 400,
        "legend": {
         "orientation": "h",
         "x": 0.5,
         "xanchor": "center",
         "y": -0.2,
         "yanchor": "top"
        },
        "margin": {
         "b": 40,
         "l": 20,
         "r": 20,
         "t": 40
        },
        "template": {
         "data": {
          "bar": [
           {
            "error_x": {
             "color": "#2a3f5f"
            },
            "error_y": {
             "color": "#2a3f5f"
            },
            "marker": {
             "line": {
              "color": "white",
              "width": 0.5
             },
             "pattern": {
              "fillmode": "overlay",
              "size": 10,
              "solidity": 0.2
             }
            },
            "type": "bar"
           }
          ],
          "barpolar": [
           {
            "marker": {
             "line": {
              "color": "white",
              "width": 0.5
             },
             "pattern": {
              "fillmode": "overlay",
              "size": 10,
              "solidity": 0.2
             }
            },
            "type": "barpolar"
           }
          ],
          "carpet": [
           {
            "aaxis": {
             "endlinecolor": "#2a3f5f",
             "gridcolor": "#C8D4E3",
             "linecolor": "#C8D4E3",
             "minorgridcolor": "#C8D4E3",
             "startlinecolor": "#2a3f5f"
            },
            "baxis": {
             "endlinecolor": "#2a3f5f",
             "gridcolor": "#C8D4E3",
             "linecolor": "#C8D4E3",
             "minorgridcolor": "#C8D4E3",
             "startlinecolor": "#2a3f5f"
            },
            "type": "carpet"
           }
          ],
          "choropleth": [
           {
            "colorbar": {
             "outlinewidth": 0,
             "ticks": ""
            },
            "type": "choropleth"
           }
          ],
          "contour": [
           {
            "colorbar": {
             "outlinewidth": 0,
             "ticks": ""
            },
            "colorscale": [
             [
              0,
              "#0d0887"
             ],
             [
              0.1111111111111111,
              "#46039f"
             ],
             [
              0.2222222222222222,
              "#7201a8"
             ],
             [
              0.3333333333333333,
              "#9c179e"
             ],
             [
              0.4444444444444444,
              "#bd3786"
             ],
             [
              0.5555555555555556,
              "#d8576b"
             ],
             [
              0.6666666666666666,
              "#ed7953"
             ],
             [
              0.7777777777777778,
              "#fb9f3a"
             ],
             [
              0.8888888888888888,
              "#fdca26"
             ],
             [
              1,
              "#f0f921"
             ]
            ],
            "type": "contour"
           }
          ],
          "contourcarpet": [
           {
            "colorbar": {
             "outlinewidth": 0,
             "ticks": ""
            },
            "type": "contourcarpet"
           }
          ],
          "heatmap": [
           {
            "colorbar": {
             "outlinewidth": 0,
             "ticks": ""
            },
            "colorscale": [
             [
              0,
              "#0d0887"
             ],
             [
              0.1111111111111111,
              "#46039f"
             ],
             [
              0.2222222222222222,
              "#7201a8"
             ],
             [
              0.3333333333333333,
              "#9c179e"
             ],
             [
              0.4444444444444444,
              "#bd3786"
             ],
             [
              0.5555555555555556,
              "#d8576b"
             ],
             [
              0.6666666666666666,
              "#ed7953"
             ],
             [
              0.7777777777777778,
              "#fb9f3a"
             ],
             [
              0.8888888888888888,
              "#fdca26"
             ],
             [
              1,
              "#f0f921"
             ]
            ],
            "type": "heatmap"
           }
          ],
          "histogram": [
           {
            "marker": {
             "pattern": {
              "fillmode": "overlay",
              "size": 10,
              "solidity": 0.2
             }
            },
            "type": "histogram"
           }
          ],
          "histogram2d": [
           {
            "colorbar": {
             "outlinewidth": 0,
             "ticks": ""
            },
            "colorscale": [
             [
              0,
              "#0d0887"
             ],
             [
              0.1111111111111111,
              "#46039f"
             ],
             [
              0.2222222222222222,
              "#7201a8"
             ],
             [
              0.3333333333333333,
              "#9c179e"
             ],
             [
              0.4444444444444444,
              "#bd3786"
             ],
             [
              0.5555555555555556,
              "#d8576b"
             ],
             [
              0.6666666666666666,
              "#ed7953"
             ],
             [
              0.7777777777777778,
              "#fb9f3a"
             ],
             [
              0.8888888888888888,
              "#fdca26"
             ],
             [
              1,
              "#f0f921"
             ]
            ],
            "type": "histogram2d"
           }
          ],
          "histogram2dcontour": [
           {
            "colorbar": {
             "outlinewidth": 0,
             "ticks": ""
            },
            "colorscale": [
             [
              0,
              "#0d0887"
             ],
             [
              0.1111111111111111,
              "#46039f"
             ],
             [
              0.2222222222222222,
              "#7201a8"
             ],
             [
              0.3333333333333333,
              "#9c179e"
             ],
             [
              0.4444444444444444,
              "#bd3786"
             ],
             [
              0.5555555555555556,
              "#d8576b"
             ],
             [
              0.6666666666666666,
              "#ed7953"
             ],
             [
              0.7777777777777778,
              "#fb9f3a"
             ],
             [
              0.8888888888888888,
              "#fdca26"
             ],
             [
              1,
              "#f0f921"
             ]
            ],
            "type": "histogram2dcontour"
           }
          ],
          "mesh3d": [
           {
            "colorbar": {
             "outlinewidth": 0,
             "ticks": ""
            },
            "type": "mesh3d"
           }
          ],
          "parcoords": [
           {
            "line": {
             "colorbar": {
              "outlinewidth": 0,
              "ticks": ""
             }
            },
            "type": "parcoords"
           }
          ],
          "pie": [
           {
            "automargin": true,
            "type": "pie"
           }
          ],
          "scatter": [
           {
            "fillpattern": {
             "fillmode": "overlay",
             "size": 10,
             "solidity": 0.2
            },
            "type": "scatter"
           }
          ],
          "scatter3d": [
           {
            "line": {
             "colorbar": {
              "outlinewidth": 0,
              "ticks": ""
             }
            },
            "marker": {
             "colorbar": {
              "outlinewidth": 0,
              "ticks": ""
             }
            },
            "type": "scatter3d"
           }
          ],
          "scattercarpet": [
           {
            "marker": {
             "colorbar": {
              "outlinewidth": 0,
              "ticks": ""
             }
            },
            "type": "scattercarpet"
           }
          ],
          "scattergeo": [
           {
            "marker": {
             "colorbar": {
              "outlinewidth": 0,
              "ticks": ""
             }
            },
            "type": "scattergeo"
           }
          ],
          "scattergl": [
           {
            "marker": {
             "colorbar": {
              "outlinewidth": 0,
              "ticks": ""
             }
            },
            "type": "scattergl"
           }
          ],
          "scattermap": [
           {
            "marker": {
             "colorbar": {
              "outlinewidth": 0,
              "ticks": ""
             }
            },
            "type": "scattermap"
           }
          ],
          "scattermapbox": [
           {
            "marker": {
             "colorbar": {
              "outlinewidth": 0,
              "ticks": ""
             }
            },
            "type": "scattermapbox"
           }
          ],
          "scatterpolar": [
           {
            "marker": {
             "colorbar": {
              "outlinewidth": 0,
              "ticks": ""
             }
            },
            "type": "scatterpolar"
           }
          ],
          "scatterpolargl": [
           {
            "marker": {
             "colorbar": {
              "outlinewidth": 0,
              "ticks": ""
             }
            },
            "type": "scatterpolargl"
           }
          ],
          "scatterternary": [
           {
            "marker": {
             "colorbar": {
              "outlinewidth": 0,
              "ticks": ""
             }
            },
            "type": "scatterternary"
           }
          ],
          "surface": [
           {
            "colorbar": {
             "outlinewidth": 0,
             "ticks": ""
            },
            "colorscale": [
             [
              0,
              "#0d0887"
             ],
             [
              0.1111111111111111,
              "#46039f"
             ],
             [
              0.2222222222222222,
              "#7201a8"
             ],
             [
              0.3333333333333333,
              "#9c179e"
             ],
             [
              0.4444444444444444,
              "#bd3786"
             ],
             [
              0.5555555555555556,
              "#d8576b"
             ],
             [
              0.6666666666666666,
              "#ed7953"
             ],
             [
              0.7777777777777778,
              "#fb9f3a"
             ],
             [
              0.8888888888888888,
              "#fdca26"
             ],
             [
              1,
              "#f0f921"
             ]
            ],
            "type": "surface"
           }
          ],
          "table": [
           {
            "cells": {
             "fill": {
              "color": "#EBF0F8"
             },
             "line": {
              "color": "white"
             }
            },
            "header": {
             "fill": {
              "color": "#C8D4E3"
             },
             "line": {
              "color": "white"
             }
            },
            "type": "table"
           }
          ]
         },
         "layout": {
          "annotationdefaults": {
           "arrowcolor": "#2a3f5f",
           "arrowhead": 0,
           "arrowwidth": 1
          },
          "autotypenumbers": "strict",
          "coloraxis": {
           "colorbar": {
            "outlinewidth": 0,
            "ticks": ""
           }
          },
          "colorscale": {
           "diverging": [
            [
             0,
             "#8e0152"
            ],
            [
             0.1,
             "#c51b7d"
            ],
            [
             0.2,
             "#de77ae"
            ],
            [
             0.3,
             "#f1b6da"
            ],
            [
             0.4,
             "#fde0ef"
            ],
            [
             0.5,
             "#f7f7f7"
            ],
            [
             0.6,
             "#e6f5d0"
            ],
            [
             0.7,
             "#b8e186"
            ],
            [
             0.8,
             "#7fbc41"
            ],
            [
             0.9,
             "#4d9221"
            ],
            [
             1,
             "#276419"
            ]
           ],
           "sequential": [
            [
             0,
             "#0d0887"
            ],
            [
             0.1111111111111111,
             "#46039f"
            ],
            [
             0.2222222222222222,
             "#7201a8"
            ],
            [
             0.3333333333333333,
             "#9c179e"
            ],
            [
             0.4444444444444444,
             "#bd3786"
            ],
            [
             0.5555555555555556,
             "#d8576b"
            ],
            [
             0.6666666666666666,
             "#ed7953"
            ],
            [
             0.7777777777777778,
             "#fb9f3a"
            ],
            [
             0.8888888888888888,
             "#fdca26"
            ],
            [
             1,
             "#f0f921"
            ]
           ],
           "sequentialminus": [
            [
             0,
             "#0d0887"
            ],
            [
             0.1111111111111111,
             "#46039f"
            ],
            [
             0.2222222222222222,
             "#7201a8"
            ],
            [
             0.3333333333333333,
             "#9c179e"
            ],
            [
             0.4444444444444444,
             "#bd3786"
            ],
            [
             0.5555555555555556,
             "#d8576b"
            ],
            [
             0.6666666666666666,
             "#ed7953"
            ],
            [
             0.7777777777777778,
             "#fb9f3a"
            ],
            [
             0.8888888888888888,
             "#fdca26"
            ],
            [
             1,
             "#f0f921"
            ]
           ]
          },
          "colorway": [
           "#636efa",
           "#EF553B",
           "#00cc96",
           "#ab63fa",
           "#FFA15A",
           "#19d3f3",
           "#FF6692",
           "#B6E880",
           "#FF97FF",
           "#FECB52"
          ],
          "font": {
           "color": "#2a3f5f"
          },
          "geo": {
           "bgcolor": "white",
           "lakecolor": "white",
           "landcolor": "white",
           "showlakes": true,
           "showland": true,
           "subunitcolor": "#C8D4E3"
          },
          "hoverlabel": {
           "align": "left"
          },
          "hovermode": "closest",
          "mapbox": {
           "style": "light"
          },
          "paper_bgcolor": "white",
          "plot_bgcolor": "white",
          "polar": {
           "angularaxis": {
            "gridcolor": "#EBF0F8",
            "linecolor": "#EBF0F8",
            "ticks": ""
           },
           "bgcolor": "white",
           "radialaxis": {
            "gridcolor": "#EBF0F8",
            "linecolor": "#EBF0F8",
            "ticks": ""
           }
          },
          "scene": {
           "xaxis": {
            "backgroundcolor": "white",
            "gridcolor": "#DFE8F3",
            "gridwidth": 2,
            "linecolor": "#EBF0F8",
            "showbackground": true,
            "ticks": "",
            "zerolinecolor": "#EBF0F8"
           },
           "yaxis": {
            "backgroundcolor": "white",
            "gridcolor": "#DFE8F3",
            "gridwidth": 2,
            "linecolor": "#EBF0F8",
            "showbackground": true,
            "ticks": "",
            "zerolinecolor": "#EBF0F8"
           },
           "zaxis": {
            "backgroundcolor": "white",
            "gridcolor": "#DFE8F3",
            "gridwidth": 2,
            "linecolor": "#EBF0F8",
            "showbackground": true,
            "ticks": "",
            "zerolinecolor": "#EBF0F8"
           }
          },
          "shapedefaults": {
           "line": {
            "color": "#2a3f5f"
           }
          },
          "ternary": {
           "aaxis": {
            "gridcolor": "#DFE8F3",
            "linecolor": "#A2B1C6",
            "ticks": ""
           },
           "baxis": {
            "gridcolor": "#DFE8F3",
            "linecolor": "#A2B1C6",
            "ticks": ""
           },
           "bgcolor": "white",
           "caxis": {
            "gridcolor": "#DFE8F3",
            "linecolor": "#A2B1C6",
            "ticks": ""
           }
          },
          "title": {
           "x": 0.05
          },
          "xaxis": {
           "automargin": true,
           "gridcolor": "#EBF0F8",
           "linecolor": "#EBF0F8",
           "ticks": "",
           "title": {
            "standoff": 15
           },
           "zerolinecolor": "#EBF0F8",
           "zerolinewidth": 2
          },
          "yaxis": {
           "automargin": true,
           "gridcolor": "#EBF0F8",
           "linecolor": "#EBF0F8",
           "ticks": "",
           "title": {
            "standoff": 15
           },
           "zerolinecolor": "#EBF0F8",
           "zerolinewidth": 2
          }
         }
        },
        "title": {
         "text": "Generation Time (s) vs Matrix Size by Compression Algorithm"
        },
        "width": 500,
        "xaxis": {
         "title": {
          "text": "Size (n)"
         }
        },
        "yaxis": {
         "title": {
          "text": "Time (s)"
         }
        }
       }
      }
     },
     "metadata": {},
     "output_type": "display_data"
    }
   ],
   "source": [
    "fig = go.Figure()\n",
    "\n",
    "_df = summary_df[summary_df['Density'] == 'dense']\n",
    "for method in _df['Method'].unique():\n",
    "    \n",
    "    fig.add_trace(\n",
    "        go.Scatter(\n",
    "            x = _df[_df['Method']==method]['Size'],\n",
    "            y = _df[_df['Method']==method]['Generation Time'],\n",
    "            name = method\n",
    "        ),\n",
    "    )\n",
    "\n",
    "fig.update_layout(\n",
    "    title = 'Generation Time (s) vs Matrix Size by Compression Algorithm',\n",
    "    xaxis_title = 'Size (n)',\n",
    "    yaxis_title = 'Time (s)',\n",
    "    template = 'plotly_white',\n",
    "        legend=dict(\n",
    "        orientation=\"h\",  # horizontal\n",
    "        y=-0.2,           # move legend below the plot\n",
    "        x=0.5,\n",
    "        xanchor=\"center\",\n",
    "        yanchor=\"top\"\n",
    "    ),\n",
    "    font=dict(\n",
    "        size=8  # or whatever smaller size you want\n",
    "    ),\n",
    "    margin=dict(\n",
    "        l=20,  # left margin\n",
    "        r=20,  # right margin\n",
    "        t=40,  # top margin\n",
    "        b=40   # bottom margin\n",
    "    ),\n",
    "    width = 500,\n",
    "    height = 400\n",
    ")\n",
    "fig.show()"
   ]
  },
  {
   "cell_type": "markdown",
   "metadata": {},
   "source": [
    "***Figure 2: Projection Cost***"
   ]
  },
  {
   "cell_type": "code",
   "execution_count": null,
   "metadata": {},
   "outputs": [],
   "source": [
    "fig = make_subplots(rows = 1, cols = 2,\n",
    "                    subplot_titles=['Dense','Sparse'])\n",
    "\n",
    "_df = summary_df[summary_df['Density'] == 'dense']\n",
    "for method in _df['Method'].unique():\n",
    "\n",
    "    fig.add_trace(\n",
    "        go.Scatter(\n",
    "            x = _df[_df['Method'] == method]['Size'],\n",
    "            y = _df[_df['Method'] == method]['Projection Time'],\n",
    "            name = method\n",
    "        ),\n",
    "        row=1,col=1\n",
    "    )\n",
    "\n",
    "_df = summary_df[summary_df['Density'] == 'sparse']\n",
    "for method in _df['Method'].unique():\n",
    "    fig.add_trace(\n",
    "        go.Scatter(\n",
    "            x = _df[_df['Method'] == method]['Size'],\n",
    "            y = _df[_df['Method'] == method]['Projection Time'],\n",
    "            name = method\n",
    "        ),\n",
    "        row=1,col=2\n",
    "    )\n",
    "\n",
    "fig.update_layout(\n",
    "    title = 'Sparse vs Dense Matrix Projection Cost by Test Matrix',\n",
    "    xaxis_title = 'Size (n)',\n",
    "    yaxis_title = 'Time (s)',\n",
    "    template = 'plotly_white' \n",
    "\n",
    ")\n",
    "\n",
    "fig.show()"
   ]
  },
  {
   "cell_type": "markdown",
   "metadata": {},
   "source": [
    "***Figure 3: Randomized Power Iteration Cost***"
   ]
  },
  {
   "cell_type": "code",
   "execution_count": null,
   "metadata": {},
   "outputs": [],
   "source": [
    "fig = make_subplots(rows = 1, cols = 2,\n",
    "                    subplot_titles=['Dense','Sparse'])\n",
    "\n",
    "_df = summary_df[summary_df['Density'] == 'dense']\n",
    "for method in _df['Method'].unique():\n",
    "\n",
    "    fig.add_trace(\n",
    "        go.Scatter(\n",
    "            x = _df[_df['Method'] == method]['Size'],\n",
    "            y = _df[_df['Method'] == method]['RPI Time'],\n",
    "            name = method\n",
    "        ),\n",
    "        row=1,col=1\n",
    "    )\n",
    "\n",
    "_df = summary_df[summary_df['Density'] == 'sparse']\n",
    "for method in _df['Method'].unique():\n",
    "    fig.add_trace(\n",
    "        go.Scatter(\n",
    "            x = _df[_df['Method'] == method]['Size'],\n",
    "            y = _df[_df['Method'] == method]['RPI Time'],\n",
    "            name = method\n",
    "        ),\n",
    "        row=1,col=2\n",
    "    )\n",
    "\n",
    "fig.update_layout(\n",
    "    title = 'Sparse vs Dense Matrix RPI Cost (q = 4) t by Test Matrix',\n",
    "    xaxis_title = 'Size (n)',\n",
    "    yaxis_title = 'Time (s)',\n",
    "    template = 'plotly_white' \n",
    "\n",
    ")\n",
    "\n",
    "fig.show()"
   ]
  },
  {
   "cell_type": "code",
   "execution_count": null,
   "metadata": {},
   "outputs": [],
   "source": []
  }
 ],
 "metadata": {
  "kernelspec": {
   "display_name": ".venv",
   "language": "python",
   "name": "python3"
  },
  "language_info": {
   "codemirror_mode": {
    "name": "ipython",
    "version": 3
   },
   "file_extension": ".py",
   "mimetype": "text/x-python",
   "name": "python",
   "nbconvert_exporter": "python",
   "pygments_lexer": "ipython3",
   "version": "3.9.6"
  }
 },
 "nbformat": 4,
 "nbformat_minor": 2
}
