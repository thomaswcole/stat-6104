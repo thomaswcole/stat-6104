{
 "cells": [
  {
   "cell_type": "markdown",
   "metadata": {},
   "source": [
    "**Section 3: Compression Algorithms**"
   ]
  },
  {
   "cell_type": "markdown",
   "metadata": {},
   "source": [
    "*Imports*"
   ]
  },
  {
   "cell_type": "code",
   "execution_count": null,
   "metadata": {},
   "outputs": [],
   "source": [
    "import pandas as pd\n",
    "import numpy as np\n",
    "import plotly.graph_objects as go\n",
    "from plotly.subplots import make_subplots\n",
    "\n",
    "import timeit\n",
    "import math\n",
    "\n",
    "from collections import defaultdict\n",
    "from random_matrix import *"
   ]
  },
  {
   "cell_type": "markdown",
   "metadata": {},
   "source": [
    "**Code**"
   ]
  },
  {
   "cell_type": "code",
   "execution_count": null,
   "metadata": {},
   "outputs": [],
   "source": [
    "def randomized_power_iteration(A, omega=None, power_iter=3, random_state=None):\n",
    "    \"\"\"\n",
    "    Randomized subspace iteration with customizable projection matrix\n",
    "    \n",
    "    Parameters:\n",
    "    -----------\n",
    "    A : ndarray\n",
    "        Input matrix to approximate\n",
    "    rank : int\n",
    "        Target rank of approximation\n",
    "    omega : ndarray, optional\n",
    "        Custom projection matrix (shape n × (rank + oversampling))\n",
    "        If None, uses Gaussian random matrix\n",
    "    power_iter : int\n",
    "        Number of power iterations\n",
    "    random_state : int, optional\n",
    "        Random seed for reproducibility\n",
    "    \"\"\"\n",
    "    if random_state is not None:\n",
    "        np.random.seed(random_state)\n",
    "    \n",
    "    Y = omega @ A\n",
    "    for _ in range(power_iter):\n",
    "        Y = (Y @ A.T) @ A  # Power iteration for row space\n",
    "    \n",
    "    Q, _ = np.linalg.qr(Y)\n",
    "    return Q"
   ]
  },
  {
   "cell_type": "markdown",
   "metadata": {},
   "source": [
    "*Benchmarking*"
   ]
  },
  {
   "cell_type": "code",
   "execution_count": null,
   "metadata": {},
   "outputs": [],
   "source": [
    "# Matrix Methods\n",
    "methods = {\n",
    "    \"Gaussian\": gaussian_random_matrix,\n",
    "    \"SRHT\": srht_matrix,\n",
    "    \"SRFT\": srft_matrix,\n",
    "    \"CountSketch\": countsketch_matrix,\n",
    "    \"Sparse JL\": lambda n, k, seed: sparse_jl_matrix(n, k, s=3, seed=seed)\n",
    "}\n",
    "\n",
    "# Parameters\n",
    "sizes = np.arange(1_000, 5_001, 1_000)\n",
    "runs = 10\n",
    "q = 2  # Number of power iterations for RPI\n",
    "\n",
    "rows = []\n",
    "for n in sizes:\n",
    "    # Generate Random Matrix A to Project\n",
    "    np.random.seed(1)\n",
    "    m = int(0.75*n)\n",
    "    for density,label in [(1.0,'dense'),(0.01,'sparse')]:\n",
    "        A,_,_ = generate_synthetic_matrix(m,n,delta = density,seed = 1) \n",
    "        for method_name, method in methods.items():\n",
    "            generation_times = []\n",
    "            projection_times = []\n",
    "            rpi_times = []\n",
    "            total_times = []\n",
    "            \n",
    "            for i in range(runs):\n",
    "                seed = i + 1\n",
    "\n",
    "                # Time projection matrix generation\n",
    "                timer_proj = timeit.Timer(lambda: method(n, m, seed=seed))\n",
    "                generation_time = timer_proj.timeit(number=1)  # Single run as creation is deterministic per seed\n",
    "                \n",
    "                # Generate projection matrix\n",
    "                sigma = method(n, m, seed=seed)\n",
    "                \n",
    "                # Time projection operation\n",
    "                timer_mult = timeit.Timer(lambda: sigma @ A)\n",
    "                mult_time = timer_mult.timeit(number=1) \n",
    "                \n",
    "                # Time RPI operation\n",
    "                timer_rpi = timeit.Timer(lambda: randomized_power_iteration(A = A, omega = sigma, power_iter = q))\n",
    "                rpi_time = timer_rpi.timeit(number=1)\n",
    "                \n",
    "                generation_times.append(generation_time)\n",
    "                projection_times.append(mult_time)\n",
    "                rpi_times.append(rpi_time)\n",
    "                total_times.append(generation_time + mult_time + rpi_time)\n",
    "            \n",
    "            # Store average times\n",
    "            rows.append(\n",
    "                {\n",
    "                    'Method':method_name,\n",
    "                    'Size':n,\n",
    "                    'Density':label,\n",
    "                    'Generation Time': np.mean(generation_times),\n",
    "                    'Projection Time': np.mean(projection_times),\n",
    "                    'RPI Time':np.mean(rpi_times),\n",
    "                    'Total Time': np.mean(total_times)  \n",
    "                }\n",
    "            )\n",
    "        print(f'Completed benchmarking for matrix size: {n}')"
   ]
  },
  {
   "cell_type": "code",
   "execution_count": null,
   "metadata": {},
   "outputs": [],
   "source": [
    "summary_df = pd.DataFrame(rows)"
   ]
  },
  {
   "cell_type": "markdown",
   "metadata": {},
   "source": [
    "***Figure 1: Generation Cost***"
   ]
  },
  {
   "cell_type": "code",
   "execution_count": null,
   "metadata": {},
   "outputs": [],
   "source": [
    "fig = go.Figure()\n",
    "\n",
    "_df = summary_df[summary_df['Density'] == 'dense']\n",
    "for method in _df['Method'].unique():\n",
    "    \n",
    "    fig.add_trace(\n",
    "        go.Scatter(\n",
    "            x = _df[_df['Method']==method]['Size'],\n",
    "            y = _df[_df['Method']==method]['Generation Time'],\n",
    "            name = method\n",
    "        ),\n",
    "    )\n",
    "\n",
    "fig.update_layout(\n",
    "    title = 'Generation Time (s) vs Matrix Size by Compression Algorithm',\n",
    "    xaxis_title = 'Size (n)',\n",
    "    yaxis_title = 'Time (s)',\n",
    "    template = 'plotly_white'\n",
    ")\n",
    "fig.show()"
   ]
  },
  {
   "cell_type": "markdown",
   "metadata": {},
   "source": [
    "***Figure 2: Projection Cost***"
   ]
  },
  {
   "cell_type": "code",
   "execution_count": null,
   "metadata": {},
   "outputs": [],
   "source": [
    "fig = make_subplots(rows = 1, cols = 2,\n",
    "                    subplot_titles=['Dense','Sparse'])\n",
    "\n",
    "_df = summary_df[summary_df['Density'] == 'dense']\n",
    "for method in _df['Method'].unique():\n",
    "\n",
    "    fig.add_trace(\n",
    "        go.Scatter(\n",
    "            x = _df[_df['Method'] == method]['Size'],\n",
    "            y = _df[_df['Method'] == method]['Projection Time'],\n",
    "            name = method\n",
    "        ),\n",
    "        row=1,col=1\n",
    "    )\n",
    "\n",
    "_df = summary_df[summary_df['Density'] == 'sparse']\n",
    "for method in _df['Method'].unique():\n",
    "    fig.add_trace(\n",
    "        go.Scatter(\n",
    "            x = _df[_df['Method'] == method]['Size'],\n",
    "            y = _df[_df['Method'] == method]['Projection Time'],\n",
    "            name = method\n",
    "        ),\n",
    "        row=1,col=2\n",
    "    )\n",
    "\n",
    "fig.update_layout(\n",
    "    title = 'Sparse vs Dense Matrix Projection Cost by Test Matrix',\n",
    "    xaxis_title = 'Size (n)',\n",
    "    yaxis_title = 'Time (s)',\n",
    "    template = 'plotly_white' \n",
    "\n",
    ")\n",
    "\n",
    "fig.show()"
   ]
  },
  {
   "cell_type": "markdown",
   "metadata": {},
   "source": [
    "***Figure 3: Randomized Power Iteration Cost***"
   ]
  },
  {
   "cell_type": "code",
   "execution_count": null,
   "metadata": {},
   "outputs": [],
   "source": [
    "fig = make_subplots(rows = 1, cols = 2,\n",
    "                    subplot_titles=['Dense','Sparse'])\n",
    "\n",
    "_df = summary_df[summary_df['Density'] == 'dense']\n",
    "for method in _df['Method'].unique():\n",
    "\n",
    "    fig.add_trace(\n",
    "        go.Scatter(\n",
    "            x = _df[_df['Method'] == method]['Size'],\n",
    "            y = _df[_df['Method'] == method]['RPI Time'],\n",
    "            name = method\n",
    "        ),\n",
    "        row=1,col=1\n",
    "    )\n",
    "\n",
    "_df = summary_df[summary_df['Density'] == 'sparse']\n",
    "for method in _df['Method'].unique():\n",
    "    fig.add_trace(\n",
    "        go.Scatter(\n",
    "            x = _df[_df['Method'] == method]['Size'],\n",
    "            y = _df[_df['Method'] == method]['RPI Time'],\n",
    "            name = method\n",
    "        ),\n",
    "        row=1,col=2\n",
    "    )\n",
    "\n",
    "fig.update_layout(\n",
    "    title = 'Sparse vs Dense Matrix RPI Cost (q = 4) t by Test Matrix',\n",
    "    xaxis_title = 'Size (n)',\n",
    "    yaxis_title = 'Time (s)',\n",
    "    template = 'plotly_white' \n",
    "\n",
    ")\n",
    "\n",
    "fig.show()"
   ]
  }
 ],
 "metadata": {
  "kernelspec": {
   "display_name": ".venv",
   "language": "python",
   "name": "python3"
  },
  "language_info": {
   "codemirror_mode": {
    "name": "ipython",
    "version": 3
   },
   "file_extension": ".py",
   "mimetype": "text/x-python",
   "name": "python",
   "nbconvert_exporter": "python",
   "pygments_lexer": "ipython3",
   "version": "3.9.6"
  }
 },
 "nbformat": 4,
 "nbformat_minor": 2
}
